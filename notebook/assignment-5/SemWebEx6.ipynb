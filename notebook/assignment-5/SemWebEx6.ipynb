{
 "cells": [
  {
   "cell_type": "code",
   "execution_count": 1,
   "metadata": {
    "deletable": false,
    "editable": false,
    "nbgrader": {
     "cell_type": "code",
     "checksum": "dcf5ac2ab7403387060a47fd9ccff088",
     "grade": false,
     "grade_id": "cell-80aba36ab7e1e364",
     "locked": true,
     "schema_version": 3,
     "solution": false,
     "task": false
    }
   },
   "outputs": [
    {
     "data": {
      "application/javascript": "\n    if (typeof IPython !== \"undefined\") {\n        IPython.CodeCell.options_default.highlight_modes['application/sparql-query'] = {'reg':[/^%%rdf sparql/]};\n        IPython.CodeCell.options_default.highlight_modes['text/turtle'] = {'reg':[/^%%rdf turtle/, /^%%rdf shex/]};\n        IPython.CodeCell.options_default.highlight_modes['application/ld+json'] = {'reg':[/^%%rdf json-ld/]};\n        IPython.notebook.get_cells().map(function(cell){ if (cell.cell_type == 'code'){ cell.auto_highlight(); } });\n    }\n    "
     },
     "metadata": {},
     "output_type": "display_data"
    }
   ],
   "source": [
    "%reload_ext jupyter-rdfify"
   ]
  },
  {
   "cell_type": "code",
   "execution_count": 2,
   "metadata": {
    "deletable": false,
    "editable": false,
    "nbgrader": {
     "cell_type": "code",
     "checksum": "815dd810a9958e8fb12f0b31a5275c16",
     "grade": true,
     "grade_id": "cell-f85fc016a4803480",
     "locked": true,
     "points": 0,
     "schema_version": 3,
     "solution": false,
     "task": false
    }
   },
   "outputs": [],
   "source": [
    "# This is a placeholder cell for test initialization. Ignore it."
   ]
  },
  {
   "cell_type": "markdown",
   "metadata": {
    "deletable": false,
    "editable": false,
    "nbgrader": {
     "cell_type": "markdown",
     "checksum": "f39fafb34d8c688f4d265bf65ef3dcac",
     "grade": false,
     "grade_id": "cell-4dfd48987044ad74",
     "locked": true,
     "schema_version": 3,
     "solution": false,
     "task": false
    }
   },
   "source": [
    "**This is a bonus sheet. The points you acquire in this sheet will count towards your exam admission but the sheet will not affect the total needed for the admission. Even if you already have your admission, we highly recommend working on this sheet as its content is relevant for the exam.**\n",
    "\n",
    "**If you have never worked with JSON before, it is highly recommended to learn it before working with JSON-LD. It is a very simple format and nicely explained [here](https://www.json.org/json-en.html).**\n",
    "\n",
    "The extension will treat everything on a line after \"###\" as comment but this is **not** JSON syntax!\n",
    "\n",
    "**Only edit cells with \"### YOUR SOLUTION HERE\". Any points lost because other cells were edited will not be restored.**"
   ]
  },
  {
   "cell_type": "markdown",
   "metadata": {
    "deletable": false,
    "editable": false,
    "nbgrader": {
     "cell_type": "markdown",
     "checksum": "3f535e894e7e86f3d92802bd3678dee1",
     "grade": false,
     "grade_id": "cell-296d0c2c44ab4f83",
     "locked": true,
     "schema_version": 3,
     "solution": false,
     "task": false
    }
   },
   "source": [
    "## Reminder: Prefixes\n",
    "\n",
    "As there was a lot of confusion concerning prefixes and CURIEs in the last exercises, here is a small reminder to prevent further errors.\n",
    "\n",
    "Let's say we have the three URIs &lt;http://example.org/#Rick&gt;, &lt;http://example.org/#Morty&gt; and &lt;http://example.org/#Character&gt;. Now we can use them in a Turtle graph as is:\n",
    "\n",
    "**&lt;http://example.org/#Rick&gt; a &lt;http://example.org/#Character&gt; .  \n",
    "&lt;http://example.org/#Morty&gt; a &lt;http://example.org/#Character&gt; .**\n",
    "\n",
    "This is hard to read and has a lot of repetition. As all three URIs begin with &lt;http://example.org/#&gt;, we can abbreviate them using prefixes. So we define a prefix and label it **ex:**. This gives us a much more readable graph:\n",
    "\n",
    "**PREFIX ex: &lt;http://example.org/#&gt;  \n",
    "ex:Rick a ex:Character .  \n",
    "ex:Morty a ex:Character .**\n",
    "\n",
    "**Some tips:**\n",
    "- **Try to always define them by hand. There were a lot of errors caused by copy and pasting wrong prefixes.**\n",
    "- **Check for typos! URIs are case sensitive and the tests only pass for an exact match.**\n",
    "- **The pound symbol (#) is part of the URI! &lt;http://example.org/Rick&gt; and &lt;http://example.org/#Rick&gt; are completely different URIs.**\n",
    "- **Prefixes do not change the graph! You don't have to use them if you don't want to.**\n",
    "\n",
    "**The cell below will define some prefixes which you may use in this entire sheet. Please note that these will only work in Turtle.**"
   ]
  },
  {
   "cell_type": "code",
   "execution_count": 3,
   "metadata": {
    "deletable": false,
    "editable": false,
    "nbgrader": {
     "cell_type": "code",
     "checksum": "4d8e2e712b18e618102b2904d2898b71",
     "grade": false,
     "grade_id": "cell-eeda6742ff20a244",
     "locked": true,
     "schema_version": 3,
     "solution": false,
     "task": false
    }
   },
   "outputs": [
    {
     "name": "stdout",
     "output_type": "stream",
     "text": [
      "Turtle: Stored prefix.\n"
     ]
    }
   ],
   "source": [
    "%%rdf turtle --prefix\n",
    "PREFIX xsd: <http://www.w3.org/2001/XMLSchema#>"
   ]
  },
  {
   "cell_type": "markdown",
   "metadata": {
    "deletable": false,
    "editable": false,
    "nbgrader": {
     "cell_type": "markdown",
     "checksum": "f1be93687f5a176a953e226a56b7ebbf",
     "grade": false,
     "grade_id": "cell-116cd86dbcb6e858",
     "locked": true,
     "schema_version": 3,
     "solution": false,
     "task": false
    }
   },
   "source": [
    "# JSON-LD\n",
    "\n",
    "JSON-LD is a W3C recommended RDF graph serialization format. It uses the wide spread JavaScript Object Notation (JSON) format.\n",
    "\n",
    "For more information on JSON-LD please consult the lecture slides (Linked Data Basics, Lecture 2b) or the [JSON-LD W3C recommendation](https://www.w3.org/TR/json-ld/)\n",
    "\n",
    "## Task 1: Understanding JSON-LD [3 points]\n",
    "Consider the following RDF graph in JSON-LD format (run the cell to get a visualisation):"
   ]
  },
  {
   "cell_type": "code",
   "execution_count": 4,
   "metadata": {
    "deletable": false,
    "editable": false,
    "nbgrader": {
     "cell_type": "code",
     "checksum": "dc4a2a43469d3920582d36d34fb5461a",
     "grade": false,
     "grade_id": "cell-2a975b3779244fac",
     "locked": true,
     "schema_version": 3,
     "solution": false,
     "task": false
    }
   },
   "outputs": [
    {
     "data": {
      "image/svg+xml": "<?xml version=\"1.0\" encoding=\"UTF-8\" standalone=\"no\"?>\n<!DOCTYPE svg PUBLIC \"-//W3C//DTD SVG 1.1//EN\"\n \"http://www.w3.org/Graphics/SVG/1.1/DTD/svg11.dtd\">\n<!-- Generated by graphviz version 5.0.1 (20220820.1526)\n -->\n<!-- Pages: 1 -->\n<svg width=\"738pt\" height=\"392pt\"\n viewBox=\"0.00 0.00 737.69 392.00\" xmlns=\"http://www.w3.org/2000/svg\" xmlns:xlink=\"http://www.w3.org/1999/xlink\">\n<g id=\"graph0\" class=\"graph\" transform=\"scale(1 1) rotate(0) translate(4 388)\">\n<polygon fill=\"white\" stroke=\"none\" points=\"-4,4 -4,-388 733.69,-388 733.69,4 -4,4\"/>\n<!-- 0 -->\n<g id=\"node1\" class=\"node\">\n<title>0</title>\n<ellipse fill=\"none\" stroke=\"black\" cx=\"63.69\" cy=\"-192\" rx=\"63.89\" ry=\"18\"/>\n<text text-anchor=\"middle\" x=\"63.69\" y=\"-188.3\" font-family=\"Times New Roman,serif\" font-size=\"14.00\">ex:OnlineShop</text>\n</g>\n<!-- 1 -->\n<g id=\"node2\" class=\"node\">\n<title>1</title>\n<ellipse fill=\"none\" stroke=\"black\" cx=\"527.69\" cy=\"-105\" rx=\"31.4\" ry=\"18\"/>\n<text text-anchor=\"middle\" x=\"527.69\" y=\"-101.3\" font-family=\"Times New Roman,serif\" font-size=\"14.00\">_:bn0</text>\n</g>\n<!-- 6 -->\n<g id=\"node7\" class=\"node\">\n<title>6</title>\n<polygon fill=\"none\" stroke=\"black\" points=\"519.19,-36 454.19,-36 454.19,0 519.19,0 519.19,-36\"/>\n<text text-anchor=\"middle\" x=\"486.69\" y=\"-14.3\" font-family=\"Times New Roman,serif\" font-size=\"14.00\">&quot;Masks&quot;</text>\n</g>\n<!-- 1&#45;&gt;6 -->\n<g id=\"edge9\" class=\"edge\">\n<title>1&#45;&gt;6</title>\n<path fill=\"none\" stroke=\"black\" d=\"M513.35,-88.94C508.42,-83.09 503.25,-76.1 499.69,-69 496.16,-61.94 493.52,-53.83 491.57,-46.22\"/>\n<polygon fill=\"black\" stroke=\"black\" points=\"494.95,-45.29 489.34,-36.3 488.12,-46.83 494.95,-45.29\"/>\n<text text-anchor=\"middle\" x=\"520.69\" y=\"-57.8\" font-family=\"Times New Roman,serif\" font-size=\"14.00\">rdf:first</text>\n</g>\n<!-- 7 -->\n<g id=\"node8\" class=\"node\">\n<title>7</title>\n<ellipse fill=\"none\" stroke=\"black\" cx=\"568.69\" cy=\"-18\" rx=\"31.7\" ry=\"18\"/>\n<text text-anchor=\"middle\" x=\"568.69\" y=\"-14.3\" font-family=\"Times New Roman,serif\" font-size=\"14.00\">rdf:nil</text>\n</g>\n<!-- 1&#45;&gt;7 -->\n<g id=\"edge4\" class=\"edge\">\n<title>1&#45;&gt;7</title>\n<path fill=\"none\" stroke=\"black\" d=\"M535.79,-87.21C541.67,-75.02 549.73,-58.32 556.4,-44.49\"/>\n<polygon fill=\"black\" stroke=\"black\" points=\"559.56,-46 560.75,-35.47 553.25,-42.96 559.56,-46\"/>\n<text text-anchor=\"middle\" x=\"569.69\" y=\"-57.8\" font-family=\"Times New Roman,serif\" font-size=\"14.00\">rdf:rest</text>\n</g>\n<!-- 2 -->\n<g id=\"node3\" class=\"node\">\n<title>2</title>\n<polygon fill=\"none\" stroke=\"black\" points=\"535.69,-210 461.69,-210 461.69,-174 535.69,-174 535.69,-210\"/>\n<text text-anchor=\"middle\" x=\"498.69\" y=\"-188.3\" font-family=\"Times New Roman,serif\" font-size=\"14.00\">&quot;Emazon&quot;</text>\n</g>\n<!-- 3 -->\n<g id=\"node4\" class=\"node\">\n<title>3</title>\n<ellipse fill=\"none\" stroke=\"black\" cx=\"339.69\" cy=\"-366\" rx=\"39.79\" ry=\"18\"/>\n<text text-anchor=\"middle\" x=\"339.69\" y=\"-362.3\" font-family=\"Times New Roman,serif\" font-size=\"14.00\">ex:eBuy</text>\n</g>\n<!-- 3&#45;&gt;0 -->\n<g id=\"edge2\" class=\"edge\">\n<title>3&#45;&gt;0</title>\n<path fill=\"none\" stroke=\"black\" d=\"M307.99,-355.01C274.11,-343.61 219.49,-323.12 176.69,-297 144.93,-277.61 139.97,-268.32 112.69,-243 103.83,-234.77 94.45,-225.38 86.3,-216.98\"/>\n<polygon fill=\"black\" stroke=\"black\" points=\"88.66,-214.39 79.2,-209.6 83.61,-219.24 88.66,-214.39\"/>\n<text text-anchor=\"middle\" x=\"198.69\" y=\"-275.3\" font-family=\"Times New Roman,serif\" font-size=\"14.00\">rdf:type</text>\n</g>\n<!-- 5 -->\n<g id=\"node6\" class=\"node\">\n<title>5</title>\n<polygon fill=\"none\" stroke=\"black\" points=\"431.19,-297 348.19,-297 348.19,-261 431.19,-261 431.19,-297\"/>\n<text text-anchor=\"middle\" x=\"389.69\" y=\"-275.3\" font-family=\"Times New Roman,serif\" font-size=\"14.00\">&quot;eBuy&quot;@en</text>\n</g>\n<!-- 3&#45;&gt;5 -->\n<g id=\"edge12\" class=\"edge\">\n<title>3&#45;&gt;5</title>\n<path fill=\"none\" stroke=\"black\" d=\"M352.8,-348.72C357.15,-342.97 361.86,-336.35 365.69,-330 370.22,-322.5 374.57,-314.01 378.28,-306.19\"/>\n<polygon fill=\"black\" stroke=\"black\" points=\"381.47,-307.63 382.47,-297.09 375.11,-304.71 381.47,-307.63\"/>\n<text text-anchor=\"middle\" x=\"396.69\" y=\"-318.8\" font-family=\"Times New Roman,serif\" font-size=\"14.00\">ex:name</text>\n</g>\n<!-- 10 -->\n<g id=\"node11\" class=\"node\">\n<title>10</title>\n<ellipse fill=\"none\" stroke=\"black\" cx=\"584.69\" cy=\"-279\" rx=\"31.4\" ry=\"18\"/>\n<text text-anchor=\"middle\" x=\"584.69\" y=\"-275.3\" font-family=\"Times New Roman,serif\" font-size=\"14.00\">_:bn1</text>\n</g>\n<!-- 3&#45;&gt;10 -->\n<g id=\"edge1\" class=\"edge\">\n<title>3&#45;&gt;10</title>\n<path fill=\"none\" stroke=\"black\" d=\"M370.23,-354.41C415.62,-338.66 500.7,-309.14 548.93,-292.41\"/>\n<polygon fill=\"black\" stroke=\"black\" points=\"550.34,-295.62 558.64,-289.04 548.04,-289.01 550.34,-295.62\"/>\n<text text-anchor=\"middle\" x=\"510.19\" y=\"-318.8\" font-family=\"Times New Roman,serif\" font-size=\"14.00\">ex:products</text>\n</g>\n<!-- 11 -->\n<g id=\"node12\" class=\"node\">\n<title>11</title>\n<ellipse fill=\"none\" stroke=\"black\" cx=\"279.69\" cy=\"-279\" rx=\"50.09\" ry=\"18\"/>\n<text text-anchor=\"middle\" x=\"279.69\" y=\"-275.3\" font-family=\"Times New Roman,serif\" font-size=\"14.00\">ex:Emazon</text>\n</g>\n<!-- 3&#45;&gt;11 -->\n<g id=\"edge3\" class=\"edge\">\n<title>3&#45;&gt;11</title>\n<path fill=\"none\" stroke=\"black\" d=\"M311.37,-353.4C301.3,-347.83 290.92,-340.12 284.69,-330 280.61,-323.36 278.76,-315.26 278.1,-307.53\"/>\n<polygon fill=\"black\" stroke=\"black\" points=\"281.59,-307.29 277.81,-297.4 274.59,-307.49 281.59,-307.29\"/>\n<text text-anchor=\"middle\" x=\"323.19\" y=\"-318.8\" font-family=\"Times New Roman,serif\" font-size=\"14.00\">ex:competitor</text>\n</g>\n<!-- 4 -->\n<g id=\"node5\" class=\"node\">\n<title>4</title>\n<polygon fill=\"none\" stroke=\"black\" points=\"672.19,-123 577.19,-123 577.19,-87 672.19,-87 672.19,-123\"/>\n<text text-anchor=\"middle\" x=\"624.69\" y=\"-101.3\" font-family=\"Times New Roman,serif\" font-size=\"14.00\">&quot;Disinfectant&quot;</text>\n</g>\n<!-- 8 -->\n<g id=\"node9\" class=\"node\">\n<title>8</title>\n<polygon fill=\"none\" stroke=\"black\" points=\"729.69,-210 633.69,-210 633.69,-174 729.69,-174 729.69,-210\"/>\n<text text-anchor=\"middle\" x=\"681.69\" y=\"-188.3\" font-family=\"Times New Roman,serif\" font-size=\"14.00\">&quot;Toilet paper&quot;</text>\n</g>\n<!-- 9 -->\n<g id=\"node10\" class=\"node\">\n<title>9</title>\n<polygon fill=\"none\" stroke=\"black\" points=\"255.69,-210 145.69,-210 145.69,-174 255.69,-174 255.69,-210\"/>\n<text text-anchor=\"middle\" x=\"200.69\" y=\"-188.3\" font-family=\"Times New Roman,serif\" font-size=\"14.00\">&quot;Emazon Prime&quot;</text>\n</g>\n<!-- 10&#45;&gt;8 -->\n<g id=\"edge7\" class=\"edge\">\n<title>10&#45;&gt;8</title>\n<path fill=\"none\" stroke=\"black\" d=\"M602.96,-264.03C610.98,-257.75 620.43,-250.16 628.69,-243 638.16,-234.8 648.23,-225.46 657.02,-217.1\"/>\n<polygon fill=\"black\" stroke=\"black\" points=\"659.58,-219.49 664.37,-210.05 654.73,-214.44 659.58,-219.49\"/>\n<text text-anchor=\"middle\" x=\"665.69\" y=\"-231.8\" font-family=\"Times New Roman,serif\" font-size=\"14.00\">rdf:first</text>\n</g>\n<!-- 13 -->\n<g id=\"node14\" class=\"node\">\n<title>13</title>\n<ellipse fill=\"none\" stroke=\"black\" cx=\"584.69\" cy=\"-192\" rx=\"31.4\" ry=\"18\"/>\n<text text-anchor=\"middle\" x=\"584.69\" y=\"-188.3\" font-family=\"Times New Roman,serif\" font-size=\"14.00\">_:bn2</text>\n</g>\n<!-- 10&#45;&gt;13 -->\n<g id=\"edge6\" class=\"edge\">\n<title>10&#45;&gt;13</title>\n<path fill=\"none\" stroke=\"black\" d=\"M584.69,-260.8C584.69,-249.16 584.69,-233.55 584.69,-220.24\"/>\n<polygon fill=\"black\" stroke=\"black\" points=\"588.19,-220.18 584.69,-210.18 581.19,-220.18 588.19,-220.18\"/>\n<text text-anchor=\"middle\" x=\"604.69\" y=\"-231.8\" font-family=\"Times New Roman,serif\" font-size=\"14.00\">rdf:rest</text>\n</g>\n<!-- 11&#45;&gt;0 -->\n<g id=\"edge10\" class=\"edge\">\n<title>11&#45;&gt;0</title>\n<path fill=\"none\" stroke=\"black\" d=\"M235.7,-270.25C208.5,-264.6 173.27,-255.69 143.69,-243 126.37,-235.57 108.45,-224.71 93.97,-215.01\"/>\n<polygon fill=\"black\" stroke=\"black\" points=\"95.67,-211.93 85.44,-209.16 91.71,-217.7 95.67,-211.93\"/>\n<text text-anchor=\"middle\" x=\"165.69\" y=\"-231.8\" font-family=\"Times New Roman,serif\" font-size=\"14.00\">rdf:type</text>\n</g>\n<!-- 11&#45;&gt;2 -->\n<g id=\"edge11\" class=\"edge\">\n<title>11&#45;&gt;2</title>\n<path fill=\"none\" stroke=\"black\" d=\"M316.63,-266.7C324.21,-264.61 332.17,-262.59 339.69,-261 395.03,-249.26 417.91,-273.27 465.69,-243 474.69,-237.3 481.77,-228.16 487.03,-219.24\"/>\n<polygon fill=\"black\" stroke=\"black\" points=\"490.24,-220.65 491.85,-210.18 484.06,-217.36 490.24,-220.65\"/>\n<text text-anchor=\"middle\" x=\"503.69\" y=\"-231.8\" font-family=\"Times New Roman,serif\" font-size=\"14.00\">ex:name</text>\n</g>\n<!-- 11&#45;&gt;9 -->\n<g id=\"edge5\" class=\"edge\">\n<title>11&#45;&gt;9</title>\n<path fill=\"none\" stroke=\"black\" d=\"M235.66,-270.09C220.38,-265.01 204.81,-256.67 195.69,-243 191.25,-236.34 190.64,-228.03 191.68,-220.1\"/>\n<polygon fill=\"black\" stroke=\"black\" points=\"195.15,-220.59 193.82,-210.08 188.31,-219.13 195.15,-220.59\"/>\n<text text-anchor=\"middle\" x=\"259.19\" y=\"-231.8\" font-family=\"Times New Roman,serif\" font-size=\"14.00\">ex:subscriptionService</text>\n</g>\n<!-- 12 -->\n<g id=\"node13\" class=\"node\">\n<title>12</title>\n<polygon fill=\"none\" stroke=\"black\" points=\"422.19,-210 275.19,-210 275.19,-174 422.19,-174 422.19,-210\"/>\n<text text-anchor=\"middle\" x=\"348.69\" y=\"-188.3\" font-family=\"Times New Roman,serif\" font-size=\"14.00\">&quot;Emazon Prime Video&quot;</text>\n</g>\n<!-- 11&#45;&gt;12 -->\n<g id=\"edge13\" class=\"edge\">\n<title>11&#45;&gt;12</title>\n<path fill=\"none\" stroke=\"black\" d=\"M304.69,-263.03C312.48,-257.47 320.61,-250.64 326.69,-243 332.16,-236.14 336.54,-227.72 339.92,-219.76\"/>\n<polygon fill=\"black\" stroke=\"black\" points=\"343.19,-220.99 343.53,-210.41 336.66,-218.47 343.19,-220.99\"/>\n<text text-anchor=\"middle\" x=\"398.19\" y=\"-231.8\" font-family=\"Times New Roman,serif\" font-size=\"14.00\">ex:subscriptionService</text>\n</g>\n<!-- 13&#45;&gt;1 -->\n<g id=\"edge8\" class=\"edge\">\n<title>13&#45;&gt;1</title>\n<path fill=\"none\" stroke=\"black\" d=\"M571.93,-175.26C567.29,-169.34 562.11,-162.47 557.69,-156 552.31,-148.1 546.81,-139.23 542.02,-131.17\"/>\n<polygon fill=\"black\" stroke=\"black\" points=\"545.02,-129.38 536.95,-122.51 538.98,-132.91 545.02,-129.38\"/>\n<text text-anchor=\"middle\" x=\"577.69\" y=\"-144.8\" font-family=\"Times New Roman,serif\" font-size=\"14.00\">rdf:rest</text>\n</g>\n<!-- 13&#45;&gt;4 -->\n<g id=\"edge14\" class=\"edge\">\n<title>13&#45;&gt;4</title>\n<path fill=\"none\" stroke=\"black\" d=\"M592.6,-174.21C598.2,-162.29 605.84,-146.06 612.26,-132.42\"/>\n<polygon fill=\"black\" stroke=\"black\" points=\"615.58,-133.59 616.67,-123.05 609.25,-130.61 615.58,-133.59\"/>\n<text text-anchor=\"middle\" x=\"627.69\" y=\"-144.8\" font-family=\"Times New Roman,serif\" font-size=\"14.00\">rdf:first</text>\n</g>\n</g>\n</svg>\n",
      "text/plain": [
       "<graphviz.graphs.Digraph at 0x1c672a651f0>"
      ]
     },
     "metadata": {},
     "output_type": "display_data"
    }
   ],
   "source": [
    "%%rdf json-ld -d graph\n",
    "{\n",
    "    \"@context\": {\n",
    "        \"ex\": \"http://example.org/shops#\",\n",
    "        \"xsd\": \"http://www.w3.org/2001/XMLSchema#\"\n",
    "    },\n",
    "    \"@id\": \"ex:eBuy\",\n",
    "    \"@type\": \"ex:OnlineShop\",\n",
    "    \"ex:name\": {\n",
    "        \"@value\": \"eBuy\",\n",
    "        \"@language\": \"en\"\n",
    "    },\n",
    "    \"ex:products\": {\n",
    "        \"@list\": [\n",
    "            \"Toilet paper\",\n",
    "            \"Disinfectant\",\n",
    "            \"Masks\"\n",
    "        ]\n",
    "    },\n",
    "    \"ex:competitor\": {\n",
    "        \"@id\": \"ex:Emazon\",\n",
    "        \"@type\": \"ex:OnlineShop\",\n",
    "        \"ex:name\": \"Emazon\",\n",
    "        \"ex:subscriptionService\": [\n",
    "            \"Emazon Prime\",\n",
    "            \"Emazon Prime Video\"\n",
    "        ]\n",
    "    }\n",
    "}"
   ]
  },
  {
   "cell_type": "markdown",
   "metadata": {
    "deletable": false,
    "editable": false,
    "nbgrader": {
     "cell_type": "markdown",
     "checksum": "2c74d3fc5fcef3636bd862c0bc8ab5e6",
     "grade": false,
     "grade_id": "cell-d19855b1f9e78205",
     "locked": true,
     "schema_version": 3,
     "solution": false,
     "task": false
    }
   },
   "source": [
    "Create an identical graph using Turtle notation in the cell below.\n",
    "\n",
    "**Please make sure that your prefixes are correct.**  \n",
    "**Tip: Run the cell and compare the graphs. They should be identical up to prefix renaming.**"
   ]
  },
  {
   "cell_type": "code",
   "execution_count": 5,
   "metadata": {
    "deletable": false,
    "nbgrader": {
     "cell_type": "code",
     "checksum": "1a66b9bf1cdb6c9f1e355edfbc2dc051",
     "grade": false,
     "grade_id": "cell-e3c6c8d1a45ecf7d",
     "locked": false,
     "schema_version": 3,
     "solution": true,
     "task": false
    }
   },
   "outputs": [
    {
     "data": {
      "image/svg+xml": "<?xml version=\"1.0\" encoding=\"UTF-8\" standalone=\"no\"?>\n<!DOCTYPE svg PUBLIC \"-//W3C//DTD SVG 1.1//EN\"\n \"http://www.w3.org/Graphics/SVG/1.1/DTD/svg11.dtd\">\n<!-- Generated by graphviz version 5.0.1 (20220820.1526)\n -->\n<!-- Pages: 1 -->\n<svg width=\"738pt\" height=\"392pt\"\n viewBox=\"0.00 0.00 737.69 392.00\" xmlns=\"http://www.w3.org/2000/svg\" xmlns:xlink=\"http://www.w3.org/1999/xlink\">\n<g id=\"graph0\" class=\"graph\" transform=\"scale(1 1) rotate(0) translate(4 388)\">\n<polygon fill=\"white\" stroke=\"none\" points=\"-4,4 -4,-388 733.69,-388 733.69,4 -4,4\"/>\n<!-- 0 -->\n<g id=\"node1\" class=\"node\">\n<title>0</title>\n<ellipse fill=\"none\" stroke=\"black\" cx=\"63.69\" cy=\"-192\" rx=\"63.89\" ry=\"18\"/>\n<text text-anchor=\"middle\" x=\"63.69\" y=\"-188.3\" font-family=\"Times New Roman,serif\" font-size=\"14.00\">ex:OnlineShop</text>\n</g>\n<!-- 1 -->\n<g id=\"node2\" class=\"node\">\n<title>1</title>\n<ellipse fill=\"none\" stroke=\"black\" cx=\"233.69\" cy=\"-105\" rx=\"31.4\" ry=\"18\"/>\n<text text-anchor=\"middle\" x=\"233.69\" y=\"-101.3\" font-family=\"Times New Roman,serif\" font-size=\"14.00\">_:bn0</text>\n</g>\n<!-- 7 -->\n<g id=\"node8\" class=\"node\">\n<title>7</title>\n<polygon fill=\"none\" stroke=\"black\" points=\"225.19,-36 160.19,-36 160.19,0 225.19,0 225.19,-36\"/>\n<text text-anchor=\"middle\" x=\"192.69\" y=\"-14.3\" font-family=\"Times New Roman,serif\" font-size=\"14.00\">&quot;Masks&quot;</text>\n</g>\n<!-- 1&#45;&gt;7 -->\n<g id=\"edge14\" class=\"edge\">\n<title>1&#45;&gt;7</title>\n<path fill=\"none\" stroke=\"black\" d=\"M219.95,-88.84C215.2,-82.97 210.2,-76 206.69,-69 203.14,-61.91 200.37,-53.79 198.27,-46.18\"/>\n<polygon fill=\"black\" stroke=\"black\" points=\"201.62,-45.13 195.81,-36.27 194.82,-46.81 201.62,-45.13\"/>\n<text text-anchor=\"middle\" x=\"227.69\" y=\"-57.8\" font-family=\"Times New Roman,serif\" font-size=\"14.00\">rdf:first</text>\n</g>\n<!-- 8 -->\n<g id=\"node9\" class=\"node\">\n<title>8</title>\n<ellipse fill=\"none\" stroke=\"black\" cx=\"274.69\" cy=\"-18\" rx=\"31.7\" ry=\"18\"/>\n<text text-anchor=\"middle\" x=\"274.69\" y=\"-14.3\" font-family=\"Times New Roman,serif\" font-size=\"14.00\">rdf:nil</text>\n</g>\n<!-- 1&#45;&gt;8 -->\n<g id=\"edge6\" class=\"edge\">\n<title>1&#45;&gt;8</title>\n<path fill=\"none\" stroke=\"black\" d=\"M241.79,-87.21C247.67,-75.02 255.73,-58.32 262.4,-44.49\"/>\n<polygon fill=\"black\" stroke=\"black\" points=\"265.56,-46 266.75,-35.47 259.25,-42.96 265.56,-46\"/>\n<text text-anchor=\"middle\" x=\"276.69\" y=\"-57.8\" font-family=\"Times New Roman,serif\" font-size=\"14.00\">rdf:rest</text>\n</g>\n<!-- 2 -->\n<g id=\"node3\" class=\"node\">\n<title>2</title>\n<polygon fill=\"none\" stroke=\"black\" points=\"419.69,-210 345.69,-210 345.69,-174 419.69,-174 419.69,-210\"/>\n<text text-anchor=\"middle\" x=\"382.69\" y=\"-188.3\" font-family=\"Times New Roman,serif\" font-size=\"14.00\">&quot;Emazon&quot;</text>\n</g>\n<!-- 3 -->\n<g id=\"node4\" class=\"node\">\n<title>3</title>\n<ellipse fill=\"none\" stroke=\"black\" cx=\"317.69\" cy=\"-366\" rx=\"39.79\" ry=\"18\"/>\n<text text-anchor=\"middle\" x=\"317.69\" y=\"-362.3\" font-family=\"Times New Roman,serif\" font-size=\"14.00\">ex:eBuy</text>\n</g>\n<!-- 3&#45;&gt;0 -->\n<g id=\"edge2\" class=\"edge\">\n<title>3&#45;&gt;0</title>\n<path fill=\"none\" stroke=\"black\" d=\"M287.78,-353.94C257.81,-342.14 211.04,-321.78 174.69,-297 140.54,-273.71 106.65,-240.02 85.47,-217.35\"/>\n<polygon fill=\"black\" stroke=\"black\" points=\"87.88,-214.81 78.53,-209.83 82.74,-219.55 87.88,-214.81\"/>\n<text text-anchor=\"middle\" x=\"196.69\" y=\"-275.3\" font-family=\"Times New Roman,serif\" font-size=\"14.00\">rdf:type</text>\n</g>\n<!-- 4 -->\n<g id=\"node5\" class=\"node\">\n<title>4</title>\n<ellipse fill=\"none\" stroke=\"black\" cx=\"258.69\" cy=\"-279\" rx=\"31.4\" ry=\"18\"/>\n<text text-anchor=\"middle\" x=\"258.69\" y=\"-275.3\" font-family=\"Times New Roman,serif\" font-size=\"14.00\">_:bn1</text>\n</g>\n<!-- 3&#45;&gt;4 -->\n<g id=\"edge3\" class=\"edge\">\n<title>3&#45;&gt;4</title>\n<path fill=\"none\" stroke=\"black\" d=\"M293.94,-351.49C285.82,-345.81 277.37,-338.52 271.69,-330 267.2,-323.25 264.26,-315.04 262.34,-307.23\"/>\n<polygon fill=\"black\" stroke=\"black\" points=\"265.75,-306.47 260.35,-297.36 258.89,-307.86 265.75,-306.47\"/>\n<text text-anchor=\"middle\" x=\"305.19\" y=\"-318.8\" font-family=\"Times New Roman,serif\" font-size=\"14.00\">ex:products</text>\n</g>\n<!-- 6 -->\n<g id=\"node7\" class=\"node\">\n<title>6</title>\n<polygon fill=\"none\" stroke=\"black\" points=\"524.19,-297 441.19,-297 441.19,-261 524.19,-261 524.19,-297\"/>\n<text text-anchor=\"middle\" x=\"482.69\" y=\"-275.3\" font-family=\"Times New Roman,serif\" font-size=\"14.00\">&quot;eBuy&quot;@en</text>\n</g>\n<!-- 3&#45;&gt;6 -->\n<g id=\"edge12\" class=\"edge\">\n<title>3&#45;&gt;6</title>\n<path fill=\"none\" stroke=\"black\" d=\"M353.45,-358.19C376.33,-352.8 406.05,-343.84 429.69,-330 441.12,-323.31 452.07,-313.73 461.01,-304.74\"/>\n<polygon fill=\"black\" stroke=\"black\" points=\"463.64,-307.06 468.02,-297.41 458.58,-302.22 463.64,-307.06\"/>\n<text text-anchor=\"middle\" x=\"472.69\" y=\"-318.8\" font-family=\"Times New Roman,serif\" font-size=\"14.00\">ex:name</text>\n</g>\n<!-- 12 -->\n<g id=\"node13\" class=\"node\">\n<title>12</title>\n<ellipse fill=\"none\" stroke=\"black\" cx=\"372.69\" cy=\"-279\" rx=\"50.09\" ry=\"18\"/>\n<text text-anchor=\"middle\" x=\"372.69\" y=\"-275.3\" font-family=\"Times New Roman,serif\" font-size=\"14.00\">ex:Emazon</text>\n</g>\n<!-- 3&#45;&gt;12 -->\n<g id=\"edge4\" class=\"edge\">\n<title>3&#45;&gt;12</title>\n<path fill=\"none\" stroke=\"black\" d=\"M328.3,-348.61C336.24,-336.34 347.24,-319.34 356.31,-305.32\"/>\n<polygon fill=\"black\" stroke=\"black\" points=\"359.44,-306.93 361.93,-296.63 353.56,-303.12 359.44,-306.93\"/>\n<text text-anchor=\"middle\" x=\"387.19\" y=\"-318.8\" font-family=\"Times New Roman,serif\" font-size=\"14.00\">ex:competitor</text>\n</g>\n<!-- 9 -->\n<g id=\"node10\" class=\"node\">\n<title>9</title>\n<polygon fill=\"none\" stroke=\"black\" points=\"241.69,-210 145.69,-210 145.69,-174 241.69,-174 241.69,-210\"/>\n<text text-anchor=\"middle\" x=\"193.69\" y=\"-188.3\" font-family=\"Times New Roman,serif\" font-size=\"14.00\">&quot;Toilet paper&quot;</text>\n</g>\n<!-- 4&#45;&gt;9 -->\n<g id=\"edge1\" class=\"edge\">\n<title>4&#45;&gt;9</title>\n<path fill=\"none\" stroke=\"black\" d=\"M236.72,-266.07C227.58,-260.17 217.54,-252.3 210.69,-243 205.78,-236.32 202.22,-228.13 199.67,-220.32\"/>\n<polygon fill=\"black\" stroke=\"black\" points=\"202.96,-219.1 196.86,-210.44 196.23,-221.01 202.96,-219.1\"/>\n<text text-anchor=\"middle\" x=\"231.69\" y=\"-231.8\" font-family=\"Times New Roman,serif\" font-size=\"14.00\">rdf:first</text>\n</g>\n<!-- 10 -->\n<g id=\"node11\" class=\"node\">\n<title>10</title>\n<ellipse fill=\"none\" stroke=\"black\" cx=\"290.69\" cy=\"-192\" rx=\"31.4\" ry=\"18\"/>\n<text text-anchor=\"middle\" x=\"290.69\" y=\"-188.3\" font-family=\"Times New Roman,serif\" font-size=\"14.00\">_:bn2</text>\n</g>\n<!-- 4&#45;&gt;10 -->\n<g id=\"edge8\" class=\"edge\">\n<title>4&#45;&gt;10</title>\n<path fill=\"none\" stroke=\"black\" d=\"M256.16,-260.76C255.4,-250.85 255.65,-238.35 259.69,-228 261.48,-223.42 264.16,-219.05 267.21,-215.04\"/>\n<polygon fill=\"black\" stroke=\"black\" points=\"269.93,-217.25 273.81,-207.39 264.63,-212.68 269.93,-217.25\"/>\n<text text-anchor=\"middle\" x=\"279.69\" y=\"-231.8\" font-family=\"Times New Roman,serif\" font-size=\"14.00\">rdf:rest</text>\n</g>\n<!-- 5 -->\n<g id=\"node6\" class=\"node\">\n<title>5</title>\n<polygon fill=\"none\" stroke=\"black\" points=\"378.19,-123 283.19,-123 283.19,-87 378.19,-87 378.19,-123\"/>\n<text text-anchor=\"middle\" x=\"330.69\" y=\"-101.3\" font-family=\"Times New Roman,serif\" font-size=\"14.00\">&quot;Disinfectant&quot;</text>\n</g>\n<!-- 10&#45;&gt;1 -->\n<g id=\"edge9\" class=\"edge\">\n<title>10&#45;&gt;1</title>\n<path fill=\"none\" stroke=\"black\" d=\"M278.5,-175.17C274.04,-169.24 269.03,-162.39 264.69,-156 259.27,-148.02 253.63,-139.12 248.67,-131.07\"/>\n<polygon fill=\"black\" stroke=\"black\" points=\"251.6,-129.15 243.41,-122.43 245.62,-132.79 251.6,-129.15\"/>\n<text text-anchor=\"middle\" x=\"284.69\" y=\"-144.8\" font-family=\"Times New Roman,serif\" font-size=\"14.00\">rdf:rest</text>\n</g>\n<!-- 10&#45;&gt;5 -->\n<g id=\"edge7\" class=\"edge\">\n<title>10&#45;&gt;5</title>\n<path fill=\"none\" stroke=\"black\" d=\"M298.6,-174.21C304.2,-162.29 311.84,-146.06 318.26,-132.42\"/>\n<polygon fill=\"black\" stroke=\"black\" points=\"321.58,-133.59 322.67,-123.05 315.25,-130.61 321.58,-133.59\"/>\n<text text-anchor=\"middle\" x=\"334.69\" y=\"-144.8\" font-family=\"Times New Roman,serif\" font-size=\"14.00\">rdf:first</text>\n</g>\n<!-- 11 -->\n<g id=\"node12\" class=\"node\">\n<title>11</title>\n<polygon fill=\"none\" stroke=\"black\" points=\"547.69,-210 437.69,-210 437.69,-174 547.69,-174 547.69,-210\"/>\n<text text-anchor=\"middle\" x=\"492.69\" y=\"-188.3\" font-family=\"Times New Roman,serif\" font-size=\"14.00\">&quot;Emazon Prime&quot;</text>\n</g>\n<!-- 12&#45;&gt;0 -->\n<g id=\"edge10\" class=\"edge\">\n<title>12&#45;&gt;0</title>\n<path fill=\"none\" stroke=\"black\" d=\"M354.91,-262.08C340.94,-250.55 320.43,-235.69 299.69,-228 231.36,-202.65 208.54,-222.29 136.69,-210 131.02,-209.03 125.14,-207.89 119.27,-206.66\"/>\n<polygon fill=\"black\" stroke=\"black\" points=\"119.99,-203.24 109.48,-204.54 118.51,-210.08 119.99,-203.24\"/>\n<text text-anchor=\"middle\" x=\"349.69\" y=\"-231.8\" font-family=\"Times New Roman,serif\" font-size=\"14.00\">rdf:type</text>\n</g>\n<!-- 12&#45;&gt;2 -->\n<g id=\"edge11\" class=\"edge\">\n<title>12&#45;&gt;2</title>\n<path fill=\"none\" stroke=\"black\" d=\"M374.72,-260.8C376.09,-249.16 377.92,-233.55 379.49,-220.24\"/>\n<polygon fill=\"black\" stroke=\"black\" points=\"382.98,-220.52 380.67,-210.18 376.03,-219.7 382.98,-220.52\"/>\n<text text-anchor=\"middle\" x=\"401.69\" y=\"-231.8\" font-family=\"Times New Roman,serif\" font-size=\"14.00\">ex:name</text>\n</g>\n<!-- 12&#45;&gt;11 -->\n<g id=\"edge5\" class=\"edge\">\n<title>12&#45;&gt;11</title>\n<path fill=\"none\" stroke=\"black\" d=\"M397.59,-263.21C407.43,-257.17 418.74,-249.97 428.69,-243 440.57,-234.69 453.22,-224.99 464.12,-216.36\"/>\n<polygon fill=\"black\" stroke=\"black\" points=\"466.44,-218.98 472.07,-210 462.07,-213.51 466.44,-218.98\"/>\n<text text-anchor=\"middle\" x=\"512.19\" y=\"-231.8\" font-family=\"Times New Roman,serif\" font-size=\"14.00\">ex:subscriptionService</text>\n</g>\n<!-- 13 -->\n<g id=\"node14\" class=\"node\">\n<title>13</title>\n<polygon fill=\"none\" stroke=\"black\" points=\"714.19,-210 567.19,-210 567.19,-174 714.19,-174 714.19,-210\"/>\n<text text-anchor=\"middle\" x=\"640.69\" y=\"-188.3\" font-family=\"Times New Roman,serif\" font-size=\"14.00\">&quot;Emazon Prime Video&quot;</text>\n</g>\n<!-- 12&#45;&gt;13 -->\n<g id=\"edge13\" class=\"edge\">\n<title>12&#45;&gt;13</title>\n<path fill=\"none\" stroke=\"black\" d=\"M408.98,-266.56C416.44,-264.49 424.28,-262.51 431.69,-261 496.63,-247.78 518.76,-269.04 579.69,-243 593.54,-237.08 606.75,-227.02 617.31,-217.47\"/>\n<polygon fill=\"black\" stroke=\"black\" points=\"619.98,-219.76 624.84,-210.34 615.17,-214.68 619.98,-219.76\"/>\n<text text-anchor=\"middle\" x=\"666.19\" y=\"-231.8\" font-family=\"Times New Roman,serif\" font-size=\"14.00\">ex:subscriptionService</text>\n</g>\n</g>\n</svg>\n",
      "text/plain": [
       "<graphviz.graphs.Digraph at 0x1c67491e4f0>"
      ]
     },
     "metadata": {},
     "output_type": "display_data"
    }
   ],
   "source": [
    "%%rdf turtle -d graph -l shops\n",
    "\n",
    "@prefix ex: <http://example.org/shops#> .\n",
    "@prefix xsd: <http://www.w3.org/2001/XMLSchema#> .\n",
    "\n",
    "ex:eBuy a ex:OnlineShop ;\n",
    "    ex:name \"eBuy\"@en ;\n",
    "    ex:products ( \"Toilet paper\" \"Disinfectant\" \"Masks\" ) ;\n",
    "    ex:competitor ex:Emazon .\n",
    "    \n",
    "ex:Emazon a ex:OnlineShop ;\n",
    "    ex:name \"Emazon\" ;\n",
    "    ex:subscriptionService \"Emazon Prime\", \"Emazon Prime Video\" ."
   ]
  },
  {
   "cell_type": "code",
   "execution_count": 6,
   "metadata": {
    "deletable": false,
    "editable": false,
    "nbgrader": {
     "cell_type": "code",
     "checksum": "ad4fb9c74c78310daf3c9947641f93c5",
     "grade": true,
     "grade_id": "cell-61448fca0d54cd95",
     "locked": true,
     "points": 1.5,
     "schema_version": 3,
     "solution": false,
     "task": false
    }
   },
   "outputs": [],
   "source": [
    "# This test will check whether you modelled eBuy correctly [1.5 points]"
   ]
  },
  {
   "cell_type": "code",
   "execution_count": 7,
   "metadata": {
    "deletable": false,
    "editable": false,
    "nbgrader": {
     "cell_type": "code",
     "checksum": "acb85680498eb2f547ee175cfeb1d068",
     "grade": true,
     "grade_id": "cell-572010cc326d8c1b",
     "locked": true,
     "points": 1.5,
     "schema_version": 3,
     "solution": false,
     "task": false
    }
   },
   "outputs": [],
   "source": [
    "# This test will check whether you modelled Emazon correctly [1.5 points]"
   ]
  },
  {
   "cell_type": "code",
   "execution_count": 8,
   "metadata": {},
   "outputs": [
    {
     "data": {
      "image/svg+xml": "<?xml version=\"1.0\" encoding=\"UTF-8\" standalone=\"no\"?>\n<!DOCTYPE svg PUBLIC \"-//W3C//DTD SVG 1.1//EN\"\n \"http://www.w3.org/Graphics/SVG/1.1/DTD/svg11.dtd\">\n<!-- Generated by graphviz version 5.0.1 (20220820.1526)\n -->\n<!-- Pages: 1 -->\n<svg width=\"2195pt\" height=\"479pt\"\n viewBox=\"0.00 0.00 2194.93 479.00\" xmlns=\"http://www.w3.org/2000/svg\" xmlns:xlink=\"http://www.w3.org/1999/xlink\">\n<g id=\"graph0\" class=\"graph\" transform=\"scale(1 1) rotate(0) translate(4 475)\">\n<polygon fill=\"white\" stroke=\"none\" points=\"-4,4 -4,-475 2190.93,-475 2190.93,4 -4,4\"/>\n<!-- 0 -->\n<g id=\"node1\" class=\"node\">\n<title>0</title>\n<ellipse fill=\"none\" stroke=\"black\" cx=\"653.75\" cy=\"-279\" rx=\"31.4\" ry=\"18\"/>\n<text text-anchor=\"middle\" x=\"653.75\" y=\"-275.3\" font-family=\"Times New Roman,serif\" font-size=\"14.00\">_:bn0</text>\n</g>\n<!-- 8 -->\n<g id=\"node9\" class=\"node\">\n<title>8</title>\n<ellipse fill=\"none\" stroke=\"black\" cx=\"558.75\" cy=\"-192\" rx=\"76.89\" ry=\"18\"/>\n<text text-anchor=\"middle\" x=\"558.75\" y=\"-188.3\" font-family=\"Times New Roman,serif\" font-size=\"14.00\">schema:MenuItem</text>\n</g>\n<!-- 0&#45;&gt;8 -->\n<g id=\"edge42\" class=\"edge\">\n<title>0&#45;&gt;8</title>\n<path fill=\"none\" stroke=\"black\" d=\"M649.54,-260.98C646.2,-250.4 640.59,-237.13 631.75,-228 625.57,-221.62 617.99,-216.25 610.08,-211.79\"/>\n<polygon fill=\"black\" stroke=\"black\" points=\"611.56,-208.61 601.07,-207.13 608.34,-214.83 611.56,-208.61\"/>\n<text text-anchor=\"middle\" x=\"663.75\" y=\"-231.8\" font-family=\"Times New Roman,serif\" font-size=\"14.00\">rdf:type</text>\n</g>\n<!-- 24 -->\n<g id=\"node25\" class=\"node\">\n<title>24</title>\n<ellipse fill=\"none\" stroke=\"black\" cx=\"428.75\" cy=\"-192\" rx=\"36\" ry=\"18\"/>\n<text text-anchor=\"middle\" x=\"428.75\" y=\"-188.3\" font-family=\"Times New Roman,serif\" font-size=\"14.00\">_:bn12</text>\n</g>\n<!-- 0&#45;&gt;24 -->\n<g id=\"edge34\" class=\"edge\">\n<title>0&#45;&gt;24</title>\n<path fill=\"none\" stroke=\"black\" d=\"M625.82,-270.8C605.39,-264.9 577.41,-255.5 554.75,-243 545.33,-237.8 545.32,-232.9 535.75,-228 509.83,-214.73 500.36,-219.26 472.75,-210 470.37,-209.2 467.93,-208.35 465.48,-207.47\"/>\n<polygon fill=\"black\" stroke=\"black\" points=\"466.66,-204.18 456.07,-204 464.24,-210.75 466.66,-204.18\"/>\n<text text-anchor=\"middle\" x=\"591.25\" y=\"-231.8\" font-family=\"Times New Roman,serif\" font-size=\"14.00\">schema:offer</text>\n</g>\n<!-- 27 -->\n<g id=\"node28\" class=\"node\">\n<title>27</title>\n<polygon fill=\"none\" stroke=\"black\" points=\"808.25,-210 653.25,-210 653.25,-174 808.25,-174 808.25,-210\"/>\n<text text-anchor=\"middle\" x=\"730.75\" y=\"-188.3\" font-family=\"Times New Roman,serif\" font-size=\"14.00\">&quot;Hot Millsis&quot;^^xsd:string</text>\n</g>\n<!-- 0&#45;&gt;27 -->\n<g id=\"edge30\" class=\"edge\">\n<title>0&#45;&gt;27</title>\n<path fill=\"none\" stroke=\"black\" d=\"M685.1,-277.72C711.36,-275.61 747.41,-267.95 765.75,-243 771.68,-234.93 768.46,-226.01 762.04,-217.96\"/>\n<polygon fill=\"black\" stroke=\"black\" points=\"764.19,-215.13 754.77,-210.26 759.1,-219.94 764.19,-215.13\"/>\n<text text-anchor=\"middle\" x=\"806.25\" y=\"-231.8\" font-family=\"Times New Roman,serif\" font-size=\"14.00\">schema:name</text>\n</g>\n<!-- 1 -->\n<g id=\"node2\" class=\"node\">\n<title>1</title>\n<ellipse fill=\"none\" stroke=\"black\" cx=\"490.75\" cy=\"-279\" rx=\"31.4\" ry=\"18\"/>\n<text text-anchor=\"middle\" x=\"490.75\" y=\"-275.3\" font-family=\"Times New Roman,serif\" font-size=\"14.00\">_:bn1</text>\n</g>\n<!-- 1&#45;&gt;8 -->\n<g id=\"edge35\" class=\"edge\">\n<title>1&#45;&gt;8</title>\n<path fill=\"none\" stroke=\"black\" d=\"M486.97,-261.03C485.63,-250.73 485.71,-237.74 491.75,-228 495.6,-221.79 500.94,-216.62 506.95,-212.34\"/>\n<polygon fill=\"black\" stroke=\"black\" points=\"508.83,-215.29 515.47,-207.04 505.13,-209.35 508.83,-215.29\"/>\n<text text-anchor=\"middle\" x=\"513.75\" y=\"-231.8\" font-family=\"Times New Roman,serif\" font-size=\"14.00\">rdf:type</text>\n</g>\n<!-- 13 -->\n<g id=\"node14\" class=\"node\">\n<title>13</title>\n<polygon fill=\"none\" stroke=\"black\" points=\"280.25,-210 89.25,-210 89.25,-174 280.25,-174 280.25,-210\"/>\n<text text-anchor=\"middle\" x=\"184.75\" y=\"-188.3\" font-family=\"Times New Roman,serif\" font-size=\"14.00\">&quot;Hot Almara Kopi&quot;^^xsd:string</text>\n</g>\n<!-- 1&#45;&gt;13 -->\n<g id=\"edge14\" class=\"edge\">\n<title>1&#45;&gt;13</title>\n<path fill=\"none\" stroke=\"black\" d=\"M467.31,-266.85C461.67,-264.57 455.58,-262.43 449.75,-261 360.91,-239.23 329.3,-277.87 244.75,-243 230.76,-237.23 217.57,-227 207.14,-217.28\"/>\n<polygon fill=\"black\" stroke=\"black\" points=\"209.33,-214.53 199.73,-210.04 204.43,-219.53 209.33,-214.53\"/>\n<text text-anchor=\"middle\" x=\"282.25\" y=\"-231.8\" font-family=\"Times New Roman,serif\" font-size=\"14.00\">schema:name</text>\n</g>\n<!-- 28 -->\n<g id=\"node29\" class=\"node\">\n<title>28</title>\n<ellipse fill=\"none\" stroke=\"black\" cx=\"333.75\" cy=\"-192\" rx=\"36\" ry=\"18\"/>\n<text text-anchor=\"middle\" x=\"333.75\" y=\"-188.3\" font-family=\"Times New Roman,serif\" font-size=\"14.00\">_:bn14</text>\n</g>\n<!-- 1&#45;&gt;28 -->\n<g id=\"edge38\" class=\"edge\">\n<title>1&#45;&gt;28</title>\n<path fill=\"none\" stroke=\"black\" d=\"M467.25,-267.1C461.61,-264.81 455.54,-262.61 449.75,-261 423.55,-253.74 346.5,-263.59 328.75,-243 323.24,-236.61 322.6,-227.92 323.95,-219.57\"/>\n<polygon fill=\"black\" stroke=\"black\" points=\"327.38,-220.28 326.37,-209.74 320.58,-218.61 327.38,-220.28\"/>\n<text text-anchor=\"middle\" x=\"365.25\" y=\"-231.8\" font-family=\"Times New Roman,serif\" font-size=\"14.00\">schema:offer</text>\n</g>\n<!-- 2 -->\n<g id=\"node3\" class=\"node\">\n<title>2</title>\n<ellipse fill=\"none\" stroke=\"black\" cx=\"857.75\" cy=\"-192\" rx=\"31.4\" ry=\"18\"/>\n<text text-anchor=\"middle\" x=\"857.75\" y=\"-188.3\" font-family=\"Times New Roman,serif\" font-size=\"14.00\">_:bn2</text>\n</g>\n<!-- 19 -->\n<g id=\"node20\" class=\"node\">\n<title>19</title>\n<ellipse fill=\"none\" stroke=\"black\" cx=\"829.75\" cy=\"-105\" rx=\"31.4\" ry=\"18\"/>\n<text text-anchor=\"middle\" x=\"829.75\" y=\"-101.3\" font-family=\"Times New Roman,serif\" font-size=\"14.00\">_:bn9</text>\n</g>\n<!-- 2&#45;&gt;19 -->\n<g id=\"edge20\" class=\"edge\">\n<title>2&#45;&gt;19</title>\n<path fill=\"none\" stroke=\"black\" d=\"M852.21,-174.21C848.3,-162.33 842.98,-146.17 838.49,-132.56\"/>\n<polygon fill=\"black\" stroke=\"black\" points=\"841.72,-131.16 835.27,-122.76 835.07,-133.35 841.72,-131.16\"/>\n<text text-anchor=\"middle\" x=\"881.25\" y=\"-144.8\" font-family=\"Times New Roman,serif\" font-size=\"14.00\">schema:price</text>\n</g>\n<!-- 3 -->\n<g id=\"node4\" class=\"node\">\n<title>3</title>\n<ellipse fill=\"none\" stroke=\"black\" cx=\"653.75\" cy=\"-366\" rx=\"31.4\" ry=\"18\"/>\n<text text-anchor=\"middle\" x=\"653.75\" y=\"-362.3\" font-family=\"Times New Roman,serif\" font-size=\"14.00\">_:bn3</text>\n</g>\n<!-- 3&#45;&gt;0 -->\n<g id=\"edge11\" class=\"edge\">\n<title>3&#45;&gt;0</title>\n<path fill=\"none\" stroke=\"black\" d=\"M653.75,-347.8C653.75,-336.16 653.75,-320.55 653.75,-307.24\"/>\n<polygon fill=\"black\" stroke=\"black\" points=\"657.25,-307.18 653.75,-297.18 650.25,-307.18 657.25,-307.18\"/>\n<text text-anchor=\"middle\" x=\"714.25\" y=\"-318.8\" font-family=\"Times New Roman,serif\" font-size=\"14.00\">schema:hasMenuItem</text>\n</g>\n<!-- 3&#45;&gt;1 -->\n<g id=\"edge8\" class=\"edge\">\n<title>3&#45;&gt;1</title>\n<path fill=\"none\" stroke=\"black\" d=\"M623.17,-361.97C596.34,-358.1 557.26,-349.38 528.75,-330 519.41,-323.66 511.42,-314.27 505.2,-305.34\"/>\n<polygon fill=\"black\" stroke=\"black\" points=\"507.97,-303.17 499.59,-296.69 502.09,-306.98 507.97,-303.17\"/>\n<text text-anchor=\"middle\" x=\"589.25\" y=\"-318.8\" font-family=\"Times New Roman,serif\" font-size=\"14.00\">schema:hasMenuItem</text>\n</g>\n<!-- 16 -->\n<g id=\"node17\" class=\"node\">\n<title>16</title>\n<ellipse fill=\"none\" stroke=\"black\" cx=\"1080.75\" cy=\"-279\" rx=\"31.4\" ry=\"18\"/>\n<text text-anchor=\"middle\" x=\"1080.75\" y=\"-275.3\" font-family=\"Times New Roman,serif\" font-size=\"14.00\">_:bn8</text>\n</g>\n<!-- 3&#45;&gt;16 -->\n<g id=\"edge43\" class=\"edge\">\n<title>3&#45;&gt;16</title>\n<path fill=\"none\" stroke=\"black\" d=\"M684.65,-363.16C736.49,-359.62 844,-350.34 932.75,-330 972.65,-320.86 1016.95,-305.11 1046.59,-293.73\"/>\n<polygon fill=\"black\" stroke=\"black\" points=\"1048,-296.94 1056.05,-290.05 1045.46,-290.41 1048,-296.94\"/>\n<text text-anchor=\"middle\" x=\"1042.25\" y=\"-318.8\" font-family=\"Times New Roman,serif\" font-size=\"14.00\">schema:hasMenuItem</text>\n</g>\n<!-- 17 -->\n<g id=\"node18\" class=\"node\">\n<title>17</title>\n<ellipse fill=\"none\" stroke=\"black\" cx=\"380.75\" cy=\"-279\" rx=\"60.39\" ry=\"18\"/>\n<text text-anchor=\"middle\" x=\"380.75\" y=\"-275.3\" font-family=\"Times New Roman,serif\" font-size=\"14.00\">schema:Menu</text>\n</g>\n<!-- 3&#45;&gt;17 -->\n<g id=\"edge1\" class=\"edge\">\n<title>3&#45;&gt;17</title>\n<path fill=\"none\" stroke=\"black\" d=\"M623.07,-362.67C584.93,-359.02 518.31,-350.16 464.75,-330 445.89,-322.9 426.46,-311.64 411.05,-301.59\"/>\n<polygon fill=\"black\" stroke=\"black\" points=\"412.73,-298.51 402.47,-295.86 408.84,-304.33 412.73,-298.51\"/>\n<text text-anchor=\"middle\" x=\"486.75\" y=\"-318.8\" font-family=\"Times New Roman,serif\" font-size=\"14.00\">rdf:type</text>\n</g>\n<!-- 21 -->\n<g id=\"node22\" class=\"node\">\n<title>21</title>\n<ellipse fill=\"none\" stroke=\"black\" cx=\"863.75\" cy=\"-279\" rx=\"36\" ry=\"18\"/>\n<text text-anchor=\"middle\" x=\"863.75\" y=\"-275.3\" font-family=\"Times New Roman,serif\" font-size=\"14.00\">_:bn11</text>\n</g>\n<!-- 3&#45;&gt;21 -->\n<g id=\"edge32\" class=\"edge\">\n<title>3&#45;&gt;21</title>\n<path fill=\"none\" stroke=\"black\" d=\"M682.76,-359.12C708.57,-353.37 747.02,-343.5 778.75,-330 798.42,-321.63 819.12,-309.53 835.17,-299.33\"/>\n<polygon fill=\"black\" stroke=\"black\" points=\"837.08,-302.26 843.58,-293.89 833.28,-296.38 837.08,-302.26\"/>\n<text text-anchor=\"middle\" x=\"868.25\" y=\"-318.8\" font-family=\"Times New Roman,serif\" font-size=\"14.00\">schema:hasMenuItem</text>\n</g>\n<!-- 32 -->\n<g id=\"node33\" class=\"node\">\n<title>32</title>\n<ellipse fill=\"none\" stroke=\"black\" cx=\"158.75\" cy=\"-279\" rx=\"36\" ry=\"18\"/>\n<text text-anchor=\"middle\" x=\"158.75\" y=\"-275.3\" font-family=\"Times New Roman,serif\" font-size=\"14.00\">_:bn16</text>\n</g>\n<!-- 3&#45;&gt;32 -->\n<g id=\"edge19\" class=\"edge\">\n<title>3&#45;&gt;32</title>\n<path fill=\"none\" stroke=\"black\" d=\"M622.37,-364.16C561.19,-362.02 421.95,-354.62 307.75,-330 268.45,-321.53 225.03,-306.25 195.25,-294.8\"/>\n<polygon fill=\"black\" stroke=\"black\" points=\"196.29,-291.45 185.7,-291.08 193.74,-297.97 196.29,-291.45\"/>\n<text text-anchor=\"middle\" x=\"368.25\" y=\"-318.8\" font-family=\"Times New Roman,serif\" font-size=\"14.00\">schema:hasMenuItem</text>\n</g>\n<!-- 4 -->\n<g id=\"node5\" class=\"node\">\n<title>4</title>\n<ellipse fill=\"none\" stroke=\"black\" cx=\"1374.75\" cy=\"-279\" rx=\"92.88\" ry=\"18\"/>\n<text text-anchor=\"middle\" x=\"1374.75\" y=\"-275.3\" font-family=\"Times New Roman,serif\" font-size=\"14.00\">schema:PostalAddress</text>\n</g>\n<!-- 5 -->\n<g id=\"node6\" class=\"node\">\n<title>5</title>\n<ellipse fill=\"none\" stroke=\"black\" cx=\"341.75\" cy=\"-105\" rx=\"31.4\" ry=\"18\"/>\n<text text-anchor=\"middle\" x=\"341.75\" y=\"-101.3\" font-family=\"Times New Roman,serif\" font-size=\"14.00\">_:bn4</text>\n</g>\n<!-- 10 -->\n<g id=\"node11\" class=\"node\">\n<title>10</title>\n<polygon fill=\"none\" stroke=\"black\" points=\"725.25,-36 606.25,-36 606.25,0 725.25,0 725.25,-36\"/>\n<text text-anchor=\"middle\" x=\"665.75\" y=\"-14.3\" font-family=\"Times New Roman,serif\" font-size=\"14.00\">&quot;IDR&quot;^^xsd:string</text>\n</g>\n<!-- 5&#45;&gt;10 -->\n<g id=\"edge36\" class=\"edge\">\n<title>5&#45;&gt;10</title>\n<path fill=\"none\" stroke=\"black\" d=\"M366.83,-93.89C374.12,-91.29 382.16,-88.74 389.75,-87 460.36,-70.8 484.73,-96.51 551.75,-69 561.7,-64.91 561.36,-59.26 570.75,-54 580.14,-48.74 590.48,-43.99 600.77,-39.81\"/>\n<polygon fill=\"black\" stroke=\"black\" points=\"602.13,-43.04 610.18,-36.14 599.59,-36.52 602.13,-43.04\"/>\n<text text-anchor=\"middle\" x=\"605.25\" y=\"-57.8\" font-family=\"Times New Roman,serif\" font-size=\"14.00\">rdf:currency</text>\n</g>\n<!-- 29 -->\n<g id=\"node30\" class=\"node\">\n<title>29</title>\n<polygon fill=\"none\" stroke=\"black\" points=\"440.75,-36 306.75,-36 306.75,0 440.75,0 440.75,-36\"/>\n<text text-anchor=\"middle\" x=\"373.75\" y=\"-14.3\" font-family=\"Times New Roman,serif\" font-size=\"14.00\">&quot;20000&quot;^^xsd:integer</text>\n</g>\n<!-- 5&#45;&gt;29 -->\n<g id=\"edge13\" class=\"edge\">\n<title>5&#45;&gt;29</title>\n<path fill=\"none\" stroke=\"black\" d=\"M337.14,-87.18C335.26,-77.17 334.42,-64.44 338.75,-54 340.21,-50.46 342.23,-47.09 344.57,-43.93\"/>\n<polygon fill=\"black\" stroke=\"black\" points=\"347.42,-45.99 351.32,-36.14 342.13,-41.41 347.42,-45.99\"/>\n<text text-anchor=\"middle\" x=\"363.25\" y=\"-57.8\" font-family=\"Times New Roman,serif\" font-size=\"14.00\">rdf:value</text>\n</g>\n<!-- 6 -->\n<g id=\"node7\" class=\"node\">\n<title>6</title>\n<ellipse fill=\"none\" stroke=\"black\" cx=\"1335.75\" cy=\"-366\" rx=\"31.4\" ry=\"18\"/>\n<text text-anchor=\"middle\" x=\"1335.75\" y=\"-362.3\" font-family=\"Times New Roman,serif\" font-size=\"14.00\">_:bn5</text>\n</g>\n<!-- 6&#45;&gt;4 -->\n<g id=\"edge2\" class=\"edge\">\n<title>6&#45;&gt;4</title>\n<path fill=\"none\" stroke=\"black\" d=\"M1343.45,-348.21C1348.92,-336.29 1356.36,-320.06 1362.62,-306.42\"/>\n<polygon fill=\"black\" stroke=\"black\" points=\"1365.94,-307.6 1366.92,-297.05 1359.57,-304.68 1365.94,-307.6\"/>\n<text text-anchor=\"middle\" x=\"1378.75\" y=\"-318.8\" font-family=\"Times New Roman,serif\" font-size=\"14.00\">rdf:type</text>\n</g>\n<!-- 18 -->\n<g id=\"node19\" class=\"node\">\n<title>18</title>\n<ellipse fill=\"none\" stroke=\"black\" cx=\"1196.75\" cy=\"-279\" rx=\"66.89\" ry=\"18\"/>\n<text text-anchor=\"middle\" x=\"1196.75\" y=\"-275.3\" font-family=\"Times New Roman,serif\" font-size=\"14.00\">dbpedia:Jakarta</text>\n</g>\n<!-- 6&#45;&gt;18 -->\n<g id=\"edge41\" class=\"edge\">\n<title>6&#45;&gt;18</title>\n<path fill=\"none\" stroke=\"black\" d=\"M1314.94,-352.27C1292.76,-338.71 1257.27,-317.01 1230.97,-300.93\"/>\n<polygon fill=\"black\" stroke=\"black\" points=\"1232.79,-297.94 1222.43,-295.71 1229.14,-303.91 1232.79,-297.94\"/>\n<text text-anchor=\"middle\" x=\"1308.75\" y=\"-318.8\" font-family=\"Times New Roman,serif\" font-size=\"14.00\">foaf:sameAs</text>\n</g>\n<!-- 22 -->\n<g id=\"node23\" class=\"node\">\n<title>22</title>\n<polygon fill=\"none\" stroke=\"black\" points=\"1618.25,-297 1485.25,-297 1485.25,-261 1618.25,-261 1618.25,-297\"/>\n<text text-anchor=\"middle\" x=\"1551.75\" y=\"-275.3\" font-family=\"Times New Roman,serif\" font-size=\"14.00\">&quot;Jakarta&quot;^^xsd:string</text>\n</g>\n<!-- 6&#45;&gt;22 -->\n<g id=\"edge45\" class=\"edge\">\n<title>6&#45;&gt;22</title>\n<path fill=\"none\" stroke=\"black\" d=\"M1360.23,-354.44C1365.35,-352.28 1370.71,-350.04 1375.75,-348 1416.12,-331.63 1462.04,-313.91 1496.86,-300.67\"/>\n<polygon fill=\"black\" stroke=\"black\" points=\"1498.26,-303.88 1506.37,-297.06 1495.78,-297.34 1498.26,-303.88\"/>\n<text text-anchor=\"middle\" x=\"1521.25\" y=\"-318.8\" font-family=\"Times New Roman,serif\" font-size=\"14.00\">schema:addressRegion</text>\n</g>\n<!-- 7 -->\n<g id=\"node8\" class=\"node\">\n<title>7</title>\n<polygon fill=\"none\" stroke=\"black\" points=\"1290.75,-36 1156.75,-36 1156.75,0 1290.75,0 1290.75,-36\"/>\n<text text-anchor=\"middle\" x=\"1223.75\" y=\"-14.3\" font-family=\"Times New Roman,serif\" font-size=\"14.00\">&quot;22000&quot;^^xsd:integer</text>\n</g>\n<!-- 9 -->\n<g id=\"node10\" class=\"node\">\n<title>9</title>\n<ellipse fill=\"none\" stroke=\"black\" cx=\"1495.75\" cy=\"-366\" rx=\"111.28\" ry=\"18\"/>\n<text text-anchor=\"middle\" x=\"1495.75\" y=\"-362.3\" font-family=\"Times New Roman,serif\" font-size=\"14.00\">schema:CafeOrCoffeeShop</text>\n</g>\n<!-- 11 -->\n<g id=\"node12\" class=\"node\">\n<title>11</title>\n<ellipse fill=\"none\" stroke=\"black\" cx=\"1439.75\" cy=\"-453\" rx=\"66.89\" ry=\"18\"/>\n<text text-anchor=\"middle\" x=\"1439.75\" y=\"-449.3\" font-family=\"Times New Roman,serif\" font-size=\"14.00\">ex:KopiCiledug</text>\n</g>\n<!-- 11&#45;&gt;3 -->\n<g id=\"edge16\" class=\"edge\">\n<title>11&#45;&gt;3</title>\n<path fill=\"none\" stroke=\"black\" d=\"M1377.54,-446.14C1307,-439.42 1188.55,-427.92 1086.75,-417 942.13,-401.48 770.58,-381.08 694.07,-371.88\"/>\n<polygon fill=\"black\" stroke=\"black\" points=\"694.26,-368.37 683.91,-370.65 693.42,-375.32 694.26,-368.37\"/>\n<text text-anchor=\"middle\" x=\"1134.75\" y=\"-405.8\" font-family=\"Times New Roman,serif\" font-size=\"14.00\">schema:hasMenu</text>\n</g>\n<!-- 11&#45;&gt;6 -->\n<g id=\"edge26\" class=\"edge\">\n<title>11&#45;&gt;6</title>\n<path fill=\"none\" stroke=\"black\" d=\"M1403.64,-437.81C1392.37,-432.34 1380.38,-425.36 1370.75,-417 1362.67,-409.99 1355.52,-400.73 1349.82,-392.09\"/>\n<polygon fill=\"black\" stroke=\"black\" points=\"1352.69,-390.07 1344.43,-383.43 1346.75,-393.77 1352.69,-390.07\"/>\n<text text-anchor=\"middle\" x=\"1415.25\" y=\"-405.8\" font-family=\"Times New Roman,serif\" font-size=\"14.00\">schema:address</text>\n</g>\n<!-- 11&#45;&gt;9 -->\n<g id=\"edge12\" class=\"edge\">\n<title>11&#45;&gt;9</title>\n<path fill=\"none\" stroke=\"black\" d=\"M1450.81,-435.21C1458.81,-423.06 1469.77,-406.43 1478.86,-392.63\"/>\n<polygon fill=\"black\" stroke=\"black\" points=\"1481.94,-394.33 1484.51,-384.05 1476.09,-390.47 1481.94,-394.33\"/>\n<text text-anchor=\"middle\" x=\"1492.75\" y=\"-405.8\" font-family=\"Times New Roman,serif\" font-size=\"14.00\">rdf:type</text>\n</g>\n<!-- 12 -->\n<g id=\"node13\" class=\"node\">\n<title>12</title>\n<polygon fill=\"none\" stroke=\"black\" points=\"1794.25,-384 1625.25,-384 1625.25,-348 1794.25,-348 1794.25,-384\"/>\n<text text-anchor=\"middle\" x=\"1709.75\" y=\"-362.3\" font-family=\"Times New Roman,serif\" font-size=\"14.00\">&quot;Kopi Ciledug&quot;^^xsd:string</text>\n</g>\n<!-- 11&#45;&gt;12 -->\n<g id=\"edge3\" class=\"edge\">\n<title>11&#45;&gt;12</title>\n<path fill=\"none\" stroke=\"black\" d=\"M1481.64,-438.81C1525.61,-424.97 1595.28,-403.04 1646.06,-387.05\"/>\n<polygon fill=\"black\" stroke=\"black\" points=\"1647.15,-390.38 1655.63,-384.04 1645.04,-383.7 1647.15,-390.38\"/>\n<text text-anchor=\"middle\" x=\"1628.25\" y=\"-405.8\" font-family=\"Times New Roman,serif\" font-size=\"14.00\">schema:name</text>\n</g>\n<!-- 11&#45;&gt;18 -->\n<g id=\"edge27\" class=\"edge\">\n<title>11&#45;&gt;18</title>\n<path fill=\"none\" stroke=\"black\" d=\"M1383.52,-443.11C1321.74,-432.11 1228.26,-411.43 1205.75,-384 1188.38,-362.83 1188.38,-330.43 1191.29,-307.42\"/>\n<polygon fill=\"black\" stroke=\"black\" points=\"1194.79,-307.7 1192.84,-297.28 1187.87,-306.64 1194.79,-307.7\"/>\n<text text-anchor=\"middle\" x=\"1250.75\" y=\"-362.3\" font-family=\"Times New Roman,serif\" font-size=\"14.00\">foaf:based_near</text>\n</g>\n<!-- 25 -->\n<g id=\"node26\" class=\"node\">\n<title>25</title>\n<ellipse fill=\"none\" stroke=\"black\" cx=\"1999.75\" cy=\"-366\" rx=\"187.37\" ry=\"18\"/>\n<text text-anchor=\"start\" x=\"1863.75\" y=\"-362.3\" font-family=\"Times New Roman,serif\" font-size=\"14.00\">https://www.google.com/search?q=kopi+ciledug</text>\n</g>\n<!-- 11&#45;&gt;25 -->\n<g id=\"edge22\" class=\"edge\">\n<title>11&#45;&gt;25</title>\n<path fill=\"none\" stroke=\"black\" d=\"M1496.52,-443.38C1589.6,-429.25 1776.08,-400.95 1894.03,-383.05\"/>\n<polygon fill=\"black\" stroke=\"black\" points=\"1894.81,-386.47 1904.17,-381.51 1893.76,-379.55 1894.81,-386.47\"/>\n<text text-anchor=\"middle\" x=\"1787.75\" y=\"-405.8\" font-family=\"Times New Roman,serif\" font-size=\"14.00\">foaf:seeAlso</text>\n</g>\n<!-- 14 -->\n<g id=\"node15\" class=\"node\">\n<title>14</title>\n<ellipse fill=\"none\" stroke=\"black\" cx=\"1285.75\" cy=\"-192\" rx=\"31.4\" ry=\"18\"/>\n<text text-anchor=\"middle\" x=\"1285.75\" y=\"-188.3\" font-family=\"Times New Roman,serif\" font-size=\"14.00\">_:bn6</text>\n</g>\n<!-- 30 -->\n<g id=\"node31\" class=\"node\">\n<title>30</title>\n<ellipse fill=\"none\" stroke=\"black\" cx=\"1223.75\" cy=\"-105\" rx=\"36\" ry=\"18\"/>\n<text text-anchor=\"middle\" x=\"1223.75\" y=\"-101.3\" font-family=\"Times New Roman,serif\" font-size=\"14.00\">_:bn15</text>\n</g>\n<!-- 14&#45;&gt;30 -->\n<g id=\"edge44\" class=\"edge\">\n<title>14&#45;&gt;30</title>\n<path fill=\"none\" stroke=\"black\" d=\"M1274.09,-175.01C1264.96,-162.51 1252.12,-144.9 1241.69,-130.61\"/>\n<polygon fill=\"black\" stroke=\"black\" points=\"1244.29,-128.22 1235.57,-122.21 1238.63,-132.35 1244.29,-128.22\"/>\n<text text-anchor=\"middle\" x=\"1294.25\" y=\"-144.8\" font-family=\"Times New Roman,serif\" font-size=\"14.00\">schema:price</text>\n</g>\n<!-- 15 -->\n<g id=\"node16\" class=\"node\">\n<title>15</title>\n<ellipse fill=\"none\" stroke=\"black\" cx=\"429.75\" cy=\"-105\" rx=\"31.4\" ry=\"18\"/>\n<text text-anchor=\"middle\" x=\"429.75\" y=\"-101.3\" font-family=\"Times New Roman,serif\" font-size=\"14.00\">_:bn7</text>\n</g>\n<!-- 15&#45;&gt;10 -->\n<g id=\"edge25\" class=\"edge\">\n<title>15&#45;&gt;10</title>\n<path fill=\"none\" stroke=\"black\" d=\"M460.68,-102.52C512.93,-99.44 615.7,-90.73 643.75,-69 651.07,-63.32 656.01,-54.69 659.32,-46.19\"/>\n<polygon fill=\"black\" stroke=\"black\" points=\"662.72,-47.04 662.5,-36.45 656.07,-44.87 662.72,-47.04\"/>\n<text text-anchor=\"middle\" x=\"689.25\" y=\"-57.8\" font-family=\"Times New Roman,serif\" font-size=\"14.00\">rdf:currency</text>\n</g>\n<!-- 15&#45;&gt;29 -->\n<g id=\"edge4\" class=\"edge\">\n<title>15&#45;&gt;29</title>\n<path fill=\"none\" stroke=\"black\" d=\"M419.21,-88.01C411.21,-75.86 400.03,-58.9 390.76,-44.83\"/>\n<polygon fill=\"black\" stroke=\"black\" points=\"393.43,-42.51 385,-36.08 387.58,-46.36 393.43,-42.51\"/>\n<text text-anchor=\"middle\" x=\"429.25\" y=\"-57.8\" font-family=\"Times New Roman,serif\" font-size=\"14.00\">rdf:value</text>\n</g>\n<!-- 16&#45;&gt;8 -->\n<g id=\"edge39\" class=\"edge\">\n<title>16&#45;&gt;8</title>\n<path fill=\"none\" stroke=\"black\" d=\"M1070.88,-261.79C1062.77,-250.1 1050.14,-235.18 1034.75,-228 995.44,-209.66 687.81,-215.22 644.75,-210 637.58,-209.13 630.12,-208 622.71,-206.74\"/>\n<polygon fill=\"black\" stroke=\"black\" points=\"623.14,-203.26 612.68,-204.94 621.91,-210.15 623.14,-203.26\"/>\n<text text-anchor=\"middle\" x=\"1075.75\" y=\"-231.8\" font-family=\"Times New Roman,serif\" font-size=\"14.00\">rdf:type</text>\n</g>\n<!-- 16&#45;&gt;14 -->\n<g id=\"edge23\" class=\"edge\">\n<title>16&#45;&gt;14</title>\n<path fill=\"none\" stroke=\"black\" d=\"M1104.12,-267.06C1109.5,-264.82 1115.26,-262.65 1120.75,-261 1162.73,-248.35 1177.51,-260.43 1217.75,-243 1233.81,-236.04 1249.68,-224.69 1262.05,-214.57\"/>\n<polygon fill=\"black\" stroke=\"black\" points=\"1264.65,-216.95 1270.01,-207.82 1260.12,-211.61 1264.65,-216.95\"/>\n<text text-anchor=\"middle\" x=\"1280.25\" y=\"-231.8\" font-family=\"Times New Roman,serif\" font-size=\"14.00\">schema:offer</text>\n</g>\n<!-- 23 -->\n<g id=\"node24\" class=\"node\">\n<title>23</title>\n<polygon fill=\"none\" stroke=\"black\" points=\"1236.75,-210 1076.75,-210 1076.75,-174 1236.75,-174 1236.75,-210\"/>\n<text text-anchor=\"middle\" x=\"1156.75\" y=\"-188.3\" font-family=\"Times New Roman,serif\" font-size=\"14.00\">&quot;Hot Millbro&quot;^^xsd:string</text>\n</g>\n<!-- 16&#45;&gt;23 -->\n<g id=\"edge29\" class=\"edge\">\n<title>16&#45;&gt;23</title>\n<path fill=\"none\" stroke=\"black\" d=\"M1101.95,-265.44C1110.94,-259.42 1121.08,-251.64 1128.75,-243 1134.92,-236.05 1140.31,-227.51 1144.68,-219.47\"/>\n<polygon fill=\"black\" stroke=\"black\" points=\"1147.88,-220.88 1149.31,-210.38 1141.65,-217.7 1147.88,-220.88\"/>\n<text text-anchor=\"middle\" x=\"1176.25\" y=\"-231.8\" font-family=\"Times New Roman,serif\" font-size=\"14.00\">schema:name</text>\n</g>\n<!-- 19&#45;&gt;10 -->\n<g id=\"edge33\" class=\"edge\">\n<title>19&#45;&gt;10</title>\n<path fill=\"none\" stroke=\"black\" d=\"M826.29,-86.81C823.21,-75.89 817.62,-62.3 807.75,-54 787.59,-37.05 760.45,-28.09 735.3,-23.43\"/>\n<polygon fill=\"black\" stroke=\"black\" points=\"735.85,-19.97 725.41,-21.79 734.7,-26.88 735.85,-19.97\"/>\n<text text-anchor=\"middle\" x=\"852.25\" y=\"-57.8\" font-family=\"Times New Roman,serif\" font-size=\"14.00\">rdf:currency</text>\n</g>\n<!-- 19&#45;&gt;29 -->\n<g id=\"edge15\" class=\"edge\">\n<title>19&#45;&gt;29</title>\n<path fill=\"none\" stroke=\"black\" d=\"M805.9,-93.39C791.05,-86.66 771.64,-77.62 754.75,-69 742.52,-62.76 740.85,-58.09 727.75,-54 702.06,-45.97 547.19,-32.65 451,-24.96\"/>\n<polygon fill=\"black\" stroke=\"black\" points=\"451.26,-21.47 441.02,-24.17 450.71,-28.45 451.26,-21.47\"/>\n<text text-anchor=\"middle\" x=\"779.25\" y=\"-57.8\" font-family=\"Times New Roman,serif\" font-size=\"14.00\">rdf:value</text>\n</g>\n<!-- 20 -->\n<g id=\"node21\" class=\"node\">\n<title>20</title>\n<ellipse fill=\"none\" stroke=\"black\" cx=\"256.75\" cy=\"-105\" rx=\"36\" ry=\"18\"/>\n<text text-anchor=\"middle\" x=\"256.75\" y=\"-101.3\" font-family=\"Times New Roman,serif\" font-size=\"14.00\">_:bn10</text>\n</g>\n<!-- 20&#45;&gt;10 -->\n<g id=\"edge5\" class=\"edge\">\n<title>20&#45;&gt;10</title>\n<path fill=\"none\" stroke=\"black\" d=\"M283.53,-92.65C289.45,-90.49 295.74,-88.46 301.75,-87 369.57,-70.54 392.62,-94.08 457.75,-69 468.45,-64.88 468.19,-58.49 478.75,-54 515.83,-38.21 560.05,-29.52 596.17,-24.75\"/>\n<polygon fill=\"black\" stroke=\"black\" points=\"596.65,-28.22 606.14,-23.5 595.78,-21.27 596.65,-28.22\"/>\n<text text-anchor=\"middle\" x=\"513.25\" y=\"-57.8\" font-family=\"Times New Roman,serif\" font-size=\"14.00\">rdf:currency</text>\n</g>\n<!-- 20&#45;&gt;29 -->\n<g id=\"edge24\" class=\"edge\">\n<title>20&#45;&gt;29</title>\n<path fill=\"none\" stroke=\"black\" d=\"M261.8,-86.7C265.7,-76.01 272.1,-62.72 281.75,-54 287.32,-48.96 293.7,-44.61 300.44,-40.88\"/>\n<polygon fill=\"black\" stroke=\"black\" points=\"302.46,-43.78 309.81,-36.15 299.3,-37.53 302.46,-43.78\"/>\n<text text-anchor=\"middle\" x=\"306.25\" y=\"-57.8\" font-family=\"Times New Roman,serif\" font-size=\"14.00\">rdf:value</text>\n</g>\n<!-- 21&#45;&gt;2 -->\n<g id=\"edge6\" class=\"edge\">\n<title>21&#45;&gt;2</title>\n<path fill=\"none\" stroke=\"black\" d=\"M864.46,-260.85C864.69,-251.18 864.67,-238.9 863.75,-228 863.53,-225.42 863.22,-222.74 862.86,-220.07\"/>\n<polygon fill=\"black\" stroke=\"black\" points=\"866.28,-219.34 861.26,-210.02 859.37,-220.44 866.28,-219.34\"/>\n<text text-anchor=\"middle\" x=\"900.25\" y=\"-231.8\" font-family=\"Times New Roman,serif\" font-size=\"14.00\">schema:offer</text>\n</g>\n<!-- 21&#45;&gt;8 -->\n<g id=\"edge10\" class=\"edge\">\n<title>21&#45;&gt;8</title>\n<path fill=\"none\" stroke=\"black\" d=\"M830.26,-272.5C800.18,-266.98 755.14,-257.23 717.75,-243 704.55,-237.98 702.88,-233.19 689.75,-228 668.67,-219.67 644.93,-212.66 623.5,-207.15\"/>\n<polygon fill=\"black\" stroke=\"black\" points=\"624.06,-203.68 613.51,-204.64 622.36,-210.47 624.06,-203.68\"/>\n<text text-anchor=\"middle\" x=\"739.75\" y=\"-231.8\" font-family=\"Times New Roman,serif\" font-size=\"14.00\">rdf:type</text>\n</g>\n<!-- 31 -->\n<g id=\"node32\" class=\"node\">\n<title>31</title>\n<polygon fill=\"none\" stroke=\"black\" points=\"1058.75,-210 906.75,-210 906.75,-174 1058.75,-174 1058.75,-210\"/>\n<text text-anchor=\"middle\" x=\"982.75\" y=\"-188.3\" font-family=\"Times New Roman,serif\" font-size=\"14.00\">&quot;Ice Millsis&quot;^^xsd:string</text>\n</g>\n<!-- 21&#45;&gt;31 -->\n<g id=\"edge18\" class=\"edge\">\n<title>21&#45;&gt;31</title>\n<path fill=\"none\" stroke=\"black\" d=\"M892.85,-268.32C908.02,-262.43 926.36,-253.92 940.75,-243 949.78,-236.14 958.17,-227.01 965.03,-218.43\"/>\n<polygon fill=\"black\" stroke=\"black\" points=\"967.83,-220.53 971.12,-210.46 962.27,-216.28 967.83,-220.53\"/>\n<text text-anchor=\"middle\" x=\"993.25\" y=\"-231.8\" font-family=\"Times New Roman,serif\" font-size=\"14.00\">schema:name</text>\n</g>\n<!-- 24&#45;&gt;15 -->\n<g id=\"edge9\" class=\"edge\">\n<title>24&#45;&gt;15</title>\n<path fill=\"none\" stroke=\"black\" d=\"M428.95,-173.8C429.09,-162.16 429.27,-146.55 429.43,-133.24\"/>\n<polygon fill=\"black\" stroke=\"black\" points=\"432.93,-133.22 429.54,-123.18 425.93,-133.13 432.93,-133.22\"/>\n<text text-anchor=\"middle\" x=\"465.25\" y=\"-144.8\" font-family=\"Times New Roman,serif\" font-size=\"14.00\">schema:price</text>\n</g>\n<!-- 26 -->\n<g id=\"node27\" class=\"node\">\n<title>26</title>\n<ellipse fill=\"none\" stroke=\"black\" cx=\"35.75\" cy=\"-192\" rx=\"36\" ry=\"18\"/>\n<text text-anchor=\"middle\" x=\"35.75\" y=\"-188.3\" font-family=\"Times New Roman,serif\" font-size=\"14.00\">_:bn13</text>\n</g>\n<!-- 26&#45;&gt;20 -->\n<g id=\"edge17\" class=\"edge\">\n<title>26&#45;&gt;20</title>\n<path fill=\"none\" stroke=\"black\" d=\"M63.21,-180.38C68.68,-178.27 74.4,-176.06 79.75,-174 128.04,-155.39 183.77,-133.99 219.6,-120.25\"/>\n<polygon fill=\"black\" stroke=\"black\" points=\"221.07,-123.43 229.15,-116.58 218.56,-116.9 221.07,-123.43\"/>\n<text text-anchor=\"middle\" x=\"199.25\" y=\"-144.8\" font-family=\"Times New Roman,serif\" font-size=\"14.00\">schema:price</text>\n</g>\n<!-- 28&#45;&gt;5 -->\n<g id=\"edge37\" class=\"edge\">\n<title>28&#45;&gt;5</title>\n<path fill=\"none\" stroke=\"black\" d=\"M335.37,-173.8C336.46,-162.16 337.93,-146.55 339.18,-133.24\"/>\n<polygon fill=\"black\" stroke=\"black\" points=\"342.68,-133.46 340.13,-123.18 335.71,-132.8 342.68,-133.46\"/>\n<text text-anchor=\"middle\" x=\"374.25\" y=\"-144.8\" font-family=\"Times New Roman,serif\" font-size=\"14.00\">schema:price</text>\n</g>\n<!-- 30&#45;&gt;7 -->\n<g id=\"edge40\" class=\"edge\">\n<title>30&#45;&gt;7</title>\n<path fill=\"none\" stroke=\"black\" d=\"M1223.75,-86.8C1223.75,-75.16 1223.75,-59.55 1223.75,-46.24\"/>\n<polygon fill=\"black\" stroke=\"black\" points=\"1227.25,-46.18 1223.75,-36.18 1220.25,-46.18 1227.25,-46.18\"/>\n<text text-anchor=\"middle\" x=\"1248.25\" y=\"-57.8\" font-family=\"Times New Roman,serif\" font-size=\"14.00\">rdf:value</text>\n</g>\n<!-- 30&#45;&gt;10 -->\n<g id=\"edge21\" class=\"edge\">\n<title>30&#45;&gt;10</title>\n<path fill=\"none\" stroke=\"black\" d=\"M1190.1,-98.87C1100.83,-85.28 856.58,-48.07 735.58,-29.64\"/>\n<polygon fill=\"black\" stroke=\"black\" points=\"736.08,-26.17 725.67,-28.13 735.03,-33.09 736.08,-26.17\"/>\n<text text-anchor=\"middle\" x=\"1012.25\" y=\"-57.8\" font-family=\"Times New Roman,serif\" font-size=\"14.00\">rdf:currency</text>\n</g>\n<!-- 32&#45;&gt;8 -->\n<g id=\"edge7\" class=\"edge\">\n<title>32&#45;&gt;8</title>\n<path fill=\"none\" stroke=\"black\" d=\"M193.35,-274.06C250.75,-267.36 363.17,-253.43 401.75,-243 418.88,-238.37 421.99,-233.83 438.75,-228 458.65,-221.08 480.72,-214.38 500.45,-208.72\"/>\n<polygon fill=\"black\" stroke=\"black\" points=\"501.56,-212.04 510.22,-205.94 499.65,-205.31 501.56,-212.04\"/>\n<text text-anchor=\"middle\" x=\"460.75\" y=\"-231.8\" font-family=\"Times New Roman,serif\" font-size=\"14.00\">rdf:type</text>\n</g>\n<!-- 32&#45;&gt;13 -->\n<g id=\"edge31\" class=\"edge\">\n<title>32&#45;&gt;13</title>\n<path fill=\"none\" stroke=\"black\" d=\"M142.46,-262.64C134,-252.73 126.59,-239.57 132.75,-228 134.93,-223.89 137.84,-220.18 141.17,-216.84\"/>\n<polygon fill=\"black\" stroke=\"black\" points=\"143.68,-219.3 149.01,-210.14 139.13,-213.98 143.68,-219.3\"/>\n<text text-anchor=\"middle\" x=\"170.25\" y=\"-231.8\" font-family=\"Times New Roman,serif\" font-size=\"14.00\">schema:name</text>\n</g>\n<!-- 32&#45;&gt;26 -->\n<g id=\"edge28\" class=\"edge\">\n<title>32&#45;&gt;26</title>\n<path fill=\"none\" stroke=\"black\" d=\"M123.98,-274.26C101.33,-270.12 72.58,-261.39 53.75,-243 47.46,-236.86 43.36,-228.37 40.69,-220.12\"/>\n<polygon fill=\"black\" stroke=\"black\" points=\"44.04,-219.12 38.09,-210.36 37.28,-220.92 44.04,-219.12\"/>\n<text text-anchor=\"middle\" x=\"90.25\" y=\"-231.8\" font-family=\"Times New Roman,serif\" font-size=\"14.00\">schema:offer</text>\n</g>\n</g>\n</svg>\n",
      "text/plain": [
       "<graphviz.graphs.Digraph at 0x1c674969d30>"
      ]
     },
     "metadata": {},
     "output_type": "display_data"
    }
   ],
   "source": [
    "%%rdf turtle -l gofood\n",
    "\n",
    "@prefix rdfs: <http://www.w3.org/2000/01/rdf-schema#> .\n",
    "@prefix rdf: <http://www.w3.org/1999/02/22-rdf-syntax-ns#> .\n",
    "@prefix xsd: <http://www.w3.org/2001/XMLSchema#> .\n",
    "@prefix ex: <http://example.org/>.\n",
    "@prefix schema: <http://schema.org/>.\n",
    "\n",
    "@prefix owl: <http://www.w3.org/2002/07/owl#> .\n",
    "@prefix foaf: <http://xmlns.com/foaf/0.1/> .\n",
    "@prefix dbpedia: <http://dbpedia.org/resource/> .\n",
    "\n",
    "ex:KopiCiledug a schema:CafeOrCoffeeShop ;\n",
    "    schema:name \"Kopi Ciledug\"^^xsd:string ;\n",
    "    foaf:based_near dbpedia:Jakarta ;\n",
    "    foaf:seeAlso <https://www.google.com/search?q=kopi+ciledug> ;\n",
    "\n",
    "    schema:address [\n",
    "        a schema:PostalAddress ;\n",
    "        schema:addressRegion \"Jakarta\"^^xsd:string ;\n",
    "        foaf:sameAs dbpedia:Jakarta ;\n",
    "    ] ;\n",
    "\n",
    "    schema:hasMenu [\n",
    "        a schema:Menu ;\n",
    "        schema:hasMenuItem [\n",
    "            a schema:MenuItem ;\n",
    "            schema:name \"Hot Almara Kopi\"^^xsd:string ;\n",
    "            schema:offer [\n",
    "                schema:price [\n",
    "                    rdf:value \"20000\"^^xsd:integer ;\n",
    "                    rdf:currency \"IDR\"^^xsd:string ;\n",
    "                ] ;\n",
    "            ];\n",
    "        ] ;\n",
    "        \n",
    "        schema:hasMenuItem [\n",
    "            a schema:MenuItem ;\n",
    "            schema:name \"Hot Almara Kopi\"^^xsd:string ;\n",
    "            schema:offer [\n",
    "                schema:price [\n",
    "                    rdf:value \"20000\"^^xsd:integer ;\n",
    "                    rdf:currency \"IDR\"^^xsd:string ;\n",
    "                ] ;\n",
    "            ];\n",
    "        ] ;\n",
    "\n",
    "        schema:hasMenuItem [\n",
    "            a schema:MenuItem ;\n",
    "            schema:name \"Hot Millsis\"^^xsd:string ;\n",
    "            schema:offer [\n",
    "                schema:price [\n",
    "                    rdf:value \"20000\"^^xsd:integer ;\n",
    "                    rdf:currency \"IDR\"^^xsd:string ;\n",
    "                ] ;\n",
    "            ];\n",
    "        ] ;\n",
    "\n",
    "        schema:hasMenuItem [\n",
    "            a schema:MenuItem ;\n",
    "            schema:name \"Ice Millsis\"^^xsd:string ;\n",
    "            schema:offer [\n",
    "                schema:price [\n",
    "                    rdf:value \"20000\"^^xsd:integer ;\n",
    "                    rdf:currency \"IDR\"^^xsd:string ;\n",
    "                ] ;\n",
    "            ];\n",
    "        ] ;\n",
    "        \n",
    "        schema:hasMenuItem [\n",
    "            a schema:MenuItem ;\n",
    "            schema:name \"Hot Millbro\"^^xsd:string ;\n",
    "            schema:offer [\n",
    "                schema:price [\n",
    "                    rdf:value \"22000\"^^xsd:integer ;\n",
    "                    rdf:currency \"IDR\"^^xsd:string ;\n",
    "                ] ;\n",
    "            ];\n",
    "        ] ;\n",
    "    ] .\n",
    "\n"
   ]
  },
  {
   "cell_type": "code",
   "execution_count": 9,
   "metadata": {
    "deletable": false,
    "nbgrader": {
     "cell_type": "code",
     "checksum": "0afaa71115efc3f1b1745c4a5a66526d",
     "grade": false,
     "grade_id": "cell-3a92dab72bf7e251",
     "locked": false,
     "schema_version": 3,
     "solution": true,
     "task": false
    }
   },
   "outputs": [
    {
     "name": "stdout",
     "output_type": "stream",
     "text": [
      "Could not parse json-ld graph:<br>Expecting ',' delimiter: line 33 column 25 (char 1181)\n",
      "JSON-LD: Parse failed:\n",
      "\n"
     ]
    }
   ],
   "source": [
    "%%rdf json-ld -d graph -l kopiCiledug\n",
    "\n",
    "{\n",
    "    \"@context\": {\n",
    "        \"ex\": \"http://example.org/\",\n",
    "        \"schema\": \"http://schema.org/\",\n",
    "        \"rdfs\": \"http://www.w3.org/2000/01/rdf-schema#\",\n",
    "        \"rdf\": \"http://www.w3.org/1999/02/22-rdf-syntax-ns#\",\n",
    "        \"xsd\": \"http://www.w3.org/2001/XMLSchema#\",\n",
    "        \"owl\": \"http://www.w3.org/2002/07/owl#\",\n",
    "        \"foaf\": \"http://xmlns.com/foaf/0.1/\",\n",
    "        \"dbpedia\": \"http://dbpedia.org/resource/\"\n",
    "    },\n",
    "    \"@id\": \"ex:KopiCiledug\",\n",
    "    \"@type\": \"schema:CafeOrCoffeeShop\",\n",
    "    \"schema:name\": \"Kopi Ciledug\",\n",
    "    \"foaf:based_near\": \"dbpedia:Jakarta\",\n",
    "    \"foaf:seeAlso\": \"https://www.google.com/search?q=kopi+ciledug\",\n",
    "\n",
    "    \"schema:address\": {\n",
    "        \"@type\": \"schema:PostalAddress\",\n",
    "        \"schema:addressRegion\": \"Jakarta\",\n",
    "        \"foaf:sameAs\": \"dbpedia:Jakarta\"\n",
    "    },\n",
    "    \n",
    "    \"schema:hasMenu\": {\n",
    "        \"@type\": \"schema:Menu\",\n",
    "        \"schema:hasMenuItem\": [\n",
    "            {\n",
    "                \"@type\": \"schema:MenuItem\",\n",
    "                \"schema:name\": \"Hot Almara Kopi\",\n",
    "                \"schema:offer\": {\n",
    "                    \"schema:price\": {\n",
    "                        \"rdf:value\": 20000,\n",
    "                        \"rdf:datatype\": \"xsd:integer\"\n",
    "                        \"rdf:currency\": {\n",
    "                            \"rdf:value\": \"IDR\",\n",
    "                            \"rdf:datatype\": \"xsd:string\"\n",
    "                        }\n",
    "                    }\n",
    "                }\n",
    "            },\n",
    "            {\n",
    "                \"@type\": \"schema:MenuItem\",\n",
    "                \"schema:name\": \"Hot Almara Kopi\",\n",
    "                \"schema:offer\": {\n",
    "                    \"schema:price\": {\n",
    "                        \"rdf:value\": 20000,\n",
    "                        \"rdf:currency\": {\n",
    "                            \"rdf:value\": \"IDR\",\n",
    "                            \"rdf:datatype\": \"xsd:string\"\n",
    "                        }\n",
    "                    }\n",
    "                }\n",
    "            },\n",
    "            {\n",
    "                \"@type\": \"schema:MenuItem\",\n",
    "                \"schema:name\": \"Hot Millsis\",\n",
    "                \"schema:offer\": {\n",
    "                    \"schema:price\": {\n",
    "                        \"rdf:value\": 20000,\n",
    "                        \"rdf:currency\": {\n",
    "                            \"rdf:value\": \"IDR\",\n",
    "                            \"rdf:datatype\": \"xsd:string\"\n",
    "                        }\n",
    "                    }\n",
    "                }\n",
    "            },\n",
    "            {\n",
    "                \"@type\": \"schema:MenuItem\",\n",
    "                \"schema:name\": \"Ice Millsis\",\n",
    "                \"schema:offer\": {\n",
    "                    \"schema:price\": {\n",
    "                        \"rdf:value\": 20000,\n",
    "                        \"rdf:currency\": \"IDR\"\n",
    "                    }\n",
    "                }\n",
    "            },\n",
    "            {\n",
    "                \"@type\": \"schema:MenuItem\",\n",
    "                \"schema:name\": \"Hot Millbro\",\n",
    "                \"schema:offer\": {\n",
    "                    \"schema:price\": {\n",
    "                        \"rdf:value\": 22000,\n",
    "                        \"rdf:currency\": \"IDR\"\n",
    "                    }\n",
    "                }\n",
    "            }\n",
    "        ]\n",
    "    }\n",
    "}"
   ]
  },
  {
   "cell_type": "markdown",
   "metadata": {
    "deletable": false,
    "editable": false,
    "nbgrader": {
     "cell_type": "markdown",
     "checksum": "40e84a520c8537880dc7922cc6c98977",
     "grade": false,
     "grade_id": "cell-4bcc34dfe90bb260",
     "locked": true,
     "schema_version": 3,
     "solution": false,
     "task": false
    }
   },
   "source": [
    "## Task 2: JSON-LD Person [4 points]\n",
    "\n",
    "Consider the following RDF graph in Turtle format:"
   ]
  },
  {
   "cell_type": "code",
   "execution_count": 10,
   "metadata": {
    "deletable": false,
    "editable": false,
    "nbgrader": {
     "cell_type": "code",
     "checksum": "93d88dd55b3261f5ed5e142b79329e76",
     "grade": false,
     "grade_id": "cell-cb50ba84d893cf56",
     "locked": true,
     "schema_version": 3,
     "solution": false,
     "task": false
    }
   },
   "outputs": [
    {
     "data": {
      "image/svg+xml": "<?xml version=\"1.0\" encoding=\"UTF-8\" standalone=\"no\"?>\n<!DOCTYPE svg PUBLIC \"-//W3C//DTD SVG 1.1//EN\"\n \"http://www.w3.org/Graphics/SVG/1.1/DTD/svg11.dtd\">\n<!-- Generated by graphviz version 5.0.1 (20220820.1526)\n -->\n<!-- Pages: 1 -->\n<svg width=\"877pt\" height=\"392pt\"\n viewBox=\"0.00 0.00 876.80 392.00\" xmlns=\"http://www.w3.org/2000/svg\" xmlns:xlink=\"http://www.w3.org/1999/xlink\">\n<g id=\"graph0\" class=\"graph\" transform=\"scale(1 1) rotate(0) translate(4 388)\">\n<polygon fill=\"white\" stroke=\"none\" points=\"-4,4 -4,-388 872.8,-388 872.8,4 -4,4\"/>\n<!-- 0 -->\n<g id=\"node1\" class=\"node\">\n<title>0</title>\n<ellipse fill=\"none\" stroke=\"black\" cx=\"178.8\" cy=\"-279\" rx=\"31.4\" ry=\"18\"/>\n<text text-anchor=\"middle\" x=\"178.8\" y=\"-275.3\" font-family=\"Times New Roman,serif\" font-size=\"14.00\">_:bn0</text>\n</g>\n<!-- 9 -->\n<g id=\"node10\" class=\"node\">\n<title>9</title>\n<ellipse fill=\"none\" stroke=\"black\" cx=\"137.8\" cy=\"-192\" rx=\"31.4\" ry=\"18\"/>\n<text text-anchor=\"middle\" x=\"137.8\" y=\"-188.3\" font-family=\"Times New Roman,serif\" font-size=\"14.00\">_:bn2</text>\n</g>\n<!-- 0&#45;&gt;9 -->\n<g id=\"edge12\" class=\"edge\">\n<title>0&#45;&gt;9</title>\n<path fill=\"none\" stroke=\"black\" d=\"M165.99,-262.28C161.69,-256.48 157.14,-249.67 153.8,-243 150.16,-235.75 147.12,-227.5 144.7,-219.82\"/>\n<polygon fill=\"black\" stroke=\"black\" points=\"148.04,-218.79 141.87,-210.18 141.32,-220.76 148.04,-218.79\"/>\n<text text-anchor=\"middle\" x=\"173.8\" y=\"-231.8\" font-family=\"Times New Roman,serif\" font-size=\"14.00\">rdf:rest</text>\n</g>\n<!-- 11 -->\n<g id=\"node12\" class=\"node\">\n<title>11</title>\n<ellipse fill=\"none\" stroke=\"black\" cx=\"219.8\" cy=\"-192\" rx=\"33.29\" ry=\"18\"/>\n<text text-anchor=\"middle\" x=\"219.8\" y=\"-188.3\" font-family=\"Times New Roman,serif\" font-size=\"14.00\">ex:Jim</text>\n</g>\n<!-- 0&#45;&gt;11 -->\n<g id=\"edge6\" class=\"edge\">\n<title>0&#45;&gt;11</title>\n<path fill=\"none\" stroke=\"black\" d=\"M186.9,-261.21C192.68,-249.22 200.57,-232.85 207.18,-219.16\"/>\n<polygon fill=\"black\" stroke=\"black\" points=\"210.52,-220.29 211.71,-209.76 204.22,-217.24 210.52,-220.29\"/>\n<text text-anchor=\"middle\" x=\"222.8\" y=\"-231.8\" font-family=\"Times New Roman,serif\" font-size=\"14.00\">rdf:first</text>\n</g>\n<!-- 1 -->\n<g id=\"node2\" class=\"node\">\n<title>1</title>\n<ellipse fill=\"none\" stroke=\"black\" cx=\"94.8\" cy=\"-105\" rx=\"31.4\" ry=\"18\"/>\n<text text-anchor=\"middle\" x=\"94.8\" y=\"-101.3\" font-family=\"Times New Roman,serif\" font-size=\"14.00\">_:bn1</text>\n</g>\n<!-- 5 -->\n<g id=\"node6\" class=\"node\">\n<title>5</title>\n<ellipse fill=\"none\" stroke=\"black\" cx=\"46.8\" cy=\"-18\" rx=\"46.59\" ry=\"18\"/>\n<text text-anchor=\"middle\" x=\"46.8\" y=\"-14.3\" font-family=\"Times New Roman,serif\" font-size=\"14.00\">ex:Dwight</text>\n</g>\n<!-- 1&#45;&gt;5 -->\n<g id=\"edge2\" class=\"edge\">\n<title>1&#45;&gt;5</title>\n<path fill=\"none\" stroke=\"black\" d=\"M85.54,-87.61C78.72,-75.54 69.31,-58.88 61.48,-45\"/>\n<polygon fill=\"black\" stroke=\"black\" points=\"64.32,-42.91 56.35,-35.92 58.22,-46.35 64.32,-42.91\"/>\n<text text-anchor=\"middle\" x=\"94.8\" y=\"-57.8\" font-family=\"Times New Roman,serif\" font-size=\"14.00\">rdf:first</text>\n</g>\n<!-- 8 -->\n<g id=\"node9\" class=\"node\">\n<title>8</title>\n<ellipse fill=\"none\" stroke=\"black\" cx=\"143.8\" cy=\"-18\" rx=\"31.7\" ry=\"18\"/>\n<text text-anchor=\"middle\" x=\"143.8\" y=\"-14.3\" font-family=\"Times New Roman,serif\" font-size=\"14.00\">rdf:nil</text>\n</g>\n<!-- 1&#45;&gt;8 -->\n<g id=\"edge3\" class=\"edge\">\n<title>1&#45;&gt;8</title>\n<path fill=\"none\" stroke=\"black\" d=\"M106.84,-88.36C111.16,-82.44 115.92,-75.56 119.8,-69 124.32,-61.34 128.71,-52.69 132.47,-44.77\"/>\n<polygon fill=\"black\" stroke=\"black\" points=\"135.7,-46.13 136.71,-35.58 129.34,-43.2 135.7,-46.13\"/>\n<text text-anchor=\"middle\" x=\"148.8\" y=\"-57.8\" font-family=\"Times New Roman,serif\" font-size=\"14.00\">rdf:rest</text>\n</g>\n<!-- 2 -->\n<g id=\"node3\" class=\"node\">\n<title>2</title>\n<polygon fill=\"none\" stroke=\"black\" points=\"333.8,-297 227.8,-297 227.8,-261 333.8,-261 333.8,-297\"/>\n<text text-anchor=\"middle\" x=\"280.8\" y=\"-275.3\" font-family=\"Times New Roman,serif\" font-size=\"14.00\">&quot;Michael Scott&quot;</text>\n</g>\n<!-- 3 -->\n<g id=\"node4\" class=\"node\">\n<title>3</title>\n<ellipse fill=\"none\" stroke=\"black\" cx=\"397.8\" cy=\"-279\" rx=\"46.29\" ry=\"18\"/>\n<text text-anchor=\"middle\" x=\"397.8\" y=\"-275.3\" font-family=\"Times New Roman,serif\" font-size=\"14.00\">ex:Person</text>\n</g>\n<!-- 4 -->\n<g id=\"node5\" class=\"node\">\n<title>4</title>\n<ellipse fill=\"none\" stroke=\"black\" cx=\"545.8\" cy=\"-279\" rx=\"83.69\" ry=\"18\"/>\n<text text-anchor=\"middle\" x=\"545.8\" y=\"-275.3\" font-family=\"Times New Roman,serif\" font-size=\"14.00\">ex:RegionalManager</text>\n</g>\n<!-- 6 -->\n<g id=\"node7\" class=\"node\">\n<title>6</title>\n<ellipse fill=\"none\" stroke=\"black\" cx=\"180.8\" cy=\"-105\" rx=\"37.09\" ry=\"18\"/>\n<text text-anchor=\"middle\" x=\"180.8\" y=\"-101.3\" font-family=\"Times New Roman,serif\" font-size=\"14.00\">ex:Pam</text>\n</g>\n<!-- 7 -->\n<g id=\"node8\" class=\"node\">\n<title>7</title>\n<ellipse fill=\"none\" stroke=\"black\" cx=\"471.8\" cy=\"-366\" rx=\"49.29\" ry=\"18\"/>\n<text text-anchor=\"middle\" x=\"471.8\" y=\"-362.3\" font-family=\"Times New Roman,serif\" font-size=\"14.00\">ex:Michael</text>\n</g>\n<!-- 7&#45;&gt;0 -->\n<g id=\"edge8\" class=\"edge\">\n<title>7&#45;&gt;0</title>\n<path fill=\"none\" stroke=\"black\" d=\"M425.97,-358.99C389.17,-353.48 336.44,-344.02 291.8,-330 263.32,-321.06 232.42,-307.07 210.14,-296.16\"/>\n<polygon fill=\"black\" stroke=\"black\" points=\"211.67,-293.01 201.16,-291.69 208.56,-299.28 211.67,-293.01\"/>\n<text text-anchor=\"middle\" x=\"319.3\" y=\"-318.8\" font-family=\"Times New Roman,serif\" font-size=\"14.00\">ex:friends</text>\n</g>\n<!-- 7&#45;&gt;2 -->\n<g id=\"edge7\" class=\"edge\">\n<title>7&#45;&gt;2</title>\n<path fill=\"none\" stroke=\"black\" d=\"M437.77,-352.8C420.54,-346.4 399.38,-338.2 380.8,-330 361.14,-321.33 339.78,-310.81 321.87,-301.66\"/>\n<polygon fill=\"black\" stroke=\"black\" points=\"323.34,-298.48 312.85,-297.01 320.14,-304.7 323.34,-298.48\"/>\n<text text-anchor=\"middle\" x=\"403.8\" y=\"-318.8\" font-family=\"Times New Roman,serif\" font-size=\"14.00\">ex:name</text>\n</g>\n<!-- 7&#45;&gt;3 -->\n<g id=\"edge9\" class=\"edge\">\n<title>7&#45;&gt;3</title>\n<path fill=\"none\" stroke=\"black\" d=\"M457.53,-348.61C446.57,-336.03 431.28,-318.46 418.91,-304.25\"/>\n<polygon fill=\"black\" stroke=\"black\" points=\"421.23,-301.58 412.02,-296.34 415.95,-306.18 421.23,-301.58\"/>\n<text text-anchor=\"middle\" x=\"461.8\" y=\"-318.8\" font-family=\"Times New Roman,serif\" font-size=\"14.00\">rdf:type</text>\n</g>\n<!-- 7&#45;&gt;4 -->\n<g id=\"edge1\" class=\"edge\">\n<title>7&#45;&gt;4</title>\n<path fill=\"none\" stroke=\"black\" d=\"M486.06,-348.61C496.88,-336.19 511.92,-318.91 524.2,-304.8\"/>\n<polygon fill=\"black\" stroke=\"black\" points=\"527.14,-306.76 531.07,-296.92 521.86,-302.16 527.14,-306.76\"/>\n<text text-anchor=\"middle\" x=\"530.8\" y=\"-318.8\" font-family=\"Times New Roman,serif\" font-size=\"14.00\">ex:job</text>\n</g>\n<!-- 10 -->\n<g id=\"node11\" class=\"node\">\n<title>10</title>\n<polygon fill=\"none\" stroke=\"black\" points=\"736.3,-297 647.3,-297 647.3,-261 736.3,-261 736.3,-297\"/>\n<text text-anchor=\"middle\" x=\"691.8\" y=\"-275.3\" font-family=\"Times New Roman,serif\" font-size=\"14.00\">&quot;012346789&quot;</text>\n</g>\n<!-- 7&#45;&gt;10 -->\n<g id=\"edge4\" class=\"edge\">\n<title>7&#45;&gt;10</title>\n<path fill=\"none\" stroke=\"black\" d=\"M504.73,-352.27C539.98,-338.65 596.46,-316.84 638.14,-300.73\"/>\n<polygon fill=\"black\" stroke=\"black\" points=\"639.53,-303.95 647.6,-297.08 637.01,-297.42 639.53,-303.95\"/>\n<text text-anchor=\"middle\" x=\"643.8\" y=\"-318.8\" font-family=\"Times New Roman,serif\" font-size=\"14.00\">ex:phoneNumber</text>\n</g>\n<!-- 12 -->\n<g id=\"node13\" class=\"node\">\n<title>12</title>\n<polygon fill=\"none\" stroke=\"black\" points=\"868.8,-297 754.8,-297 754.8,-261 868.8,-261 868.8,-297\"/>\n<text text-anchor=\"middle\" x=\"811.8\" y=\"-275.3\" font-family=\"Times New Roman,serif\" font-size=\"14.00\">&quot;44&quot;^^xsd:integer</text>\n</g>\n<!-- 7&#45;&gt;12 -->\n<g id=\"edge10\" class=\"edge\">\n<title>7&#45;&gt;12</title>\n<path fill=\"none\" stroke=\"black\" d=\"M519.31,-361.08C565.17,-356.48 636.23,-347.19 695.8,-330 720.76,-322.8 747.46,-311.55 768.94,-301.55\"/>\n<polygon fill=\"black\" stroke=\"black\" points=\"770.57,-304.65 778.12,-297.21 767.58,-298.32 770.57,-304.65\"/>\n<text text-anchor=\"middle\" x=\"752.3\" y=\"-318.8\" font-family=\"Times New Roman,serif\" font-size=\"14.00\">ex:age</text>\n</g>\n<!-- 9&#45;&gt;1 -->\n<g id=\"edge5\" class=\"edge\">\n<title>9&#45;&gt;1</title>\n<path fill=\"none\" stroke=\"black\" d=\"M128.73,-174.71C125.53,-168.84 121.94,-162.16 118.8,-156 114.81,-148.2 110.62,-139.62 106.88,-131.81\"/>\n<polygon fill=\"black\" stroke=\"black\" points=\"110.04,-130.3 102.59,-122.77 103.72,-133.3 110.04,-130.3\"/>\n<text text-anchor=\"middle\" x=\"138.8\" y=\"-144.8\" font-family=\"Times New Roman,serif\" font-size=\"14.00\">rdf:rest</text>\n</g>\n<!-- 9&#45;&gt;6 -->\n<g id=\"edge11\" class=\"edge\">\n<title>9&#45;&gt;6</title>\n<path fill=\"none\" stroke=\"black\" d=\"M148.06,-174.86C151.62,-169.01 155.54,-162.29 158.8,-156 162.72,-148.42 166.6,-139.99 169.99,-132.24\"/>\n<polygon fill=\"black\" stroke=\"black\" points=\"173.26,-133.48 173.98,-122.91 166.83,-130.73 173.26,-133.48\"/>\n<text text-anchor=\"middle\" x=\"187.8\" y=\"-144.8\" font-family=\"Times New Roman,serif\" font-size=\"14.00\">rdf:first</text>\n</g>\n</g>\n</svg>\n",
      "text/plain": [
       "<graphviz.graphs.Digraph at 0x1c674969af0>"
      ]
     },
     "metadata": {},
     "output_type": "display_data"
    }
   ],
   "source": [
    "%%rdf turtle -d graph\n",
    "\n",
    "PREFIX rdf: <http://www.w3.org/1999/02/22-rdf-syntax-ns#>\n",
    "PREFIX xsd: <http://www.w3.org/2001/XMLSchema#>\n",
    "PREFIX ex: <http://example.org/#>\n",
    "\n",
    "ex:Michael a ex:Person ;\n",
    "    ex:name \"Michael Scott\" ;\n",
    "    ex:job ex:RegionalManager ;\n",
    "    ex:phoneNumber \"012346789\" ;\n",
    "    ex:age \"44\"^^xsd:integer ;\n",
    "    ex:friends (ex:Jim ex:Pam ex:Dwight) ."
   ]
  },
  {
   "cell_type": "code",
   "execution_count": 28,
   "metadata": {},
   "outputs": [
    {
     "data": {
      "image/svg+xml": "<?xml version=\"1.0\" encoding=\"UTF-8\" standalone=\"no\"?>\n<!DOCTYPE svg PUBLIC \"-//W3C//DTD SVG 1.1//EN\"\n \"http://www.w3.org/Graphics/SVG/1.1/DTD/svg11.dtd\">\n<!-- Generated by graphviz version 5.0.1 (20220820.1526)\n -->\n<!-- Pages: 1 -->\n<svg width=\"842pt\" height=\"218pt\"\n viewBox=\"0.00 0.00 841.50 218.00\" xmlns=\"http://www.w3.org/2000/svg\" xmlns:xlink=\"http://www.w3.org/1999/xlink\">\n<g id=\"graph0\" class=\"graph\" transform=\"scale(1 1) rotate(0) translate(4 214)\">\n<polygon fill=\"white\" stroke=\"none\" points=\"-4,4 -4,-214 837.5,-214 837.5,4 -4,4\"/>\n<!-- 0 -->\n<g id=\"node1\" class=\"node\">\n<title>0</title>\n<polygon fill=\"none\" stroke=\"black\" points=\"84,-123 0,-123 0,-87 84,-87 84,-123\"/>\n<text text-anchor=\"middle\" x=\"42\" y=\"-101.3\" font-family=\"Times New Roman,serif\" font-size=\"14.00\">&quot;ex:Dwight&quot;</text>\n</g>\n<!-- 1 -->\n<g id=\"node2\" class=\"node\">\n<title>1</title>\n<polygon fill=\"none\" stroke=\"black\" points=\"208,-123 102,-123 102,-87 208,-87 208,-123\"/>\n<text text-anchor=\"middle\" x=\"155\" y=\"-101.3\" font-family=\"Times New Roman,serif\" font-size=\"14.00\">&quot;Michael Scott&quot;</text>\n</g>\n<!-- 2 -->\n<g id=\"node3\" class=\"node\">\n<title>2</title>\n<polygon fill=\"none\" stroke=\"black\" points=\"289.5,-123 226.5,-123 226.5,-87 289.5,-87 289.5,-123\"/>\n<text text-anchor=\"middle\" x=\"258\" y=\"-101.3\" font-family=\"Times New Roman,serif\" font-size=\"14.00\">&quot;ex:Jim&quot;</text>\n</g>\n<!-- 3 -->\n<g id=\"node4\" class=\"node\">\n<title>3</title>\n<ellipse fill=\"none\" stroke=\"black\" cx=\"354\" cy=\"-105\" rx=\"46.29\" ry=\"18\"/>\n<text text-anchor=\"middle\" x=\"354\" y=\"-101.3\" font-family=\"Times New Roman,serif\" font-size=\"14.00\">ex:Person</text>\n</g>\n<!-- 4 -->\n<g id=\"node5\" class=\"node\">\n<title>4</title>\n<polygon fill=\"none\" stroke=\"black\" points=\"433.5,-36 344.5,-36 344.5,0 433.5,0 433.5,-36\"/>\n<text text-anchor=\"middle\" x=\"389\" y=\"-14.3\" font-family=\"Times New Roman,serif\" font-size=\"14.00\">&quot;xsd:integer&quot;</text>\n</g>\n<!-- 5 -->\n<g id=\"node6\" class=\"node\">\n<title>5</title>\n<ellipse fill=\"none\" stroke=\"black\" cx=\"394\" cy=\"-192\" rx=\"49.29\" ry=\"18\"/>\n<text text-anchor=\"middle\" x=\"394\" y=\"-188.3\" font-family=\"Times New Roman,serif\" font-size=\"14.00\">ex:Michael</text>\n</g>\n<!-- 5&#45;&gt;0 -->\n<g id=\"edge8\" class=\"edge\">\n<title>5&#45;&gt;0</title>\n<path fill=\"none\" stroke=\"black\" d=\"M345.64,-188.13C295.97,-184.24 216.82,-175.4 151,-156 127.38,-149.04 102.32,-137.84 82.19,-127.8\"/>\n<polygon fill=\"black\" stroke=\"black\" points=\"83.53,-124.55 73.03,-123.14 80.35,-130.79 83.53,-124.55\"/>\n<text text-anchor=\"middle\" x=\"178.5\" y=\"-144.8\" font-family=\"Times New Roman,serif\" font-size=\"14.00\">ex:friends</text>\n</g>\n<!-- 5&#45;&gt;1 -->\n<g id=\"edge7\" class=\"edge\">\n<title>5&#45;&gt;1</title>\n<path fill=\"none\" stroke=\"black\" d=\"M348.47,-184.75C316.72,-179.45 273.81,-170.36 238,-156 220.25,-148.88 201.9,-138.22 186.98,-128.58\"/>\n<polygon fill=\"black\" stroke=\"black\" points=\"188.89,-125.64 178.62,-123.05 185.03,-131.48 188.89,-125.64\"/>\n<text text-anchor=\"middle\" x=\"261\" y=\"-144.8\" font-family=\"Times New Roman,serif\" font-size=\"14.00\">ex:name</text>\n</g>\n<!-- 5&#45;&gt;2 -->\n<g id=\"edge4\" class=\"edge\">\n<title>5&#45;&gt;2</title>\n<path fill=\"none\" stroke=\"black\" d=\"M356.25,-180.29C339.69,-174.58 320.53,-166.52 305,-156 294.88,-149.14 285.32,-139.75 277.5,-130.96\"/>\n<polygon fill=\"black\" stroke=\"black\" points=\"279.99,-128.48 270.84,-123.14 274.66,-133.02 279.99,-128.48\"/>\n<text text-anchor=\"middle\" x=\"332.5\" y=\"-144.8\" font-family=\"Times New Roman,serif\" font-size=\"14.00\">ex:friends</text>\n</g>\n<!-- 5&#45;&gt;3 -->\n<g id=\"edge6\" class=\"edge\">\n<title>5&#45;&gt;3</title>\n<path fill=\"none\" stroke=\"black\" d=\"M380.61,-174.62C376.46,-168.97 372.16,-162.44 369,-156 365.49,-148.84 362.62,-140.69 360.37,-133.09\"/>\n<polygon fill=\"black\" stroke=\"black\" points=\"363.67,-131.92 357.67,-123.19 356.92,-133.76 363.67,-131.92\"/>\n<text text-anchor=\"middle\" x=\"391\" y=\"-144.8\" font-family=\"Times New Roman,serif\" font-size=\"14.00\">rdf:type</text>\n</g>\n<!-- 6 -->\n<g id=\"node7\" class=\"node\">\n<title>6</title>\n<ellipse fill=\"none\" stroke=\"black\" cx=\"449\" cy=\"-105\" rx=\"31.4\" ry=\"18\"/>\n<text text-anchor=\"middle\" x=\"449\" y=\"-101.3\" font-family=\"Times New Roman,serif\" font-size=\"14.00\">_:bn0</text>\n</g>\n<!-- 5&#45;&gt;6 -->\n<g id=\"edge10\" class=\"edge\">\n<title>5&#45;&gt;6</title>\n<path fill=\"none\" stroke=\"black\" d=\"M404.87,-174.21C412.88,-161.82 423.91,-144.78 432.94,-130.82\"/>\n<polygon fill=\"black\" stroke=\"black\" points=\"436.04,-132.48 438.53,-122.18 430.16,-128.68 436.04,-132.48\"/>\n<text text-anchor=\"middle\" x=\"442.5\" y=\"-144.8\" font-family=\"Times New Roman,serif\" font-size=\"14.00\">ex:age</text>\n</g>\n<!-- 7 -->\n<g id=\"node8\" class=\"node\">\n<title>7</title>\n<polygon fill=\"none\" stroke=\"black\" points=\"567.5,-123 498.5,-123 498.5,-87 567.5,-87 567.5,-123\"/>\n<text text-anchor=\"middle\" x=\"533\" y=\"-101.3\" font-family=\"Times New Roman,serif\" font-size=\"14.00\">&quot;ex:Pam&quot;</text>\n</g>\n<!-- 5&#45;&gt;7 -->\n<g id=\"edge5\" class=\"edge\">\n<title>5&#45;&gt;7</title>\n<path fill=\"none\" stroke=\"black\" d=\"M423.52,-177.56C436.23,-171.44 451.11,-163.82 464,-156 477.23,-147.97 491.17,-138.16 503.03,-129.35\"/>\n<polygon fill=\"black\" stroke=\"black\" points=\"505.37,-131.97 511.26,-123.16 501.16,-126.38 505.37,-131.97\"/>\n<text text-anchor=\"middle\" x=\"513.5\" y=\"-144.8\" font-family=\"Times New Roman,serif\" font-size=\"14.00\">ex:friends</text>\n</g>\n<!-- 8 -->\n<g id=\"node9\" class=\"node\">\n<title>8</title>\n<polygon fill=\"none\" stroke=\"black\" points=\"674.5,-123 585.5,-123 585.5,-87 674.5,-87 674.5,-123\"/>\n<text text-anchor=\"middle\" x=\"630\" y=\"-101.3\" font-family=\"Times New Roman,serif\" font-size=\"14.00\">&quot;012346789&quot;</text>\n</g>\n<!-- 5&#45;&gt;8 -->\n<g id=\"edge2\" class=\"edge\">\n<title>5&#45;&gt;8</title>\n<path fill=\"none\" stroke=\"black\" d=\"M438.69,-184.32C469.33,-178.86 510.51,-169.77 545,-156 562.94,-148.84 581.59,-138.27 596.82,-128.7\"/>\n<polygon fill=\"black\" stroke=\"black\" points=\"598.85,-131.56 605.37,-123.21 595.06,-125.67 598.85,-131.56\"/>\n<text text-anchor=\"middle\" x=\"623\" y=\"-144.8\" font-family=\"Times New Roman,serif\" font-size=\"14.00\">ex:phoneNumber</text>\n</g>\n<!-- 10 -->\n<g id=\"node11\" class=\"node\">\n<title>10</title>\n<polygon fill=\"none\" stroke=\"black\" points=\"833.5,-123 692.5,-123 692.5,-87 833.5,-87 833.5,-123\"/>\n<text text-anchor=\"middle\" x=\"763\" y=\"-101.3\" font-family=\"Times New Roman,serif\" font-size=\"14.00\">&quot;ex:RegionalManager&quot;</text>\n</g>\n<!-- 5&#45;&gt;10 -->\n<g id=\"edge9\" class=\"edge\">\n<title>5&#45;&gt;10</title>\n<path fill=\"none\" stroke=\"black\" d=\"M443.51,-190.64C500.66,-188.91 596.84,-181.93 675,-156 694.42,-149.56 714.38,-138.63 730.37,-128.63\"/>\n<polygon fill=\"black\" stroke=\"black\" points=\"732.29,-131.56 738.82,-123.21 728.51,-125.67 732.29,-131.56\"/>\n<text text-anchor=\"middle\" x=\"724\" y=\"-144.8\" font-family=\"Times New Roman,serif\" font-size=\"14.00\">ex:job</text>\n</g>\n<!-- 6&#45;&gt;4 -->\n<g id=\"edge3\" class=\"edge\">\n<title>6&#45;&gt;4</title>\n<path fill=\"none\" stroke=\"black\" d=\"M428.34,-91.45C420.08,-85.54 411.1,-77.84 405,-69 400.32,-62.22 396.95,-53.99 394.55,-46.19\"/>\n<polygon fill=\"black\" stroke=\"black\" points=\"397.88,-45.09 391.92,-36.33 391.11,-46.89 397.88,-45.09\"/>\n<text text-anchor=\"middle\" x=\"438.5\" y=\"-57.8\" font-family=\"Times New Roman,serif\" font-size=\"14.00\">rdf:datatype</text>\n</g>\n<!-- 9 -->\n<g id=\"node10\" class=\"node\">\n<title>9</title>\n<polygon fill=\"none\" stroke=\"black\" points=\"566,-36 452,-36 452,0 566,0 566,-36\"/>\n<text text-anchor=\"middle\" x=\"509\" y=\"-14.3\" font-family=\"Times New Roman,serif\" font-size=\"14.00\">&quot;44&quot;^^xsd:integer</text>\n</g>\n<!-- 6&#45;&gt;9 -->\n<g id=\"edge1\" class=\"edge\">\n<title>6&#45;&gt;9</title>\n<path fill=\"none\" stroke=\"black\" d=\"M460.29,-88.01C468.94,-75.75 481.07,-58.57 491.05,-44.43\"/>\n<polygon fill=\"black\" stroke=\"black\" points=\"494.03,-46.27 496.94,-36.08 488.32,-42.23 494.03,-46.27\"/>\n<text text-anchor=\"middle\" x=\"507.5\" y=\"-57.8\" font-family=\"Times New Roman,serif\" font-size=\"14.00\">rdf:value</text>\n</g>\n</g>\n</svg>\n",
      "text/plain": [
       "<graphviz.graphs.Digraph at 0x1c674998cd0>"
      ]
     },
     "metadata": {},
     "output_type": "display_data"
    }
   ],
   "source": [
    "%%rdf json-ld -d graph -l office\n",
    "\n",
    "{\n",
    "    \"@context\": {\n",
    "        \"ex\": \"http://example.org/#\",\n",
    "        \"rdf\": \"http://www.w3.org/1999/02/22-rdf-syntax-ns#\",\n",
    "        \"xsd\": \"http://www.w3.org/2001/XMLSchema#\"\n",
    "    },\n",
    "    \"@id\": \"ex:Michael\",\n",
    "    \"@type\": \"ex:Person\",\n",
    "    \"ex:name\": \"Michael Scott\",\n",
    "    \"ex:job\": \"ex:RegionalManager\",\n",
    "    \"ex:phoneNumber\": \"012346789\",\n",
    "    \"ex:age\": {\n",
    "        \"rdf:value\": 44,\n",
    "        \"rdf:datatype\": \"xsd:integer\"\n",
    "    },\n",
    "    \"ex:friends\": [\n",
    "        \"ex:Jim\",\n",
    "        \"ex:Pam\",\n",
    "        \"ex:Dwight\"\n",
    "    ]\n",
    "}"
   ]
  },
  {
   "cell_type": "markdown",
   "metadata": {
    "deletable": false,
    "editable": false,
    "nbgrader": {
     "cell_type": "markdown",
     "checksum": "00bb1684a23b0281732a0d0ced5d1911",
     "grade": false,
     "grade_id": "cell-aaf037d37e5e84ad",
     "locked": true,
     "schema_version": 3,
     "solution": false,
     "task": false
    }
   },
   "source": [
    "Create the same graph using JSON-LD.  \n",
    "**Please note the difference between URIs and literals e.g. ex:Professor vs \"ex:Professor\"**"
   ]
  },
  {
   "cell_type": "code",
   "execution_count": 12,
   "metadata": {
    "deletable": false,
    "editable": false,
    "nbgrader": {
     "cell_type": "code",
     "checksum": "19918e66a6e75aee07eb48eeb9ef38e3",
     "grade": true,
     "grade_id": "cell-0d6d9e590d485fbd",
     "locked": true,
     "points": 1,
     "schema_version": 3,
     "solution": false,
     "task": false
    }
   },
   "outputs": [],
   "source": [
    "# This test will check whether your node has the correct type. [1 point]"
   ]
  },
  {
   "cell_type": "code",
   "execution_count": 13,
   "metadata": {
    "deletable": false,
    "editable": false,
    "nbgrader": {
     "cell_type": "code",
     "checksum": "ffc33af5ce12688196f77cc49e72e341",
     "grade": true,
     "grade_id": "cell-e8b4b924718268e1",
     "locked": true,
     "points": 1,
     "schema_version": 3,
     "solution": false,
     "task": false
    }
   },
   "outputs": [],
   "source": [
    "# This test will check whether your literals are correct. [1 point]"
   ]
  },
  {
   "cell_type": "code",
   "execution_count": 14,
   "metadata": {
    "deletable": false,
    "editable": false,
    "nbgrader": {
     "cell_type": "code",
     "checksum": "47f7c24878eae235218f113f9d5b0109",
     "grade": true,
     "grade_id": "cell-004a89c6d830b5e6",
     "locked": true,
     "points": 1,
     "schema_version": 3,
     "solution": false,
     "task": false
    }
   },
   "outputs": [],
   "source": [
    "# This test will check whether your friendlist is correct. [1 point]"
   ]
  },
  {
   "cell_type": "code",
   "execution_count": 15,
   "metadata": {
    "deletable": false,
    "editable": false,
    "nbgrader": {
     "cell_type": "code",
     "checksum": "3aea0e88bbf4e78fa26cf79c50c58954",
     "grade": true,
     "grade_id": "cell-73e1bd61abbd1e5a",
     "locked": true,
     "points": 1,
     "schema_version": 3,
     "solution": false,
     "task": false
    }
   },
   "outputs": [],
   "source": [
    "# This test will check whether your other triples are correct. [1 point]"
   ]
  },
  {
   "cell_type": "markdown",
   "metadata": {
    "deletable": false,
    "editable": false,
    "nbgrader": {
     "cell_type": "markdown",
     "checksum": "b7cce3caa7ff73b78a44a2e4b0b967f2",
     "grade": false,
     "grade_id": "cell-07971b190da8ba1b",
     "locked": true,
     "schema_version": 3,
     "solution": false,
     "task": false
    }
   },
   "source": [
    "## Task 3: Blank Nodes & Reification [2 points]\n",
    "Model the following in JSON-LD using RDF reification.\n",
    "\n",
    "Peralta knows that Terry loves joghurt.\n",
    "\n",
    "Use the following URIs:  \n",
    "Peralta: **http://example.org/#Peralta**  \n",
    "knows: **http://example.org/#knows**  \n",
    "Terry: **http://example.org/#Terry**  \n",
    "loves: **http://example.org/#loves**  \n",
    "Joghurt: **http://example.org/#Joghurt**  \n",
    "\n",
    "You may need the RDF vocabulary prefix: **http://www.w3.org/1999/02/22-rdf-syntax-ns#**"
   ]
  },
  {
   "cell_type": "code",
   "execution_count": 16,
   "metadata": {
    "deletable": false,
    "nbgrader": {
     "cell_type": "code",
     "checksum": "d715e40d4aa120f359615e5d21064ec4",
     "grade": false,
     "grade_id": "cell-5a05214e22fc1331",
     "locked": false,
     "schema_version": 3,
     "solution": true,
     "task": false
    }
   },
   "outputs": [
    {
     "name": "stdout",
     "output_type": "stream",
     "text": [
      "Could not parse json-ld graph:<br>Expecting ',' delimiter: line 21 column 10 (char 468)\n",
      "JSON-LD: Parse failed:\n",
      "\n"
     ]
    }
   ],
   "source": [
    "%%rdf json-ld -d graph -l 99\n",
    "\n",
    "{\n",
    "    \"@context\": {\n",
    "        \"ex\": \"http://example.org/#\",\n",
    "        \"xsd\": \"http://www.w3.org/2001/XMLSchema#\"\n",
    "    },\n",
    "    \"@id\": \"ex:Peralta\",\n",
    "    \"@type\": \"ex:Person\",\n",
    "    \"ex:name\": \"Peralta\",\n",
    "    \"ex:knows\": {\n",
    "        \"@id\": \"ex:knows\",\n",
    "        \"@type\": \"ex:Statement\",\n",
    "        \"ex:subject\": {\n",
    "            \"@id\": \"ex:Peralta\"\n",
    "        },\n",
    "        \"ex:predicate\": {\n",
    "            \"@id\": \"ex:knows\"\n",
    "        },\n",
    "        \"ex:object\": {\n",
    "            \"@id\": \"ex:Terry\"\n",
    "        }x\n",
    "}"
   ]
  },
  {
   "cell_type": "code",
   "execution_count": 17,
   "metadata": {
    "deletable": false,
    "editable": false,
    "nbgrader": {
     "cell_type": "code",
     "checksum": "634e572c5b6a8004ec8cef0634e9382d",
     "grade": true,
     "grade_id": "cell-2578225ee82a3eac",
     "locked": true,
     "points": 1,
     "schema_version": 3,
     "solution": false,
     "task": false
    }
   },
   "outputs": [],
   "source": [
    "# This test will check whether you modelled the blank node correctly. [1 point]"
   ]
  },
  {
   "cell_type": "code",
   "execution_count": 18,
   "metadata": {
    "deletable": false,
    "editable": false,
    "nbgrader": {
     "cell_type": "code",
     "checksum": "dbab91479023f7e6146a9d6c5962dbc4",
     "grade": true,
     "grade_id": "cell-81792a90cfa7f7a7",
     "locked": true,
     "points": 1,
     "schema_version": 3,
     "solution": false,
     "task": false
    }
   },
   "outputs": [],
   "source": [
    "# This test will check whether you modelled the reification correctly. [1 point]"
   ]
  },
  {
   "cell_type": "markdown",
   "metadata": {
    "deletable": false,
    "editable": false,
    "nbgrader": {
     "cell_type": "markdown",
     "checksum": "f5f3a7282993fb48c8d10282e3abe34c",
     "grade": false,
     "grade_id": "cell-0965fcf39f7df5e9",
     "locked": true,
     "schema_version": 3,
     "solution": false,
     "task": false
    }
   },
   "source": [
    "## Task 4: Multiple Graphs, Multiple Properties And Multiple Languages [3 points]\n",
    "Consider the following RDF graph in Turtle format:"
   ]
  },
  {
   "cell_type": "code",
   "execution_count": 19,
   "metadata": {
    "deletable": false,
    "editable": false,
    "nbgrader": {
     "cell_type": "code",
     "checksum": "5575dc026ec83525d8465511afb7749e",
     "grade": false,
     "grade_id": "cell-d9ab69936cfb71e2",
     "locked": true,
     "schema_version": 3,
     "solution": false,
     "task": false
    }
   },
   "outputs": [
    {
     "data": {
      "image/svg+xml": "<?xml version=\"1.0\" encoding=\"UTF-8\" standalone=\"no\"?>\n<!DOCTYPE svg PUBLIC \"-//W3C//DTD SVG 1.1//EN\"\n \"http://www.w3.org/Graphics/SVG/1.1/DTD/svg11.dtd\">\n<!-- Generated by graphviz version 5.0.1 (20220820.1526)\n -->\n<!-- Pages: 1 -->\n<svg width=\"504pt\" height=\"131pt\"\n viewBox=\"0.00 0.00 503.50 131.00\" xmlns=\"http://www.w3.org/2000/svg\" xmlns:xlink=\"http://www.w3.org/1999/xlink\">\n<g id=\"graph0\" class=\"graph\" transform=\"scale(1 1) rotate(0) translate(4 127)\">\n<polygon fill=\"white\" stroke=\"none\" points=\"-4,4 -4,-127 499.5,-127 499.5,4 -4,4\"/>\n<!-- 0 -->\n<g id=\"node1\" class=\"node\">\n<title>0</title>\n<ellipse fill=\"none\" stroke=\"black\" cx=\"111\" cy=\"-105\" rx=\"50.09\" ry=\"18\"/>\n<text text-anchor=\"middle\" x=\"111\" y=\"-101.3\" font-family=\"Times New Roman,serif\" font-size=\"14.00\">ex:Sweden</text>\n</g>\n<!-- 3 -->\n<g id=\"node4\" class=\"node\">\n<title>3</title>\n<polygon fill=\"none\" stroke=\"black\" points=\"98,-36 0,-36 0,0 98,0 98,-36\"/>\n<text text-anchor=\"middle\" x=\"49\" y=\"-14.3\" font-family=\"Times New Roman,serif\" font-size=\"14.00\">&quot;Sweden&quot;@en</text>\n</g>\n<!-- 0&#45;&gt;3 -->\n<g id=\"edge3\" class=\"edge\">\n<title>0&#45;&gt;3</title>\n<path fill=\"none\" stroke=\"black\" d=\"M98.75,-87.21C89.81,-74.95 77.53,-58.11 67.41,-44.24\"/>\n<polygon fill=\"black\" stroke=\"black\" points=\"70.16,-42.07 61.44,-36.05 64.5,-46.19 70.16,-42.07\"/>\n<text text-anchor=\"middle\" x=\"107\" y=\"-57.8\" font-family=\"Times New Roman,serif\" font-size=\"14.00\">ex:name</text>\n</g>\n<!-- 4 -->\n<g id=\"node5\" class=\"node\">\n<title>4</title>\n<polygon fill=\"none\" stroke=\"black\" points=\"229.5,-36 116.5,-36 116.5,0 229.5,0 229.5,-36\"/>\n<text text-anchor=\"middle\" x=\"173\" y=\"-14.3\" font-family=\"Times New Roman,serif\" font-size=\"14.00\">&quot;Schweden&quot;@de</text>\n</g>\n<!-- 0&#45;&gt;4 -->\n<g id=\"edge4\" class=\"edge\">\n<title>0&#45;&gt;4</title>\n<path fill=\"none\" stroke=\"black\" d=\"M123.25,-87.21C132.19,-74.95 144.47,-58.11 154.59,-44.24\"/>\n<polygon fill=\"black\" stroke=\"black\" points=\"157.5,-46.19 160.56,-36.05 151.84,-42.07 157.5,-46.19\"/>\n<text text-anchor=\"middle\" x=\"169\" y=\"-57.8\" font-family=\"Times New Roman,serif\" font-size=\"14.00\">ex:name</text>\n</g>\n<!-- 1 -->\n<g id=\"node2\" class=\"node\">\n<title>1</title>\n<polygon fill=\"none\" stroke=\"black\" points=\"372,-36 248,-36 248,0 372,0 372,-36\"/>\n<text text-anchor=\"middle\" x=\"310\" y=\"-14.3\" font-family=\"Times New Roman,serif\" font-size=\"14.00\">&quot;Deutschland&quot;@de</text>\n</g>\n<!-- 2 -->\n<g id=\"node3\" class=\"node\">\n<title>2</title>\n<polygon fill=\"none\" stroke=\"black\" points=\"495.5,-36 390.5,-36 390.5,0 495.5,0 495.5,-36\"/>\n<text text-anchor=\"middle\" x=\"443\" y=\"-14.3\" font-family=\"Times New Roman,serif\" font-size=\"14.00\">&quot;Germany&quot;@en</text>\n</g>\n<!-- 5 -->\n<g id=\"node6\" class=\"node\">\n<title>5</title>\n<ellipse fill=\"none\" stroke=\"black\" cx=\"376\" cy=\"-105\" rx=\"53.89\" ry=\"18\"/>\n<text text-anchor=\"middle\" x=\"376\" y=\"-101.3\" font-family=\"Times New Roman,serif\" font-size=\"14.00\">ex:Germany</text>\n</g>\n<!-- 5&#45;&gt;1 -->\n<g id=\"edge1\" class=\"edge\">\n<title>5&#45;&gt;1</title>\n<path fill=\"none\" stroke=\"black\" d=\"M362.96,-87.21C353.44,-74.95 340.37,-58.11 329.6,-44.24\"/>\n<polygon fill=\"black\" stroke=\"black\" points=\"332.14,-41.8 323.24,-36.05 326.61,-46.09 332.14,-41.8\"/>\n<text text-anchor=\"middle\" x=\"370\" y=\"-57.8\" font-family=\"Times New Roman,serif\" font-size=\"14.00\">ex:name</text>\n</g>\n<!-- 5&#45;&gt;2 -->\n<g id=\"edge2\" class=\"edge\">\n<title>5&#45;&gt;2</title>\n<path fill=\"none\" stroke=\"black\" d=\"M389.24,-87.21C398.9,-74.95 412.17,-58.11 423.11,-44.24\"/>\n<polygon fill=\"black\" stroke=\"black\" points=\"426.12,-46.07 429.56,-36.05 420.62,-41.74 426.12,-46.07\"/>\n<text text-anchor=\"middle\" x=\"436\" y=\"-57.8\" font-family=\"Times New Roman,serif\" font-size=\"14.00\">ex:name</text>\n</g>\n</g>\n</svg>\n",
      "text/plain": [
       "<graphviz.graphs.Digraph at 0x1c674998640>"
      ]
     },
     "metadata": {},
     "output_type": "display_data"
    }
   ],
   "source": [
    "%%rdf turtle -d graph\n",
    "PREFIX rdf: <http://www.w3.org/1999/02/22-rdf-syntax-ns#>\n",
    "PREFIX xsd: <http://www.w3.org/2001/XMLSchema#>\n",
    "PREFIX ex: <http://example.org/#>\n",
    "\n",
    "ex:Germany ex:name \"Deutschland\"@de, \"Germany\"@en .\n",
    "ex:Sweden ex:name \"Schweden\"@de, \"Sweden\"@en ."
   ]
  },
  {
   "cell_type": "markdown",
   "metadata": {
    "deletable": false,
    "editable": false,
    "nbgrader": {
     "cell_type": "markdown",
     "checksum": "fcdda475a36fe461c19b8e54748308b9",
     "grade": false,
     "grade_id": "cell-f4b59ad9c2b853cf",
     "locked": true,
     "schema_version": 3,
     "solution": false,
     "task": false
    }
   },
   "source": [
    "Create an identical graph using JSON-LD."
   ]
  },
  {
   "cell_type": "code",
   "execution_count": 20,
   "metadata": {
    "deletable": false,
    "nbgrader": {
     "cell_type": "code",
     "checksum": "390a9703c0f7c8d244c0edbd1865a9b9",
     "grade": false,
     "grade_id": "cell-7ac50fae9fadd1b9",
     "locked": false,
     "schema_version": 3,
     "solution": true,
     "task": false
    }
   },
   "outputs": [
    {
     "data": {
      "image/svg+xml": "<?xml version=\"1.0\" encoding=\"UTF-8\" standalone=\"no\"?>\n<!DOCTYPE svg PUBLIC \"-//W3C//DTD SVG 1.1//EN\"\n \"http://www.w3.org/Graphics/SVG/1.1/DTD/svg11.dtd\">\n<!-- Generated by graphviz version 5.0.1 (20220820.1526)\n -->\n<!-- Pages: 1 -->\n<svg width=\"8pt\" height=\"8pt\"\n viewBox=\"0.00 0.00 8.00 8.00\" xmlns=\"http://www.w3.org/2000/svg\" xmlns:xlink=\"http://www.w3.org/1999/xlink\">\n<g id=\"graph0\" class=\"graph\" transform=\"scale(1 1) rotate(0) translate(4 4)\">\n<polygon fill=\"white\" stroke=\"none\" points=\"-4,4 -4,-4 4,-4 4,4 -4,4\"/>\n</g>\n</svg>\n",
      "text/plain": [
       "<graphviz.graphs.Digraph at 0x1c674983940>"
      ]
     },
     "metadata": {},
     "output_type": "display_data"
    }
   ],
   "source": [
    "%%rdf json-ld -d graph -l multi\n",
    "{\n",
    "    ### YOUR SOLUTION HERE\n",
    "}"
   ]
  },
  {
   "cell_type": "code",
   "execution_count": 21,
   "metadata": {
    "deletable": false,
    "editable": false,
    "nbgrader": {
     "cell_type": "code",
     "checksum": "04285120dc5a14a88cfe547ab2549bff",
     "grade": true,
     "grade_id": "cell-bed0298d85eea115",
     "locked": true,
     "points": 1,
     "schema_version": 3,
     "solution": false,
     "task": false
    }
   },
   "outputs": [],
   "source": [
    "# This test will check whether you modelled multiple disconnected graphs. [1 point]"
   ]
  },
  {
   "cell_type": "code",
   "execution_count": 22,
   "metadata": {
    "deletable": false,
    "editable": false,
    "nbgrader": {
     "cell_type": "code",
     "checksum": "0d289456ec8db854ab448c3d03137546",
     "grade": true,
     "grade_id": "cell-a6bc899633d4619e",
     "locked": true,
     "points": 1,
     "schema_version": 3,
     "solution": false,
     "task": false
    }
   },
   "outputs": [],
   "source": [
    "# This test will check whether you modelled multiple name properties correctly. [1 point]"
   ]
  },
  {
   "cell_type": "code",
   "execution_count": 23,
   "metadata": {
    "deletable": false,
    "editable": false,
    "nbgrader": {
     "cell_type": "code",
     "checksum": "eb43b1b34b442dd0b1f1c7d2b3864a1e",
     "grade": true,
     "grade_id": "cell-9a7ddad3954864b5",
     "locked": true,
     "points": 1,
     "schema_version": 3,
     "solution": false,
     "task": false
    }
   },
   "outputs": [],
   "source": [
    "# This test will check whether you modelled multiple languages correctly. [1 point]"
   ]
  }
 ],
 "metadata": {
  "kernelspec": {
   "display_name": "Python 3.9.9 ('venv': venv)",
   "language": "python",
   "name": "python3"
  },
  "language_info": {
   "codemirror_mode": {
    "name": "ipython",
    "version": 3
   },
   "file_extension": ".py",
   "mimetype": "text/x-python",
   "name": "python",
   "nbconvert_exporter": "python",
   "pygments_lexer": "ipython3",
   "version": "3.9.13"
  },
  "vscode": {
   "interpreter": {
    "hash": "236d1e2f9dc49a72c901b5b1642c7cbd857213a1eb29334698947e241dc8edf0"
   }
  }
 },
 "nbformat": 4,
 "nbformat_minor": 4
}
