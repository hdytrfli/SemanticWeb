{
 "cells": [
  {
   "cell_type": "code",
   "execution_count": 2,
   "metadata": {
    "deletable": false,
    "editable": false,
    "nbgrader": {
     "cell_type": "code",
     "checksum": "30d8b0b6ba0ed36eb04b765832aa0801",
     "grade": false,
     "grade_id": "cell-62337619e946bfb7",
     "locked": true,
     "schema_version": 3,
     "solution": false,
     "task": false
    }
   },
   "outputs": [
    {
     "data": {
      "application/javascript": "\n    if (typeof IPython !== \"undefined\") {\n        IPython.CodeCell.options_default.highlight_modes['application/sparql-query'] = {'reg':[/^%%rdf sparql/]};\n        IPython.CodeCell.options_default.highlight_modes['text/turtle'] = {'reg':[/^%%rdf turtle/, /^%%rdf shex/]};\n        IPython.CodeCell.options_default.highlight_modes['application/ld+json'] = {'reg':[/^%%rdf json-ld/]};\n        IPython.notebook.get_cells().map(function(cell){ if (cell.cell_type == 'code'){ cell.auto_highlight(); } });\n    }\n    "
     },
     "metadata": {},
     "output_type": "display_data"
    }
   ],
   "source": [
    "%reload_ext jupyter-rdfify"
   ]
  },
  {
   "cell_type": "code",
   "execution_count": 3,
   "metadata": {
    "deletable": false,
    "editable": false,
    "nbgrader": {
     "cell_type": "code",
     "checksum": "6ef4f0a70d6213658c24f43d86e545ed",
     "grade": false,
     "grade_id": "cell-243b7ced18a1336a",
     "locked": true,
     "schema_version": 3,
     "solution": false,
     "task": false
    }
   },
   "outputs": [],
   "source": [
    "# This cell defines some helpers, imports and strings for tests. Run it!\n",
    "from rdflib import URIRef, BNode, Literal, XSD, RDF, RDFS\n",
    "\n",
    "ex = \"http://example.org/#\"\n",
    "triple = \"({}, {}, {})\"\n",
    "error_not_contain = \"Your graph does not contain the triple:\\n{}.\"\n",
    "error_blank_node = \"The subject of the triple {} should be a blank node but it is {}\"\n",
    "error_multiple = \"Your graph contains multiple triples of the form {}.\"\n",
    "\n",
    "def get_uri(prefix, name):\n",
    "    '''\n",
    "    Helper function to create a URIRef from a prefix and a name.\n",
    "    \n",
    "    Pameters\n",
    "    --------\n",
    "    prefix: str\n",
    "        The prefix of the URIRef\n",
    "    name: str\n",
    "        The name of the URIRef\n",
    "    \n",
    "    Returns\n",
    "    -------\n",
    "    URIRef\n",
    "        The URIRef with the given prefix and name\n",
    "    '''\n",
    "    return URIRef(ex+name)\n",
    "\n",
    "def to_string(node):\n",
    "    '''\n",
    "    Helper function to create a string representation of a node.\n",
    "\n",
    "    Parameters\n",
    "    ----------\n",
    "    node: rdflib.term.Node\n",
    "        The node to create a string representation for\n",
    "\n",
    "    Returns\n",
    "    -------\n",
    "    str\n",
    "        The string representation of the node\n",
    "    '''\n",
    "    if isinstance(node, BNode):\n",
    "        return \"blank node\"\n",
    "    else:\n",
    "        return node.n3()\n",
    "\n",
    "def contain_check(graph, subject, predicate, object):\n",
    "    '''\n",
    "    Helper function to check if a graph contains a triple.\n",
    "\n",
    "    Parameters\n",
    "    ----------\n",
    "    graph: rdflib.graph.Graph\n",
    "        The graph to check\n",
    "    subject: rdflib.term.Node\n",
    "        The subject of the triple\n",
    "    predicate: rdflib.term.Node\n",
    "        The predicate of the triple\n",
    "    object: rdflib.term.Node\n",
    "        The object of the triple\n",
    "\n",
    "    Returns\n",
    "    -------\n",
    "    bool\n",
    "        True if the graph contains the triple, False otherwise\n",
    "    '''\n",
    "    assert (subject,predicate,object) in graph, error_not_contain.format(triple.format(to_string(subject), to_string(predicate), to_string(object)))"
   ]
  },
  {
   "cell_type": "markdown",
   "metadata": {
    "deletable": false,
    "editable": false,
    "nbgrader": {
     "cell_type": "markdown",
     "checksum": "2a277a8140b4b03b21dc1f6a6f0c4caf",
     "grade": false,
     "grade_id": "cell-0fd22e5d0af2bcd4",
     "locked": true,
     "schema_version": 3,
     "solution": false,
     "task": false
    }
   },
   "source": [
    "The cell below defines some prefixes which you can and should use throughout the entire notebook. Run it!"
   ]
  },
  {
   "cell_type": "code",
   "execution_count": 4,
   "metadata": {
    "deletable": false,
    "editable": false,
    "nbgrader": {
     "cell_type": "code",
     "checksum": "40db6048f17868c11eeef1a2753ac5c9",
     "grade": false,
     "grade_id": "cell-fb66abf182bcbaa9",
     "locked": true,
     "schema_version": 3,
     "solution": false,
     "task": false
    }
   },
   "outputs": [
    {
     "name": "stdout",
     "output_type": "stream",
     "text": [
      "Turtle: Stored prefix.\n"
     ]
    }
   ],
   "source": [
    "%%rdf turtle -p\n",
    "\n",
    "PREFIX ex: <http://example.org/#>\n",
    "PREFIX rdf: <http://www.w3.org/1999/02/22-rdf-syntax-ns#>\n",
    "PREFIX rdfs: <http://www.w3.org/2000/01/rdf-schema#>\n",
    "PREFIX xsd: <http://www.w3.org/2001/XMLSchema#>"
   ]
  },
  {
   "cell_type": "markdown",
   "metadata": {
    "deletable": false,
    "editable": false,
    "nbgrader": {
     "cell_type": "markdown",
     "checksum": "50125331d40fa1986f2818b87017da1a",
     "grade": false,
     "grade_id": "cell-1dc846c20b17545c",
     "locked": true,
     "schema_version": 3,
     "solution": false,
     "task": false
    }
   },
   "source": [
    "# Vocabularies/Ontologies and Data Modelling\n",
    "\n",
    "Up to now, all our graphs had very little meaning and could only be understood by humans. This is because we introduced new URIs for concepts and relationships (e.g. ex:capital or ex:Germany) but didn't formally describe them. This makes inferencing and finding similar or associated information difficult. To formally conceptualize our information, we need specialized vocabularies. These vocabularies called ontologies, provide terms with an agreed upon meaning together with rules and restrictions. Except some meta-ontologies, most ontologies model a specific topic and should only be used in that domain.  \n",
    "Some problems that can be solved using such vocabularies are for example different URIs describing the same resource or a property implying another property.\n",
    "\n",
    "In this exercise we will take a look at some core ontologies and learn to write our own ontologies.\n",
    "\n",
    "## Task 1: RDF Vocabulary [4 points]\n",
    "\n",
    "RDF is not only a data model but it also defines some URIs for basic data modelling. We already learned of **rdf:type**, which is a very important property expressing the membership of an object to a specified class. But it also introduces some other properties and classes important for data modelling.\n",
    "\n",
    "### Reification\n",
    "\n",
    "Adding facts to a graph is very simple but what if we want to add a statement which may not be true? For this we need to treat a triple as an object itself. For example if the butler accuses the gardener of being the murderer, we can't just add the fact:\n",
    "\n",
    "**ex:Gardener a ex:Murderer .**\n",
    "\n",
    "as we do not know if the butler tells the truth. But we can reify this triple to make it a statement said by the butler using the properties **rdf:subject, rdf:predicate, rdf:object** and the class **rdf:Statement** which are all terms defined by RDF:\n",
    "\n",
    "**ex:Butler ex:said \\[  \n",
    "&nbsp;&nbsp;&nbsp;&nbsp;rdf:subject ex:Gardener ;  \n",
    "&nbsp;&nbsp;&nbsp;&nbsp;rdf:predicate rdf:type ;  \n",
    "&nbsp;&nbsp;&nbsp;&nbsp;rdf:object ex:Murderer ;  \n",
    "&nbsp;&nbsp;&nbsp;&nbsp;a rdf:Statement ;  \n",
    "] .**\n",
    "\n",
    "**Note: The rdf:type abbreviation \"a\" can only be used at predicate position. At other positions use rdf:type.**\n",
    "\n",
    "### 1a) Gossip [2 points]\n",
    "\n",
    "A group of friends gossiped. Bob said something interesting: He said that Eve heard that Mallory cheated on Oscar.\n",
    "\n",
    "Use nested reification to create a graph of Bob's statement.\n",
    "\n",
    "Use the following URIs:  \n",
    "Bob: **http://example.org/#Bob**  \n",
    "Eve: **http://example.org/#Eve**  \n",
    "Mallory: **http://example.org/#Mallory**  \n",
    "Oscar: **http://example.org/#Oscar**  \n",
    "said: **http://example.org/#said**  \n",
    "heard: **http://example.org/#heard**  \n",
    "cheated on: **http://example.org/#cheatedOn**  \n",
    "\n",
    "You may also use all terms from the RDF vocabulary."
   ]
  },
  {
   "cell_type": "code",
   "execution_count": 26,
   "metadata": {
    "deletable": false,
    "nbgrader": {
     "cell_type": "code",
     "checksum": "65ceb7f2827385c5ab1c896d3275d025",
     "grade": false,
     "grade_id": "cell-242a1b3bec7afe75",
     "locked": false,
     "schema_version": 3,
     "solution": true,
     "task": false
    }
   },
   "outputs": [
    {
     "data": {
      "image/svg+xml": "<?xml version=\"1.0\" encoding=\"UTF-8\" standalone=\"no\"?>\n<!DOCTYPE svg PUBLIC \"-//W3C//DTD SVG 1.1//EN\"\n \"http://www.w3.org/Graphics/SVG/1.1/DTD/svg11.dtd\">\n<!-- Generated by graphviz version 5.0.1 (20220820.1526)\n -->\n<!-- Pages: 1 -->\n<svg width=\"567pt\" height=\"305pt\"\n viewBox=\"0.00 0.00 567.19 305.00\" xmlns=\"http://www.w3.org/2000/svg\" xmlns:xlink=\"http://www.w3.org/1999/xlink\">\n<g id=\"graph0\" class=\"graph\" transform=\"scale(1 1) rotate(0) translate(4 301)\">\n<polygon fill=\"white\" stroke=\"none\" points=\"-4,4 -4,-301 563.19,-301 563.19,4 -4,4\"/>\n<!-- 0 -->\n<g id=\"node1\" class=\"node\">\n<title>0</title>\n<ellipse fill=\"none\" stroke=\"black\" cx=\"48.75\" cy=\"-18\" rx=\"48.99\" ry=\"18\"/>\n<text text-anchor=\"middle\" x=\"48.75\" y=\"-14.3\" font-family=\"Times New Roman,serif\" font-size=\"14.00\">ex:Mallory</text>\n</g>\n<!-- 1 -->\n<g id=\"node2\" class=\"node\">\n<title>1</title>\n<ellipse fill=\"none\" stroke=\"black\" cx=\"175.75\" cy=\"-18\" rx=\"59.59\" ry=\"18\"/>\n<text text-anchor=\"middle\" x=\"175.75\" y=\"-14.3\" font-family=\"Times New Roman,serif\" font-size=\"14.00\">ex:cheatedOn</text>\n</g>\n<!-- 2 -->\n<g id=\"node3\" class=\"node\">\n<title>2</title>\n<ellipse fill=\"none\" stroke=\"black\" cx=\"252.75\" cy=\"-105\" rx=\"31.4\" ry=\"18\"/>\n<text text-anchor=\"middle\" x=\"252.75\" y=\"-101.3\" font-family=\"Times New Roman,serif\" font-size=\"14.00\">_:bn0</text>\n</g>\n<!-- 2&#45;&gt;0 -->\n<g id=\"edge9\" class=\"edge\">\n<title>2&#45;&gt;0</title>\n<path fill=\"none\" stroke=\"black\" d=\"M223.38,-98.72C196.83,-93.31 157.08,-83.61 124.75,-69 107.94,-61.41 90.65,-50.34 76.82,-40.54\"/>\n<polygon fill=\"black\" stroke=\"black\" points=\"78.84,-37.69 68.69,-34.65 74.74,-43.35 78.84,-37.69\"/>\n<text text-anchor=\"middle\" x=\"154.75\" y=\"-57.8\" font-family=\"Times New Roman,serif\" font-size=\"14.00\">rdf:subject</text>\n</g>\n<!-- 2&#45;&gt;1 -->\n<g id=\"edge2\" class=\"edge\">\n<title>2&#45;&gt;1</title>\n<path fill=\"none\" stroke=\"black\" d=\"M229.06,-92.98C218.39,-87.08 206.3,-78.96 197.75,-69 191.95,-62.25 187.45,-53.73 184.07,-45.64\"/>\n<polygon fill=\"black\" stroke=\"black\" points=\"187.29,-44.27 180.49,-36.14 180.74,-46.73 187.29,-44.27\"/>\n<text text-anchor=\"middle\" x=\"233.25\" y=\"-57.8\" font-family=\"Times New Roman,serif\" font-size=\"14.00\">rdf:predicate</text>\n</g>\n<!-- 4 -->\n<g id=\"node5\" class=\"node\">\n<title>4</title>\n<ellipse fill=\"none\" stroke=\"black\" cx=\"296.75\" cy=\"-18\" rx=\"42.79\" ry=\"18\"/>\n<text text-anchor=\"middle\" x=\"296.75\" y=\"-14.3\" font-family=\"Times New Roman,serif\" font-size=\"14.00\">ex:Oscar</text>\n</g>\n<!-- 2&#45;&gt;4 -->\n<g id=\"edge4\" class=\"edge\">\n<title>2&#45;&gt;4</title>\n<path fill=\"none\" stroke=\"black\" d=\"M261.23,-87.61C267.48,-75.54 276.1,-58.88 283.29,-45\"/>\n<polygon fill=\"black\" stroke=\"black\" points=\"286.5,-46.41 287.99,-35.92 280.28,-43.19 286.5,-46.41\"/>\n<text text-anchor=\"middle\" x=\"305.25\" y=\"-57.8\" font-family=\"Times New Roman,serif\" font-size=\"14.00\">rdf:object</text>\n</g>\n<!-- 6 -->\n<g id=\"node7\" class=\"node\">\n<title>6</title>\n<ellipse fill=\"none\" stroke=\"black\" cx=\"424.75\" cy=\"-18\" rx=\"59.29\" ry=\"18\"/>\n<text text-anchor=\"middle\" x=\"424.75\" y=\"-14.3\" font-family=\"Times New Roman,serif\" font-size=\"14.00\">rdf:Statement</text>\n</g>\n<!-- 2&#45;&gt;6 -->\n<g id=\"edge1\" class=\"edge\">\n<title>2&#45;&gt;6</title>\n<path fill=\"none\" stroke=\"black\" d=\"M277.26,-93.52C282.37,-91.35 287.73,-89.09 292.75,-87 312.25,-78.87 317.74,-78.24 336.75,-69 354.84,-60.2 374.36,-49.27 390.4,-39.87\"/>\n<polygon fill=\"black\" stroke=\"black\" points=\"392.59,-42.65 399.41,-34.54 389.02,-36.62 392.59,-42.65\"/>\n<text text-anchor=\"middle\" x=\"386.75\" y=\"-57.8\" font-family=\"Times New Roman,serif\" font-size=\"14.00\">rdf:type</text>\n</g>\n<!-- 3 -->\n<g id=\"node4\" class=\"node\">\n<title>3</title>\n<ellipse fill=\"none\" stroke=\"black\" cx=\"385.75\" cy=\"-192\" rx=\"31.4\" ry=\"18\"/>\n<text text-anchor=\"middle\" x=\"385.75\" y=\"-188.3\" font-family=\"Times New Roman,serif\" font-size=\"14.00\">_:bn1</text>\n</g>\n<!-- 3&#45;&gt;2 -->\n<g id=\"edge3\" class=\"edge\">\n<title>3&#45;&gt;2</title>\n<path fill=\"none\" stroke=\"black\" d=\"M355.64,-186.73C333.24,-182.26 302.99,-173.35 281.75,-156 273.98,-149.66 267.86,-140.66 263.29,-132.03\"/>\n<polygon fill=\"black\" stroke=\"black\" points=\"266.41,-130.46 258.92,-122.97 260.11,-133.5 266.41,-130.46\"/>\n<text text-anchor=\"middle\" x=\"309.25\" y=\"-144.8\" font-family=\"Times New Roman,serif\" font-size=\"14.00\">rdf:object</text>\n</g>\n<!-- 5 -->\n<g id=\"node6\" class=\"node\">\n<title>5</title>\n<ellipse fill=\"none\" stroke=\"black\" cx=\"342.75\" cy=\"-105\" rx=\"40.89\" ry=\"18\"/>\n<text text-anchor=\"middle\" x=\"342.75\" y=\"-101.3\" font-family=\"Times New Roman,serif\" font-size=\"14.00\">ex:heard</text>\n</g>\n<!-- 3&#45;&gt;5 -->\n<g id=\"edge7\" class=\"edge\">\n<title>3&#45;&gt;5</title>\n<path fill=\"none\" stroke=\"black\" d=\"M364.32,-178.7C356.36,-172.91 348.19,-165.24 343.75,-156 340.38,-149.01 339.25,-140.8 339.19,-133.08\"/>\n<polygon fill=\"black\" stroke=\"black\" points=\"342.69,-133.18 339.68,-123.02 335.7,-132.84 342.69,-133.18\"/>\n<text text-anchor=\"middle\" x=\"379.25\" y=\"-144.8\" font-family=\"Times New Roman,serif\" font-size=\"14.00\">rdf:predicate</text>\n</g>\n<!-- 3&#45;&gt;6 -->\n<g id=\"edge6\" class=\"edge\">\n<title>3&#45;&gt;6</title>\n<path fill=\"none\" stroke=\"black\" d=\"M401.34,-176.35C406.53,-170.54 411.74,-163.47 414.75,-156 429.19,-120.1 429.34,-74.66 427.51,-46.21\"/>\n<polygon fill=\"black\" stroke=\"black\" points=\"431,-45.89 426.74,-36.19 424.02,-46.43 431,-45.89\"/>\n<text text-anchor=\"middle\" x=\"450.75\" y=\"-101.3\" font-family=\"Times New Roman,serif\" font-size=\"14.00\">rdf:type</text>\n</g>\n<!-- 7 -->\n<g id=\"node8\" class=\"node\">\n<title>7</title>\n<ellipse fill=\"none\" stroke=\"black\" cx=\"524.75\" cy=\"-105\" rx=\"34.39\" ry=\"18\"/>\n<text text-anchor=\"middle\" x=\"524.75\" y=\"-101.3\" font-family=\"Times New Roman,serif\" font-size=\"14.00\">ex:Eve</text>\n</g>\n<!-- 3&#45;&gt;7 -->\n<g id=\"edge8\" class=\"edge\">\n<title>3&#45;&gt;7</title>\n<path fill=\"none\" stroke=\"black\" d=\"M406.56,-178.27C429.83,-164.04 467.73,-140.86 494.33,-124.6\"/>\n<polygon fill=\"black\" stroke=\"black\" points=\"496.17,-127.58 502.88,-119.37 492.52,-121.61 496.17,-127.58\"/>\n<text text-anchor=\"middle\" x=\"493.75\" y=\"-144.8\" font-family=\"Times New Roman,serif\" font-size=\"14.00\">rdf:subject</text>\n</g>\n<!-- 8 -->\n<g id=\"node9\" class=\"node\">\n<title>8</title>\n<ellipse fill=\"none\" stroke=\"black\" cx=\"385.75\" cy=\"-279\" rx=\"36.29\" ry=\"18\"/>\n<text text-anchor=\"middle\" x=\"385.75\" y=\"-275.3\" font-family=\"Times New Roman,serif\" font-size=\"14.00\">ex:Bob</text>\n</g>\n<!-- 8&#45;&gt;3 -->\n<g id=\"edge5\" class=\"edge\">\n<title>8&#45;&gt;3</title>\n<path fill=\"none\" stroke=\"black\" d=\"M385.75,-260.8C385.75,-249.16 385.75,-233.55 385.75,-220.24\"/>\n<polygon fill=\"black\" stroke=\"black\" points=\"389.25,-220.18 385.75,-210.18 382.25,-220.18 389.25,-220.18\"/>\n<text text-anchor=\"middle\" x=\"405.25\" y=\"-231.8\" font-family=\"Times New Roman,serif\" font-size=\"14.00\">ex:said</text>\n</g>\n</g>\n</svg>\n",
      "text/plain": [
       "<graphviz.graphs.Digraph at 0x22501d3b700>"
      ]
     },
     "metadata": {},
     "output_type": "display_data"
    }
   ],
   "source": [
    "%%rdf turtle -l gossip\n",
    "\n",
    "ex:Bob ex:said [\n",
    "    rdf:subject ex:Eve ;\n",
    "    rdf:predicate ex:heard ;\n",
    "    rdf:object [\n",
    "        rdf:subject ex:Mallory ;\n",
    "        rdf:predicate ex:cheatedOn ;\n",
    "        rdf:object ex:Oscar ;\n",
    "        a rdf:Statement ;\n",
    "    ] ;\n",
    "    a rdf:Statement ;\n",
    "] ."
   ]
  },
  {
   "cell_type": "code",
   "execution_count": 27,
   "metadata": {
    "deletable": false,
    "editable": false,
    "nbgrader": {
     "cell_type": "code",
     "checksum": "de87358429fc1563391a37a122e039ab",
     "grade": true,
     "grade_id": "cell-c5d0a196cb766a04",
     "locked": true,
     "points": 0.5,
     "schema_version": 3,
     "solution": false,
     "task": false
    }
   },
   "outputs": [],
   "source": [
    "# This test will check whether your graph contains a statement by Bob. [0.5 points]\n",
    "store = %rdf -r\n",
    "graph = store['rdfgraphs']['gossip']\n",
    "\n",
    "res = None\n",
    "res = list(graph.objects(subject=get_uri(ex, \"Bob\"), predicate=get_uri(ex, \"said\")))\n",
    "sta = triple.format(ex+\"Bob\", ex+\"said\", \"Blank node\")\n",
    "\n",
    "assert len(res) > 0, error_not_contain.format(sta)\n",
    "assert len(res) <= 1, error_multiple.format(sta)\n",
    "assert isinstance(res[0], BNode), error_blank_node.format(sta,res[0].n3())"
   ]
  },
  {
   "cell_type": "code",
   "execution_count": 28,
   "metadata": {
    "deletable": false,
    "editable": false,
    "nbgrader": {
     "cell_type": "code",
     "checksum": "3c9fb2cbf9cd35f1bf3349ab28c2f86c",
     "grade": true,
     "grade_id": "cell-73c5f331e3d920dc",
     "locked": true,
     "points": 0.5,
     "schema_version": 3,
     "solution": false,
     "task": false
    }
   },
   "outputs": [],
   "source": [
    "# This test will check whether a statement in your graph is about what Eve heard. [0.5 points]\n",
    "store = %rdf -r\n",
    "graph = store['rdfgraphs']['gossip']\n",
    "\n",
    "res1,res2 = (None, None)\n",
    "\n",
    "res1 = list(graph.subjects(object=get_uri(ex, \"Eve\"), predicate=RDF.subject))\n",
    "res2 = list(graph.subjects(object=get_uri(ex, \"heard\"), predicate=RDF.predicate))\n",
    "\n",
    "sta1 = triple.format(\"Blank node\", RDF.subject, ex+\"Eve\")\n",
    "sta2 = triple.format(\"Blank node\", RDF.predicate, ex+\"heard\")\n",
    "\n",
    "assert len(res1) > 0, error_not_contain.format(sta1)\n",
    "assert len(res1) <= 1, error_multiple.format(sta1)\n",
    "assert isinstance(res1[0], BNode), error_blank_node.format(sta1, res1[0].n3())\n",
    "\n",
    "assert len(res2) > 0, error_not_contain.format(sta2)\n",
    "assert len(res2) <= 1, error_multiple.format(sta2)\n",
    "assert isinstance(res2[0], BNode), error_blank_node.format(sta2, res2[0].n3())"
   ]
  },
  {
   "cell_type": "code",
   "execution_count": 29,
   "metadata": {
    "deletable": false,
    "editable": false,
    "nbgrader": {
     "cell_type": "code",
     "checksum": "28c72e800624f06681356ac12569df53",
     "grade": true,
     "grade_id": "cell-dae42e7390f903cf",
     "locked": true,
     "points": 1,
     "schema_version": 3,
     "solution": false,
     "task": false
    }
   },
   "outputs": [],
   "source": [
    "# This test will check whether the statement of what Eve heard is correct. [1 point]\n",
    "store = %rdf -r\n",
    "graph = store['rdfgraphs']['gossip']\n",
    "\n",
    "res, res2, res3 = (None, None, None)\n",
    "res = list(graph.subjects(object=get_uri(ex, \"Mallory\"), predicate=RDF.subject))\n",
    "res2 = list(graph.subjects(object=get_uri(ex, \"cheatedOn\"), predicate=RDF.predicate))\n",
    "res3 = list(graph.subjects(object=get_uri(ex, \"Oscar\"), predicate=RDF.object))\n",
    "\n",
    "triplets1 = triple.format(\"Blank node\", RDF.subject, ex+\"Mallory\")\n",
    "triplets2 = triple.format(\"Blank node\", RDF.predicate, ex+\"cheatedOn\")\n",
    "triplets3 = triple.format(\"Blank node\", RDF.object, ex+\"Oscar\")\n",
    "\n",
    "assert len(res) > 0, error_not_contain.format(triplets1)\n",
    "assert len(res) <= 1, error_multiple.format(triplets1)\n",
    "assert isinstance(res[0], BNode), error_blank_node.format(triplets1, res[0].n3())\n",
    "\n",
    "assert len(res2) > 0, error_not_contain.format(triplets2)\n",
    "assert len(res2) <= 1, error_multiple.format(triplets2)\n",
    "assert isinstance(res2[0], BNode), error_blank_node.format(triplets2, res2[0].n3())\n",
    "\n",
    "assert len(res3) > 0, error_not_contain.format(triplets3)\n",
    "assert len(res3) <= 1, error_multiple.format(triplets3)\n",
    "assert isinstance(res3[0], BNode), error_blank_node.format(triplets3, res3[0].n3())"
   ]
  },
  {
   "cell_type": "markdown",
   "metadata": {
    "deletable": false,
    "editable": false,
    "nbgrader": {
     "cell_type": "markdown",
     "checksum": "835fd5d9c54b1b3e2e7e498dd2164e09",
     "grade": false,
     "grade_id": "cell-9ebba7ead61e0295",
     "locked": true,
     "schema_version": 3,
     "solution": false,
     "task": false
    }
   },
   "source": [
    "### Primary values\n",
    "\n",
    "When using n-ary relations, it sometimes makes sense to have a **primary value**. The address example from the second exercise sheet was an n-ary relation but none of its values (street, house number, zip code, city) could be considered primary. But when talking about the price of somethinge in a specific currency, the price could be considered primary while the currency is a complementing value. To declare a primary value in an n-ary relation, one uses the **rdf:value** property defined in the RDF vocabulary. For example if a cheeseburger costs 1 Euro, you would write:\n",
    "\n",
    "**ex:Cheeseburger ex:price \\[  \n",
    "&nbsp;&nbsp;&nbsp;&nbsp;rdf:value \"1\" ;  \n",
    "&nbsp;&nbsp;&nbsp;&nbsp;ex:currency ex:Euro ;  \n",
    "\\] .**\n",
    "\n",
    "### 1b) Experiment [2 points]\n",
    "\n",
    "Some physicists conduct an experiment to determine the gravitational acceleration.  The result of the experiment is **9.81 m/s^2** with an **uncertainty of 0.02**. Because the gravitational acceleration varies based on location, we also need to know the location which is **latitude 50.78167189752423** and **longitude 6.049597427163315**. Use an n-ary relation with primary value to model this information.\n",
    "\n",
    "Use the following URIs:  \n",
    "Experiment: **http://example.org/#Experiment**  \n",
    "result: **http://example.org/#result**  \n",
    "unit: **http://example.org/#unit**  \n",
    "uncertainty: **http://example.org/#uncertainty**  \n",
    "latitude: **http://example.org/#latitude**  \n",
    "longitude: **http://example.org/#longitude**  \n",
    "\n",
    "Use xsd:decimal as datatype for decimal values and omit the datatype for string values. You may also use all terms from the RDF vocabulary."
   ]
  },
  {
   "cell_type": "code",
   "execution_count": 30,
   "metadata": {
    "deletable": false,
    "nbgrader": {
     "cell_type": "code",
     "checksum": "824238b79ebd6a5286f126634db06111",
     "grade": false,
     "grade_id": "cell-e8ac7b236e8be8ce",
     "locked": false,
     "schema_version": 3,
     "solution": true,
     "task": false
    }
   },
   "outputs": [
    {
     "data": {
      "image/svg+xml": "<?xml version=\"1.0\" encoding=\"UTF-8\" standalone=\"no\"?>\n<!DOCTYPE svg PUBLIC \"-//W3C//DTD SVG 1.1//EN\"\n \"http://www.w3.org/Graphics/SVG/1.1/DTD/svg11.dtd\">\n<!-- Generated by graphviz version 5.0.1 (20220820.1526)\n -->\n<!-- Pages: 1 -->\n<svg width=\"960pt\" height=\"305pt\"\n viewBox=\"0.00 0.00 960.14 305.00\" xmlns=\"http://www.w3.org/2000/svg\" xmlns:xlink=\"http://www.w3.org/1999/xlink\">\n<g id=\"graph0\" class=\"graph\" transform=\"scale(1 1) rotate(0) translate(4 301)\">\n<polygon fill=\"white\" stroke=\"none\" points=\"-4,4 -4,-301 956.14,-301 956.14,4 -4,4\"/>\n<!-- 0 -->\n<g id=\"node1\" class=\"node\">\n<title>0</title>\n<ellipse fill=\"none\" stroke=\"black\" cx=\"111.14\" cy=\"-18\" rx=\"111.28\" ry=\"18\"/>\n<text text-anchor=\"middle\" x=\"111.14\" y=\"-14.3\" font-family=\"Times New Roman,serif\" font-size=\"14.00\">ex:meterPerSecondSquared</text>\n</g>\n<!-- 1 -->\n<g id=\"node2\" class=\"node\">\n<title>1</title>\n<polygon fill=\"none\" stroke=\"black\" points=\"608.14,-36 390.14,-36 390.14,0 608.14,0 608.14,-36\"/>\n<text text-anchor=\"middle\" x=\"499.14\" y=\"-14.3\" font-family=\"Times New Roman,serif\" font-size=\"14.00\">&quot;6.049597427163315&quot;^^xsd:decimal</text>\n</g>\n<!-- 2 -->\n<g id=\"node3\" class=\"node\">\n<title>2</title>\n<polygon fill=\"none\" stroke=\"black\" points=\"952.14,-36 734.14,-36 734.14,0 952.14,0 952.14,-36\"/>\n<text text-anchor=\"middle\" x=\"843.14\" y=\"-14.3\" font-family=\"Times New Roman,serif\" font-size=\"14.00\">&quot;50.78167189752423&quot;^^xsd:decimal</text>\n</g>\n<!-- 3 -->\n<g id=\"node4\" class=\"node\">\n<title>3</title>\n<ellipse fill=\"none\" stroke=\"black\" cx=\"671.14\" cy=\"-18\" rx=\"44.69\" ry=\"18\"/>\n<text text-anchor=\"middle\" x=\"671.14\" y=\"-14.3\" font-family=\"Times New Roman,serif\" font-size=\"14.00\">ex:degree</text>\n</g>\n<!-- 4 -->\n<g id=\"node5\" class=\"node\">\n<title>4</title>\n<ellipse fill=\"none\" stroke=\"black\" cx=\"540.14\" cy=\"-105\" rx=\"31.4\" ry=\"18\"/>\n<text text-anchor=\"middle\" x=\"540.14\" y=\"-101.3\" font-family=\"Times New Roman,serif\" font-size=\"14.00\">_:bn0</text>\n</g>\n<!-- 4&#45;&gt;1 -->\n<g id=\"edge1\" class=\"edge\">\n<title>4&#45;&gt;1</title>\n<path fill=\"none\" stroke=\"black\" d=\"M524.59,-89.17C519.29,-83.35 513.78,-76.31 510.14,-69 506.65,-62 504.26,-53.9 502.62,-46.29\"/>\n<polygon fill=\"black\" stroke=\"black\" points=\"506.05,-45.58 500.83,-36.36 499.16,-46.83 506.05,-45.58\"/>\n<text text-anchor=\"middle\" x=\"534.64\" y=\"-57.8\" font-family=\"Times New Roman,serif\" font-size=\"14.00\">rdf:value</text>\n</g>\n<!-- 4&#45;&gt;3 -->\n<g id=\"edge10\" class=\"edge\">\n<title>4&#45;&gt;3</title>\n<path fill=\"none\" stroke=\"black\" d=\"M559.77,-90.97C575.08,-80.83 596.91,-66.44 616.14,-54 623.65,-49.14 631.77,-43.94 639.4,-39.08\"/>\n<polygon fill=\"black\" stroke=\"black\" points=\"641.52,-41.89 648.08,-33.57 637.76,-35.98 641.52,-41.89\"/>\n<text text-anchor=\"middle\" x=\"634.64\" y=\"-57.8\" font-family=\"Times New Roman,serif\" font-size=\"14.00\">ex:unit</text>\n</g>\n<!-- 5 -->\n<g id=\"node6\" class=\"node\">\n<title>5</title>\n<ellipse fill=\"none\" stroke=\"black\" cx=\"306.14\" cy=\"-105\" rx=\"31.4\" ry=\"18\"/>\n<text text-anchor=\"middle\" x=\"306.14\" y=\"-101.3\" font-family=\"Times New Roman,serif\" font-size=\"14.00\">_:bn1</text>\n</g>\n<!-- 5&#45;&gt;0 -->\n<g id=\"edge12\" class=\"edge\">\n<title>5&#45;&gt;0</title>\n<path fill=\"none\" stroke=\"black\" d=\"M281.84,-93.41C250.87,-79.91 196.69,-56.29 157.67,-39.28\"/>\n<polygon fill=\"black\" stroke=\"black\" points=\"158.66,-35.9 148.1,-35.11 155.87,-42.31 158.66,-35.9\"/>\n<text text-anchor=\"middle\" x=\"239.64\" y=\"-57.8\" font-family=\"Times New Roman,serif\" font-size=\"14.00\">ex:unit</text>\n</g>\n<!-- 10 -->\n<g id=\"node11\" class=\"node\">\n<title>10</title>\n<polygon fill=\"none\" stroke=\"black\" points=\"371.64,-36 240.64,-36 240.64,0 371.64,0 371.64,-36\"/>\n<text text-anchor=\"middle\" x=\"306.14\" y=\"-14.3\" font-family=\"Times New Roman,serif\" font-size=\"14.00\">&quot;0.02&quot;^^xsd:decimal</text>\n</g>\n<!-- 5&#45;&gt;10 -->\n<g id=\"edge4\" class=\"edge\">\n<title>5&#45;&gt;10</title>\n<path fill=\"none\" stroke=\"black\" d=\"M306.14,-86.8C306.14,-75.16 306.14,-59.55 306.14,-46.24\"/>\n<polygon fill=\"black\" stroke=\"black\" points=\"309.64,-46.18 306.14,-36.18 302.64,-46.18 309.64,-46.18\"/>\n<text text-anchor=\"middle\" x=\"330.64\" y=\"-57.8\" font-family=\"Times New Roman,serif\" font-size=\"14.00\">rdf:value</text>\n</g>\n<!-- 6 -->\n<g id=\"node7\" class=\"node\">\n<title>6</title>\n<ellipse fill=\"none\" stroke=\"black\" cx=\"540.14\" cy=\"-192\" rx=\"31.4\" ry=\"18\"/>\n<text text-anchor=\"middle\" x=\"540.14\" y=\"-188.3\" font-family=\"Times New Roman,serif\" font-size=\"14.00\">_:bn2</text>\n</g>\n<!-- 6&#45;&gt;0 -->\n<g id=\"edge3\" class=\"edge\">\n<title>6&#45;&gt;0</title>\n<path fill=\"none\" stroke=\"black\" d=\"M508.84,-189.33C450.75,-185.15 323.56,-170.82 229.14,-123 190.18,-103.27 153.85,-67.6 132.06,-43.61\"/>\n<polygon fill=\"black\" stroke=\"black\" points=\"134.52,-41.1 125.25,-35.96 129.29,-45.76 134.52,-41.1\"/>\n<text text-anchor=\"middle\" x=\"247.64\" y=\"-101.3\" font-family=\"Times New Roman,serif\" font-size=\"14.00\">ex:unit</text>\n</g>\n<!-- 6&#45;&gt;4 -->\n<g id=\"edge9\" class=\"edge\">\n<title>6&#45;&gt;4</title>\n<path fill=\"none\" stroke=\"black\" d=\"M540.14,-173.8C540.14,-162.16 540.14,-146.55 540.14,-133.24\"/>\n<polygon fill=\"black\" stroke=\"black\" points=\"543.64,-133.18 540.14,-123.18 536.64,-133.18 543.64,-133.18\"/>\n<text text-anchor=\"middle\" x=\"573.64\" y=\"-144.8\" font-family=\"Times New Roman,serif\" font-size=\"14.00\">ex:longitude</text>\n</g>\n<!-- 6&#45;&gt;5 -->\n<g id=\"edge7\" class=\"edge\">\n<title>6&#45;&gt;5</title>\n<path fill=\"none\" stroke=\"black\" d=\"M514.2,-181.58C472.1,-166.28 388.82,-136.03 341.39,-118.8\"/>\n<polygon fill=\"black\" stroke=\"black\" points=\"342.43,-115.46 331.84,-115.33 340.04,-122.04 342.43,-115.46\"/>\n<text text-anchor=\"middle\" x=\"476.64\" y=\"-144.8\" font-family=\"Times New Roman,serif\" font-size=\"14.00\">ex:uncertainty</text>\n</g>\n<!-- 7 -->\n<g id=\"node8\" class=\"node\">\n<title>7</title>\n<ellipse fill=\"none\" stroke=\"black\" cx=\"645.14\" cy=\"-105\" rx=\"31.4\" ry=\"18\"/>\n<text text-anchor=\"middle\" x=\"645.14\" y=\"-101.3\" font-family=\"Times New Roman,serif\" font-size=\"14.00\">_:bn3</text>\n</g>\n<!-- 6&#45;&gt;7 -->\n<g id=\"edge5\" class=\"edge\">\n<title>6&#45;&gt;7</title>\n<path fill=\"none\" stroke=\"black\" d=\"M566.36,-181.88C580.67,-176.02 598.07,-167.36 611.14,-156 619.14,-149.05 626.11,-139.8 631.63,-131.16\"/>\n<polygon fill=\"black\" stroke=\"black\" points=\"634.69,-132.86 636.83,-122.48 628.69,-129.26 634.69,-132.86\"/>\n<text text-anchor=\"middle\" x=\"653.14\" y=\"-144.8\" font-family=\"Times New Roman,serif\" font-size=\"14.00\">ex:latitude</text>\n</g>\n<!-- 9 -->\n<g id=\"node10\" class=\"node\">\n<title>9</title>\n<polygon fill=\"none\" stroke=\"black\" points=\"825.64,-123 694.64,-123 694.64,-87 825.64,-87 825.64,-123\"/>\n<text text-anchor=\"middle\" x=\"760.14\" y=\"-101.3\" font-family=\"Times New Roman,serif\" font-size=\"14.00\">&quot;9.81&quot;^^xsd:decimal</text>\n</g>\n<!-- 6&#45;&gt;9 -->\n<g id=\"edge6\" class=\"edge\">\n<title>6&#45;&gt;9</title>\n<path fill=\"none\" stroke=\"black\" d=\"M570.29,-186.89C600.32,-182.07 647.3,-172.56 685.14,-156 701.13,-149 717.43,-138.61 730.73,-129.11\"/>\n<polygon fill=\"black\" stroke=\"black\" points=\"733.01,-131.77 739,-123.04 728.87,-126.13 733.01,-131.77\"/>\n<text text-anchor=\"middle\" x=\"736.64\" y=\"-144.8\" font-family=\"Times New Roman,serif\" font-size=\"14.00\">rdf:value</text>\n</g>\n<!-- 7&#45;&gt;2 -->\n<g id=\"edge11\" class=\"edge\">\n<title>7&#45;&gt;2</title>\n<path fill=\"none\" stroke=\"black\" d=\"M669.42,-93.58C700.3,-80.32 754.36,-57.11 794,-40.1\"/>\n<polygon fill=\"black\" stroke=\"black\" points=\"795.43,-43.29 803.24,-36.13 792.67,-36.86 795.43,-43.29\"/>\n<text text-anchor=\"middle\" x=\"780.64\" y=\"-57.8\" font-family=\"Times New Roman,serif\" font-size=\"14.00\">rdf:value</text>\n</g>\n<!-- 7&#45;&gt;3 -->\n<g id=\"edge8\" class=\"edge\">\n<title>7&#45;&gt;3</title>\n<path fill=\"none\" stroke=\"black\" d=\"M650.28,-87.21C653.89,-75.41 658.79,-59.38 662.94,-45.82\"/>\n<polygon fill=\"black\" stroke=\"black\" points=\"666.35,-46.64 665.93,-36.05 659.65,-44.59 666.35,-46.64\"/>\n<text text-anchor=\"middle\" x=\"678.64\" y=\"-57.8\" font-family=\"Times New Roman,serif\" font-size=\"14.00\">ex:unit</text>\n</g>\n<!-- 8 -->\n<g id=\"node9\" class=\"node\">\n<title>8</title>\n<ellipse fill=\"none\" stroke=\"black\" cx=\"540.14\" cy=\"-279\" rx=\"61.99\" ry=\"18\"/>\n<text text-anchor=\"middle\" x=\"540.14\" y=\"-275.3\" font-family=\"Times New Roman,serif\" font-size=\"14.00\">ex:Experiment</text>\n</g>\n<!-- 8&#45;&gt;6 -->\n<g id=\"edge2\" class=\"edge\">\n<title>8&#45;&gt;6</title>\n<path fill=\"none\" stroke=\"black\" d=\"M540.14,-260.8C540.14,-249.16 540.14,-233.55 540.14,-220.24\"/>\n<polygon fill=\"black\" stroke=\"black\" points=\"543.64,-220.18 540.14,-210.18 536.64,-220.18 543.64,-220.18\"/>\n<text text-anchor=\"middle\" x=\"563.14\" y=\"-231.8\" font-family=\"Times New Roman,serif\" font-size=\"14.00\">ex:result</text>\n</g>\n</g>\n</svg>\n",
      "text/plain": [
       "<graphviz.graphs.Digraph at 0x22501dc6da0>"
      ]
     },
     "metadata": {},
     "output_type": "display_data"
    }
   ],
   "source": [
    "%%rdf turtle -l experiment\n",
    "\n",
    "ex:Experiment ex:result [\n",
    "    rdf:value \"9.81\"^^xsd:decimal ;\n",
    "    ex:unit ex:meterPerSecondSquared ;\n",
    "    ex:uncertainty [\n",
    "        rdf:value \"0.02\"^^xsd:decimal ;\n",
    "        ex:unit ex:meterPerSecondSquared ;\n",
    "    ] ;\n",
    "    ex:latitude [\n",
    "        rdf:value \"50.78167189752423\"^^xsd:decimal ;\n",
    "        ex:unit ex:degree ;\n",
    "    ] ;\n",
    "    ex:longitude [\n",
    "        rdf:value \"6.049597427163315\"^^xsd:decimal ;\n",
    "        ex:unit ex:degree ;\n",
    "    ] ;\n",
    "] ."
   ]
  },
  {
   "cell_type": "code",
   "execution_count": 31,
   "metadata": {
    "deletable": false,
    "editable": false,
    "nbgrader": {
     "cell_type": "code",
     "checksum": "02cc241ff9727eb088be2db6763d5a1f",
     "grade": true,
     "grade_id": "cell-f98d7467ba33b658",
     "locked": true,
     "points": 1,
     "schema_version": 3,
     "solution": false,
     "task": false
    }
   },
   "outputs": [],
   "source": [
    "# This test will check whether your graph contains the result of the experiment\n",
    "# and whether the primary value was chosen correctly. [1 point]\n",
    "store = %rdf -r\n",
    "graph = store['rdfgraphs']['experiment']\n",
    "\n",
    "res1, res2 = (None, None)\n",
    "res1 = list(graph.objects(subject=get_uri(ex, \"Experiment\"), predicate=get_uri(ex, \"result\")))\n",
    "res2 = list(graph.subjects(object=Literal(\"9.81\", datatype=XSD.decimal), predicate=RDF.value))\n",
    "\n",
    "sta1 = triple.format(ex+\"Experiment\", ex+\"result\", \"Blank node\")\n",
    "sta2 = triple.format(\"Blank node\", RDF.value, \"9.81\")\n",
    "\n",
    "assert len(res1) > 0, error_not_contain.format(sta1)\n",
    "assert len(res1) <= 1, error_multiple.format(sta1)\n",
    "assert isinstance(res1[0], BNode), error_blank_node.format(sta1, res1[0].n3())\n",
    "\n",
    "assert len(res2) > 0, error_not_contain.format(sta2)\n",
    "assert len(res2) <= 1, error_multiple.format(sta2)\n",
    "assert isinstance(res2[0], BNode), error_blank_node.format(sta2, res2[0].n3())\n",
    "\n",
    "# assert both blank nodes are the same\n",
    "assert res1[0] == res2[0], error_blank_node.format(sta1, res1[0].n3())"
   ]
  },
  {
   "cell_type": "code",
   "execution_count": 32,
   "metadata": {
    "deletable": false,
    "editable": false,
    "nbgrader": {
     "cell_type": "code",
     "checksum": "a461a3b71837ef6062524629800a9da0",
     "grade": true,
     "grade_id": "cell-d67b6ec756729f53",
     "locked": true,
     "points": 1,
     "schema_version": 3,
     "solution": false,
     "task": false
    }
   },
   "outputs": [],
   "source": [
    "# This test will check whether your graph contains all complementing values. [1 point]\n",
    "# Only gives points if the last test does not fail.\n",
    "store = %rdf -r\n",
    "graph = store['rdfgraphs']['experiment']\n",
    "\n",
    "res1, res2 = (None, None)\n",
    "\n",
    "res1 = list(graph.subjects(object=get_uri(ex, \"meterPerSecondSquared\"), predicate=get_uri(ex, \"unit\"))) # for result and certainty\n",
    "res2 = list(graph.subjects(object=get_uri(ex, \"degree\"), predicate=get_uri(ex, \"unit\"))) # for latitude and longitude\n",
    "\n",
    "sta1 = triple.format(\"Blank node\", ex+\"unit\", ex+\"meterPerSecondSquared\")\n",
    "sta2 = triple.format(\"Blank node\", ex+\"unit\", ex+\"degree\")\n",
    "\n",
    "assert len(res1) > 0, error_not_contain.format(sta1)\n",
    "assert isinstance(res1[0], BNode), error_blank_node.format(sta1, res1[0].n3())\n",
    "\n",
    "assert len(res2) > 0, error_not_contain.format(sta2)\n",
    "assert isinstance(res2[0], BNode), error_blank_node.format(sta2, res2[0].n3())"
   ]
  },
  {
   "cell_type": "markdown",
   "metadata": {
    "deletable": false,
    "editable": false,
    "nbgrader": {
     "cell_type": "markdown",
     "checksum": "6cbde5bcc22a063f85a36a2230fc610f",
     "grade": false,
     "grade_id": "cell-62b9e77782c2aaa9",
     "locked": true,
     "schema_version": 3,
     "solution": false,
     "task": false
    }
   },
   "source": [
    "## Task 2: RDF Schema [8 points]\n",
    "\n",
    "RDF Schema (RDFS) is another [W3C recommended](https://www.w3.org/TR/rdf-schema/) vocabulary. RDFS provides means to specify characteristics of classes and properties independent of their domain. It can be seen as a weak ontology language for defining vocabularies. RDFS splits resources into three types: individuals, classes and properties. Individuals are instances of things, like a specific person or object. Classes are sets of individuals with similar properties like all persons or all cars. Properties describe individuals.\n",
    "\n",
    "### Classes\n",
    "\n",
    "Classes are sets of individuals with similar properties. To define our own class, we just have to declare the type of the class resource as **rdfs:Class**:\n",
    "\n",
    "**ex:Car a rdfs:Class .**\n",
    "\n",
    "To declare that an individual is part of a class, we also use rdf:type:\n",
    "\n",
    "**ex:BMW a ex:Car .**\n",
    "\n",
    "So rdfs:Class is the class containing all classes.\n",
    "\n",
    "### Properties\n",
    "\n",
    "As with classes, we can define our own properties to describe resources. For this, we use the class rdf:Property (Note that it is **rdf:Property** NOT rdfs:Property as it is defined in the RDF vocabulary). To define our own property, we just have to declare the type of the resource as **rdf:Property**:\n",
    "\n",
    "**ex:drives a rdf:Property .**\n",
    "\n",
    "Then we can use the property:\n",
    "\n",
    "**ex:Max ex:drives ex:BMW .**\n",
    "\n",
    "As rdf:Property is the class of all properties, it is also an rdfs:Class.\n",
    "\n",
    "### Subclasses and Subproperties\n",
    "\n",
    "While classes and properties are a nice way to organize resources, by themselves they do not provide means of infering new information. For this RDFS defines the two properties **rdfs:subClassOf** and **rdfs:subPropertyOf**. Any individual of a subclass also belongs to the superclass and any triple with the subproperty also holds for the superproperty. For example from the following graph:\n",
    "\n",
    "**\\# Defining classes and properties  \n",
    "ex:Car a rdfs:Class .  \n",
    "ex:Vehicle a rdfs:Class .  \n",
    "ex:drives a rdf:Property .  \n",
    "ex:operates a rdf:Property .  \n",
    "\\# Defining subclass- and subproperty-relations  \n",
    "ex:Car rdfs:subClassOf ex:Vehicle .  \n",
    "ex:drives rdfs:subPropertyOf ex:operates .  \n",
    "\\# Facts  \n",
    "ex:BMW a ex:Car .  \n",
    "ex:Max ex:drives ex:BMW .**\n",
    "\n",
    "these triples can be inferred:\n",
    "\n",
    "**ex:BMW a ex:Vehicle .  \n",
    "ex:Max ex:operates ex:BMW .**\n",
    "\n",
    "Both rdfs:subClassOf and rdfs:subPropertyOf are reflexive and transitive. So all \\[classes/properties\\] are \\[subclasses/subproperties\\] of themselves and when x is a \\[subclass/subproperty\\] of y and y is a \\[subclass/subproperty\\] of z then x is also a \\[subclass/subproperty\\] of z.\n",
    "\n",
    "To define that two classes or properties are equal, you just add a subclass/subproperty relation in both directions:\n",
    "\n",
    "**ex:Car rdfs:subClassOf ex:Automobile .  \n",
    "ex:Automobile rdfs:subClassOf ex:Car .  \n",
    "ex:drives rdfs:subPropertyOf ex:Steers .  \n",
    "ex:Steers rdfs:subPropertyOf ex:drives .**\n",
    "\n",
    "RDFS defines a class rdfs:Resource, which is the superclass of all classes.\n",
    "\n",
    "### Domains and Ranges\n",
    "\n",
    "Another way to infer new information is by using property domains and ranges. The domain of a property defines the class of the subject in a triple and the range the class of the object. For this we use the properties **rdfs:domain** and **rdfs:range**. For example, given the graph:\n",
    "\n",
    "**ex:Car a rdfs:Class .  \n",
    "ex:Person a rdfs:Class .  \n",
    "ex:drives a rdf:Property .  \n",
    "ex:drives rdfs:domain ex:Person .  \n",
    "ex:drives rdfs:range ex:Car .  \n",
    "ex:Max ex:drives ex:BMW .**\n",
    "\n",
    "we can infer the triples:\n",
    "\n",
    "**ex:Max a ex:Person .  \n",
    "ex:BMW a ex:Car .**\n",
    "\n",
    "Because ex:drives has the domain ex:Person and range ex:Car, ex:Max, who appears as subject of ex:drives, has to be a ex:Person, and ex:BMW, which appears as object of ex:drives, has to be a ex:Car.\n",
    "\n",
    "Many RDFS properties have predefined domains and ranges. For example rdfs:domain and rdfs:range themselves have rdf:Property as a domain and rdfs:Class as range. This means that we can omit the first three triples in the example above as they can be inferred by the fourth and fifth triple.\n",
    "\n",
    "Be careful when using multiple domains and ranges as they apply conjunctively and not disjunctively. For example:\n",
    "\n",
    "**ex:drives rdfs:range ex:Car .  \n",
    "ex:drives rdfs:range ex:Ship .**\n",
    "\n",
    "One would think that this means that the object of ex:drives is either a car or a ship but it means that its object is a car and a ship at the same time which is probably unintended. A better way to model this would be the following:\n",
    "\n",
    "**ex:Car rdfs:subClassOf ex:Vehicle .  \n",
    "ex:Ship rdfs:subClassOf ex:Vehicle .  \n",
    "ex:drives rdfs:range ex:Vehicle .**\n",
    "\n",
    "### Comparison to Object-Oriented Programming\n",
    "\n",
    "One may compare the class and property system of RDFS to object-oriented programming but this can be misleading. In oop, one defines classes in terms of what properties they have, while in RDFS one defines properties in terms of which classes of instances they apply to. So instead of saying: \"x belongs to class y so it has to have property z\", we say \"Property z is used with x, so x has to belong to class y\".\n",
    "\n",
    "\n",
    "### Other Useful Properties\n",
    "\n",
    "RDFS also defines the following useful properties:\n",
    "\n",
    "**rdfs:label**: Specifies a human-readable label for a resource. We already used this in prior exercises to give resources literal names.\n",
    "\n",
    "**rdfs:comment**: Specifies a human-readable description for a resource.\n",
    "\n",
    "**rdfs:seeAlso**: Specifies a generic link. Useful for linking resources to similar resources or resources that provide additional information.\n",
    "\n",
    "**rdfs:isDefinedBy**: Relate a resource to its definition. Can be used to indicate a vocabulary in which the resource is defined.\n",
    "\n",
    "### Entailment\n",
    "\n",
    "Using the RDFS vocabulary and its rules, we can now rdfs-entail a graph. If a graph A rdfs-entails a graph B, every rdfs-interpretation which satisfies graph A also satisfies graph B. With this we can implicitly deduct semantics for our graphs instead of explicitly specifying the meaning of information. For example, we can describe 'what a car is' without using attributes describing it. We implicitly specify it by stating that a car is a vehicle and that vehicles can be driven. Using this, we can give a machine interpretable meaning to resources and provide a more general description. RDFS-Entailment is only one of many possible entailment regimes. For more information on RDFS-Entailment, other entailment regimes and rdf semantics in general please consult this [W3C recommendation](https://www.w3.org/TR/rdf11-mt/).\n",
    "\n",
    "### 2a) Pets [4 points]\n",
    "\n",
    "Model the following information using the RDFS vocabulary:  \n",
    "All mammals are animals. All Humans, Canines and Felines are mammals. All dogs and foxes are Canines. Only humans have pets (http://example.org/#hasPet). Having a dog (http://example.org/#hasDog) means having a pet which is a dog.\n",
    "\n",
    "Also add that Max has a Dog with the name (rdfs:label) \"Spike\" and the description (rdfs:comment) \"A gray bulldog. He likes to chase cats.\".\n",
    "\n",
    "Use the following URIs:  \n",
    "Animals: **http://example.org/#Animal**  \n",
    "Mammals: **http://example.org/#Mammal**  \n",
    "Humans: **http://example.org/#Human**  \n",
    "Canines: **http://example.org/#Canine**  \n",
    "Felines: **http://example.org/#Feline**  \n",
    "Dogs: **http://example.org/#Dog**  \n",
    "Foxes: **http://example.org/#Fox**  \n",
    "Has a pet: **http://example.org/#hasPet**  \n",
    "Has a dog: **http://example.org/#hasDog**  \n",
    "Max: **http://example.org/#Max**  \n",
    "Spike: **http://example.org/#Spike**\n",
    "\n",
    "You may also use all terms from the RDF and RDFS vocabularies. You may omit or keep as many triples as long as the rdfs-entailment closure stays the same."
   ]
  },
  {
   "cell_type": "code",
   "execution_count": 5,
   "metadata": {
    "deletable": false,
    "nbgrader": {
     "cell_type": "code",
     "checksum": "fd562bb87d0358fc138c113e18ad0c5b",
     "grade": false,
     "grade_id": "cell-29a88032a0541ea5",
     "locked": false,
     "schema_version": 3,
     "solution": true,
     "task": false
    }
   },
   "outputs": [
    {
     "data": {
      "image/svg+xml": "<?xml version=\"1.0\" encoding=\"UTF-8\" standalone=\"no\"?>\n<!DOCTYPE svg PUBLIC \"-//W3C//DTD SVG 1.1//EN\"\n \"http://www.w3.org/Graphics/SVG/1.1/DTD/svg11.dtd\">\n<!-- Generated by graphviz version 5.0.1 (20220820.1526)\n -->\n<!-- Pages: 1 -->\n<svg width=\"1138pt\" height=\"566pt\"\n viewBox=\"0.00 0.00 1137.80 566.00\" xmlns=\"http://www.w3.org/2000/svg\" xmlns:xlink=\"http://www.w3.org/1999/xlink\">\n<g id=\"graph0\" class=\"graph\" transform=\"scale(1 1) rotate(0) translate(4 562)\">\n<polygon fill=\"white\" stroke=\"none\" points=\"-4,4 -4,-562 1133.8,-562 1133.8,4 -4,4\"/>\n<!-- 0 -->\n<g id=\"node1\" class=\"node\">\n<title>0</title>\n<ellipse fill=\"none\" stroke=\"black\" cx=\"937.8\" cy=\"-279\" rx=\"46.29\" ry=\"18\"/>\n<text text-anchor=\"middle\" x=\"937.8\" y=\"-275.3\" font-family=\"Times New Roman,serif\" font-size=\"14.00\">ex:Canine</text>\n</g>\n<!-- 4 -->\n<g id=\"node5\" class=\"node\">\n<title>4</title>\n<ellipse fill=\"none\" stroke=\"black\" cx=\"413.8\" cy=\"-192\" rx=\"51.99\" ry=\"18\"/>\n<text text-anchor=\"middle\" x=\"413.8\" y=\"-188.3\" font-family=\"Times New Roman,serif\" font-size=\"14.00\">ex:Mammal</text>\n</g>\n<!-- 0&#45;&gt;4 -->\n<g id=\"edge14\" class=\"edge\">\n<title>0&#45;&gt;4</title>\n<path fill=\"none\" stroke=\"black\" d=\"M891.92,-276.87C799.84,-274.15 595.67,-265.69 529.8,-243 518.26,-239.03 517.68,-233.52 506.8,-228 492.15,-220.58 475.55,-213.84 460.46,-208.3\"/>\n<polygon fill=\"black\" stroke=\"black\" points=\"461.39,-204.92 450.8,-204.84 459.03,-211.51 461.39,-204.92\"/>\n<text text-anchor=\"middle\" x=\"575.8\" y=\"-231.8\" font-family=\"Times New Roman,serif\" font-size=\"14.00\">rdfs:subClassOf</text>\n</g>\n<!-- 1 -->\n<g id=\"node2\" class=\"node\">\n<title>1</title>\n<ellipse fill=\"none\" stroke=\"black\" cx=\"774.8\" cy=\"-453\" rx=\"41.69\" ry=\"18\"/>\n<text text-anchor=\"middle\" x=\"774.8\" y=\"-449.3\" font-family=\"Times New Roman,serif\" font-size=\"14.00\">ex:Spike</text>\n</g>\n<!-- 7 -->\n<g id=\"node8\" class=\"node\">\n<title>7</title>\n<polygon fill=\"none\" stroke=\"black\" points=\"896.8,-384 652.8,-384 652.8,-348 896.8,-348 896.8,-384\"/>\n<text text-anchor=\"middle\" x=\"774.8\" y=\"-362.3\" font-family=\"Times New Roman,serif\" font-size=\"14.00\">&quot;A gray bulldog. He likes to chase cats.&quot;</text>\n</g>\n<!-- 1&#45;&gt;7 -->\n<g id=\"edge20\" class=\"edge\">\n<title>1&#45;&gt;7</title>\n<path fill=\"none\" stroke=\"black\" d=\"M774.8,-434.8C774.8,-423.16 774.8,-407.55 774.8,-394.24\"/>\n<polygon fill=\"black\" stroke=\"black\" points=\"778.3,-394.18 774.8,-384.18 771.3,-394.18 778.3,-394.18\"/>\n<text text-anchor=\"middle\" x=\"813.8\" y=\"-405.8\" font-family=\"Times New Roman,serif\" font-size=\"14.00\">rdfs:comment</text>\n</g>\n<!-- 16 -->\n<g id=\"node17\" class=\"node\">\n<title>16</title>\n<ellipse fill=\"none\" stroke=\"black\" cx=\"1040.8\" cy=\"-366\" rx=\"36.29\" ry=\"18\"/>\n<text text-anchor=\"middle\" x=\"1040.8\" y=\"-362.3\" font-family=\"Times New Roman,serif\" font-size=\"14.00\">ex:Dog</text>\n</g>\n<!-- 1&#45;&gt;16 -->\n<g id=\"edge18\" class=\"edge\">\n<title>1&#45;&gt;16</title>\n<path fill=\"none\" stroke=\"black\" d=\"M806.58,-441.24C812.93,-439.14 819.57,-436.97 825.8,-435 901,-411.19 921.08,-409.29 995.8,-384 998.22,-383.18 1000.71,-382.31 1003.21,-381.42\"/>\n<polygon fill=\"black\" stroke=\"black\" points=\"1004.62,-384.63 1012.82,-377.91 1002.23,-378.05 1004.62,-384.63\"/>\n<text text-anchor=\"middle\" x=\"958.8\" y=\"-405.8\" font-family=\"Times New Roman,serif\" font-size=\"14.00\">rdf:type</text>\n</g>\n<!-- 2 -->\n<g id=\"node3\" class=\"node\">\n<title>2</title>\n<ellipse fill=\"none\" stroke=\"black\" cx=\"264.8\" cy=\"-366\" rx=\"53.89\" ry=\"18\"/>\n<text text-anchor=\"middle\" x=\"264.8\" y=\"-362.3\" font-family=\"Times New Roman,serif\" font-size=\"14.00\">rdfs:domain</text>\n</g>\n<!-- 12 -->\n<g id=\"node13\" class=\"node\">\n<title>12</title>\n<ellipse fill=\"none\" stroke=\"black\" cx=\"159.8\" cy=\"-279\" rx=\"55.49\" ry=\"18\"/>\n<text text-anchor=\"middle\" x=\"159.8\" y=\"-275.3\" font-family=\"Times New Roman,serif\" font-size=\"14.00\">rdf:Property</text>\n</g>\n<!-- 2&#45;&gt;12 -->\n<g id=\"edge15\" class=\"edge\">\n<title>2&#45;&gt;12</title>\n<path fill=\"none\" stroke=\"black\" d=\"M221.18,-355.38C205.79,-350.1 189.43,-342.07 177.8,-330 171.7,-323.67 167.64,-315.13 164.96,-306.9\"/>\n<polygon fill=\"black\" stroke=\"black\" points=\"168.32,-305.91 162.32,-297.18 161.56,-307.75 168.32,-305.91\"/>\n<text text-anchor=\"middle\" x=\"211.3\" y=\"-318.8\" font-family=\"Times New Roman,serif\" font-size=\"14.00\">rdfs:domain</text>\n</g>\n<!-- 13 -->\n<g id=\"node14\" class=\"node\">\n<title>13</title>\n<ellipse fill=\"none\" stroke=\"black\" cx=\"194.8\" cy=\"-18\" rx=\"47.39\" ry=\"18\"/>\n<text text-anchor=\"middle\" x=\"194.8\" y=\"-14.3\" font-family=\"Times New Roman,serif\" font-size=\"14.00\">rdfs:Class</text>\n</g>\n<!-- 2&#45;&gt;13 -->\n<g id=\"edge19\" class=\"edge\">\n<title>2&#45;&gt;13</title>\n<path fill=\"none\" stroke=\"black\" d=\"M292.78,-350.61C300.34,-345.24 307.6,-338.36 311.8,-330 314.79,-324.04 314.94,-320.88 311.8,-315 304.99,-302.28 293.45,-308.54 284.8,-297 267.88,-274.45 265.8,-264.68 265.8,-236.5 265.8,-236.5 265.8,-236.5 265.8,-104 265.8,-77.59 245.35,-55.04 226.4,-39.82\"/>\n<polygon fill=\"black\" stroke=\"black\" points=\"228.51,-37.03 218.44,-33.76 224.27,-42.6 228.51,-37.03\"/>\n<text text-anchor=\"middle\" x=\"293.8\" y=\"-188.3\" font-family=\"Times New Roman,serif\" font-size=\"14.00\">rdfs:range</text>\n</g>\n<!-- 3 -->\n<g id=\"node4\" class=\"node\">\n<title>3</title>\n<ellipse fill=\"none\" stroke=\"black\" cx=\"442.8\" cy=\"-279\" rx=\"46.59\" ry=\"18\"/>\n<text text-anchor=\"middle\" x=\"442.8\" y=\"-275.3\" font-family=\"Times New Roman,serif\" font-size=\"14.00\">ex:Human</text>\n</g>\n<!-- 3&#45;&gt;4 -->\n<g id=\"edge8\" class=\"edge\">\n<title>3&#45;&gt;4</title>\n<path fill=\"none\" stroke=\"black\" d=\"M426.34,-261.95C421.72,-256.42 417.29,-249.88 414.8,-243 412.22,-235.9 411.29,-227.85 411.17,-220.32\"/>\n<polygon fill=\"black\" stroke=\"black\" points=\"414.67,-220.26 411.46,-210.16 407.67,-220.06 414.67,-220.26\"/>\n<text text-anchor=\"middle\" x=\"460.8\" y=\"-231.8\" font-family=\"Times New Roman,serif\" font-size=\"14.00\">rdfs:subClassOf</text>\n</g>\n<!-- 9 -->\n<g id=\"node10\" class=\"node\">\n<title>9</title>\n<ellipse fill=\"none\" stroke=\"black\" cx=\"413.8\" cy=\"-105\" rx=\"46.29\" ry=\"18\"/>\n<text text-anchor=\"middle\" x=\"413.8\" y=\"-101.3\" font-family=\"Times New Roman,serif\" font-size=\"14.00\">ex:Animal</text>\n</g>\n<!-- 4&#45;&gt;9 -->\n<g id=\"edge25\" class=\"edge\">\n<title>4&#45;&gt;9</title>\n<path fill=\"none\" stroke=\"black\" d=\"M413.8,-173.8C413.8,-162.16 413.8,-146.55 413.8,-133.24\"/>\n<polygon fill=\"black\" stroke=\"black\" points=\"417.3,-133.18 413.8,-123.18 410.3,-133.18 417.3,-133.18\"/>\n<text text-anchor=\"middle\" x=\"459.8\" y=\"-144.8\" font-family=\"Times New Roman,serif\" font-size=\"14.00\">rdfs:subClassOf</text>\n</g>\n<!-- 5 -->\n<g id=\"node6\" class=\"node\">\n<title>5</title>\n<ellipse fill=\"none\" stroke=\"black\" cx=\"335.8\" cy=\"-279\" rx=\"42.49\" ry=\"18\"/>\n<text text-anchor=\"middle\" x=\"335.8\" y=\"-275.3\" font-family=\"Times New Roman,serif\" font-size=\"14.00\">ex:Feline</text>\n</g>\n<!-- 5&#45;&gt;4 -->\n<g id=\"edge21\" class=\"edge\">\n<title>5&#45;&gt;4</title>\n<path fill=\"none\" stroke=\"black\" d=\"M321.58,-261.73C314.4,-251.46 308.58,-238.24 315.8,-228 325.19,-214.67 340.14,-206.39 355.57,-201.25\"/>\n<polygon fill=\"black\" stroke=\"black\" points=\"356.57,-204.61 365.19,-198.45 354.61,-197.89 356.57,-204.61\"/>\n<text text-anchor=\"middle\" x=\"361.8\" y=\"-231.8\" font-family=\"Times New Roman,serif\" font-size=\"14.00\">rdfs:subClassOf</text>\n</g>\n<!-- 6 -->\n<g id=\"node7\" class=\"node\">\n<title>6</title>\n<ellipse fill=\"none\" stroke=\"black\" cx=\"147.8\" cy=\"-105\" rx=\"70.39\" ry=\"18\"/>\n<text text-anchor=\"middle\" x=\"147.8\" y=\"-101.3\" font-family=\"Times New Roman,serif\" font-size=\"14.00\">rdfs:subClassOf</text>\n</g>\n<!-- 6&#45;&gt;13 -->\n<g id=\"edge1\" class=\"edge\">\n<title>6&#45;&gt;13</title>\n<path fill=\"none\" stroke=\"black\" d=\"M160.99,-87.02C165.03,-81.44 169.32,-75.1 172.8,-69 177.02,-61.58 180.99,-53.2 184.37,-45.45\"/>\n<polygon fill=\"black\" stroke=\"black\" points=\"187.65,-46.66 188.3,-36.09 181.2,-43.95 187.65,-46.66\"/>\n<text text-anchor=\"middle\" x=\"208.8\" y=\"-57.8\" font-family=\"Times New Roman,serif\" font-size=\"14.00\">rdfs:range</text>\n</g>\n<!-- 6&#45;&gt;13 -->\n<g id=\"edge24\" class=\"edge\">\n<title>6&#45;&gt;13</title>\n<path fill=\"none\" stroke=\"black\" d=\"M118.67,-88.53C104.88,-79.11 93.14,-66.51 101.8,-54 110.9,-40.85 125.6,-32.64 140.66,-27.5\"/>\n<polygon fill=\"black\" stroke=\"black\" points=\"141.96,-30.77 150.54,-24.56 139.96,-24.06 141.96,-30.77\"/>\n<text text-anchor=\"middle\" x=\"135.3\" y=\"-57.8\" font-family=\"Times New Roman,serif\" font-size=\"14.00\">rdfs:domain</text>\n</g>\n<!-- 8 -->\n<g id=\"node9\" class=\"node\">\n<title>8</title>\n<ellipse fill=\"none\" stroke=\"black\" cx=\"774.8\" cy=\"-540\" rx=\"37.09\" ry=\"18\"/>\n<text text-anchor=\"middle\" x=\"774.8\" y=\"-536.3\" font-family=\"Times New Roman,serif\" font-size=\"14.00\">ex:Max</text>\n</g>\n<!-- 8&#45;&gt;1 -->\n<g id=\"edge9\" class=\"edge\">\n<title>8&#45;&gt;1</title>\n<path fill=\"none\" stroke=\"black\" d=\"M774.8,-521.8C774.8,-510.16 774.8,-494.55 774.8,-481.24\"/>\n<polygon fill=\"black\" stroke=\"black\" points=\"778.3,-481.18 774.8,-471.18 771.3,-481.18 778.3,-481.18\"/>\n<text text-anchor=\"middle\" x=\"804.3\" y=\"-492.8\" font-family=\"Times New Roman,serif\" font-size=\"14.00\">ex:hasDog</text>\n</g>\n<!-- 8&#45;&gt;3 -->\n<g id=\"edge13\" class=\"edge\">\n<title>8&#45;&gt;3</title>\n<path fill=\"none\" stroke=\"black\" d=\"M737.83,-538.04C674.58,-534.99 543.12,-522.42 446.8,-471 393.48,-442.54 368.89,-405.07 388.8,-348 394.66,-331.19 406.61,-315.41 417.78,-303.3\"/>\n<polygon fill=\"black\" stroke=\"black\" points=\"420.51,-305.51 424.94,-295.89 415.47,-300.65 420.51,-305.51\"/>\n<text text-anchor=\"middle\" x=\"410.8\" y=\"-405.8\" font-family=\"Times New Roman,serif\" font-size=\"14.00\">rdf:type</text>\n</g>\n<!-- 11 -->\n<g id=\"node12\" class=\"node\">\n<title>11</title>\n<polygon fill=\"none\" stroke=\"black\" points=\"888.8,-471 834.8,-471 834.8,-435 888.8,-435 888.8,-471\"/>\n<text text-anchor=\"middle\" x=\"861.8\" y=\"-449.3\" font-family=\"Times New Roman,serif\" font-size=\"14.00\">&quot;Max&quot;</text>\n</g>\n<!-- 8&#45;&gt;11 -->\n<g id=\"edge23\" class=\"edge\">\n<title>8&#45;&gt;11</title>\n<path fill=\"none\" stroke=\"black\" d=\"M802.73,-528.07C814.69,-522.32 828.1,-514.29 837.8,-504 844.06,-497.35 848.98,-488.76 852.69,-480.59\"/>\n<polygon fill=\"black\" stroke=\"black\" points=\"855.93,-481.9 856.49,-471.32 849.46,-479.24 855.93,-481.9\"/>\n<text text-anchor=\"middle\" x=\"874.8\" y=\"-492.8\" font-family=\"Times New Roman,serif\" font-size=\"14.00\">rdfs:label</text>\n</g>\n<!-- 9&#45;&gt;13 -->\n<g id=\"edge10\" class=\"edge\">\n<title>9&#45;&gt;13</title>\n<path fill=\"none\" stroke=\"black\" d=\"M381.95,-91.64C343.43,-76.69 278.5,-51.49 236.14,-35.05\"/>\n<polygon fill=\"black\" stroke=\"black\" points=\"237.27,-31.73 226.68,-31.37 234.73,-38.26 237.27,-31.73\"/>\n<text text-anchor=\"middle\" x=\"339.8\" y=\"-57.8\" font-family=\"Times New Roman,serif\" font-size=\"14.00\">rdf:type</text>\n</g>\n<!-- 10 -->\n<g id=\"node11\" class=\"node\">\n<title>10</title>\n<ellipse fill=\"none\" stroke=\"black\" cx=\"442.8\" cy=\"-366\" rx=\"44.69\" ry=\"18\"/>\n<text text-anchor=\"middle\" x=\"442.8\" y=\"-362.3\" font-family=\"Times New Roman,serif\" font-size=\"14.00\">ex:hasPet</text>\n</g>\n<!-- 10&#45;&gt;3 -->\n<g id=\"edge7\" class=\"edge\">\n<title>10&#45;&gt;3</title>\n<path fill=\"none\" stroke=\"black\" d=\"M442.8,-347.8C442.8,-336.16 442.8,-320.55 442.8,-307.24\"/>\n<polygon fill=\"black\" stroke=\"black\" points=\"446.3,-307.18 442.8,-297.18 439.3,-307.18 446.3,-307.18\"/>\n<text text-anchor=\"middle\" x=\"476.3\" y=\"-318.8\" font-family=\"Times New Roman,serif\" font-size=\"14.00\">rdfs:domain</text>\n</g>\n<!-- 10&#45;&gt;9 -->\n<g id=\"edge22\" class=\"edge\">\n<title>10&#45;&gt;9</title>\n<path fill=\"none\" stroke=\"black\" d=\"M479.36,-355.55C540.65,-337.67 654.4,-294.61 621.8,-228 591.43,-165.96 513.8,-133.21 462.45,-117.77\"/>\n<polygon fill=\"black\" stroke=\"black\" points=\"463.13,-114.32 452.55,-114.91 461.18,-121.05 463.13,-114.32\"/>\n<text text-anchor=\"middle\" x=\"654.8\" y=\"-231.8\" font-family=\"Times New Roman,serif\" font-size=\"14.00\">rdfs:range</text>\n</g>\n<!-- 10&#45;&gt;12 -->\n<g id=\"edge2\" class=\"edge\">\n<title>10&#45;&gt;12</title>\n<path fill=\"none\" stroke=\"black\" d=\"M408.09,-354.58C358.11,-339.56 265.61,-311.78 208.71,-294.69\"/>\n<polygon fill=\"black\" stroke=\"black\" points=\"209.45,-291.26 198.87,-291.74 207.44,-297.96 209.45,-291.26\"/>\n<text text-anchor=\"middle\" x=\"340.8\" y=\"-318.8\" font-family=\"Times New Roman,serif\" font-size=\"14.00\">rdf:type</text>\n</g>\n<!-- 14 -->\n<g id=\"node15\" class=\"node\">\n<title>14</title>\n<ellipse fill=\"none\" stroke=\"black\" cx=\"504.8\" cy=\"-453\" rx=\"48.99\" ry=\"18\"/>\n<text text-anchor=\"middle\" x=\"504.8\" y=\"-449.3\" font-family=\"Times New Roman,serif\" font-size=\"14.00\">ex:hasDog</text>\n</g>\n<!-- 14&#45;&gt;3 -->\n<g id=\"edge3\" class=\"edge\">\n<title>14&#45;&gt;3</title>\n<path fill=\"none\" stroke=\"black\" d=\"M533.17,-438.36C541.33,-432.93 549.25,-425.83 553.8,-417 556.85,-411.07 555.22,-408.51 553.8,-402 544.7,-360.43 543.48,-345.5 513.8,-315 506.09,-307.08 496.22,-300.69 486.31,-295.64\"/>\n<polygon fill=\"black\" stroke=\"black\" points=\"487.79,-292.47 477.26,-291.37 484.81,-298.8 487.79,-292.47\"/>\n<text text-anchor=\"middle\" x=\"583.3\" y=\"-362.3\" font-family=\"Times New Roman,serif\" font-size=\"14.00\">rdfs:domain</text>\n</g>\n<!-- 14&#45;&gt;10 -->\n<g id=\"edge17\" class=\"edge\">\n<title>14&#45;&gt;10</title>\n<path fill=\"none\" stroke=\"black\" d=\"M470.42,-440.06C460.05,-434.68 449.83,-427.19 443.8,-417 439.84,-410.32 438.52,-402.22 438.49,-394.49\"/>\n<polygon fill=\"black\" stroke=\"black\" points=\"441.99,-394.55 439.1,-384.36 435,-394.13 441.99,-394.55\"/>\n<text text-anchor=\"middle\" x=\"498.8\" y=\"-405.8\" font-family=\"Times New Roman,serif\" font-size=\"14.00\">rdfs:subPropertyOf</text>\n</g>\n<!-- 14&#45;&gt;12 -->\n<g id=\"edge5\" class=\"edge\">\n<title>14&#45;&gt;12</title>\n<path fill=\"none\" stroke=\"black\" d=\"M477.11,-437.94C450.47,-424.66 411.92,-406.17 395.8,-402 370.12,-395.37 175.83,-403.45 157.8,-384 138.86,-363.58 143.46,-330.03 150.11,-306.58\"/>\n<polygon fill=\"black\" stroke=\"black\" points=\"153.5,-307.49 153.13,-296.9 146.81,-305.41 153.5,-307.49\"/>\n<text text-anchor=\"middle\" x=\"179.8\" y=\"-362.3\" font-family=\"Times New Roman,serif\" font-size=\"14.00\">rdf:type</text>\n</g>\n<!-- 14&#45;&gt;16 -->\n<g id=\"edge16\" class=\"edge\">\n<title>14&#45;&gt;16</title>\n<path fill=\"none\" stroke=\"black\" d=\"M541.98,-441.12C583.66,-429.4 653.46,-411.2 714.8,-402 838.56,-383.44 873.47,-410.4 995.8,-384 998.63,-383.39 1001.52,-382.63 1004.4,-381.78\"/>\n<polygon fill=\"black\" stroke=\"black\" points=\"1005.67,-385.05 1014.06,-378.58 1003.47,-378.4 1005.67,-385.05\"/>\n<text text-anchor=\"middle\" x=\"742.8\" y=\"-405.8\" font-family=\"Times New Roman,serif\" font-size=\"14.00\">rdfs:range</text>\n</g>\n<!-- 15 -->\n<g id=\"node16\" class=\"node\">\n<title>15</title>\n<ellipse fill=\"none\" stroke=\"black\" cx=\"46.8\" cy=\"-366\" rx=\"46.59\" ry=\"18\"/>\n<text text-anchor=\"middle\" x=\"46.8\" y=\"-362.3\" font-family=\"Times New Roman,serif\" font-size=\"14.00\">rdfs:range</text>\n</g>\n<!-- 15&#45;&gt;12 -->\n<g id=\"edge6\" class=\"edge\">\n<title>15&#45;&gt;12</title>\n<path fill=\"none\" stroke=\"black\" d=\"M48.46,-347.75C50.33,-337.08 54.32,-323.79 62.8,-315 73.4,-304 87.7,-296.45 102.07,-291.27\"/>\n<polygon fill=\"black\" stroke=\"black\" points=\"103.56,-294.46 111.98,-288.04 101.39,-287.81 103.56,-294.46\"/>\n<text text-anchor=\"middle\" x=\"96.3\" y=\"-318.8\" font-family=\"Times New Roman,serif\" font-size=\"14.00\">rdfs:domain</text>\n</g>\n<!-- 15&#45;&gt;13 -->\n<g id=\"edge12\" class=\"edge\">\n<title>15&#45;&gt;13</title>\n<path fill=\"none\" stroke=\"black\" d=\"M41,-347.97C35.74,-330.96 28.8,-303.98 28.8,-280 28.8,-280 28.8,-280 28.8,-104 28.8,-53.37 90.74,-32.88 138.94,-24.6\"/>\n<polygon fill=\"black\" stroke=\"black\" points=\"139.67,-28.03 149,-23.01 138.57,-21.11 139.67,-28.03\"/>\n<text text-anchor=\"middle\" x=\"56.8\" y=\"-188.3\" font-family=\"Times New Roman,serif\" font-size=\"14.00\">rdfs:range</text>\n</g>\n<!-- 16&#45;&gt;0 -->\n<g id=\"edge4\" class=\"edge\">\n<title>16&#45;&gt;0</title>\n<path fill=\"none\" stroke=\"black\" d=\"M1041.38,-347.92C1040.85,-337.32 1038.48,-324.04 1030.8,-315 1020.35,-302.7 1005.13,-294.72 990.01,-289.54\"/>\n<polygon fill=\"black\" stroke=\"black\" points=\"990.73,-286.1 980.14,-286.52 988.68,-292.79 990.73,-286.1\"/>\n<text text-anchor=\"middle\" x=\"1083.8\" y=\"-318.8\" font-family=\"Times New Roman,serif\" font-size=\"14.00\">rdfs:subClassOf</text>\n</g>\n<!-- 17 -->\n<g id=\"node18\" class=\"node\">\n<title>17</title>\n<ellipse fill=\"none\" stroke=\"black\" cx=\"950.8\" cy=\"-366\" rx=\"36\" ry=\"18\"/>\n<text text-anchor=\"middle\" x=\"950.8\" y=\"-362.3\" font-family=\"Times New Roman,serif\" font-size=\"14.00\">ex:Fox</text>\n</g>\n<!-- 17&#45;&gt;0 -->\n<g id=\"edge11\" class=\"edge\">\n<title>17&#45;&gt;0</title>\n<path fill=\"none\" stroke=\"black\" d=\"M943.85,-348.19C941.83,-342.51 939.87,-336.07 938.8,-330 937.52,-322.76 936.97,-314.84 936.82,-307.49\"/>\n<polygon fill=\"black\" stroke=\"black\" points=\"940.32,-307.26 936.83,-297.25 933.32,-307.25 940.32,-307.26\"/>\n<text text-anchor=\"middle\" x=\"984.8\" y=\"-318.8\" font-family=\"Times New Roman,serif\" font-size=\"14.00\">rdfs:subClassOf</text>\n</g>\n</g>\n</svg>\n",
      "text/plain": [
       "<graphviz.graphs.Digraph at 0x1f584fec0a0>"
      ]
     },
     "metadata": {},
     "output_type": "display_data"
    }
   ],
   "source": [
    "%%rdf turtle -l pets\n",
    "\n",
    "# These are just some axiomatic triples. Do not remove them.\n",
    "rdfs:subClassOf rdfs:domain rdfs:Class .\n",
    "rdfs:subClassOf rdfs:range rdfs:Class .\n",
    "rdfs:range rdfs:range rdfs:Class .\n",
    "rdfs:range rdfs:domain rdf:Property .\n",
    "rdfs:domain rdfs:range rdfs:Class .\n",
    "rdfs:domain rdfs:domain rdf:Property .\n",
    "\n",
    "# main class\n",
    "ex:Animal a rdfs:Class .\n",
    "# ex:Mammal a rdfs:Class .\n",
    "# ex:Human a rdfs:Class .\n",
    "# ex:Canine a rdfs:Class .\n",
    "# ex:Feline a rdfs:Class .\n",
    "# ex:Dog a rdfs:Class .\n",
    "# ex:Fox a rdfs:Class .\n",
    "\n",
    "# sub class\n",
    "ex:Mammal rdfs:subClassOf ex:Animal .\n",
    "ex:Human rdfs:subClassOf ex:Mammal .\n",
    "ex:Canine rdfs:subClassOf ex:Mammal .\n",
    "ex:Feline rdfs:subClassOf ex:Mammal .\n",
    "ex:Dog rdfs:subClassOf ex:Canine .\n",
    "ex:Fox rdfs:subClassOf ex:Canine .\n",
    "\n",
    "# properties\n",
    "ex:hasPet a rdf:Property .\n",
    "ex:hasDog a rdf:Property .\n",
    "\n",
    "# sub properties\n",
    "ex:hasDog rdfs:subPropertyOf ex:hasPet .\n",
    "# ex:hasPet rdfs:subPropertyOf ex:hasDog .\n",
    "\n",
    "# domain and range\n",
    "ex:hasPet rdfs:domain ex:Human .\n",
    "ex:hasPet rdfs:range ex:Animal .\n",
    "ex:hasDog rdfs:domain ex:Human .\n",
    "ex:hasDog rdfs:range ex:Dog .\n",
    "\n",
    "# individuals\n",
    "ex:Spike a ex:Dog ;\n",
    "    rdfs:comment \"A gray bulldog. He likes to chase cats.\" .\n",
    "\n",
    "ex:Max a ex:Human ;\n",
    "    rdfs:label \"Max\" ;\n",
    "    ex:hasDog ex:Spike ."
   ]
  },
  {
   "cell_type": "markdown",
   "metadata": {
    "deletable": false,
    "editable": false,
    "nbgrader": {
     "cell_type": "markdown",
     "checksum": "6e2624d1f00a5fae8cf82f825ee61616",
     "grade": false,
     "grade_id": "cell-5aed95188f6f9a1d",
     "locked": true,
     "schema_version": 3,
     "solution": false,
     "task": false
    }
   },
   "source": [
    "The cell below will automatically compute the closure of the rdfs-entailment for your graph. The extension uses a brute-force approach and only a finite set of axiomatic triples. It also omits most axiomatic triples to make the graph less cluttered so the closure will not be complete but best-effort. Note that this graph grows quite quickly."
   ]
  },
  {
   "cell_type": "code",
   "execution_count": 34,
   "metadata": {
    "deletable": false,
    "editable": false,
    "nbgrader": {
     "cell_type": "code",
     "checksum": "4cab0e2209ac2db99010c9005ed4e53b",
     "grade": false,
     "grade_id": "cell-172648f531b503d8",
     "locked": true,
     "schema_version": 3,
     "solution": false,
     "task": false
    }
   },
   "outputs": [
    {
     "name": "stdout",
     "output_type": "stream",
     "text": [
      "Graphman: Graph labelled 'pets' has been entailed using the RDFS regime.\n"
     ]
    },
    {
     "data": {
      "image/svg+xml": "<?xml version=\"1.0\" encoding=\"UTF-8\" standalone=\"no\"?>\n<!DOCTYPE svg PUBLIC \"-//W3C//DTD SVG 1.1//EN\"\n \"http://www.w3.org/Graphics/SVG/1.1/DTD/svg11.dtd\">\n<!-- Generated by graphviz version 5.0.1 (20220820.1526)\n -->\n<!-- Pages: 1 -->\n<svg width=\"3858pt\" height=\"695pt\"\n viewBox=\"0.00 0.00 3858.00 695.00\" xmlns=\"http://www.w3.org/2000/svg\" xmlns:xlink=\"http://www.w3.org/1999/xlink\">\n<g id=\"graph0\" class=\"graph\" transform=\"scale(1 1) rotate(0) translate(4 691)\">\n<polygon fill=\"white\" stroke=\"none\" points=\"-4,4 -4,-691 3854,-691 3854,4 -4,4\"/>\n<!-- 0 -->\n<g id=\"node1\" class=\"node\">\n<title>0</title>\n<ellipse fill=\"none\" stroke=\"black\" cx=\"3333\" cy=\"-279\" rx=\"46.59\" ry=\"18\"/>\n<text text-anchor=\"middle\" x=\"3333\" y=\"-275.3\" font-family=\"Times New Roman,serif\" font-size=\"14.00\">rdfs:range</text>\n</g>\n<!-- 0&#45;&gt;0 -->\n<g id=\"edge79\" class=\"edge\">\n<title>0&#45;&gt;0</title>\n<path fill=\"none\" stroke=\"black\" d=\"M3375.38,-286.86C3387.99,-286.62 3397.8,-284 3397.8,-279 3397.8,-275.48 3392.95,-273.14 3385.68,-271.98\"/>\n<polygon fill=\"black\" stroke=\"black\" points=\"3385.63,-268.47 3375.38,-271.14 3385.06,-275.44 3385.63,-268.47\"/>\n<text text-anchor=\"middle\" x=\"3452.8\" y=\"-275.3\" font-family=\"Times New Roman,serif\" font-size=\"14.00\">rdfs:subPropertyOf</text>\n</g>\n<!-- 10 -->\n<g id=\"node11\" class=\"node\">\n<title>10</title>\n<ellipse fill=\"none\" stroke=\"black\" cx=\"1631\" cy=\"-105\" rx=\"61.99\" ry=\"18\"/>\n<text text-anchor=\"middle\" x=\"1631\" y=\"-101.3\" font-family=\"Times New Roman,serif\" font-size=\"14.00\">rdfs:Resource</text>\n</g>\n<!-- 0&#45;&gt;10 -->\n<g id=\"edge93\" class=\"edge\">\n<title>0&#45;&gt;10</title>\n<path fill=\"none\" stroke=\"black\" d=\"M3330.49,-261C3328.04,-250.16 3323.26,-236.59 3314,-228 3171.71,-95.96 3079.48,-156.63 2886,-141 2653.71,-122.23 1933.83,-110.4 1703.01,-107.01\"/>\n<polygon fill=\"black\" stroke=\"black\" points=\"1702.76,-103.5 1692.71,-106.86 1702.66,-110.5 1702.76,-103.5\"/>\n<text text-anchor=\"middle\" x=\"3312\" y=\"-188.3\" font-family=\"Times New Roman,serif\" font-size=\"14.00\">rdf:type</text>\n</g>\n<!-- 11 -->\n<g id=\"node12\" class=\"node\">\n<title>11</title>\n<ellipse fill=\"none\" stroke=\"black\" cx=\"2733\" cy=\"-192\" rx=\"55.49\" ry=\"18\"/>\n<text text-anchor=\"middle\" x=\"2733\" y=\"-188.3\" font-family=\"Times New Roman,serif\" font-size=\"14.00\">rdf:Property</text>\n</g>\n<!-- 0&#45;&gt;11 -->\n<g id=\"edge51\" class=\"edge\">\n<title>0&#45;&gt;11</title>\n<path fill=\"none\" stroke=\"black\" d=\"M3306.71,-263.94C3295.32,-257.7 3281.89,-250.17 3270,-243 3259.55,-236.7 3258.57,-231.87 3247,-228 3205.45,-214.1 2926.38,-200.97 2797.73,-195.58\"/>\n<polygon fill=\"black\" stroke=\"black\" points=\"2797.76,-192.08 2787.62,-195.16 2797.46,-199.07 2797.76,-192.08\"/>\n<text text-anchor=\"middle\" x=\"3292\" y=\"-231.8\" font-family=\"Times New Roman,serif\" font-size=\"14.00\">rdf:type</text>\n</g>\n<!-- 0&#45;&gt;11 -->\n<g id=\"edge102\" class=\"edge\">\n<title>0&#45;&gt;11</title>\n<path fill=\"none\" stroke=\"black\" d=\"M3298.22,-266.75C3291.24,-264.68 3283.92,-262.66 3277,-261 3232.66,-250.36 3220.78,-251.59 3176,-243 3143.47,-236.76 3135.76,-232.9 3103,-228 2996.19,-212.02 2870.88,-201.98 2796.92,-196.94\"/>\n<polygon fill=\"black\" stroke=\"black\" points=\"2797.05,-193.44 2786.84,-196.26 2796.58,-200.42 2797.05,-193.44\"/>\n<text text-anchor=\"middle\" x=\"3209.5\" y=\"-231.8\" font-family=\"Times New Roman,serif\" font-size=\"14.00\">rdfs:domain</text>\n</g>\n<!-- 18 -->\n<g id=\"node19\" class=\"node\">\n<title>18</title>\n<ellipse fill=\"none\" stroke=\"black\" cx=\"1631\" cy=\"-18\" rx=\"47.39\" ry=\"18\"/>\n<text text-anchor=\"middle\" x=\"1631\" y=\"-14.3\" font-family=\"Times New Roman,serif\" font-size=\"14.00\">rdfs:Class</text>\n</g>\n<!-- 0&#45;&gt;18 -->\n<g id=\"edge43\" class=\"edge\">\n<title>0&#45;&gt;18</title>\n<path fill=\"none\" stroke=\"black\" d=\"M3378.28,-274.4C3420.71,-269.98 3479.69,-260.76 3494,-243 3498.18,-237.81 3497.06,-233.92 3494,-228 3413.11,-71.71 3297.96,-113.6 3124,-87 2959.49,-61.84 2917.13,-63.94 2751,-54 2344.83,-29.71 1854.73,-21.75 1688.98,-19.65\"/>\n<polygon fill=\"black\" stroke=\"black\" points=\"1688.57,-16.14 1678.53,-19.52 1688.49,-23.14 1688.57,-16.14\"/>\n<text text-anchor=\"middle\" x=\"3469\" y=\"-144.8\" font-family=\"Times New Roman,serif\" font-size=\"14.00\">rdfs:range</text>\n</g>\n<!-- 1 -->\n<g id=\"node2\" class=\"node\">\n<title>1</title>\n<ellipse fill=\"none\" stroke=\"black\" cx=\"3307\" cy=\"-474\" rx=\"44.69\" ry=\"18\"/>\n<text text-anchor=\"middle\" x=\"3307\" y=\"-470.3\" font-family=\"Times New Roman,serif\" font-size=\"14.00\">ex:hasPet</text>\n</g>\n<!-- 1&#45;&gt;1 -->\n<g id=\"edge20\" class=\"edge\">\n<title>1&#45;&gt;1</title>\n<path fill=\"none\" stroke=\"black\" d=\"M3344.42,-484.1C3358.37,-484.43 3369.85,-481.07 3369.85,-474 3369.85,-468.76 3363.52,-465.55 3354.56,-464.38\"/>\n<polygon fill=\"black\" stroke=\"black\" points=\"3354.58,-460.88 3344.42,-463.9 3354.24,-467.87 3354.58,-460.88\"/>\n<text text-anchor=\"middle\" x=\"3424.85\" y=\"-470.3\" font-family=\"Times New Roman,serif\" font-size=\"14.00\">rdfs:subPropertyOf</text>\n</g>\n<!-- 8 -->\n<g id=\"node9\" class=\"node\">\n<title>8</title>\n<ellipse fill=\"none\" stroke=\"black\" cx=\"983\" cy=\"-192\" rx=\"46.29\" ry=\"18\"/>\n<text text-anchor=\"middle\" x=\"983\" y=\"-188.3\" font-family=\"Times New Roman,serif\" font-size=\"14.00\">ex:Animal</text>\n</g>\n<!-- 1&#45;&gt;8 -->\n<g id=\"edge15\" class=\"edge\">\n<title>1&#45;&gt;8</title>\n<path fill=\"none\" stroke=\"black\" d=\"M3275.9,-460.89C3269.72,-458.92 3263.22,-457.15 3257,-456 2446.63,-305.78 2210.77,-552.51 1404,-384 1339.53,-370.53 1323.14,-362.76 1266,-330 1256.67,-324.65 1255.99,-320.91 1247,-315 1179.05,-270.3 1160.55,-260.53 1086,-228 1067.6,-219.97 1046.72,-212.57 1028.59,-206.67\"/>\n<polygon fill=\"black\" stroke=\"black\" points=\"1029.43,-203.26 1018.83,-203.55 1027.29,-209.93 1029.43,-203.26\"/>\n<text text-anchor=\"middle\" x=\"1294\" y=\"-318.8\" font-family=\"Times New Roman,serif\" font-size=\"14.00\">rdfs:range</text>\n</g>\n<!-- 1&#45;&gt;10 -->\n<g id=\"edge65\" class=\"edge\">\n<title>1&#45;&gt;10</title>\n<path fill=\"none\" stroke=\"black\" d=\"M3339.54,-461.34C3396.36,-439.11 3512.78,-384.92 3567,-297 3583.27,-270.63 3594.56,-253.53 3577,-228 3564.32,-209.57 3549.53,-220.91 3530,-210 3507.03,-197.16 3504.7,-188.88 3483,-174 3471.4,-166.05 3442.5,-144.94 3429,-141 3423.73,-139.46 2035.99,-113.54 1702.46,-107.33\"/>\n<polygon fill=\"black\" stroke=\"black\" points=\"1702.5,-103.83 1692.43,-107.14 1702.37,-110.83 1702.5,-103.83\"/>\n<text text-anchor=\"middle\" x=\"3606\" y=\"-275.3\" font-family=\"Times New Roman,serif\" font-size=\"14.00\">rdf:type</text>\n</g>\n<!-- 1&#45;&gt;11 -->\n<g id=\"edge89\" class=\"edge\">\n<title>1&#45;&gt;11</title>\n<path fill=\"none\" stroke=\"black\" d=\"M3328.32,-457.93C3360.57,-433.36 3414.86,-383.82 3384,-348 3283.98,-231.9 3171.1,-381.11 3043,-297 3012.79,-277.17 3030.38,-247.56 3000,-228 2967.56,-207.12 2865.99,-198.62 2797.9,-195.21\"/>\n<polygon fill=\"black\" stroke=\"black\" points=\"2797.85,-191.7 2787.69,-194.72 2797.51,-198.69 2797.85,-191.7\"/>\n<text text-anchor=\"middle\" x=\"3387\" y=\"-318.8\" font-family=\"Times New Roman,serif\" font-size=\"14.00\">rdf:type</text>\n</g>\n<!-- 21 -->\n<g id=\"node22\" class=\"node\">\n<title>21</title>\n<ellipse fill=\"none\" stroke=\"black\" cx=\"3218\" cy=\"-366\" rx=\"46.59\" ry=\"18\"/>\n<text text-anchor=\"middle\" x=\"3218\" y=\"-362.3\" font-family=\"Times New Roman,serif\" font-size=\"14.00\">ex:Human</text>\n</g>\n<!-- 1&#45;&gt;21 -->\n<g id=\"edge75\" class=\"edge\">\n<title>1&#45;&gt;21</title>\n<path fill=\"none\" stroke=\"black\" d=\"M3293.09,-456.44C3278.4,-438.94 3255.08,-411.16 3238.32,-391.2\"/>\n<polygon fill=\"black\" stroke=\"black\" points=\"3240.92,-388.85 3231.81,-383.45 3235.56,-393.36 3240.92,-388.85\"/>\n<text text-anchor=\"middle\" x=\"3308.5\" y=\"-416.3\" font-family=\"Times New Roman,serif\" font-size=\"14.00\">rdfs:domain</text>\n</g>\n<!-- 2 -->\n<g id=\"node3\" class=\"node\">\n<title>2</title>\n<ellipse fill=\"none\" stroke=\"black\" cx=\"1478\" cy=\"-474\" rx=\"36.29\" ry=\"18\"/>\n<text text-anchor=\"middle\" x=\"1478\" y=\"-470.3\" font-family=\"Times New Roman,serif\" font-size=\"14.00\">ex:Dog</text>\n</g>\n<!-- 2&#45;&gt;2 -->\n<g id=\"edge22\" class=\"edge\">\n<title>2&#45;&gt;2</title>\n<path fill=\"none\" stroke=\"black\" d=\"M1508.48,-484.02C1521.4,-484.78 1532.4,-481.44 1532.4,-474 1532.4,-468.66 1526.71,-465.43 1518.72,-464.31\"/>\n<polygon fill=\"black\" stroke=\"black\" points=\"1518.59,-460.81 1508.48,-463.98 1518.36,-467.8 1518.59,-460.81\"/>\n<text text-anchor=\"middle\" x=\"1578.4\" y=\"-470.3\" font-family=\"Times New Roman,serif\" font-size=\"14.00\">rdfs:subClassOf</text>\n</g>\n<!-- 7 -->\n<g id=\"node8\" class=\"node\">\n<title>7</title>\n<ellipse fill=\"none\" stroke=\"black\" cx=\"688\" cy=\"-279\" rx=\"51.99\" ry=\"18\"/>\n<text text-anchor=\"middle\" x=\"688\" y=\"-275.3\" font-family=\"Times New Roman,serif\" font-size=\"14.00\">ex:Mammal</text>\n</g>\n<!-- 2&#45;&gt;7 -->\n<g id=\"edge74\" class=\"edge\">\n<title>2&#45;&gt;7</title>\n<path fill=\"none\" stroke=\"black\" d=\"M1442.02,-470.95C1384.38,-467.14 1274.41,-457.49 1241,-438 1223.49,-427.78 1230.92,-411.47 1213,-402 1156.1,-371.95 983.48,-408.55 924,-384 901.58,-374.75 904.24,-359.71 883,-348 858.24,-334.36 848.81,-338.95 822,-330 791.09,-319.69 756.66,-306.81 730.43,-296.7\"/>\n<polygon fill=\"black\" stroke=\"black\" points=\"731.4,-293.32 720.81,-292.98 728.87,-299.85 731.4,-293.32\"/>\n<text text-anchor=\"middle\" x=\"970\" y=\"-362.3\" font-family=\"Times New Roman,serif\" font-size=\"14.00\">rdfs:subClassOf</text>\n</g>\n<!-- 2&#45;&gt;8 -->\n<g id=\"edge30\" class=\"edge\">\n<title>2&#45;&gt;8</title>\n<path fill=\"none\" stroke=\"black\" d=\"M1455.73,-459.6C1430.97,-444.87 1389.63,-420.81 1353,-402 1302.06,-375.83 1290.26,-366.32 1236,-348 1201.06,-336.21 1185.73,-350.39 1155,-330 1123.66,-309.2 1134.05,-286.06 1106,-261 1081.56,-239.16 1048.9,-221.52 1023.37,-209.68\"/>\n<polygon fill=\"black\" stroke=\"black\" points=\"1024.53,-206.36 1013.97,-205.43 1021.64,-212.74 1024.53,-206.36\"/>\n<text text-anchor=\"middle\" x=\"1201\" y=\"-318.8\" font-family=\"Times New Roman,serif\" font-size=\"14.00\">rdfs:subClassOf</text>\n</g>\n<!-- 9 -->\n<g id=\"node10\" class=\"node\">\n<title>9</title>\n<ellipse fill=\"none\" stroke=\"black\" cx=\"1071\" cy=\"-366\" rx=\"46.29\" ry=\"18\"/>\n<text text-anchor=\"middle\" x=\"1071\" y=\"-362.3\" font-family=\"Times New Roman,serif\" font-size=\"14.00\">ex:Canine</text>\n</g>\n<!-- 2&#45;&gt;9 -->\n<g id=\"edge54\" class=\"edge\">\n<title>2&#45;&gt;9</title>\n<path fill=\"none\" stroke=\"black\" d=\"M1441.81,-470.73C1388,-466.76 1290.11,-457.11 1261,-438 1245.13,-427.58 1253.62,-412.79 1238,-402 1205.75,-379.73 1162.23,-371.13 1127.7,-368.02\"/>\n<polygon fill=\"black\" stroke=\"black\" points=\"1127.53,-364.49 1117.29,-367.22 1126.99,-371.47 1127.53,-364.49\"/>\n<text text-anchor=\"middle\" x=\"1307\" y=\"-416.3\" font-family=\"Times New Roman,serif\" font-size=\"14.00\">rdfs:subClassOf</text>\n</g>\n<!-- 2&#45;&gt;10 -->\n<g id=\"edge21\" class=\"edge\">\n<title>2&#45;&gt;10</title>\n<path fill=\"none\" stroke=\"black\" d=\"M1506.67,-462.75C1538.78,-449.69 1589.77,-423.9 1616,-384 1632.99,-358.16 1642.53,-340.48 1625,-315 1612.32,-296.57 1590.68,-315.43 1578,-297 1568.93,-283.82 1568.72,-274.03 1578,-261 1592.19,-241.08 1615.74,-262.87 1630,-243 1653.07,-210.85 1646.58,-162.62 1639.2,-132.79\"/>\n<polygon fill=\"black\" stroke=\"black\" points=\"1642.56,-131.82 1636.6,-123.07 1635.8,-133.63 1642.56,-131.82\"/>\n<text text-anchor=\"middle\" x=\"1600\" y=\"-275.3\" font-family=\"Times New Roman,serif\" font-size=\"14.00\">rdf:type</text>\n</g>\n<!-- 2&#45;&gt;10 -->\n<g id=\"edge56\" class=\"edge\">\n<title>2&#45;&gt;10</title>\n<path fill=\"none\" stroke=\"black\" d=\"M1512.48,-468.01C1536.82,-463.26 1569.35,-454.31 1594,-438 1620.05,-420.76 1627.03,-412.86 1639,-384 1649.37,-359.01 1663.01,-166.85 1655,-141 1653.97,-137.66 1652.49,-134.36 1650.77,-131.19\"/>\n<polygon fill=\"black\" stroke=\"black\" points=\"1653.74,-129.33 1645.46,-122.72 1647.81,-133.05 1653.74,-129.33\"/>\n<text text-anchor=\"middle\" x=\"1700\" y=\"-275.3\" font-family=\"Times New Roman,serif\" font-size=\"14.00\">rdfs:subClassOf</text>\n</g>\n<!-- 2&#45;&gt;18 -->\n<g id=\"edge17\" class=\"edge\">\n<title>2&#45;&gt;18</title>\n<path fill=\"none\" stroke=\"black\" d=\"M1514.42,-472.45C1707.57,-469.3 2631.72,-451.22 3384,-384 3576.4,-366.81 3806,-473.17 3806,-280 3806,-280 3806,-280 3806,-104 3806,-74.84 3917.8,-83.42 3310,-54 2674.64,-23.25 1902.74,-19.49 1688.51,-19.05\"/>\n<polygon fill=\"black\" stroke=\"black\" points=\"1688.45,-15.55 1678.44,-19.03 1688.43,-22.55 1688.45,-15.55\"/>\n<text text-anchor=\"middle\" x=\"3828\" y=\"-231.8\" font-family=\"Times New Roman,serif\" font-size=\"14.00\">rdf:type</text>\n</g>\n<!-- 3 -->\n<g id=\"node4\" class=\"node\">\n<title>3</title>\n<ellipse fill=\"none\" stroke=\"black\" cx=\"2776\" cy=\"-279\" rx=\"53.89\" ry=\"18\"/>\n<text text-anchor=\"middle\" x=\"2776\" y=\"-275.3\" font-family=\"Times New Roman,serif\" font-size=\"14.00\">rdfs:domain</text>\n</g>\n<!-- 3&#45;&gt;3 -->\n<g id=\"edge32\" class=\"edge\">\n<title>3&#45;&gt;3</title>\n<path fill=\"none\" stroke=\"black\" d=\"M2824.76,-286.82C2837.93,-286.4 2847.95,-283.8 2847.95,-279 2847.95,-275.55 2842.77,-273.23 2834.97,-272.05\"/>\n<polygon fill=\"black\" stroke=\"black\" points=\"2835.02,-268.54 2824.76,-271.18 2834.43,-275.52 2835.02,-268.54\"/>\n<text text-anchor=\"middle\" x=\"2902.95\" y=\"-275.3\" font-family=\"Times New Roman,serif\" font-size=\"14.00\">rdfs:subPropertyOf</text>\n</g>\n<!-- 3&#45;&gt;10 -->\n<g id=\"edge99\" class=\"edge\">\n<title>3&#45;&gt;10</title>\n<path fill=\"none\" stroke=\"black\" d=\"M2735.72,-266.94C2728.18,-264.92 2720.36,-262.87 2713,-261 2551.37,-219.94 2512.32,-202.45 2348,-174 2214.96,-150.97 2180.39,-154.01 2046,-141 1924.23,-129.21 1782.15,-117.72 1699.79,-111.28\"/>\n<polygon fill=\"black\" stroke=\"black\" points=\"1700.04,-107.79 1689.8,-110.5 1699.5,-114.77 1700.04,-107.79\"/>\n<text text-anchor=\"middle\" x=\"2540\" y=\"-188.3\" font-family=\"Times New Roman,serif\" font-size=\"14.00\">rdf:type</text>\n</g>\n<!-- 3&#45;&gt;11 -->\n<g id=\"edge60\" class=\"edge\">\n<title>3&#45;&gt;11</title>\n<path fill=\"none\" stroke=\"black\" d=\"M2732.03,-268.54C2718.47,-263.34 2705.02,-255.32 2697,-243 2691.04,-233.85 2695.56,-224.04 2703.15,-215.56\"/>\n<polygon fill=\"black\" stroke=\"black\" points=\"2705.69,-217.98 2710.42,-208.5 2700.81,-212.96 2705.69,-217.98\"/>\n<text text-anchor=\"middle\" x=\"2730.5\" y=\"-231.8\" font-family=\"Times New Roman,serif\" font-size=\"14.00\">rdfs:domain</text>\n</g>\n<!-- 3&#45;&gt;11 -->\n<g id=\"edge66\" class=\"edge\">\n<title>3&#45;&gt;11</title>\n<path fill=\"none\" stroke=\"black\" d=\"M2773.96,-260.6C2772.28,-250.63 2769.28,-238.13 2764,-228 2762.02,-224.19 2759.53,-220.47 2756.83,-216.95\"/>\n<polygon fill=\"black\" stroke=\"black\" points=\"2759.41,-214.58 2750.3,-209.18 2754.06,-219.08 2759.41,-214.58\"/>\n<text text-anchor=\"middle\" x=\"2791\" y=\"-231.8\" font-family=\"Times New Roman,serif\" font-size=\"14.00\">rdf:type</text>\n</g>\n<!-- 3&#45;&gt;18 -->\n<g id=\"edge12\" class=\"edge\">\n<title>3&#45;&gt;18</title>\n<path fill=\"none\" stroke=\"black\" d=\"M2828.74,-274.81C2893.67,-270.32 3007.12,-260.64 3103,-243 3128.76,-238.26 3134.22,-232.67 3160,-228 3241.35,-213.28 3392.09,-236.52 3338,-174 3227.67,-46.45 1974.14,-23.25 1688.63,-19.61\"/>\n<polygon fill=\"black\" stroke=\"black\" points=\"1688.54,-16.11 1678.5,-19.49 1688.45,-23.11 1688.54,-16.11\"/>\n<text text-anchor=\"middle\" x=\"3339\" y=\"-144.8\" font-family=\"Times New Roman,serif\" font-size=\"14.00\">rdfs:range</text>\n</g>\n<!-- 4 -->\n<g id=\"node5\" class=\"node\">\n<title>4</title>\n<ellipse fill=\"none\" stroke=\"black\" cx=\"1455\" cy=\"-366\" rx=\"42.49\" ry=\"18\"/>\n<text text-anchor=\"middle\" x=\"1455\" y=\"-362.3\" font-family=\"Times New Roman,serif\" font-size=\"14.00\">ex:Feline</text>\n</g>\n<!-- 4&#45;&gt;4 -->\n<g id=\"edge72\" class=\"edge\">\n<title>4&#45;&gt;4</title>\n<path fill=\"none\" stroke=\"black\" d=\"M1493.24,-373.87C1505.52,-373.79 1515.25,-371.17 1515.25,-366 1515.25,-362.37 1510.44,-359.99 1503.31,-358.87\"/>\n<polygon fill=\"black\" stroke=\"black\" points=\"1503.47,-355.37 1493.24,-358.13 1502.96,-362.35 1503.47,-355.37\"/>\n<text text-anchor=\"middle\" x=\"1561.25\" y=\"-362.3\" font-family=\"Times New Roman,serif\" font-size=\"14.00\">rdfs:subClassOf</text>\n</g>\n<!-- 4&#45;&gt;7 -->\n<g id=\"edge14\" class=\"edge\">\n<title>4&#45;&gt;7</title>\n<path fill=\"none\" stroke=\"black\" d=\"M1419.74,-355.85C1398.68,-349.78 1371.7,-340.92 1349,-330 1338,-324.71 1337.6,-318.78 1326,-315 1252.37,-291.02 1055.32,-301.27 978,-297 898.9,-292.64 807.7,-287.23 749.02,-283.7\"/>\n<polygon fill=\"black\" stroke=\"black\" points=\"749,-280.19 738.81,-283.08 748.58,-287.18 749,-280.19\"/>\n<text text-anchor=\"middle\" x=\"1395\" y=\"-318.8\" font-family=\"Times New Roman,serif\" font-size=\"14.00\">rdfs:subClassOf</text>\n</g>\n<!-- 4&#45;&gt;8 -->\n<g id=\"edge81\" class=\"edge\">\n<title>4&#45;&gt;8</title>\n<path fill=\"none\" stroke=\"black\" d=\"M1454.34,-347.55C1453.02,-336.8 1449.59,-323.5 1441,-315 1419.08,-293.31 1399.14,-314.86 1374,-297 1343.75,-275.51 1358.88,-246.99 1327,-228 1279.84,-199.92 1124.52,-194.09 1039.63,-193.06\"/>\n<polygon fill=\"black\" stroke=\"black\" points=\"1039.42,-189.56 1029.39,-192.96 1039.35,-196.56 1039.42,-189.56\"/>\n<text text-anchor=\"middle\" x=\"1420\" y=\"-275.3\" font-family=\"Times New Roman,serif\" font-size=\"14.00\">rdfs:subClassOf</text>\n</g>\n<!-- 4&#45;&gt;10 -->\n<g id=\"edge63\" class=\"edge\">\n<title>4&#45;&gt;10</title>\n<path fill=\"none\" stroke=\"black\" d=\"M1496.01,-361.17C1535.92,-356.49 1592.48,-347.01 1606,-330 1635.18,-293.28 1579.58,-328.06 1542,-297 1516.62,-276.02 1502.78,-258.58 1515,-228 1531.9,-185.69 1571.23,-149.68 1599.4,-127.97\"/>\n<polygon fill=\"black\" stroke=\"black\" points=\"1601.86,-130.51 1607.75,-121.71 1597.65,-124.91 1601.86,-130.51\"/>\n<text text-anchor=\"middle\" x=\"1537\" y=\"-231.8\" font-family=\"Times New Roman,serif\" font-size=\"14.00\">rdf:type</text>\n</g>\n<!-- 4&#45;&gt;10 -->\n<g id=\"edge105\" class=\"edge\">\n<title>4&#45;&gt;10</title>\n<path fill=\"none\" stroke=\"black\" d=\"M1463.12,-348.14C1472.47,-326.01 1484.35,-286.94 1466,-261 1452.12,-241.38 1428.88,-262.62 1415,-243 1411.15,-237.56 1411.68,-233.78 1415,-228 1448.84,-169.05 1523.06,-136.42 1575,-120.06\"/>\n<polygon fill=\"black\" stroke=\"black\" points=\"1576.2,-123.35 1584.75,-117.09 1574.16,-116.65 1576.2,-123.35\"/>\n<text text-anchor=\"middle\" x=\"1461\" y=\"-231.8\" font-family=\"Times New Roman,serif\" font-size=\"14.00\">rdfs:subClassOf</text>\n</g>\n<!-- 4&#45;&gt;18 -->\n<g id=\"edge58\" class=\"edge\">\n<title>4&#45;&gt;18</title>\n<path fill=\"none\" stroke=\"black\" d=\"M1491.37,-356.79C1546.07,-344.89 1652.9,-323.35 1745,-315 1794.02,-310.55 3471.13,-314.87 3517,-297 3550.43,-283.98 3562.4,-275.77 3577,-243 3650.36,-78.28 3335.41,-97.36 3270,-87 2955.8,-37.22 1941.8,-22.54 1688.67,-19.61\"/>\n<polygon fill=\"black\" stroke=\"black\" points=\"1688.63,-16.1 1678.59,-19.49 1688.55,-23.1 1688.63,-16.1\"/>\n<text text-anchor=\"middle\" x=\"3609\" y=\"-188.3\" font-family=\"Times New Roman,serif\" font-size=\"14.00\">rdf:type</text>\n</g>\n<!-- 5 -->\n<g id=\"node6\" class=\"node\">\n<title>5</title>\n<ellipse fill=\"none\" stroke=\"black\" cx=\"2494\" cy=\"-279\" rx=\"81.79\" ry=\"18\"/>\n<text text-anchor=\"middle\" x=\"2494\" y=\"-275.3\" font-family=\"Times New Roman,serif\" font-size=\"14.00\">rdfs:subPropertyOf</text>\n</g>\n<!-- 5&#45;&gt;5 -->\n<g id=\"edge28\" class=\"edge\">\n<title>5&#45;&gt;5</title>\n<path fill=\"none\" stroke=\"black\" d=\"M2568.49,-286.55C2583.32,-285.7 2593.89,-283.18 2593.89,-279 2593.89,-275.86 2587.95,-273.66 2578.72,-272.4\"/>\n<polygon fill=\"black\" stroke=\"black\" points=\"2578.78,-268.89 2568.49,-271.45 2578.13,-275.86 2578.78,-268.89\"/>\n<text text-anchor=\"middle\" x=\"2648.89\" y=\"-275.3\" font-family=\"Times New Roman,serif\" font-size=\"14.00\">rdfs:subPropertyOf</text>\n</g>\n<!-- 5&#45;&gt;10 -->\n<g id=\"edge68\" class=\"edge\">\n<title>5&#45;&gt;10</title>\n<path fill=\"none\" stroke=\"black\" d=\"M2455.37,-262.96C2395.42,-240.23 2275.96,-197.29 2171,-174 2004.51,-137.05 1804.36,-118.4 1700.77,-110.61\"/>\n<polygon fill=\"black\" stroke=\"black\" points=\"1700.98,-107.12 1690.75,-109.87 1700.46,-114.1 1700.98,-107.12\"/>\n<text text-anchor=\"middle\" x=\"2322\" y=\"-188.3\" font-family=\"Times New Roman,serif\" font-size=\"14.00\">rdf:type</text>\n</g>\n<!-- 5&#45;&gt;11 -->\n<g id=\"edge29\" class=\"edge\">\n<title>5&#45;&gt;11</title>\n<path fill=\"none\" stroke=\"black\" d=\"M2535.09,-263.39C2577.52,-248.3 2643.58,-224.8 2687.55,-209.16\"/>\n<polygon fill=\"black\" stroke=\"black\" points=\"2688.88,-212.41 2697.13,-205.76 2686.53,-205.81 2688.88,-212.41\"/>\n<text text-anchor=\"middle\" x=\"2649\" y=\"-231.8\" font-family=\"Times New Roman,serif\" font-size=\"14.00\">rdf:type</text>\n</g>\n<!-- 6 -->\n<g id=\"node7\" class=\"node\">\n<title>6</title>\n<ellipse fill=\"none\" stroke=\"black\" cx=\"3096\" cy=\"-279\" rx=\"44.39\" ry=\"18\"/>\n<text text-anchor=\"middle\" x=\"3096\" y=\"-275.3\" font-family=\"Times New Roman,serif\" font-size=\"14.00\">rdfs:label</text>\n</g>\n<!-- 6&#45;&gt;6 -->\n<g id=\"edge37\" class=\"edge\">\n<title>6&#45;&gt;6</title>\n<path fill=\"none\" stroke=\"black\" d=\"M3135.78,-286.87C3148.31,-286.75 3158.2,-284.13 3158.2,-279 3158.2,-275.4 3153.31,-273.03 3146.05,-271.9\"/>\n<polygon fill=\"black\" stroke=\"black\" points=\"3146.01,-268.39 3135.78,-271.13 3145.49,-275.37 3146.01,-268.39\"/>\n<text text-anchor=\"middle\" x=\"3213.2\" y=\"-275.3\" font-family=\"Times New Roman,serif\" font-size=\"14.00\">rdfs:subPropertyOf</text>\n</g>\n<!-- 6&#45;&gt;10 -->\n<g id=\"edge47\" class=\"edge\">\n<title>6&#45;&gt;10</title>\n<path fill=\"none\" stroke=\"black\" d=\"M3103.62,-261.11C3107.12,-250.59 3109.09,-237.32 3102,-228 2999.72,-93.55 2899.93,-159.39 2732,-141 2531.51,-119.04 1914,-109.51 1702.75,-106.83\"/>\n<polygon fill=\"black\" stroke=\"black\" points=\"1702.74,-103.33 1692.7,-106.71 1702.65,-110.33 1702.74,-103.33\"/>\n<text text-anchor=\"middle\" x=\"3106\" y=\"-188.3\" font-family=\"Times New Roman,serif\" font-size=\"14.00\">rdf:type</text>\n</g>\n<!-- 6&#45;&gt;11 -->\n<g id=\"edge18\" class=\"edge\">\n<title>6&#45;&gt;11</title>\n<path fill=\"none\" stroke=\"black\" d=\"M3079.01,-262.22C3064.55,-249.15 3044.64,-232.09 3035,-228 2993.58,-210.44 2873.39,-200.74 2797.72,-196.23\"/>\n<polygon fill=\"black\" stroke=\"black\" points=\"2797.54,-192.71 2787.35,-195.63 2797.13,-199.7 2797.54,-192.71\"/>\n<text text-anchor=\"middle\" x=\"3077\" y=\"-231.8\" font-family=\"Times New Roman,serif\" font-size=\"14.00\">rdf:type</text>\n</g>\n<!-- 7&#45;&gt;7 -->\n<g id=\"edge38\" class=\"edge\">\n<title>7&#45;&gt;7</title>\n<path fill=\"none\" stroke=\"black\" d=\"M735.11,-286.83C748.08,-286.45 758,-283.84 758,-279 758,-275.52 752.87,-273.2 745.18,-272.02\"/>\n<polygon fill=\"black\" stroke=\"black\" points=\"745.37,-268.53 735.11,-271.17 744.78,-275.5 745.37,-268.53\"/>\n<text text-anchor=\"middle\" x=\"804\" y=\"-275.3\" font-family=\"Times New Roman,serif\" font-size=\"14.00\">rdfs:subClassOf</text>\n</g>\n<!-- 7&#45;&gt;8 -->\n<g id=\"edge4\" class=\"edge\">\n<title>7&#45;&gt;8</title>\n<path fill=\"none\" stroke=\"black\" d=\"M716.25,-263.73C728.05,-257.59 741.82,-250.18 754,-243 764.51,-236.8 765.64,-232.45 777,-228 825.68,-208.94 884.84,-200.25 927.25,-196.29\"/>\n<polygon fill=\"black\" stroke=\"black\" points=\"927.72,-199.76 937.38,-195.41 927.11,-192.79 927.72,-199.76\"/>\n<text text-anchor=\"middle\" x=\"823\" y=\"-231.8\" font-family=\"Times New Roman,serif\" font-size=\"14.00\">rdfs:subClassOf</text>\n</g>\n<!-- 7&#45;&gt;10 -->\n<g id=\"edge25\" class=\"edge\">\n<title>7&#45;&gt;10</title>\n<path fill=\"none\" stroke=\"black\" d=\"M668.94,-262.02C646.03,-240.86 613.14,-202.85 634,-174 661.42,-136.07 687.94,-149.33 734,-141 754.23,-137.34 1350.82,-115.93 1559.65,-108.52\"/>\n<polygon fill=\"black\" stroke=\"black\" points=\"1560.02,-112.01 1569.89,-108.16 1559.78,-105.01 1560.02,-112.01\"/>\n<text text-anchor=\"middle\" x=\"680\" y=\"-188.3\" font-family=\"Times New Roman,serif\" font-size=\"14.00\">rdfs:subClassOf</text>\n</g>\n<!-- 7&#45;&gt;10 -->\n<g id=\"edge96\" class=\"edge\">\n<title>7&#45;&gt;10</title>\n<path fill=\"none\" stroke=\"black\" d=\"M707.43,-262.1C720.84,-251.59 739.36,-237.97 757,-228 810.39,-197.81 826.81,-196.17 884,-174 925.28,-158 934.57,-149.6 978,-141 1087.44,-119.32 1413.7,-110.3 1559.38,-107.28\"/>\n<polygon fill=\"black\" stroke=\"black\" points=\"1559.62,-110.77 1569.55,-107.07 1559.48,-103.78 1559.62,-110.77\"/>\n<text text-anchor=\"middle\" x=\"906\" y=\"-188.3\" font-family=\"Times New Roman,serif\" font-size=\"14.00\">rdf:type</text>\n</g>\n<!-- 7&#45;&gt;18 -->\n<g id=\"edge92\" class=\"edge\">\n<title>7&#45;&gt;18</title>\n<path fill=\"none\" stroke=\"black\" d=\"M648.32,-267.33C639.67,-265.13 630.55,-262.9 622,-261 562.19,-247.68 390.12,-257.17 351,-210 340.79,-197.68 340.57,-186.14 351,-174 431.99,-79.74 1335.68,-32.38 1573.78,-21.48\"/>\n<polygon fill=\"black\" stroke=\"black\" points=\"1574.13,-24.97 1583.96,-21.02 1573.81,-17.97 1574.13,-24.97\"/>\n<text text-anchor=\"middle\" x=\"439\" y=\"-144.8\" font-family=\"Times New Roman,serif\" font-size=\"14.00\">rdf:type</text>\n</g>\n<!-- 8&#45;&gt;8 -->\n<g id=\"edge76\" class=\"edge\">\n<title>8&#45;&gt;8</title>\n<path fill=\"none\" stroke=\"black\" d=\"M1024.64,-199.86C1037.27,-199.67 1047.15,-197.04 1047.15,-192 1047.15,-188.45 1042.27,-186.1 1034.98,-184.95\"/>\n<polygon fill=\"black\" stroke=\"black\" points=\"1034.89,-181.44 1024.64,-184.14 1034.34,-188.41 1034.89,-181.44\"/>\n<text text-anchor=\"middle\" x=\"1093.15\" y=\"-188.3\" font-family=\"Times New Roman,serif\" font-size=\"14.00\">rdfs:subClassOf</text>\n</g>\n<!-- 8&#45;&gt;10 -->\n<g id=\"edge41\" class=\"edge\">\n<title>8&#45;&gt;10</title>\n<path fill=\"none\" stroke=\"black\" d=\"M980,-173.7C979.17,-162.73 980.32,-149.13 989,-141 1009.52,-121.77 1395.76,-111.12 1559.07,-107.47\"/>\n<polygon fill=\"black\" stroke=\"black\" points=\"1559.58,-110.96 1569.5,-107.23 1559.42,-103.96 1559.58,-110.96\"/>\n<text text-anchor=\"middle\" x=\"1035\" y=\"-144.8\" font-family=\"Times New Roman,serif\" font-size=\"14.00\">rdfs:subClassOf</text>\n</g>\n<!-- 8&#45;&gt;10 -->\n<g id=\"edge61\" class=\"edge\">\n<title>8&#45;&gt;10</title>\n<path fill=\"none\" stroke=\"black\" d=\"M1017.96,-179.92C1036.89,-173.58 1060.52,-165.08 1081,-156 1093.91,-150.28 1095.43,-144.89 1109,-141 1191.48,-117.34 1436.55,-109.54 1559.28,-107.08\"/>\n<polygon fill=\"black\" stroke=\"black\" points=\"1559.41,-110.57 1569.34,-106.88 1559.27,-103.58 1559.41,-110.57\"/>\n<text text-anchor=\"middle\" x=\"1131\" y=\"-144.8\" font-family=\"Times New Roman,serif\" font-size=\"14.00\">rdf:type</text>\n</g>\n<!-- 8&#45;&gt;18 -->\n<g id=\"edge2\" class=\"edge\">\n<title>8&#45;&gt;18</title>\n<path fill=\"none\" stroke=\"black\" d=\"M975.59,-173.88C972.25,-163.27 970.53,-149.99 978,-141 1053.73,-49.81 1428.89,-26.4 1573.77,-20.72\"/>\n<polygon fill=\"black\" stroke=\"black\" points=\"1573.94,-24.22 1583.8,-20.34 1573.67,-17.22 1573.94,-24.22\"/>\n<text text-anchor=\"middle\" x=\"1097\" y=\"-101.3\" font-family=\"Times New Roman,serif\" font-size=\"14.00\">rdf:type</text>\n</g>\n<!-- 9&#45;&gt;7 -->\n<g id=\"edge83\" class=\"edge\">\n<title>9&#45;&gt;7</title>\n<path fill=\"none\" stroke=\"black\" d=\"M1035.65,-354.2C1027.59,-351.96 1019.04,-349.75 1011,-348 959.59,-336.81 945.61,-340.21 894,-330 840.14,-319.34 779.09,-304.12 737.52,-293.28\"/>\n<polygon fill=\"black\" stroke=\"black\" points=\"738.21,-289.84 727.65,-290.69 736.44,-296.61 738.21,-289.84\"/>\n<text text-anchor=\"middle\" x=\"940\" y=\"-318.8\" font-family=\"Times New Roman,serif\" font-size=\"14.00\">rdfs:subClassOf</text>\n</g>\n<!-- 9&#45;&gt;8 -->\n<g id=\"edge36\" class=\"edge\">\n<title>9&#45;&gt;8</title>\n<path fill=\"none\" stroke=\"black\" d=\"M1054.38,-349.09C1041.7,-336.14 1024.66,-316.81 1014,-297 1000.8,-272.48 992.51,-241.6 987.86,-219.88\"/>\n<polygon fill=\"black\" stroke=\"black\" points=\"991.28,-219.13 985.86,-210.03 984.42,-220.52 991.28,-219.13\"/>\n<text text-anchor=\"middle\" x=\"1060\" y=\"-275.3\" font-family=\"Times New Roman,serif\" font-size=\"14.00\">rdfs:subClassOf</text>\n</g>\n<!-- 9&#45;&gt;9 -->\n<g id=\"edge67\" class=\"edge\">\n<title>9&#45;&gt;9</title>\n<path fill=\"none\" stroke=\"black\" d=\"M1112.64,-373.86C1125.27,-373.67 1135.15,-371.04 1135.15,-366 1135.15,-362.45 1130.27,-360.1 1122.98,-358.95\"/>\n<polygon fill=\"black\" stroke=\"black\" points=\"1122.89,-355.44 1112.64,-358.14 1122.34,-362.41 1122.89,-355.44\"/>\n<text text-anchor=\"middle\" x=\"1181.15\" y=\"-362.3\" font-family=\"Times New Roman,serif\" font-size=\"14.00\">rdfs:subClassOf</text>\n</g>\n<!-- 9&#45;&gt;10 -->\n<g id=\"edge26\" class=\"edge\">\n<title>9&#45;&gt;10</title>\n<path fill=\"none\" stroke=\"black\" d=\"M1072.96,-347.57C1074.78,-337.35 1078.29,-324.61 1085,-315 1092.84,-303.78 1100.37,-306.73 1110,-297 1169.69,-236.72 1146.41,-183.21 1220,-141 1248.73,-124.52 1450.52,-113.58 1560.28,-108.78\"/>\n<polygon fill=\"black\" stroke=\"black\" points=\"1560.44,-112.28 1570.28,-108.35 1560.14,-105.29 1560.44,-112.28\"/>\n<text text-anchor=\"middle\" x=\"1176\" y=\"-231.8\" font-family=\"Times New Roman,serif\" font-size=\"14.00\">rdf:type</text>\n</g>\n<!-- 9&#45;&gt;10 -->\n<g id=\"edge70\" class=\"edge\">\n<title>9&#45;&gt;10</title>\n<path fill=\"none\" stroke=\"black\" d=\"M1082.03,-348.07C1089.23,-337.78 1099.27,-324.8 1110,-315 1120.93,-305.03 1125.8,-305.36 1138,-297 1235.1,-230.48 1242.58,-184.37 1352,-141 1388.88,-126.38 1491.36,-116.22 1561.3,-110.75\"/>\n<polygon fill=\"black\" stroke=\"black\" points=\"1561.67,-114.23 1571.37,-109.97 1561.13,-107.25 1561.67,-114.23\"/>\n<text text-anchor=\"middle\" x=\"1268\" y=\"-231.8\" font-family=\"Times New Roman,serif\" font-size=\"14.00\">rdfs:subClassOf</text>\n</g>\n<!-- 9&#45;&gt;18 -->\n<g id=\"edge23\" class=\"edge\">\n<title>9&#45;&gt;18</title>\n<path fill=\"none\" stroke=\"black\" d=\"M1038.66,-352.98C1032.53,-351.05 1026.12,-349.28 1020,-348 933.51,-329.91 909.38,-343.16 822,-330 790.11,-325.2 782.97,-319.23 751,-315 678.85,-305.45 492.94,-320.31 424,-297 349.26,-271.73 253.31,-240.35 296,-174 346.47,-95.55 396.75,-110.58 487,-87 695.72,-32.46 1371.72,-21.53 1573.57,-19.46\"/>\n<polygon fill=\"black\" stroke=\"black\" points=\"1573.7,-22.96 1583.67,-19.36 1573.63,-15.96 1573.7,-22.96\"/>\n<text text-anchor=\"middle\" x=\"318\" y=\"-188.3\" font-family=\"Times New Roman,serif\" font-size=\"14.00\">rdf:type</text>\n</g>\n<!-- 10&#45;&gt;10 -->\n<g id=\"edge44\" class=\"edge\">\n<title>10&#45;&gt;10</title>\n<path fill=\"none\" stroke=\"black\" d=\"M1691.5,-108.74C1702.79,-108.28 1710.74,-107.03 1710.74,-105 1710.74,-103.67 1707.32,-102.67 1701.78,-102.02\"/>\n<polygon fill=\"black\" stroke=\"black\" points=\"1701.73,-98.5 1691.5,-101.26 1701.22,-105.49 1701.73,-98.5\"/>\n<text text-anchor=\"middle\" x=\"1732.74\" y=\"-101.3\" font-family=\"Times New Roman,serif\" font-size=\"14.00\">rdf:type</text>\n</g>\n<!-- 10&#45;&gt;10 -->\n<g id=\"edge88\" class=\"edge\">\n<title>10&#45;&gt;10</title>\n<path fill=\"none\" stroke=\"black\" d=\"M1687.4,-112.51C1721.11,-113.88 1754.74,-111.38 1754.74,-105 1754.74,-99.27 1727.59,-96.67 1697.63,-97.19\"/>\n<polygon fill=\"black\" stroke=\"black\" points=\"1697.29,-93.7 1687.4,-97.49 1697.5,-100.7 1697.29,-93.7\"/>\n<text text-anchor=\"middle\" x=\"1800.74\" y=\"-101.3\" font-family=\"Times New Roman,serif\" font-size=\"14.00\">rdfs:subClassOf</text>\n</g>\n<!-- 10&#45;&gt;18 -->\n<g id=\"edge35\" class=\"edge\">\n<title>10&#45;&gt;18</title>\n<path fill=\"none\" stroke=\"black\" d=\"M1658.76,-88.67C1665.66,-83.4 1672.17,-76.82 1676,-69 1681.34,-58.07 1674.89,-47.76 1665.35,-39.37\"/>\n<polygon fill=\"black\" stroke=\"black\" points=\"1667.27,-36.43 1657.21,-33.08 1662.99,-41.96 1667.27,-36.43\"/>\n<text text-anchor=\"middle\" x=\"1700\" y=\"-57.8\" font-family=\"Times New Roman,serif\" font-size=\"14.00\">rdf:type</text>\n</g>\n<!-- 11&#45;&gt;10 -->\n<g id=\"edge78\" class=\"edge\">\n<title>11&#45;&gt;10</title>\n<path fill=\"none\" stroke=\"black\" d=\"M2693.91,-179.2C2675.88,-173.17 2654.43,-165.18 2636,-156 2625.08,-150.56 2624.63,-144.69 2613,-141 2527.14,-113.8 1914.77,-107.66 1702.91,-106.34\"/>\n<polygon fill=\"black\" stroke=\"black\" points=\"1702.84,-102.84 1692.82,-106.28 1702.8,-109.84 1702.84,-102.84\"/>\n<text text-anchor=\"middle\" x=\"2682\" y=\"-144.8\" font-family=\"Times New Roman,serif\" font-size=\"14.00\">rdfs:subClassOf</text>\n</g>\n<!-- 11&#45;&gt;10 -->\n<g id=\"edge95\" class=\"edge\">\n<title>11&#45;&gt;10</title>\n<path fill=\"none\" stroke=\"black\" d=\"M2680.31,-186.34C2646.17,-181.82 2601.44,-173.02 2565,-156 2555.25,-151.45 2556.09,-144.72 2546,-141 2467.89,-112.2 1904.93,-107.1 1702.92,-106.19\"/>\n<polygon fill=\"black\" stroke=\"black\" points=\"1702.73,-102.69 1692.71,-106.15 1702.7,-109.69 1702.73,-102.69\"/>\n<text text-anchor=\"middle\" x=\"2587\" y=\"-144.8\" font-family=\"Times New Roman,serif\" font-size=\"14.00\">rdf:type</text>\n</g>\n<!-- 11&#45;&gt;11 -->\n<g id=\"edge98\" class=\"edge\">\n<title>11&#45;&gt;11</title>\n<path fill=\"none\" stroke=\"black\" d=\"M2782.98,-199.81C2796.22,-199.36 2806.25,-196.76 2806.25,-192 2806.25,-188.54 2800.95,-186.22 2792.98,-185.04\"/>\n<polygon fill=\"black\" stroke=\"black\" points=\"2793.24,-181.55 2782.98,-184.19 2792.65,-188.53 2793.24,-181.55\"/>\n<text text-anchor=\"middle\" x=\"2852.25\" y=\"-188.3\" font-family=\"Times New Roman,serif\" font-size=\"14.00\">rdfs:subClassOf</text>\n</g>\n<!-- 11&#45;&gt;18 -->\n<g id=\"edge91\" class=\"edge\">\n<title>11&#45;&gt;18</title>\n<path fill=\"none\" stroke=\"black\" d=\"M2736.23,-173.9C2737.23,-163.02 2736.34,-149.44 2728,-141 2654.17,-66.35 1902.76,-30.1 1688.03,-21.21\"/>\n<polygon fill=\"black\" stroke=\"black\" points=\"1688.05,-17.71 1677.91,-20.8 1687.76,-24.71 1688.05,-17.71\"/>\n<text text-anchor=\"middle\" x=\"2714\" y=\"-101.3\" font-family=\"Times New Roman,serif\" font-size=\"14.00\">rdf:type</text>\n</g>\n<!-- 12 -->\n<g id=\"node13\" class=\"node\">\n<title>12</title>\n<ellipse fill=\"none\" stroke=\"black\" cx=\"98\" cy=\"-279\" rx=\"70.39\" ry=\"18\"/>\n<text text-anchor=\"middle\" x=\"98\" y=\"-275.3\" font-family=\"Times New Roman,serif\" font-size=\"14.00\">rdfs:subClassOf</text>\n</g>\n<!-- 12&#45;&gt;10 -->\n<g id=\"edge69\" class=\"edge\">\n<title>12&#45;&gt;10</title>\n<path fill=\"none\" stroke=\"black\" d=\"M145.9,-265.64C190.09,-253.59 257.12,-233.65 313,-210 372.52,-184.81 378.55,-157.64 441,-141 514.25,-121.48 1047.23,-125.27 1123,-123 1278.9,-118.33 1461.67,-112.01 1559.9,-108.54\"/>\n<polygon fill=\"black\" stroke=\"black\" points=\"1560.14,-112.03 1570.01,-108.18 1559.89,-105.04 1560.14,-112.03\"/>\n<text text-anchor=\"middle\" x=\"395\" y=\"-188.3\" font-family=\"Times New Roman,serif\" font-size=\"14.00\">rdf:type</text>\n</g>\n<!-- 12&#45;&gt;11 -->\n<g id=\"edge31\" class=\"edge\">\n<title>12&#45;&gt;11</title>\n<path fill=\"none\" stroke=\"black\" d=\"M165.4,-273.77C231.3,-269.8 334.51,-264.04 424,-261 929.99,-243.81 1056.86,-255.19 1563,-243 1789.72,-237.54 2356.81,-226.45 2583,-210 2612.55,-207.85 2645.26,-204.28 2672.57,-200.97\"/>\n<polygon fill=\"black\" stroke=\"black\" points=\"2673.25,-204.41 2682.75,-199.72 2672.4,-197.47 2673.25,-204.41\"/>\n<text text-anchor=\"middle\" x=\"2166\" y=\"-231.8\" font-family=\"Times New Roman,serif\" font-size=\"14.00\">rdf:type</text>\n</g>\n<!-- 12&#45;&gt;12 -->\n<g id=\"edge10\" class=\"edge\">\n<title>12&#45;&gt;12</title>\n<path fill=\"none\" stroke=\"black\" d=\"M161.82,-286.66C175.92,-285.94 186.19,-283.39 186.19,-279 186.19,-275.74 180.54,-273.5 171.85,-272.26\"/>\n<polygon fill=\"black\" stroke=\"black\" points=\"172.1,-268.77 161.82,-271.34 171.46,-275.74 172.1,-268.77\"/>\n<text text-anchor=\"middle\" x=\"241.19\" y=\"-275.3\" font-family=\"Times New Roman,serif\" font-size=\"14.00\">rdfs:subPropertyOf</text>\n</g>\n<!-- 12&#45;&gt;18 -->\n<g id=\"edge45\" class=\"edge\">\n<title>12&#45;&gt;18</title>\n<path fill=\"none\" stroke=\"black\" d=\"M106.77,-261.07C132.2,-212.78 206.91,-76.39 251,-54 310.74,-23.66 1319.36,-19.62 1573.32,-19.08\"/>\n<polygon fill=\"black\" stroke=\"black\" points=\"1573.45,-22.58 1583.44,-19.06 1573.43,-15.58 1573.45,-22.58\"/>\n<text text-anchor=\"middle\" x=\"209.5\" y=\"-144.8\" font-family=\"Times New Roman,serif\" font-size=\"14.00\">rdfs:domain</text>\n</g>\n<!-- 12&#45;&gt;18 -->\n<g id=\"edge85\" class=\"edge\">\n<title>12&#45;&gt;18</title>\n<path fill=\"none\" stroke=\"black\" d=\"M94.84,-260.67C90.78,-233.31 86.57,-179.29 108,-141 140.34,-83.2 166.21,-75.1 229,-54 293.59,-32.3 1317.61,-21.78 1573.43,-19.49\"/>\n<polygon fill=\"black\" stroke=\"black\" points=\"1573.65,-22.99 1583.62,-19.4 1573.59,-15.99 1573.65,-22.99\"/>\n<text text-anchor=\"middle\" x=\"136\" y=\"-144.8\" font-family=\"Times New Roman,serif\" font-size=\"14.00\">rdfs:range</text>\n</g>\n<!-- 13 -->\n<g id=\"node14\" class=\"node\">\n<title>13</title>\n<polygon fill=\"none\" stroke=\"black\" points=\"456,-546 402,-546 402,-510 456,-510 456,-546\"/>\n<text text-anchor=\"middle\" x=\"429\" y=\"-524.3\" font-family=\"Times New Roman,serif\" font-size=\"14.00\">&quot;Max&quot;</text>\n</g>\n<!-- 13&#45;&gt;10 -->\n<g id=\"edge42\" class=\"edge\">\n<title>13&#45;&gt;10</title>\n<path fill=\"none\" stroke=\"black\" d=\"M413.48,-509.95C409.4,-504.57 405.46,-498.35 403,-492 374.53,-418.32 359.71,-389.12 387,-315 401.7,-275.06 527,-175.45 529,-174 553.02,-156.6 558.46,-149.06 587,-141 587,-141 1324.58,-116.27 1559.82,-108.39\"/>\n<polygon fill=\"black\" stroke=\"black\" points=\"1560.1,-111.88 1569.97,-108.05 1559.86,-104.88 1560.1,-111.88\"/>\n<text text-anchor=\"middle\" x=\"409\" y=\"-318.8\" font-family=\"Times New Roman,serif\" font-size=\"14.00\">rdf:type</text>\n</g>\n<!-- 14 -->\n<g id=\"node15\" class=\"node\">\n<title>14</title>\n<ellipse fill=\"none\" stroke=\"black\" cx=\"702\" cy=\"-669\" rx=\"37.09\" ry=\"18\"/>\n<text text-anchor=\"middle\" x=\"702\" y=\"-665.3\" font-family=\"Times New Roman,serif\" font-size=\"14.00\">ex:Max</text>\n</g>\n<!-- 14&#45;&gt;7 -->\n<g id=\"edge103\" class=\"edge\">\n<title>14&#45;&gt;7</title>\n<path fill=\"none\" stroke=\"black\" d=\"M694.26,-650.99C680.7,-620.11 653.21,-552.43 644,-492 633.71,-424.51 660.17,-346.09 676.41,-306.2\"/>\n<polygon fill=\"black\" stroke=\"black\" points=\"679.66,-307.5 680.29,-296.93 673.2,-304.8 679.66,-307.5\"/>\n<text text-anchor=\"middle\" x=\"666\" y=\"-470.3\" font-family=\"Times New Roman,serif\" font-size=\"14.00\">rdf:type</text>\n</g>\n<!-- 14&#45;&gt;8 -->\n<g id=\"edge16\" class=\"edge\">\n<title>14&#45;&gt;8</title>\n<path fill=\"none\" stroke=\"black\" d=\"M701.75,-650.87C701.04,-614.7 698.31,-527.93 688,-456 684.59,-432.18 670.38,-421.84 684,-402 721.73,-347.01 759.92,-366.47 824,-348 864.03,-336.46 882.95,-355.37 916,-330 934.64,-315.7 959.64,-255.38 973.22,-219.72\"/>\n<polygon fill=\"black\" stroke=\"black\" points=\"976.65,-220.54 976.89,-209.95 970.1,-218.08 976.65,-220.54\"/>\n<text text-anchor=\"middle\" x=\"706\" y=\"-416.3\" font-family=\"Times New Roman,serif\" font-size=\"14.00\">rdf:type</text>\n</g>\n<!-- 14&#45;&gt;10 -->\n<g id=\"edge90\" class=\"edge\">\n<title>14&#45;&gt;10</title>\n<path fill=\"none\" stroke=\"black\" d=\"M664.66,-668.41C560.95,-668.54 277,-661.73 277,-583 277,-583 277,-583 277,-419 277,-332.42 465.99,-161.96 550,-141 611.8,-125.58 1059.34,-125.07 1123,-123 1278.88,-117.94 1461.67,-111.77 1559.9,-108.43\"/>\n<polygon fill=\"black\" stroke=\"black\" points=\"1560.13,-111.92 1570.01,-108.08 1559.89,-104.92 1560.13,-111.92\"/>\n<text text-anchor=\"middle\" x=\"325\" y=\"-362.3\" font-family=\"Times New Roman,serif\" font-size=\"14.00\">rdf:type</text>\n</g>\n<!-- 14&#45;&gt;13 -->\n<g id=\"edge55\" class=\"edge\">\n<title>14&#45;&gt;13</title>\n<path fill=\"none\" stroke=\"black\" d=\"M666.9,-663.16C638.16,-658.25 597.01,-649.04 564,-633 521.32,-612.26 479.12,-576.68 453.56,-553\"/>\n<polygon fill=\"black\" stroke=\"black\" points=\"455.86,-550.36 446.18,-546.06 451.07,-555.46 455.86,-550.36\"/>\n<text text-anchor=\"middle\" x=\"590\" y=\"-621.8\" font-family=\"Times New Roman,serif\" font-size=\"14.00\">rdfs:label</text>\n</g>\n<!-- 15 -->\n<g id=\"node16\" class=\"node\">\n<title>15</title>\n<ellipse fill=\"none\" stroke=\"black\" cx=\"940\" cy=\"-582\" rx=\"41.69\" ry=\"18\"/>\n<text text-anchor=\"middle\" x=\"940\" y=\"-578.3\" font-family=\"Times New Roman,serif\" font-size=\"14.00\">ex:Spike</text>\n</g>\n<!-- 14&#45;&gt;15 -->\n<g id=\"edge7\" class=\"edge\">\n<title>14&#45;&gt;15</title>\n<path fill=\"none\" stroke=\"black\" d=\"M735.59,-661.12C763.03,-655.04 802.59,-645.26 836,-633 860.19,-624.12 886.33,-611.54 906.35,-601.22\"/>\n<polygon fill=\"black\" stroke=\"black\" points=\"908.12,-604.24 915.37,-596.51 904.88,-598.04 908.12,-604.24\"/>\n<text text-anchor=\"middle\" x=\"898.5\" y=\"-621.8\" font-family=\"Times New Roman,serif\" font-size=\"14.00\">ex:hasPet</text>\n</g>\n<!-- 14&#45;&gt;15 -->\n<g id=\"edge64\" class=\"edge\">\n<title>14&#45;&gt;15</title>\n<path fill=\"none\" stroke=\"black\" d=\"M719.16,-652.87C732.84,-641.6 752.95,-626.72 773,-618 810.3,-601.79 855.63,-592.9 889.64,-588.14\"/>\n<polygon fill=\"black\" stroke=\"black\" points=\"890.36,-591.57 899.81,-586.79 889.44,-584.63 890.36,-591.57\"/>\n<text text-anchor=\"middle\" x=\"802.5\" y=\"-621.8\" font-family=\"Times New Roman,serif\" font-size=\"14.00\">ex:hasDog</text>\n</g>\n<!-- 14&#45;&gt;21 -->\n<g id=\"edge101\" class=\"edge\">\n<title>14&#45;&gt;21</title>\n<path fill=\"none\" stroke=\"black\" d=\"M737.78,-664.09C873.51,-649.2 1369.62,-594.53 1778,-546 2319.65,-481.63 2975.14,-398.1 3164.46,-373.87\"/>\n<polygon fill=\"black\" stroke=\"black\" points=\"3164.95,-377.33 3174.43,-372.59 3164.07,-370.39 3164.95,-377.33\"/>\n<text text-anchor=\"middle\" x=\"2088\" y=\"-524.3\" font-family=\"Times New Roman,serif\" font-size=\"14.00\">rdf:type</text>\n</g>\n<!-- 15&#45;&gt;2 -->\n<g id=\"edge100\" class=\"edge\">\n<title>15&#45;&gt;2</title>\n<path fill=\"none\" stroke=\"black\" d=\"M978.62,-575.09C1020.63,-568.52 1089.74,-557.35 1149,-546 1252.29,-526.22 1372.96,-499.16 1435.52,-484.83\"/>\n<polygon fill=\"black\" stroke=\"black\" points=\"1436.45,-488.21 1445.42,-482.56 1434.89,-481.39 1436.45,-488.21\"/>\n<text text-anchor=\"middle\" x=\"1342\" y=\"-524.3\" font-family=\"Times New Roman,serif\" font-size=\"14.00\">rdf:type</text>\n</g>\n<!-- 15&#45;&gt;7 -->\n<g id=\"edge40\" class=\"edge\">\n<title>15&#45;&gt;7</title>\n<path fill=\"none\" stroke=\"black\" d=\"M920.64,-565.68C914.39,-560.01 907.84,-553.19 903,-546 864.68,-489.02 892.66,-453.29 847,-402 835.63,-389.23 827.2,-393.52 813,-384 793.09,-370.66 744.59,-329.25 714.19,-302.88\"/>\n<polygon fill=\"black\" stroke=\"black\" points=\"716.35,-300.13 706.51,-296.21 711.76,-305.41 716.35,-300.13\"/>\n<text text-anchor=\"middle\" x=\"892\" y=\"-416.3\" font-family=\"Times New Roman,serif\" font-size=\"14.00\">rdf:type</text>\n</g>\n<!-- 15&#45;&gt;8 -->\n<g id=\"edge59\" class=\"edge\">\n<title>15&#45;&gt;8</title>\n<path fill=\"none\" stroke=\"black\" d=\"M935.14,-564.01C933.65,-558.32 932.11,-551.92 931,-546 925.09,-514.33 935.54,-425.97 914,-402 889.93,-375.22 857.46,-412.15 835,-384 825.02,-371.49 824.68,-360.22 835,-348 865.83,-311.49 905.1,-361.54 941,-330 972.43,-302.39 980.69,-251.93 982.66,-220.56\"/>\n<polygon fill=\"black\" stroke=\"black\" points=\"986.17,-220.48 983.12,-210.33 979.17,-220.16 986.17,-220.48\"/>\n<text text-anchor=\"middle\" x=\"857\" y=\"-362.3\" font-family=\"Times New Roman,serif\" font-size=\"14.00\">rdf:type</text>\n</g>\n<!-- 15&#45;&gt;9 -->\n<g id=\"edge86\" class=\"edge\">\n<title>15&#45;&gt;9</title>\n<path fill=\"none\" stroke=\"black\" d=\"M937.23,-563.89C932.62,-529.05 927.41,-449.2 967,-402 971.07,-397.15 998.99,-387.89 1024.87,-380.11\"/>\n<polygon fill=\"black\" stroke=\"black\" points=\"1026.04,-383.42 1034.64,-377.22 1024.05,-376.7 1026.04,-383.42\"/>\n<text text-anchor=\"middle\" x=\"963\" y=\"-470.3\" font-family=\"Times New Roman,serif\" font-size=\"14.00\">rdf:type</text>\n</g>\n<!-- 15&#45;&gt;10 -->\n<g id=\"edge27\" class=\"edge\">\n<title>15&#45;&gt;10</title>\n<path fill=\"none\" stroke=\"black\" d=\"M981.22,-579.03C1049.41,-575.79 1189.99,-569.17 1309,-564 1333.5,-562.94 1731.38,-561.95 1750,-546 1774.42,-525.07 1764,-507.16 1764,-475 1764,-475 1764,-475 1764,-191 1764,-153.18 1725.34,-131.43 1689.7,-119.42\"/>\n<polygon fill=\"black\" stroke=\"black\" points=\"1690.36,-115.96 1679.77,-116.29 1688.25,-122.63 1690.36,-115.96\"/>\n<text text-anchor=\"middle\" x=\"1786\" y=\"-318.8\" font-family=\"Times New Roman,serif\" font-size=\"14.00\">rdf:type</text>\n</g>\n<!-- 19 -->\n<g id=\"node20\" class=\"node\">\n<title>19</title>\n<polygon fill=\"none\" stroke=\"black\" points=\"1212,-438 968,-438 968,-402 1212,-402 1212,-438\"/>\n<text text-anchor=\"middle\" x=\"1090\" y=\"-416.3\" font-family=\"Times New Roman,serif\" font-size=\"14.00\">&quot;A gray bulldog. He likes to chase cats.&quot;</text>\n</g>\n<!-- 15&#45;&gt;19 -->\n<g id=\"edge34\" class=\"edge\">\n<title>15&#45;&gt;19</title>\n<path fill=\"none\" stroke=\"black\" d=\"M957.21,-565.24C963.54,-559.32 970.7,-552.45 977,-546 1009.85,-512.4 1045.96,-471.76 1068.31,-446.13\"/>\n<polygon fill=\"black\" stroke=\"black\" points=\"1071.14,-448.21 1075.06,-438.37 1065.86,-443.62 1071.14,-448.21\"/>\n<text text-anchor=\"middle\" x=\"1048\" y=\"-524.3\" font-family=\"Times New Roman,serif\" font-size=\"14.00\">rdfs:comment</text>\n</g>\n<!-- 16 -->\n<g id=\"node17\" class=\"node\">\n<title>16</title>\n<ellipse fill=\"none\" stroke=\"black\" cx=\"2205\" cy=\"-279\" rx=\"61.19\" ry=\"18\"/>\n<text text-anchor=\"middle\" x=\"2205\" y=\"-275.3\" font-family=\"Times New Roman,serif\" font-size=\"14.00\">rdfs:comment</text>\n</g>\n<!-- 16&#45;&gt;10 -->\n<g id=\"edge53\" class=\"edge\">\n<title>16&#45;&gt;10</title>\n<path fill=\"none\" stroke=\"black\" d=\"M2193.62,-261.21C2185.28,-250.17 2173.01,-236.29 2159,-228 2019.94,-145.71 1963.71,-176.19 1806,-141 1768.04,-132.53 1725.24,-123.95 1691.46,-117.41\"/>\n<polygon fill=\"black\" stroke=\"black\" points=\"1691.77,-113.9 1681.29,-115.45 1690.44,-120.78 1691.77,-113.9\"/>\n<text text-anchor=\"middle\" x=\"2145\" y=\"-188.3\" font-family=\"Times New Roman,serif\" font-size=\"14.00\">rdf:type</text>\n</g>\n<!-- 16&#45;&gt;11 -->\n<g id=\"edge82\" class=\"edge\">\n<title>16&#45;&gt;11</title>\n<path fill=\"none\" stroke=\"black\" d=\"M2257.56,-269.54C2356.76,-253.57 2570.94,-219.09 2674.53,-202.41\"/>\n<polygon fill=\"black\" stroke=\"black\" points=\"2675.18,-205.85 2684.5,-200.81 2674.07,-198.94 2675.18,-205.85\"/>\n<text text-anchor=\"middle\" x=\"2522\" y=\"-231.8\" font-family=\"Times New Roman,serif\" font-size=\"14.00\">rdf:type</text>\n</g>\n<!-- 16&#45;&gt;16 -->\n<g id=\"edge87\" class=\"edge\">\n<title>16&#45;&gt;16</title>\n<path fill=\"none\" stroke=\"black\" d=\"M2260.44,-286.75C2274,-286.18 2284.09,-283.59 2284.09,-279 2284.09,-275.66 2278.77,-273.39 2270.65,-272.17\"/>\n<polygon fill=\"black\" stroke=\"black\" points=\"2270.71,-268.66 2260.44,-271.25 2270.08,-275.63 2270.71,-268.66\"/>\n<text text-anchor=\"middle\" x=\"2339.09\" y=\"-275.3\" font-family=\"Times New Roman,serif\" font-size=\"14.00\">rdfs:subPropertyOf</text>\n</g>\n<!-- 17 -->\n<g id=\"node18\" class=\"node\">\n<title>17</title>\n<ellipse fill=\"none\" stroke=\"black\" cx=\"1959\" cy=\"-279\" rx=\"38.99\" ry=\"18\"/>\n<text text-anchor=\"middle\" x=\"1959\" y=\"-275.3\" font-family=\"Times New Roman,serif\" font-size=\"14.00\">rdf:type</text>\n</g>\n<!-- 17&#45;&gt;10 -->\n<g id=\"edge33\" class=\"edge\">\n<title>17&#45;&gt;10</title>\n<path fill=\"none\" stroke=\"black\" d=\"M1943.09,-262.2C1913.33,-233.57 1846.08,-173.12 1778,-141 1752.33,-128.89 1722.11,-120.77 1695.76,-115.42\"/>\n<polygon fill=\"black\" stroke=\"black\" points=\"1696.35,-111.97 1685.87,-113.5 1695.02,-118.84 1696.35,-111.97\"/>\n<text text-anchor=\"middle\" x=\"1906\" y=\"-188.3\" font-family=\"Times New Roman,serif\" font-size=\"14.00\">rdf:type</text>\n</g>\n<!-- 17&#45;&gt;11 -->\n<g id=\"edge9\" class=\"edge\">\n<title>17&#45;&gt;11</title>\n<path fill=\"none\" stroke=\"black\" d=\"M1996.07,-273.4C2070.49,-264.22 2243.43,-243.21 2389,-228 2475.12,-219 2496.86,-218.88 2583,-210 2612.24,-206.99 2644.66,-203.35 2671.85,-200.22\"/>\n<polygon fill=\"black\" stroke=\"black\" points=\"2672.47,-203.67 2682,-199.04 2671.66,-196.71 2672.47,-203.67\"/>\n<text text-anchor=\"middle\" x=\"2411\" y=\"-231.8\" font-family=\"Times New Roman,serif\" font-size=\"14.00\">rdf:type</text>\n</g>\n<!-- 17&#45;&gt;17 -->\n<g id=\"edge8\" class=\"edge\">\n<title>17&#45;&gt;17</title>\n<path fill=\"none\" stroke=\"black\" d=\"M1994.34,-286.87C2006.35,-286.92 2016,-284.29 2016,-279 2016,-275.36 2011.44,-272.99 2004.69,-271.87\"/>\n<polygon fill=\"black\" stroke=\"black\" points=\"2004.57,-268.35 1994.34,-271.13 2004.07,-275.33 2004.57,-268.35\"/>\n<text text-anchor=\"middle\" x=\"2071\" y=\"-275.3\" font-family=\"Times New Roman,serif\" font-size=\"14.00\">rdfs:subPropertyOf</text>\n</g>\n<!-- 18&#45;&gt;10 -->\n<g id=\"edge11\" class=\"edge\">\n<title>18&#45;&gt;10</title>\n<path fill=\"none\" stroke=\"black\" d=\"M1585.51,-23.19C1545.5,-28.77 1496.58,-41.37 1517,-69 1527.8,-83.61 1544.59,-92.32 1561.99,-97.45\"/>\n<polygon fill=\"black\" stroke=\"black\" points=\"1561.13,-100.84 1571.69,-99.95 1562.88,-94.06 1561.13,-100.84\"/>\n<text text-anchor=\"middle\" x=\"1563\" y=\"-57.8\" font-family=\"Times New Roman,serif\" font-size=\"14.00\">rdfs:subClassOf</text>\n</g>\n<!-- 18&#45;&gt;10 -->\n<g id=\"edge77\" class=\"edge\">\n<title>18&#45;&gt;10</title>\n<path fill=\"none\" stroke=\"black\" d=\"M1629.24,-36.07C1628.73,-41.77 1628.25,-48.15 1628,-54 1627.69,-61.36 1627.91,-69.31 1628.34,-76.67\"/>\n<polygon fill=\"black\" stroke=\"black\" points=\"1624.87,-77.17 1629.1,-86.88 1631.85,-76.65 1624.87,-77.17\"/>\n<text text-anchor=\"middle\" x=\"1650\" y=\"-57.8\" font-family=\"Times New Roman,serif\" font-size=\"14.00\">rdf:type</text>\n</g>\n<!-- 18&#45;&gt;18 -->\n<g id=\"edge5\" class=\"edge\">\n<title>18&#45;&gt;18</title>\n<path fill=\"none\" stroke=\"black\" d=\"M1677.47,-21.86C1688.39,-21.54 1696.45,-20.26 1696.45,-18 1696.45,-16.52 1692.98,-15.46 1687.51,-14.81\"/>\n<polygon fill=\"black\" stroke=\"black\" points=\"1687.68,-11.32 1677.47,-14.14 1687.22,-18.3 1687.68,-11.32\"/>\n<text text-anchor=\"middle\" x=\"1742.45\" y=\"-14.3\" font-family=\"Times New Roman,serif\" font-size=\"14.00\">rdfs:subClassOf</text>\n</g>\n<!-- 18&#45;&gt;18 -->\n<g id=\"edge73\" class=\"edge\">\n<title>18&#45;&gt;18</title>\n<path fill=\"none\" stroke=\"black\" d=\"M1675.45,-24.5C1723.29,-27.61 1788.45,-25.44 1788.45,-18 1788.45,-11.06 1731.89,-8.71 1685.48,-10.94\"/>\n<polygon fill=\"black\" stroke=\"black\" points=\"1685.24,-7.44 1675.45,-11.5 1685.63,-14.43 1685.24,-7.44\"/>\n<text text-anchor=\"middle\" x=\"1810.45\" y=\"-14.3\" font-family=\"Times New Roman,serif\" font-size=\"14.00\">rdf:type</text>\n</g>\n<!-- 19&#45;&gt;10 -->\n<g id=\"edge48\" class=\"edge\">\n<title>19&#45;&gt;10</title>\n<path fill=\"none\" stroke=\"black\" d=\"M1199.56,-401.97C1216.49,-397.19 1230.27,-391.27 1236,-384 1245.91,-371.44 1246.27,-360.27 1236,-348 1205.68,-311.8 1108.41,-354.03 1135,-315 1138.08,-310.49 1313.14,-245.5 1318,-243 1396.66,-202.45 1406.05,-171.82 1489,-141 1515.16,-131.28 1545.03,-123.46 1570.61,-117.69\"/>\n<polygon fill=\"black\" stroke=\"black\" points=\"1571.53,-121.07 1580.54,-115.5 1570.03,-114.23 1571.53,-121.07\"/>\n<text text-anchor=\"middle\" x=\"1293\" y=\"-275.3\" font-family=\"Times New Roman,serif\" font-size=\"14.00\">rdf:type</text>\n</g>\n<!-- 20 -->\n<g id=\"node21\" class=\"node\">\n<title>20</title>\n<ellipse fill=\"none\" stroke=\"black\" cx=\"3177\" cy=\"-582\" rx=\"48.99\" ry=\"18\"/>\n<text text-anchor=\"middle\" x=\"3177\" y=\"-578.3\" font-family=\"Times New Roman,serif\" font-size=\"14.00\">ex:hasDog</text>\n</g>\n<!-- 20&#45;&gt;1 -->\n<g id=\"edge84\" class=\"edge\">\n<title>20&#45;&gt;1</title>\n<path fill=\"none\" stroke=\"black\" d=\"M3196.18,-565.36C3218.39,-547.25 3255.12,-517.3 3280.16,-496.89\"/>\n<polygon fill=\"black\" stroke=\"black\" points=\"3282.62,-499.39 3288.16,-490.36 3278.2,-493.97 3282.62,-499.39\"/>\n<text text-anchor=\"middle\" x=\"3316\" y=\"-524.3\" font-family=\"Times New Roman,serif\" font-size=\"14.00\">rdfs:subPropertyOf</text>\n</g>\n<!-- 20&#45;&gt;2 -->\n<g id=\"edge71\" class=\"edge\">\n<title>20&#45;&gt;2</title>\n<path fill=\"none\" stroke=\"black\" d=\"M3129.34,-578.03C2884.03,-562.72 1765.95,-492.97 1524.18,-477.88\"/>\n<polygon fill=\"black\" stroke=\"black\" points=\"1524.19,-474.37 1513.99,-477.25 1523.75,-481.36 1524.19,-474.37\"/>\n<text text-anchor=\"middle\" x=\"2606\" y=\"-524.3\" font-family=\"Times New Roman,serif\" font-size=\"14.00\">rdfs:range</text>\n</g>\n<!-- 20&#45;&gt;10 -->\n<g id=\"edge24\" class=\"edge\">\n<title>20&#45;&gt;10</title>\n<path fill=\"none\" stroke=\"black\" d=\"M3225.27,-578.98C3291.72,-573.83 3411.9,-555.66 3489,-492 3571.87,-423.57 3598.56,-399.14 3632,-297 3636.98,-281.79 3638.64,-275.56 3632,-261 3623.55,-242.48 3536.07,-183.79 3520,-174 3504.72,-164.7 3499.89,-164.22 3484,-156 3471.46,-149.51 3469.66,-144.57 3456,-141 3453.3,-140.29 2039.61,-113.68 1702.53,-107.34\"/>\n<polygon fill=\"black\" stroke=\"black\" points=\"1702.47,-103.84 1692.41,-107.15 1702.34,-110.84 1702.47,-103.84\"/>\n<text text-anchor=\"middle\" x=\"3647\" y=\"-318.8\" font-family=\"Times New Roman,serif\" font-size=\"14.00\">rdf:type</text>\n</g>\n<!-- 20&#45;&gt;11 -->\n<g id=\"edge46\" class=\"edge\">\n<title>20&#45;&gt;11</title>\n<path fill=\"none\" stroke=\"black\" d=\"M3141.52,-569.54C3086.29,-549.21 2986,-501.24 2986,-421 2986,-421 2986,-421 2986,-278 2986,-237.56 2868.39,-212.75 2793.55,-201.06\"/>\n<polygon fill=\"black\" stroke=\"black\" points=\"2793.7,-197.54 2783.29,-199.5 2792.65,-204.46 2793.7,-197.54\"/>\n<text text-anchor=\"middle\" x=\"3008\" y=\"-362.3\" font-family=\"Times New Roman,serif\" font-size=\"14.00\">rdf:type</text>\n</g>\n<!-- 20&#45;&gt;20 -->\n<g id=\"edge50\" class=\"edge\">\n<title>20&#45;&gt;20</title>\n<path fill=\"none\" stroke=\"black\" d=\"M3220.97,-589.85C3233.8,-589.58 3243.75,-586.96 3243.75,-582 3243.75,-578.43 3238.61,-576.08 3230.96,-574.93\"/>\n<polygon fill=\"black\" stroke=\"black\" points=\"3231.21,-571.44 3220.97,-574.15 3230.67,-578.42 3231.21,-571.44\"/>\n<text text-anchor=\"middle\" x=\"3298.75\" y=\"-578.3\" font-family=\"Times New Roman,serif\" font-size=\"14.00\">rdfs:subPropertyOf</text>\n</g>\n<!-- 20&#45;&gt;21 -->\n<g id=\"edge97\" class=\"edge\">\n<title>20&#45;&gt;21</title>\n<path fill=\"none\" stroke=\"black\" d=\"M3176.76,-563.81C3176.76,-539.52 3177.98,-493.89 3186,-456 3190.57,-434.38 3199.18,-410.89 3206.32,-393.48\"/>\n<polygon fill=\"black\" stroke=\"black\" points=\"3209.66,-394.56 3210.31,-383.99 3203.21,-391.85 3209.66,-394.56\"/>\n<text text-anchor=\"middle\" x=\"3219.5\" y=\"-470.3\" font-family=\"Times New Roman,serif\" font-size=\"14.00\">rdfs:domain</text>\n</g>\n<!-- 21&#45;&gt;7 -->\n<g id=\"edge3\" class=\"edge\">\n<title>21&#45;&gt;7</title>\n<path fill=\"none\" stroke=\"black\" d=\"M3173.83,-359.93C3136.6,-355.89 3081.89,-350.52 3034,-348 2419.69,-315.68 2264.59,-356.46 1650,-330 1558.73,-326.07 1536.21,-320.09 1445,-315 1237.61,-303.42 1185.47,-307.08 978,-297 898.76,-293.15 807.4,-287.61 748.74,-283.92\"/>\n<polygon fill=\"black\" stroke=\"black\" points=\"748.74,-280.41 738.54,-283.27 748.3,-287.39 748.74,-280.41\"/>\n<text text-anchor=\"middle\" x=\"1696\" y=\"-318.8\" font-family=\"Times New Roman,serif\" font-size=\"14.00\">rdfs:subClassOf</text>\n</g>\n<!-- 21&#45;&gt;8 -->\n<g id=\"edge19\" class=\"edge\">\n<title>21&#45;&gt;8</title>\n<path fill=\"none\" stroke=\"black\" d=\"M3173.43,-360.25C3136.2,-356.44 3081.69,-351.2 3034,-348 2966.59,-343.47 1872.97,-337.64 1819,-297 1793.18,-277.55 1821.81,-247.46 1796,-228 1765.83,-205.25 1218.13,-196.08 1039.1,-193.68\"/>\n<polygon fill=\"black\" stroke=\"black\" points=\"1039.15,-190.18 1029.1,-193.55 1039.05,-197.18 1039.15,-190.18\"/>\n<text text-anchor=\"middle\" x=\"1865\" y=\"-275.3\" font-family=\"Times New Roman,serif\" font-size=\"14.00\">rdfs:subClassOf</text>\n</g>\n<!-- 21&#45;&gt;10 -->\n<g id=\"edge6\" class=\"edge\">\n<title>21&#45;&gt;10</title>\n<path fill=\"none\" stroke=\"black\" d=\"M3264.7,-364.35C3339.91,-362.55 3483.81,-355.74 3527,-330 3554.77,-313.45 3563.71,-290.27 3550,-261 3547.79,-256.28 3410.88,-142.82 3406,-141 3400.93,-139.11 2034.45,-113.52 1702.86,-107.34\"/>\n<polygon fill=\"black\" stroke=\"black\" points=\"1702.49,-103.83 1692.42,-107.14 1702.36,-110.83 1702.49,-103.83\"/>\n<text text-anchor=\"middle\" x=\"3551\" y=\"-231.8\" font-family=\"Times New Roman,serif\" font-size=\"14.00\">rdf:type</text>\n</g>\n<!-- 21&#45;&gt;10 -->\n<g id=\"edge94\" class=\"edge\">\n<title>21&#45;&gt;10</title>\n<path fill=\"none\" stroke=\"black\" d=\"M3264.78,-364.35C3365.35,-361.37 3587.51,-345.33 3517,-261 3488.03,-226.35 3457.7,-262.56 3417,-243 3374.98,-222.81 3380.62,-192.89 3338,-174 3222.64,-122.87 3181.87,-149.89 3056,-141 2920.73,-131.44 1972.51,-112.6 1702.55,-107.37\"/>\n<polygon fill=\"black\" stroke=\"black\" points=\"1702.55,-103.87 1692.48,-107.18 1702.41,-110.87 1702.55,-103.87\"/>\n<text text-anchor=\"middle\" x=\"3463\" y=\"-231.8\" font-family=\"Times New Roman,serif\" font-size=\"14.00\">rdfs:subClassOf</text>\n</g>\n<!-- 21&#45;&gt;18 -->\n<g id=\"edge1\" class=\"edge\">\n<title>21&#45;&gt;18</title>\n<path fill=\"none\" stroke=\"black\" d=\"M3264.93,-365.28C3330.18,-364.51 3451.39,-358.82 3550,-330 3564.31,-325.82 3565.77,-319.44 3580,-315 3634,-298.13 3661.57,-332.02 3706,-297 3728.72,-279.09 3730,-265.43 3730,-236.5 3730,-236.5 3730,-236.5 3730,-104 3730,-51.41 2024.87,-24.57 1688.3,-19.78\"/>\n<polygon fill=\"black\" stroke=\"black\" points=\"1688.33,-16.28 1678.28,-19.64 1688.23,-23.28 1688.33,-16.28\"/>\n<text text-anchor=\"middle\" x=\"3752\" y=\"-188.3\" font-family=\"Times New Roman,serif\" font-size=\"14.00\">rdf:type</text>\n</g>\n<!-- 21&#45;&gt;21 -->\n<g id=\"edge52\" class=\"edge\">\n<title>21&#45;&gt;21</title>\n<path fill=\"none\" stroke=\"black\" d=\"M3260.38,-373.86C3272.99,-373.62 3282.8,-371 3282.8,-366 3282.8,-362.48 3277.95,-360.14 3270.68,-358.98\"/>\n<polygon fill=\"black\" stroke=\"black\" points=\"3270.63,-355.47 3260.38,-358.14 3270.06,-362.44 3270.63,-355.47\"/>\n<text text-anchor=\"middle\" x=\"3328.8\" y=\"-362.3\" font-family=\"Times New Roman,serif\" font-size=\"14.00\">rdfs:subClassOf</text>\n</g>\n<!-- 22 -->\n<g id=\"node23\" class=\"node\">\n<title>22</title>\n<ellipse fill=\"none\" stroke=\"black\" cx=\"448\" cy=\"-474\" rx=\"36\" ry=\"18\"/>\n<text text-anchor=\"middle\" x=\"448\" y=\"-470.3\" font-family=\"Times New Roman,serif\" font-size=\"14.00\">ex:Fox</text>\n</g>\n<!-- 22&#45;&gt;7 -->\n<g id=\"edge13\" class=\"edge\">\n<title>22&#45;&gt;7</title>\n<path fill=\"none\" stroke=\"black\" d=\"M462.35,-457.19C467.29,-451.37 472.66,-444.59 477,-438 501.7,-400.48 491.39,-379.92 523,-348 540.14,-330.69 598.48,-308.99 640.94,-294.82\"/>\n<polygon fill=\"black\" stroke=\"black\" points=\"642.14,-298.11 650.54,-291.65 639.95,-291.46 642.14,-298.11\"/>\n<text text-anchor=\"middle\" x=\"569\" y=\"-362.3\" font-family=\"Times New Roman,serif\" font-size=\"14.00\">rdfs:subClassOf</text>\n</g>\n<!-- 22&#45;&gt;8 -->\n<g id=\"edge80\" class=\"edge\">\n<title>22&#45;&gt;8</title>\n<path fill=\"none\" stroke=\"black\" d=\"M472.67,-460.9C506.19,-444.3 567.82,-413.17 619,-384 669.47,-355.24 675.38,-334.78 730,-315 784.43,-295.29 810.45,-328.53 859,-297 889.3,-277.32 874.61,-251.57 902,-228 908.45,-222.44 924.58,-215.11 940.76,-208.6\"/>\n<polygon fill=\"black\" stroke=\"black\" points=\"942.2,-211.79 950.22,-204.87 939.63,-205.28 942.2,-211.79\"/>\n<text text-anchor=\"middle\" x=\"776\" y=\"-318.8\" font-family=\"Times New Roman,serif\" font-size=\"14.00\">rdfs:subClassOf</text>\n</g>\n<!-- 22&#45;&gt;9 -->\n<g id=\"edge49\" class=\"edge\">\n<title>22&#45;&gt;9</title>\n<path fill=\"none\" stroke=\"black\" d=\"M482.63,-469.12C557.21,-460.71 726.76,-441.3 732,-438 748.06,-427.88 738.68,-411.7 755,-402 804.02,-372.86 954.82,-393.83 1011,-384 1016.07,-383.11 1021.32,-381.97 1026.52,-380.7\"/>\n<polygon fill=\"black\" stroke=\"black\" points=\"1027.59,-384.03 1036.38,-378.12 1025.82,-377.26 1027.59,-384.03\"/>\n<text text-anchor=\"middle\" x=\"801\" y=\"-416.3\" font-family=\"Times New Roman,serif\" font-size=\"14.00\">rdfs:subClassOf</text>\n</g>\n<!-- 22&#45;&gt;10 -->\n<g id=\"edge62\" class=\"edge\">\n<title>22&#45;&gt;10</title>\n<path fill=\"none\" stroke=\"black\" d=\"M452.39,-455.92C459.28,-430.98 474.12,-383.67 496,-348 511.96,-321.98 523.26,-321.1 542,-297 593.61,-230.63 574.39,-179.75 649,-141 651.53,-139.69 1335.01,-116.15 1560.07,-108.43\"/>\n<polygon fill=\"black\" stroke=\"black\" points=\"1560.25,-111.92 1570.12,-108.08 1560.01,-104.93 1560.25,-111.92\"/>\n<text text-anchor=\"middle\" x=\"587\" y=\"-275.3\" font-family=\"Times New Roman,serif\" font-size=\"14.00\">rdf:type</text>\n</g>\n<!-- 22&#45;&gt;10 -->\n<g id=\"edge104\" class=\"edge\">\n<title>22&#45;&gt;10</title>\n<path fill=\"none\" stroke=\"black\" d=\"M445.44,-455.84C439.16,-411.18 424.95,-292.64 446,-261 457.48,-243.75 471.08,-253.39 489,-243 553.45,-205.64 551.88,-166.16 622,-141 624.76,-140.01 1330.16,-116.14 1559.72,-108.4\"/>\n<polygon fill=\"black\" stroke=\"black\" points=\"1560.09,-111.89 1569.97,-108.06 1559.86,-104.89 1560.09,-111.89\"/>\n<text text-anchor=\"middle\" x=\"492\" y=\"-275.3\" font-family=\"Times New Roman,serif\" font-size=\"14.00\">rdfs:subClassOf</text>\n</g>\n<!-- 22&#45;&gt;18 -->\n<g id=\"edge57\" class=\"edge\">\n<title>22&#45;&gt;18</title>\n<path fill=\"none\" stroke=\"black\" d=\"M437.33,-456.81C418.32,-429.44 375.79,-374.4 325,-348 189.5,-277.58 0,-389.21 0,-236.5 0,-236.5 0,-236.5 0,-104 0,-19.26 100.14,-66.22 184,-54 322.88,-33.75 1321.33,-22.19 1573.35,-19.57\"/>\n<polygon fill=\"black\" stroke=\"black\" points=\"1573.43,-23.07 1583.39,-19.47 1573.36,-16.07 1573.43,-23.07\"/>\n<text text-anchor=\"middle\" x=\"23\" y=\"-231.8\" font-family=\"Times New Roman,serif\" font-size=\"14.00\">rdf:type</text>\n</g>\n<!-- 22&#45;&gt;22 -->\n<g id=\"edge39\" class=\"edge\">\n<title>22&#45;&gt;22</title>\n<path fill=\"none\" stroke=\"black\" d=\"M477.85,-484C490.72,-484.82 501.75,-481.49 501.75,-474 501.75,-468.62 496.05,-465.38 488.07,-464.29\"/>\n<polygon fill=\"black\" stroke=\"black\" points=\"487.94,-460.79 477.85,-464 487.74,-467.78 487.94,-460.79\"/>\n<text text-anchor=\"middle\" x=\"547.75\" y=\"-470.3\" font-family=\"Times New Roman,serif\" font-size=\"14.00\">rdfs:subClassOf</text>\n</g>\n</g>\n</svg>\n",
      "text/plain": [
       "<graphviz.graphs.Digraph at 0x22501dc6c80>"
      ]
     },
     "metadata": {},
     "output_type": "display_data"
    }
   ],
   "source": [
    "# This cell will compute the closure of the rdfs-entailment of your graph and draw it.\n",
    "%rdf graph entail-rdfs -l pets\n",
    "%rdf graph draw -l pets"
   ]
  },
  {
   "cell_type": "code",
   "execution_count": 35,
   "metadata": {
    "deletable": false,
    "editable": false,
    "nbgrader": {
     "cell_type": "code",
     "checksum": "a94b904955eb7de9a24d261b00e27ef8",
     "grade": true,
     "grade_id": "cell-545a303d2dc929f7",
     "locked": true,
     "points": 1,
     "schema_version": 3,
     "solution": false,
     "task": false
    }
   },
   "outputs": [
    {
     "name": "stdout",
     "output_type": "stream",
     "text": [
      "Graphman: Graph labelled 'pets' has been entailed using the RDFS regime.\n"
     ]
    }
   ],
   "source": [
    "# This test will check whether the entailment closure of your graph contains\n",
    "# all necessary class and property definitions. [1 point]\n",
    "%rdf graph entail-rdfs -l pets\n",
    "store = %rdf -r\n",
    "graph = store['rdfgraphs']['pets']\n",
    "\n",
    "contain_check(graph, get_uri(ex, \"Animal\"), RDF.type, RDFS.Class)\n",
    "contain_check(graph, get_uri(ex, \"Mammal\"), RDF.type, RDFS.Class)\n",
    "contain_check(graph, get_uri(ex, \"hasPet\"), RDF.type, RDF.Property)"
   ]
  },
  {
   "cell_type": "code",
   "execution_count": 36,
   "metadata": {
    "deletable": false,
    "editable": false,
    "nbgrader": {
     "cell_type": "code",
     "checksum": "869f7d9355cc428b6881c2b032364b6c",
     "grade": true,
     "grade_id": "cell-870e8045b6da1343",
     "locked": true,
     "points": 1,
     "schema_version": 3,
     "solution": false,
     "task": false
    }
   },
   "outputs": [
    {
     "name": "stdout",
     "output_type": "stream",
     "text": [
      "Graphman: Graph labelled 'pets' has been entailed using the RDFS regime.\n"
     ]
    }
   ],
   "source": [
    "# This test will check whether the entailment closure of your graph contains\n",
    "# all necessary subclass and subproperty definitions. [1 point]\n",
    "%rdf graph entail-rdfs -l pets\n",
    "store = %rdf -r\n",
    "graph = store['rdfgraphs']['pets']\n",
    "\n",
    "contain_check(graph, get_uri(ex, \"Mammal\"), RDFS.subClassOf, get_uri(ex, \"Animal\"))\n",
    "contain_check(graph, get_uri(ex, \"Human\"), RDFS.subClassOf, get_uri(ex, \"Animal\"))"
   ]
  },
  {
   "cell_type": "code",
   "execution_count": 37,
   "metadata": {
    "deletable": false,
    "editable": false,
    "nbgrader": {
     "cell_type": "code",
     "checksum": "f178619f8c8eb742c6f3ded04b251edd",
     "grade": true,
     "grade_id": "cell-bb9fd35fae47263f",
     "locked": true,
     "points": 1,
     "schema_version": 3,
     "solution": false,
     "task": false
    }
   },
   "outputs": [
    {
     "name": "stdout",
     "output_type": "stream",
     "text": [
      "Graphman: Graph labelled 'pets' has been entailed using the RDFS regime.\n"
     ]
    }
   ],
   "source": [
    "# This test will check whether the entailment closure of your graph contains\n",
    "# all necessary range and domain definitions. [1 point]\n",
    "%rdf graph entail-rdfs -l pets\n",
    "store = %rdf -r\n",
    "graph = store['rdfgraphs']['pets']\n",
    "\n",
    "contain_check(graph, get_uri(ex, \"hasPet\"), RDFS.domain, get_uri(ex, \"Human\"))"
   ]
  },
  {
   "cell_type": "code",
   "execution_count": 38,
   "metadata": {
    "deletable": false,
    "editable": false,
    "nbgrader": {
     "cell_type": "code",
     "checksum": "6d8bad43c1f28c95b6f387a0aa5666bb",
     "grade": true,
     "grade_id": "cell-98cbe50027bad490",
     "locked": true,
     "points": 1,
     "schema_version": 3,
     "solution": false,
     "task": false
    }
   },
   "outputs": [
    {
     "name": "stdout",
     "output_type": "stream",
     "text": [
      "Graphman: Graph labelled 'pets' has been entailed using the RDFS regime.\n"
     ]
    }
   ],
   "source": [
    "# This test will check whether the entailment closure of your graph contains\n",
    "# all specified facts. [1 point]\n",
    "%rdf graph entail-rdfs -l pets\n",
    "store = %rdf -r\n",
    "graph = store['rdfgraphs']['pets']\n",
    "\n",
    "contain_check(graph, get_uri(ex, \"Spike\"), RDF.type, get_uri(ex, \"Dog\"))\n",
    "contain_check(graph, get_uri(ex, \"Spike\"), RDFS.comment, Literal(\"A gray bulldog. He likes to chase cats.\"))\n",
    "contain_check(graph, get_uri(ex, \"Max\"), RDF.type, get_uri(ex, \"Human\"))\n",
    "contain_check(graph, get_uri(ex, \"Max\"), RDFS.label, Literal(\"Max\"))\n",
    "contain_check(graph, get_uri(ex, \"Max\"), get_uri(ex, \"hasDog\"), get_uri(ex, \"Spike\"))"
   ]
  },
  {
   "cell_type": "markdown",
   "metadata": {
    "deletable": false,
    "editable": false,
    "nbgrader": {
     "cell_type": "markdown",
     "checksum": "f042cdc8a3a53b883d268f41030e49e6",
     "grade": false,
     "grade_id": "cell-0bfc8cc310a8f149",
     "locked": true,
     "schema_version": 3,
     "solution": false,
     "task": false
    }
   },
   "source": [
    "#### 2b) Library [4 points]\n",
    "\n",
    "Model the following information using the RDFS vocabulary: All books and movies are mediums. The creator of a medium is a person and only mediums have a creator. Only books have an author and the author of a book is also the creator. Only mediums have titles and a publish date.\n",
    "\n",
    "Also add that Douglas Adams is the author of a book with the title \"The Hitchhiker's Guide to the Galaxy\" and published \"1979-10-12\".\n",
    "\n",
    "Use the following URIs:  \n",
    "Medium: **http://example.org/#Medium**  \n",
    "Books: **http://example.org/#Book**  \n",
    "Movies: **http://example.org/#Movie**  \n",
    "Persons: **http://example.org/#Person**  \n",
    "creator: **http://example.org/#createdBy**  \n",
    "author: **http://example.org/#authoredBy**  \n",
    "title: **http://example.org/#title**  \n",
    "publish date: **http://example.org/#published**  \n",
    "Douglas Adams: **http://example.org/#DouglasAdams**  \n",
    "The Hitchhiker's Guide to the Galaxy: **http://example.org/#HitchhikersGuide**\n",
    "\n",
    "You may use all terms from the RDFS vocabulary. Omit datatypes of literals."
   ]
  },
  {
   "cell_type": "code",
   "execution_count": 39,
   "metadata": {
    "deletable": false,
    "nbgrader": {
     "cell_type": "code",
     "checksum": "d3a6176b68fed76a0b00e7ef281ecb7a",
     "grade": false,
     "grade_id": "cell-f3aaa3f152446c75",
     "locked": false,
     "schema_version": 3,
     "solution": true,
     "task": false
    }
   },
   "outputs": [
    {
     "data": {
      "image/svg+xml": "<?xml version=\"1.0\" encoding=\"UTF-8\" standalone=\"no\"?>\n<!DOCTYPE svg PUBLIC \"-//W3C//DTD SVG 1.1//EN\"\n \"http://www.w3.org/Graphics/SVG/1.1/DTD/svg11.dtd\">\n<!-- Generated by graphviz version 5.0.1 (20220820.1526)\n -->\n<!-- Pages: 1 -->\n<svg width=\"1880pt\" height=\"392pt\"\n viewBox=\"0.00 0.00 1880.19 392.00\" xmlns=\"http://www.w3.org/2000/svg\" xmlns:xlink=\"http://www.w3.org/1999/xlink\">\n<g id=\"graph0\" class=\"graph\" transform=\"scale(1 1) rotate(0) translate(4 388)\">\n<polygon fill=\"white\" stroke=\"none\" points=\"-4,4 -4,-388 1876.19,-388 1876.19,4 -4,4\"/>\n<!-- 0 -->\n<g id=\"node1\" class=\"node\">\n<title>0</title>\n<ellipse fill=\"none\" stroke=\"black\" cx=\"296\" cy=\"-366\" rx=\"83.69\" ry=\"18\"/>\n<text text-anchor=\"middle\" x=\"296\" y=\"-362.3\" font-family=\"Times New Roman,serif\" font-size=\"14.00\">ex:HitchhikersGuide</text>\n</g>\n<!-- 1 -->\n<g id=\"node2\" class=\"node\">\n<title>1</title>\n<ellipse fill=\"none\" stroke=\"black\" cx=\"441\" cy=\"-279\" rx=\"76.89\" ry=\"18\"/>\n<text text-anchor=\"middle\" x=\"441\" y=\"-275.3\" font-family=\"Times New Roman,serif\" font-size=\"14.00\">ex:DouglasAdams</text>\n</g>\n<!-- 0&#45;&gt;1 -->\n<g id=\"edge22\" class=\"edge\">\n<title>0&#45;&gt;1</title>\n<path fill=\"none\" stroke=\"black\" d=\"M323.61,-348.81C346.59,-335.34 379.49,-316.06 404.62,-301.33\"/>\n<polygon fill=\"black\" stroke=\"black\" points=\"406.63,-304.2 413.49,-296.13 403.09,-298.17 406.63,-304.2\"/>\n<text text-anchor=\"middle\" x=\"417.5\" y=\"-318.8\" font-family=\"Times New Roman,serif\" font-size=\"14.00\">ex:authoredBy</text>\n</g>\n<!-- 9 -->\n<g id=\"node10\" class=\"node\">\n<title>9</title>\n<polygon fill=\"none\" stroke=\"black\" points=\"346,-297 110,-297 110,-261 346,-261 346,-297\"/>\n<text text-anchor=\"middle\" x=\"228\" y=\"-275.3\" font-family=\"Times New Roman,serif\" font-size=\"14.00\">&quot;The Hitchhiker&#39;s Guide to the Galaxy&quot;</text>\n</g>\n<!-- 0&#45;&gt;9 -->\n<g id=\"edge13\" class=\"edge\">\n<title>0&#45;&gt;9</title>\n<path fill=\"none\" stroke=\"black\" d=\"M282.57,-348.21C272.76,-335.95 259.29,-319.11 248.19,-305.24\"/>\n<polygon fill=\"black\" stroke=\"black\" points=\"250.62,-302.67 241.64,-297.05 245.15,-307.04 250.62,-302.67\"/>\n<text text-anchor=\"middle\" x=\"284\" y=\"-318.8\" font-family=\"Times New Roman,serif\" font-size=\"14.00\">ex:title</text>\n</g>\n<!-- 17 -->\n<g id=\"node18\" class=\"node\">\n<title>17</title>\n<ellipse fill=\"none\" stroke=\"black\" cx=\"657\" cy=\"-192\" rx=\"40.89\" ry=\"18\"/>\n<text text-anchor=\"middle\" x=\"657\" y=\"-188.3\" font-family=\"Times New Roman,serif\" font-size=\"14.00\">ex:Book</text>\n</g>\n<!-- 0&#45;&gt;17 -->\n<g id=\"edge8\" class=\"edge\">\n<title>0&#45;&gt;17</title>\n<path fill=\"none\" stroke=\"black\" d=\"M371.63,-358.14C456.64,-348.95 587.57,-329.87 624,-297 645.59,-277.52 653.15,-244.02 655.75,-220.3\"/>\n<polygon fill=\"black\" stroke=\"black\" points=\"659.25,-220.45 656.62,-210.18 652.28,-219.84 659.25,-220.45\"/>\n<text text-anchor=\"middle\" x=\"668\" y=\"-275.3\" font-family=\"Times New Roman,serif\" font-size=\"14.00\">rdf:type</text>\n</g>\n<!-- 18 -->\n<g id=\"node19\" class=\"node\">\n<title>18</title>\n<polygon fill=\"none\" stroke=\"black\" points=\"92,-297 0,-297 0,-261 92,-261 92,-297\"/>\n<text text-anchor=\"middle\" x=\"46\" y=\"-275.3\" font-family=\"Times New Roman,serif\" font-size=\"14.00\">&quot;1979&#45;10&#45;12&quot;</text>\n</g>\n<!-- 0&#45;&gt;18 -->\n<g id=\"edge28\" class=\"edge\">\n<title>0&#45;&gt;18</title>\n<path fill=\"none\" stroke=\"black\" d=\"M249.1,-351.04C228.72,-344.83 204.6,-337.28 183,-330 155.68,-320.79 125.55,-309.88 100.52,-300.6\"/>\n<polygon fill=\"black\" stroke=\"black\" points=\"101.44,-297.21 90.85,-297 99,-303.77 101.44,-297.21\"/>\n<text text-anchor=\"middle\" x=\"218\" y=\"-318.8\" font-family=\"Times New Roman,serif\" font-size=\"14.00\">ex:published</text>\n</g>\n<!-- 5 -->\n<g id=\"node6\" class=\"node\">\n<title>5</title>\n<polygon fill=\"none\" stroke=\"black\" points=\"479,-210 361,-210 361,-174 479,-174 479,-210\"/>\n<text text-anchor=\"middle\" x=\"420\" y=\"-188.3\" font-family=\"Times New Roman,serif\" font-size=\"14.00\">&quot;Douglas Adams&quot;</text>\n</g>\n<!-- 1&#45;&gt;5 -->\n<g id=\"edge6\" class=\"edge\">\n<title>1&#45;&gt;5</title>\n<path fill=\"none\" stroke=\"black\" d=\"M429,-260.95C425.78,-255.47 422.71,-249.21 421,-243 419.02,-235.83 418.25,-227.87 418.11,-220.44\"/>\n<polygon fill=\"black\" stroke=\"black\" points=\"421.61,-220.48 418.26,-210.43 414.61,-220.37 421.61,-220.48\"/>\n<text text-anchor=\"middle\" x=\"447\" y=\"-231.8\" font-family=\"Times New Roman,serif\" font-size=\"14.00\">rdfs:label</text>\n</g>\n<!-- 6 -->\n<g id=\"node7\" class=\"node\">\n<title>6</title>\n<ellipse fill=\"none\" stroke=\"black\" cx=\"548\" cy=\"-192\" rx=\"46.29\" ry=\"18\"/>\n<text text-anchor=\"middle\" x=\"548\" y=\"-188.3\" font-family=\"Times New Roman,serif\" font-size=\"14.00\">ex:Person</text>\n</g>\n<!-- 1&#45;&gt;6 -->\n<g id=\"edge3\" class=\"edge\">\n<title>1&#45;&gt;6</title>\n<path fill=\"none\" stroke=\"black\" d=\"M458.26,-261.11C468.82,-251.09 482.8,-238.35 496,-228 502.38,-222.99 509.46,-217.94 516.28,-213.28\"/>\n<polygon fill=\"black\" stroke=\"black\" points=\"518.35,-216.11 524.71,-207.63 514.45,-210.29 518.35,-216.11\"/>\n<text text-anchor=\"middle\" x=\"518\" y=\"-231.8\" font-family=\"Times New Roman,serif\" font-size=\"14.00\">rdf:type</text>\n</g>\n<!-- 2 -->\n<g id=\"node3\" class=\"node\">\n<title>2</title>\n<ellipse fill=\"none\" stroke=\"black\" cx=\"783\" cy=\"-192\" rx=\"44.39\" ry=\"18\"/>\n<text text-anchor=\"middle\" x=\"783\" y=\"-188.3\" font-family=\"Times New Roman,serif\" font-size=\"14.00\">ex:Movie</text>\n</g>\n<!-- 13 -->\n<g id=\"node14\" class=\"node\">\n<title>13</title>\n<ellipse fill=\"none\" stroke=\"black\" cx=\"908\" cy=\"-105\" rx=\"50.89\" ry=\"18\"/>\n<text text-anchor=\"middle\" x=\"908\" y=\"-101.3\" font-family=\"Times New Roman,serif\" font-size=\"14.00\">ex:Medium</text>\n</g>\n<!-- 2&#45;&gt;13 -->\n<g id=\"edge14\" class=\"edge\">\n<title>2&#45;&gt;13</title>\n<path fill=\"none\" stroke=\"black\" d=\"M784.94,-173.63C787,-162.92 791.25,-149.62 800,-141 813.74,-127.45 832.77,-119.15 851.03,-114.06\"/>\n<polygon fill=\"black\" stroke=\"black\" points=\"851.92,-117.44 860.77,-111.61 850.21,-110.65 851.92,-117.44\"/>\n<text text-anchor=\"middle\" x=\"846\" y=\"-144.8\" font-family=\"Times New Roman,serif\" font-size=\"14.00\">rdfs:subClassOf</text>\n</g>\n<!-- 15 -->\n<g id=\"node16\" class=\"node\">\n<title>15</title>\n<ellipse fill=\"none\" stroke=\"black\" cx=\"1401\" cy=\"-18\" rx=\"47.39\" ry=\"18\"/>\n<text text-anchor=\"middle\" x=\"1401\" y=\"-14.3\" font-family=\"Times New Roman,serif\" font-size=\"14.00\">rdfs:Class</text>\n</g>\n<!-- 2&#45;&gt;15 -->\n<g id=\"edge23\" class=\"edge\">\n<title>2&#45;&gt;15</title>\n<path fill=\"none\" stroke=\"black\" d=\"M780.57,-173.67C778.33,-149.86 778.53,-107.65 804,-87 845.5,-53.35 1202.93,-30.01 1344.04,-22.03\"/>\n<polygon fill=\"black\" stroke=\"black\" points=\"1344.43,-25.51 1354.22,-21.46 1344.04,-18.52 1344.43,-25.51\"/>\n<text text-anchor=\"middle\" x=\"826\" y=\"-101.3\" font-family=\"Times New Roman,serif\" font-size=\"14.00\">rdf:type</text>\n</g>\n<!-- 3 -->\n<g id=\"node4\" class=\"node\">\n<title>3</title>\n<ellipse fill=\"none\" stroke=\"black\" cx=\"1443\" cy=\"-192\" rx=\"46.59\" ry=\"18\"/>\n<text text-anchor=\"middle\" x=\"1443\" y=\"-188.3\" font-family=\"Times New Roman,serif\" font-size=\"14.00\">rdfs:range</text>\n</g>\n<!-- 10 -->\n<g id=\"node11\" class=\"node\">\n<title>10</title>\n<ellipse fill=\"none\" stroke=\"black\" cx=\"1420\" cy=\"-105\" rx=\"55.49\" ry=\"18\"/>\n<text text-anchor=\"middle\" x=\"1420\" y=\"-101.3\" font-family=\"Times New Roman,serif\" font-size=\"14.00\">rdf:Property</text>\n</g>\n<!-- 3&#45;&gt;10 -->\n<g id=\"edge31\" class=\"edge\">\n<title>3&#45;&gt;10</title>\n<path fill=\"none\" stroke=\"black\" d=\"M1438.35,-173.8C1435.17,-162.05 1430.89,-146.24 1427.26,-132.84\"/>\n<polygon fill=\"black\" stroke=\"black\" points=\"1430.64,-131.91 1424.65,-123.18 1423.88,-133.74 1430.64,-131.91\"/>\n<text text-anchor=\"middle\" x=\"1465.5\" y=\"-144.8\" font-family=\"Times New Roman,serif\" font-size=\"14.00\">rdfs:domain</text>\n</g>\n<!-- 3&#45;&gt;15 -->\n<g id=\"edge29\" class=\"edge\">\n<title>3&#45;&gt;15</title>\n<path fill=\"none\" stroke=\"black\" d=\"M1486.83,-185.21C1536.18,-178.24 1610.62,-166.2 1619,-156 1623.23,-150.85 1622.59,-146.62 1619,-141 1608.71,-124.92 1596.94,-131.8 1580,-123 1527.75,-95.84 1469.05,-60.84 1433.57,-39.16\"/>\n<polygon fill=\"black\" stroke=\"black\" points=\"1434.99,-35.93 1424.63,-33.69 1431.33,-41.9 1434.99,-35.93\"/>\n<text text-anchor=\"middle\" x=\"1608\" y=\"-101.3\" font-family=\"Times New Roman,serif\" font-size=\"14.00\">rdfs:range</text>\n</g>\n<!-- 4 -->\n<g id=\"node5\" class=\"node\">\n<title>4</title>\n<ellipse fill=\"none\" stroke=\"black\" cx=\"1264\" cy=\"-192\" rx=\"33.6\" ry=\"18\"/>\n<text text-anchor=\"middle\" x=\"1264\" y=\"-188.3\" font-family=\"Times New Roman,serif\" font-size=\"14.00\">ex:title</text>\n</g>\n<!-- 8 -->\n<g id=\"node9\" class=\"node\">\n<title>8</title>\n<ellipse fill=\"none\" stroke=\"black\" cx=\"1147\" cy=\"-105\" rx=\"50.09\" ry=\"18\"/>\n<text text-anchor=\"middle\" x=\"1147\" y=\"-101.3\" font-family=\"Times New Roman,serif\" font-size=\"14.00\">rdfs:Literal</text>\n</g>\n<!-- 4&#45;&gt;8 -->\n<g id=\"edge24\" class=\"edge\">\n<title>4&#45;&gt;8</title>\n<path fill=\"none\" stroke=\"black\" d=\"M1260.46,-173.69C1257.46,-163 1252.13,-149.7 1243,-141 1231.31,-129.86 1215.79,-122.21 1200.64,-116.99\"/>\n<polygon fill=\"black\" stroke=\"black\" points=\"1201.38,-113.55 1190.79,-113.89 1199.28,-120.23 1201.38,-113.55\"/>\n<text text-anchor=\"middle\" x=\"1281\" y=\"-144.8\" font-family=\"Times New Roman,serif\" font-size=\"14.00\">rdfs:range</text>\n</g>\n<!-- 4&#45;&gt;10 -->\n<g id=\"edge5\" class=\"edge\">\n<title>4&#45;&gt;10</title>\n<path fill=\"none\" stroke=\"black\" d=\"M1284.25,-177.59C1300.41,-167.11 1323.77,-152.46 1345,-141 1355.87,-135.14 1367.89,-129.26 1379.07,-124.05\"/>\n<polygon fill=\"black\" stroke=\"black\" points=\"1380.59,-127.2 1388.21,-119.84 1377.67,-120.84 1380.59,-127.2\"/>\n<text text-anchor=\"middle\" x=\"1367\" y=\"-144.8\" font-family=\"Times New Roman,serif\" font-size=\"14.00\">rdf:type</text>\n</g>\n<!-- 4&#45;&gt;13 -->\n<g id=\"edge11\" class=\"edge\">\n<title>4&#45;&gt;13</title>\n<path fill=\"none\" stroke=\"black\" d=\"M1235.22,-182.56C1216.55,-176.49 1192.07,-167.38 1172,-156 1162.64,-150.69 1162.89,-145.24 1153,-141 1120.5,-127.06 1028.52,-116.58 966.98,-110.87\"/>\n<polygon fill=\"black\" stroke=\"black\" points=\"967.27,-107.38 957,-109.96 966.64,-114.35 967.27,-107.38\"/>\n<text text-anchor=\"middle\" x=\"1205.5\" y=\"-144.8\" font-family=\"Times New Roman,serif\" font-size=\"14.00\">rdfs:domain</text>\n</g>\n<!-- 6&#45;&gt;15 -->\n<g id=\"edge26\" class=\"edge\">\n<title>6&#45;&gt;15</title>\n<path fill=\"none\" stroke=\"black\" d=\"M557.88,-174.11C572.41,-150.82 601.77,-109.23 638,-87 689.91,-55.15 710.77,-63.06 771,-54 980.04,-22.55 1231.91,-18.62 1343.26,-18.6\"/>\n<polygon fill=\"black\" stroke=\"black\" points=\"1343.27,-22.1 1353.27,-18.61 1343.27,-15.1 1343.27,-22.1\"/>\n<text text-anchor=\"middle\" x=\"660\" y=\"-101.3\" font-family=\"Times New Roman,serif\" font-size=\"14.00\">rdf:type</text>\n</g>\n<!-- 7 -->\n<g id=\"node8\" class=\"node\">\n<title>7</title>\n<ellipse fill=\"none\" stroke=\"black\" cx=\"1629\" cy=\"-192\" rx=\"53.89\" ry=\"18\"/>\n<text text-anchor=\"middle\" x=\"1629\" y=\"-188.3\" font-family=\"Times New Roman,serif\" font-size=\"14.00\">rdfs:domain</text>\n</g>\n<!-- 7&#45;&gt;10 -->\n<g id=\"edge4\" class=\"edge\">\n<title>7&#45;&gt;10</title>\n<path fill=\"none\" stroke=\"black\" d=\"M1602.35,-176.28C1582.5,-165.65 1554.52,-151.41 1529,-141 1510.12,-133.3 1488.88,-126.16 1470.19,-120.35\"/>\n<polygon fill=\"black\" stroke=\"black\" points=\"1470.97,-116.93 1460.39,-117.36 1468.93,-123.63 1470.97,-116.93\"/>\n<text text-anchor=\"middle\" x=\"1592.5\" y=\"-144.8\" font-family=\"Times New Roman,serif\" font-size=\"14.00\">rdfs:domain</text>\n</g>\n<!-- 7&#45;&gt;15 -->\n<g id=\"edge7\" class=\"edge\">\n<title>7&#45;&gt;15</title>\n<path fill=\"none\" stroke=\"black\" d=\"M1636.37,-173.96C1644.77,-151.62 1655.03,-112.31 1636,-87 1614.21,-58.02 1516.95,-37.44 1454.58,-26.96\"/>\n<polygon fill=\"black\" stroke=\"black\" points=\"1454.94,-23.47 1444.51,-25.3 1453.81,-30.38 1454.94,-23.47\"/>\n<text text-anchor=\"middle\" x=\"1674\" y=\"-101.3\" font-family=\"Times New Roman,serif\" font-size=\"14.00\">rdfs:range</text>\n</g>\n<!-- 11 -->\n<g id=\"node12\" class=\"node\">\n<title>11</title>\n<ellipse fill=\"none\" stroke=\"black\" cx=\"1802\" cy=\"-105\" rx=\"70.39\" ry=\"18\"/>\n<text text-anchor=\"middle\" x=\"1802\" y=\"-101.3\" font-family=\"Times New Roman,serif\" font-size=\"14.00\">rdfs:subClassOf</text>\n</g>\n<!-- 11&#45;&gt;15 -->\n<g id=\"edge21\" class=\"edge\">\n<title>11&#45;&gt;15</title>\n<path fill=\"none\" stroke=\"black\" d=\"M1766.66,-89.31C1734.84,-76.29 1690.34,-58.64 1672,-54 1599.41,-35.64 1513.32,-26.61 1457.97,-22.39\"/>\n<polygon fill=\"black\" stroke=\"black\" points=\"1457.89,-18.88 1447.66,-21.63 1457.38,-25.86 1457.89,-18.88\"/>\n<text text-anchor=\"middle\" x=\"1741\" y=\"-57.8\" font-family=\"Times New Roman,serif\" font-size=\"14.00\">rdfs:range</text>\n</g>\n<!-- 11&#45;&gt;15 -->\n<g id=\"edge30\" class=\"edge\">\n<title>11&#45;&gt;15</title>\n<path fill=\"none\" stroke=\"black\" d=\"M1796.29,-86.67C1791.61,-75.39 1783.82,-61.45 1772,-54 1721.34,-22.08 1549.95,-18.02 1458.93,-18.22\"/>\n<polygon fill=\"black\" stroke=\"black\" points=\"1458.76,-14.72 1448.77,-18.26 1458.79,-21.72 1458.76,-14.72\"/>\n<text text-anchor=\"middle\" x=\"1819.5\" y=\"-57.8\" font-family=\"Times New Roman,serif\" font-size=\"14.00\">rdfs:domain</text>\n</g>\n<!-- 12 -->\n<g id=\"node13\" class=\"node\">\n<title>12</title>\n<ellipse fill=\"none\" stroke=\"black\" cx=\"812\" cy=\"-366\" rx=\"57.69\" ry=\"18\"/>\n<text text-anchor=\"middle\" x=\"812\" y=\"-362.3\" font-family=\"Times New Roman,serif\" font-size=\"14.00\">ex:createdBy</text>\n</g>\n<!-- 12&#45;&gt;6 -->\n<g id=\"edge16\" class=\"edge\">\n<title>12&#45;&gt;6</title>\n<path fill=\"none\" stroke=\"black\" d=\"M761.02,-357.4C697.28,-346.81 593.42,-325.67 568,-297 549.47,-276.1 545.89,-243.37 546.04,-220.22\"/>\n<polygon fill=\"black\" stroke=\"black\" points=\"549.54,-220.13 546.35,-210.03 542.55,-219.92 549.54,-220.13\"/>\n<text text-anchor=\"middle\" x=\"596\" y=\"-275.3\" font-family=\"Times New Roman,serif\" font-size=\"14.00\">rdfs:range</text>\n</g>\n<!-- 12&#45;&gt;10 -->\n<g id=\"edge9\" class=\"edge\">\n<title>12&#45;&gt;10</title>\n<path fill=\"none\" stroke=\"black\" d=\"M867.44,-360.79C1015.79,-348.29 1416.13,-306.14 1499,-210 1519.06,-186.73 1519.98,-166.6 1503,-141 1496.38,-131.02 1486.3,-123.88 1475.41,-118.78\"/>\n<polygon fill=\"black\" stroke=\"black\" points=\"1476.72,-115.53 1466.14,-114.95 1474.05,-122 1476.72,-115.53\"/>\n<text text-anchor=\"middle\" x=\"1500\" y=\"-231.8\" font-family=\"Times New Roman,serif\" font-size=\"14.00\">rdf:type</text>\n</g>\n<!-- 12&#45;&gt;13 -->\n<g id=\"edge12\" class=\"edge\">\n<title>12&#45;&gt;13</title>\n<path fill=\"none\" stroke=\"black\" d=\"M864.98,-358.65C882.54,-353.74 900.32,-345.11 911,-330 953.08,-270.49 931.94,-178.07 917.6,-132.81\"/>\n<polygon fill=\"black\" stroke=\"black\" points=\"920.86,-131.53 914.4,-123.13 914.21,-133.73 920.86,-131.53\"/>\n<text text-anchor=\"middle\" x=\"968.5\" y=\"-231.8\" font-family=\"Times New Roman,serif\" font-size=\"14.00\">rdfs:domain</text>\n</g>\n<!-- 16 -->\n<g id=\"node17\" class=\"node\">\n<title>16</title>\n<ellipse fill=\"none\" stroke=\"black\" cx=\"771\" cy=\"-279\" rx=\"63.09\" ry=\"18\"/>\n<text text-anchor=\"middle\" x=\"771\" y=\"-275.3\" font-family=\"Times New Roman,serif\" font-size=\"14.00\">ex:authoredBy</text>\n</g>\n<!-- 12&#45;&gt;16 -->\n<g id=\"edge32\" class=\"edge\">\n<title>12&#45;&gt;16</title>\n<path fill=\"none\" stroke=\"black\" d=\"M804.81,-347.71C800.67,-338.01 795.26,-325.73 790,-315 788.54,-312.02 786.96,-308.93 785.35,-305.87\"/>\n<polygon fill=\"black\" stroke=\"black\" points=\"788.38,-304.1 780.56,-296.94 782.21,-307.41 788.38,-304.1\"/>\n<text text-anchor=\"middle\" x=\"852\" y=\"-318.8\" font-family=\"Times New Roman,serif\" font-size=\"14.00\">rdfs:subPropertyOf</text>\n</g>\n<!-- 13&#45;&gt;15 -->\n<g id=\"edge19\" class=\"edge\">\n<title>13&#45;&gt;15</title>\n<path fill=\"none\" stroke=\"black\" d=\"M952.62,-96.31C1043.85,-80.58 1251.29,-44.81 1348.68,-28.02\"/>\n<polygon fill=\"black\" stroke=\"black\" points=\"1349.33,-31.46 1358.59,-26.31 1348.14,-24.56 1349.33,-31.46\"/>\n<text text-anchor=\"middle\" x=\"1206\" y=\"-57.8\" font-family=\"Times New Roman,serif\" font-size=\"14.00\">rdf:type</text>\n</g>\n<!-- 14 -->\n<g id=\"node15\" class=\"node\">\n<title>14</title>\n<ellipse fill=\"none\" stroke=\"black\" cx=\"1029\" cy=\"-192\" rx=\"55.79\" ry=\"18\"/>\n<text text-anchor=\"middle\" x=\"1029\" y=\"-188.3\" font-family=\"Times New Roman,serif\" font-size=\"14.00\">ex:published</text>\n</g>\n<!-- 14&#45;&gt;8 -->\n<g id=\"edge20\" class=\"edge\">\n<title>14&#45;&gt;8</title>\n<path fill=\"none\" stroke=\"black\" d=\"M1024.59,-173.59C1023.01,-163.13 1023.06,-150.12 1030,-141 1043.51,-123.22 1065.71,-114.15 1087.16,-109.63\"/>\n<polygon fill=\"black\" stroke=\"black\" points=\"1088.04,-113.03 1097.26,-107.8 1086.79,-106.14 1088.04,-113.03\"/>\n<text text-anchor=\"middle\" x=\"1058\" y=\"-144.8\" font-family=\"Times New Roman,serif\" font-size=\"14.00\">rdfs:range</text>\n</g>\n<!-- 14&#45;&gt;10 -->\n<g id=\"edge1\" class=\"edge\">\n<title>14&#45;&gt;10</title>\n<path fill=\"none\" stroke=\"black\" d=\"M1054.95,-175.95C1064.83,-169.99 1076.1,-162.91 1086,-156 1094.82,-149.84 1095.05,-145.09 1105,-141 1127.68,-131.69 1271.5,-118.38 1356.76,-111.15\"/>\n<polygon fill=\"black\" stroke=\"black\" points=\"1357.19,-114.62 1366.86,-110.3 1356.6,-107.65 1357.19,-114.62\"/>\n<text text-anchor=\"middle\" x=\"1127\" y=\"-144.8\" font-family=\"Times New Roman,serif\" font-size=\"14.00\">rdf:type</text>\n</g>\n<!-- 14&#45;&gt;13 -->\n<g id=\"edge2\" class=\"edge\">\n<title>14&#45;&gt;13</title>\n<path fill=\"none\" stroke=\"black\" d=\"M993.3,-178.11C979.99,-172.41 965.16,-164.96 953,-156 943.35,-148.9 934.21,-139.45 926.72,-130.69\"/>\n<polygon fill=\"black\" stroke=\"black\" points=\"929.39,-128.43 920.33,-122.92 923.98,-132.87 929.39,-128.43\"/>\n<text text-anchor=\"middle\" x=\"986.5\" y=\"-144.8\" font-family=\"Times New Roman,serif\" font-size=\"14.00\">rdfs:domain</text>\n</g>\n<!-- 16&#45;&gt;6 -->\n<g id=\"edge18\" class=\"edge\">\n<title>16&#45;&gt;6</title>\n<path fill=\"none\" stroke=\"black\" d=\"M734.67,-264.15C694.91,-249 631.28,-224.74 589.56,-208.84\"/>\n<polygon fill=\"black\" stroke=\"black\" points=\"590.56,-205.48 579.97,-205.19 588.07,-212.02 590.56,-205.48\"/>\n<text text-anchor=\"middle\" x=\"700\" y=\"-231.8\" font-family=\"Times New Roman,serif\" font-size=\"14.00\">rdfs:range</text>\n</g>\n<!-- 16&#45;&gt;10 -->\n<g id=\"edge10\" class=\"edge\">\n<title>16&#45;&gt;10</title>\n<path fill=\"none\" stroke=\"black\" d=\"M804.43,-263.6C833.76,-251.71 877.87,-235.59 918,-228 1003.03,-211.91 1227.84,-244.96 1307,-210 1327.7,-200.86 1324.06,-186.39 1343,-174 1361.37,-161.98 1372.13,-170.05 1389,-156 1396.72,-149.57 1403.09,-140.69 1408,-132.2\"/>\n<polygon fill=\"black\" stroke=\"black\" points=\"1411.14,-133.75 1412.75,-123.28 1404.97,-130.46 1411.14,-133.75\"/>\n<text text-anchor=\"middle\" x=\"1365\" y=\"-188.3\" font-family=\"Times New Roman,serif\" font-size=\"14.00\">rdf:type</text>\n</g>\n<!-- 16&#45;&gt;12 -->\n<g id=\"edge27\" class=\"edge\">\n<title>16&#45;&gt;12</title>\n<path fill=\"none\" stroke=\"black\" d=\"M720.22,-289.77C691.86,-297.58 665,-310.5 680,-330 688.96,-341.65 720.21,-350.22 750.05,-355.97\"/>\n<polygon fill=\"black\" stroke=\"black\" points=\"749.61,-359.45 760.08,-357.81 750.87,-352.56 749.61,-359.45\"/>\n<text text-anchor=\"middle\" x=\"735\" y=\"-318.8\" font-family=\"Times New Roman,serif\" font-size=\"14.00\">rdfs:subPropertyOf</text>\n</g>\n<!-- 16&#45;&gt;17 -->\n<g id=\"edge17\" class=\"edge\">\n<title>16&#45;&gt;17</title>\n<path fill=\"none\" stroke=\"black\" d=\"M764.79,-260.77C760.2,-250.11 752.99,-236.82 743,-228 731.32,-217.68 716.19,-210.17 701.89,-204.81\"/>\n<polygon fill=\"black\" stroke=\"black\" points=\"702.77,-201.41 692.17,-201.43 700.47,-208.02 702.77,-201.41\"/>\n<text text-anchor=\"middle\" x=\"788.5\" y=\"-231.8\" font-family=\"Times New Roman,serif\" font-size=\"14.00\">rdfs:domain</text>\n</g>\n<!-- 17&#45;&gt;13 -->\n<g id=\"edge15\" class=\"edge\">\n<title>17&#45;&gt;13</title>\n<path fill=\"none\" stroke=\"black\" d=\"M664.92,-174.3C671.19,-163.01 681.04,-148.79 694,-141 740.22,-113.21 760.79,-131.8 814,-123 827.04,-120.84 841.07,-118.38 854.21,-116.02\"/>\n<polygon fill=\"black\" stroke=\"black\" points=\"854.84,-119.46 864.05,-114.23 853.59,-112.57 854.84,-119.46\"/>\n<text text-anchor=\"middle\" x=\"740\" y=\"-144.8\" font-family=\"Times New Roman,serif\" font-size=\"14.00\">rdfs:subClassOf</text>\n</g>\n<!-- 17&#45;&gt;15 -->\n<g id=\"edge25\" class=\"edge\">\n<title>17&#45;&gt;15</title>\n<path fill=\"none\" stroke=\"black\" d=\"M660.08,-173.78C662.46,-163.64 666.49,-150.9 673,-141 693.09,-110.47 702.78,-104.24 735,-87 784.15,-60.7 801.02,-63.17 856,-54 1031.68,-24.71 1242.99,-19.56 1343.05,-18.89\"/>\n<polygon fill=\"black\" stroke=\"black\" points=\"1343.27,-22.39 1353.25,-18.84 1343.23,-15.39 1343.27,-22.39\"/>\n<text text-anchor=\"middle\" x=\"757\" y=\"-101.3\" font-family=\"Times New Roman,serif\" font-size=\"14.00\">rdf:type</text>\n</g>\n</g>\n</svg>\n",
      "text/plain": [
       "<graphviz.graphs.Digraph at 0x22501d38be0>"
      ]
     },
     "metadata": {},
     "output_type": "display_data"
    }
   ],
   "source": [
    "%%rdf turtle -l library\n",
    "\n",
    "# These are just some axiomatic triples. Do not remove them.\n",
    "rdfs:subClassOf rdfs:domain rdfs:Class .\n",
    "rdfs:subClassOf rdfs:range rdfs:Class .\n",
    "rdfs:range rdfs:range rdfs:Class .\n",
    "rdfs:range rdfs:domain rdf:Property .\n",
    "rdfs:domain rdfs:range rdfs:Class .\n",
    "rdfs:domain rdfs:domain rdf:Property .\n",
    "\n",
    "# main class\n",
    "ex:Medium a rdfs:Class .\n",
    "ex:Book a rdfs:Class .\n",
    "ex:Movie a rdfs:Class .\n",
    "ex:Person a rdfs:Class .\n",
    "\n",
    "# sub class\n",
    "ex:Book rdfs:subClassOf ex:Medium .\n",
    "ex:Movie rdfs:subClassOf ex:Medium .\n",
    "\n",
    "# properties\n",
    "ex:createdBy a rdf:Property .\n",
    "ex:authoredBy a rdf:Property .\n",
    "ex:title a rdf:Property .\n",
    "ex:published a rdf:Property .\n",
    "\n",
    "# sub properties\n",
    "ex:createdBy rdfs:subPropertyOf ex:authoredBy .\n",
    "ex:authoredBy rdfs:subPropertyOf ex:createdBy .\n",
    "\n",
    "# domain and range\n",
    "ex:createdBy rdfs:domain ex:Medium .\n",
    "ex:createdBy rdfs:range ex:Person .\n",
    "ex:authoredBy rdfs:domain ex:Book .\n",
    "ex:authoredBy rdfs:range ex:Person .\n",
    "ex:title rdfs:domain ex:Medium .\n",
    "ex:title rdfs:range rdfs:Literal .\n",
    "ex:published rdfs:domain ex:Medium .\n",
    "ex:published rdfs:range rdfs:Literal .\n",
    "\n",
    "# individuals\n",
    "ex:DouglasAdams a ex:Person ;\n",
    "    rdfs:label \"Douglas Adams\" .\n",
    "\n",
    "ex:HitchhikersGuide a ex:Book ;\n",
    "    ex:title \"The Hitchhiker's Guide to the Galaxy\" ;\n",
    "    ex:authoredBy ex:DouglasAdams ;\n",
    "    ex:published \"1979-10-12\" ."
   ]
  },
  {
   "cell_type": "code",
   "execution_count": 40,
   "metadata": {
    "deletable": false,
    "editable": false,
    "nbgrader": {
     "cell_type": "code",
     "checksum": "2d1bb46414ec72a592ec4ec1e31e1eeb",
     "grade": false,
     "grade_id": "cell-1bf611f650e94a71",
     "locked": true,
     "schema_version": 3,
     "solution": false,
     "task": false
    }
   },
   "outputs": [
    {
     "name": "stdout",
     "output_type": "stream",
     "text": [
      "Graphman: Graph labelled 'library' has been entailed using the RDFS regime.\n"
     ]
    },
    {
     "data": {
      "image/svg+xml": "<?xml version=\"1.0\" encoding=\"UTF-8\" standalone=\"no\"?>\n<!DOCTYPE svg PUBLIC \"-//W3C//DTD SVG 1.1//EN\"\n \"http://www.w3.org/Graphics/SVG/1.1/DTD/svg11.dtd\">\n<!-- Generated by graphviz version 5.0.1 (20220820.1526)\n -->\n<!-- Pages: 1 -->\n<svg width=\"3536pt\" height=\"479pt\"\n viewBox=\"0.00 0.00 3536.00 479.00\" xmlns=\"http://www.w3.org/2000/svg\" xmlns:xlink=\"http://www.w3.org/1999/xlink\">\n<g id=\"graph0\" class=\"graph\" transform=\"scale(1 1) rotate(0) translate(4 475)\">\n<polygon fill=\"white\" stroke=\"none\" points=\"-4,4 -4,-475 3532,-475 3532,4 -4,4\"/>\n<!-- 0 -->\n<g id=\"node1\" class=\"node\">\n<title>0</title>\n<ellipse fill=\"none\" stroke=\"black\" cx=\"2286.8\" cy=\"-366\" rx=\"83.69\" ry=\"18\"/>\n<text text-anchor=\"middle\" x=\"2286.8\" y=\"-362.3\" font-family=\"Times New Roman,serif\" font-size=\"14.00\">ex:HitchhikersGuide</text>\n</g>\n<!-- 1 -->\n<g id=\"node2\" class=\"node\">\n<title>1</title>\n<ellipse fill=\"none\" stroke=\"black\" cx=\"2390.8\" cy=\"-279\" rx=\"76.89\" ry=\"18\"/>\n<text text-anchor=\"middle\" x=\"2390.8\" y=\"-275.3\" font-family=\"Times New Roman,serif\" font-size=\"14.00\">ex:DouglasAdams</text>\n</g>\n<!-- 0&#45;&gt;1 -->\n<g id=\"edge15\" class=\"edge\">\n<title>0&#45;&gt;1</title>\n<path fill=\"none\" stroke=\"black\" d=\"M2335.59,-351.21C2347.55,-346.05 2359.56,-339.14 2368.8,-330 2375.3,-323.58 2380.02,-314.91 2383.38,-306.6\"/>\n<polygon fill=\"black\" stroke=\"black\" points=\"2386.69,-307.75 2386.73,-297.16 2380.09,-305.41 2386.69,-307.75\"/>\n<text text-anchor=\"middle\" x=\"2416.3\" y=\"-318.8\" font-family=\"Times New Roman,serif\" font-size=\"14.00\">ex:createdBy</text>\n</g>\n<!-- 0&#45;&gt;1 -->\n<g id=\"edge78\" class=\"edge\">\n<title>0&#45;&gt;1</title>\n<path fill=\"none\" stroke=\"black\" d=\"M2280.63,-347.71C2278.07,-337.3 2277.07,-324.29 2283.8,-315 2289.52,-307.11 2307,-300.06 2326.22,-294.39\"/>\n<polygon fill=\"black\" stroke=\"black\" points=\"2327.38,-297.71 2336.07,-291.64 2325.49,-290.96 2327.38,-297.71\"/>\n<text text-anchor=\"middle\" x=\"2324.3\" y=\"-318.8\" font-family=\"Times New Roman,serif\" font-size=\"14.00\">ex:authoredBy</text>\n</g>\n<!-- 11 -->\n<g id=\"node12\" class=\"node\">\n<title>11</title>\n<polygon fill=\"none\" stroke=\"black\" points=\"1824.8,-297 1588.8,-297 1588.8,-261 1824.8,-261 1824.8,-297\"/>\n<text text-anchor=\"middle\" x=\"1706.8\" y=\"-275.3\" font-family=\"Times New Roman,serif\" font-size=\"14.00\">&quot;The Hitchhiker&#39;s Guide to the Galaxy&quot;</text>\n</g>\n<!-- 0&#45;&gt;11 -->\n<g id=\"edge66\" class=\"edge\">\n<title>0&#45;&gt;11</title>\n<path fill=\"none\" stroke=\"black\" d=\"M2219.7,-355.17C2125.46,-341.36 1952.14,-315.95 1833.28,-298.53\"/>\n<polygon fill=\"black\" stroke=\"black\" points=\"1833.43,-295.02 1823.03,-297.03 1832.41,-301.95 1833.43,-295.02\"/>\n<text text-anchor=\"middle\" x=\"2049.8\" y=\"-318.8\" font-family=\"Times New Roman,serif\" font-size=\"14.00\">ex:title</text>\n</g>\n<!-- 12 -->\n<g id=\"node13\" class=\"node\">\n<title>12</title>\n<ellipse fill=\"none\" stroke=\"black\" cx=\"2014.8\" cy=\"-105\" rx=\"61.99\" ry=\"18\"/>\n<text text-anchor=\"middle\" x=\"2014.8\" y=\"-101.3\" font-family=\"Times New Roman,serif\" font-size=\"14.00\">rdfs:Resource</text>\n</g>\n<!-- 0&#45;&gt;12 -->\n<g id=\"edge21\" class=\"edge\">\n<title>0&#45;&gt;12</title>\n<path fill=\"none\" stroke=\"black\" d=\"M2203.05,-364.51C2004.26,-362.44 1517.02,-351.79 1469.8,-297 1418.81,-237.82 1479.71,-173.37 1550.8,-141 1603.51,-117 1753.06,-127.4 1810.8,-123 1855.95,-119.56 1906.69,-115.33 1946.27,-111.95\"/>\n<polygon fill=\"black\" stroke=\"black\" points=\"1946.68,-115.43 1956.35,-111.09 1946.08,-108.46 1946.68,-115.43\"/>\n<text text-anchor=\"middle\" x=\"1477.8\" y=\"-231.8\" font-family=\"Times New Roman,serif\" font-size=\"14.00\">rdf:type</text>\n</g>\n<!-- 16 -->\n<g id=\"node17\" class=\"node\">\n<title>16</title>\n<ellipse fill=\"none\" stroke=\"black\" cx=\"2430.8\" cy=\"-192\" rx=\"50.89\" ry=\"18\"/>\n<text text-anchor=\"middle\" x=\"2430.8\" y=\"-188.3\" font-family=\"Times New Roman,serif\" font-size=\"14.00\">ex:Medium</text>\n</g>\n<!-- 0&#45;&gt;16 -->\n<g id=\"edge1\" class=\"edge\">\n<title>0&#45;&gt;16</title>\n<path fill=\"none\" stroke=\"black\" d=\"M2369.95,-363.27C2475.34,-359.09 2648.02,-344.91 2686.8,-297 2696.87,-284.56 2696.29,-273.89 2686.8,-261 2663.4,-229.21 2556.25,-209.47 2488.2,-199.92\"/>\n<polygon fill=\"black\" stroke=\"black\" points=\"2488.43,-196.42 2478.05,-198.53 2487.48,-203.36 2488.43,-196.42\"/>\n<text text-anchor=\"middle\" x=\"2716.8\" y=\"-275.3\" font-family=\"Times New Roman,serif\" font-size=\"14.00\">rdf:type</text>\n</g>\n<!-- 21 -->\n<g id=\"node22\" class=\"node\">\n<title>21</title>\n<ellipse fill=\"none\" stroke=\"black\" cx=\"2526.8\" cy=\"-279\" rx=\"40.89\" ry=\"18\"/>\n<text text-anchor=\"middle\" x=\"2526.8\" y=\"-275.3\" font-family=\"Times New Roman,serif\" font-size=\"14.00\">ex:Book</text>\n</g>\n<!-- 0&#45;&gt;21 -->\n<g id=\"edge58\" class=\"edge\">\n<title>0&#45;&gt;21</title>\n<path fill=\"none\" stroke=\"black\" d=\"M2359.56,-356.84C2390.44,-351.67 2426.29,-343.32 2456.8,-330 2472.97,-322.94 2489.12,-311.75 2501.83,-301.74\"/>\n<polygon fill=\"black\" stroke=\"black\" points=\"2504.09,-304.42 2509.65,-295.4 2499.68,-298.98 2504.09,-304.42\"/>\n<text text-anchor=\"middle\" x=\"2505.8\" y=\"-318.8\" font-family=\"Times New Roman,serif\" font-size=\"14.00\">rdf:type</text>\n</g>\n<!-- 22 -->\n<g id=\"node23\" class=\"node\">\n<title>22</title>\n<polygon fill=\"none\" stroke=\"black\" points=\"1570.8,-297 1478.8,-297 1478.8,-261 1570.8,-261 1570.8,-297\"/>\n<text text-anchor=\"middle\" x=\"1524.8\" y=\"-275.3\" font-family=\"Times New Roman,serif\" font-size=\"14.00\">&quot;1979&#45;10&#45;12&quot;</text>\n</g>\n<!-- 0&#45;&gt;22 -->\n<g id=\"edge39\" class=\"edge\">\n<title>0&#45;&gt;22</title>\n<path fill=\"none\" stroke=\"black\" d=\"M2204.31,-362.79C2073.38,-358.02 1810.22,-343.31 1580.72,-296.96\"/>\n<polygon fill=\"black\" stroke=\"black\" points=\"1581.35,-293.51 1570.85,-294.94 1579.95,-300.37 1581.35,-293.51\"/>\n<text text-anchor=\"middle\" x=\"1807.8\" y=\"-318.8\" font-family=\"Times New Roman,serif\" font-size=\"14.00\">ex:published</text>\n</g>\n<!-- 5 -->\n<g id=\"node6\" class=\"node\">\n<title>5</title>\n<polygon fill=\"none\" stroke=\"black\" points=\"2073.8,-210 1955.8,-210 1955.8,-174 2073.8,-174 2073.8,-210\"/>\n<text text-anchor=\"middle\" x=\"2014.8\" y=\"-188.3\" font-family=\"Times New Roman,serif\" font-size=\"14.00\">&quot;Douglas Adams&quot;</text>\n</g>\n<!-- 1&#45;&gt;5 -->\n<g id=\"edge57\" class=\"edge\">\n<title>1&#45;&gt;5</title>\n<path fill=\"none\" stroke=\"black\" d=\"M2337.03,-266.09C2326.71,-264.13 2315.95,-262.31 2305.8,-261 2272.8,-256.73 2029.62,-267.23 2006.8,-243 2001.06,-236.9 2000.7,-228.42 2002.51,-220.17\"/>\n<polygon fill=\"black\" stroke=\"black\" points=\"2005.93,-220.99 2005.58,-210.4 1999.25,-218.89 2005.93,-220.99\"/>\n<text text-anchor=\"middle\" x=\"2032.8\" y=\"-231.8\" font-family=\"Times New Roman,serif\" font-size=\"14.00\">rdfs:label</text>\n</g>\n<!-- 6 -->\n<g id=\"node7\" class=\"node\">\n<title>6</title>\n<ellipse fill=\"none\" stroke=\"black\" cx=\"2943.8\" cy=\"-192\" rx=\"46.29\" ry=\"18\"/>\n<text text-anchor=\"middle\" x=\"2943.8\" y=\"-188.3\" font-family=\"Times New Roman,serif\" font-size=\"14.00\">ex:Person</text>\n</g>\n<!-- 1&#45;&gt;6 -->\n<g id=\"edge55\" class=\"edge\">\n<title>1&#45;&gt;6</title>\n<path fill=\"none\" stroke=\"black\" d=\"M2445.73,-266.41C2456.03,-264.44 2466.73,-262.54 2476.8,-261 2549.72,-249.84 2569.05,-255.19 2641.8,-243 2671.47,-238.03 2678.12,-232.87 2707.8,-228 2785.4,-215.26 2806.57,-224.77 2883.8,-210 2888.86,-209.03 2894.1,-207.84 2899.3,-206.54\"/>\n<polygon fill=\"black\" stroke=\"black\" points=\"2900.38,-209.87 2909.15,-203.93 2898.59,-203.1 2900.38,-209.87\"/>\n<text text-anchor=\"middle\" x=\"2729.8\" y=\"-231.8\" font-family=\"Times New Roman,serif\" font-size=\"14.00\">rdf:type</text>\n</g>\n<!-- 1&#45;&gt;12 -->\n<g id=\"edge52\" class=\"edge\">\n<title>1&#45;&gt;12</title>\n<path fill=\"none\" stroke=\"black\" d=\"M2338.08,-265.82C2315.73,-259.96 2289.62,-252.21 2266.8,-243 2253.71,-237.72 2252.19,-232.49 2238.8,-228 2189.76,-211.55 2169.18,-234.85 2123.8,-210 2087.9,-190.34 2093.07,-168.55 2062.8,-141 2057.9,-136.54 2052.43,-132.1 2046.99,-127.97\"/>\n<polygon fill=\"black\" stroke=\"black\" points=\"2048.68,-124.87 2038.55,-121.76 2044.53,-130.51 2048.68,-124.87\"/>\n<text text-anchor=\"middle\" x=\"2145.8\" y=\"-188.3\" font-family=\"Times New Roman,serif\" font-size=\"14.00\">rdf:type</text>\n</g>\n<!-- 2 -->\n<g id=\"node3\" class=\"node\">\n<title>2</title>\n<ellipse fill=\"none\" stroke=\"black\" cx=\"107.8\" cy=\"-279\" rx=\"46.59\" ry=\"18\"/>\n<text text-anchor=\"middle\" x=\"107.8\" y=\"-275.3\" font-family=\"Times New Roman,serif\" font-size=\"14.00\">rdfs:range</text>\n</g>\n<!-- 2&#45;&gt;2 -->\n<g id=\"edge72\" class=\"edge\">\n<title>2&#45;&gt;2</title>\n<path fill=\"none\" stroke=\"black\" d=\"M150.18,-286.86C162.79,-286.62 172.6,-284 172.6,-279 172.6,-275.48 167.75,-273.14 160.49,-271.98\"/>\n<polygon fill=\"black\" stroke=\"black\" points=\"160.43,-268.47 150.18,-271.14 159.86,-275.44 160.43,-268.47\"/>\n<text text-anchor=\"middle\" x=\"227.6\" y=\"-275.3\" font-family=\"Times New Roman,serif\" font-size=\"14.00\">rdfs:subPropertyOf</text>\n</g>\n<!-- 2&#45;&gt;12 -->\n<g id=\"edge81\" class=\"edge\">\n<title>2&#45;&gt;12</title>\n<path fill=\"none\" stroke=\"black\" d=\"M132.69,-263.74C189.34,-232.37 333.22,-158.71 464.8,-141 613.04,-121.05 1661.41,-130.21 1810.8,-123 1856.36,-120.8 1907.5,-116.53 1947.19,-112.83\"/>\n<polygon fill=\"black\" stroke=\"black\" points=\"1947.65,-116.3 1957.28,-111.87 1946.99,-109.33 1947.65,-116.3\"/>\n<text text-anchor=\"middle\" x=\"351.8\" y=\"-188.3\" font-family=\"Times New Roman,serif\" font-size=\"14.00\">rdf:type</text>\n</g>\n<!-- 13 -->\n<g id=\"node14\" class=\"node\">\n<title>13</title>\n<ellipse fill=\"none\" stroke=\"black\" cx=\"860.8\" cy=\"-192\" rx=\"55.49\" ry=\"18\"/>\n<text text-anchor=\"middle\" x=\"860.8\" y=\"-188.3\" font-family=\"Times New Roman,serif\" font-size=\"14.00\">rdf:Property</text>\n</g>\n<!-- 2&#45;&gt;13 -->\n<g id=\"edge54\" class=\"edge\">\n<title>2&#45;&gt;13</title>\n<path fill=\"none\" stroke=\"black\" d=\"M152.63,-273.75C244.03,-265.05 443.97,-245.77 450.8,-243 460.78,-238.96 459.81,-231.98 469.8,-228 527.31,-205.11 700.04,-197.08 795.54,-194.35\"/>\n<polygon fill=\"black\" stroke=\"black\" points=\"795.77,-197.85 805.67,-194.07 795.58,-190.85 795.77,-197.85\"/>\n<text text-anchor=\"middle\" x=\"491.8\" y=\"-231.8\" font-family=\"Times New Roman,serif\" font-size=\"14.00\">rdf:type</text>\n</g>\n<!-- 2&#45;&gt;13 -->\n<g id=\"edge93\" class=\"edge\">\n<title>2&#45;&gt;13</title>\n<path fill=\"none\" stroke=\"black\" d=\"M147.69,-269.26C200.51,-258 296.7,-238.63 379.8,-228 528.1,-209.03 703.53,-199.5 796.09,-195.46\"/>\n<polygon fill=\"black\" stroke=\"black\" points=\"796.31,-198.96 806.15,-195.03 796.01,-191.96 796.31,-198.96\"/>\n<text text-anchor=\"middle\" x=\"413.3\" y=\"-231.8\" font-family=\"Times New Roman,serif\" font-size=\"14.00\">rdfs:domain</text>\n</g>\n<!-- 19 -->\n<g id=\"node20\" class=\"node\">\n<title>19</title>\n<ellipse fill=\"none\" stroke=\"black\" cx=\"2196.8\" cy=\"-18\" rx=\"47.39\" ry=\"18\"/>\n<text text-anchor=\"middle\" x=\"2196.8\" y=\"-14.3\" font-family=\"Times New Roman,serif\" font-size=\"14.00\">rdfs:Class</text>\n</g>\n<!-- 2&#45;&gt;19 -->\n<g id=\"edge43\" class=\"edge\">\n<title>2&#45;&gt;19</title>\n<path fill=\"none\" stroke=\"black\" d=\"M127.02,-262.39C139.23,-252.49 155.4,-239.44 169.8,-228 200.3,-203.78 204.89,-193.13 238.8,-174 333.64,-120.51 361.29,-109.55 467.8,-87 797.52,-17.19 1877.49,-17.52 2139.27,-18.66\"/>\n<polygon fill=\"black\" stroke=\"black\" points=\"2139.3,-22.16 2149.32,-18.71 2139.33,-15.16 2139.3,-22.16\"/>\n<text text-anchor=\"middle\" x=\"326.8\" y=\"-144.8\" font-family=\"Times New Roman,serif\" font-size=\"14.00\">rdfs:range</text>\n</g>\n<!-- 3 -->\n<g id=\"node4\" class=\"node\">\n<title>3</title>\n<ellipse fill=\"none\" stroke=\"black\" cx=\"2888.8\" cy=\"-279\" rx=\"44.39\" ry=\"18\"/>\n<text text-anchor=\"middle\" x=\"2888.8\" y=\"-275.3\" font-family=\"Times New Roman,serif\" font-size=\"14.00\">ex:Movie</text>\n</g>\n<!-- 3&#45;&gt;3 -->\n<g id=\"edge94\" class=\"edge\">\n<title>3&#45;&gt;3</title>\n<path fill=\"none\" stroke=\"black\" d=\"M2928.58,-286.87C2941.11,-286.75 2951,-284.13 2951,-279 2951,-275.4 2946.11,-273.03 2938.86,-271.9\"/>\n<polygon fill=\"black\" stroke=\"black\" points=\"2938.82,-268.39 2928.58,-271.13 2938.29,-275.37 2938.82,-268.39\"/>\n<text text-anchor=\"middle\" x=\"2997\" y=\"-275.3\" font-family=\"Times New Roman,serif\" font-size=\"14.00\">rdfs:subClassOf</text>\n</g>\n<!-- 3&#45;&gt;12 -->\n<g id=\"edge33\" class=\"edge\">\n<title>3&#45;&gt;12</title>\n<path fill=\"none\" stroke=\"black\" d=\"M2897.19,-260.9C2901.06,-250.29 2903.33,-237.02 2895.8,-228 2867.15,-193.67 2837.03,-229.53 2796.8,-210 2755.17,-189.78 2761.67,-158.47 2718.8,-141 2661.43,-117.62 2254.29,-109.33 2086.65,-106.88\"/>\n<polygon fill=\"black\" stroke=\"black\" points=\"2086.49,-103.38 2076.44,-106.74 2086.39,-110.38 2086.49,-103.38\"/>\n<text text-anchor=\"middle\" x=\"2842.8\" y=\"-188.3\" font-family=\"Times New Roman,serif\" font-size=\"14.00\">rdfs:subClassOf</text>\n</g>\n<!-- 3&#45;&gt;12 -->\n<g id=\"edge45\" class=\"edge\">\n<title>3&#45;&gt;12</title>\n<path fill=\"none\" stroke=\"black\" d=\"M2887.22,-260.95C2885.25,-249.81 2880.79,-235.89 2870.8,-228 2842.73,-205.82 2744.36,-222.41 2710.8,-210 2684.1,-200.12 2683.25,-186.78 2657.8,-174 2617.86,-153.94 2606.62,-149.84 2562.8,-141 2473.64,-123.01 2212.9,-112.39 2085.92,-108.15\"/>\n<polygon fill=\"black\" stroke=\"black\" points=\"2086.02,-104.65 2075.91,-107.82 2085.79,-111.65 2086.02,-104.65\"/>\n<text text-anchor=\"middle\" x=\"2732.8\" y=\"-188.3\" font-family=\"Times New Roman,serif\" font-size=\"14.00\">rdf:type</text>\n</g>\n<!-- 3&#45;&gt;16 -->\n<g id=\"edge19\" class=\"edge\">\n<title>3&#45;&gt;16</title>\n<path fill=\"none\" stroke=\"black\" d=\"M2851.95,-268.96C2830.13,-262.95 2802.25,-254.12 2778.8,-243 2767.78,-237.77 2767.3,-232.1 2755.8,-228 2743.45,-223.59 2579.44,-207.3 2489.27,-198.58\"/>\n<polygon fill=\"black\" stroke=\"black\" points=\"2489.47,-195.09 2479.18,-197.61 2488.8,-202.05 2489.47,-195.09\"/>\n<text text-anchor=\"middle\" x=\"2824.8\" y=\"-231.8\" font-family=\"Times New Roman,serif\" font-size=\"14.00\">rdfs:subClassOf</text>\n</g>\n<!-- 3&#45;&gt;19 -->\n<g id=\"edge35\" class=\"edge\">\n<title>3&#45;&gt;19</title>\n<path fill=\"none\" stroke=\"black\" d=\"M2930.33,-272.43C2971.96,-266.5 3037.74,-256.14 3093.8,-243 3116.39,-237.7 3121.15,-232.99 3143.8,-228 3171.43,-221.92 3251.27,-231.37 3269.8,-210 3280.29,-197.91 3278.89,-187.17 3269.8,-174 3207.98,-84.38 3145.16,-118.04 3040.8,-87 2974.96,-67.41 2957.89,-63.1 2889.8,-54 2655.73,-22.73 2373.77,-18.83 2254.53,-18.71\"/>\n<polygon fill=\"black\" stroke=\"black\" points=\"2254.52,-15.21 2244.52,-18.71 2254.52,-22.21 2254.52,-15.21\"/>\n<text text-anchor=\"middle\" x=\"3277.8\" y=\"-144.8\" font-family=\"Times New Roman,serif\" font-size=\"14.00\">rdf:type</text>\n</g>\n<!-- 4 -->\n<g id=\"node5\" class=\"node\">\n<title>4</title>\n<ellipse fill=\"none\" stroke=\"black\" cx=\"2134.8\" cy=\"-279\" rx=\"33.6\" ry=\"18\"/>\n<text text-anchor=\"middle\" x=\"2134.8\" y=\"-275.3\" font-family=\"Times New Roman,serif\" font-size=\"14.00\">ex:title</text>\n</g>\n<!-- 4&#45;&gt;4 -->\n<g id=\"edge16\" class=\"edge\">\n<title>4&#45;&gt;4</title>\n<path fill=\"none\" stroke=\"black\" d=\"M2165.39,-286.85C2177,-287.15 2186.6,-284.54 2186.6,-279 2186.6,-275.19 2182.06,-272.77 2175.45,-271.72\"/>\n<polygon fill=\"black\" stroke=\"black\" points=\"2175.57,-268.22 2165.39,-271.15 2175.17,-275.21 2175.57,-268.22\"/>\n<text text-anchor=\"middle\" x=\"2241.6\" y=\"-275.3\" font-family=\"Times New Roman,serif\" font-size=\"14.00\">rdfs:subPropertyOf</text>\n</g>\n<!-- 10 -->\n<g id=\"node11\" class=\"node\">\n<title>10</title>\n<ellipse fill=\"none\" stroke=\"black\" cx=\"1697.8\" cy=\"-192\" rx=\"50.09\" ry=\"18\"/>\n<text text-anchor=\"middle\" x=\"1697.8\" y=\"-188.3\" font-family=\"Times New Roman,serif\" font-size=\"14.00\">rdfs:Literal</text>\n</g>\n<!-- 4&#45;&gt;10 -->\n<g id=\"edge37\" class=\"edge\">\n<title>4&#45;&gt;10</title>\n<path fill=\"none\" stroke=\"black\" d=\"M2109.7,-266.83C2103.91,-264.6 2097.72,-262.5 2091.8,-261 2026.71,-244.52 2007.91,-254.8 1941.8,-243 1913.47,-237.94 1906.94,-234.07 1878.8,-228 1836.05,-218.78 1787.37,-209.43 1751.27,-202.72\"/>\n<polygon fill=\"black\" stroke=\"black\" points=\"1751.9,-199.28 1741.43,-200.9 1750.63,-206.16 1751.9,-199.28\"/>\n<text text-anchor=\"middle\" x=\"1969.8\" y=\"-231.8\" font-family=\"Times New Roman,serif\" font-size=\"14.00\">rdfs:range</text>\n</g>\n<!-- 4&#45;&gt;12 -->\n<g id=\"edge83\" class=\"edge\">\n<title>4&#45;&gt;12</title>\n<path fill=\"none\" stroke=\"black\" d=\"M2167.68,-274.37C2201.9,-270.68 2257.06,-264.94 2304.8,-261 2335.43,-258.47 2554.53,-258.95 2580.8,-243 2608.1,-226.43 2618.89,-200.31 2600.8,-174 2577.61,-140.26 2554.77,-149.86 2514.8,-141 2435.14,-123.34 2203.88,-112.77 2085.87,-108.38\"/>\n<polygon fill=\"black\" stroke=\"black\" points=\"2085.97,-104.88 2075.85,-108.01 2085.71,-111.88 2085.97,-104.88\"/>\n<text text-anchor=\"middle\" x=\"2631.8\" y=\"-188.3\" font-family=\"Times New Roman,serif\" font-size=\"14.00\">rdf:type</text>\n</g>\n<!-- 4&#45;&gt;13 -->\n<g id=\"edge11\" class=\"edge\">\n<title>4&#45;&gt;13</title>\n<path fill=\"none\" stroke=\"black\" d=\"M2109.77,-266.5C2103.98,-264.29 2097.77,-262.27 2091.8,-261 2003.49,-242.14 1770.44,-274.5 1685.8,-243 1675.72,-239.25 1676.92,-231.68 1666.8,-228 1602.98,-204.78 1123.61,-213.95 1055.8,-210 1011.27,-207.4 961.14,-203 922.85,-199.33\"/>\n<polygon fill=\"black\" stroke=\"black\" points=\"923.18,-195.84 912.89,-198.36 922.5,-202.81 923.18,-195.84\"/>\n<text text-anchor=\"middle\" x=\"1707.8\" y=\"-231.8\" font-family=\"Times New Roman,serif\" font-size=\"14.00\">rdf:type</text>\n</g>\n<!-- 4&#45;&gt;16 -->\n<g id=\"edge62\" class=\"edge\">\n<title>4&#45;&gt;16</title>\n<path fill=\"none\" stroke=\"black\" d=\"M2164,-269.62C2214.98,-254.98 2320.7,-224.62 2382.66,-206.82\"/>\n<polygon fill=\"black\" stroke=\"black\" points=\"2383.94,-210.1 2392.59,-203.97 2382.01,-203.37 2383.94,-210.1\"/>\n<text text-anchor=\"middle\" x=\"2334.3\" y=\"-231.8\" font-family=\"Times New Roman,serif\" font-size=\"14.00\">rdfs:domain</text>\n</g>\n<!-- 5&#45;&gt;12 -->\n<g id=\"edge49\" class=\"edge\">\n<title>5&#45;&gt;12</title>\n<path fill=\"none\" stroke=\"black\" d=\"M2014.8,-173.8C2014.8,-162.16 2014.8,-146.55 2014.8,-133.24\"/>\n<polygon fill=\"black\" stroke=\"black\" points=\"2018.3,-133.18 2014.8,-123.18 2011.3,-133.18 2018.3,-133.18\"/>\n<text text-anchor=\"middle\" x=\"2036.8\" y=\"-144.8\" font-family=\"Times New Roman,serif\" font-size=\"14.00\">rdf:type</text>\n</g>\n<!-- 6&#45;&gt;6 -->\n<g id=\"edge31\" class=\"edge\">\n<title>6&#45;&gt;6</title>\n<path fill=\"none\" stroke=\"black\" d=\"M2985.45,-199.86C2998.08,-199.67 3007.95,-197.04 3007.95,-192 3007.95,-188.45 3003.07,-186.1 2995.78,-184.95\"/>\n<polygon fill=\"black\" stroke=\"black\" points=\"2995.69,-181.44 2985.45,-184.14 2995.14,-188.41 2995.69,-181.44\"/>\n<text text-anchor=\"middle\" x=\"3053.95\" y=\"-188.3\" font-family=\"Times New Roman,serif\" font-size=\"14.00\">rdfs:subClassOf</text>\n</g>\n<!-- 6&#45;&gt;12 -->\n<g id=\"edge29\" class=\"edge\">\n<title>6&#45;&gt;12</title>\n<path fill=\"none\" stroke=\"black\" d=\"M2913.05,-178.57C2877.89,-164.46 2823.87,-143.1 2813.8,-141 2676.1,-112.3 2255.88,-107.11 2086.6,-106.19\"/>\n<polygon fill=\"black\" stroke=\"black\" points=\"2086.56,-102.69 2076.54,-106.14 2086.52,-109.69 2086.56,-102.69\"/>\n<text text-anchor=\"middle\" x=\"2901.8\" y=\"-144.8\" font-family=\"Times New Roman,serif\" font-size=\"14.00\">rdfs:subClassOf</text>\n</g>\n<!-- 6&#45;&gt;12 -->\n<g id=\"edge92\" class=\"edge\">\n<title>6&#45;&gt;12</title>\n<path fill=\"none\" stroke=\"black\" d=\"M2908.77,-180.28C2900.63,-178.01 2891.95,-175.77 2883.8,-174 2831.96,-162.75 2815.17,-175.43 2765.8,-156 2754.79,-151.67 2755.03,-144.76 2743.8,-141 2682.69,-120.53 2258.21,-110.49 2086.58,-107.23\"/>\n<polygon fill=\"black\" stroke=\"black\" points=\"2086.44,-103.73 2076.38,-107.04 2086.31,-110.73 2086.44,-103.73\"/>\n<text text-anchor=\"middle\" x=\"2787.8\" y=\"-144.8\" font-family=\"Times New Roman,serif\" font-size=\"14.00\">rdf:type</text>\n</g>\n<!-- 6&#45;&gt;19 -->\n<g id=\"edge86\" class=\"edge\">\n<title>6&#45;&gt;19</title>\n<path fill=\"none\" stroke=\"black\" d=\"M2951.51,-174.05C2954.95,-163.75 2957.01,-150.77 2950.8,-141 2920.53,-93.34 2889.81,-103.47 2835.8,-87 2727.51,-53.97 2389.28,-30.57 2253.78,-22.29\"/>\n<polygon fill=\"black\" stroke=\"black\" points=\"2253.8,-18.79 2243.61,-21.68 2253.38,-25.78 2253.8,-18.79\"/>\n<text text-anchor=\"middle\" x=\"2958.8\" y=\"-101.3\" font-family=\"Times New Roman,serif\" font-size=\"14.00\">rdf:type</text>\n</g>\n<!-- 7 -->\n<g id=\"node8\" class=\"node\">\n<title>7</title>\n<ellipse fill=\"none\" stroke=\"black\" cx=\"354.8\" cy=\"-279\" rx=\"53.89\" ry=\"18\"/>\n<text text-anchor=\"middle\" x=\"354.8\" y=\"-275.3\" font-family=\"Times New Roman,serif\" font-size=\"14.00\">rdfs:domain</text>\n</g>\n<!-- 7&#45;&gt;7 -->\n<g id=\"edge30\" class=\"edge\">\n<title>7&#45;&gt;7</title>\n<path fill=\"none\" stroke=\"black\" d=\"M403.56,-286.82C416.73,-286.4 426.75,-283.8 426.75,-279 426.75,-275.55 421.57,-273.23 413.77,-272.05\"/>\n<polygon fill=\"black\" stroke=\"black\" points=\"413.82,-268.54 403.56,-271.18 413.23,-275.52 413.82,-268.54\"/>\n<text text-anchor=\"middle\" x=\"481.75\" y=\"-275.3\" font-family=\"Times New Roman,serif\" font-size=\"14.00\">rdfs:subPropertyOf</text>\n</g>\n<!-- 7&#45;&gt;12 -->\n<g id=\"edge89\" class=\"edge\">\n<title>7&#45;&gt;12</title>\n<path fill=\"none\" stroke=\"black\" d=\"M353.26,-260.9C353.27,-250.02 355.28,-236.44 363.8,-228 528.49,-65.02 647.12,-162.63 877.8,-141 1290.74,-102.29 1396.6,-144.23 1810.8,-123 1856.35,-120.67 1907.5,-116.4 1947.18,-112.73\"/>\n<polygon fill=\"black\" stroke=\"black\" points=\"1947.64,-116.2 1957.28,-111.78 1946.99,-109.23 1947.64,-116.2\"/>\n<text text-anchor=\"middle\" x=\"449.8\" y=\"-188.3\" font-family=\"Times New Roman,serif\" font-size=\"14.00\">rdf:type</text>\n</g>\n<!-- 7&#45;&gt;13 -->\n<g id=\"edge56\" class=\"edge\">\n<title>7&#45;&gt;13</title>\n<path fill=\"none\" stroke=\"black\" d=\"M408.5,-276.26C456.19,-273.23 527.07,-265.03 584.8,-243 596.21,-238.65 596.37,-232.27 607.8,-228 668.84,-205.19 743.17,-197.03 795.42,-194.22\"/>\n<polygon fill=\"black\" stroke=\"black\" points=\"795.75,-197.71 805.57,-193.73 795.41,-190.72 795.75,-197.71\"/>\n<text text-anchor=\"middle\" x=\"641.3\" y=\"-231.8\" font-family=\"Times New Roman,serif\" font-size=\"14.00\">rdfs:domain</text>\n</g>\n<!-- 7&#45;&gt;13 -->\n<g id=\"edge59\" class=\"edge\">\n<title>7&#45;&gt;13</title>\n<path fill=\"none\" stroke=\"black\" d=\"M405.93,-273.09C439.06,-268.46 482.45,-259.64 517.8,-243 527.54,-238.42 526.85,-232.07 536.8,-228 582.32,-209.4 715.39,-199.92 796.14,-195.75\"/>\n<polygon fill=\"black\" stroke=\"black\" points=\"796.39,-199.25 806.2,-195.25 796.04,-192.26 796.39,-199.25\"/>\n<text text-anchor=\"middle\" x=\"558.8\" y=\"-231.8\" font-family=\"Times New Roman,serif\" font-size=\"14.00\">rdf:type</text>\n</g>\n<!-- 7&#45;&gt;19 -->\n<g id=\"edge13\" class=\"edge\">\n<title>7&#45;&gt;19</title>\n<path fill=\"none\" stroke=\"black\" d=\"M353.05,-260.93C352.54,-255.23 352.05,-248.85 351.8,-243 350.38,-209.59 354.43,-193.21 381.8,-174 580.06,-34.84 679.55,-117.78 919.8,-87 1387.76,-27.04 1958.73,-19.77 2139.26,-19.03\"/>\n<polygon fill=\"black\" stroke=\"black\" points=\"2139.34,-22.53 2149.32,-18.99 2139.31,-15.53 2139.34,-22.53\"/>\n<text text-anchor=\"middle\" x=\"458.8\" y=\"-144.8\" font-family=\"Times New Roman,serif\" font-size=\"14.00\">rdfs:range</text>\n</g>\n<!-- 8 -->\n<g id=\"node9\" class=\"node\">\n<title>8</title>\n<ellipse fill=\"none\" stroke=\"black\" cx=\"1132.8\" cy=\"-279\" rx=\"81.79\" ry=\"18\"/>\n<text text-anchor=\"middle\" x=\"1132.8\" y=\"-275.3\" font-family=\"Times New Roman,serif\" font-size=\"14.00\">rdfs:subPropertyOf</text>\n</g>\n<!-- 8&#45;&gt;8 -->\n<g id=\"edge25\" class=\"edge\">\n<title>8&#45;&gt;8</title>\n<path fill=\"none\" stroke=\"black\" d=\"M1207.3,-286.55C1222.13,-285.7 1232.7,-283.18 1232.7,-279 1232.7,-275.86 1226.75,-273.66 1217.52,-272.4\"/>\n<polygon fill=\"black\" stroke=\"black\" points=\"1217.58,-268.89 1207.3,-271.45 1216.93,-275.86 1217.58,-268.89\"/>\n<text text-anchor=\"middle\" x=\"1287.7\" y=\"-275.3\" font-family=\"Times New Roman,serif\" font-size=\"14.00\">rdfs:subPropertyOf</text>\n</g>\n<!-- 8&#45;&gt;12 -->\n<g id=\"edge60\" class=\"edge\">\n<title>8&#45;&gt;12</title>\n<path fill=\"none\" stroke=\"black\" d=\"M1180,-264.26C1198.33,-258.41 1219.31,-251.07 1237.8,-243 1324.21,-205.27 1333.04,-166.51 1423.8,-141 1506.69,-117.7 1724.89,-128.58 1810.8,-123 1856.15,-120.06 1907.1,-115.81 1946.73,-112.3\"/>\n<polygon fill=\"black\" stroke=\"black\" points=\"1947.16,-115.78 1956.81,-111.4 1946.54,-108.8 1947.16,-115.78\"/>\n<text text-anchor=\"middle\" x=\"1369.8\" y=\"-188.3\" font-family=\"Times New Roman,serif\" font-size=\"14.00\">rdf:type</text>\n</g>\n<!-- 8&#45;&gt;13 -->\n<g id=\"edge26\" class=\"edge\">\n<title>8&#45;&gt;13</title>\n<path fill=\"none\" stroke=\"black\" d=\"M1087.58,-263.87C1038.3,-248.47 959.74,-223.92 909.23,-208.13\"/>\n<polygon fill=\"black\" stroke=\"black\" points=\"910.11,-204.74 899.52,-205.1 908.02,-211.42 910.11,-204.74\"/>\n<text text-anchor=\"middle\" x=\"1035.8\" y=\"-231.8\" font-family=\"Times New Roman,serif\" font-size=\"14.00\">rdf:type</text>\n</g>\n<!-- 9 -->\n<g id=\"node10\" class=\"node\">\n<title>9</title>\n<ellipse fill=\"none\" stroke=\"black\" cx=\"860.8\" cy=\"-279\" rx=\"44.39\" ry=\"18\"/>\n<text text-anchor=\"middle\" x=\"860.8\" y=\"-275.3\" font-family=\"Times New Roman,serif\" font-size=\"14.00\">rdfs:label</text>\n</g>\n<!-- 9&#45;&gt;9 -->\n<g id=\"edge36\" class=\"edge\">\n<title>9&#45;&gt;9</title>\n<path fill=\"none\" stroke=\"black\" d=\"M900.58,-286.87C913.11,-286.75 923,-284.13 923,-279 923,-275.4 918.11,-273.03 910.86,-271.9\"/>\n<polygon fill=\"black\" stroke=\"black\" points=\"910.82,-268.39 900.58,-271.13 910.29,-275.37 910.82,-268.39\"/>\n<text text-anchor=\"middle\" x=\"978\" y=\"-275.3\" font-family=\"Times New Roman,serif\" font-size=\"14.00\">rdfs:subPropertyOf</text>\n</g>\n<!-- 9&#45;&gt;12 -->\n<g id=\"edge50\" class=\"edge\">\n<title>9&#45;&gt;12</title>\n<path fill=\"none\" stroke=\"black\" d=\"M904.08,-274.78C951.04,-270.52 1027.85,-261.3 1091.8,-243 1166.26,-221.69 1178.56,-199.14 1251.8,-174 1487.76,-93 1561.81,-138.56 1810.8,-123 1856.16,-120.17 1907.1,-115.92 1946.73,-112.38\"/>\n<polygon fill=\"black\" stroke=\"black\" points=\"1947.17,-115.86 1956.82,-111.48 1946.54,-108.89 1947.17,-115.86\"/>\n<text text-anchor=\"middle\" x=\"1273.8\" y=\"-188.3\" font-family=\"Times New Roman,serif\" font-size=\"14.00\">rdf:type</text>\n</g>\n<!-- 9&#45;&gt;13 -->\n<g id=\"edge17\" class=\"edge\">\n<title>9&#45;&gt;13</title>\n<path fill=\"none\" stroke=\"black\" d=\"M860.8,-260.8C860.8,-249.16 860.8,-233.55 860.8,-220.24\"/>\n<polygon fill=\"black\" stroke=\"black\" points=\"864.3,-220.18 860.8,-210.18 857.3,-220.18 864.3,-220.18\"/>\n<text text-anchor=\"middle\" x=\"882.8\" y=\"-231.8\" font-family=\"Times New Roman,serif\" font-size=\"14.00\">rdf:type</text>\n</g>\n<!-- 10&#45;&gt;10 -->\n<g id=\"edge20\" class=\"edge\">\n<title>10&#45;&gt;10</title>\n<path fill=\"none\" stroke=\"black\" d=\"M1742.96,-199.84C1755.88,-199.54 1765.85,-196.92 1765.85,-192 1765.85,-188.46 1760.7,-186.12 1753,-184.96\"/>\n<polygon fill=\"black\" stroke=\"black\" points=\"1753.2,-181.47 1742.96,-184.16 1752.64,-188.45 1753.2,-181.47\"/>\n<text text-anchor=\"middle\" x=\"1811.85\" y=\"-188.3\" font-family=\"Times New Roman,serif\" font-size=\"14.00\">rdfs:subClassOf</text>\n</g>\n<!-- 10&#45;&gt;12 -->\n<g id=\"edge5\" class=\"edge\">\n<title>10&#45;&gt;12</title>\n<path fill=\"none\" stroke=\"black\" d=\"M1699.04,-173.99C1700.79,-162.86 1704.96,-148.95 1714.8,-141 1748.72,-113.6 1865.15,-107.03 1942.59,-105.79\"/>\n<polygon fill=\"black\" stroke=\"black\" points=\"1942.82,-109.28 1952.77,-105.65 1942.73,-102.29 1942.82,-109.28\"/>\n<text text-anchor=\"middle\" x=\"1736.8\" y=\"-144.8\" font-family=\"Times New Roman,serif\" font-size=\"14.00\">rdf:type</text>\n</g>\n<!-- 10&#45;&gt;12 -->\n<g id=\"edge38\" class=\"edge\">\n<title>10&#45;&gt;12</title>\n<path fill=\"none\" stroke=\"black\" d=\"M1722.98,-176.42C1747.16,-162.51 1781,-143.33 1787.8,-141 1838.66,-123.58 1898.9,-114.8 1944.54,-110.39\"/>\n<polygon fill=\"black\" stroke=\"black\" points=\"1945,-113.87 1954.63,-109.47 1944.36,-106.89 1945,-113.87\"/>\n<text text-anchor=\"middle\" x=\"1833.8\" y=\"-144.8\" font-family=\"Times New Roman,serif\" font-size=\"14.00\">rdfs:subClassOf</text>\n</g>\n<!-- 10&#45;&gt;19 -->\n<g id=\"edge2\" class=\"edge\">\n<title>10&#45;&gt;19</title>\n<path fill=\"none\" stroke=\"black\" d=\"M1694.23,-173.95C1693.03,-163.36 1693.51,-150.09 1700.8,-141 1789.05,-31.08 1868.54,-86.07 2005.8,-54 2052.06,-43.19 2105.26,-33.68 2143.75,-27.31\"/>\n<polygon fill=\"black\" stroke=\"black\" points=\"2144.4,-30.75 2153.7,-25.68 2143.27,-23.84 2144.4,-30.75\"/>\n<text text-anchor=\"middle\" x=\"1784.8\" y=\"-101.3\" font-family=\"Times New Roman,serif\" font-size=\"14.00\">rdf:type</text>\n</g>\n<!-- 11&#45;&gt;10 -->\n<g id=\"edge80\" class=\"edge\">\n<title>11&#45;&gt;10</title>\n<path fill=\"none\" stroke=\"black\" d=\"M1724.73,-260.82C1732.38,-251.35 1738.57,-239.27 1733.8,-228 1732,-223.73 1729.39,-219.72 1726.39,-216.05\"/>\n<polygon fill=\"black\" stroke=\"black\" points=\"1728.76,-213.47 1719.36,-208.59 1723.67,-218.27 1728.76,-213.47\"/>\n<text text-anchor=\"middle\" x=\"1757.8\" y=\"-231.8\" font-family=\"Times New Roman,serif\" font-size=\"14.00\">rdf:type</text>\n</g>\n<!-- 11&#45;&gt;12 -->\n<g id=\"edge9\" class=\"edge\">\n<title>11&#45;&gt;12</title>\n<path fill=\"none\" stroke=\"black\" d=\"M1627.2,-260.92C1618.08,-256.3 1609.63,-250.44 1602.8,-243 1581.94,-220.24 1576.5,-198.86 1594.8,-174 1635,-119.39 1833.52,-108.14 1942.63,-106.14\"/>\n<polygon fill=\"black\" stroke=\"black\" points=\"1942.96,-109.63 1952.9,-105.97 1942.85,-102.63 1942.96,-109.63\"/>\n<text text-anchor=\"middle\" x=\"1616.8\" y=\"-188.3\" font-family=\"Times New Roman,serif\" font-size=\"14.00\">rdf:type</text>\n</g>\n<!-- 12&#45;&gt;12 -->\n<g id=\"edge44\" class=\"edge\">\n<title>12&#45;&gt;12</title>\n<path fill=\"none\" stroke=\"black\" d=\"M2075.31,-108.74C2086.6,-108.28 2094.55,-107.03 2094.55,-105 2094.55,-103.67 2091.13,-102.67 2085.58,-102.02\"/>\n<polygon fill=\"black\" stroke=\"black\" points=\"2085.54,-98.5 2075.31,-101.26 2085.03,-105.49 2085.54,-98.5\"/>\n<text text-anchor=\"middle\" x=\"2116.55\" y=\"-101.3\" font-family=\"Times New Roman,serif\" font-size=\"14.00\">rdf:type</text>\n</g>\n<!-- 12&#45;&gt;12 -->\n<g id=\"edge76\" class=\"edge\">\n<title>12&#45;&gt;12</title>\n<path fill=\"none\" stroke=\"black\" d=\"M2071.2,-112.51C2104.91,-113.88 2138.55,-111.38 2138.55,-105 2138.55,-99.27 2111.4,-96.67 2081.44,-97.19\"/>\n<polygon fill=\"black\" stroke=\"black\" points=\"2081.1,-93.7 2071.2,-97.49 2081.3,-100.7 2081.1,-93.7\"/>\n<text text-anchor=\"middle\" x=\"2184.55\" y=\"-101.3\" font-family=\"Times New Roman,serif\" font-size=\"14.00\">rdfs:subClassOf</text>\n</g>\n<!-- 12&#45;&gt;19 -->\n<g id=\"edge34\" class=\"edge\">\n<title>12&#45;&gt;19</title>\n<path fill=\"none\" stroke=\"black\" d=\"M2070.78,-97.21C2110.32,-91.42 2158.96,-81.97 2174.8,-69 2181.98,-63.13 2186.88,-54.45 2190.2,-45.97\"/>\n<polygon fill=\"black\" stroke=\"black\" points=\"2193.59,-46.87 2193.41,-36.27 2186.95,-44.67 2193.59,-46.87\"/>\n<text text-anchor=\"middle\" x=\"2208.8\" y=\"-57.8\" font-family=\"Times New Roman,serif\" font-size=\"14.00\">rdf:type</text>\n</g>\n<!-- 13&#45;&gt;12 -->\n<g id=\"edge71\" class=\"edge\">\n<title>13&#45;&gt;12</title>\n<path fill=\"none\" stroke=\"black\" d=\"M868.46,-173.83C874.6,-162.31 884.41,-148.02 897.8,-141 899.26,-140.24 1697.26,-115.73 1943.39,-108.19\"/>\n<polygon fill=\"black\" stroke=\"black\" points=\"1943.76,-111.68 1953.65,-107.87 1943.55,-104.68 1943.76,-111.68\"/>\n<text text-anchor=\"middle\" x=\"943.8\" y=\"-144.8\" font-family=\"Times New Roman,serif\" font-size=\"14.00\">rdfs:subClassOf</text>\n</g>\n<!-- 13&#45;&gt;12 -->\n<g id=\"edge84\" class=\"edge\">\n<title>13&#45;&gt;12</title>\n<path fill=\"none\" stroke=\"black\" d=\"M905.38,-181.22C930.56,-175.13 962.38,-166.46 989.8,-156 1003.73,-150.69 1005.36,-144.68 1019.8,-141 1042.17,-135.3 1719.86,-114.75 1943.78,-108.09\"/>\n<polygon fill=\"black\" stroke=\"black\" points=\"1943.89,-111.59 1953.78,-107.8 1943.68,-104.6 1943.89,-111.59\"/>\n<text text-anchor=\"middle\" x=\"1041.8\" y=\"-144.8\" font-family=\"Times New Roman,serif\" font-size=\"14.00\">rdf:type</text>\n</g>\n<!-- 13&#45;&gt;13 -->\n<g id=\"edge88\" class=\"edge\">\n<title>13&#45;&gt;13</title>\n<path fill=\"none\" stroke=\"black\" d=\"M910.79,-199.81C924.02,-199.36 934.05,-196.76 934.05,-192 934.05,-188.54 928.76,-186.22 920.79,-185.04\"/>\n<polygon fill=\"black\" stroke=\"black\" points=\"921.05,-181.55 910.79,-184.19 920.45,-188.53 921.05,-181.55\"/>\n<text text-anchor=\"middle\" x=\"980.05\" y=\"-188.3\" font-family=\"Times New Roman,serif\" font-size=\"14.00\">rdfs:subClassOf</text>\n</g>\n<!-- 13&#45;&gt;19 -->\n<g id=\"edge79\" class=\"edge\">\n<title>13&#45;&gt;19</title>\n<path fill=\"none\" stroke=\"black\" d=\"M861.98,-173.92C863.71,-162.75 867.87,-148.83 877.8,-141 978.12,-61.91 1897.96,-28.2 2139.13,-20.68\"/>\n<polygon fill=\"black\" stroke=\"black\" points=\"2139.55,-24.17 2149.43,-20.36 2139.33,-17.17 2139.55,-24.17\"/>\n<text text-anchor=\"middle\" x=\"1113.8\" y=\"-101.3\" font-family=\"Times New Roman,serif\" font-size=\"14.00\">rdf:type</text>\n</g>\n<!-- 14 -->\n<g id=\"node15\" class=\"node\">\n<title>14</title>\n<ellipse fill=\"none\" stroke=\"black\" cx=\"3329.8\" cy=\"-279\" rx=\"70.39\" ry=\"18\"/>\n<text text-anchor=\"middle\" x=\"3329.8\" y=\"-275.3\" font-family=\"Times New Roman,serif\" font-size=\"14.00\">rdfs:subClassOf</text>\n</g>\n<!-- 14&#45;&gt;12 -->\n<g id=\"edge63\" class=\"edge\">\n<title>14&#45;&gt;12</title>\n<path fill=\"none\" stroke=\"black\" d=\"M3312.53,-261.33C3277.23,-227.73 3197.3,-153.94 3162.8,-141 3150.15,-136.26 2335.07,-114.43 2086.19,-107.87\"/>\n<polygon fill=\"black\" stroke=\"black\" points=\"2086.26,-104.37 2076.17,-107.61 2086.07,-111.37 2086.26,-104.37\"/>\n<text text-anchor=\"middle\" x=\"3278.8\" y=\"-188.3\" font-family=\"Times New Roman,serif\" font-size=\"14.00\">rdf:type</text>\n</g>\n<!-- 14&#45;&gt;13 -->\n<g id=\"edge28\" class=\"edge\">\n<title>14&#45;&gt;13</title>\n<path fill=\"none\" stroke=\"black\" d=\"M3269.98,-269.5C3183.14,-257.61 3017,-236.5 2874.8,-228 2067.76,-179.78 1863.34,-249.14 1055.8,-210 1011.09,-207.83 960.76,-203.39 922.44,-199.6\"/>\n<polygon fill=\"black\" stroke=\"black\" points=\"922.76,-196.11 912.46,-198.6 922.06,-203.08 922.76,-196.11\"/>\n<text text-anchor=\"middle\" x=\"3072.8\" y=\"-231.8\" font-family=\"Times New Roman,serif\" font-size=\"14.00\">rdf:type</text>\n</g>\n<!-- 14&#45;&gt;14 -->\n<g id=\"edge8\" class=\"edge\">\n<title>14&#45;&gt;14</title>\n<path fill=\"none\" stroke=\"black\" d=\"M3393.62,-286.66C3407.73,-285.94 3418,-283.39 3418,-279 3418,-275.74 3412.34,-273.5 3403.66,-272.26\"/>\n<polygon fill=\"black\" stroke=\"black\" points=\"3403.9,-268.77 3393.62,-271.34 3403.26,-275.74 3403.9,-268.77\"/>\n<text text-anchor=\"middle\" x=\"3473\" y=\"-275.3\" font-family=\"Times New Roman,serif\" font-size=\"14.00\">rdfs:subPropertyOf</text>\n</g>\n<!-- 14&#45;&gt;19 -->\n<g id=\"edge46\" class=\"edge\">\n<title>14&#45;&gt;19</title>\n<path fill=\"none\" stroke=\"black\" d=\"M3331.65,-260.94C3333.74,-232.48 3333.6,-175.09 3303.8,-141 3253.86,-83.86 3215.43,-105.42 3141.8,-87 3056.96,-65.78 3034.76,-63.39 2947.8,-54 2690.31,-26.2 2380.81,-20.47 2254.61,-19.3\"/>\n<polygon fill=\"black\" stroke=\"black\" points=\"2254.44,-15.8 2244.41,-19.21 2254.38,-22.8 2254.44,-15.8\"/>\n<text text-anchor=\"middle\" x=\"3347.3\" y=\"-144.8\" font-family=\"Times New Roman,serif\" font-size=\"14.00\">rdfs:domain</text>\n</g>\n<!-- 14&#45;&gt;19 -->\n<g id=\"edge75\" class=\"edge\">\n<title>14&#45;&gt;19</title>\n<path fill=\"none\" stroke=\"black\" d=\"M3346.51,-261.14C3371.36,-233.95 3412.35,-179.6 3384.8,-141 3341.94,-80.93 3299.4,-104.85 3227.8,-87 3136.98,-64.36 3112.94,-63.34 3019.8,-54 2733.42,-25.29 2388.67,-20.09 2254.32,-19.18\"/>\n<polygon fill=\"black\" stroke=\"black\" points=\"2254.28,-15.68 2244.26,-19.12 2254.24,-22.68 2254.28,-15.68\"/>\n<text text-anchor=\"middle\" x=\"3418.8\" y=\"-144.8\" font-family=\"Times New Roman,serif\" font-size=\"14.00\">rdfs:range</text>\n</g>\n<!-- 15 -->\n<g id=\"node16\" class=\"node\">\n<title>15</title>\n<ellipse fill=\"none\" stroke=\"black\" cx=\"2801.8\" cy=\"-453\" rx=\"57.69\" ry=\"18\"/>\n<text text-anchor=\"middle\" x=\"2801.8\" y=\"-449.3\" font-family=\"Times New Roman,serif\" font-size=\"14.00\">ex:createdBy</text>\n</g>\n<!-- 15&#45;&gt;6 -->\n<g id=\"edge69\" class=\"edge\">\n<title>15&#45;&gt;6</title>\n<path fill=\"none\" stroke=\"black\" d=\"M2857.46,-448.07C2908.44,-443.56 2985.65,-434.41 3050.8,-417 3088.76,-406.86 3100.8,-406.78 3132.8,-384 3191.15,-342.47 3198.61,-313.57 3210.8,-243 3211.94,-236.43 3215.2,-233.01 3210.8,-228 3183.95,-197.4 3070.03,-192.23 2999.96,-192.06\"/>\n<polygon fill=\"black\" stroke=\"black\" points=\"2999.95,-188.56 2989.95,-192.07 2999.96,-195.56 2999.95,-188.56\"/>\n<text text-anchor=\"middle\" x=\"3221.8\" y=\"-318.8\" font-family=\"Times New Roman,serif\" font-size=\"14.00\">rdfs:range</text>\n</g>\n<!-- 15&#45;&gt;12 -->\n<g id=\"edge42\" class=\"edge\">\n<title>15&#45;&gt;12</title>\n<path fill=\"none\" stroke=\"black\" d=\"M2744,-451.07C2352.57,-444.52 102.92,-402.31 7.8,-297 -2.92,-285.13 -2.16,-273.52 7.8,-261 70.56,-182.11 131.28,-235.49 228.8,-210 334.53,-182.37 356.73,-157.21 464.8,-141 612.72,-118.81 1661.41,-130.21 1810.8,-123 1856.36,-120.8 1907.5,-116.53 1947.19,-112.83\"/>\n<polygon fill=\"black\" stroke=\"black\" points=\"1947.65,-116.3 1957.28,-111.87 1946.99,-109.33 1947.65,-116.3\"/>\n<text text-anchor=\"middle\" x=\"29.8\" y=\"-275.3\" font-family=\"Times New Roman,serif\" font-size=\"14.00\">rdf:type</text>\n</g>\n<!-- 15&#45;&gt;13 -->\n<g id=\"edge14\" class=\"edge\">\n<title>15&#45;&gt;13</title>\n<path fill=\"none\" stroke=\"black\" d=\"M2744.65,-450.19C2404.6,-439.13 659.82,-378.51 583.8,-297 572.89,-285.3 573.65,-273.36 583.8,-261 609.98,-229.14 634.69,-252.52 674.8,-243 699.04,-237.25 704.77,-234.53 728.8,-228 755.35,-220.79 784.94,-212.93 809.37,-206.49\"/>\n<polygon fill=\"black\" stroke=\"black\" points=\"810.38,-209.84 819.16,-203.91 808.59,-203.07 810.38,-209.84\"/>\n<text text-anchor=\"middle\" x=\"722.8\" y=\"-318.8\" font-family=\"Times New Roman,serif\" font-size=\"14.00\">rdf:type</text>\n</g>\n<!-- 15&#45;&gt;15 -->\n<g id=\"edge47\" class=\"edge\">\n<title>15&#45;&gt;15</title>\n<path fill=\"none\" stroke=\"black\" d=\"M2854.27,-460.78C2867.62,-460.27 2877.65,-457.68 2877.65,-453 2877.65,-449.6 2872.36,-447.3 2864.34,-446.11\"/>\n<polygon fill=\"black\" stroke=\"black\" points=\"2864.53,-442.61 2854.27,-445.22 2863.92,-449.58 2864.53,-442.61\"/>\n<text text-anchor=\"middle\" x=\"2932.65\" y=\"-449.3\" font-family=\"Times New Roman,serif\" font-size=\"14.00\">rdfs:subPropertyOf</text>\n</g>\n<!-- 15&#45;&gt;16 -->\n<g id=\"edge64\" class=\"edge\">\n<title>15&#45;&gt;16</title>\n<path fill=\"none\" stroke=\"black\" d=\"M2801.44,-434.94C2799.72,-398.15 2790.54,-310.67 2742.8,-261 2726.15,-243.67 2714.1,-251.98 2691.8,-243 2676.86,-236.98 2674.25,-232.6 2658.8,-228 2602.96,-211.37 2536.95,-202.34 2490.36,-197.64\"/>\n<polygon fill=\"black\" stroke=\"black\" points=\"2490.43,-194.13 2480.14,-196.64 2489.75,-201.09 2490.43,-194.13\"/>\n<text text-anchor=\"middle\" x=\"2816.3\" y=\"-318.8\" font-family=\"Times New Roman,serif\" font-size=\"14.00\">rdfs:domain</text>\n</g>\n<!-- 20 -->\n<g id=\"node21\" class=\"node\">\n<title>20</title>\n<ellipse fill=\"none\" stroke=\"black\" cx=\"2932.8\" cy=\"-366\" rx=\"63.09\" ry=\"18\"/>\n<text text-anchor=\"middle\" x=\"2932.8\" y=\"-362.3\" font-family=\"Times New Roman,serif\" font-size=\"14.00\">ex:authoredBy</text>\n</g>\n<!-- 15&#45;&gt;20 -->\n<g id=\"edge48\" class=\"edge\">\n<title>15&#45;&gt;20</title>\n<path fill=\"none\" stroke=\"black\" d=\"M2802.54,-434.63C2803.9,-423.91 2807.34,-410.62 2815.8,-402 2828.78,-388.79 2846.52,-380.52 2864.26,-375.36\"/>\n<polygon fill=\"black\" stroke=\"black\" points=\"2865.29,-378.71 2874.09,-372.8 2863.53,-371.93 2865.29,-378.71\"/>\n<text text-anchor=\"middle\" x=\"2870.8\" y=\"-405.8\" font-family=\"Times New Roman,serif\" font-size=\"14.00\">rdfs:subPropertyOf</text>\n</g>\n<!-- 16&#45;&gt;12 -->\n<g id=\"edge18\" class=\"edge\">\n<title>16&#45;&gt;12</title>\n<path fill=\"none\" stroke=\"black\" d=\"M2426.47,-173.71C2422.7,-162.46 2416.02,-148.52 2404.8,-141 2379.02,-123.72 2191.46,-113.28 2086.13,-108.72\"/>\n<polygon fill=\"black\" stroke=\"black\" points=\"2086.03,-105.21 2075.89,-108.28 2085.73,-112.2 2086.03,-105.21\"/>\n<text text-anchor=\"middle\" x=\"2464.8\" y=\"-144.8\" font-family=\"Times New Roman,serif\" font-size=\"14.00\">rdfs:subClassOf</text>\n</g>\n<!-- 16&#45;&gt;12 -->\n<g id=\"edge74\" class=\"edge\">\n<title>16&#45;&gt;12</title>\n<path fill=\"none\" stroke=\"black\" d=\"M2400.59,-177.53C2387.04,-171.28 2370.97,-163.57 2356.8,-156 2345.38,-149.89 2344.08,-145.14 2331.8,-141 2287.62,-126.1 2164.34,-115.66 2085.19,-110.25\"/>\n<polygon fill=\"black\" stroke=\"black\" points=\"2085.01,-106.73 2074.8,-109.56 2084.54,-113.72 2085.01,-106.73\"/>\n<text text-anchor=\"middle\" x=\"2378.8\" y=\"-144.8\" font-family=\"Times New Roman,serif\" font-size=\"14.00\">rdf:type</text>\n</g>\n<!-- 16&#45;&gt;16 -->\n<g id=\"edge90\" class=\"edge\">\n<title>16&#45;&gt;16</title>\n<path fill=\"none\" stroke=\"black\" d=\"M2476.71,-199.84C2489.6,-199.49 2499.5,-196.88 2499.5,-192 2499.5,-188.49 2494.39,-186.16 2486.73,-184.99\"/>\n<polygon fill=\"black\" stroke=\"black\" points=\"2486.97,-181.5 2476.71,-184.16 2486.39,-188.48 2486.97,-181.5\"/>\n<text text-anchor=\"middle\" x=\"2545.5\" y=\"-188.3\" font-family=\"Times New Roman,serif\" font-size=\"14.00\">rdfs:subClassOf</text>\n</g>\n<!-- 16&#45;&gt;19 -->\n<g id=\"edge73\" class=\"edge\">\n<title>16&#45;&gt;19</title>\n<path fill=\"none\" stroke=\"black\" d=\"M2478.73,-185.86C2511.87,-182.36 2557,-177.71 2596.8,-174 2620.56,-171.78 2794.65,-173.57 2810.8,-156 2815.32,-151.09 2815.03,-146.15 2810.8,-141 2740.51,-55.36 2392.69,-28.75 2254.02,-21.46\"/>\n<polygon fill=\"black\" stroke=\"black\" points=\"2254.17,-17.96 2244.01,-20.95 2253.81,-24.96 2254.17,-17.96\"/>\n<text text-anchor=\"middle\" x=\"2809.8\" y=\"-101.3\" font-family=\"Times New Roman,serif\" font-size=\"14.00\">rdf:type</text>\n</g>\n<!-- 17 -->\n<g id=\"node18\" class=\"node\">\n<title>17</title>\n<ellipse fill=\"none\" stroke=\"black\" cx=\"1898.8\" cy=\"-279\" rx=\"55.79\" ry=\"18\"/>\n<text text-anchor=\"middle\" x=\"1898.8\" y=\"-275.3\" font-family=\"Times New Roman,serif\" font-size=\"14.00\">ex:published</text>\n</g>\n<!-- 17&#45;&gt;10 -->\n<g id=\"edge24\" class=\"edge\">\n<title>17&#45;&gt;10</title>\n<path fill=\"none\" stroke=\"black\" d=\"M1867.16,-264C1844.11,-253.87 1812.1,-239.91 1783.8,-228 1769.44,-221.95 1753.66,-215.48 1739.58,-209.77\"/>\n<polygon fill=\"black\" stroke=\"black\" points=\"1740.72,-206.46 1730.14,-205.95 1738.1,-212.95 1740.72,-206.46\"/>\n<text text-anchor=\"middle\" x=\"1846.8\" y=\"-231.8\" font-family=\"Times New Roman,serif\" font-size=\"14.00\">rdfs:range</text>\n</g>\n<!-- 17&#45;&gt;12 -->\n<g id=\"edge27\" class=\"edge\">\n<title>17&#45;&gt;12</title>\n<path fill=\"none\" stroke=\"black\" d=\"M1894.79,-260.79C1890.7,-238.97 1886.95,-200.94 1902.8,-174 1916.74,-150.31 1942.48,-133.83 1965.77,-123.03\"/>\n<polygon fill=\"black\" stroke=\"black\" points=\"1967.47,-126.11 1975.22,-118.89 1964.66,-119.7 1967.47,-126.11\"/>\n<text text-anchor=\"middle\" x=\"1924.8\" y=\"-188.3\" font-family=\"Times New Roman,serif\" font-size=\"14.00\">rdf:type</text>\n</g>\n<!-- 17&#45;&gt;13 -->\n<g id=\"edge53\" class=\"edge\">\n<title>17&#45;&gt;13</title>\n<path fill=\"none\" stroke=\"black\" d=\"M1858.82,-266.4C1850.6,-264.34 1841.97,-262.4 1833.8,-261 1741.05,-245.03 1711.8,-273.63 1622.8,-243 1611.27,-239.03 1611.44,-231.67 1599.8,-228 1542.13,-209.81 1116.17,-213.63 1055.8,-210 1011.28,-207.32 961.14,-202.92 922.86,-199.27\"/>\n<polygon fill=\"black\" stroke=\"black\" points=\"923.18,-195.78 912.89,-198.31 922.51,-202.75 923.18,-195.78\"/>\n<text text-anchor=\"middle\" x=\"1644.8\" y=\"-231.8\" font-family=\"Times New Roman,serif\" font-size=\"14.00\">rdf:type</text>\n</g>\n<!-- 17&#45;&gt;16 -->\n<g id=\"edge6\" class=\"edge\">\n<title>17&#45;&gt;16</title>\n<path fill=\"none\" stroke=\"black\" d=\"M1945.83,-269.12C2004.1,-258.34 2106.51,-240.09 2194.8,-228 2270.52,-217.63 2290.62,-223.71 2365.8,-210 2371.33,-208.99 2377.07,-207.76 2382.76,-206.43\"/>\n<polygon fill=\"black\" stroke=\"black\" points=\"2383.99,-209.73 2392.87,-203.95 2382.32,-202.93 2383.99,-209.73\"/>\n<text text-anchor=\"middle\" x=\"2228.3\" y=\"-231.8\" font-family=\"Times New Roman,serif\" font-size=\"14.00\">rdfs:domain</text>\n</g>\n<!-- 17&#45;&gt;17 -->\n<g id=\"edge51\" class=\"edge\">\n<title>17&#45;&gt;17</title>\n<path fill=\"none\" stroke=\"black\" d=\"M1949.23,-286.81C1962.58,-286.36 1972.7,-283.76 1972.7,-279 1972.7,-275.54 1967.36,-273.22 1959.32,-272.04\"/>\n<polygon fill=\"black\" stroke=\"black\" points=\"1959.49,-268.55 1949.23,-271.19 1958.9,-275.52 1959.49,-268.55\"/>\n<text text-anchor=\"middle\" x=\"2027.7\" y=\"-275.3\" font-family=\"Times New Roman,serif\" font-size=\"14.00\">rdfs:subPropertyOf</text>\n</g>\n<!-- 18 -->\n<g id=\"node19\" class=\"node\">\n<title>18</title>\n<ellipse fill=\"none\" stroke=\"black\" cx=\"631.8\" cy=\"-279\" rx=\"38.99\" ry=\"18\"/>\n<text text-anchor=\"middle\" x=\"631.8\" y=\"-275.3\" font-family=\"Times New Roman,serif\" font-size=\"14.00\">rdf:type</text>\n</g>\n<!-- 18&#45;&gt;12 -->\n<g id=\"edge32\" class=\"edge\">\n<title>18&#45;&gt;12</title>\n<path fill=\"none\" stroke=\"black\" d=\"M669.55,-274.07C705.17,-270.43 760.08,-265 807.8,-261 864.19,-256.28 1010.87,-267.65 1061.8,-243 1099.18,-224.91 1088.45,-194.08 1124.8,-174 1251.99,-103.75 1652,-132.45 1810.8,-123 1856.33,-120.29 1907.48,-116.03 1947.17,-112.45\"/>\n<polygon fill=\"black\" stroke=\"black\" points=\"1947.62,-115.92 1957.26,-111.53 1946.99,-108.95 1947.62,-115.92\"/>\n<text text-anchor=\"middle\" x=\"1146.8\" y=\"-188.3\" font-family=\"Times New Roman,serif\" font-size=\"14.00\">rdf:type</text>\n</g>\n<!-- 18&#45;&gt;13 -->\n<g id=\"edge7\" class=\"edge\">\n<title>18&#45;&gt;13</title>\n<path fill=\"none\" stroke=\"black\" d=\"M661.27,-267.06C700.55,-252.48 770.41,-226.55 816.17,-209.57\"/>\n<polygon fill=\"black\" stroke=\"black\" points=\"817.67,-212.74 825.83,-205.98 815.24,-206.18 817.67,-212.74\"/>\n<text text-anchor=\"middle\" x=\"782.8\" y=\"-231.8\" font-family=\"Times New Roman,serif\" font-size=\"14.00\">rdf:type</text>\n</g>\n<!-- 18&#45;&gt;18 -->\n<g id=\"edge4\" class=\"edge\">\n<title>18&#45;&gt;18</title>\n<path fill=\"none\" stroke=\"black\" d=\"M667.15,-286.87C679.15,-286.92 688.8,-284.29 688.8,-279 688.8,-275.36 684.24,-272.99 677.49,-271.87\"/>\n<polygon fill=\"black\" stroke=\"black\" points=\"677.37,-268.35 667.15,-271.13 676.87,-275.33 677.37,-268.35\"/>\n<text text-anchor=\"middle\" x=\"743.8\" y=\"-275.3\" font-family=\"Times New Roman,serif\" font-size=\"14.00\">rdfs:subPropertyOf</text>\n</g>\n<!-- 19&#45;&gt;12 -->\n<g id=\"edge10\" class=\"edge\">\n<title>19&#45;&gt;12</title>\n<path fill=\"none\" stroke=\"black\" d=\"M2150.03,-21.53C2102.24,-25.21 2032.71,-33.93 2015.8,-54 2010.54,-60.26 2009.01,-68.68 2009.18,-76.83\"/>\n<polygon fill=\"black\" stroke=\"black\" points=\"2005.71,-77.21 2010.16,-86.82 2012.67,-76.53 2005.71,-77.21\"/>\n<text text-anchor=\"middle\" x=\"2061.8\" y=\"-57.8\" font-family=\"Times New Roman,serif\" font-size=\"14.00\">rdfs:subClassOf</text>\n</g>\n<!-- 19&#45;&gt;12 -->\n<g id=\"edge70\" class=\"edge\">\n<title>19&#45;&gt;12</title>\n<path fill=\"none\" stroke=\"black\" d=\"M2167.13,-32.18C2154.39,-38.26 2139.53,-45.91 2126.8,-54 2117.72,-59.77 2117.17,-63.71 2107.8,-69 2094.75,-76.38 2079.83,-82.78 2065.83,-88.02\"/>\n<polygon fill=\"black\" stroke=\"black\" points=\"2064.53,-84.77 2056.31,-91.46 2066.91,-91.35 2064.53,-84.77\"/>\n<text text-anchor=\"middle\" x=\"2148.8\" y=\"-57.8\" font-family=\"Times New Roman,serif\" font-size=\"14.00\">rdf:type</text>\n</g>\n<!-- 19&#45;&gt;19 -->\n<g id=\"edge3\" class=\"edge\">\n<title>19&#45;&gt;19</title>\n<path fill=\"none\" stroke=\"black\" d=\"M2243.28,-21.86C2254.19,-21.54 2262.25,-20.26 2262.25,-18 2262.25,-16.52 2258.78,-15.46 2253.31,-14.81\"/>\n<polygon fill=\"black\" stroke=\"black\" points=\"2253.49,-11.32 2243.28,-14.14 2253.02,-18.3 2253.49,-11.32\"/>\n<text text-anchor=\"middle\" x=\"2308.25\" y=\"-14.3\" font-family=\"Times New Roman,serif\" font-size=\"14.00\">rdfs:subClassOf</text>\n</g>\n<!-- 19&#45;&gt;19 -->\n<g id=\"edge65\" class=\"edge\">\n<title>19&#45;&gt;19</title>\n<path fill=\"none\" stroke=\"black\" d=\"M2241.25,-24.5C2289.09,-27.61 2354.25,-25.44 2354.25,-18 2354.25,-11.06 2297.69,-8.71 2251.28,-10.94\"/>\n<polygon fill=\"black\" stroke=\"black\" points=\"2251.04,-7.44 2241.25,-11.5 2251.43,-14.43 2251.04,-7.44\"/>\n<text text-anchor=\"middle\" x=\"2376.25\" y=\"-14.3\" font-family=\"Times New Roman,serif\" font-size=\"14.00\">rdf:type</text>\n</g>\n<!-- 20&#45;&gt;6 -->\n<g id=\"edge23\" class=\"edge\">\n<title>20&#45;&gt;6</title>\n<path fill=\"none\" stroke=\"black\" d=\"M2964.7,-350.45C2989.77,-338.18 3024.85,-319.11 3051.8,-297 3076.41,-276.82 3087.65,-272.8 3098.8,-243 3101.14,-236.76 3102.97,-233.21 3098.8,-228 3086.25,-212.29 3037.71,-203.12 2998.26,-198.14\"/>\n<polygon fill=\"black\" stroke=\"black\" points=\"2998.53,-194.65 2988.19,-196.93 2997.7,-201.6 2998.53,-194.65\"/>\n<text text-anchor=\"middle\" x=\"3118.8\" y=\"-275.3\" font-family=\"Times New Roman,serif\" font-size=\"14.00\">rdfs:range</text>\n</g>\n<!-- 20&#45;&gt;12 -->\n<g id=\"edge91\" class=\"edge\">\n<title>20&#45;&gt;12</title>\n<path fill=\"none\" stroke=\"black\" d=\"M2995.6,-364.34C3046.55,-360.07 3115.51,-344.98 3150.8,-297 3179.14,-258.48 3121.89,-184.24 3108.8,-174 3052.66,-130.05 3022.57,-149.7 2951.8,-141 2784.62,-120.46 2275.44,-110.26 2086.43,-107.1\"/>\n<polygon fill=\"black\" stroke=\"black\" points=\"2086.38,-103.6 2076.32,-106.93 2086.26,-110.6 2086.38,-103.6\"/>\n<text text-anchor=\"middle\" x=\"3175.8\" y=\"-231.8\" font-family=\"Times New Roman,serif\" font-size=\"14.00\">rdf:type</text>\n</g>\n<!-- 20&#45;&gt;13 -->\n<g id=\"edge61\" class=\"edge\">\n<title>20&#45;&gt;13</title>\n<path fill=\"none\" stroke=\"black\" d=\"M2870.46,-362.89C2594.91,-353.49 1496.8,-315.05 1425.8,-297 1390.36,-287.99 1386.8,-271.64 1351.8,-261 1272.86,-236.99 1036.68,-210.8 923.12,-199.16\"/>\n<polygon fill=\"black\" stroke=\"black\" points=\"923.16,-195.65 912.85,-198.11 922.45,-202.61 923.16,-195.65\"/>\n<text text-anchor=\"middle\" x=\"1447.8\" y=\"-275.3\" font-family=\"Times New Roman,serif\" font-size=\"14.00\">rdf:type</text>\n</g>\n<!-- 20&#45;&gt;15 -->\n<g id=\"edge40\" class=\"edge\">\n<title>20&#45;&gt;15</title>\n<path fill=\"none\" stroke=\"black\" d=\"M2936.41,-384.08C2937.63,-394.68 2937.15,-407.95 2929.8,-417 2920.91,-427.96 2891.2,-436.45 2862.64,-442.32\"/>\n<polygon fill=\"black\" stroke=\"black\" points=\"2861.76,-438.92 2852.62,-444.28 2863.11,-445.79 2861.76,-438.92\"/>\n<text text-anchor=\"middle\" x=\"2991.8\" y=\"-405.8\" font-family=\"Times New Roman,serif\" font-size=\"14.00\">rdfs:subPropertyOf</text>\n</g>\n<!-- 20&#45;&gt;20 -->\n<g id=\"edge41\" class=\"edge\">\n<title>20&#45;&gt;20</title>\n<path fill=\"none\" stroke=\"black\" d=\"M2989.98,-373.74C3003.69,-373.13 3013.85,-370.55 3013.85,-366 3013.85,-362.66 3008.37,-360.38 3000.03,-359.16\"/>\n<polygon fill=\"black\" stroke=\"black\" points=\"3000.25,-355.67 2989.98,-358.26 2999.63,-362.64 3000.25,-355.67\"/>\n<text text-anchor=\"middle\" x=\"3068.85\" y=\"-362.3\" font-family=\"Times New Roman,serif\" font-size=\"14.00\">rdfs:subPropertyOf</text>\n</g>\n<!-- 20&#45;&gt;21 -->\n<g id=\"edge22\" class=\"edge\">\n<title>20&#45;&gt;21</title>\n<path fill=\"none\" stroke=\"black\" d=\"M2913.88,-348.82C2899.29,-337.32 2878.07,-322.61 2856.8,-315 2853.53,-313.83 2667.52,-294.52 2576.25,-285.09\"/>\n<polygon fill=\"black\" stroke=\"black\" points=\"2576.44,-281.6 2566.13,-284.05 2575.72,-288.56 2576.44,-281.6\"/>\n<text text-anchor=\"middle\" x=\"2920.3\" y=\"-318.8\" font-family=\"Times New Roman,serif\" font-size=\"14.00\">rdfs:domain</text>\n</g>\n<!-- 21&#45;&gt;12 -->\n<g id=\"edge67\" class=\"edge\">\n<title>21&#45;&gt;12</title>\n<path fill=\"none\" stroke=\"black\" d=\"M2495.14,-267.24C2438.78,-248.09 2326.92,-210.07 2326.8,-210 2305.81,-197.86 2306.46,-186.71 2285.8,-174 2252.35,-153.41 2241.53,-151.96 2203.8,-141 2163.38,-129.25 2116.91,-120.58 2080.16,-114.81\"/>\n<polygon fill=\"black\" stroke=\"black\" points=\"2080.48,-111.32 2070.07,-113.26 2079.42,-118.24 2080.48,-111.32\"/>\n<text text-anchor=\"middle\" x=\"2348.8\" y=\"-188.3\" font-family=\"Times New Roman,serif\" font-size=\"14.00\">rdf:type</text>\n</g>\n<!-- 21&#45;&gt;12 -->\n<g id=\"edge85\" class=\"edge\">\n<title>21&#45;&gt;12</title>\n<path fill=\"none\" stroke=\"black\" d=\"M2496.35,-266.83C2489.95,-264.71 2483.2,-262.64 2476.8,-261 2461.12,-256.97 2203.18,-219.13 2189.8,-210 2174.32,-199.43 2181.9,-186.37 2167.8,-174 2139.19,-148.89 2099.82,-131.68 2068.18,-120.85\"/>\n<polygon fill=\"black\" stroke=\"black\" points=\"2069.22,-117.51 2058.63,-117.7 2067.02,-124.16 2069.22,-117.51\"/>\n<text text-anchor=\"middle\" x=\"2235.8\" y=\"-188.3\" font-family=\"Times New Roman,serif\" font-size=\"14.00\">rdfs:subClassOf</text>\n</g>\n<!-- 21&#45;&gt;16 -->\n<g id=\"edge68\" class=\"edge\">\n<title>21&#45;&gt;16</title>\n<path fill=\"none\" stroke=\"black\" d=\"M2509.2,-262.41C2494.5,-249.39 2473.34,-230.66 2456.71,-215.93\"/>\n<polygon fill=\"black\" stroke=\"black\" points=\"2458.76,-213.08 2448.95,-209.07 2454.12,-218.32 2458.76,-213.08\"/>\n<text text-anchor=\"middle\" x=\"2530.8\" y=\"-231.8\" font-family=\"Times New Roman,serif\" font-size=\"14.00\">rdfs:subClassOf</text>\n</g>\n<!-- 21&#45;&gt;19 -->\n<g id=\"edge87\" class=\"edge\">\n<title>21&#45;&gt;19</title>\n<path fill=\"none\" stroke=\"black\" d=\"M2565.53,-273.11C2597.06,-269.28 2642.74,-264.11 2682.8,-261 2725.61,-257.67 3028.75,-258.45 3068.8,-243 3101.88,-230.24 3125.16,-205.45 3108.8,-174 3077.75,-114.27 3047.67,-111.1 2984.8,-87 2851.11,-35.75 2412.3,-22.87 2254.21,-19.86\"/>\n<polygon fill=\"black\" stroke=\"black\" points=\"2254.28,-16.36 2244.21,-19.68 2254.15,-23.36 2254.28,-16.36\"/>\n<text text-anchor=\"middle\" x=\"3120.8\" y=\"-144.8\" font-family=\"Times New Roman,serif\" font-size=\"14.00\">rdf:type</text>\n</g>\n<!-- 21&#45;&gt;21 -->\n<g id=\"edge77\" class=\"edge\">\n<title>21&#45;&gt;21</title>\n<path fill=\"none\" stroke=\"black\" d=\"M2563.65,-286.88C2575.93,-286.88 2585.75,-284.25 2585.75,-279 2585.75,-275.31 2580.89,-272.91 2573.74,-271.82\"/>\n<polygon fill=\"black\" stroke=\"black\" points=\"2573.86,-268.32 2563.65,-271.12 2573.38,-275.3 2573.86,-268.32\"/>\n<text text-anchor=\"middle\" x=\"2631.75\" y=\"-275.3\" font-family=\"Times New Roman,serif\" font-size=\"14.00\">rdfs:subClassOf</text>\n</g>\n<!-- 22&#45;&gt;10 -->\n<g id=\"edge82\" class=\"edge\">\n<title>22&#45;&gt;10</title>\n<path fill=\"none\" stroke=\"black\" d=\"M1531.41,-260.67C1536.47,-249.69 1544.51,-236.09 1555.8,-228 1584.73,-207.29 1599.27,-218.57 1633.8,-210 1638.77,-208.77 1643.94,-207.45 1649.1,-206.12\"/>\n<polygon fill=\"black\" stroke=\"black\" points=\"1650.15,-209.46 1658.94,-203.54 1648.38,-202.69 1650.15,-209.46\"/>\n<text text-anchor=\"middle\" x=\"1577.8\" y=\"-231.8\" font-family=\"Times New Roman,serif\" font-size=\"14.00\">rdf:type</text>\n</g>\n<!-- 22&#45;&gt;12 -->\n<g id=\"edge12\" class=\"edge\">\n<title>22&#45;&gt;12</title>\n<path fill=\"none\" stroke=\"black\" d=\"M1521.69,-260.65C1518.71,-238.33 1517.05,-199.42 1535.8,-174 1557.91,-144.04 1576.69,-150.06 1612.8,-141 1725.7,-112.67 1861.38,-106.37 1942.72,-105.44\"/>\n<polygon fill=\"black\" stroke=\"black\" points=\"1942.88,-108.94 1952.85,-105.35 1942.82,-101.94 1942.88,-108.94\"/>\n<text text-anchor=\"middle\" x=\"1557.8\" y=\"-188.3\" font-family=\"Times New Roman,serif\" font-size=\"14.00\">rdf:type</text>\n</g>\n</g>\n</svg>\n",
      "text/plain": [
       "<graphviz.graphs.Digraph at 0x22501d38c10>"
      ]
     },
     "metadata": {},
     "output_type": "display_data"
    }
   ],
   "source": [
    "# This cell will compute the closure of the rdfs-entailment of your graph and draw it.\n",
    "%rdf graph entail-rdfs -l library\n",
    "%rdf graph draw -l library"
   ]
  },
  {
   "cell_type": "code",
   "execution_count": 41,
   "metadata": {
    "deletable": false,
    "editable": false,
    "nbgrader": {
     "cell_type": "code",
     "checksum": "5ed490f52a613fecc4af92d779e2ec6a",
     "grade": true,
     "grade_id": "cell-37dd9e59365f85a7",
     "locked": true,
     "points": 1,
     "schema_version": 3,
     "solution": false,
     "task": false
    }
   },
   "outputs": [
    {
     "name": "stdout",
     "output_type": "stream",
     "text": [
      "Graphman: Graph labelled 'library' has been entailed using the RDFS regime.\n"
     ]
    }
   ],
   "source": [
    "# This test will check whether the entailment closure of your graph contains\n",
    "# all necessary class and property definitions. [1 point]\n",
    "%rdf graph entail-rdfs -l library\n",
    "store = %rdf -r\n",
    "graph = store['rdfgraphs']['library']\n",
    "\n",
    "contain_check(graph, get_uri(ex, \"Medium\"), RDF.type, RDFS.Class)\n",
    "contain_check(graph, get_uri(ex, \"Book\"), RDF.type, RDFS.Class)\n",
    "contain_check(graph, get_uri(ex, \"Movie\"), RDF.type, RDFS.Class)\n",
    "contain_check(graph, get_uri(ex, \"Person\"), RDF.type, RDFS.Class)\n",
    "contain_check(graph, get_uri(ex, \"createdBy\"), RDF.type, RDF.Property)\n",
    "contain_check(graph, get_uri(ex, \"authoredBy\"), RDF.type, RDF.Property)\n",
    "contain_check(graph, get_uri(ex, \"title\"), RDF.type, RDF.Property)\n",
    "contain_check(graph, get_uri(ex, \"published\"), RDF.type, RDF.Property)"
   ]
  },
  {
   "cell_type": "code",
   "execution_count": 42,
   "metadata": {
    "deletable": false,
    "editable": false,
    "nbgrader": {
     "cell_type": "code",
     "checksum": "9d6945a330859f0fcdd7a5f35e785d17",
     "grade": true,
     "grade_id": "cell-324f82b1b688bdd8",
     "locked": true,
     "points": 1,
     "schema_version": 3,
     "solution": false,
     "task": false
    }
   },
   "outputs": [
    {
     "name": "stdout",
     "output_type": "stream",
     "text": [
      "Graphman: Graph labelled 'library' has been entailed using the RDFS regime.\n"
     ]
    }
   ],
   "source": [
    "# This test will check whether the entailment closure of your graph contains\n",
    "# all necessary subclass and subproperty definitions. [1 point]\n",
    "%rdf graph entail-rdfs -l library\n",
    "store = %rdf -r\n",
    "graph = store['rdfgraphs']['library']\n",
    "\n",
    "contain_check(graph, get_uri(ex, \"Book\"), RDFS.subClassOf, get_uri(ex, \"Medium\"))\n",
    "contain_check(graph, get_uri(ex, \"Movie\"), RDFS.subClassOf, get_uri(ex, \"Medium\"))\n",
    "contain_check(graph, get_uri(ex, \"createdBy\"), RDFS.subPropertyOf, get_uri(ex, \"authoredBy\"))\n",
    "contain_check(graph, get_uri(ex, \"authoredBy\"), RDFS.subPropertyOf, get_uri(ex, \"createdBy\"))"
   ]
  },
  {
   "cell_type": "code",
   "execution_count": 43,
   "metadata": {
    "deletable": false,
    "editable": false,
    "nbgrader": {
     "cell_type": "code",
     "checksum": "da72dc2a4daaa4f27f6d061981c09796",
     "grade": true,
     "grade_id": "cell-3a66804cfcbe5d62",
     "locked": true,
     "points": 1,
     "schema_version": 3,
     "solution": false,
     "task": false
    }
   },
   "outputs": [
    {
     "name": "stdout",
     "output_type": "stream",
     "text": [
      "Graphman: Graph labelled 'library' has been entailed using the RDFS regime.\n"
     ]
    }
   ],
   "source": [
    "# This test will check whether the entailment closure of your graph contains\n",
    "# all necessary range and domain definitions. [1 point]\n",
    "%rdf graph entail-rdfs -l library\n",
    "store = %rdf -r\n",
    "\n",
    "graph = store['rdfgraphs']['library']\n",
    "\n",
    "contain_check(graph, get_uri(ex, \"createdBy\"), RDFS.domain, get_uri(ex, \"Medium\"))\n",
    "contain_check(graph, get_uri(ex, \"createdBy\"), RDFS.range, get_uri(ex, \"Person\"))\n",
    "contain_check(graph, get_uri(ex, \"authoredBy\"), RDFS.domain, get_uri(ex, \"Book\"))\n",
    "contain_check(graph, get_uri(ex, \"authoredBy\"), RDFS.range, get_uri(ex, \"Person\"))\n",
    "contain_check(graph, get_uri(ex, \"title\"), RDFS.domain, get_uri(ex, \"Medium\"))\n",
    "contain_check(graph, get_uri(ex, \"title\"), RDFS.range, RDFS.Literal)\n",
    "contain_check(graph, get_uri(ex, \"published\"), RDFS.domain, get_uri(ex, \"Medium\"))\n",
    "contain_check(graph, get_uri(ex, \"published\"), RDFS.range, RDFS.Literal)"
   ]
  },
  {
   "cell_type": "code",
   "execution_count": 45,
   "metadata": {
    "deletable": false,
    "editable": false,
    "nbgrader": {
     "cell_type": "code",
     "checksum": "dba4e3c7dc8db02e4e86ae50d2fc66c3",
     "grade": true,
     "grade_id": "cell-1deb9b6a3345d701",
     "locked": true,
     "points": 1,
     "schema_version": 3,
     "solution": false,
     "task": false
    }
   },
   "outputs": [
    {
     "name": "stdout",
     "output_type": "stream",
     "text": [
      "Graphman: Graph labelled 'library' has been entailed using the RDFS regime.\n"
     ]
    }
   ],
   "source": [
    "# This test will check whether the entailment closure of your graph contains\n",
    "# all specified facts. [1 point]\n",
    "%rdf graph entail-rdfs -l library\n",
    "from turtle import title\n",
    "\n",
    "\n",
    "store = %rdf -r\n",
    "graph = store['rdfgraphs']['library']\n",
    "\n",
    "contain_check(graph, get_uri(ex, \"DouglasAdams\"), RDF.type, get_uri(ex, \"Person\"))\n",
    "contain_check(graph, get_uri(ex, \"DouglasAdams\"), RDFS.label, Literal(\"Douglas Adams\"))\n",
    "contain_check(graph, get_uri(ex, \"HitchhikersGuide\"), RDF.type, get_uri(ex, \"Book\"))\n",
    "contain_check(graph, get_uri(ex, \"HitchhikersGuide\"), get_uri(ex, \"title\"), Literal(\"The Hitchhiker's Guide to the Galaxy\"))\n",
    "contain_check(graph, get_uri(ex, \"HitchhikersGuide\"), get_uri(ex, \"authoredBy\"), get_uri(ex, \"DouglasAdams\"))\n",
    "contain_check(graph, get_uri(ex, \"HitchhikersGuide\"), get_uri(ex, \"published\"), Literal(\"1979-10-12\"))"
   ]
  },
  {
   "cell_type": "markdown",
   "metadata": {
    "deletable": false,
    "editable": false,
    "nbgrader": {
     "cell_type": "markdown",
     "checksum": "3e97ad7a0d07adae2cd320a3dc8bc1bc",
     "grade": false,
     "grade_id": "cell-a5cd7e400e7f49d8",
     "locked": true,
     "schema_version": 3,
     "solution": false,
     "task": false
    }
   },
   "source": [
    "## Other Vocabularies/Ontologies\n",
    "\n",
    "We looked at the RDF and RDFS vocabularies which are both very basic, domain-independent vocabularies. There are countless more domain specific vocabularies which provide classes, properties or even individuals with agreed upon meaning. We can use these vocabularies to make our graphs easier to interpret by humans and machines. For example, above we defined the properties creator and publish date. These properties are very general and thus often used. If everyone defined their own properties, we would have many properties with the same meaning. Instead if everyone agreed to use a specific URI for specifying e.g. the creator of a resource, it would be a lot easier to work on multiple graphs with different origin. An example for such a vocabulary is the well known Dublin Core(TM) vocabulary. This vocabulary defines 15 core properties to describe resources like creator, date, title, description, format and similar. "
   ]
  }
 ],
 "metadata": {
  "kernelspec": {
   "display_name": "Python 3.10.3 ('venv': venv)",
   "language": "python",
   "name": "python3"
  },
  "language_info": {
   "codemirror_mode": {
    "name": "ipython",
    "version": 3
   },
   "file_extension": ".py",
   "mimetype": "text/x-python",
   "name": "python",
   "nbconvert_exporter": "python",
   "pygments_lexer": "ipython3",
   "version": "3.9.13"
  },
  "vscode": {
   "interpreter": {
    "hash": "236d1e2f9dc49a72c901b5b1642c7cbd857213a1eb29334698947e241dc8edf0"
   }
  }
 },
 "nbformat": 4,
 "nbformat_minor": 4
}
