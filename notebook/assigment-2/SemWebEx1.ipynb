{
 "cells": [
  {
   "cell_type": "code",
   "execution_count": 1,
   "metadata": {
    "deletable": false,
    "editable": false,
    "nbgrader": {
     "cell_type": "code",
     "checksum": "73c565738f463863ec6757fecc9af9bf",
     "grade": false,
     "grade_id": "cell-da806457bddca4c8",
     "locked": true,
     "schema_version": 3,
     "solution": false,
     "task": false
    }
   },
   "outputs": [
    {
     "data": {
      "application/javascript": "\n    if (typeof IPython !== \"undefined\") {\n        IPython.CodeCell.options_default.highlight_modes['application/sparql-query'] = {'reg':[/^%%rdf sparql/]};\n        IPython.CodeCell.options_default.highlight_modes['text/turtle'] = {'reg':[/^%%rdf turtle/, /^%%rdf shex/]};\n        IPython.CodeCell.options_default.highlight_modes['application/ld+json'] = {'reg':[/^%%rdf json-ld/]};\n        IPython.notebook.get_cells().map(function(cell){ if (cell.cell_type == 'code'){ cell.auto_highlight(); } });\n    }\n    "
     },
     "metadata": {},
     "output_type": "display_data"
    }
   ],
   "source": [
    "%reload_ext jupyter-rdfify"
   ]
  },
  {
   "cell_type": "markdown",
   "metadata": {
    "deletable": false,
    "editable": false,
    "nbgrader": {
     "cell_type": "markdown",
     "checksum": "747a7aa1da3e923b1e595bd9a2561c87",
     "grade": false,
     "grade_id": "cell-147e9d5d78c18ec7",
     "locked": true,
     "schema_version": 3,
     "solution": false,
     "task": false
    }
   },
   "source": [
    "**A small reminder that these assignments will be graded automatically. Please read the tasks carefully and be as pedantic as possible. Run your answers to check if your code parses correctly. Typing errors will lead to point loss. Do not change code that is already given as this may break the unit tests and lead to 0 points. Do not use comments in your code.**"
   ]
  },
  {
   "cell_type": "markdown",
   "metadata": {
    "deletable": false,
    "editable": false,
    "nbgrader": {
     "cell_type": "markdown",
     "checksum": "36191cdbb140b5ac7301deda4207ab36",
     "grade": false,
     "grade_id": "cell-baccffb6bb4a152d",
     "locked": true,
     "schema_version": 3,
     "solution": false,
     "task": false
    }
   },
   "source": [
    "# Turtle\n",
    "*Turtle* stands for **Terse RDF Triple Language** and is a [W3C recommended](https://www.w3.org/TR/turtle/) syntax and file format for serializing RDF Graphs. To serialize an RDF triple of the form *(Subject, Predicate, Object)* in Turtle, you just write them in that sequence, followed by a period. In this example you would write:\n",
    "\n",
    "**Subject Predicate Object .**\n",
    "\n",
    "Please note the period after a triple.\n",
    "\n",
    "In turtle, URIs are encased in angled brackets (&lt; &gt;). The RDF triple *(http://example.org/#Germany, http://example.org/#capital, http://example.org/#Berlin)* is serialized like this:\n",
    "\n",
    "**&lt;http://example.org/#Germany&gt; &lt;http://example.org/#capital&gt; &lt;http://example.org/#Berlin&gt; .**\n",
    "\n",
    "**Because of its very simple syntax, Turtle is intuitive and human-readable.**\n",
    "\n",
    "### Syntactic sugar:\n",
    "Because subjects or subject-predicate-combinations often repeat in the same graph, Turtle introduces some syntactic sugar.\n",
    "To repeat a subject, one can use a semicolon instead of a period after a triple. To express that germany has the capital Berlin and the state Bavaria, one would write the following:\n",
    "\n",
    "**&lt;http://example.org/#Germany&gt; &lt;http://example.org/#capital&gt; &lt;http://example.org/#Berlin&gt; ;  \n",
    "&nbsp;&nbsp;&nbsp;&nbsp;&lt;http://example.org/#state&gt; &lt;http://example.org/#Bavaria&gt; .**\n",
    "\n",
    "To repeat a subject-predicate-combination, one can use a comma instead of a period after the triple. To express that germany has the state Berlin and the state Bavaria, one would write the following:\n",
    "\n",
    "**&lt;http://example.org/#Germany&gt; &lt;http://example.org/#state&gt; &lt;http://example.org/#Berlin&gt; ,  \n",
    "&nbsp;&nbsp;&nbsp;&nbsp;&lt;http://example.org/#Bavaria&gt; .**\n",
    "\n",
    "Both of these can be chained to repeat the same subject/subject-predicate-combination over and over.\n",
    "\n",
    "**You are allowed and even encouraged to use syntactic sugar throughout all our assignments.**\n",
    "    "
   ]
  },
  {
   "cell_type": "markdown",
   "metadata": {
    "deletable": false,
    "editable": false,
    "nbgrader": {
     "cell_type": "markdown",
     "checksum": "4bd660d81b6f246a1e419d24ca0644ee",
     "grade": false,
     "grade_id": "cell-5e8f9a1e110133aa",
     "locked": true,
     "schema_version": 3,
     "solution": false,
     "task": false
    }
   },
   "source": [
    "## Task 1: My first Graph [6 points]\n",
    "### 1a) Sightseeing [3 points]\n",
    "The task is to create an RDF graph about places of interest using Turtle. The graph must contain the following Sights and their locations: The Louvre, the Colosseum and the Eiffel Tower.\n",
    "\n",
    "The graph should contain the following information: Both the **Louvre** and the **Eiffel Tower** are **located in** **France**. The **Colosseum** is **located in** **Italy**. **All** three **are sights**.\n",
    "\n",
    "Use the following URIs:  \n",
    "The Louvre: http://example.org/sights#Louvre  \n",
    "The Colosseum: http://example.org/sights#Colosseum  \n",
    "The Eiffel Tower: http://example.org/sights#EiffelTower  \n",
    "Located in: http://example.org/properties#locatedIn  \n",
    "France: http://example.org/countries#France  \n",
    "Italy: http://example.org/countries#Italy  \n",
    "Sight: http://example.org/classes#Sight  \n",
    "Is of type: http://www.w3.org/1999/02/22-rdf-syntax-ns#type\n",
    "\n",
    "**Do not use or define CURIEs (Prefixes) in this part of the task. The graph must not contain additional triples.**"
   ]
  },
  {
   "cell_type": "code",
   "execution_count": 2,
   "metadata": {
    "deletable": false,
    "nbgrader": {
     "cell_type": "code",
     "checksum": "66ae973e1d9e00f6cfa1d75897aa74ac",
     "grade": false,
     "grade_id": "cell-a625a6dee09ca0d5",
     "locked": false,
     "schema_version": 3,
     "solution": true,
     "task": false
    }
   },
   "outputs": [
    {
     "data": {
      "image/svg+xml": "<?xml version=\"1.0\" encoding=\"UTF-8\" standalone=\"no\"?>\n<!DOCTYPE svg PUBLIC \"-//W3C//DTD SVG 1.1//EN\"\n \"http://www.w3.org/Graphics/SVG/1.1/DTD/svg11.dtd\">\n<!-- Generated by graphviz version 2.50.0 (0)\n -->\n<!-- Pages: 1 -->\n<svg width=\"1080pt\" height=\"131pt\"\n viewBox=\"0.00 0.00 1079.59 131.00\" xmlns=\"http://www.w3.org/2000/svg\" xmlns:xlink=\"http://www.w3.org/1999/xlink\">\n<g id=\"graph0\" class=\"graph\" transform=\"scale(1 1) rotate(0) translate(4 127)\">\n<polygon fill=\"white\" stroke=\"transparent\" points=\"-4,4 -4,-127 1075.59,-127 1075.59,4 -4,4\"/>\n<!-- 0 -->\n<g id=\"node1\" class=\"node\">\n<title>0</title>\n<ellipse fill=\"none\" stroke=\"black\" cx=\"208.59\" cy=\"-18\" rx=\"139.18\" ry=\"18\"/>\n<text text-anchor=\"start\" x=\"109.59\" y=\"-14.3\" font-family=\"Times New Roman,serif\" font-size=\"14.00\">http://example.org/countries#France</text>\n</g>\n<!-- 1 -->\n<g id=\"node2\" class=\"node\">\n<title>1</title>\n<ellipse fill=\"none\" stroke=\"black\" cx=\"878.59\" cy=\"-18\" rx=\"131.08\" ry=\"18\"/>\n<text text-anchor=\"start\" x=\"785.59\" y=\"-14.3\" font-family=\"Times New Roman,serif\" font-size=\"14.00\">http://example.org/countries#Italy</text>\n</g>\n<!-- 2 -->\n<g id=\"node3\" class=\"node\">\n<title>2</title>\n<ellipse fill=\"none\" stroke=\"black\" cx=\"827.59\" cy=\"-105\" rx=\"142.97\" ry=\"18\"/>\n<text text-anchor=\"start\" x=\"725.59\" y=\"-101.3\" font-family=\"Times New Roman,serif\" font-size=\"14.00\">http://example.org/sights#Colosseum</text>\n</g>\n<!-- 2&#45;&gt;1 -->\n<g id=\"edge5\" class=\"edge\">\n<title>2&#45;&gt;1</title>\n<path fill=\"none\" stroke=\"black\" d=\"M837.91,-86.8C845.1,-74.82 854.82,-58.62 862.95,-45.06\"/>\n<polygon fill=\"black\" stroke=\"black\" points=\"866.14,-46.55 868.28,-36.18 860.14,-42.95 866.14,-46.55\"/>\n<text text-anchor=\"start\" x=\"855.59\" y=\"-57.8\" font-family=\"Times New Roman,serif\" font-size=\"14.00\">http://example.org/properties#locatedIn</text>\n</g>\n<!-- 3 -->\n<g id=\"node4\" class=\"node\">\n<title>3</title>\n<ellipse fill=\"none\" stroke=\"black\" cx=\"603.59\" cy=\"-18\" rx=\"126.18\" ry=\"18\"/>\n<text text-anchor=\"start\" x=\"514.59\" y=\"-14.3\" font-family=\"Times New Roman,serif\" font-size=\"14.00\">http://example.org/classes#Sight</text>\n</g>\n<!-- 2&#45;&gt;3 -->\n<g id=\"edge3\" class=\"edge\">\n<title>2&#45;&gt;3</title>\n<path fill=\"none\" stroke=\"black\" d=\"M784.93,-87.81C748.07,-73.82 694.68,-53.57 655.38,-38.65\"/>\n<polygon fill=\"black\" stroke=\"black\" points=\"656.3,-35.26 645.71,-34.98 653.82,-41.8 656.3,-35.26\"/>\n<text text-anchor=\"middle\" x=\"750.09\" y=\"-57.8\" font-family=\"Times New Roman,serif\" font-size=\"14.00\">rdf:type</text>\n</g>\n<!-- 4 -->\n<g id=\"node5\" class=\"node\">\n<title>4</title>\n<ellipse fill=\"none\" stroke=\"black\" cx=\"443.59\" cy=\"-105\" rx=\"128.88\" ry=\"18\"/>\n<text text-anchor=\"start\" x=\"352.59\" y=\"-101.3\" font-family=\"Times New Roman,serif\" font-size=\"14.00\">http://example.org/sights#Louvre</text>\n</g>\n<!-- 4&#45;&gt;0 -->\n<g id=\"edge1\" class=\"edge\">\n<title>4&#45;&gt;0</title>\n<path fill=\"none\" stroke=\"black\" d=\"M421.06,-86.99C413.57,-81.3 405.2,-74.9 397.59,-69 389.08,-62.41 388.34,-58.54 378.59,-54 359.04,-44.9 337.15,-38.16 315.74,-33.16\"/>\n<polygon fill=\"black\" stroke=\"black\" points=\"316.47,-29.73 305.94,-30.98 314.95,-36.57 316.47,-29.73\"/>\n<text text-anchor=\"start\" x=\"397.59\" y=\"-57.8\" font-family=\"Times New Roman,serif\" font-size=\"14.00\">http://example.org/properties#locatedIn</text>\n</g>\n<!-- 4&#45;&gt;3 -->\n<g id=\"edge4\" class=\"edge\">\n<title>4&#45;&gt;3</title>\n<path fill=\"none\" stroke=\"black\" d=\"M547.33,-94.21C578.85,-88.95 607.78,-80.98 617.59,-69 623.01,-62.38 622.48,-53.8 619.68,-45.62\"/>\n<polygon fill=\"black\" stroke=\"black\" points=\"622.82,-44.07 615.57,-36.35 616.42,-46.91 622.82,-44.07\"/>\n<text text-anchor=\"middle\" x=\"643.09\" y=\"-57.8\" font-family=\"Times New Roman,serif\" font-size=\"14.00\">rdf:type</text>\n</g>\n<!-- 5 -->\n<g id=\"node6\" class=\"node\">\n<title>5</title>\n<ellipse fill=\"none\" stroke=\"black\" cx=\"145.59\" cy=\"-105\" rx=\"145.67\" ry=\"18\"/>\n<text text-anchor=\"start\" x=\"41.59\" y=\"-101.3\" font-family=\"Times New Roman,serif\" font-size=\"14.00\">http://example.org/sights#EiffelTower</text>\n</g>\n<!-- 5&#45;&gt;0 -->\n<g id=\"edge6\" class=\"edge\">\n<title>5&#45;&gt;0</title>\n<path fill=\"none\" stroke=\"black\" d=\"M112.48,-87.29C98.7,-78.06 87.73,-66.04 96.59,-54 101.51,-47.31 107.7,-41.86 114.64,-37.43\"/>\n<polygon fill=\"black\" stroke=\"black\" points=\"116.75,-40.26 123.79,-32.34 113.35,-34.14 116.75,-40.26\"/>\n<text text-anchor=\"start\" x=\"96.59\" y=\"-57.8\" font-family=\"Times New Roman,serif\" font-size=\"14.00\">http://example.org/properties#locatedIn</text>\n</g>\n<!-- 5&#45;&gt;3 -->\n<g id=\"edge2\" class=\"edge\">\n<title>5&#45;&gt;3</title>\n<path fill=\"none\" stroke=\"black\" d=\"M242.54,-91.54C266.15,-86.4 290.85,-79.16 312.59,-69 322.33,-64.44 321.67,-58.17 331.59,-54 358.97,-42.48 424.28,-33.88 484.04,-28.08\"/>\n<polygon fill=\"black\" stroke=\"black\" points=\"484.72,-31.53 494.35,-27.1 484.06,-24.56 484.72,-31.53\"/>\n<text text-anchor=\"middle\" x=\"353.09\" y=\"-57.8\" font-family=\"Times New Roman,serif\" font-size=\"14.00\">rdf:type</text>\n</g>\n</g>\n</svg>\n",
      "text/plain": [
       "<graphviz.graphs.Digraph at 0x13e30753ee0>"
      ]
     },
     "metadata": {},
     "output_type": "display_data"
    }
   ],
   "source": [
    "%%rdf turtle -l sights\n",
    "\n",
    "<http://example.org/sights#Louvre> <http://example.org/properties#locatedIn> <http://example.org/countries#France>;\n",
    "    <http://www.w3.org/1999/02/22-rdf-syntax-ns#type> <http://example.org/classes#Sight>.\n",
    "\n",
    "<http://example.org/sights#Colosseum> <http://example.org/properties#locatedIn> <http://example.org/countries#Italy>;\n",
    "    <http://www.w3.org/1999/02/22-rdf-syntax-ns#type> <http://example.org/classes#Sight>.\n",
    "\n",
    "<http://example.org/sights#EiffelTower> <http://example.org/properties#locatedIn> <http://example.org/countries#France>;\n",
    "    <http://www.w3.org/1999/02/22-rdf-syntax-ns#type> <http://example.org/classes#Sight>."
   ]
  },
  {
   "cell_type": "markdown",
   "metadata": {
    "deletable": false,
    "editable": false,
    "nbgrader": {
     "cell_type": "markdown",
     "checksum": "8423b3ecf4767b8bddfee3a5e7341197",
     "grade": false,
     "grade_id": "cell-f3bf946883727b5f",
     "locked": true,
     "schema_version": 3,
     "solution": false,
     "task": false
    }
   },
   "source": [
    "The following cell is a test cell to check your answer. Please remember that this is only a fraction of the tests to give you an orientation and that the real evaluation is a lot more thorough."
   ]
  },
  {
   "cell_type": "code",
   "execution_count": 3,
   "metadata": {
    "deletable": false,
    "editable": false,
    "nbgrader": {
     "cell_type": "code",
     "checksum": "5bbce85ea329cbb932a7b9181151ad2f",
     "grade": true,
     "grade_id": "cell-c927d061ef093322",
     "locked": true,
     "points": 2,
     "schema_version": 3,
     "solution": false,
     "task": false
    }
   },
   "outputs": [],
   "source": [
    "# This test will check whether your graph is complete and correct. [2 points]\n",
    "from rdflib import URIRef\n",
    "\n",
    "store = %rdf -r\n",
    "graph = store['rdfgraphs']['sights']\n",
    "\n",
    "ex = 'http://example.org/{}'\n",
    "\n",
    "sight = URIRef(ex.format('classes#Sight'))\n",
    "eiffel = URIRef(ex.format('sights#EiffelTower'))\n",
    "louvre = URIRef(ex.format('sights#Louvre'))\n",
    "colloseum = URIRef(ex.format('sights#Colosseum'))\n",
    "france = URIRef(ex.format('countries#France'))\n",
    "italy = URIRef(ex.format('countries#Italy'))\n",
    "located = URIRef(ex.format('properties#locatedIn'))\n",
    "typeof = URIRef('http://www.w3.org/1999/02/22-rdf-syntax-ns#type')\n",
    "\n",
    "message = 'The graph is missing the following information: {}'\n",
    "\n",
    "assert (eiffel, typeof, sight) in graph, message.format('The Eiffel Tower is a sight.')\n",
    "assert (louvre, typeof, sight) in graph, message.format('The Louvre is a sight.')\n",
    "assert (colloseum, typeof, sight) in graph, message.format('The Colosseum is a sight.')\n",
    "\n",
    "assert (eiffel, located, france) in graph, message.format('The Eiffel Tower is located in France.')\n",
    "assert (louvre, located, france) in graph, message.format('The Louvre is located in France.')\n",
    "assert (colloseum, located, italy) in graph, message.format('The Colosseum is located in Italy.')"
   ]
  },
  {
   "cell_type": "code",
   "execution_count": 4,
   "metadata": {
    "deletable": false,
    "editable": false,
    "nbgrader": {
     "cell_type": "code",
     "checksum": "cf9940d61fd53964206633f15b2259be",
     "grade": true,
     "grade_id": "cell-d2bfeecaca65d849",
     "locked": true,
     "points": 1,
     "schema_version": 3,
     "solution": false,
     "task": false
    }
   },
   "outputs": [],
   "source": [
    "# This test will check whether your graph is minimal (does not contain additional triples). [1 point]\n",
    "from rdflib import URIRef\n",
    "store = %rdf -r\n",
    "graph = store['rdfgraphs']['sights']\n",
    "\n",
    "assert(len(graph) == 6), 'The graph contains additional information.'"
   ]
  },
  {
   "cell_type": "code",
   "execution_count": 5,
   "metadata": {},
   "outputs": [],
   "source": [
    "# This point will not be granted when you use CURIEs or define prefixes (which is forbidden in this part of the task)\n",
    "from rdflib import URIRef\n",
    "store = %rdf -r\n",
    "graph = store['rdfgraphs']['sights']\n",
    "\n",
    "curies = {\n",
    "    'si': URIRef('http://example.org/sights#'),\n",
    "    'co': URIRef('http://example.org/countries#'),\n",
    "    'pr': URIRef('http://example.org/properties#'),\n",
    "    'cl': URIRef('http://example.org/classes#'),\n",
    "    'a': URIRef('http://www.w3.org/1999/02/22-rdf-syntax-ns#type')\n",
    "}\n",
    "\n",
    "for item in graph:\n",
    "    for uri in item:\n",
    "        assert not any([uri.startswith(prefix) for prefix in curies.keys()]), 'You are not allowed to use CURIEs or prefixes in this task.'"
   ]
  },
  {
   "cell_type": "markdown",
   "metadata": {
    "deletable": false,
    "editable": false,
    "nbgrader": {
     "cell_type": "markdown",
     "checksum": "cec20352d55bec9b564f2fc3bb54e2fe",
     "grade": false,
     "grade_id": "cell-af5942891348c4fb",
     "locked": true,
     "schema_version": 3,
     "solution": false,
     "task": false
    }
   },
   "source": [
    "### CURIEs\n",
    "Because we only used full URIs in 1a), the graph looks cluttered and both the graph and the turtle source are hard to read. But many URIs have the same prefix (http://example.org/sights for example) and turtle allows us to define abbreviations for these prefixes. These abbreviated URIs are called *Compact URIs* or *CURIES*. In Turtle, such a prefix is defined using the **@prefix** keyword, followed by the abbreviation, then the URI prefix in angled brackets (&lt; &gt;) and finally a period. For example, if we want to abbreviate *http://example.org/#* with *ex:*, then we need to prepend the following line to the turtle document:\n",
    "\n",
    "**@prefix ex: &lt;http://example.org/#&gt; .**\n",
    "\n",
    "Now we can abbreviate the RDF triple:\n",
    "\n",
    "**&lt;http://example.org/#Germany&gt; &lt;http://example.org/#capital&gt; &lt;http://example.org/#Berlin&gt; .**\n",
    "\n",
    "to:\n",
    "\n",
    "**ex:Germany ex:capital ex:Berlin .**\n",
    "\n",
    "Note, that we omit the angled brackets when using CURIEs.\n",
    "\n",
    "### 1b) Using CURIEs [3 points]\n",
    "Create the same RDF graph as in 1a) but use CURIEs and introduce the following abbreviations:  \n",
    "Abbreviate http://example.org/sights# to **si:**  \n",
    "Abbreviate http://example.org/countries# to **co:**  \n",
    "Abbreviate http://example.org/properties# to **pr:**  \n",
    "Abbreviate http://example.org/classes# to **cl:**  \n",
    "\n",
    "http://www.w3.org/1999/02/22-rdf-syntax-ns# can be abbreviated to **rdf:** (optional)\n",
    "\n",
    "Because the predicate rdf:type (http://www.w3.org/1999/02/22-rdf-syntax-ns#type) is used very frequently, you can just write **a** instead of the URI. Try it!  \n",
    "\n",
    "**Use the defined prefixes whenever they are applicable.**  \n",
    "**You are allowed and even encouraged to define and use as many prefixes as you want in all following tasks and assignments.**"
   ]
  },
  {
   "cell_type": "code",
   "execution_count": 6,
   "metadata": {
    "deletable": false,
    "nbgrader": {
     "cell_type": "code",
     "checksum": "5c0b1da427d39dbb7088a78c75736bc0",
     "grade": false,
     "grade_id": "cell-622f9e5d8ef2cccd",
     "locked": false,
     "schema_version": 3,
     "solution": true,
     "task": false
    }
   },
   "outputs": [
    {
     "data": {
      "image/svg+xml": "<?xml version=\"1.0\" encoding=\"UTF-8\" standalone=\"no\"?>\n<!DOCTYPE svg PUBLIC \"-//W3C//DTD SVG 1.1//EN\"\n \"http://www.w3.org/Graphics/SVG/1.1/DTD/svg11.dtd\">\n<!-- Generated by graphviz version 2.50.0 (0)\n -->\n<!-- Pages: 1 -->\n<svg width=\"464pt\" height=\"131pt\"\n viewBox=\"0.00 0.00 463.74 131.00\" xmlns=\"http://www.w3.org/2000/svg\" xmlns:xlink=\"http://www.w3.org/1999/xlink\">\n<g id=\"graph0\" class=\"graph\" transform=\"scale(1 1) rotate(0) translate(4 127)\">\n<polygon fill=\"white\" stroke=\"transparent\" points=\"-4,4 -4,-127 459.74,-127 459.74,4 -4,4\"/>\n<!-- 0 -->\n<g id=\"node1\" class=\"node\">\n<title>0</title>\n<ellipse fill=\"none\" stroke=\"black\" cx=\"99.74\" cy=\"-18\" rx=\"45.49\" ry=\"18\"/>\n<text text-anchor=\"middle\" x=\"99.74\" y=\"-14.3\" font-family=\"Times New Roman,serif\" font-size=\"14.00\">co:France</text>\n</g>\n<!-- 1 -->\n<g id=\"node2\" class=\"node\">\n<title>1</title>\n<ellipse fill=\"none\" stroke=\"black\" cx=\"404.74\" cy=\"-18\" rx=\"37.89\" ry=\"18\"/>\n<text text-anchor=\"middle\" x=\"404.74\" y=\"-14.3\" font-family=\"Times New Roman,serif\" font-size=\"14.00\">co:Italy</text>\n</g>\n<!-- 2 -->\n<g id=\"node3\" class=\"node\">\n<title>2</title>\n<ellipse fill=\"none\" stroke=\"black\" cx=\"371.74\" cy=\"-105\" rx=\"58.49\" ry=\"18\"/>\n<text text-anchor=\"middle\" x=\"371.74\" y=\"-101.3\" font-family=\"Times New Roman,serif\" font-size=\"14.00\">si:Colosseum</text>\n</g>\n<!-- 2&#45;&gt;1 -->\n<g id=\"edge5\" class=\"edge\">\n<title>2&#45;&gt;1</title>\n<path fill=\"none\" stroke=\"black\" d=\"M378.42,-86.8C383.01,-74.97 389.2,-59.03 394.43,-45.58\"/>\n<polygon fill=\"black\" stroke=\"black\" points=\"397.83,-46.47 398.19,-35.89 391.31,-43.94 397.83,-46.47\"/>\n<text text-anchor=\"middle\" x=\"422.74\" y=\"-57.8\" font-family=\"Times New Roman,serif\" font-size=\"14.00\">pr:locatedIn</text>\n</g>\n<!-- 3 -->\n<g id=\"node4\" class=\"node\">\n<title>3</title>\n<ellipse fill=\"none\" stroke=\"black\" cx=\"272.74\" cy=\"-18\" rx=\"38.19\" ry=\"18\"/>\n<text text-anchor=\"middle\" x=\"272.74\" y=\"-14.3\" font-family=\"Times New Roman,serif\" font-size=\"14.00\">cl:Sight</text>\n</g>\n<!-- 2&#45;&gt;3 -->\n<g id=\"edge3\" class=\"edge\">\n<title>2&#45;&gt;3</title>\n<path fill=\"none\" stroke=\"black\" d=\"M352.66,-87.61C337.2,-74.34 315.3,-55.54 298.33,-40.97\"/>\n<polygon fill=\"black\" stroke=\"black\" points=\"300.31,-38.06 290.44,-34.2 295.75,-43.37 300.31,-38.06\"/>\n<text text-anchor=\"middle\" x=\"349.24\" y=\"-57.8\" font-family=\"Times New Roman,serif\" font-size=\"14.00\">rdf:type</text>\n</g>\n<!-- 4 -->\n<g id=\"node5\" class=\"node\">\n<title>4</title>\n<ellipse fill=\"none\" stroke=\"black\" cx=\"200.74\" cy=\"-105\" rx=\"44.39\" ry=\"18\"/>\n<text text-anchor=\"middle\" x=\"200.74\" y=\"-101.3\" font-family=\"Times New Roman,serif\" font-size=\"14.00\">si:Louvre</text>\n</g>\n<!-- 4&#45;&gt;0 -->\n<g id=\"edge1\" class=\"edge\">\n<title>4&#45;&gt;0</title>\n<path fill=\"none\" stroke=\"black\" d=\"M190.23,-87.32C183.08,-76.88 172.92,-63.63 161.74,-54 154.45,-47.72 145.87,-42.02 137.44,-37.13\"/>\n<polygon fill=\"black\" stroke=\"black\" points=\"138.88,-33.93 128.43,-32.16 135.5,-40.06 138.88,-33.93\"/>\n<text text-anchor=\"middle\" x=\"208.74\" y=\"-57.8\" font-family=\"Times New Roman,serif\" font-size=\"14.00\">pr:locatedIn</text>\n</g>\n<!-- 4&#45;&gt;3 -->\n<g id=\"edge4\" class=\"edge\">\n<title>4&#45;&gt;3</title>\n<path fill=\"none\" stroke=\"black\" d=\"M226.07,-90.14C234.74,-84.47 243.95,-77.27 250.74,-69 256.39,-62.12 260.85,-53.57 264.24,-45.49\"/>\n<polygon fill=\"black\" stroke=\"black\" points=\"267.56,-46.61 267.85,-36.02 261.02,-44.12 267.56,-46.61\"/>\n<text text-anchor=\"middle\" x=\"280.24\" y=\"-57.8\" font-family=\"Times New Roman,serif\" font-size=\"14.00\">rdf:type</text>\n</g>\n<!-- 5 -->\n<g id=\"node6\" class=\"node\">\n<title>5</title>\n<ellipse fill=\"none\" stroke=\"black\" cx=\"61.74\" cy=\"-105\" rx=\"61.99\" ry=\"18\"/>\n<text text-anchor=\"middle\" x=\"61.74\" y=\"-101.3\" font-family=\"Times New Roman,serif\" font-size=\"14.00\">si:EiffelTower</text>\n</g>\n<!-- 5&#45;&gt;0 -->\n<g id=\"edge6\" class=\"edge\">\n<title>5&#45;&gt;0</title>\n<path fill=\"none\" stroke=\"black\" d=\"M41,-87.87C31.06,-78.11 22.7,-65.4 29.74,-54 35.37,-44.89 44.17,-38.07 53.65,-33\"/>\n<polygon fill=\"black\" stroke=\"black\" points=\"55.32,-36.08 62.87,-28.65 52.34,-29.75 55.32,-36.08\"/>\n<text text-anchor=\"middle\" x=\"62.74\" y=\"-57.8\" font-family=\"Times New Roman,serif\" font-size=\"14.00\">pr:locatedIn</text>\n</g>\n<!-- 5&#45;&gt;3 -->\n<g id=\"edge2\" class=\"edge\">\n<title>5&#45;&gt;3</title>\n<path fill=\"none\" stroke=\"black\" d=\"M77.42,-87.41C89.83,-74.63 106.42,-58.41 114.74,-54 149.02,-35.84 192.28,-27.09 224.86,-22.88\"/>\n<polygon fill=\"black\" stroke=\"black\" points=\"225.53,-26.33 235.04,-21.67 224.7,-19.37 225.53,-26.33\"/>\n<text text-anchor=\"middle\" x=\"136.24\" y=\"-57.8\" font-family=\"Times New Roman,serif\" font-size=\"14.00\">rdf:type</text>\n</g>\n</g>\n</svg>\n",
      "text/plain": [
       "<graphviz.graphs.Digraph at 0x13e3076f7c0>"
      ]
     },
     "metadata": {},
     "output_type": "display_data"
    }
   ],
   "source": [
    "%%rdf turtle -l sights2\n",
    "@prefix si: <http://example.org/sights#>.\n",
    "@prefix co: <http://example.org/countries#>.\n",
    "@prefix pr: <http://example.org/properties#>.\n",
    "@prefix cl: <http://example.org/classes#>.\n",
    "\n",
    "si:Louvre;\n",
    "    pr:locatedIn co:France;\n",
    "    a cl:Sight.\n",
    "\n",
    "si:Colosseum;\n",
    "    pr:locatedIn co:Italy;\n",
    "    a cl:Sight.\n",
    "\n",
    "si:EiffelTower;\n",
    "    pr:locatedIn co:France;\n",
    "    a cl:Sight."
   ]
  },
  {
   "cell_type": "code",
   "execution_count": 7,
   "metadata": {
    "deletable": false,
    "editable": false,
    "nbgrader": {
     "cell_type": "code",
     "checksum": "68e8df2519e6e8834e8676802861453e",
     "grade": true,
     "grade_id": "cell-083e36ac4704a48b",
     "locked": true,
     "points": 1,
     "schema_version": 3,
     "solution": false,
     "task": false
    }
   },
   "outputs": [],
   "source": [
    "# This test will check whether you defined all mandatory prefixes [1 point]\n",
    "from rdflib import URIRef\n",
    "store = %rdf -r\n",
    "\n",
    "graph = store['rdfgraphs'][\"sights2\"]\n",
    "namespace = list(graph.namespaces())\n",
    "\n",
    "curie = {\n",
    "    'si': URIRef(\"http://example.org/sights#\"),\n",
    "    'co': URIRef(\"http://example.org/countries#\"),\n",
    "    'pr': URIRef(\"http://example.org/properties#\"),\n",
    "    'cl': URIRef(\"http://example.org/classes#\"),\n",
    "}\n",
    "\n",
    "for prefix in curie:\n",
    "    assert (prefix, curie[prefix]) in namespace, \"You are missing the {} prefix.\".format(prefix)"
   ]
  },
  {
   "cell_type": "code",
   "execution_count": 8,
   "metadata": {
    "deletable": false,
    "editable": false,
    "nbgrader": {
     "cell_type": "code",
     "checksum": "d5cb6437d567f26d2eb3e5f4c2417704",
     "grade": true,
     "grade_id": "cell-00a42b342af34ba8",
     "locked": true,
     "points": 1,
     "schema_version": 3,
     "solution": false,
     "task": false
    }
   },
   "outputs": [],
   "source": [
    "# This test will check whether your graph is complete and correct. [2 points]\n",
    "from rdflib import URIRef\n",
    "\n",
    "store = %rdf -r\n",
    "graph = store['rdfgraphs']['sights']\n",
    "\n",
    "ex = 'http://example.org/{}'\n",
    "\n",
    "sight = URIRef(ex.format('classes#Sight'))\n",
    "eiffel = URIRef(ex.format('sights#EiffelTower'))\n",
    "louvre = URIRef(ex.format('sights#Louvre'))\n",
    "colloseum = URIRef(ex.format('sights#Colosseum'))\n",
    "france = URIRef(ex.format('countries#France'))\n",
    "italy = URIRef(ex.format('countries#Italy'))\n",
    "located = URIRef(ex.format('properties#locatedIn'))\n",
    "typeof = URIRef('http://www.w3.org/1999/02/22-rdf-syntax-ns#type')\n",
    "\n",
    "message = 'The graph is missing the following information: {}'\n",
    "\n",
    "assert (eiffel, typeof, sight) in graph, message.format('The Eiffel Tower is a sight.')\n",
    "assert (louvre, typeof, sight) in graph, message.format('The Louvre is a sight.')\n",
    "assert (colloseum, typeof, sight) in graph, message.format('The Colosseum is a sight.')\n",
    "\n",
    "assert (eiffel, located, france) in graph, message.format('The Eiffel Tower is located in France.')\n",
    "assert (louvre, located, france) in graph, message.format('The Louvre is located in France.')\n",
    "assert (colloseum, located, italy) in graph, message.format('The Colosseum is located in Italy.')"
   ]
  },
  {
   "cell_type": "markdown",
   "metadata": {
    "deletable": false,
    "editable": false,
    "nbgrader": {
     "cell_type": "markdown",
     "checksum": "1e367d7fc0c413eab5975e59bab7cc91",
     "grade": false,
     "grade_id": "cell-0020acafde24d970",
     "locked": true,
     "schema_version": 3,
     "solution": false,
     "task": false
    }
   },
   "source": [
    "## Task 2: Literals [3 points]\n",
    "For basic values such as numbers and strings, it is impractical to use URIs. Instead of URIs we use literals. Literals have a datatype, which is string by default. Literals can only be used in the object position of triples and are encased in double quotes (\" \"). An example for a triple with a string literal is:\n",
    "\n",
    "**ex:Germany ex:name \"Deutschland\" .**\n",
    "\n",
    "To specify a *datatype*, it is appended to the literal with *two carets* (^^). A datatype can be an arbitrary URI, but there are some predefined datatypes which should suffice in most cases. These predefined datatypes use the prefix *http://www.w3.org/2001/XMLSchema#*, which is usually abbreviated with *xsd:*. An example for an integer literal:\n",
    "\n",
    "**ex:Germany ex:population \"83042235\"^^xsd:int .**\n",
    "\n",
    "There are also string literals with a specified language. This is useful for names that differ in different languages. To specify a language, we append a two character language tag with an at symbol (@) behind the literal. The literal is then automatically interpreted as a language tagged string (this datatype is never specified explicitly). To express that ex:germany has a different name in english and in german, one would add two triples:\n",
    "\n",
    "**ex:Germany ex:name \"Deutschland\"@de .**  \n",
    "**ex:Germany ex:name \"Germany\"@en .**  \n",
    "\n",
    "Please note that the URI ex:Germany is **not** the same as the literal \"Germany\" and in some cases you can't deduce the name of an entity from the URI (for example www.wikidata.org uses numerical IDs, e.g https://www.wikidata.org/entity/Q1017).\n",
    "\n",
    "### 2a) Austria [3 points]\n",
    "The task is to create an RDF graph about Austria with Turtle. The graph must contain the following information:\n",
    "\n",
    "Austria is called **Österreich** in german (*de*), **Austria** in english (*en*) and **Oostenrijk** in dutch (*nl*). Austria has a population of **8901064** and an area of **83878.99**km². The capital of Austria is Vienna, which is called **Vienna** in english and **Wenen** in dutch.\n",
    "\n",
    "Use the following URIs:  \n",
    "Austria: http://example.org/countries#Austria  \n",
    "Vienna: http://example.org/cities#Vienna  \n",
    "Capital: http://example.org/properties#capital  \n",
    "Area: http://example.org/properties#area  \n",
    "Population: http://example.org/properties#population  \n",
    "Is called: rdfs:label\n",
    "\n",
    "Language tags:\n",
    "\n",
    "| Language | Tag |\n",
    "| --- | --- |\n",
    "| English | en |\n",
    "| German | de |\n",
    "| Dutch | nl |\n",
    "\n",
    "Only use the datatypes **xsd:string**, **rdf:langString**, **xsd:int** and **xsd:float**.\n",
    "\n",
    "Tip: CURIEs do not change the graph but they make the result more readable and less error prone. Use them whenever possible!"
   ]
  },
  {
   "cell_type": "code",
   "execution_count": 9,
   "metadata": {
    "deletable": false,
    "nbgrader": {
     "cell_type": "code",
     "checksum": "8c62a8376c23bfb1ea925a5792b8a3bc",
     "grade": false,
     "grade_id": "cell-3e75579d76831c23",
     "locked": false,
     "schema_version": 3,
     "solution": true,
     "task": false
    }
   },
   "outputs": [
    {
     "data": {
      "image/svg+xml": "<?xml version=\"1.0\" encoding=\"UTF-8\" standalone=\"no\"?>\n<!DOCTYPE svg PUBLIC \"-//W3C//DTD SVG 1.1//EN\"\n \"http://www.w3.org/Graphics/SVG/1.1/DTD/svg11.dtd\">\n<!-- Generated by graphviz version 2.50.0 (0)\n -->\n<!-- Pages: 1 -->\n<svg width=\"846pt\" height=\"218pt\"\n viewBox=\"0.00 0.00 846.00 218.00\" xmlns=\"http://www.w3.org/2000/svg\" xmlns:xlink=\"http://www.w3.org/1999/xlink\">\n<g id=\"graph0\" class=\"graph\" transform=\"scale(1 1) rotate(0) translate(4 214)\">\n<polygon fill=\"white\" stroke=\"transparent\" points=\"-4,4 -4,-214 842,-214 842,4 -4,4\"/>\n<!-- 0 -->\n<g id=\"node1\" class=\"node\">\n<title>0</title>\n<polygon fill=\"none\" stroke=\"black\" points=\"94,-123 0,-123 0,-87 94,-87 94,-123\"/>\n<text text-anchor=\"middle\" x=\"47\" y=\"-101.3\" font-family=\"Times New Roman,serif\" font-size=\"14.00\">&quot;Austria&quot;@en</text>\n</g>\n<!-- 1 -->\n<g id=\"node2\" class=\"node\">\n<title>1</title>\n<ellipse fill=\"none\" stroke=\"black\" cx=\"462\" cy=\"-192\" rx=\"47.39\" ry=\"18\"/>\n<text text-anchor=\"middle\" x=\"462\" y=\"-188.3\" font-family=\"Times New Roman,serif\" font-size=\"14.00\">co:Austria</text>\n</g>\n<!-- 1&#45;&gt;0 -->\n<g id=\"edge5\" class=\"edge\">\n<title>1&#45;&gt;0</title>\n<path fill=\"none\" stroke=\"black\" d=\"M416.46,-186.77C366.06,-181.59 282.62,-171.54 212,-156 165.46,-145.76 152.87,-138.57 103.68,-123.25\"/>\n<polygon fill=\"black\" stroke=\"black\" points=\"104.64,-119.88 94.05,-120.29 102.58,-126.57 104.64,-119.88\"/>\n<text text-anchor=\"middle\" x=\"238\" y=\"-144.8\" font-family=\"Times New Roman,serif\" font-size=\"14.00\">rdfs:label</text>\n</g>\n<!-- 4 -->\n<g id=\"node5\" class=\"node\">\n<title>4</title>\n<polygon fill=\"none\" stroke=\"black\" points=\"261.5,-123 112.5,-123 112.5,-87 261.5,-87 261.5,-123\"/>\n<text text-anchor=\"middle\" x=\"187\" y=\"-101.3\" font-family=\"Times New Roman,serif\" font-size=\"14.00\">&quot;8901064&quot;^^xsd:integer</text>\n</g>\n<!-- 1&#45;&gt;4 -->\n<g id=\"edge2\" class=\"edge\">\n<title>1&#45;&gt;4</title>\n<path fill=\"none\" stroke=\"black\" d=\"M419.99,-183.44C388.73,-177.34 345.24,-167.83 308,-156 282.7,-147.96 255.29,-136.85 232.97,-127.14\"/>\n<polygon fill=\"black\" stroke=\"black\" points=\"234.3,-123.9 223.74,-123.08 231.48,-130.31 234.3,-123.9\"/>\n<text text-anchor=\"middle\" x=\"344.5\" y=\"-144.8\" font-family=\"Times New Roman,serif\" font-size=\"14.00\">pr:population</text>\n</g>\n<!-- 5 -->\n<g id=\"node6\" class=\"node\">\n<title>5</title>\n<polygon fill=\"none\" stroke=\"black\" points=\"388.5,-123 279.5,-123 279.5,-87 388.5,-87 388.5,-123\"/>\n<text text-anchor=\"middle\" x=\"334\" y=\"-101.3\" font-family=\"Times New Roman,serif\" font-size=\"14.00\">&quot;Oostenrijk&quot;@nl</text>\n</g>\n<!-- 1&#45;&gt;5 -->\n<g id=\"edge8\" class=\"edge\">\n<title>1&#45;&gt;5</title>\n<path fill=\"none\" stroke=\"black\" d=\"M438.13,-176.44C428.13,-170.24 416.43,-162.88 406,-156 392.89,-147.36 378.65,-137.56 366.32,-128.94\"/>\n<polygon fill=\"black\" stroke=\"black\" points=\"368.33,-126.07 358.13,-123.19 364.3,-131.8 368.33,-126.07\"/>\n<text text-anchor=\"middle\" x=\"432\" y=\"-144.8\" font-family=\"Times New Roman,serif\" font-size=\"14.00\">rdfs:label</text>\n</g>\n<!-- 6 -->\n<g id=\"node7\" class=\"node\">\n<title>6</title>\n<polygon fill=\"none\" stroke=\"black\" points=\"517,-123 407,-123 407,-87 517,-87 517,-123\"/>\n<text text-anchor=\"middle\" x=\"462\" y=\"-101.3\" font-family=\"Times New Roman,serif\" font-size=\"14.00\">&quot;Österreich&quot;@de</text>\n</g>\n<!-- 1&#45;&gt;6 -->\n<g id=\"edge1\" class=\"edge\">\n<title>1&#45;&gt;6</title>\n<path fill=\"none\" stroke=\"black\" d=\"M462,-173.8C462,-162.16 462,-146.55 462,-133.24\"/>\n<polygon fill=\"black\" stroke=\"black\" points=\"465.5,-133.18 462,-123.18 458.5,-133.18 465.5,-133.18\"/>\n<text text-anchor=\"middle\" x=\"488\" y=\"-144.8\" font-family=\"Times New Roman,serif\" font-size=\"14.00\">rdfs:label</text>\n</g>\n<!-- 7 -->\n<g id=\"node8\" class=\"node\">\n<title>7</title>\n<polygon fill=\"none\" stroke=\"black\" points=\"675,-123 535,-123 535,-87 675,-87 675,-123\"/>\n<text text-anchor=\"middle\" x=\"605\" y=\"-101.3\" font-family=\"Times New Roman,serif\" font-size=\"14.00\">&quot;83878.99&quot;^^xsd:float</text>\n</g>\n<!-- 1&#45;&gt;7 -->\n<g id=\"edge6\" class=\"edge\">\n<title>1&#45;&gt;7</title>\n<path fill=\"none\" stroke=\"black\" d=\"M486.58,-176.39C508.87,-163.14 542.05,-143.42 567.62,-128.22\"/>\n<polygon fill=\"black\" stroke=\"black\" points=\"569.51,-131.17 576.31,-123.05 565.93,-125.15 569.51,-131.17\"/>\n<text text-anchor=\"middle\" x=\"562\" y=\"-144.8\" font-family=\"Times New Roman,serif\" font-size=\"14.00\">pr:area</text>\n</g>\n<!-- 8 -->\n<g id=\"node9\" class=\"node\">\n<title>8</title>\n<ellipse fill=\"none\" stroke=\"black\" cx=\"737\" cy=\"-105\" rx=\"44.39\" ry=\"18\"/>\n<text text-anchor=\"middle\" x=\"737\" y=\"-101.3\" font-family=\"Times New Roman,serif\" font-size=\"14.00\">ci:Vienna</text>\n</g>\n<!-- 1&#45;&gt;8 -->\n<g id=\"edge9\" class=\"edge\">\n<title>1&#45;&gt;8</title>\n<path fill=\"none\" stroke=\"black\" d=\"M499.25,-180.82C523.71,-174.04 556.34,-164.79 585,-156 622.11,-144.62 663.98,-130.77 694.37,-120.54\"/>\n<polygon fill=\"black\" stroke=\"black\" points=\"695.86,-123.73 704.21,-117.21 693.62,-117.1 695.86,-123.73\"/>\n<text text-anchor=\"middle\" x=\"658\" y=\"-144.8\" font-family=\"Times New Roman,serif\" font-size=\"14.00\">pr:capital</text>\n</g>\n<!-- 2 -->\n<g id=\"node3\" class=\"node\">\n<title>2</title>\n<polygon fill=\"none\" stroke=\"black\" points=\"727.5,-36 638.5,-36 638.5,0 727.5,0 727.5,-36\"/>\n<text text-anchor=\"middle\" x=\"683\" y=\"-14.3\" font-family=\"Times New Roman,serif\" font-size=\"14.00\">&quot;Wenen&quot;@nl</text>\n</g>\n<!-- 3 -->\n<g id=\"node4\" class=\"node\">\n<title>3</title>\n<polygon fill=\"none\" stroke=\"black\" points=\"838,-36 746,-36 746,0 838,0 838,-36\"/>\n<text text-anchor=\"middle\" x=\"792\" y=\"-14.3\" font-family=\"Times New Roman,serif\" font-size=\"14.00\">&quot;Vienna&quot;@en</text>\n</g>\n<!-- 8&#45;&gt;1 -->\n<g id=\"edge7\" class=\"edge\">\n<title>8&#45;&gt;1</title>\n<path fill=\"none\" stroke=\"black\" d=\"M733.94,-123.05C731.02,-134.2 725.44,-148.11 715,-156 685.11,-178.58 584.47,-186.6 519.48,-189.44\"/>\n<polygon fill=\"black\" stroke=\"black\" points=\"519.23,-185.95 509.38,-189.86 519.51,-192.94 519.23,-185.95\"/>\n<text text-anchor=\"middle\" x=\"760\" y=\"-144.8\" font-family=\"Times New Roman,serif\" font-size=\"14.00\">pr:locatedIn</text>\n</g>\n<!-- 8&#45;&gt;2 -->\n<g id=\"edge4\" class=\"edge\">\n<title>8&#45;&gt;2</title>\n<path fill=\"none\" stroke=\"black\" d=\"M726.33,-87.21C718.62,-75.06 708.05,-58.43 699.28,-44.63\"/>\n<polygon fill=\"black\" stroke=\"black\" points=\"702.15,-42.61 693.83,-36.05 696.24,-46.37 702.15,-42.61\"/>\n<text text-anchor=\"middle\" x=\"740\" y=\"-57.8\" font-family=\"Times New Roman,serif\" font-size=\"14.00\">rdfs:label</text>\n</g>\n<!-- 8&#45;&gt;3 -->\n<g id=\"edge3\" class=\"edge\">\n<title>8&#45;&gt;3</title>\n<path fill=\"none\" stroke=\"black\" d=\"M754.03,-88.26C759.58,-82.55 765.48,-75.82 770,-69 774.71,-61.89 778.83,-53.59 782.19,-45.83\"/>\n<polygon fill=\"black\" stroke=\"black\" points=\"785.5,-46.99 786.03,-36.41 779.02,-44.35 785.5,-46.99\"/>\n<text text-anchor=\"middle\" x=\"805\" y=\"-57.8\" font-family=\"Times New Roman,serif\" font-size=\"14.00\">rdfs:label</text>\n</g>\n</g>\n</svg>\n",
      "text/plain": [
       "<graphviz.graphs.Digraph at 0x13e3076fd60>"
      ]
     },
     "metadata": {},
     "output_type": "display_data"
    }
   ],
   "source": [
    "%%rdf turtle -l literals\n",
    "\n",
    "@prefix ex: <http://example.org/> .\n",
    "@prefix ci: <http://example.org/cities#> .\n",
    "@prefix pr: <http://example.org/properties#> .\n",
    "@prefix co: <http://example.org/countries#> .\n",
    "\n",
    "@prefix rdf: <http://www.w3.org/1999/02/22-rdf-syntax-ns#> .\n",
    "@prefix rdfs: <http://www.w3.org/2000/01/rdf-schema#> .\n",
    "@prefix xsd: <http://www.w3.org/2001/XMLSchema#> .\n",
    "\n",
    "co:Austria ;\n",
    "    rdfs:label \"Österreich\"@de, \"Austria\"@en, \"Oostenrijk\"@nl ;\n",
    "    pr:population \"8901064\"^^xsd:integer ;\n",
    "    pr:area \"83878.99\"^^xsd:float ;\n",
    "    pr:capital ci:Vienna .\n",
    "\n",
    "ci:Vienna ;\n",
    "    rdfs:label \"Vienna\"@en, \"Wenen\"@nl ;\n",
    "    pr:locatedIn co:Austria ."
   ]
  },
  {
   "cell_type": "code",
   "execution_count": 10,
   "metadata": {
    "deletable": false,
    "editable": false,
    "nbgrader": {
     "cell_type": "code",
     "checksum": "6397a553fe3cc0f07fd3d6a25e7c9039",
     "grade": true,
     "grade_id": "cell-ec4e45a2d27a7d3f",
     "locked": true,
     "points": 1,
     "schema_version": 3,
     "solution": false,
     "task": false
    }
   },
   "outputs": [],
   "source": [
    "# This test will check whether your graph contains the facts (even if their datatype,value or quantity is wrong). [1 point]\n",
    "from rdflib import URIRef\n",
    "store = %rdf -r\n",
    "graph = store['rdfgraphs'][\"literals\"]\n",
    "\n",
    "ex = \"http://example.org/{}\"\n",
    "au = URIRef(ex.format(\"countries#Austria\"))\n",
    "pop = URIRef(ex.format(\"properties#population\"))\n",
    "vi = URIRef(ex.format(\"cities#Vienna\"))\n",
    "lab = URIRef(\"http://www.w3.org/2000/01/rdf-schema#label\")\n",
    "\n",
    "err = \"The graph does not contain information about {}.\"\n",
    "\n",
    "assert (au, pop, None) in graph, err.format(\"the population of Austria\")\n",
    "assert (vi, lab, None) in graph, err.format(\"Vienna's name\")"
   ]
  },
  {
   "cell_type": "code",
   "execution_count": 11,
   "metadata": {
    "deletable": false,
    "editable": false,
    "nbgrader": {
     "cell_type": "code",
     "checksum": "b79443c2944aaf80b0b6477819509040",
     "grade": true,
     "grade_id": "cell-ee0f15f19acfbd0d",
     "locked": true,
     "points": 1,
     "schema_version": 3,
     "solution": false,
     "task": false
    }
   },
   "outputs": [],
   "source": [
    "# This test will check whether your graph contains all numerical literals with correct datatypes. [1 point]\n",
    "from rdflib import URIRef, Literal\n",
    "store = %rdf -r\n",
    "graph = store['rdfgraphs'][\"literals\"]\n",
    "\n",
    "ex = \"http://example.org/{}\"\n",
    "au = URIRef(ex.format(\"countries#Austria\"))\n",
    "pop = URIRef(ex.format(\"properties#population\"))\n",
    "area = URIRef(ex.format(\"properties#area\"))\n",
    "\n",
    "err = \"The graph does not contain information about {}.\"\n",
    "\n",
    "assert (au, pop, Literal(\"8901064\", datatype=\"http://www.w3.org/2001/XMLSchema#integer\")) in graph, err.format(\"Austria's population\")\n",
    "assert (au, area, Literal(\"83878.99\", datatype=\"http://www.w3.org/2001/XMLSchema#float\")) in graph, err.format(\"Austria's area\")"
   ]
  },
  {
   "cell_type": "code",
   "execution_count": 12,
   "metadata": {
    "deletable": false,
    "editable": false,
    "nbgrader": {
     "cell_type": "code",
     "checksum": "b21e637e389b94cd11d86080a8021185",
     "grade": true,
     "grade_id": "cell-d8cbac1ebdcccb0f",
     "locked": true,
     "points": 1,
     "schema_version": 3,
     "solution": false,
     "task": false
    }
   },
   "outputs": [],
   "source": [
    "# This test will check whether your graph contains all language tagged literals. [1 point]\n",
    "from rdflib import URIRef, Literal\n",
    "store = %rdf -r\n",
    "graph = store['rdfgraphs'][\"literals\"]\n",
    "\n",
    "ex = \"http://example.org/{}\"\n",
    "au = URIRef(ex.format(\"countries#Austria\"))\n",
    "vi = URIRef(ex.format(\"cities#Vienna\"))\n",
    "lab = URIRef(\"http://www.w3.org/2000/01/rdf-schema#label\")\n",
    "\n",
    "lang = {\n",
    "    \"austria\": {\n",
    "        \"de\": Literal(\"Österreich\", lang=\"de\"),\n",
    "        \"en\": Literal(\"Austria\", lang=\"en\"),\n",
    "        \"nl\": Literal(\"Oostenrijk\", lang=\"nl\"),\n",
    "    },\n",
    "    \"vienna\": {\n",
    "        \"en\": Literal(\"Vienna\", lang=\"en\"),\n",
    "        \"nl\": Literal(\"Wenen\", lang=\"nl\"),\n",
    "    }\n",
    "}\n",
    "\n",
    "err = \"The graph does not contain information about {}.\"\n",
    "\n",
    "assert (au, lab, lang[\"austria\"][\"de\"]) in graph, err.format(\"Austria's name in German\")\n",
    "assert (au, lab, lang[\"austria\"][\"en\"]) in graph, err.format(\"Austria's name in English\")\n",
    "assert (au, lab, lang[\"austria\"][\"nl\"]) in graph, err.format(\"Austria's name in Dutch\")\n",
    "assert (vi, lab, lang[\"vienna\"][\"en\"]) in graph, err.format(\"Vienna's name in English\")\n",
    "assert (vi, lab, lang[\"vienna\"][\"nl\"]) in graph, err.format(\"Vienna's name in Dutch\")"
   ]
  },
  {
   "cell_type": "markdown",
   "metadata": {
    "deletable": false,
    "editable": false,
    "nbgrader": {
     "cell_type": "markdown",
     "checksum": "0985abaabe7ae9b9c90ca5b7ccfd0c18",
     "grade": false,
     "grade_id": "cell-d95a51a59335c2de",
     "locked": true,
     "schema_version": 3,
     "solution": false,
     "task": false
    }
   },
   "source": [
    "## Task 3: Blank Nodes [3 points]\n",
    "Sometimes resources do not or should not have an identifier but still stand in relation to other resources. These anonymous resources are represented by blank nodes in RDF graphs. In Turtle, blank nodes are are represented with an underscore followed by a colon and an identifier (\\_:identifier). The purpose of the identifier is to be able to locally reference the anonymous resource multiple times. Even if two blank nodes in different graphs use the same identifier, they usually reference a different resource. For example, when you want to express that you know someone who is a professor but doesn't have an identifier and there is someone else you don't know who is also a professor, you do it like this:\n",
    "\n",
    "**ex:me ex:knows \\_:1 .  \n",
    "\\_:1 rdf:type ex:professor .  \n",
    "\\_:2 rdf:type ex:professor .**\n",
    "\n",
    "You know \\_:1 but don't know \\_:2 but they are both professors.\n",
    "\n",
    "Additionally, blank nodes are often used to represent n-ary relations. For example, a grading that needs to have a grade and a grader can be expressed like this:\n",
    "\n",
    "**ex:student ex:grading \\_:1 .  \n",
    "\\_:1 ex:grade \"1.0\" .  \n",
    "\\_:1 ex:grader ex:professor .**\n",
    "\n",
    "**Syntactic sugar:**  \n",
    "To make this more readable, you can instead use square brackets (\\[ \\]) and every predicate-object-combination in between the square brackets will reference the same blank node. The grade example would then look like this:\n",
    "\n",
    "**ex:student ex:grading \\[  \n",
    "&nbsp;&nbsp;&nbsp;&nbsp;ex:grade \"1.0\" ;  \n",
    "&nbsp;&nbsp;&nbsp;&nbsp;ex:grader ex:professor  \n",
    "\\] .**\n",
    "\n",
    "Note that we must use semicolons and commas in between the brackets (see syntactic sugar at top of assignment) and there is still a period after the brackets.\n",
    "\n",
    "Also Note that the blank node identifier is exchangable as long as we use the same one when referencing the same node. That is why the bracket notation does not need an identifier.\n",
    "\n",
    "### 3a) I know someone who lives somewhere [3 points]\n",
    "Create an RDF graph using turtle that expresses the following:  \n",
    "You, a person without an identifier, knows another person without an identifier, who lives at the following address:\n",
    "\n",
    "Street: Templergraben  \n",
    "House number: 55  \n",
    "Postal code: 52062  \n",
    "City: Aachen\n",
    "\n",
    "Use the following URIs:  \n",
    "Type: rdf:type  \n",
    "Knows: foaf:knows  \n",
    "Person: http://example.org/classes#Person  \n",
    "Address: http://example.org/properties#address  \n",
    "Street: http://example.org/properties#street  \n",
    "House number: http://example.org/properties#houseNumber  \n",
    "Postal code: http://example.org/properties#postalCode  \n",
    "City: http://example.org/properties#city  \n",
    "\n",
    "Hint: use an n-ary relation for the address.\n",
    "\n",
    "**Use only string literals without language tags.**"
   ]
  },
  {
   "cell_type": "code",
   "execution_count": 13,
   "metadata": {
    "deletable": false,
    "nbgrader": {
     "cell_type": "code",
     "checksum": "79a506cd3eb3e91d9e2ea74a90ba5570",
     "grade": false,
     "grade_id": "cell-865f7b3dbf506688",
     "locked": false,
     "schema_version": 3,
     "solution": true,
     "task": false
    }
   },
   "outputs": [
    {
     "data": {
      "image/svg+xml": "<?xml version=\"1.0\" encoding=\"UTF-8\" standalone=\"no\"?>\n<!DOCTYPE svg PUBLIC \"-//W3C//DTD SVG 1.1//EN\"\n \"http://www.w3.org/Graphics/SVG/1.1/DTD/svg11.dtd\">\n<!-- Generated by graphviz version 2.50.0 (0)\n -->\n<!-- Pages: 1 -->\n<svg width=\"630pt\" height=\"305pt\"\n viewBox=\"0.00 0.00 630.00 305.00\" xmlns=\"http://www.w3.org/2000/svg\" xmlns:xlink=\"http://www.w3.org/1999/xlink\">\n<g id=\"graph0\" class=\"graph\" transform=\"scale(1 1) rotate(0) translate(4 301)\">\n<polygon fill=\"white\" stroke=\"transparent\" points=\"-4,4 -4,-301 626,-301 626,4 -4,4\"/>\n<!-- 0 -->\n<g id=\"node1\" class=\"node\">\n<title>0</title>\n<polygon fill=\"none\" stroke=\"black\" points=\"136,-36 0,-36 0,0 136,0 136,-36\"/>\n<text text-anchor=\"middle\" x=\"68\" y=\"-14.3\" font-family=\"Times New Roman,serif\" font-size=\"14.00\">&quot;52062&quot;^^xsd:integer</text>\n</g>\n<!-- 1 -->\n<g id=\"node2\" class=\"node\">\n<title>1</title>\n<ellipse fill=\"none\" stroke=\"black\" cx=\"228\" cy=\"-279\" rx=\"30.59\" ry=\"18\"/>\n<text text-anchor=\"middle\" x=\"228\" y=\"-275.3\" font-family=\"Times New Roman,serif\" font-size=\"14.00\">_:bn0</text>\n</g>\n<!-- 3 -->\n<g id=\"node4\" class=\"node\">\n<title>3</title>\n<ellipse fill=\"none\" stroke=\"black\" cx=\"216\" cy=\"-105\" rx=\"43.59\" ry=\"18\"/>\n<text text-anchor=\"middle\" x=\"216\" y=\"-101.3\" font-family=\"Times New Roman,serif\" font-size=\"14.00\">cl:Person</text>\n</g>\n<!-- 1&#45;&gt;3 -->\n<g id=\"edge5\" class=\"edge\">\n<title>1&#45;&gt;3</title>\n<path fill=\"none\" stroke=\"black\" d=\"M225.99,-260.98C224.43,-247.24 222.31,-227.4 221,-210 219.04,-184.06 217.71,-154.42 216.91,-133.43\"/>\n<polygon fill=\"black\" stroke=\"black\" points=\"220.4,-133.18 216.54,-123.32 213.41,-133.44 220.4,-133.18\"/>\n<text text-anchor=\"middle\" x=\"242.5\" y=\"-188.3\" font-family=\"Times New Roman,serif\" font-size=\"14.00\">rdf:type</text>\n</g>\n<!-- 7 -->\n<g id=\"node8\" class=\"node\">\n<title>7</title>\n<ellipse fill=\"none\" stroke=\"black\" cx=\"304\" cy=\"-192\" rx=\"30.59\" ry=\"18\"/>\n<text text-anchor=\"middle\" x=\"304\" y=\"-188.3\" font-family=\"Times New Roman,serif\" font-size=\"14.00\">_:bn2</text>\n</g>\n<!-- 1&#45;&gt;7 -->\n<g id=\"edge2\" class=\"edge\">\n<title>1&#45;&gt;7</title>\n<path fill=\"none\" stroke=\"black\" d=\"M241.59,-262.8C253.19,-249.83 270.05,-230.97 283.32,-216.12\"/>\n<polygon fill=\"black\" stroke=\"black\" points=\"286.22,-218.14 290.27,-208.35 281,-213.47 286.22,-218.14\"/>\n<text text-anchor=\"middle\" x=\"295.5\" y=\"-231.8\" font-family=\"Times New Roman,serif\" font-size=\"14.00\">pr:knows</text>\n</g>\n<!-- 2 -->\n<g id=\"node3\" class=\"node\">\n<title>2</title>\n<ellipse fill=\"none\" stroke=\"black\" cx=\"311\" cy=\"-105\" rx=\"30.59\" ry=\"18\"/>\n<text text-anchor=\"middle\" x=\"311\" y=\"-101.3\" font-family=\"Times New Roman,serif\" font-size=\"14.00\">_:bn1</text>\n</g>\n<!-- 2&#45;&gt;0 -->\n<g id=\"edge3\" class=\"edge\">\n<title>2&#45;&gt;0</title>\n<path fill=\"none\" stroke=\"black\" d=\"M287.28,-93.52C281.39,-91.16 275.02,-88.82 269,-87 230.78,-75.46 219.03,-81.15 181,-69 157.08,-61.36 131.4,-50.25 110.58,-40.44\"/>\n<polygon fill=\"black\" stroke=\"black\" points=\"111.91,-37.2 101.38,-36.05 108.89,-43.52 111.91,-37.2\"/>\n<text text-anchor=\"middle\" x=\"219\" y=\"-57.8\" font-family=\"Times New Roman,serif\" font-size=\"14.00\">pr:postalCode</text>\n</g>\n<!-- 4 -->\n<g id=\"node5\" class=\"node\">\n<title>4</title>\n<polygon fill=\"none\" stroke=\"black\" points=\"291.5,-36 154.5,-36 154.5,0 291.5,0 291.5,-36\"/>\n<text text-anchor=\"middle\" x=\"223\" y=\"-14.3\" font-family=\"Times New Roman,serif\" font-size=\"14.00\">&quot;Aachen&quot;^^xsd:string</text>\n</g>\n<!-- 2&#45;&gt;4 -->\n<g id=\"edge6\" class=\"edge\">\n<title>2&#45;&gt;4</title>\n<path fill=\"none\" stroke=\"black\" d=\"M295.67,-89.19C282.67,-76.64 263.76,-58.37 248.49,-43.62\"/>\n<polygon fill=\"black\" stroke=\"black\" points=\"250.51,-40.7 240.88,-36.27 245.64,-45.74 250.51,-40.7\"/>\n<text text-anchor=\"middle\" x=\"290\" y=\"-57.8\" font-family=\"Times New Roman,serif\" font-size=\"14.00\">pr:city</text>\n</g>\n<!-- 5 -->\n<g id=\"node6\" class=\"node\">\n<title>5</title>\n<polygon fill=\"none\" stroke=\"black\" points=\"488,-36 310,-36 310,0 488,0 488,-36\"/>\n<text text-anchor=\"middle\" x=\"399\" y=\"-14.3\" font-family=\"Times New Roman,serif\" font-size=\"14.00\">&quot;Templergraben&quot;^^xsd:string</text>\n</g>\n<!-- 2&#45;&gt;5 -->\n<g id=\"edge8\" class=\"edge\">\n<title>2&#45;&gt;5</title>\n<path fill=\"none\" stroke=\"black\" d=\"M326.33,-89.19C339.33,-76.64 358.24,-58.37 373.51,-43.62\"/>\n<polygon fill=\"black\" stroke=\"black\" points=\"376.36,-45.74 381.12,-36.27 371.49,-40.7 376.36,-45.74\"/>\n<text text-anchor=\"middle\" x=\"382.5\" y=\"-57.8\" font-family=\"Times New Roman,serif\" font-size=\"14.00\">pr:street</text>\n</g>\n<!-- 6 -->\n<g id=\"node7\" class=\"node\">\n<title>6</title>\n<polygon fill=\"none\" stroke=\"black\" points=\"622,-36 506,-36 506,0 622,0 622,-36\"/>\n<text text-anchor=\"middle\" x=\"564\" y=\"-14.3\" font-family=\"Times New Roman,serif\" font-size=\"14.00\">&quot;55&quot;^^xsd:integer</text>\n</g>\n<!-- 2&#45;&gt;6 -->\n<g id=\"edge1\" class=\"edge\">\n<title>2&#45;&gt;6</title>\n<path fill=\"none\" stroke=\"black\" d=\"M337.12,-95.22C376.11,-82.13 450.59,-57.1 503.57,-39.3\"/>\n<polygon fill=\"black\" stroke=\"black\" points=\"504.84,-42.57 513.2,-36.07 502.61,-35.93 504.84,-42.57\"/>\n<text text-anchor=\"middle\" x=\"498\" y=\"-57.8\" font-family=\"Times New Roman,serif\" font-size=\"14.00\">pr:houseNumber</text>\n</g>\n<!-- 7&#45;&gt;2 -->\n<g id=\"edge4\" class=\"edge\">\n<title>7&#45;&gt;2</title>\n<path fill=\"none\" stroke=\"black\" d=\"M305.42,-173.8C306.37,-162.16 307.66,-146.55 308.76,-133.24\"/>\n<polygon fill=\"black\" stroke=\"black\" points=\"312.25,-133.43 309.59,-123.18 305.28,-132.85 312.25,-133.43\"/>\n<text text-anchor=\"middle\" x=\"335\" y=\"-144.8\" font-family=\"Times New Roman,serif\" font-size=\"14.00\">pr:address</text>\n</g>\n<!-- 7&#45;&gt;3 -->\n<g id=\"edge7\" class=\"edge\">\n<title>7&#45;&gt;3</title>\n<path fill=\"none\" stroke=\"black\" d=\"M285.41,-177.39C277.33,-171.18 267.92,-163.54 260,-156 251.62,-148.03 243.07,-138.65 235.76,-130.18\"/>\n<polygon fill=\"black\" stroke=\"black\" points=\"238.32,-127.79 229.19,-122.42 232.98,-132.31 238.32,-127.79\"/>\n<text text-anchor=\"middle\" x=\"281.5\" y=\"-144.8\" font-family=\"Times New Roman,serif\" font-size=\"14.00\">rdf:type</text>\n</g>\n</g>\n</svg>\n",
      "text/plain": [
       "<graphviz.graphs.Digraph at 0x13e307a4400>"
      ]
     },
     "metadata": {},
     "output_type": "display_data"
    }
   ],
   "source": [
    "%%rdf turtle -l bnodes\n",
    "@prefix rdf: <http://www.w3.org/1999/02/22-rdf-syntax-ns#> .\n",
    "@prefix foaf: <http://xmlns.com/foaf/0.1/#> . \n",
    "@prefix xsd: <http://www.w3.org/2001/XMLSchema#> .\n",
    "\n",
    "@prefix ex: <http://example.org/> .\n",
    "@prefix cl: <http://example.org/classes#> .\n",
    "@prefix pr: <http://example.org/properties#> .\n",
    "\n",
    "[ rdf:type cl:Person ;\n",
    "    pr:knows [\n",
    "        rdf:type cl:Person ;\n",
    "        pr:address [\n",
    "            pr:street \"Templergraben\"^^xsd:string ;\n",
    "            pr:houseNumber \"55\"^^xsd:integer ;\n",
    "            pr:postalCode \"52062\"^^xsd:integer ;\n",
    "            pr:city \"Aachen\"^^xsd:string ;\n",
    "        ]\n",
    "    ]\n",
    " ] ."
   ]
  },
  {
   "cell_type": "code",
   "execution_count": 14,
   "metadata": {
    "deletable": false,
    "editable": false,
    "nbgrader": {
     "cell_type": "code",
     "checksum": "215d24621daf48fb93b6f86a8239841f",
     "grade": true,
     "grade_id": "cell-c99512ff1812ee4d",
     "locked": true,
     "points": 1,
     "schema_version": 3,
     "solution": false,
     "task": false
    }
   },
   "outputs": [],
   "source": [
    "# This test will check whether there is an anonymous person that knows another anonymous person. [1 point]\n",
    "from rdflib import URIRef, BNode\n",
    "store = %rdf -r\n",
    "graph = store['rdfgraphs'][\"bnodes\"]\n",
    "\n",
    "knows = URIRef(ex.format(\"properties#knows\"))\n",
    "\n",
    "err = \"The graph does not contain information about {}.\"\n",
    "assert (None, knows, None) in graph, err.format(\"an anonymous person that knows another anonymous person\")"
   ]
  },
  {
   "cell_type": "code",
   "execution_count": 15,
   "metadata": {
    "deletable": false,
    "editable": false,
    "nbgrader": {
     "cell_type": "code",
     "checksum": "4fed1f72fcd8f0716d453131de412727",
     "grade": true,
     "grade_id": "cell-34bb05ce1f74e4e4",
     "locked": true,
     "points": 1,
     "schema_version": 3,
     "solution": false,
     "task": false
    }
   },
   "outputs": [],
   "source": [
    "# This test will check whether there is an anonymous entity with an n-ary address. [1 point]\n",
    "from rdflib import URIRef, BNode\n",
    "store = %rdf -r\n",
    "graph = store['rdfgraphs'][\"bnodes\"]\n",
    "\n",
    "address = URIRef(ex.format(\"properties#address\"))\n",
    "\n",
    "err = \"The graph does not contain information about {}.\"\n",
    "assert (None, address, None) in graph, err.format(\"an anonymous entity with an n-ary address\")"
   ]
  },
  {
   "cell_type": "code",
   "execution_count": 16,
   "metadata": {
    "deletable": false,
    "editable": false,
    "nbgrader": {
     "cell_type": "code",
     "checksum": "111a0c7bc027a0cebaf090b53c52ef58",
     "grade": true,
     "grade_id": "cell-b317826a68e2bede",
     "locked": true,
     "points": 1,
     "schema_version": 3,
     "solution": false,
     "task": false
    }
   },
   "outputs": [],
   "source": [
    "# This test will check whether there is a correct n-ary address. [1 point]\n",
    "from rdflib import URIRef, BNode\n",
    "store = %rdf -r\n",
    "graph = store['rdfgraphs'][\"bnodes\"]\n",
    "\n",
    "address = URIRef(ex.format(\"properties#address\"))\n",
    "street = URIRef(ex.format(\"properties#street\"))\n",
    "houseNumber = URIRef(ex.format(\"properties#houseNumber\"))\n",
    "postalCode = URIRef(ex.format(\"properties#postalCode\"))\n",
    "city = URIRef(ex.format(\"properties#city\"))\n",
    "\n",
    "err = \"The graph does not contain information about {}.\"\n",
    "assert (None, address, None) in graph, err.format(\"an anonymous entity with an n-ary address\")\n",
    "assert (None, street, Literal(\"Templergraben\", datatype=\"http://www.w3.org/2001/XMLSchema#string\")) in graph, err.format(\"an anonymous entity with an n-ary address\")\n",
    "assert (None, houseNumber, Literal(\"55\", datatype=\"http://www.w3.org/2001/XMLSchema#integer\")) in graph, err.format(\"an anonymous entity with an n-ary address\")\n",
    "assert (None, postalCode, Literal(\"52062\", datatype=\"http://www.w3.org/2001/XMLSchema#integer\")) in graph, err.format(\"an anonymous entity with an n-ary address\")\n",
    "assert (None, city, Literal(\"Aachen\", datatype=\"http://www.w3.org/2001/XMLSchema#string\")) in graph, err.format(\"an anonymous entity with an n-ary address\")"
   ]
  }
 ],
 "metadata": {
  "kernelspec": {
   "display_name": "Python 3.9.12 ('venv': venv)",
   "language": "python",
   "name": "python3"
  },
  "language_info": {
   "codemirror_mode": {
    "name": "ipython",
    "version": 3
   },
   "file_extension": ".py",
   "mimetype": "text/x-python",
   "name": "python",
   "nbconvert_exporter": "python",
   "pygments_lexer": "ipython3",
   "version": "3.9.12"
  },
  "vscode": {
   "interpreter": {
    "hash": "236d1e2f9dc49a72c901b5b1642c7cbd857213a1eb29334698947e241dc8edf0"
   }
  }
 },
 "nbformat": 4,
 "nbformat_minor": 4
}
