{
 "cells": [
  {
   "cell_type": "code",
   "execution_count": 99,
   "metadata": {
    "deletable": false,
    "editable": false,
    "nbgrader": {
     "cell_type": "code",
     "checksum": "30d8b0b6ba0ed36eb04b765832aa0801",
     "grade": false,
     "grade_id": "cell-62337619e946bfb7",
     "locked": true,
     "schema_version": 3,
     "solution": false,
     "task": false
    }
   },
   "outputs": [
    {
     "data": {
      "application/javascript": "\n    if (typeof IPython !== \"undefined\") {\n        IPython.CodeCell.options_default.highlight_modes['application/sparql-query'] = {'reg':[/^%%rdf sparql/]};\n        IPython.CodeCell.options_default.highlight_modes['text/turtle'] = {'reg':[/^%%rdf turtle/, /^%%rdf shex/]};\n        IPython.CodeCell.options_default.highlight_modes['application/ld+json'] = {'reg':[/^%%rdf json-ld/]};\n        IPython.notebook.get_cells().map(function(cell){ if (cell.cell_type == 'code'){ cell.auto_highlight(); } });\n    }\n    "
     },
     "metadata": {},
     "output_type": "display_data"
    }
   ],
   "source": [
    "%reload_ext jupyter-rdfify"
   ]
  },
  {
   "cell_type": "code",
   "execution_count": 100,
   "metadata": {
    "deletable": false,
    "editable": false,
    "nbgrader": {
     "cell_type": "code",
     "checksum": "6ef4f0a70d6213658c24f43d86e545ed",
     "grade": false,
     "grade_id": "cell-243b7ced18a1336a",
     "locked": true,
     "schema_version": 3,
     "solution": false,
     "task": false
    }
   },
   "outputs": [],
   "source": [
    "# This cell defines some helpers, imports and strings for tests. Run it!\n",
    "from rdflib import URIRef, BNode, Literal, XSD, RDF, RDFS\n",
    "\n",
    "ex = \"http://example.org/#\"\n",
    "triple = \"({}, {}, {})\"\n",
    "error_not_contain = \"Your graph does not contain the triple:\\n{}.\"\n",
    "error_blank_node = \"The subject of the triple {} should be a blank node but it is {}\"\n",
    "error_multiple = \"Your graph contains multiple triples of the form {}.\"\n",
    "\n",
    "def get_uri(prefix, name):\n",
    "    '''\n",
    "    Helper function to create a URIRef from a prefix and a name.\n",
    "    \n",
    "    Pameters\n",
    "    --------\n",
    "    prefix: str\n",
    "        The prefix of the URIRef\n",
    "    name: str\n",
    "        The name of the URIRef\n",
    "    \n",
    "    Returns\n",
    "    -------\n",
    "    URIRef\n",
    "        The URIRef with the given prefix and name\n",
    "    '''\n",
    "    return URIRef(ex+name)\n",
    "\n",
    "def to_string(node):\n",
    "    '''\n",
    "    Helper function to create a string representation of a node.\n",
    "\n",
    "    Parameters\n",
    "    ----------\n",
    "    node: rdflib.term.Node\n",
    "        The node to create a string representation for\n",
    "\n",
    "    Returns\n",
    "    -------\n",
    "    str\n",
    "        The string representation of the node\n",
    "    '''\n",
    "    if isinstance(node, BNode):\n",
    "        return \"blank node\"\n",
    "    else:\n",
    "        return node.n3()\n",
    "\n",
    "def contain_check(graph, subject, predicate, object):\n",
    "    '''\n",
    "    Helper function to check if a graph contains a triple.\n",
    "\n",
    "    Parameters\n",
    "    ----------\n",
    "    graph: rdflib.graph.Graph\n",
    "        The graph to check\n",
    "    subject: rdflib.term.Node\n",
    "        The subject of the triple\n",
    "    predicate: rdflib.term.Node\n",
    "        The predicate of the triple\n",
    "    object: rdflib.term.Node\n",
    "        The object of the triple\n",
    "\n",
    "    Returns\n",
    "    -------\n",
    "    bool\n",
    "        True if the graph contains the triple, False otherwise\n",
    "    '''\n",
    "    assert (subject,predicate,object) in graph, error_not_contain.format(triple.format(to_string(subject), to_string(predicate), to_string(object)))"
   ]
  },
  {
   "cell_type": "markdown",
   "metadata": {
    "deletable": false,
    "editable": false,
    "nbgrader": {
     "cell_type": "markdown",
     "checksum": "2a277a8140b4b03b21dc1f6a6f0c4caf",
     "grade": false,
     "grade_id": "cell-0fd22e5d0af2bcd4",
     "locked": true,
     "schema_version": 3,
     "solution": false,
     "task": false
    }
   },
   "source": [
    "The cell below defines some prefixes which you can and should use throughout the entire notebook. Run it!"
   ]
  },
  {
   "cell_type": "code",
   "execution_count": 101,
   "metadata": {
    "deletable": false,
    "editable": false,
    "nbgrader": {
     "cell_type": "code",
     "checksum": "40db6048f17868c11eeef1a2753ac5c9",
     "grade": false,
     "grade_id": "cell-fb66abf182bcbaa9",
     "locked": true,
     "schema_version": 3,
     "solution": false,
     "task": false
    }
   },
   "outputs": [
    {
     "name": "stdout",
     "output_type": "stream",
     "text": [
      "Turtle: Stored prefix.\n"
     ]
    }
   ],
   "source": [
    "%%rdf turtle -p\n",
    "\n",
    "PREFIX ex: <http://example.org/#>\n",
    "PREFIX rdf: <http://www.w3.org/1999/02/22-rdf-syntax-ns#>\n",
    "PREFIX rdfs: <http://www.w3.org/2000/01/rdf-schema#>\n",
    "PREFIX xsd: <http://www.w3.org/2001/XMLSchema#>"
   ]
  },
  {
   "cell_type": "markdown",
   "metadata": {
    "deletable": false,
    "editable": false,
    "nbgrader": {
     "cell_type": "markdown",
     "checksum": "50125331d40fa1986f2818b87017da1a",
     "grade": false,
     "grade_id": "cell-1dc846c20b17545c",
     "locked": true,
     "schema_version": 3,
     "solution": false,
     "task": false
    }
   },
   "source": [
    "# Vocabularies/Ontologies and Data Modelling\n",
    "\n",
    "Up to now, all our graphs had very little meaning and could only be understood by humans. This is because we introduced new URIs for concepts and relationships (e.g. ex:capital or ex:Germany) but didn't formally describe them. This makes inferencing and finding similar or associated information difficult. To formally conceptualize our information, we need specialized vocabularies. These vocabularies called ontologies, provide terms with an agreed upon meaning together with rules and restrictions. Except some meta-ontologies, most ontologies model a specific topic and should only be used in that domain.  \n",
    "Some problems that can be solved using such vocabularies are for example different URIs describing the same resource or a property implying another property.\n",
    "\n",
    "In this exercise we will take a look at some core ontologies and learn to write our own ontologies.\n",
    "\n",
    "## Task 1: RDF Vocabulary [4 points]\n",
    "\n",
    "RDF is not only a data model but it also defines some URIs for basic data modelling. We already learned of **rdf:type**, which is a very important property expressing the membership of an object to a specified class. But it also introduces some other properties and classes important for data modelling.\n",
    "\n",
    "### Reification\n",
    "\n",
    "Adding facts to a graph is very simple but what if we want to add a statement which may not be true? For this we need to treat a triple as an object itself. For example if the butler accuses the gardener of being the murderer, we can't just add the fact:\n",
    "\n",
    "**ex:Gardener a ex:Murderer .**\n",
    "\n",
    "as we do not know if the butler tells the truth. But we can reify this triple to make it a statement said by the butler using the properties **rdf:subject, rdf:predicate, rdf:object** and the class **rdf:Statement** which are all terms defined by RDF:\n",
    "\n",
    "**ex:Butler ex:said \\[  \n",
    "&nbsp;&nbsp;&nbsp;&nbsp;rdf:subject ex:Gardener ;  \n",
    "&nbsp;&nbsp;&nbsp;&nbsp;rdf:predicate rdf:type ;  \n",
    "&nbsp;&nbsp;&nbsp;&nbsp;rdf:object ex:Murderer ;  \n",
    "&nbsp;&nbsp;&nbsp;&nbsp;a rdf:Statement ;  \n",
    "] .**\n",
    "\n",
    "**Note: The rdf:type abbreviation \"a\" can only be used at predicate position. At other positions use rdf:type.**\n",
    "\n",
    "### 1a) Gossip [2 points]\n",
    "\n",
    "A group of friends gossiped. Bob said something interesting: He said that Eve heard that Mallory cheated on Oscar.\n",
    "\n",
    "Use nested reification to create a graph of Bob's statement.\n",
    "\n",
    "Use the following URIs:  \n",
    "Bob: **http://example.org/#Bob**  \n",
    "Eve: **http://example.org/#Eve**  \n",
    "Mallory: **http://example.org/#Mallory**  \n",
    "Oscar: **http://example.org/#Oscar**  \n",
    "said: **http://example.org/#said**  \n",
    "heard: **http://example.org/#heard**  \n",
    "cheated on: **http://example.org/#cheatedOn**  \n",
    "\n",
    "You may also use all terms from the RDF vocabulary."
   ]
  },
  {
   "cell_type": "code",
   "execution_count": 102,
   "metadata": {
    "deletable": false,
    "nbgrader": {
     "cell_type": "code",
     "checksum": "65ceb7f2827385c5ab1c896d3275d025",
     "grade": false,
     "grade_id": "cell-242a1b3bec7afe75",
     "locked": false,
     "schema_version": 3,
     "solution": true,
     "task": false
    }
   },
   "outputs": [
    {
     "data": {
      "image/svg+xml": "<?xml version=\"1.0\" encoding=\"UTF-8\" standalone=\"no\"?>\n<!DOCTYPE svg PUBLIC \"-//W3C//DTD SVG 1.1//EN\"\n \"http://www.w3.org/Graphics/SVG/1.1/DTD/svg11.dtd\">\n<!-- Generated by graphviz version 5.0.1 (20220820.1526)\n -->\n<!-- Pages: 1 -->\n<svg width=\"492pt\" height=\"305pt\"\n viewBox=\"0.00 0.00 491.89 305.00\" xmlns=\"http://www.w3.org/2000/svg\" xmlns:xlink=\"http://www.w3.org/1999/xlink\">\n<g id=\"graph0\" class=\"graph\" transform=\"scale(1 1) rotate(0) translate(4 301)\">\n<polygon fill=\"white\" stroke=\"none\" points=\"-4,4 -4,-301 487.89,-301 487.89,4 -4,4\"/>\n<!-- 0 -->\n<g id=\"node1\" class=\"node\">\n<title>0</title>\n<ellipse fill=\"none\" stroke=\"black\" cx=\"48.75\" cy=\"-18\" rx=\"48.99\" ry=\"18\"/>\n<text text-anchor=\"middle\" x=\"48.75\" y=\"-14.3\" font-family=\"Times New Roman,serif\" font-size=\"14.00\">ex:Mallory</text>\n</g>\n<!-- 1 -->\n<g id=\"node2\" class=\"node\">\n<title>1</title>\n<ellipse fill=\"none\" stroke=\"black\" cx=\"114.75\" cy=\"-105\" rx=\"40.89\" ry=\"18\"/>\n<text text-anchor=\"middle\" x=\"114.75\" y=\"-101.3\" font-family=\"Times New Roman,serif\" font-size=\"14.00\">ex:heard</text>\n</g>\n<!-- 2 -->\n<g id=\"node3\" class=\"node\">\n<title>2</title>\n<ellipse fill=\"none\" stroke=\"black\" cx=\"207.75\" cy=\"-105\" rx=\"34.39\" ry=\"18\"/>\n<text text-anchor=\"middle\" x=\"207.75\" y=\"-101.3\" font-family=\"Times New Roman,serif\" font-size=\"14.00\">ex:Eve</text>\n</g>\n<!-- 3 -->\n<g id=\"node4\" class=\"node\">\n<title>3</title>\n<ellipse fill=\"none\" stroke=\"black\" cx=\"175.75\" cy=\"-18\" rx=\"59.59\" ry=\"18\"/>\n<text text-anchor=\"middle\" x=\"175.75\" y=\"-14.3\" font-family=\"Times New Roman,serif\" font-size=\"14.00\">ex:cheatedOn</text>\n</g>\n<!-- 4 -->\n<g id=\"node5\" class=\"node\">\n<title>4</title>\n<ellipse fill=\"none\" stroke=\"black\" cx=\"291.75\" cy=\"-105\" rx=\"31.4\" ry=\"18\"/>\n<text text-anchor=\"middle\" x=\"291.75\" y=\"-101.3\" font-family=\"Times New Roman,serif\" font-size=\"14.00\">_:bn0</text>\n</g>\n<!-- 4&#45;&gt;0 -->\n<g id=\"edge6\" class=\"edge\">\n<title>4&#45;&gt;0</title>\n<path fill=\"none\" stroke=\"black\" d=\"M268.23,-93.15C262.59,-90.86 256.53,-88.64 250.75,-87 202.24,-73.25 186.39,-85.49 138.75,-69 118.08,-61.85 96.61,-50.11 79.83,-39.81\"/>\n<polygon fill=\"black\" stroke=\"black\" points=\"81.35,-36.63 71.02,-34.27 77.62,-42.55 81.35,-36.63\"/>\n<text text-anchor=\"middle\" x=\"168.75\" y=\"-57.8\" font-family=\"Times New Roman,serif\" font-size=\"14.00\">rdf:subject</text>\n</g>\n<!-- 4&#45;&gt;3 -->\n<g id=\"edge3\" class=\"edge\">\n<title>4&#45;&gt;3</title>\n<path fill=\"none\" stroke=\"black\" d=\"M267.05,-93.68C248.87,-85.83 225.96,-75.34 217.75,-69 208.63,-61.97 200.14,-52.65 193.21,-43.96\"/>\n<polygon fill=\"black\" stroke=\"black\" points=\"195.92,-41.75 187.07,-35.92 190.36,-46 195.92,-41.75\"/>\n<text text-anchor=\"middle\" x=\"253.25\" y=\"-57.8\" font-family=\"Times New Roman,serif\" font-size=\"14.00\">rdf:predicate</text>\n</g>\n<!-- 6 -->\n<g id=\"node7\" class=\"node\">\n<title>6</title>\n<ellipse fill=\"none\" stroke=\"black\" cx=\"296.75\" cy=\"-18\" rx=\"42.79\" ry=\"18\"/>\n<text text-anchor=\"middle\" x=\"296.75\" y=\"-14.3\" font-family=\"Times New Roman,serif\" font-size=\"14.00\">ex:Oscar</text>\n</g>\n<!-- 4&#45;&gt;6 -->\n<g id=\"edge4\" class=\"edge\">\n<title>4&#45;&gt;6</title>\n<path fill=\"none\" stroke=\"black\" d=\"M291.69,-86.86C291.76,-77.2 292.01,-64.92 292.75,-54 292.92,-51.44 293.14,-48.77 293.39,-46.11\"/>\n<polygon fill=\"black\" stroke=\"black\" points=\"296.88,-46.38 294.47,-36.06 289.92,-45.63 296.88,-46.38\"/>\n<text text-anchor=\"middle\" x=\"320.25\" y=\"-57.8\" font-family=\"Times New Roman,serif\" font-size=\"14.00\">rdf:object</text>\n</g>\n<!-- 8 -->\n<g id=\"node9\" class=\"node\">\n<title>8</title>\n<ellipse fill=\"none\" stroke=\"black\" cx=\"424.75\" cy=\"-18\" rx=\"59.29\" ry=\"18\"/>\n<text text-anchor=\"middle\" x=\"424.75\" y=\"-14.3\" font-family=\"Times New Roman,serif\" font-size=\"14.00\">rdf:Statement</text>\n</g>\n<!-- 4&#45;&gt;8 -->\n<g id=\"edge5\" class=\"edge\">\n<title>4&#45;&gt;8</title>\n<path fill=\"none\" stroke=\"black\" d=\"M312.29,-91.29C322.9,-84.69 336.05,-76.47 347.75,-69 358.03,-62.43 360.51,-60.65 370.75,-54 377.66,-49.5 385.08,-44.69 392.13,-40.12\"/>\n<polygon fill=\"black\" stroke=\"black\" points=\"394.32,-42.87 400.81,-34.49 390.52,-36.99 394.32,-42.87\"/>\n<text text-anchor=\"middle\" x=\"392.75\" y=\"-57.8\" font-family=\"Times New Roman,serif\" font-size=\"14.00\">rdf:type</text>\n</g>\n<!-- 5 -->\n<g id=\"node6\" class=\"node\">\n<title>5</title>\n<ellipse fill=\"none\" stroke=\"black\" cx=\"249.75\" cy=\"-192\" rx=\"31.4\" ry=\"18\"/>\n<text text-anchor=\"middle\" x=\"249.75\" y=\"-188.3\" font-family=\"Times New Roman,serif\" font-size=\"14.00\">_:bn1</text>\n</g>\n<!-- 5&#45;&gt;1 -->\n<g id=\"edge8\" class=\"edge\">\n<title>5&#45;&gt;1</title>\n<path fill=\"none\" stroke=\"black\" d=\"M218.64,-189.71C191.97,-186.97 154.24,-178.95 130.75,-156 124.53,-149.93 120.73,-141.46 118.4,-133.21\"/>\n<polygon fill=\"black\" stroke=\"black\" points=\"121.81,-132.43 116.23,-123.43 114.98,-133.95 121.81,-132.43\"/>\n<text text-anchor=\"middle\" x=\"166.25\" y=\"-144.8\" font-family=\"Times New Roman,serif\" font-size=\"14.00\">rdf:predicate</text>\n</g>\n<!-- 5&#45;&gt;2 -->\n<g id=\"edge2\" class=\"edge\">\n<title>5&#45;&gt;2</title>\n<path fill=\"none\" stroke=\"black\" d=\"M228.99,-178.12C221.55,-172.34 213.96,-164.82 209.75,-156 206.4,-148.99 205.14,-140.79 204.93,-133.07\"/>\n<polygon fill=\"black\" stroke=\"black\" points=\"208.43,-133.09 205.18,-123.01 201.43,-132.92 208.43,-133.09\"/>\n<text text-anchor=\"middle\" x=\"239.75\" y=\"-144.8\" font-family=\"Times New Roman,serif\" font-size=\"14.00\">rdf:subject</text>\n</g>\n<!-- 5&#45;&gt;4 -->\n<g id=\"edge7\" class=\"edge\">\n<title>5&#45;&gt;4</title>\n<path fill=\"none\" stroke=\"black\" d=\"M259.47,-174.81C262.86,-168.96 266.6,-162.25 269.75,-156 273.59,-148.38 277.45,-139.94 280.84,-132.19\"/>\n<polygon fill=\"black\" stroke=\"black\" points=\"284.11,-133.44 284.84,-122.87 277.68,-130.68 284.11,-133.44\"/>\n<text text-anchor=\"middle\" x=\"305.25\" y=\"-144.8\" font-family=\"Times New Roman,serif\" font-size=\"14.00\">rdf:object</text>\n</g>\n<!-- 5&#45;&gt;8 -->\n<g id=\"edge1\" class=\"edge\">\n<title>5&#45;&gt;8</title>\n<path fill=\"none\" stroke=\"black\" d=\"M277.62,-183.39C295.54,-177.66 318.75,-168.61 336.75,-156 379.28,-126.2 391.5,-115.44 414.75,-69 418.23,-62.03 420.5,-53.95 421.98,-46.34\"/>\n<polygon fill=\"black\" stroke=\"black\" points=\"425.45,-46.82 423.55,-36.4 418.54,-45.73 425.45,-46.82\"/>\n<text text-anchor=\"middle\" x=\"427.75\" y=\"-101.3\" font-family=\"Times New Roman,serif\" font-size=\"14.00\">rdf:type</text>\n</g>\n<!-- 7 -->\n<g id=\"node8\" class=\"node\">\n<title>7</title>\n<ellipse fill=\"none\" stroke=\"black\" cx=\"249.75\" cy=\"-279\" rx=\"36.29\" ry=\"18\"/>\n<text text-anchor=\"middle\" x=\"249.75\" y=\"-275.3\" font-family=\"Times New Roman,serif\" font-size=\"14.00\">ex:Bob</text>\n</g>\n<!-- 7&#45;&gt;5 -->\n<g id=\"edge9\" class=\"edge\">\n<title>7&#45;&gt;5</title>\n<path fill=\"none\" stroke=\"black\" d=\"M249.75,-260.8C249.75,-249.16 249.75,-233.55 249.75,-220.24\"/>\n<polygon fill=\"black\" stroke=\"black\" points=\"253.25,-220.18 249.75,-210.18 246.25,-220.18 253.25,-220.18\"/>\n<text text-anchor=\"middle\" x=\"269.25\" y=\"-231.8\" font-family=\"Times New Roman,serif\" font-size=\"14.00\">ex:said</text>\n</g>\n</g>\n</svg>\n",
      "text/plain": [
       "<graphviz.graphs.Digraph at 0x2605ce0bd90>"
      ]
     },
     "metadata": {},
     "output_type": "display_data"
    }
   ],
   "source": [
    "%%rdf turtle -l gossip\n",
    "\n",
    "ex:Bob ex:said [\n",
    "    rdf:subject ex:Eve ;\n",
    "    rdf:predicate ex:heard ;\n",
    "    rdf:object [\n",
    "        rdf:subject ex:Mallory ;\n",
    "        rdf:predicate ex:cheatedOn ;\n",
    "        rdf:object ex:Oscar ;\n",
    "        a rdf:Statement ;\n",
    "    ] ;\n",
    "    a rdf:Statement ;\n",
    "] ."
   ]
  },
  {
   "cell_type": "code",
   "execution_count": 103,
   "metadata": {
    "deletable": false,
    "editable": false,
    "nbgrader": {
     "cell_type": "code",
     "checksum": "de87358429fc1563391a37a122e039ab",
     "grade": true,
     "grade_id": "cell-c5d0a196cb766a04",
     "locked": true,
     "points": 0.5,
     "schema_version": 3,
     "solution": false,
     "task": false
    }
   },
   "outputs": [],
   "source": [
    "# This test will check whether your graph contains a statement by Bob. [0.5 points]\n",
    "store = %rdf -r\n",
    "graph = store['rdfgraphs']['gossip']\n",
    "\n",
    "res = None\n",
    "res = list(graph.objects(subject=get_uri(ex, \"Bob\"), predicate=get_uri(ex, \"said\")))\n",
    "sta = triple.format(ex+\"Bob\", ex+\"said\", \"Blank node\")\n",
    "\n",
    "assert len(res) > 0, error_not_contain.format(sta)\n",
    "assert len(res) <= 1, error_multiple.format(sta)\n",
    "assert isinstance(res[0], BNode), error_blank_node.format(sta,res[0].n3())"
   ]
  },
  {
   "cell_type": "code",
   "execution_count": 104,
   "metadata": {
    "deletable": false,
    "editable": false,
    "nbgrader": {
     "cell_type": "code",
     "checksum": "3c9fb2cbf9cd35f1bf3349ab28c2f86c",
     "grade": true,
     "grade_id": "cell-73c5f331e3d920dc",
     "locked": true,
     "points": 0.5,
     "schema_version": 3,
     "solution": false,
     "task": false
    }
   },
   "outputs": [],
   "source": [
    "# This test will check whether a statement in your graph is about what Eve heard. [0.5 points]\n",
    "store = %rdf -r\n",
    "graph = store['rdfgraphs']['gossip']\n",
    "\n",
    "res1,res2 = (None, None)\n",
    "\n",
    "res1 = list(graph.subjects(object=get_uri(ex, \"Eve\"), predicate=RDF.subject))\n",
    "res2 = list(graph.subjects(object=get_uri(ex, \"heard\"), predicate=RDF.predicate))\n",
    "\n",
    "sta1 = triple.format(\"Blank node\", RDF.subject, ex+\"Eve\")\n",
    "sta2 = triple.format(\"Blank node\", RDF.predicate, ex+\"heard\")\n",
    "\n",
    "assert len(res1) > 0, error_not_contain.format(sta1)\n",
    "assert len(res1) <= 1, error_multiple.format(sta1)\n",
    "assert isinstance(res1[0], BNode), error_blank_node.format(sta1, res1[0].n3())\n",
    "\n",
    "assert len(res2) > 0, error_not_contain.format(sta2)\n",
    "assert len(res2) <= 1, error_multiple.format(sta2)\n",
    "assert isinstance(res2[0], BNode), error_blank_node.format(sta2, res2[0].n3())"
   ]
  },
  {
   "cell_type": "code",
   "execution_count": 105,
   "metadata": {
    "deletable": false,
    "editable": false,
    "nbgrader": {
     "cell_type": "code",
     "checksum": "28c72e800624f06681356ac12569df53",
     "grade": true,
     "grade_id": "cell-dae42e7390f903cf",
     "locked": true,
     "points": 1,
     "schema_version": 3,
     "solution": false,
     "task": false
    }
   },
   "outputs": [],
   "source": [
    "# This test will check whether the statement of what Eve heard is correct. [1 point]\n",
    "store = %rdf -r\n",
    "graph = store['rdfgraphs']['gossip']\n",
    "\n",
    "res, res2, res3 = (None, None, None)\n",
    "res = list(graph.subjects(object=get_uri(ex, \"Mallory\"), predicate=RDF.subject))\n",
    "res2 = list(graph.subjects(object=get_uri(ex, \"cheatedOn\"), predicate=RDF.predicate))\n",
    "res3 = list(graph.subjects(object=get_uri(ex, \"Oscar\"), predicate=RDF.object))\n",
    "\n",
    "triplets1 = triple.format(\"Blank node\", RDF.subject, ex+\"Mallory\")\n",
    "triplets2 = triple.format(\"Blank node\", RDF.predicate, ex+\"cheatedOn\")\n",
    "triplets3 = triple.format(\"Blank node\", RDF.object, ex+\"Oscar\")\n",
    "\n",
    "assert len(res) > 0, error_not_contain.format(triplets1)\n",
    "assert len(res) <= 1, error_multiple.format(triplets1)\n",
    "assert isinstance(res[0], BNode), error_blank_node.format(triplets1, res[0].n3())\n",
    "\n",
    "assert len(res2) > 0, error_not_contain.format(triplets2)\n",
    "assert len(res2) <= 1, error_multiple.format(triplets2)\n",
    "assert isinstance(res2[0], BNode), error_blank_node.format(triplets2, res2[0].n3())\n",
    "\n",
    "assert len(res3) > 0, error_not_contain.format(triplets3)\n",
    "assert len(res3) <= 1, error_multiple.format(triplets3)\n",
    "assert isinstance(res3[0], BNode), error_blank_node.format(triplets3, res3[0].n3())"
   ]
  },
  {
   "cell_type": "markdown",
   "metadata": {
    "deletable": false,
    "editable": false,
    "nbgrader": {
     "cell_type": "markdown",
     "checksum": "835fd5d9c54b1b3e2e7e498dd2164e09",
     "grade": false,
     "grade_id": "cell-9ebba7ead61e0295",
     "locked": true,
     "schema_version": 3,
     "solution": false,
     "task": false
    }
   },
   "source": [
    "### Primary values\n",
    "\n",
    "When using n-ary relations, it sometimes makes sense to have a **primary value**. The address example from the second exercise sheet was an n-ary relation but none of its values (street, house number, zip code, city) could be considered primary. But when talking about the price of somethinge in a specific currency, the price could be considered primary while the currency is a complementing value. To declare a primary value in an n-ary relation, one uses the **rdf:value** property defined in the RDF vocabulary. For example if a cheeseburger costs 1 Euro, you would write:\n",
    "\n",
    "**ex:Cheeseburger ex:price \\[  \n",
    "&nbsp;&nbsp;&nbsp;&nbsp;rdf:value \"1\" ;  \n",
    "&nbsp;&nbsp;&nbsp;&nbsp;ex:currency ex:Euro ;  \n",
    "\\] .**\n",
    "\n",
    "### 1b) Experiment [2 points]\n",
    "\n",
    "Some physicists conduct an experiment to determine the gravitational acceleration.  The result of the experiment is **9.81 m/s^2** with an **uncertainty of 0.02**. Because the gravitational acceleration varies based on location, we also need to know the location which is **latitude 50.78167189752423** and **longitude 6.049597427163315**. Use an n-ary relation with primary value to model this information.\n",
    "\n",
    "Use the following URIs:  \n",
    "Experiment: **http://example.org/#Experiment**  \n",
    "result: **http://example.org/#result**  \n",
    "unit: **http://example.org/#unit**  \n",
    "uncertainty: **http://example.org/#uncertainty**  \n",
    "latitude: **http://example.org/#latitude**  \n",
    "longitude: **http://example.org/#longitude**  \n",
    "\n",
    "Use xsd:decimal as datatype for decimal values and omit the datatype for string values. You may also use all terms from the RDF vocabulary."
   ]
  },
  {
   "cell_type": "code",
   "execution_count": 106,
   "metadata": {
    "deletable": false,
    "nbgrader": {
     "cell_type": "code",
     "checksum": "824238b79ebd6a5286f126634db06111",
     "grade": false,
     "grade_id": "cell-e8ac7b236e8be8ce",
     "locked": false,
     "schema_version": 3,
     "solution": true,
     "task": false
    }
   },
   "outputs": [
    {
     "data": {
      "image/svg+xml": "<?xml version=\"1.0\" encoding=\"UTF-8\" standalone=\"no\"?>\n<!DOCTYPE svg PUBLIC \"-//W3C//DTD SVG 1.1//EN\"\n \"http://www.w3.org/Graphics/SVG/1.1/DTD/svg11.dtd\">\n<!-- Generated by graphviz version 5.0.1 (20220820.1526)\n -->\n<!-- Pages: 1 -->\n<svg width=\"960pt\" height=\"305pt\"\n viewBox=\"0.00 0.00 959.50 305.00\" xmlns=\"http://www.w3.org/2000/svg\" xmlns:xlink=\"http://www.w3.org/1999/xlink\">\n<g id=\"graph0\" class=\"graph\" transform=\"scale(1 1) rotate(0) translate(4 301)\">\n<polygon fill=\"white\" stroke=\"none\" points=\"-4,4 -4,-301 955.5,-301 955.5,4 -4,4\"/>\n<!-- 0 -->\n<g id=\"node1\" class=\"node\">\n<title>0</title>\n<ellipse fill=\"none\" stroke=\"black\" cx=\"503.5\" cy=\"-279\" rx=\"61.99\" ry=\"18\"/>\n<text text-anchor=\"middle\" x=\"503.5\" y=\"-275.3\" font-family=\"Times New Roman,serif\" font-size=\"14.00\">ex:Experiment</text>\n</g>\n<!-- 2 -->\n<g id=\"node3\" class=\"node\">\n<title>2</title>\n<ellipse fill=\"none\" stroke=\"black\" cx=\"503.5\" cy=\"-192\" rx=\"31.4\" ry=\"18\"/>\n<text text-anchor=\"middle\" x=\"503.5\" y=\"-188.3\" font-family=\"Times New Roman,serif\" font-size=\"14.00\">_:bn0</text>\n</g>\n<!-- 0&#45;&gt;2 -->\n<g id=\"edge11\" class=\"edge\">\n<title>0&#45;&gt;2</title>\n<path fill=\"none\" stroke=\"black\" d=\"M503.5,-260.8C503.5,-249.16 503.5,-233.55 503.5,-220.24\"/>\n<polygon fill=\"black\" stroke=\"black\" points=\"507,-220.18 503.5,-210.18 500,-220.18 507,-220.18\"/>\n<text text-anchor=\"middle\" x=\"526.5\" y=\"-231.8\" font-family=\"Times New Roman,serif\" font-size=\"14.00\">ex:result</text>\n</g>\n<!-- 1 -->\n<g id=\"node2\" class=\"node\">\n<title>1</title>\n<polygon fill=\"none\" stroke=\"black\" points=\"131,-36 0,-36 0,0 131,0 131,-36\"/>\n<text text-anchor=\"middle\" x=\"65.5\" y=\"-14.3\" font-family=\"Times New Roman,serif\" font-size=\"14.00\">&quot;0.02&quot;^^xsd:decimal</text>\n</g>\n<!-- 5 -->\n<g id=\"node6\" class=\"node\">\n<title>5</title>\n<ellipse fill=\"none\" stroke=\"black\" cx=\"260.5\" cy=\"-105\" rx=\"31.4\" ry=\"18\"/>\n<text text-anchor=\"middle\" x=\"260.5\" y=\"-101.3\" font-family=\"Times New Roman,serif\" font-size=\"14.00\">_:bn1</text>\n</g>\n<!-- 2&#45;&gt;5 -->\n<g id=\"edge9\" class=\"edge\">\n<title>2&#45;&gt;5</title>\n<path fill=\"none\" stroke=\"black\" d=\"M472.11,-190.84C432.53,-189.43 363.4,-182.88 311.5,-156 299.29,-149.67 288.08,-139.44 279.3,-129.87\"/>\n<polygon fill=\"black\" stroke=\"black\" points=\"281.74,-127.34 272.53,-122.1 276.46,-131.94 281.74,-127.34\"/>\n<text text-anchor=\"middle\" x=\"350\" y=\"-144.8\" font-family=\"Times New Roman,serif\" font-size=\"14.00\">ex:uncertainty</text>\n</g>\n<!-- 6 -->\n<g id=\"node7\" class=\"node\">\n<title>6</title>\n<ellipse fill=\"none\" stroke=\"black\" cx=\"503.5\" cy=\"-105\" rx=\"31.4\" ry=\"18\"/>\n<text text-anchor=\"middle\" x=\"503.5\" y=\"-101.3\" font-family=\"Times New Roman,serif\" font-size=\"14.00\">_:bn2</text>\n</g>\n<!-- 2&#45;&gt;6 -->\n<g id=\"edge3\" class=\"edge\">\n<title>2&#45;&gt;6</title>\n<path fill=\"none\" stroke=\"black\" d=\"M503.5,-173.8C503.5,-162.16 503.5,-146.55 503.5,-133.24\"/>\n<polygon fill=\"black\" stroke=\"black\" points=\"507,-133.18 503.5,-123.18 500,-133.18 507,-133.18\"/>\n<text text-anchor=\"middle\" x=\"537\" y=\"-144.8\" font-family=\"Times New Roman,serif\" font-size=\"14.00\">ex:longitude</text>\n</g>\n<!-- 8 -->\n<g id=\"node9\" class=\"node\">\n<title>8</title>\n<ellipse fill=\"none\" stroke=\"black\" cx=\"260.5\" cy=\"-18\" rx=\"111.28\" ry=\"18\"/>\n<text text-anchor=\"middle\" x=\"260.5\" y=\"-14.3\" font-family=\"Times New Roman,serif\" font-size=\"14.00\">ex:meterPerSecondSquared</text>\n</g>\n<!-- 2&#45;&gt;8 -->\n<g id=\"edge4\" class=\"edge\">\n<title>2&#45;&gt;8</title>\n<path fill=\"none\" stroke=\"black\" d=\"M484.43,-177.5C442.87,-148.08 343.72,-77.91 292.44,-41.61\"/>\n<polygon fill=\"black\" stroke=\"black\" points=\"294.23,-38.58 284.04,-35.66 290.18,-44.3 294.23,-38.58\"/>\n<text text-anchor=\"middle\" x=\"425\" y=\"-101.3\" font-family=\"Times New Roman,serif\" font-size=\"14.00\">ex:unit</text>\n</g>\n<!-- 9 -->\n<g id=\"node10\" class=\"node\">\n<title>9</title>\n<ellipse fill=\"none\" stroke=\"black\" cx=\"654.5\" cy=\"-105\" rx=\"31.4\" ry=\"18\"/>\n<text text-anchor=\"middle\" x=\"654.5\" y=\"-101.3\" font-family=\"Times New Roman,serif\" font-size=\"14.00\">_:bn3</text>\n</g>\n<!-- 2&#45;&gt;9 -->\n<g id=\"edge10\" class=\"edge\">\n<title>2&#45;&gt;9</title>\n<path fill=\"none\" stroke=\"black\" d=\"M527.15,-180.08C541.11,-173.45 559.01,-164.63 574.5,-156 592.08,-146.2 611.22,-134.29 626.36,-124.55\"/>\n<polygon fill=\"black\" stroke=\"black\" points=\"628.29,-127.48 634.78,-119.1 624.48,-121.6 628.29,-127.48\"/>\n<text text-anchor=\"middle\" x=\"627.5\" y=\"-144.8\" font-family=\"Times New Roman,serif\" font-size=\"14.00\">ex:latitude</text>\n</g>\n<!-- 10 -->\n<g id=\"node11\" class=\"node\">\n<title>10</title>\n<polygon fill=\"none\" stroke=\"black\" points=\"835,-123 704,-123 704,-87 835,-87 835,-123\"/>\n<text text-anchor=\"middle\" x=\"769.5\" y=\"-101.3\" font-family=\"Times New Roman,serif\" font-size=\"14.00\">&quot;9.81&quot;^^xsd:decimal</text>\n</g>\n<!-- 2&#45;&gt;10 -->\n<g id=\"edge1\" class=\"edge\">\n<title>2&#45;&gt;10</title>\n<path fill=\"none\" stroke=\"black\" d=\"M533.32,-186.2C565.09,-180.64 616.61,-170.39 659.5,-156 682.51,-148.28 707.18,-137.33 727.32,-127.64\"/>\n<polygon fill=\"black\" stroke=\"black\" points=\"729.07,-130.68 736.52,-123.15 726,-124.39 729.07,-130.68\"/>\n<text text-anchor=\"middle\" x=\"721\" y=\"-144.8\" font-family=\"Times New Roman,serif\" font-size=\"14.00\">rdf:value</text>\n</g>\n<!-- 3 -->\n<g id=\"node4\" class=\"node\">\n<title>3</title>\n<polygon fill=\"none\" stroke=\"black\" points=\"951.5,-36 733.5,-36 733.5,0 951.5,0 951.5,-36\"/>\n<text text-anchor=\"middle\" x=\"842.5\" y=\"-14.3\" font-family=\"Times New Roman,serif\" font-size=\"14.00\">&quot;50.78167189752423&quot;^^xsd:decimal</text>\n</g>\n<!-- 4 -->\n<g id=\"node5\" class=\"node\">\n<title>4</title>\n<polygon fill=\"none\" stroke=\"black\" points=\"607.5,-36 389.5,-36 389.5,0 607.5,0 607.5,-36\"/>\n<text text-anchor=\"middle\" x=\"498.5\" y=\"-14.3\" font-family=\"Times New Roman,serif\" font-size=\"14.00\">&quot;6.049597427163315&quot;^^xsd:decimal</text>\n</g>\n<!-- 5&#45;&gt;1 -->\n<g id=\"edge12\" class=\"edge\">\n<title>5&#45;&gt;1</title>\n<path fill=\"none\" stroke=\"black\" d=\"M236.2,-93.41C205.8,-80.15 153.02,-57.15 114.18,-40.22\"/>\n<polygon fill=\"black\" stroke=\"black\" points=\"115.19,-36.84 104.63,-36.06 112.4,-43.26 115.19,-36.84\"/>\n<text text-anchor=\"middle\" x=\"200\" y=\"-57.8\" font-family=\"Times New Roman,serif\" font-size=\"14.00\">rdf:value</text>\n</g>\n<!-- 5&#45;&gt;8 -->\n<g id=\"edge2\" class=\"edge\">\n<title>5&#45;&gt;8</title>\n<path fill=\"none\" stroke=\"black\" d=\"M260.5,-86.8C260.5,-75.16 260.5,-59.55 260.5,-46.24\"/>\n<polygon fill=\"black\" stroke=\"black\" points=\"264,-46.18 260.5,-36.18 257,-46.18 264,-46.18\"/>\n<text text-anchor=\"middle\" x=\"279\" y=\"-57.8\" font-family=\"Times New Roman,serif\" font-size=\"14.00\">ex:unit</text>\n</g>\n<!-- 6&#45;&gt;4 -->\n<g id=\"edge7\" class=\"edge\">\n<title>6&#45;&gt;4</title>\n<path fill=\"none\" stroke=\"black\" d=\"M502.49,-86.8C501.8,-75.16 500.89,-59.55 500.1,-46.24\"/>\n<polygon fill=\"black\" stroke=\"black\" points=\"503.59,-45.95 499.51,-36.18 496.6,-46.36 503.59,-45.95\"/>\n<text text-anchor=\"middle\" x=\"526\" y=\"-57.8\" font-family=\"Times New Roman,serif\" font-size=\"14.00\">rdf:value</text>\n</g>\n<!-- 7 -->\n<g id=\"node8\" class=\"node\">\n<title>7</title>\n<ellipse fill=\"none\" stroke=\"black\" cx=\"670.5\" cy=\"-18\" rx=\"44.69\" ry=\"18\"/>\n<text text-anchor=\"middle\" x=\"670.5\" y=\"-14.3\" font-family=\"Times New Roman,serif\" font-size=\"14.00\">ex:degree</text>\n</g>\n<!-- 6&#45;&gt;7 -->\n<g id=\"edge8\" class=\"edge\">\n<title>6&#45;&gt;7</title>\n<path fill=\"none\" stroke=\"black\" d=\"M526.02,-92.54C553.9,-78.35 601.71,-54.01 634.65,-37.25\"/>\n<polygon fill=\"black\" stroke=\"black\" points=\"636.61,-40.18 643.93,-32.52 633.43,-33.94 636.61,-40.18\"/>\n<text text-anchor=\"middle\" x=\"616\" y=\"-57.8\" font-family=\"Times New Roman,serif\" font-size=\"14.00\">ex:unit</text>\n</g>\n<!-- 9&#45;&gt;3 -->\n<g id=\"edge6\" class=\"edge\">\n<title>9&#45;&gt;3</title>\n<path fill=\"none\" stroke=\"black\" d=\"M678.31,-93.23C707.64,-79.97 758.15,-57.14 795.42,-40.28\"/>\n<polygon fill=\"black\" stroke=\"black\" points=\"796.92,-43.45 804.59,-36.14 794.04,-37.07 796.92,-43.45\"/>\n<text text-anchor=\"middle\" x=\"784\" y=\"-57.8\" font-family=\"Times New Roman,serif\" font-size=\"14.00\">rdf:value</text>\n</g>\n<!-- 9&#45;&gt;7 -->\n<g id=\"edge5\" class=\"edge\">\n<title>9&#45;&gt;7</title>\n<path fill=\"none\" stroke=\"black\" d=\"M657.74,-86.8C659.93,-75.16 662.87,-59.55 665.37,-46.24\"/>\n<polygon fill=\"black\" stroke=\"black\" points=\"668.86,-46.65 667.27,-36.18 661.98,-45.36 668.86,-46.65\"/>\n<text text-anchor=\"middle\" x=\"682\" y=\"-57.8\" font-family=\"Times New Roman,serif\" font-size=\"14.00\">ex:unit</text>\n</g>\n</g>\n</svg>\n",
      "text/plain": [
       "<graphviz.graphs.Digraph at 0x2605ccfe5c0>"
      ]
     },
     "metadata": {},
     "output_type": "display_data"
    }
   ],
   "source": [
    "%%rdf turtle -l experiment\n",
    "\n",
    "ex:Experiment ex:result [\n",
    "    rdf:value \"9.81\"^^xsd:decimal ;\n",
    "    ex:unit ex:meterPerSecondSquared ;\n",
    "    ex:uncertainty [\n",
    "        rdf:value \"0.02\"^^xsd:decimal ;\n",
    "        ex:unit ex:meterPerSecondSquared ;\n",
    "    ] ;\n",
    "    ex:latitude [\n",
    "        rdf:value \"50.78167189752423\"^^xsd:decimal ;\n",
    "        ex:unit ex:degree ;\n",
    "    ] ;\n",
    "    ex:longitude [\n",
    "        rdf:value \"6.049597427163315\"^^xsd:decimal ;\n",
    "        ex:unit ex:degree ;\n",
    "    ] ;\n",
    "] ."
   ]
  },
  {
   "cell_type": "code",
   "execution_count": 107,
   "metadata": {
    "deletable": false,
    "editable": false,
    "nbgrader": {
     "cell_type": "code",
     "checksum": "02cc241ff9727eb088be2db6763d5a1f",
     "grade": true,
     "grade_id": "cell-f98d7467ba33b658",
     "locked": true,
     "points": 1,
     "schema_version": 3,
     "solution": false,
     "task": false
    }
   },
   "outputs": [],
   "source": [
    "# This test will check whether your graph contains the result of the experiment\n",
    "# and whether the primary value was chosen correctly. [1 point]\n",
    "store = %rdf -r\n",
    "graph = store['rdfgraphs']['experiment']\n",
    "\n",
    "res1, res2 = (None, None)\n",
    "res1 = list(graph.objects(subject=get_uri(ex, \"Experiment\"), predicate=get_uri(ex, \"result\")))\n",
    "res2 = list(graph.subjects(object=Literal(\"9.81\", datatype=XSD.decimal), predicate=RDF.value))\n",
    "\n",
    "sta1 = triple.format(ex+\"Experiment\", ex+\"result\", \"Blank node\")\n",
    "sta2 = triple.format(\"Blank node\", RDF.value, \"9.81\")\n",
    "\n",
    "assert len(res1) > 0, error_not_contain.format(sta1)\n",
    "assert len(res1) <= 1, error_multiple.format(sta1)\n",
    "assert isinstance(res1[0], BNode), error_blank_node.format(sta1, res1[0].n3())\n",
    "\n",
    "assert len(res2) > 0, error_not_contain.format(sta2)\n",
    "assert len(res2) <= 1, error_multiple.format(sta2)\n",
    "assert isinstance(res2[0], BNode), error_blank_node.format(sta2, res2[0].n3())\n",
    "\n",
    "# assert both blank nodes are the same\n",
    "assert res1[0] == res2[0], error_blank_node.format(sta1, res1[0].n3())"
   ]
  },
  {
   "cell_type": "code",
   "execution_count": 108,
   "metadata": {
    "deletable": false,
    "editable": false,
    "nbgrader": {
     "cell_type": "code",
     "checksum": "a461a3b71837ef6062524629800a9da0",
     "grade": true,
     "grade_id": "cell-d67b6ec756729f53",
     "locked": true,
     "points": 1,
     "schema_version": 3,
     "solution": false,
     "task": false
    }
   },
   "outputs": [],
   "source": [
    "# This test will check whether your graph contains all complementing values. [1 point]\n",
    "# Only gives points if the last test does not fail.\n",
    "store = %rdf -r\n",
    "graph = store['rdfgraphs']['experiment']\n",
    "\n",
    "res1, res2 = (None, None)\n",
    "\n",
    "res1 = list(graph.subjects(object=get_uri(ex, \"meterPerSecondSquared\"), predicate=get_uri(ex, \"unit\"))) # for result and certainty\n",
    "res2 = list(graph.subjects(object=get_uri(ex, \"degree\"), predicate=get_uri(ex, \"unit\"))) # for latitude and longitude\n",
    "\n",
    "sta1 = triple.format(\"Blank node\", ex+\"unit\", ex+\"meterPerSecondSquared\")\n",
    "sta2 = triple.format(\"Blank node\", ex+\"unit\", ex+\"degree\")\n",
    "\n",
    "assert len(res1) > 0, error_not_contain.format(sta1)\n",
    "assert isinstance(res1[0], BNode), error_blank_node.format(sta1, res1[0].n3())\n",
    "\n",
    "assert len(res2) > 0, error_not_contain.format(sta2)\n",
    "assert isinstance(res2[0], BNode), error_blank_node.format(sta2, res2[0].n3())"
   ]
  },
  {
   "cell_type": "markdown",
   "metadata": {
    "deletable": false,
    "editable": false,
    "nbgrader": {
     "cell_type": "markdown",
     "checksum": "6cbde5bcc22a063f85a36a2230fc610f",
     "grade": false,
     "grade_id": "cell-62b9e77782c2aaa9",
     "locked": true,
     "schema_version": 3,
     "solution": false,
     "task": false
    }
   },
   "source": [
    "## Task 2: RDF Schema [8 points]\n",
    "\n",
    "RDF Schema (RDFS) is another [W3C recommended](https://www.w3.org/TR/rdf-schema/) vocabulary. RDFS provides means to specify characteristics of classes and properties independent of their domain. It can be seen as a weak ontology language for defining vocabularies. RDFS splits resources into three types: individuals, classes and properties. Individuals are instances of things, like a specific person or object. Classes are sets of individuals with similar properties like all persons or all cars. Properties describe individuals.\n",
    "\n",
    "### Classes\n",
    "\n",
    "Classes are sets of individuals with similar properties. To define our own class, we just have to declare the type of the class resource as **rdfs:Class**:\n",
    "\n",
    "**ex:Car a rdfs:Class .**\n",
    "\n",
    "To declare that an individual is part of a class, we also use rdf:type:\n",
    "\n",
    "**ex:BMW a ex:Car .**\n",
    "\n",
    "So rdfs:Class is the class containing all classes.\n",
    "\n",
    "### Properties\n",
    "\n",
    "As with classes, we can define our own properties to describe resources. For this, we use the class rdf:Property (Note that it is **rdf:Property** NOT rdfs:Property as it is defined in the RDF vocabulary). To define our own property, we just have to declare the type of the resource as **rdf:Property**:\n",
    "\n",
    "**ex:drives a rdf:Property .**\n",
    "\n",
    "Then we can use the property:\n",
    "\n",
    "**ex:Max ex:drives ex:BMW .**\n",
    "\n",
    "As rdf:Property is the class of all properties, it is also an rdfs:Class.\n",
    "\n",
    "### Subclasses and Subproperties\n",
    "\n",
    "While classes and properties are a nice way to organize resources, by themselves they do not provide means of infering new information. For this RDFS defines the two properties **rdfs:subClassOf** and **rdfs:subPropertyOf**. Any individual of a subclass also belongs to the superclass and any triple with the subproperty also holds for the superproperty. For example from the following graph:\n",
    "\n",
    "**\\# Defining classes and properties  \n",
    "ex:Car a rdfs:Class .  \n",
    "ex:Vehicle a rdfs:Class .  \n",
    "ex:drives a rdf:Property .  \n",
    "ex:operates a rdf:Property .  \n",
    "\\# Defining subclass- and subproperty-relations  \n",
    "ex:Car rdfs:subClassOf ex:Vehicle .  \n",
    "ex:drives rdfs:subPropertyOf ex:operates .  \n",
    "\\# Facts  \n",
    "ex:BMW a ex:Car .  \n",
    "ex:Max ex:drives ex:BMW .**\n",
    "\n",
    "these triples can be inferred:\n",
    "\n",
    "**ex:BMW a ex:Vehicle .  \n",
    "ex:Max ex:operates ex:BMW .**\n",
    "\n",
    "Both rdfs:subClassOf and rdfs:subPropertyOf are reflexive and transitive. So all \\[classes/properties\\] are \\[subclasses/subproperties\\] of themselves and when x is a \\[subclass/subproperty\\] of y and y is a \\[subclass/subproperty\\] of z then x is also a \\[subclass/subproperty\\] of z.\n",
    "\n",
    "To define that two classes or properties are equal, you just add a subclass/subproperty relation in both directions:\n",
    "\n",
    "**ex:Car rdfs:subClassOf ex:Automobile .  \n",
    "ex:Automobile rdfs:subClassOf ex:Car .  \n",
    "ex:drives rdfs:subPropertyOf ex:Steers .  \n",
    "ex:Steers rdfs:subPropertyOf ex:drives .**\n",
    "\n",
    "RDFS defines a class rdfs:Resource, which is the superclass of all classes.\n",
    "\n",
    "### Domains and Ranges\n",
    "\n",
    "Another way to infer new information is by using property domains and ranges. The domain of a property defines the class of the subject in a triple and the range the class of the object. For this we use the properties **rdfs:domain** and **rdfs:range**. For example, given the graph:\n",
    "\n",
    "**ex:Car a rdfs:Class .  \n",
    "ex:Person a rdfs:Class .  \n",
    "ex:drives a rdf:Property .  \n",
    "ex:drives rdfs:domain ex:Person .  \n",
    "ex:drives rdfs:range ex:Car .  \n",
    "ex:Max ex:drives ex:BMW .**\n",
    "\n",
    "we can infer the triples:\n",
    "\n",
    "**ex:Max a ex:Person .  \n",
    "ex:BMW a ex:Car .**\n",
    "\n",
    "Because ex:drives has the domain ex:Person and range ex:Car, ex:Max, who appears as subject of ex:drives, has to be a ex:Person, and ex:BMW, which appears as object of ex:drives, has to be a ex:Car.\n",
    "\n",
    "Many RDFS properties have predefined domains and ranges. For example rdfs:domain and rdfs:range themselves have rdf:Property as a domain and rdfs:Class as range. This means that we can omit the first three triples in the example above as they can be inferred by the fourth and fifth triple.\n",
    "\n",
    "Be careful when using multiple domains and ranges as they apply conjunctively and not disjunctively. For example:\n",
    "\n",
    "**ex:drives rdfs:range ex:Car .  \n",
    "ex:drives rdfs:range ex:Ship .**\n",
    "\n",
    "One would think that this means that the object of ex:drives is either a car or a ship but it means that its object is a car and a ship at the same time which is probably unintended. A better way to model this would be the following:\n",
    "\n",
    "**ex:Car rdfs:subClassOf ex:Vehicle .  \n",
    "ex:Ship rdfs:subClassOf ex:Vehicle .  \n",
    "ex:drives rdfs:range ex:Vehicle .**\n",
    "\n",
    "### Comparison to Object-Oriented Programming\n",
    "\n",
    "One may compare the class and property system of RDFS to object-oriented programming but this can be misleading. In oop, one defines classes in terms of what properties they have, while in RDFS one defines properties in terms of which classes of instances they apply to. So instead of saying: \"x belongs to class y so it has to have property z\", we say \"Property z is used with x, so x has to belong to class y\".\n",
    "\n",
    "\n",
    "### Other Useful Properties\n",
    "\n",
    "RDFS also defines the following useful properties:\n",
    "\n",
    "**rdfs:label**: Specifies a human-readable label for a resource. We already used this in prior exercises to give resources literal names.\n",
    "\n",
    "**rdfs:comment**: Specifies a human-readable description for a resource.\n",
    "\n",
    "**rdfs:seeAlso**: Specifies a generic link. Useful for linking resources to similar resources or resources that provide additional information.\n",
    "\n",
    "**rdfs:isDefinedBy**: Relate a resource to its definition. Can be used to indicate a vocabulary in which the resource is defined.\n",
    "\n",
    "### Entailment\n",
    "\n",
    "Using the RDFS vocabulary and its rules, we can now rdfs-entail a graph. If a graph A rdfs-entails a graph B, every rdfs-interpretation which satisfies graph A also satisfies graph B. With this we can implicitly deduct semantics for our graphs instead of explicitly specifying the meaning of information. For example, we can describe 'what a car is' without using attributes describing it. We implicitly specify it by stating that a car is a vehicle and that vehicles can be driven. Using this, we can give a machine interpretable meaning to resources and provide a more general description. RDFS-Entailment is only one of many possible entailment regimes. For more information on RDFS-Entailment, other entailment regimes and rdf semantics in general please consult this [W3C recommendation](https://www.w3.org/TR/rdf11-mt/).\n",
    "\n",
    "### 2a) Pets [4 points]\n",
    "\n",
    "Model the following information using the RDFS vocabulary:  \n",
    "All mammals are animals. All Humans, Canines and Felines are mammals. All dogs and foxes are Canines. Only humans have pets (http://example.org/#hasPet). Having a dog (http://example.org/#hasDog) means having a pet which is a dog.\n",
    "\n",
    "Also add that Max has a Dog with the name (rdfs:label) \"Spike\" and the description (rdfs:comment) \"A gray bulldog. He likes to chase cats.\".\n",
    "\n",
    "Use the following URIs:  \n",
    "Animals: **http://example.org/#Animal**  \n",
    "Mammals: **http://example.org/#Mammal**  \n",
    "Humans: **http://example.org/#Human**  \n",
    "Canines: **http://example.org/#Canine**  \n",
    "Felines: **http://example.org/#Feline**  \n",
    "Dogs: **http://example.org/#Dog**  \n",
    "Foxes: **http://example.org/#Fox**  \n",
    "Has a pet: **http://example.org/#hasPet**  \n",
    "Has a dog: **http://example.org/#hasDog**  \n",
    "Max: **http://example.org/#Max**  \n",
    "Spike: **http://example.org/#Spike**\n",
    "\n",
    "You may also use all terms from the RDF and RDFS vocabularies. You may omit or keep as many triples as long as the rdfs-entailment closure stays the same."
   ]
  },
  {
   "cell_type": "code",
   "execution_count": 109,
   "metadata": {
    "deletable": false,
    "nbgrader": {
     "cell_type": "code",
     "checksum": "fd562bb87d0358fc138c113e18ad0c5b",
     "grade": false,
     "grade_id": "cell-29a88032a0541ea5",
     "locked": false,
     "schema_version": 3,
     "solution": true,
     "task": false
    }
   },
   "outputs": [
    {
     "data": {
      "image/svg+xml": "<?xml version=\"1.0\" encoding=\"UTF-8\" standalone=\"no\"?>\n<!DOCTYPE svg PUBLIC \"-//W3C//DTD SVG 1.1//EN\"\n \"http://www.w3.org/Graphics/SVG/1.1/DTD/svg11.dtd\">\n<!-- Generated by graphviz version 5.0.1 (20220820.1526)\n -->\n<!-- Pages: 1 -->\n<svg width=\"1236pt\" height=\"566pt\"\n viewBox=\"0.00 0.00 1236.19 566.00\" xmlns=\"http://www.w3.org/2000/svg\" xmlns:xlink=\"http://www.w3.org/1999/xlink\">\n<g id=\"graph0\" class=\"graph\" transform=\"scale(1 1) rotate(0) translate(4 562)\">\n<polygon fill=\"white\" stroke=\"none\" points=\"-4,4 -4,-562 1232.19,-562 1232.19,4 -4,4\"/>\n<!-- 0 -->\n<g id=\"node1\" class=\"node\">\n<title>0</title>\n<ellipse fill=\"none\" stroke=\"black\" cx=\"361.19\" cy=\"-366\" rx=\"55.49\" ry=\"18\"/>\n<text text-anchor=\"middle\" x=\"361.19\" y=\"-362.3\" font-family=\"Times New Roman,serif\" font-size=\"14.00\">rdf:Property</text>\n</g>\n<!-- 1 -->\n<g id=\"node2\" class=\"node\">\n<title>1</title>\n<ellipse fill=\"none\" stroke=\"black\" cx=\"1106.19\" cy=\"-453\" rx=\"41.69\" ry=\"18\"/>\n<text text-anchor=\"middle\" x=\"1106.19\" y=\"-449.3\" font-family=\"Times New Roman,serif\" font-size=\"14.00\">ex:Spike</text>\n</g>\n<!-- 14 -->\n<g id=\"node15\" class=\"node\">\n<title>14</title>\n<ellipse fill=\"none\" stroke=\"black\" cx=\"928.19\" cy=\"-366\" rx=\"36.29\" ry=\"18\"/>\n<text text-anchor=\"middle\" x=\"928.19\" y=\"-362.3\" font-family=\"Times New Roman,serif\" font-size=\"14.00\">ex:Dog</text>\n</g>\n<!-- 1&#45;&gt;14 -->\n<g id=\"edge24\" class=\"edge\">\n<title>1&#45;&gt;14</title>\n<path fill=\"none\" stroke=\"black\" d=\"M1082.65,-438.05C1064.51,-427.55 1038.65,-413.11 1015.19,-402 999.5,-394.57 981.79,-387.25 966.46,-381.25\"/>\n<polygon fill=\"black\" stroke=\"black\" points=\"967.36,-377.85 956.77,-377.5 964.84,-384.37 967.36,-377.85\"/>\n<text text-anchor=\"middle\" x=\"1065.19\" y=\"-405.8\" font-family=\"Times New Roman,serif\" font-size=\"14.00\">rdf:type</text>\n</g>\n<!-- 15 -->\n<g id=\"node16\" class=\"node\">\n<title>15</title>\n<polygon fill=\"none\" stroke=\"black\" points=\"1228.19,-384 984.19,-384 984.19,-348 1228.19,-348 1228.19,-384\"/>\n<text text-anchor=\"middle\" x=\"1106.19\" y=\"-362.3\" font-family=\"Times New Roman,serif\" font-size=\"14.00\">&quot;A gray bulldog. He likes to chase cats.&quot;</text>\n</g>\n<!-- 1&#45;&gt;15 -->\n<g id=\"edge30\" class=\"edge\">\n<title>1&#45;&gt;15</title>\n<path fill=\"none\" stroke=\"black\" d=\"M1106.19,-434.8C1106.19,-423.16 1106.19,-407.55 1106.19,-394.24\"/>\n<polygon fill=\"black\" stroke=\"black\" points=\"1109.69,-394.18 1106.19,-384.18 1102.69,-394.18 1109.69,-394.18\"/>\n<text text-anchor=\"middle\" x=\"1145.19\" y=\"-405.8\" font-family=\"Times New Roman,serif\" font-size=\"14.00\">rdfs:comment</text>\n</g>\n<!-- 2 -->\n<g id=\"node3\" class=\"node\">\n<title>2</title>\n<ellipse fill=\"none\" stroke=\"black\" cx=\"567.19\" cy=\"-540\" rx=\"44.69\" ry=\"18\"/>\n<text text-anchor=\"middle\" x=\"567.19\" y=\"-536.3\" font-family=\"Times New Roman,serif\" font-size=\"14.00\">ex:hasPet</text>\n</g>\n<!-- 2&#45;&gt;0 -->\n<g id=\"edge2\" class=\"edge\">\n<title>2&#45;&gt;0</title>\n<path fill=\"none\" stroke=\"black\" d=\"M546.59,-523.68C538.37,-517.57 528.83,-510.46 520.19,-504 500.61,-489.37 493.08,-488.67 476.19,-471 450.56,-444.17 456.99,-426.58 429.19,-402 421.81,-395.47 412.99,-389.79 404.19,-385.01\"/>\n<polygon fill=\"black\" stroke=\"black\" points=\"405.59,-381.79 395.09,-380.35 402.4,-388.02 405.59,-381.79\"/>\n<text text-anchor=\"middle\" x=\"498.19\" y=\"-449.3\" font-family=\"Times New Roman,serif\" font-size=\"14.00\">rdf:type</text>\n</g>\n<!-- 6 -->\n<g id=\"node7\" class=\"node\">\n<title>6</title>\n<ellipse fill=\"none\" stroke=\"black\" cx=\"700.19\" cy=\"-453\" rx=\"48.99\" ry=\"18\"/>\n<text text-anchor=\"middle\" x=\"700.19\" y=\"-449.3\" font-family=\"Times New Roman,serif\" font-size=\"14.00\">ex:hasDog</text>\n</g>\n<!-- 2&#45;&gt;6 -->\n<g id=\"edge9\" class=\"edge\">\n<title>2&#45;&gt;6</title>\n<path fill=\"none\" stroke=\"black\" d=\"M609.87,-534.13C632.48,-529.6 659.39,-520.86 678.19,-504 685.1,-497.81 689.94,-489.06 693.28,-480.6\"/>\n<polygon fill=\"black\" stroke=\"black\" points=\"696.65,-481.58 696.55,-470.98 690.02,-479.32 696.65,-481.58\"/>\n<text text-anchor=\"middle\" x=\"744.19\" y=\"-492.8\" font-family=\"Times New Roman,serif\" font-size=\"14.00\">rdfs:subPropertyOf</text>\n</g>\n<!-- 11 -->\n<g id=\"node12\" class=\"node\">\n<title>11</title>\n<ellipse fill=\"none\" stroke=\"black\" cx=\"825.19\" cy=\"-366\" rx=\"46.59\" ry=\"18\"/>\n<text text-anchor=\"middle\" x=\"825.19\" y=\"-362.3\" font-family=\"Times New Roman,serif\" font-size=\"14.00\">ex:Human</text>\n</g>\n<!-- 2&#45;&gt;11 -->\n<g id=\"edge10\" class=\"edge\">\n<title>2&#45;&gt;11</title>\n<path fill=\"none\" stroke=\"black\" d=\"M612.01,-538.46C672.83,-536.73 776.93,-529.95 803.19,-504 832.01,-475.53 832.46,-425.34 829.38,-394.26\"/>\n<polygon fill=\"black\" stroke=\"black\" points=\"832.83,-393.65 828.18,-384.13 825.88,-394.47 832.83,-393.65\"/>\n<text text-anchor=\"middle\" x=\"862.69\" y=\"-449.3\" font-family=\"Times New Roman,serif\" font-size=\"14.00\">rdfs:domain</text>\n</g>\n<!-- 17 -->\n<g id=\"node18\" class=\"node\">\n<title>17</title>\n<ellipse fill=\"none\" stroke=\"black\" cx=\"473.19\" cy=\"-105\" rx=\"46.29\" ry=\"18\"/>\n<text text-anchor=\"middle\" x=\"473.19\" y=\"-101.3\" font-family=\"Times New Roman,serif\" font-size=\"14.00\">ex:Animal</text>\n</g>\n<!-- 2&#45;&gt;17 -->\n<g id=\"edge14\" class=\"edge\">\n<title>2&#45;&gt;17</title>\n<path fill=\"none\" stroke=\"black\" d=\"M561.06,-522C559.09,-516.31 556.96,-509.91 555.19,-504 534.68,-435.43 541.68,-414.5 515.19,-348 511.81,-339.5 508.16,-338.66 505.19,-330 479.8,-255.98 488.09,-233.63 478.19,-156 477.25,-148.59 476.38,-140.54 475.63,-133.11\"/>\n<polygon fill=\"black\" stroke=\"black\" points=\"479.12,-132.77 474.68,-123.15 472.15,-133.44 479.12,-132.77\"/>\n<text text-anchor=\"middle\" x=\"533.19\" y=\"-318.8\" font-family=\"Times New Roman,serif\" font-size=\"14.00\">rdfs:range</text>\n</g>\n<!-- 3 -->\n<g id=\"node4\" class=\"node\">\n<title>3</title>\n<ellipse fill=\"none\" stroke=\"black\" cx=\"473.19\" cy=\"-18\" rx=\"47.39\" ry=\"18\"/>\n<text text-anchor=\"middle\" x=\"473.19\" y=\"-14.3\" font-family=\"Times New Roman,serif\" font-size=\"14.00\">rdfs:Class</text>\n</g>\n<!-- 4 -->\n<g id=\"node5\" class=\"node\">\n<title>4</title>\n<ellipse fill=\"none\" stroke=\"black\" cx=\"70.19\" cy=\"-105\" rx=\"70.39\" ry=\"18\"/>\n<text text-anchor=\"middle\" x=\"70.19\" y=\"-101.3\" font-family=\"Times New Roman,serif\" font-size=\"14.00\">rdfs:subClassOf</text>\n</g>\n<!-- 4&#45;&gt;3 -->\n<g id=\"edge13\" class=\"edge\">\n<title>4&#45;&gt;3</title>\n<path fill=\"none\" stroke=\"black\" d=\"M87.4,-87.41C101.26,-74.43 119.93,-57.94 129.19,-54 179.37,-32.65 331.57,-23.98 415.73,-20.74\"/>\n<polygon fill=\"black\" stroke=\"black\" points=\"416.03,-24.23 425.89,-20.36 415.77,-17.24 416.03,-24.23\"/>\n<text text-anchor=\"middle\" x=\"157.19\" y=\"-57.8\" font-family=\"Times New Roman,serif\" font-size=\"14.00\">rdfs:range</text>\n</g>\n<!-- 4&#45;&gt;3 -->\n<g id=\"edge32\" class=\"edge\">\n<title>4&#45;&gt;3</title>\n<path fill=\"none\" stroke=\"black\" d=\"M49.46,-87.61C38.84,-77.29 29.91,-64.06 39.19,-54 64.2,-26.89 303.3,-20.78 415.54,-19.4\"/>\n<polygon fill=\"black\" stroke=\"black\" points=\"415.71,-22.9 425.67,-19.28 415.63,-15.9 415.71,-22.9\"/>\n<text text-anchor=\"middle\" x=\"72.69\" y=\"-57.8\" font-family=\"Times New Roman,serif\" font-size=\"14.00\">rdfs:domain</text>\n</g>\n<!-- 5 -->\n<g id=\"node6\" class=\"node\">\n<title>5</title>\n<polygon fill=\"none\" stroke=\"black\" points=\"964.19,-471 910.19,-471 910.19,-435 964.19,-435 964.19,-471\"/>\n<text text-anchor=\"middle\" x=\"937.19\" y=\"-449.3\" font-family=\"Times New Roman,serif\" font-size=\"14.00\">&quot;Max&quot;</text>\n</g>\n<!-- 6&#45;&gt;0 -->\n<g id=\"edge3\" class=\"edge\">\n<title>6&#45;&gt;0</title>\n<path fill=\"none\" stroke=\"black\" d=\"M660.52,-442.42C607.02,-429.44 508.8,-405.44 425.19,-384 421.06,-382.94 416.78,-381.83 412.48,-380.71\"/>\n<polygon fill=\"black\" stroke=\"black\" points=\"413.04,-377.23 402.48,-378.08 411.26,-384.01 413.04,-377.23\"/>\n<text text-anchor=\"middle\" x=\"575.19\" y=\"-405.8\" font-family=\"Times New Roman,serif\" font-size=\"14.00\">rdf:type</text>\n</g>\n<!-- 6&#45;&gt;2 -->\n<g id=\"edge22\" class=\"edge\">\n<title>6&#45;&gt;2</title>\n<path fill=\"none\" stroke=\"black\" d=\"M654.61,-459.71C619.57,-465.14 575.32,-474.64 564.19,-489 559.17,-495.48 558.26,-503.96 559.1,-512.09\"/>\n<polygon fill=\"black\" stroke=\"black\" points=\"555.68,-512.83 560.93,-522.03 562.56,-511.56 555.68,-512.83\"/>\n<text text-anchor=\"middle\" x=\"619.19\" y=\"-492.8\" font-family=\"Times New Roman,serif\" font-size=\"14.00\">rdfs:subPropertyOf</text>\n</g>\n<!-- 6&#45;&gt;11 -->\n<g id=\"edge1\" class=\"edge\">\n<title>6&#45;&gt;11</title>\n<path fill=\"none\" stroke=\"black\" d=\"M711.75,-435.44C719.85,-424.78 731.47,-411.25 744.19,-402 755.25,-393.96 768.45,-387.27 780.94,-381.97\"/>\n<polygon fill=\"black\" stroke=\"black\" points=\"782.35,-385.18 790.31,-378.19 779.73,-378.69 782.35,-385.18\"/>\n<text text-anchor=\"middle\" x=\"777.69\" y=\"-405.8\" font-family=\"Times New Roman,serif\" font-size=\"14.00\">rdfs:domain</text>\n</g>\n<!-- 6&#45;&gt;14 -->\n<g id=\"edge8\" class=\"edge\">\n<title>6&#45;&gt;14</title>\n<path fill=\"none\" stroke=\"black\" d=\"M738.39,-441.63C760.96,-435.2 789.96,-426.38 815.19,-417 841.99,-407.03 871.52,-393.89 893.66,-383.58\"/>\n<polygon fill=\"black\" stroke=\"black\" points=\"895.41,-386.63 902.98,-379.21 892.44,-380.29 895.41,-386.63\"/>\n<text text-anchor=\"middle\" x=\"877.19\" y=\"-405.8\" font-family=\"Times New Roman,serif\" font-size=\"14.00\">rdfs:range</text>\n</g>\n<!-- 7 -->\n<g id=\"node8\" class=\"node\">\n<title>7</title>\n<ellipse fill=\"none\" stroke=\"black\" cx=\"684.19\" cy=\"-279\" rx=\"46.29\" ry=\"18\"/>\n<text text-anchor=\"middle\" x=\"684.19\" y=\"-275.3\" font-family=\"Times New Roman,serif\" font-size=\"14.00\">ex:Canine</text>\n</g>\n<!-- 7&#45;&gt;3 -->\n<g id=\"edge25\" class=\"edge\">\n<title>7&#45;&gt;3</title>\n<path fill=\"none\" stroke=\"black\" d=\"M683.39,-260.96C680.79,-224.58 669.88,-138.46 624.19,-87 597.99,-57.48 556.46,-40.07 523.58,-30.26\"/>\n<polygon fill=\"black\" stroke=\"black\" points=\"524.25,-26.82 513.68,-27.46 522.35,-33.55 524.25,-26.82\"/>\n<text text-anchor=\"middle\" x=\"685.19\" y=\"-144.8\" font-family=\"Times New Roman,serif\" font-size=\"14.00\">rdf:type</text>\n</g>\n<!-- 12 -->\n<g id=\"node13\" class=\"node\">\n<title>12</title>\n<ellipse fill=\"none\" stroke=\"black\" cx=\"561.19\" cy=\"-192\" rx=\"51.99\" ry=\"18\"/>\n<text text-anchor=\"middle\" x=\"561.19\" y=\"-188.3\" font-family=\"Times New Roman,serif\" font-size=\"14.00\">ex:Mammal</text>\n</g>\n<!-- 7&#45;&gt;12 -->\n<g id=\"edge16\" class=\"edge\">\n<title>7&#45;&gt;12</title>\n<path fill=\"none\" stroke=\"black\" d=\"M648.05,-267.77C612.21,-257.6 562.54,-243.45 562.19,-243 557.26,-236.59 555.79,-228.22 555.91,-220.17\"/>\n<polygon fill=\"black\" stroke=\"black\" points=\"559.41,-220.23 556.83,-209.96 552.44,-219.61 559.41,-220.23\"/>\n<text text-anchor=\"middle\" x=\"608.19\" y=\"-231.8\" font-family=\"Times New Roman,serif\" font-size=\"14.00\">rdfs:subClassOf</text>\n</g>\n<!-- 8 -->\n<g id=\"node9\" class=\"node\">\n<title>8</title>\n<ellipse fill=\"none\" stroke=\"black\" cx=\"216.19\" cy=\"-453\" rx=\"46.59\" ry=\"18\"/>\n<text text-anchor=\"middle\" x=\"216.19\" y=\"-449.3\" font-family=\"Times New Roman,serif\" font-size=\"14.00\">rdfs:range</text>\n</g>\n<!-- 8&#45;&gt;0 -->\n<g id=\"edge26\" class=\"edge\">\n<title>8&#45;&gt;0</title>\n<path fill=\"none\" stroke=\"black\" d=\"M236.08,-436.6C249.99,-426.19 269.22,-412.48 287.19,-402 297.45,-396.02 308.89,-390.22 319.65,-385.11\"/>\n<polygon fill=\"black\" stroke=\"black\" points=\"321.3,-388.21 328.89,-380.82 318.35,-381.86 321.3,-388.21\"/>\n<text text-anchor=\"middle\" x=\"320.69\" y=\"-405.8\" font-family=\"Times New Roman,serif\" font-size=\"14.00\">rdfs:domain</text>\n</g>\n<!-- 8&#45;&gt;3 -->\n<g id=\"edge6\" class=\"edge\">\n<title>8&#45;&gt;3</title>\n<path fill=\"none\" stroke=\"black\" d=\"M210.72,-434.94C205.75,-417.92 199.19,-390.93 199.19,-367 199.19,-367 199.19,-367 199.19,-104 199.19,-58.63 338,-34.78 418.02,-24.81\"/>\n<polygon fill=\"black\" stroke=\"black\" points=\"418.44,-28.28 427.95,-23.6 417.6,-21.33 418.44,-28.28\"/>\n<text text-anchor=\"middle\" x=\"227.19\" y=\"-231.8\" font-family=\"Times New Roman,serif\" font-size=\"14.00\">rdfs:range</text>\n</g>\n<!-- 9 -->\n<g id=\"node10\" class=\"node\">\n<title>9</title>\n<ellipse fill=\"none\" stroke=\"black\" cx=\"354.19\" cy=\"-453\" rx=\"53.89\" ry=\"18\"/>\n<text text-anchor=\"middle\" x=\"354.19\" y=\"-449.3\" font-family=\"Times New Roman,serif\" font-size=\"14.00\">rdfs:domain</text>\n</g>\n<!-- 9&#45;&gt;0 -->\n<g id=\"edge15\" class=\"edge\">\n<title>9&#45;&gt;0</title>\n<path fill=\"none\" stroke=\"black\" d=\"M355.61,-434.8C356.57,-423.16 357.85,-407.55 358.95,-394.24\"/>\n<polygon fill=\"black\" stroke=\"black\" points=\"362.45,-394.43 359.78,-384.18 355.47,-393.85 362.45,-394.43\"/>\n<text text-anchor=\"middle\" x=\"391.69\" y=\"-405.8\" font-family=\"Times New Roman,serif\" font-size=\"14.00\">rdfs:domain</text>\n</g>\n<!-- 9&#45;&gt;3 -->\n<g id=\"edge29\" class=\"edge\">\n<title>9&#45;&gt;3</title>\n<path fill=\"none\" stroke=\"black\" d=\"M336.57,-435.56C314.12,-412.75 278.19,-369.12 278.19,-323.5 278.19,-323.5 278.19,-323.5 278.19,-104 278.19,-43.55 357.9,-25.66 415.4,-20.61\"/>\n<polygon fill=\"black\" stroke=\"black\" points=\"415.79,-24.09 425.49,-19.83 415.25,-17.11 415.79,-24.09\"/>\n<text text-anchor=\"middle\" x=\"306.19\" y=\"-231.8\" font-family=\"Times New Roman,serif\" font-size=\"14.00\">rdfs:range</text>\n</g>\n<!-- 10 -->\n<g id=\"node11\" class=\"node\">\n<title>10</title>\n<ellipse fill=\"none\" stroke=\"black\" cx=\"470.19\" cy=\"-366\" rx=\"36\" ry=\"18\"/>\n<text text-anchor=\"middle\" x=\"470.19\" y=\"-362.3\" font-family=\"Times New Roman,serif\" font-size=\"14.00\">ex:Fox</text>\n</g>\n<!-- 10&#45;&gt;3 -->\n<g id=\"edge28\" class=\"edge\">\n<title>10&#45;&gt;3</title>\n<path fill=\"none\" stroke=\"black\" d=\"M444.86,-353.3C419.49,-339.63 384.19,-314.43 384.19,-280 384.19,-280 384.19,-280 384.19,-104 384.19,-74.12 410.75,-51.53 434.84,-37.17\"/>\n<polygon fill=\"black\" stroke=\"black\" points=\"436.57,-40.22 443.56,-32.25 433.13,-34.12 436.57,-40.22\"/>\n<text text-anchor=\"middle\" x=\"406.19\" y=\"-188.3\" font-family=\"Times New Roman,serif\" font-size=\"14.00\">rdf:type</text>\n</g>\n<!-- 10&#45;&gt;7 -->\n<g id=\"edge18\" class=\"edge\">\n<title>10&#45;&gt;7</title>\n<path fill=\"none\" stroke=\"black\" d=\"M497.3,-354.23C534.31,-339.53 600.96,-313.06 643.86,-296.02\"/>\n<polygon fill=\"black\" stroke=\"black\" points=\"645.16,-299.27 653.16,-292.33 642.57,-292.77 645.16,-299.27\"/>\n<text text-anchor=\"middle\" x=\"636.19\" y=\"-318.8\" font-family=\"Times New Roman,serif\" font-size=\"14.00\">rdfs:subClassOf</text>\n</g>\n<!-- 11&#45;&gt;3 -->\n<g id=\"edge23\" class=\"edge\">\n<title>11&#45;&gt;3</title>\n<path fill=\"none\" stroke=\"black\" d=\"M836.65,-348.25C846.86,-331.68 860.19,-305.22 860.19,-280 860.19,-280 860.19,-280 860.19,-104 860.19,-37.36 638.52,-22.9 530.71,-19.81\"/>\n<polygon fill=\"black\" stroke=\"black\" points=\"530.74,-16.31 520.65,-19.55 530.55,-23.31 530.74,-16.31\"/>\n<text text-anchor=\"middle\" x=\"882.19\" y=\"-188.3\" font-family=\"Times New Roman,serif\" font-size=\"14.00\">rdf:type</text>\n</g>\n<!-- 11&#45;&gt;12 -->\n<g id=\"edge20\" class=\"edge\">\n<title>11&#45;&gt;12</title>\n<path fill=\"none\" stroke=\"black\" d=\"M787.94,-354.91C748.43,-344.37 684.13,-327.62 628.19,-315 587.98,-305.93 563.37,-328.86 537.19,-297 519,-274.85 531.55,-241.5 544.34,-218.57\"/>\n<polygon fill=\"black\" stroke=\"black\" points=\"547.49,-220.13 549.56,-209.74 541.46,-216.57 547.49,-220.13\"/>\n<text text-anchor=\"middle\" x=\"583.19\" y=\"-275.3\" font-family=\"Times New Roman,serif\" font-size=\"14.00\">rdfs:subClassOf</text>\n</g>\n<!-- 12&#45;&gt;3 -->\n<g id=\"edge31\" class=\"edge\">\n<title>12&#45;&gt;3</title>\n<path fill=\"none\" stroke=\"black\" d=\"M574.7,-174.17C580.73,-164.6 585.76,-152.31 582.19,-141 567.98,-95.97 554.28,-87.7 521.19,-54 516.34,-49.06 510.73,-44.29 505.09,-39.96\"/>\n<polygon fill=\"black\" stroke=\"black\" points=\"507.03,-37.04 496.89,-33.95 502.89,-42.69 507.03,-37.04\"/>\n<text text-anchor=\"middle\" x=\"598.19\" y=\"-101.3\" font-family=\"Times New Roman,serif\" font-size=\"14.00\">rdf:type</text>\n</g>\n<!-- 12&#45;&gt;17 -->\n<g id=\"edge7\" class=\"edge\">\n<title>12&#45;&gt;17</title>\n<path fill=\"none\" stroke=\"black\" d=\"M523.96,-179.19C511.82,-173.78 499.17,-166.23 490.19,-156 484.58,-149.6 480.8,-141.27 478.27,-133.25\"/>\n<polygon fill=\"black\" stroke=\"black\" points=\"481.61,-132.2 475.68,-123.43 474.84,-133.99 481.61,-132.2\"/>\n<text text-anchor=\"middle\" x=\"536.19\" y=\"-144.8\" font-family=\"Times New Roman,serif\" font-size=\"14.00\">rdfs:subClassOf</text>\n</g>\n<!-- 13 -->\n<g id=\"node14\" class=\"node\">\n<title>13</title>\n<ellipse fill=\"none\" stroke=\"black\" cx=\"790.19\" cy=\"-279\" rx=\"42.49\" ry=\"18\"/>\n<text text-anchor=\"middle\" x=\"790.19\" y=\"-275.3\" font-family=\"Times New Roman,serif\" font-size=\"14.00\">ex:Feline</text>\n</g>\n<!-- 13&#45;&gt;3 -->\n<g id=\"edge5\" class=\"edge\">\n<title>13&#45;&gt;3</title>\n<path fill=\"none\" stroke=\"black\" d=\"M795.3,-260.76C797.34,-250.85 798.34,-238.35 794.19,-228 751.99,-122.61 709.17,-103.89 607.19,-54 581.83,-41.59 551.55,-33.2 526.19,-27.76\"/>\n<polygon fill=\"black\" stroke=\"black\" points=\"526.88,-24.33 516.38,-25.74 525.47,-31.18 526.88,-24.33\"/>\n<text text-anchor=\"middle\" x=\"778.19\" y=\"-144.8\" font-family=\"Times New Roman,serif\" font-size=\"14.00\">rdf:type</text>\n</g>\n<!-- 13&#45;&gt;12 -->\n<g id=\"edge4\" class=\"edge\">\n<title>13&#45;&gt;12</title>\n<path fill=\"none\" stroke=\"black\" d=\"M759.84,-266.35C733.11,-256.12 693.13,-240.92 658.19,-228 641.07,-221.67 622.19,-214.83 605.68,-208.89\"/>\n<polygon fill=\"black\" stroke=\"black\" points=\"606.86,-205.59 596.26,-205.5 604.49,-212.18 606.86,-205.59\"/>\n<text text-anchor=\"middle\" x=\"744.19\" y=\"-231.8\" font-family=\"Times New Roman,serif\" font-size=\"14.00\">rdfs:subClassOf</text>\n</g>\n<!-- 14&#45;&gt;3 -->\n<g id=\"edge17\" class=\"edge\">\n<title>14&#45;&gt;3</title>\n<path fill=\"none\" stroke=\"black\" d=\"M950.58,-351.43C971.72,-336.73 1000.19,-311.14 1000.19,-280 1000.19,-280 1000.19,-280 1000.19,-104 1000.19,-56.81 666.55,-30.9 530.21,-22.28\"/>\n<polygon fill=\"black\" stroke=\"black\" points=\"530.16,-18.78 519.96,-21.65 529.72,-25.76 530.16,-18.78\"/>\n<text text-anchor=\"middle\" x=\"1022.19\" y=\"-188.3\" font-family=\"Times New Roman,serif\" font-size=\"14.00\">rdf:type</text>\n</g>\n<!-- 14&#45;&gt;7 -->\n<g id=\"edge12\" class=\"edge\">\n<title>14&#45;&gt;7</title>\n<path fill=\"none\" stroke=\"black\" d=\"M899.88,-354.68C893.73,-352.46 887.25,-350.14 881.19,-348 828.36,-329.33 767.35,-308.36 727.4,-294.71\"/>\n<polygon fill=\"black\" stroke=\"black\" points=\"728.3,-291.32 717.71,-291.4 726.04,-297.94 728.3,-291.32\"/>\n<text text-anchor=\"middle\" x=\"872.19\" y=\"-318.8\" font-family=\"Times New Roman,serif\" font-size=\"14.00\">rdfs:subClassOf</text>\n</g>\n<!-- 16 -->\n<g id=\"node17\" class=\"node\">\n<title>16</title>\n<ellipse fill=\"none\" stroke=\"black\" cx=\"1002.19\" cy=\"-540\" rx=\"37.09\" ry=\"18\"/>\n<text text-anchor=\"middle\" x=\"1002.19\" y=\"-536.3\" font-family=\"Times New Roman,serif\" font-size=\"14.00\">ex:Max</text>\n</g>\n<!-- 16&#45;&gt;1 -->\n<g id=\"edge27\" class=\"edge\">\n<title>16&#45;&gt;1</title>\n<path fill=\"none\" stroke=\"black\" d=\"M1020.31,-524.19C1036.73,-510.77 1061.15,-490.82 1079.75,-475.61\"/>\n<polygon fill=\"black\" stroke=\"black\" points=\"1082.06,-478.25 1087.59,-469.21 1077.63,-472.83 1082.06,-478.25\"/>\n<text text-anchor=\"middle\" x=\"1089.69\" y=\"-492.8\" font-family=\"Times New Roman,serif\" font-size=\"14.00\">ex:hasDog</text>\n</g>\n<!-- 16&#45;&gt;5 -->\n<g id=\"edge11\" class=\"edge\">\n<title>16&#45;&gt;5</title>\n<path fill=\"none\" stroke=\"black\" d=\"M970.84,-530.33C957.74,-525 943.82,-516.67 936.19,-504 932.19,-497.35 931.11,-489.25 931.39,-481.52\"/>\n<polygon fill=\"black\" stroke=\"black\" points=\"934.89,-481.7 932.48,-471.39 927.93,-480.96 934.89,-481.7\"/>\n<text text-anchor=\"middle\" x=\"962.19\" y=\"-492.8\" font-family=\"Times New Roman,serif\" font-size=\"14.00\">rdfs:label</text>\n</g>\n<!-- 16&#45;&gt;11 -->\n<g id=\"edge21\" class=\"edge\">\n<title>16&#45;&gt;11</title>\n<path fill=\"none\" stroke=\"black\" d=\"M1001.54,-521.99C999.85,-499.7 993.9,-460.44 973.19,-435 959.2,-417.82 906.88,-396.19 868.39,-382\"/>\n<polygon fill=\"black\" stroke=\"black\" points=\"869.54,-378.69 858.94,-378.56 867.14,-385.26 869.54,-378.69\"/>\n<text text-anchor=\"middle\" x=\"1013.19\" y=\"-449.3\" font-family=\"Times New Roman,serif\" font-size=\"14.00\">rdf:type</text>\n</g>\n<!-- 17&#45;&gt;3 -->\n<g id=\"edge19\" class=\"edge\">\n<title>17&#45;&gt;3</title>\n<path fill=\"none\" stroke=\"black\" d=\"M473.19,-86.8C473.19,-75.16 473.19,-59.55 473.19,-46.24\"/>\n<polygon fill=\"black\" stroke=\"black\" points=\"476.69,-46.18 473.19,-36.18 469.69,-46.18 476.69,-46.18\"/>\n<text text-anchor=\"middle\" x=\"495.19\" y=\"-57.8\" font-family=\"Times New Roman,serif\" font-size=\"14.00\">rdf:type</text>\n</g>\n</g>\n</svg>\n",
      "text/plain": [
       "<graphviz.graphs.Digraph at 0x2605ce082b0>"
      ]
     },
     "metadata": {},
     "output_type": "display_data"
    }
   ],
   "source": [
    "%%rdf turtle -l pets\n",
    "\n",
    "# These are just some axiomatic triples. Do not remove them.\n",
    "rdfs:subClassOf rdfs:domain rdfs:Class .\n",
    "rdfs:subClassOf rdfs:range rdfs:Class .\n",
    "rdfs:range rdfs:range rdfs:Class .\n",
    "rdfs:range rdfs:domain rdf:Property .\n",
    "rdfs:domain rdfs:range rdfs:Class .\n",
    "rdfs:domain rdfs:domain rdf:Property .\n",
    "\n",
    "# main class\n",
    "ex:Animal a rdfs:Class .\n",
    "ex:Mammal a rdfs:Class .\n",
    "ex:Human a rdfs:Class .\n",
    "ex:Canine a rdfs:Class .\n",
    "ex:Feline a rdfs:Class .\n",
    "ex:Dog a rdfs:Class .\n",
    "ex:Fox a rdfs:Class .\n",
    "\n",
    "# sub class\n",
    "ex:Mammal rdfs:subClassOf ex:Animal .\n",
    "ex:Human rdfs:subClassOf ex:Mammal .\n",
    "ex:Canine rdfs:subClassOf ex:Mammal .\n",
    "ex:Feline rdfs:subClassOf ex:Mammal .\n",
    "ex:Dog rdfs:subClassOf ex:Canine .\n",
    "ex:Fox rdfs:subClassOf ex:Canine .\n",
    "\n",
    "# properties\n",
    "ex:hasPet a rdf:Property .\n",
    "ex:hasDog a rdf:Property .\n",
    "\n",
    "# sub properties\n",
    "ex:hasDog rdfs:subPropertyOf ex:hasPet .\n",
    "ex:hasPet rdfs:subPropertyOf ex:hasDog .\n",
    "\n",
    "# domain and range\n",
    "ex:hasPet rdfs:domain ex:Human .\n",
    "ex:hasPet rdfs:range ex:Animal .\n",
    "ex:hasDog rdfs:domain ex:Human .\n",
    "ex:hasDog rdfs:range ex:Dog .\n",
    "\n",
    "# individuals\n",
    "ex:Spike a ex:Dog ;\n",
    "    rdfs:comment \"A gray bulldog. He likes to chase cats.\" .\n",
    "\n",
    "ex:Max a ex:Human ;\n",
    "    rdfs:label \"Max\" ;\n",
    "    ex:hasDog ex:Spike ."
   ]
  },
  {
   "cell_type": "markdown",
   "metadata": {
    "deletable": false,
    "editable": false,
    "nbgrader": {
     "cell_type": "markdown",
     "checksum": "6e2624d1f00a5fae8cf82f825ee61616",
     "grade": false,
     "grade_id": "cell-5aed95188f6f9a1d",
     "locked": true,
     "schema_version": 3,
     "solution": false,
     "task": false
    }
   },
   "source": [
    "The cell below will automatically compute the closure of the rdfs-entailment for your graph. The extension uses a brute-force approach and only a finite set of axiomatic triples. It also omits most axiomatic triples to make the graph less cluttered so the closure will not be complete but best-effort. Note that this graph grows quite quickly."
   ]
  },
  {
   "cell_type": "code",
   "execution_count": 110,
   "metadata": {
    "deletable": false,
    "editable": false,
    "nbgrader": {
     "cell_type": "code",
     "checksum": "4cab0e2209ac2db99010c9005ed4e53b",
     "grade": false,
     "grade_id": "cell-172648f531b503d8",
     "locked": true,
     "schema_version": 3,
     "solution": false,
     "task": false
    }
   },
   "outputs": [
    {
     "name": "stdout",
     "output_type": "stream",
     "text": [
      "Graphman: Graph labelled 'pets' has been entailed using the RDFS regime.\n"
     ]
    },
    {
     "data": {
      "image/svg+xml": "<?xml version=\"1.0\" encoding=\"UTF-8\" standalone=\"no\"?>\n<!DOCTYPE svg PUBLIC \"-//W3C//DTD SVG 1.1//EN\"\n \"http://www.w3.org/Graphics/SVG/1.1/DTD/svg11.dtd\">\n<!-- Generated by graphviz version 5.0.1 (20220820.1526)\n -->\n<!-- Pages: 1 -->\n<svg width=\"3802pt\" height=\"695pt\"\n viewBox=\"0.00 0.00 3802.00 695.00\" xmlns=\"http://www.w3.org/2000/svg\" xmlns:xlink=\"http://www.w3.org/1999/xlink\">\n<g id=\"graph0\" class=\"graph\" transform=\"scale(1 1) rotate(0) translate(4 691)\">\n<polygon fill=\"white\" stroke=\"none\" points=\"-4,4 -4,-691 3798,-691 3798,4 -4,4\"/>\n<!-- 0 -->\n<g id=\"node1\" class=\"node\">\n<title>0</title>\n<ellipse fill=\"none\" stroke=\"black\" cx=\"821\" cy=\"-279\" rx=\"46.59\" ry=\"18\"/>\n<text text-anchor=\"middle\" x=\"821\" y=\"-275.3\" font-family=\"Times New Roman,serif\" font-size=\"14.00\">rdfs:range</text>\n</g>\n<!-- 0&#45;&gt;0 -->\n<g id=\"edge21\" class=\"edge\">\n<title>0&#45;&gt;0</title>\n<path fill=\"none\" stroke=\"black\" d=\"M863.38,-286.86C875.99,-286.62 885.8,-284 885.8,-279 885.8,-275.48 880.95,-273.14 873.68,-271.98\"/>\n<polygon fill=\"black\" stroke=\"black\" points=\"873.63,-268.47 863.38,-271.14 873.06,-275.44 873.63,-268.47\"/>\n<text text-anchor=\"middle\" x=\"940.8\" y=\"-275.3\" font-family=\"Times New Roman,serif\" font-size=\"14.00\">rdfs:subPropertyOf</text>\n</g>\n<!-- 1 -->\n<g id=\"node2\" class=\"node\">\n<title>1</title>\n<ellipse fill=\"none\" stroke=\"black\" cx=\"2155\" cy=\"-105\" rx=\"47.39\" ry=\"18\"/>\n<text text-anchor=\"middle\" x=\"2155\" y=\"-101.3\" font-family=\"Times New Roman,serif\" font-size=\"14.00\">rdfs:Class</text>\n</g>\n<!-- 0&#45;&gt;1 -->\n<g id=\"edge6\" class=\"edge\">\n<title>0&#45;&gt;1</title>\n<path fill=\"none\" stroke=\"black\" d=\"M866.77,-274.97C1060.71,-262.13 1805.25,-212.71 1817,-210 1896.45,-191.66 1908.99,-164.75 1987,-141 2024.84,-129.48 2068.62,-120.5 2102,-114.52\"/>\n<polygon fill=\"black\" stroke=\"black\" points=\"2102.76,-117.94 2112,-112.76 2101.55,-111.04 2102.76,-117.94\"/>\n<text text-anchor=\"middle\" x=\"1937\" y=\"-188.3\" font-family=\"Times New Roman,serif\" font-size=\"14.00\">rdfs:range</text>\n</g>\n<!-- 2 -->\n<g id=\"node3\" class=\"node\">\n<title>2</title>\n<ellipse fill=\"none\" stroke=\"black\" cx=\"1024\" cy=\"-192\" rx=\"55.49\" ry=\"18\"/>\n<text text-anchor=\"middle\" x=\"1024\" y=\"-188.3\" font-family=\"Times New Roman,serif\" font-size=\"14.00\">rdf:Property</text>\n</g>\n<!-- 0&#45;&gt;2 -->\n<g id=\"edge7\" class=\"edge\">\n<title>0&#45;&gt;2</title>\n<path fill=\"none\" stroke=\"black\" d=\"M863.49,-271.28C890.82,-265.94 926.59,-256.98 956,-243 960.4,-240.91 978.54,-227.53 994.98,-215.13\"/>\n<polygon fill=\"black\" stroke=\"black\" points=\"997.48,-217.63 1003.34,-208.8 993.25,-212.05 997.48,-217.63\"/>\n<text text-anchor=\"middle\" x=\"999\" y=\"-231.8\" font-family=\"Times New Roman,serif\" font-size=\"14.00\">rdf:type</text>\n</g>\n<!-- 0&#45;&gt;2 -->\n<g id=\"edge29\" class=\"edge\">\n<title>0&#45;&gt;2</title>\n<path fill=\"none\" stroke=\"black\" d=\"M841.19,-262.35C848.95,-256.32 857.9,-249.35 866,-243 874.47,-236.36 875.35,-232.75 885,-228 909.83,-215.77 939.33,-207.56 964.75,-202.19\"/>\n<polygon fill=\"black\" stroke=\"black\" points=\"965.52,-205.6 974.63,-200.2 964.14,-198.74 965.52,-205.6\"/>\n<text text-anchor=\"middle\" x=\"918.5\" y=\"-231.8\" font-family=\"Times New Roman,serif\" font-size=\"14.00\">rdfs:domain</text>\n</g>\n<!-- 3 -->\n<g id=\"node4\" class=\"node\">\n<title>3</title>\n<ellipse fill=\"none\" stroke=\"black\" cx=\"2098\" cy=\"-18\" rx=\"61.99\" ry=\"18\"/>\n<text text-anchor=\"middle\" x=\"2098\" y=\"-14.3\" font-family=\"Times New Roman,serif\" font-size=\"14.00\">rdfs:Resource</text>\n</g>\n<!-- 0&#45;&gt;3 -->\n<g id=\"edge52\" class=\"edge\">\n<title>0&#45;&gt;3</title>\n<path fill=\"none\" stroke=\"black\" d=\"M785.52,-267.14C754.15,-257.46 713.15,-244.58 712,-243 697.34,-222.89 710.9,-197.51 735,-174 838.37,-73.13 895.61,-83.49 1037,-54 1133.02,-33.98 1802.97,-23.05 2025.98,-19.94\"/>\n<polygon fill=\"black\" stroke=\"black\" points=\"2026.31,-23.44 2036.26,-19.8 2026.21,-16.44 2026.31,-23.44\"/>\n<text text-anchor=\"middle\" x=\"794\" y=\"-144.8\" font-family=\"Times New Roman,serif\" font-size=\"14.00\">rdf:type</text>\n</g>\n<!-- 1&#45;&gt;1 -->\n<g id=\"edge4\" class=\"edge\">\n<title>1&#45;&gt;1</title>\n<path fill=\"none\" stroke=\"black\" d=\"M2201.47,-108.86C2212.39,-108.54 2220.45,-107.26 2220.45,-105 2220.45,-103.52 2216.98,-102.46 2211.51,-101.81\"/>\n<polygon fill=\"black\" stroke=\"black\" points=\"2211.68,-98.32 2201.47,-101.14 2211.22,-105.3 2211.68,-98.32\"/>\n<text text-anchor=\"middle\" x=\"2266.45\" y=\"-101.3\" font-family=\"Times New Roman,serif\" font-size=\"14.00\">rdfs:subClassOf</text>\n</g>\n<!-- 1&#45;&gt;1 -->\n<g id=\"edge25\" class=\"edge\">\n<title>1&#45;&gt;1</title>\n<path fill=\"none\" stroke=\"black\" d=\"M2199.45,-111.5C2247.29,-114.61 2312.45,-112.44 2312.45,-105 2312.45,-98.06 2255.89,-95.71 2209.48,-97.94\"/>\n<polygon fill=\"black\" stroke=\"black\" points=\"2209.24,-94.44 2199.45,-98.5 2209.63,-101.43 2209.24,-94.44\"/>\n<text text-anchor=\"middle\" x=\"2334.45\" y=\"-101.3\" font-family=\"Times New Roman,serif\" font-size=\"14.00\">rdf:type</text>\n</g>\n<!-- 1&#45;&gt;3 -->\n<g id=\"edge71\" class=\"edge\">\n<title>1&#45;&gt;3</title>\n<path fill=\"none\" stroke=\"black\" d=\"M2143.74,-87.21C2135.54,-74.98 2124.3,-58.21 2115.01,-44.36\"/>\n<polygon fill=\"black\" stroke=\"black\" points=\"2117.71,-42.11 2109.24,-35.76 2111.9,-46.01 2117.71,-42.11\"/>\n<text text-anchor=\"middle\" x=\"2151\" y=\"-57.8\" font-family=\"Times New Roman,serif\" font-size=\"14.00\">rdf:type</text>\n</g>\n<!-- 1&#45;&gt;3 -->\n<g id=\"edge103\" class=\"edge\">\n<title>1&#45;&gt;3</title>\n<path fill=\"none\" stroke=\"black\" d=\"M2170.29,-87.56C2177.77,-77.46 2183.83,-64.49 2177,-54 2171.48,-45.51 2163.37,-39.07 2154.44,-34.18\"/>\n<polygon fill=\"black\" stroke=\"black\" points=\"2155.81,-30.96 2145.28,-29.79 2152.79,-37.27 2155.81,-30.96\"/>\n<text text-anchor=\"middle\" x=\"2225\" y=\"-57.8\" font-family=\"Times New Roman,serif\" font-size=\"14.00\">rdfs:subClassOf</text>\n</g>\n<!-- 2&#45;&gt;1 -->\n<g id=\"edge72\" class=\"edge\">\n<title>2&#45;&gt;1</title>\n<path fill=\"none\" stroke=\"black\" d=\"M1078.08,-188.11C1178.58,-182.64 1400.9,-170.05 1588,-156 1775.68,-141.9 1997.94,-121.11 2099.44,-111.38\"/>\n<polygon fill=\"black\" stroke=\"black\" points=\"2099.85,-114.86 2109.47,-110.42 2099.18,-107.89 2099.85,-114.86\"/>\n<text text-anchor=\"middle\" x=\"1782\" y=\"-144.8\" font-family=\"Times New Roman,serif\" font-size=\"14.00\">rdf:type</text>\n</g>\n<!-- 2&#45;&gt;2 -->\n<g id=\"edge102\" class=\"edge\">\n<title>2&#45;&gt;2</title>\n<path fill=\"none\" stroke=\"black\" d=\"M1073.98,-199.81C1087.22,-199.36 1097.25,-196.76 1097.25,-192 1097.25,-188.54 1091.95,-186.22 1083.98,-185.04\"/>\n<polygon fill=\"black\" stroke=\"black\" points=\"1084.24,-181.55 1073.98,-184.19 1083.65,-188.53 1084.24,-181.55\"/>\n<text text-anchor=\"middle\" x=\"1143.25\" y=\"-188.3\" font-family=\"Times New Roman,serif\" font-size=\"14.00\">rdfs:subClassOf</text>\n</g>\n<!-- 2&#45;&gt;3 -->\n<g id=\"edge2\" class=\"edge\">\n<title>2&#45;&gt;3</title>\n<path fill=\"none\" stroke=\"black\" d=\"M1045.95,-175.26C1064.89,-161.61 1092.91,-141.22 1117,-123 1137.7,-107.34 1142.39,-102.79 1163,-87 1182.4,-72.13 1183.97,-62.18 1207,-54 1283.17,-26.94 1828.17,-20.74 2026.26,-19.37\"/>\n<polygon fill=\"black\" stroke=\"black\" points=\"2026.3,-22.87 2036.28,-19.3 2026.25,-15.87 2026.3,-22.87\"/>\n<text text-anchor=\"middle\" x=\"1185\" y=\"-101.3\" font-family=\"Times New Roman,serif\" font-size=\"14.00\">rdf:type</text>\n</g>\n<!-- 2&#45;&gt;3 -->\n<g id=\"edge97\" class=\"edge\">\n<title>2&#45;&gt;3</title>\n<path fill=\"none\" stroke=\"black\" d=\"M1017.43,-174.11C1009.89,-151.58 1000.95,-111.67 1021,-87 1066.24,-31.33 1107.8,-62.73 1179,-54 1342.51,-33.96 1839.51,-23.48 2026.15,-20.18\"/>\n<polygon fill=\"black\" stroke=\"black\" points=\"2026.46,-23.67 2036.4,-20 2026.34,-16.67 2026.46,-23.67\"/>\n<text text-anchor=\"middle\" x=\"1067\" y=\"-101.3\" font-family=\"Times New Roman,serif\" font-size=\"14.00\">rdfs:subClassOf</text>\n</g>\n<!-- 3&#45;&gt;1 -->\n<g id=\"edge57\" class=\"edge\">\n<title>3&#45;&gt;1</title>\n<path fill=\"none\" stroke=\"black\" d=\"M2076.89,-35.37C2066.83,-45.21 2058.46,-57.93 2066,-69 2074.36,-81.26 2087.72,-89.23 2101.59,-94.41\"/>\n<polygon fill=\"black\" stroke=\"black\" points=\"2100.62,-97.77 2111.21,-97.56 2102.8,-91.12 2100.62,-97.77\"/>\n<text text-anchor=\"middle\" x=\"2088\" y=\"-57.8\" font-family=\"Times New Roman,serif\" font-size=\"14.00\">rdf:type</text>\n</g>\n<!-- 3&#45;&gt;3 -->\n<g id=\"edge44\" class=\"edge\">\n<title>3&#45;&gt;3</title>\n<path fill=\"none\" stroke=\"black\" d=\"M2158.5,-21.74C2169.79,-21.28 2177.74,-20.03 2177.74,-18 2177.74,-16.67 2174.32,-15.67 2168.78,-15.02\"/>\n<polygon fill=\"black\" stroke=\"black\" points=\"2168.73,-11.5 2158.5,-14.26 2168.22,-18.49 2168.73,-11.5\"/>\n<text text-anchor=\"middle\" x=\"2199.74\" y=\"-14.3\" font-family=\"Times New Roman,serif\" font-size=\"14.00\">rdf:type</text>\n</g>\n<!-- 3&#45;&gt;3 -->\n<g id=\"edge90\" class=\"edge\">\n<title>3&#45;&gt;3</title>\n<path fill=\"none\" stroke=\"black\" d=\"M2154.4,-25.51C2188.11,-26.88 2221.74,-24.38 2221.74,-18 2221.74,-12.27 2194.59,-9.67 2164.63,-10.19\"/>\n<polygon fill=\"black\" stroke=\"black\" points=\"2164.29,-6.7 2154.4,-10.49 2164.5,-13.7 2164.29,-6.7\"/>\n<text text-anchor=\"middle\" x=\"2267.74\" y=\"-14.3\" font-family=\"Times New Roman,serif\" font-size=\"14.00\">rdfs:subClassOf</text>\n</g>\n<!-- 4 -->\n<g id=\"node5\" class=\"node\">\n<title>4</title>\n<ellipse fill=\"none\" stroke=\"black\" cx=\"1928\" cy=\"-279\" rx=\"70.39\" ry=\"18\"/>\n<text text-anchor=\"middle\" x=\"1928\" y=\"-275.3\" font-family=\"Times New Roman,serif\" font-size=\"14.00\">rdfs:subClassOf</text>\n</g>\n<!-- 4&#45;&gt;1 -->\n<g id=\"edge14\" class=\"edge\">\n<title>4&#45;&gt;1</title>\n<path fill=\"none\" stroke=\"black\" d=\"M1977.91,-266.15C1993.43,-260.83 2009.89,-253.34 2023,-243 2051.94,-220.17 2044.02,-201.1 2069,-174 2085.26,-156.36 2106.36,-139.61 2123.58,-127.15\"/>\n<polygon fill=\"black\" stroke=\"black\" points=\"2126.06,-129.68 2132.19,-121.04 2122.01,-123.97 2126.06,-129.68\"/>\n<text text-anchor=\"middle\" x=\"2097\" y=\"-188.3\" font-family=\"Times New Roman,serif\" font-size=\"14.00\">rdfs:range</text>\n</g>\n<!-- 4&#45;&gt;1 -->\n<g id=\"edge45\" class=\"edge\">\n<title>4&#45;&gt;1</title>\n<path fill=\"none\" stroke=\"black\" d=\"M1992.81,-271.85C2036.26,-264.3 2091.45,-247.47 2125,-210 2143.94,-188.85 2150.97,-156.44 2153.56,-133.43\"/>\n<polygon fill=\"black\" stroke=\"black\" points=\"2157.06,-133.56 2154.48,-123.29 2150.09,-132.93 2157.06,-133.56\"/>\n<text text-anchor=\"middle\" x=\"2177.5\" y=\"-188.3\" font-family=\"Times New Roman,serif\" font-size=\"14.00\">rdfs:domain</text>\n</g>\n<!-- 4&#45;&gt;2 -->\n<g id=\"edge17\" class=\"edge\">\n<title>4&#45;&gt;2</title>\n<path fill=\"none\" stroke=\"black\" d=\"M1870.8,-268.43C1829.88,-261.52 1773.52,-251.89 1724,-243 1688.39,-236.61 1679.91,-232.36 1644,-228 1442.92,-203.58 1203.03,-196.15 1089.62,-193.93\"/>\n<polygon fill=\"black\" stroke=\"black\" points=\"1089.43,-190.42 1079.37,-193.73 1089.3,-197.42 1089.43,-190.42\"/>\n<text text-anchor=\"middle\" x=\"1746\" y=\"-231.8\" font-family=\"Times New Roman,serif\" font-size=\"14.00\">rdf:type</text>\n</g>\n<!-- 4&#45;&gt;3 -->\n<g id=\"edge65\" class=\"edge\">\n<title>4&#45;&gt;3</title>\n<path fill=\"none\" stroke=\"black\" d=\"M1940.57,-261.16C1944.67,-255.48 1949.15,-249.04 1953,-243 2004.9,-161.61 2000,-129.61 2060,-54 2063.19,-49.98 2066.86,-46 2070.63,-42.25\"/>\n<polygon fill=\"black\" stroke=\"black\" points=\"2073.04,-44.79 2077.9,-35.37 2068.23,-39.7 2073.04,-44.79\"/>\n<text text-anchor=\"middle\" x=\"2028\" y=\"-144.8\" font-family=\"Times New Roman,serif\" font-size=\"14.00\">rdf:type</text>\n</g>\n<!-- 4&#45;&gt;4 -->\n<g id=\"edge12\" class=\"edge\">\n<title>4&#45;&gt;4</title>\n<path fill=\"none\" stroke=\"black\" d=\"M1991.82,-286.66C2005.92,-285.94 2016.19,-283.39 2016.19,-279 2016.19,-275.74 2010.54,-273.5 2001.85,-272.26\"/>\n<polygon fill=\"black\" stroke=\"black\" points=\"2002.1,-268.77 1991.82,-271.34 2001.46,-275.74 2002.1,-268.77\"/>\n<text text-anchor=\"middle\" x=\"2071.19\" y=\"-275.3\" font-family=\"Times New Roman,serif\" font-size=\"14.00\">rdfs:subPropertyOf</text>\n</g>\n<!-- 5 -->\n<g id=\"node6\" class=\"node\">\n<title>5</title>\n<polygon fill=\"none\" stroke=\"black\" points=\"3686,-546 3632,-546 3632,-510 3686,-510 3686,-546\"/>\n<text text-anchor=\"middle\" x=\"3659\" y=\"-524.3\" font-family=\"Times New Roman,serif\" font-size=\"14.00\">&quot;Max&quot;</text>\n</g>\n<!-- 5&#45;&gt;3 -->\n<g id=\"edge36\" class=\"edge\">\n<title>5&#45;&gt;3</title>\n<path fill=\"none\" stroke=\"black\" d=\"M3663.99,-509.91C3669.62,-489.1 3678,-452.78 3678,-421 3678,-421 3678,-421 3678,-104 3678,-71.62 3654.96,-66.3 3625,-54 3557.08,-26.11 2463.55,-20.28 2170.03,-19.22\"/>\n<polygon fill=\"black\" stroke=\"black\" points=\"2169.94,-15.72 2159.93,-19.18 2169.92,-22.72 2169.94,-15.72\"/>\n<text text-anchor=\"middle\" x=\"3700\" y=\"-275.3\" font-family=\"Times New Roman,serif\" font-size=\"14.00\">rdf:type</text>\n</g>\n<!-- 6 -->\n<g id=\"node7\" class=\"node\">\n<title>6</title>\n<ellipse fill=\"none\" stroke=\"black\" cx=\"2835\" cy=\"-474\" rx=\"36\" ry=\"18\"/>\n<text text-anchor=\"middle\" x=\"2835\" y=\"-470.3\" font-family=\"Times New Roman,serif\" font-size=\"14.00\">ex:Fox</text>\n</g>\n<!-- 6&#45;&gt;1 -->\n<g id=\"edge35\" class=\"edge\">\n<title>6&#45;&gt;1</title>\n<path fill=\"none\" stroke=\"black\" d=\"M2799.19,-472.35C2697.22,-470.2 2410.36,-462.08 2376,-438 2305.3,-388.46 2332.91,-339.04 2296,-261 2277.56,-222.01 2274.16,-211.58 2253,-174 2244.47,-158.85 2245.12,-152.4 2232,-141 2222.65,-132.87 2211.1,-126.3 2199.81,-121.14\"/>\n<polygon fill=\"black\" stroke=\"black\" points=\"2201.02,-117.85 2190.45,-117.14 2198.26,-124.29 2201.02,-117.85\"/>\n<text text-anchor=\"middle\" x=\"2331\" y=\"-275.3\" font-family=\"Times New Roman,serif\" font-size=\"14.00\">rdf:type</text>\n</g>\n<!-- 6&#45;&gt;3 -->\n<g id=\"edge61\" class=\"edge\">\n<title>6&#45;&gt;3</title>\n<path fill=\"none\" stroke=\"black\" d=\"M2837.47,-455.66C2842.37,-428.11 2856.06,-374.73 2891,-348 2931.74,-316.83 2971.68,-369 3005,-330 3009.33,-324.93 3007.98,-320.96 3005,-315 2999.04,-303.07 2987.61,-308.58 2981,-297 2927.1,-202.64 3033.47,-128.11 2954,-54 2925.53,-27.45 2371.12,-20.92 2170.05,-19.42\"/>\n<polygon fill=\"black\" stroke=\"black\" points=\"2169.91,-15.92 2159.89,-19.34 2169.86,-22.92 2169.91,-15.92\"/>\n<text text-anchor=\"middle\" x=\"3011\" y=\"-231.8\" font-family=\"Times New Roman,serif\" font-size=\"14.00\">rdfs:subClassOf</text>\n</g>\n<!-- 6&#45;&gt;3 -->\n<g id=\"edge79\" class=\"edge\">\n<title>6&#45;&gt;3</title>\n<path fill=\"none\" stroke=\"black\" d=\"M2833.93,-455.9C2833.4,-441.41 2833.48,-420.16 2837,-402 2841.87,-376.87 2847.35,-371.71 2857,-348 2860.3,-339.89 2862.25,-338.31 2865,-330 2882.18,-278.1 2885.96,-264.33 2892,-210 2893.77,-194.1 2899.61,-188.07 2892,-174 2858.4,-111.87 2823.97,-114.7 2759,-87 2699,-61.42 2680.52,-63.56 2616,-54 2457.82,-30.56 2270.11,-22.8 2169.76,-20.24\"/>\n<polygon fill=\"black\" stroke=\"black\" points=\"2169.82,-16.74 2159.74,-20 2169.65,-23.74 2169.82,-16.74\"/>\n<text text-anchor=\"middle\" x=\"2911\" y=\"-231.8\" font-family=\"Times New Roman,serif\" font-size=\"14.00\">rdf:type</text>\n</g>\n<!-- 6&#45;&gt;6 -->\n<g id=\"edge16\" class=\"edge\">\n<title>6&#45;&gt;6</title>\n<path fill=\"none\" stroke=\"black\" d=\"M2864.85,-484C2877.72,-484.82 2888.75,-481.49 2888.75,-474 2888.75,-468.62 2883.05,-465.38 2875.07,-464.29\"/>\n<polygon fill=\"black\" stroke=\"black\" points=\"2874.94,-460.79 2864.85,-464 2874.74,-467.78 2874.94,-460.79\"/>\n<text text-anchor=\"middle\" x=\"2934.75\" y=\"-470.3\" font-family=\"Times New Roman,serif\" font-size=\"14.00\">rdfs:subClassOf</text>\n</g>\n<!-- 13 -->\n<g id=\"node14\" class=\"node\">\n<title>13</title>\n<ellipse fill=\"none\" stroke=\"black\" cx=\"3042\" cy=\"-279\" rx=\"51.99\" ry=\"18\"/>\n<text text-anchor=\"middle\" x=\"3042\" y=\"-275.3\" font-family=\"Times New Roman,serif\" font-size=\"14.00\">ex:Mammal</text>\n</g>\n<!-- 6&#45;&gt;13 -->\n<g id=\"edge94\" class=\"edge\">\n<title>6&#45;&gt;13</title>\n<path fill=\"none\" stroke=\"black\" d=\"M2870.43,-471.09C2919.78,-467.69 3005.69,-458.89 3028,-438 3068.85,-399.74 3064.9,-370.09 3055,-315 3054.51,-312.28 3053.83,-309.5 3053.02,-306.75\"/>\n<polygon fill=\"black\" stroke=\"black\" points=\"3056.27,-305.44 3049.73,-297.1 3049.65,-307.7 3056.27,-305.44\"/>\n<text text-anchor=\"middle\" x=\"3107\" y=\"-362.3\" font-family=\"Times New Roman,serif\" font-size=\"14.00\">rdfs:subClassOf</text>\n</g>\n<!-- 18 -->\n<g id=\"node19\" class=\"node\">\n<title>18</title>\n<ellipse fill=\"none\" stroke=\"black\" cx=\"2638\" cy=\"-192\" rx=\"46.29\" ry=\"18\"/>\n<text text-anchor=\"middle\" x=\"2638\" y=\"-188.3\" font-family=\"Times New Roman,serif\" font-size=\"14.00\">ex:Animal</text>\n</g>\n<!-- 6&#45;&gt;18 -->\n<g id=\"edge41\" class=\"edge\">\n<title>6&#45;&gt;18</title>\n<path fill=\"none\" stroke=\"black\" d=\"M2866.16,-464.76C2924,-447.87 3038.71,-405.98 3000,-348 2997.89,-344.84 2750.49,-244.52 2747,-243 2723.17,-232.6 2696.66,-220.44 2675.74,-210.73\"/>\n<polygon fill=\"black\" stroke=\"black\" points=\"2677.1,-207.5 2666.56,-206.45 2674.14,-213.84 2677.1,-207.5\"/>\n<text text-anchor=\"middle\" x=\"3002\" y=\"-318.8\" font-family=\"Times New Roman,serif\" font-size=\"14.00\">rdfs:subClassOf</text>\n</g>\n<!-- 20 -->\n<g id=\"node21\" class=\"node\">\n<title>20</title>\n<ellipse fill=\"none\" stroke=\"black\" cx=\"2623\" cy=\"-366\" rx=\"46.29\" ry=\"18\"/>\n<text text-anchor=\"middle\" x=\"2623\" y=\"-362.3\" font-family=\"Times New Roman,serif\" font-size=\"14.00\">ex:Canine</text>\n</g>\n<!-- 6&#45;&gt;20 -->\n<g id=\"edge82\" class=\"edge\">\n<title>6&#45;&gt;20</title>\n<path fill=\"none\" stroke=\"black\" d=\"M2799.28,-471.74C2765.88,-469.07 2715.76,-461.14 2679,-438 2661.23,-426.81 2646.74,-407.94 2636.96,-392.46\"/>\n<polygon fill=\"black\" stroke=\"black\" points=\"2639.91,-390.58 2631.75,-383.82 2633.92,-394.19 2639.91,-390.58\"/>\n<text text-anchor=\"middle\" x=\"2725\" y=\"-416.3\" font-family=\"Times New Roman,serif\" font-size=\"14.00\">rdfs:subClassOf</text>\n</g>\n<!-- 7 -->\n<g id=\"node8\" class=\"node\">\n<title>7</title>\n<ellipse fill=\"none\" stroke=\"black\" cx=\"574\" cy=\"-279\" rx=\"53.89\" ry=\"18\"/>\n<text text-anchor=\"middle\" x=\"574\" y=\"-275.3\" font-family=\"Times New Roman,serif\" font-size=\"14.00\">rdfs:domain</text>\n</g>\n<!-- 7&#45;&gt;1 -->\n<g id=\"edge96\" class=\"edge\">\n<title>7&#45;&gt;1</title>\n<path fill=\"none\" stroke=\"black\" d=\"M607.85,-264.98C623.57,-258.7 642.4,-250.84 659,-243 671.77,-236.97 673.83,-233.08 687,-228 779.74,-192.26 805.68,-188.54 904,-174 1063.36,-150.44 1105.15,-164.79 1266,-156 1378.03,-149.88 1405.99,-147.41 1518,-141 1732.19,-128.74 1986.94,-115 2098.24,-109.03\"/>\n<polygon fill=\"black\" stroke=\"black\" points=\"2098.45,-112.53 2108.24,-108.5 2098.07,-105.54 2098.45,-112.53\"/>\n<text text-anchor=\"middle\" x=\"932\" y=\"-188.3\" font-family=\"Times New Roman,serif\" font-size=\"14.00\">rdfs:range</text>\n</g>\n<!-- 7&#45;&gt;2 -->\n<g id=\"edge50\" class=\"edge\">\n<title>7&#45;&gt;2</title>\n<path fill=\"none\" stroke=\"black\" d=\"M612.51,-266.3C634.39,-259.59 662.27,-250.95 687,-243 707.07,-236.55 711.43,-232.61 732,-228 733.4,-227.69 877.86,-210.43 963.03,-200.27\"/>\n<polygon fill=\"black\" stroke=\"black\" points=\"963.6,-203.73 973.11,-199.07 962.77,-196.78 963.6,-203.73\"/>\n<text text-anchor=\"middle\" x=\"754\" y=\"-231.8\" font-family=\"Times New Roman,serif\" font-size=\"14.00\">rdf:type</text>\n</g>\n<!-- 7&#45;&gt;2 -->\n<g id=\"edge78\" class=\"edge\">\n<title>7&#45;&gt;2</title>\n<path fill=\"none\" stroke=\"black\" d=\"M627.55,-275.9C669.52,-272.59 728.55,-264.19 776,-243 785.82,-238.61 785.13,-232.29 795,-228 810.2,-221.39 900.76,-208.79 963.33,-200.64\"/>\n<polygon fill=\"black\" stroke=\"black\" points=\"964.04,-204.08 973.5,-199.33 963.14,-197.14 964.04,-204.08\"/>\n<text text-anchor=\"middle\" x=\"828.5\" y=\"-231.8\" font-family=\"Times New Roman,serif\" font-size=\"14.00\">rdfs:domain</text>\n</g>\n<!-- 7&#45;&gt;3 -->\n<g id=\"edge99\" class=\"edge\">\n<title>7&#45;&gt;3</title>\n<path fill=\"none\" stroke=\"black\" d=\"M546.12,-263.35C532.28,-254.03 520.04,-241.25 528,-228 633.52,-52.33 751.44,-77.67 955,-54 1163.82,-29.71 1809.38,-21.66 2026.17,-19.6\"/>\n<polygon fill=\"black\" stroke=\"black\" points=\"2026.5,-23.1 2036.47,-19.5 2026.44,-16.1 2026.5,-23.1\"/>\n<text text-anchor=\"middle\" x=\"619\" y=\"-144.8\" font-family=\"Times New Roman,serif\" font-size=\"14.00\">rdf:type</text>\n</g>\n<!-- 7&#45;&gt;7 -->\n<g id=\"edge91\" class=\"edge\">\n<title>7&#45;&gt;7</title>\n<path fill=\"none\" stroke=\"black\" d=\"M622.76,-286.82C635.93,-286.4 645.95,-283.8 645.95,-279 645.95,-275.55 640.77,-273.23 632.97,-272.05\"/>\n<polygon fill=\"black\" stroke=\"black\" points=\"633.02,-268.54 622.76,-271.18 632.43,-275.52 633.02,-268.54\"/>\n<text text-anchor=\"middle\" x=\"700.95\" y=\"-275.3\" font-family=\"Times New Roman,serif\" font-size=\"14.00\">rdfs:subPropertyOf</text>\n</g>\n<!-- 8 -->\n<g id=\"node9\" class=\"node\">\n<title>8</title>\n<ellipse fill=\"none\" stroke=\"black\" cx=\"1546\" cy=\"-582\" rx=\"48.99\" ry=\"18\"/>\n<text text-anchor=\"middle\" x=\"1546\" y=\"-578.3\" font-family=\"Times New Roman,serif\" font-size=\"14.00\">ex:hasDog</text>\n</g>\n<!-- 8&#45;&gt;2 -->\n<g id=\"edge53\" class=\"edge\">\n<title>8&#45;&gt;2</title>\n<path fill=\"none\" stroke=\"black\" d=\"M1496.89,-581.36C1366.95,-580.99 1024,-570.94 1024,-475 1024,-475 1024,-475 1024,-321.5 1024,-286.56 1024,-246.27 1024,-220.26\"/>\n<polygon fill=\"black\" stroke=\"black\" points=\"1027.5,-220.04 1024,-210.04 1020.5,-220.04 1027.5,-220.04\"/>\n<text text-anchor=\"middle\" x=\"1046\" y=\"-362.3\" font-family=\"Times New Roman,serif\" font-size=\"14.00\">rdf:type</text>\n</g>\n<!-- 8&#45;&gt;3 -->\n<g id=\"edge49\" class=\"edge\">\n<title>8&#45;&gt;3</title>\n<path fill=\"none\" stroke=\"black\" d=\"M1497.18,-580.27C1234.39,-576.01 0,-551.93 0,-475 0,-475 0,-475 0,-104 0,28.25 460.95,-61.1 593,-54 1143.78,-24.4 1809.27,-19.82 2026.02,-19.12\"/>\n<polygon fill=\"black\" stroke=\"black\" points=\"2026.32,-22.62 2036.3,-19.09 2026.29,-15.62 2026.32,-22.62\"/>\n<text text-anchor=\"middle\" x=\"22\" y=\"-275.3\" font-family=\"Times New Roman,serif\" font-size=\"14.00\">rdf:type</text>\n</g>\n<!-- 8&#45;&gt;8 -->\n<g id=\"edge63\" class=\"edge\">\n<title>8&#45;&gt;8</title>\n<path fill=\"none\" stroke=\"black\" d=\"M1589.97,-589.85C1602.8,-589.58 1612.75,-586.96 1612.75,-582 1612.75,-578.43 1607.61,-576.08 1599.96,-574.93\"/>\n<polygon fill=\"black\" stroke=\"black\" points=\"1600.21,-571.44 1589.97,-574.15 1599.67,-578.42 1600.21,-571.44\"/>\n<text text-anchor=\"middle\" x=\"1667.75\" y=\"-578.3\" font-family=\"Times New Roman,serif\" font-size=\"14.00\">rdfs:subPropertyOf</text>\n</g>\n<!-- 14 -->\n<g id=\"node15\" class=\"node\">\n<title>14</title>\n<ellipse fill=\"none\" stroke=\"black\" cx=\"2280\" cy=\"-474\" rx=\"36.29\" ry=\"18\"/>\n<text text-anchor=\"middle\" x=\"2280\" y=\"-470.3\" font-family=\"Times New Roman,serif\" font-size=\"14.00\">ex:Dog</text>\n</g>\n<!-- 8&#45;&gt;14 -->\n<g id=\"edge62\" class=\"edge\">\n<title>8&#45;&gt;14</title>\n<path fill=\"none\" stroke=\"black\" d=\"M1593.4,-577.52C1654.9,-572.46 1758.42,-561.89 1793,-546 1815.04,-535.88 1811.66,-519.43 1834,-510 1905.01,-480.03 2134,-475.49 2233.32,-474.97\"/>\n<polygon fill=\"black\" stroke=\"black\" points=\"2233.38,-478.47 2243.36,-474.93 2233.35,-471.47 2233.38,-478.47\"/>\n<text text-anchor=\"middle\" x=\"1862\" y=\"-524.3\" font-family=\"Times New Roman,serif\" font-size=\"14.00\">rdfs:range</text>\n</g>\n<!-- 17 -->\n<g id=\"node18\" class=\"node\">\n<title>17</title>\n<ellipse fill=\"none\" stroke=\"black\" cx=\"1570\" cy=\"-474\" rx=\"44.69\" ry=\"18\"/>\n<text text-anchor=\"middle\" x=\"1570\" y=\"-470.3\" font-family=\"Times New Roman,serif\" font-size=\"14.00\">ex:hasPet</text>\n</g>\n<!-- 8&#45;&gt;17 -->\n<g id=\"edge87\" class=\"edge\">\n<title>8&#45;&gt;17</title>\n<path fill=\"none\" stroke=\"black\" d=\"M1571.77,-566.62C1579.02,-561.18 1586.01,-554.26 1590,-546 1596.95,-531.59 1594.11,-525.46 1590,-510 1589.16,-506.82 1587.95,-503.63 1586.54,-500.54\"/>\n<polygon fill=\"black\" stroke=\"black\" points=\"1589.62,-498.88 1581.86,-491.67 1583.43,-502.15 1589.62,-498.88\"/>\n<text text-anchor=\"middle\" x=\"1650\" y=\"-524.3\" font-family=\"Times New Roman,serif\" font-size=\"14.00\">rdfs:subPropertyOf</text>\n</g>\n<!-- 21 -->\n<g id=\"node22\" class=\"node\">\n<title>21</title>\n<ellipse fill=\"none\" stroke=\"black\" cx=\"1754\" cy=\"-366\" rx=\"46.59\" ry=\"18\"/>\n<text text-anchor=\"middle\" x=\"1754\" y=\"-362.3\" font-family=\"Times New Roman,serif\" font-size=\"14.00\">ex:Human</text>\n</g>\n<!-- 8&#45;&gt;21 -->\n<g id=\"edge51\" class=\"edge\">\n<title>8&#45;&gt;21</title>\n<path fill=\"none\" stroke=\"black\" d=\"M1594.49,-579.14C1628.71,-575.88 1674.44,-567.43 1709,-546 1754.96,-517.51 1758.63,-491.69 1765,-438 1766.89,-422.11 1767.43,-417.81 1765,-402 1764.58,-399.26 1763.98,-396.44 1763.29,-393.65\"/>\n<polygon fill=\"black\" stroke=\"black\" points=\"1766.59,-392.47 1760.43,-383.84 1759.87,-394.42 1766.59,-392.47\"/>\n<text text-anchor=\"middle\" x=\"1796.5\" y=\"-470.3\" font-family=\"Times New Roman,serif\" font-size=\"14.00\">rdfs:domain</text>\n</g>\n<!-- 9 -->\n<g id=\"node10\" class=\"node\">\n<title>9</title>\n<ellipse fill=\"none\" stroke=\"black\" cx=\"335\" cy=\"-279\" rx=\"38.99\" ry=\"18\"/>\n<text text-anchor=\"middle\" x=\"335\" y=\"-275.3\" font-family=\"Times New Roman,serif\" font-size=\"14.00\">rdf:type</text>\n</g>\n<!-- 9&#45;&gt;2 -->\n<g id=\"edge46\" class=\"edge\">\n<title>9&#45;&gt;2</title>\n<path fill=\"none\" stroke=\"black\" d=\"M373.25,-274.88C423.79,-270.29 515.35,-260.31 592,-243 613.39,-238.17 617.47,-232.18 639,-228 744.88,-207.46 773.65,-220.37 881,-210 908.12,-207.38 938.07,-203.91 963.52,-200.79\"/>\n<polygon fill=\"black\" stroke=\"black\" points=\"964.27,-204.22 973.76,-199.52 963.41,-197.28 964.27,-204.22\"/>\n<text text-anchor=\"middle\" x=\"661\" y=\"-231.8\" font-family=\"Times New Roman,serif\" font-size=\"14.00\">rdf:type</text>\n</g>\n<!-- 9&#45;&gt;3 -->\n<g id=\"edge100\" class=\"edge\">\n<title>9&#45;&gt;3</title>\n<path fill=\"none\" stroke=\"black\" d=\"M351.96,-262.64C393.63,-225.81 505.79,-132.19 617,-87 689.11,-57.7 711.62,-62.4 789,-54 1031.74,-27.65 1788.75,-20.88 2026.08,-19.38\"/>\n<polygon fill=\"black\" stroke=\"black\" points=\"2026.34,-22.88 2036.32,-19.32 2026.3,-15.88 2026.34,-22.88\"/>\n<text text-anchor=\"middle\" x=\"535\" y=\"-144.8\" font-family=\"Times New Roman,serif\" font-size=\"14.00\">rdf:type</text>\n</g>\n<!-- 9&#45;&gt;9 -->\n<g id=\"edge19\" class=\"edge\">\n<title>9&#45;&gt;9</title>\n<path fill=\"none\" stroke=\"black\" d=\"M370.34,-286.87C382.35,-286.92 392,-284.29 392,-279 392,-275.36 387.44,-272.99 380.69,-271.87\"/>\n<polygon fill=\"black\" stroke=\"black\" points=\"380.57,-268.35 370.34,-271.13 380.07,-275.33 380.57,-268.35\"/>\n<text text-anchor=\"middle\" x=\"447\" y=\"-275.3\" font-family=\"Times New Roman,serif\" font-size=\"14.00\">rdfs:subPropertyOf</text>\n</g>\n<!-- 10 -->\n<g id=\"node11\" class=\"node\">\n<title>10</title>\n<ellipse fill=\"none\" stroke=\"black\" cx=\"1151\" cy=\"-279\" rx=\"61.19\" ry=\"18\"/>\n<text text-anchor=\"middle\" x=\"1151\" y=\"-275.3\" font-family=\"Times New Roman,serif\" font-size=\"14.00\">rdfs:comment</text>\n</g>\n<!-- 10&#45;&gt;2 -->\n<g id=\"edge11\" class=\"edge\">\n<title>10&#45;&gt;2</title>\n<path fill=\"none\" stroke=\"black\" d=\"M1126.22,-262.53C1116.72,-256.52 1105.8,-249.52 1096,-243 1082.2,-233.82 1067.12,-223.41 1054.34,-214.47\"/>\n<polygon fill=\"black\" stroke=\"black\" points=\"1056.1,-211.43 1045.9,-208.55 1052.08,-217.16 1056.1,-211.43\"/>\n<text text-anchor=\"middle\" x=\"1118\" y=\"-231.8\" font-family=\"Times New Roman,serif\" font-size=\"14.00\">rdf:type</text>\n</g>\n<!-- 10&#45;&gt;3 -->\n<g id=\"edge59\" class=\"edge\">\n<title>10&#45;&gt;3</title>\n<path fill=\"none\" stroke=\"black\" d=\"M1175.85,-262.55C1251.44,-215.86 1478.43,-77.97 1561,-54 1646.2,-29.27 1900.51,-21.97 2026.15,-19.85\"/>\n<polygon fill=\"black\" stroke=\"black\" points=\"2026.49,-23.34 2036.43,-19.68 2026.37,-16.34 2026.49,-23.34\"/>\n<text text-anchor=\"middle\" x=\"1400\" y=\"-144.8\" font-family=\"Times New Roman,serif\" font-size=\"14.00\">rdf:type</text>\n</g>\n<!-- 10&#45;&gt;10 -->\n<g id=\"edge106\" class=\"edge\">\n<title>10&#45;&gt;10</title>\n<path fill=\"none\" stroke=\"black\" d=\"M1206.44,-286.75C1220,-286.18 1230.09,-283.59 1230.09,-279 1230.09,-275.66 1224.77,-273.39 1216.65,-272.17\"/>\n<polygon fill=\"black\" stroke=\"black\" points=\"1216.71,-268.66 1206.44,-271.25 1216.08,-275.63 1216.71,-268.66\"/>\n<text text-anchor=\"middle\" x=\"1285.09\" y=\"-275.3\" font-family=\"Times New Roman,serif\" font-size=\"14.00\">rdfs:subPropertyOf</text>\n</g>\n<!-- 11 -->\n<g id=\"node12\" class=\"node\">\n<title>11</title>\n<ellipse fill=\"none\" stroke=\"black\" cx=\"1440\" cy=\"-279\" rx=\"81.79\" ry=\"18\"/>\n<text text-anchor=\"middle\" x=\"1440\" y=\"-275.3\" font-family=\"Times New Roman,serif\" font-size=\"14.00\">rdfs:subPropertyOf</text>\n</g>\n<!-- 11&#45;&gt;2 -->\n<g id=\"edge18\" class=\"edge\">\n<title>11&#45;&gt;2</title>\n<path fill=\"none\" stroke=\"black\" d=\"M1382.16,-266.18C1302.14,-249.83 1158.65,-220.51 1079.75,-204.39\"/>\n<polygon fill=\"black\" stroke=\"black\" points=\"1080.03,-200.88 1069.53,-202.3 1078.63,-207.73 1080.03,-200.88\"/>\n<text text-anchor=\"middle\" x=\"1279\" y=\"-231.8\" font-family=\"Times New Roman,serif\" font-size=\"14.00\">rdf:type</text>\n</g>\n<!-- 11&#45;&gt;3 -->\n<g id=\"edge67\" class=\"edge\">\n<title>11&#45;&gt;3</title>\n<path fill=\"none\" stroke=\"black\" d=\"M1445.12,-260.93C1459.2,-217.4 1502.97,-102.31 1585,-54 1622.06,-32.17 1894.08,-23.37 2026.27,-20.36\"/>\n<polygon fill=\"black\" stroke=\"black\" points=\"2026.39,-23.86 2036.31,-20.13 2026.24,-16.86 2026.39,-23.86\"/>\n<text text-anchor=\"middle\" x=\"1522\" y=\"-144.8\" font-family=\"Times New Roman,serif\" font-size=\"14.00\">rdf:type</text>\n</g>\n<!-- 11&#45;&gt;11 -->\n<g id=\"edge83\" class=\"edge\">\n<title>11&#45;&gt;11</title>\n<path fill=\"none\" stroke=\"black\" d=\"M1514.49,-286.55C1529.32,-285.7 1539.89,-283.18 1539.89,-279 1539.89,-275.86 1533.95,-273.66 1524.72,-272.4\"/>\n<polygon fill=\"black\" stroke=\"black\" points=\"1524.78,-268.89 1514.49,-271.45 1524.13,-275.86 1524.78,-268.89\"/>\n<text text-anchor=\"middle\" x=\"1594.89\" y=\"-275.3\" font-family=\"Times New Roman,serif\" font-size=\"14.00\">rdfs:subPropertyOf</text>\n</g>\n<!-- 12 -->\n<g id=\"node13\" class=\"node\">\n<title>12</title>\n<ellipse fill=\"none\" stroke=\"black\" cx=\"3218\" cy=\"-582\" rx=\"41.69\" ry=\"18\"/>\n<text text-anchor=\"middle\" x=\"3218\" y=\"-578.3\" font-family=\"Times New Roman,serif\" font-size=\"14.00\">ex:Spike</text>\n</g>\n<!-- 12&#45;&gt;3 -->\n<g id=\"edge60\" class=\"edge\">\n<title>12&#45;&gt;3</title>\n<path fill=\"none\" stroke=\"black\" d=\"M3259.03,-578.28C3357.29,-570.63 3598,-544.78 3598,-475 3598,-475 3598,-475 3598,-321.5 3598,-279.94 3605.53,-268.67 3597,-228 3588.34,-186.7 3580.19,-177.49 3559,-141 3544.13,-115.4 3543.2,-105.4 3520,-87 3490.19,-63.36 3478.21,-61.96 3441,-54 3316.72,-27.4 2430.51,-20.72 2169.9,-19.33\"/>\n<polygon fill=\"black\" stroke=\"black\" points=\"2169.82,-15.83 2159.8,-19.27 2169.78,-22.83 2169.82,-15.83\"/>\n<text text-anchor=\"middle\" x=\"3623\" y=\"-275.3\" font-family=\"Times New Roman,serif\" font-size=\"14.00\">rdf:type</text>\n</g>\n<!-- 12&#45;&gt;13 -->\n<g id=\"edge93\" class=\"edge\">\n<title>12&#45;&gt;13</title>\n<path fill=\"none\" stroke=\"black\" d=\"M3217.53,-563.77C3215.86,-507.82 3209.37,-333.73 3193,-315 3180.82,-301.06 3138.12,-292 3101.23,-286.59\"/>\n<polygon fill=\"black\" stroke=\"black\" points=\"3101.4,-283.08 3091.01,-285.17 3100.43,-290.02 3101.4,-283.08\"/>\n<text text-anchor=\"middle\" x=\"3233\" y=\"-416.3\" font-family=\"Times New Roman,serif\" font-size=\"14.00\">rdf:type</text>\n</g>\n<!-- 12&#45;&gt;14 -->\n<g id=\"edge27\" class=\"edge\">\n<title>12&#45;&gt;14</title>\n<path fill=\"none\" stroke=\"black\" d=\"M3178.29,-576.51C3026.8,-559.39 2485.59,-498.23 2325.14,-480.1\"/>\n<polygon fill=\"black\" stroke=\"black\" points=\"2325.46,-476.62 2315.13,-478.97 2324.68,-483.57 2325.46,-476.62\"/>\n<text text-anchor=\"middle\" x=\"2909\" y=\"-524.3\" font-family=\"Times New Roman,serif\" font-size=\"14.00\">rdf:type</text>\n</g>\n<!-- 15 -->\n<g id=\"node16\" class=\"node\">\n<title>15</title>\n<polygon fill=\"none\" stroke=\"black\" points=\"3561,-438 3317,-438 3317,-402 3561,-402 3561,-438\"/>\n<text text-anchor=\"middle\" x=\"3439\" y=\"-416.3\" font-family=\"Times New Roman,serif\" font-size=\"14.00\">&quot;A gray bulldog. He likes to chase cats.&quot;</text>\n</g>\n<!-- 12&#45;&gt;15 -->\n<g id=\"edge38\" class=\"edge\">\n<title>12&#45;&gt;15</title>\n<path fill=\"none\" stroke=\"black\" d=\"M3247.34,-568.99C3261.04,-562.87 3277.31,-554.86 3291,-546 3337.72,-515.78 3385.87,-472.41 3414.08,-445.51\"/>\n<polygon fill=\"black\" stroke=\"black\" points=\"3416.71,-447.84 3421.5,-438.39 3411.86,-442.79 3416.71,-447.84\"/>\n<text text-anchor=\"middle\" x=\"3379\" y=\"-524.3\" font-family=\"Times New Roman,serif\" font-size=\"14.00\">rdfs:comment</text>\n</g>\n<!-- 12&#45;&gt;18 -->\n<g id=\"edge40\" class=\"edge\">\n<title>12&#45;&gt;18</title>\n<path fill=\"none\" stroke=\"black\" d=\"M3224.59,-564.18C3234.52,-537.8 3252.82,-484.86 3259,-438 3261.09,-422.14 3261.51,-417.8 3259,-402 3253.82,-369.45 3238.99,-281.27 3213,-261 3167.51,-225.52 3009.44,-258.98 2954,-243 2940.43,-239.09 2939.46,-232.26 2926,-228 2904.28,-221.13 2769.48,-206.5 2692.23,-198.5\"/>\n<polygon fill=\"black\" stroke=\"black\" points=\"2692.5,-195.01 2682.19,-197.46 2691.78,-201.97 2692.5,-195.01\"/>\n<text text-anchor=\"middle\" x=\"3277\" y=\"-362.3\" font-family=\"Times New Roman,serif\" font-size=\"14.00\">rdf:type</text>\n</g>\n<!-- 12&#45;&gt;20 -->\n<g id=\"edge81\" class=\"edge\">\n<title>12&#45;&gt;20</title>\n<path fill=\"none\" stroke=\"black\" d=\"M3209.1,-564.01C3193.7,-536.46 3159.36,-482.46 3114,-456 3040.26,-412.98 2789.02,-383.45 2677.31,-372.13\"/>\n<polygon fill=\"black\" stroke=\"black\" points=\"2677.56,-368.64 2667.26,-371.13 2676.86,-375.61 2677.56,-368.64\"/>\n<text text-anchor=\"middle\" x=\"3179\" y=\"-470.3\" font-family=\"Times New Roman,serif\" font-size=\"14.00\">rdf:type</text>\n</g>\n<!-- 13&#45;&gt;1 -->\n<g id=\"edge42\" class=\"edge\">\n<title>13&#45;&gt;1</title>\n<path fill=\"none\" stroke=\"black\" d=\"M3058.73,-261.69C3067.55,-251.14 3074.88,-237.63 3066,-228 3032.45,-191.61 2889.57,-229.31 2844,-210 2821.67,-200.54 2825.13,-183.92 2803,-174 2693.08,-124.74 2653.76,-153.87 2534,-141 2419.33,-128.67 2284.84,-116.89 2210.87,-110.63\"/>\n<polygon fill=\"black\" stroke=\"black\" points=\"2211.1,-107.14 2200.84,-109.79 2210.51,-114.11 2211.1,-107.14\"/>\n<text text-anchor=\"middle\" x=\"2866\" y=\"-188.3\" font-family=\"Times New Roman,serif\" font-size=\"14.00\">rdf:type</text>\n</g>\n<!-- 13&#45;&gt;3 -->\n<g id=\"edge34\" class=\"edge\">\n<title>13&#45;&gt;3</title>\n<path fill=\"none\" stroke=\"black\" d=\"M3076.99,-265.64C3090.77,-259.89 3106.3,-252.26 3119,-243 3161.2,-212.23 3179.18,-204.72 3198,-156 3218.74,-102.32 3171.63,-78.39 3119,-54 3076.06,-34.1 2394.8,-23.05 2169.62,-19.93\"/>\n<polygon fill=\"black\" stroke=\"black\" points=\"2169.62,-16.43 2159.57,-19.79 2169.52,-23.43 2169.62,-16.43\"/>\n<text text-anchor=\"middle\" x=\"3224\" y=\"-144.8\" font-family=\"Times New Roman,serif\" font-size=\"14.00\">rdf:type</text>\n</g>\n<!-- 13&#45;&gt;3 -->\n<g id=\"edge76\" class=\"edge\">\n<title>13&#45;&gt;3</title>\n<path fill=\"none\" stroke=\"black\" d=\"M3065.9,-262.83C3072.34,-257.43 3078.49,-250.73 3082,-243 3084.75,-236.93 3083.58,-234.48 3082,-228 3061.42,-143.4 3065.47,-100.71 2992,-54 2957.54,-32.09 2376.26,-22.56 2169.93,-19.85\"/>\n<polygon fill=\"black\" stroke=\"black\" points=\"2169.85,-16.35 2159.81,-19.72 2169.76,-23.35 2169.85,-16.35\"/>\n<text text-anchor=\"middle\" x=\"3111\" y=\"-144.8\" font-family=\"Times New Roman,serif\" font-size=\"14.00\">rdfs:subClassOf</text>\n</g>\n<!-- 13&#45;&gt;13 -->\n<g id=\"edge43\" class=\"edge\">\n<title>13&#45;&gt;13</title>\n<path fill=\"none\" stroke=\"black\" d=\"M3089.11,-286.83C3102.08,-286.45 3112,-283.84 3112,-279 3112,-275.52 3106.87,-273.2 3099.18,-272.02\"/>\n<polygon fill=\"black\" stroke=\"black\" points=\"3099.37,-268.53 3089.11,-271.17 3098.78,-275.5 3099.37,-268.53\"/>\n<text text-anchor=\"middle\" x=\"3158\" y=\"-275.3\" font-family=\"Times New Roman,serif\" font-size=\"14.00\">rdfs:subClassOf</text>\n</g>\n<!-- 13&#45;&gt;18 -->\n<g id=\"edge5\" class=\"edge\">\n<title>13&#45;&gt;18</title>\n<path fill=\"none\" stroke=\"black\" d=\"M2995.87,-270.65C2975.41,-267.49 2951.03,-263.88 2929,-261 2857.17,-251.61 2835.19,-267.45 2767,-243 2755.51,-238.88 2755,-233.29 2744,-228 2725.35,-219.03 2703.81,-211.45 2685.04,-205.66\"/>\n<polygon fill=\"black\" stroke=\"black\" points=\"2685.8,-202.24 2675.22,-202.72 2683.79,-208.94 2685.8,-202.24\"/>\n<text text-anchor=\"middle\" x=\"2813\" y=\"-231.8\" font-family=\"Times New Roman,serif\" font-size=\"14.00\">rdfs:subClassOf</text>\n</g>\n<!-- 14&#45;&gt;1 -->\n<g id=\"edge80\" class=\"edge\">\n<title>14&#45;&gt;1</title>\n<path fill=\"none\" stroke=\"black\" d=\"M2276.3,-455.62C2269.81,-424.17 2256.63,-355.6 2252,-297 2252,-297 2252,-228 2252,-228 2247.25,-202.69 2241.85,-197.35 2231,-174 2223.96,-158.85 2224.55,-153.07 2213,-141 2207.04,-134.77 2199.73,-129.24 2192.35,-124.52\"/>\n<polygon fill=\"black\" stroke=\"black\" points=\"2194.09,-121.48 2183.71,-119.35 2190.49,-127.49 2194.09,-121.48\"/>\n<text text-anchor=\"middle\" x=\"2274\" y=\"-275.3\" font-family=\"Times New Roman,serif\" font-size=\"14.00\">rdf:type</text>\n</g>\n<!-- 14&#45;&gt;3 -->\n<g id=\"edge68\" class=\"edge\">\n<title>14&#45;&gt;3</title>\n<path fill=\"none\" stroke=\"black\" d=\"M2251.64,-462.41C2157.57,-427.18 1861.13,-315.05 1849,-297 1840.08,-283.72 1840.75,-274.71 1849,-261 1857.82,-246.35 1873.15,-256.98 1883,-243 1900.85,-217.67 1877.47,-200.82 1893,-174 1936.3,-99.21 1976.11,-104.83 2046,-54 2052.17,-49.51 2058.86,-44.86 2065.33,-40.46\"/>\n<polygon fill=\"black\" stroke=\"black\" points=\"2067.59,-43.16 2073.93,-34.67 2063.68,-37.35 2067.59,-43.16\"/>\n<text text-anchor=\"middle\" x=\"1912\" y=\"-231.8\" font-family=\"Times New Roman,serif\" font-size=\"14.00\">rdf:type</text>\n</g>\n<!-- 14&#45;&gt;3 -->\n<g id=\"edge104\" class=\"edge\">\n<title>14&#45;&gt;3</title>\n<path fill=\"none\" stroke=\"black\" d=\"M2245.19,-468.73C2206.71,-463.51 2143.15,-453.43 2090,-438 2028.34,-420.09 2009.56,-419.42 1956,-384 1937.13,-371.52 1938.68,-360.77 1920,-348 1903.57,-336.77 1895.95,-340.43 1879,-330 1859.37,-317.92 1855.91,-312.66 1839,-297 1814.55,-274.36 1799.46,-273.9 1787,-243 1784.51,-236.82 1783.38,-233.6 1787,-228 1797.59,-211.63 1811.43,-221.73 1827,-210 1884.17,-166.91 1873.06,-129.05 1931,-87 1965.01,-62.32 2009.28,-44.82 2043.69,-33.76\"/>\n<polygon fill=\"black\" stroke=\"black\" points=\"2045.07,-37 2053.57,-30.68 2042.98,-30.32 2045.07,-37\"/>\n<text text-anchor=\"middle\" x=\"1833\" y=\"-231.8\" font-family=\"Times New Roman,serif\" font-size=\"14.00\">rdfs:subClassOf</text>\n</g>\n<!-- 14&#45;&gt;13 -->\n<g id=\"edge84\" class=\"edge\">\n<title>14&#45;&gt;13</title>\n<path fill=\"none\" stroke=\"black\" d=\"M2316.54,-472.18C2415.73,-469.66 2688.36,-460.82 2775,-438 2864.97,-414.31 2878.91,-385.63 2964,-348 2983.32,-339.45 2991.58,-343.3 3008,-330 3016.11,-323.43 3023.05,-314.42 3028.51,-305.85\"/>\n<polygon fill=\"black\" stroke=\"black\" points=\"3031.54,-307.59 3033.64,-297.21 3025.52,-304.02 3031.54,-307.59\"/>\n<text text-anchor=\"middle\" x=\"3010\" y=\"-362.3\" font-family=\"Times New Roman,serif\" font-size=\"14.00\">rdfs:subClassOf</text>\n</g>\n<!-- 14&#45;&gt;14 -->\n<g id=\"edge74\" class=\"edge\">\n<title>14&#45;&gt;14</title>\n<path fill=\"none\" stroke=\"black\" d=\"M2310.48,-484.02C2323.4,-484.78 2334.4,-481.44 2334.4,-474 2334.4,-468.66 2328.71,-465.43 2320.72,-464.31\"/>\n<polygon fill=\"black\" stroke=\"black\" points=\"2320.59,-460.81 2310.48,-463.98 2320.36,-467.8 2320.59,-460.81\"/>\n<text text-anchor=\"middle\" x=\"2380.4\" y=\"-470.3\" font-family=\"Times New Roman,serif\" font-size=\"14.00\">rdfs:subClassOf</text>\n</g>\n<!-- 14&#45;&gt;18 -->\n<g id=\"edge33\" class=\"edge\">\n<title>14&#45;&gt;18</title>\n<path fill=\"none\" stroke=\"black\" d=\"M2295.39,-457.36C2309.69,-442.89 2331.63,-420.84 2351,-402 2391.35,-362.77 2392.79,-340.42 2443,-315 2482.9,-294.8 2505.27,-322.52 2542,-297 2571.29,-276.65 2558.16,-253.61 2583,-228 2588.65,-222.17 2595.45,-216.86 2602.32,-212.24\"/>\n<polygon fill=\"black\" stroke=\"black\" points=\"2604.39,-215.07 2610.96,-206.76 2600.64,-209.16 2604.39,-215.07\"/>\n<text text-anchor=\"middle\" x=\"2489\" y=\"-318.8\" font-family=\"Times New Roman,serif\" font-size=\"14.00\">rdfs:subClassOf</text>\n</g>\n<!-- 14&#45;&gt;20 -->\n<g id=\"edge70\" class=\"edge\">\n<title>14&#45;&gt;20</title>\n<path fill=\"none\" stroke=\"black\" d=\"M2304.93,-460.67C2341.81,-442.59 2409.32,-410.13 2435,-402 2479.12,-388.02 2530.93,-378.89 2568.98,-373.47\"/>\n<polygon fill=\"black\" stroke=\"black\" points=\"2569.9,-376.88 2579.33,-372.04 2568.94,-369.94 2569.9,-376.88\"/>\n<text text-anchor=\"middle\" x=\"2481\" y=\"-416.3\" font-family=\"Times New Roman,serif\" font-size=\"14.00\">rdfs:subClassOf</text>\n</g>\n<!-- 15&#45;&gt;3 -->\n<g id=\"edge39\" class=\"edge\">\n<title>15&#45;&gt;3</title>\n<path fill=\"none\" stroke=\"black\" d=\"M3511.3,-401.77C3519.59,-397.18 3527.15,-391.37 3533,-384 3576.46,-329.25 3537.43,-296.14 3553,-228 3554.88,-219.78 3557.65,-218.32 3559,-210 3561.56,-194.21 3565.95,-188.41 3559,-174 3521.74,-96.8 3488.55,-83.32 3408,-54 3349.59,-32.74 2435.91,-22.27 2170.04,-19.66\"/>\n<polygon fill=\"black\" stroke=\"black\" points=\"2169.77,-16.16 2159.74,-19.56 2169.7,-23.16 2169.77,-16.16\"/>\n<text text-anchor=\"middle\" x=\"3575\" y=\"-231.8\" font-family=\"Times New Roman,serif\" font-size=\"14.00\">rdf:type</text>\n</g>\n<!-- 16 -->\n<g id=\"node17\" class=\"node\">\n<title>16</title>\n<ellipse fill=\"none\" stroke=\"black\" cx=\"3136\" cy=\"-669\" rx=\"37.09\" ry=\"18\"/>\n<text text-anchor=\"middle\" x=\"3136\" y=\"-665.3\" font-family=\"Times New Roman,serif\" font-size=\"14.00\">ex:Max</text>\n</g>\n<!-- 16&#45;&gt;3 -->\n<g id=\"edge1\" class=\"edge\">\n<title>16&#45;&gt;3</title>\n<path fill=\"none\" stroke=\"black\" d=\"M3173.03,-666.8C3305.77,-662 3750,-641.58 3750,-583 3750,-583 3750,-583 3750,-104 3750,-56.29 3701.19,-65.97 3655,-54 3510.54,-16.58 2457.28,-17.67 2170.13,-18.68\"/>\n<polygon fill=\"black\" stroke=\"black\" points=\"2169.83,-15.18 2159.84,-18.72 2169.85,-22.18 2169.83,-15.18\"/>\n<text text-anchor=\"middle\" x=\"3772\" y=\"-318.8\" font-family=\"Times New Roman,serif\" font-size=\"14.00\">rdf:type</text>\n</g>\n<!-- 16&#45;&gt;5 -->\n<g id=\"edge10\" class=\"edge\">\n<title>16&#45;&gt;5</title>\n<path fill=\"none\" stroke=\"black\" d=\"M3168.91,-660.72C3246.66,-643.26 3447.52,-596.7 3612,-546 3615.33,-544.97 3618.78,-543.85 3622.22,-542.68\"/>\n<polygon fill=\"black\" stroke=\"black\" points=\"3623.52,-545.94 3631.81,-539.34 3621.22,-539.33 3623.52,-545.94\"/>\n<text text-anchor=\"middle\" x=\"3371\" y=\"-621.8\" font-family=\"Times New Roman,serif\" font-size=\"14.00\">rdfs:label</text>\n</g>\n<!-- 16&#45;&gt;12 -->\n<g id=\"edge13\" class=\"edge\">\n<title>16&#45;&gt;12</title>\n<path fill=\"none\" stroke=\"black\" d=\"M3163.36,-656.65C3174.62,-650.89 3187.09,-642.99 3196,-633 3201.93,-626.36 3206.46,-617.87 3209.83,-609.78\"/>\n<polygon fill=\"black\" stroke=\"black\" points=\"3213.17,-610.85 3213.38,-600.25 3206.61,-608.4 3213.17,-610.85\"/>\n<text text-anchor=\"middle\" x=\"3231.5\" y=\"-621.8\" font-family=\"Times New Roman,serif\" font-size=\"14.00\">ex:hasPet</text>\n</g>\n<!-- 16&#45;&gt;12 -->\n<g id=\"edge32\" class=\"edge\">\n<title>16&#45;&gt;12</title>\n<path fill=\"none\" stroke=\"black\" d=\"M3130.07,-650.88C3127.61,-640.53 3126.61,-627.54 3133,-618 3141.44,-605.39 3155.33,-597.32 3169.47,-592.16\"/>\n<polygon fill=\"black\" stroke=\"black\" points=\"3170.77,-595.42 3179.22,-589.03 3168.63,-588.75 3170.77,-595.42\"/>\n<text text-anchor=\"middle\" x=\"3162.5\" y=\"-621.8\" font-family=\"Times New Roman,serif\" font-size=\"14.00\">ex:hasDog</text>\n</g>\n<!-- 16&#45;&gt;13 -->\n<g id=\"edge22\" class=\"edge\">\n<title>16&#45;&gt;13</title>\n<path fill=\"none\" stroke=\"black\" d=\"M3122.57,-652.02C3093.95,-615.92 3032.23,-525.78 3066,-456 3088.47,-409.58 3134.53,-430.42 3157,-384 3163.97,-369.6 3164.93,-361.9 3157,-348 3142.48,-322.54 3114.28,-305.65 3089.43,-295.07\"/>\n<polygon fill=\"black\" stroke=\"black\" points=\"3090.7,-291.8 3080.11,-291.32 3088.08,-298.3 3090.7,-291.8\"/>\n<text text-anchor=\"middle\" x=\"3088\" y=\"-470.3\" font-family=\"Times New Roman,serif\" font-size=\"14.00\">rdf:type</text>\n</g>\n<!-- 16&#45;&gt;18 -->\n<g id=\"edge95\" class=\"edge\">\n<title>16&#45;&gt;18</title>\n<path fill=\"none\" stroke=\"black\" d=\"M3099.28,-666.57C2970.77,-661.09 2549,-638.86 2549,-583 2549,-583 2549,-583 2549,-365 2549,-333.89 2595.52,-257.86 2621.29,-218.12\"/>\n<polygon fill=\"black\" stroke=\"black\" points=\"2624.37,-219.82 2626.91,-209.54 2618.51,-215.99 2624.37,-219.82\"/>\n<text text-anchor=\"middle\" x=\"2571\" y=\"-416.3\" font-family=\"Times New Roman,serif\" font-size=\"14.00\">rdf:type</text>\n</g>\n<!-- 16&#45;&gt;21 -->\n<g id=\"edge86\" class=\"edge\">\n<title>16&#45;&gt;21</title>\n<path fill=\"none\" stroke=\"black\" d=\"M3098.9,-667.06C2985.4,-664 2644.05,-653.3 2535,-633 2255.6,-580.99 2192.91,-535.63 1926,-438 1879.69,-421.06 1827.45,-399.08 1792.82,-384.09\"/>\n<polygon fill=\"black\" stroke=\"black\" points=\"1794.11,-380.83 1783.54,-380.06 1791.32,-387.25 1794.11,-380.83\"/>\n<text text-anchor=\"middle\" x=\"2228\" y=\"-524.3\" font-family=\"Times New Roman,serif\" font-size=\"14.00\">rdf:type</text>\n</g>\n<!-- 17&#45;&gt;2 -->\n<g id=\"edge54\" class=\"edge\">\n<title>17&#45;&gt;2</title>\n<path fill=\"none\" stroke=\"black\" d=\"M1527.18,-468.53C1434.68,-456.77 1213.85,-417.11 1081,-297 1055.78,-274.2 1065,-257.44 1048,-228 1046.12,-224.75 1044.04,-221.4 1041.91,-218.13\"/>\n<polygon fill=\"black\" stroke=\"black\" points=\"1044.75,-216.08 1036.26,-209.75 1038.95,-220 1044.75,-216.08\"/>\n<text text-anchor=\"middle\" x=\"1141\" y=\"-318.8\" font-family=\"Times New Roman,serif\" font-size=\"14.00\">rdf:type</text>\n</g>\n<!-- 17&#45;&gt;3 -->\n<g id=\"edge48\" class=\"edge\">\n<title>17&#45;&gt;3</title>\n<path fill=\"none\" stroke=\"black\" d=\"M1581.69,-456.56C1602.19,-426.58 1643.91,-360.28 1659,-297 1662.71,-281.44 1667.62,-274.48 1659,-261 1648.71,-244.92 1630.29,-259.08 1620,-243 1616.41,-237.38 1618.3,-234.45 1620,-228 1638.39,-158.33 1649.08,-137.98 1700,-87 1720.96,-66.02 1729.75,-63.05 1758,-54 1806.6,-38.43 1943.39,-27.99 2027.91,-22.8\"/>\n<polygon fill=\"black\" stroke=\"black\" points=\"2028.18,-26.29 2037.95,-22.2 2027.76,-19.31 2028.18,-26.29\"/>\n<text text-anchor=\"middle\" x=\"1642\" y=\"-231.8\" font-family=\"Times New Roman,serif\" font-size=\"14.00\">rdf:type</text>\n</g>\n<!-- 17&#45;&gt;8 -->\n<g id=\"edge64\" class=\"edge\">\n<title>17&#45;&gt;8</title>\n<path fill=\"none\" stroke=\"black\" d=\"M1528.07,-480.67C1510.15,-485.41 1490.89,-494.09 1480,-510 1470.97,-523.21 1471.75,-532.29 1480,-546 1484.86,-554.08 1492.28,-560.39 1500.42,-565.29\"/>\n<polygon fill=\"black\" stroke=\"black\" points=\"1498.97,-568.48 1509.45,-570.07 1502.25,-562.3 1498.97,-568.48\"/>\n<text text-anchor=\"middle\" x=\"1535\" y=\"-524.3\" font-family=\"Times New Roman,serif\" font-size=\"14.00\">rdfs:subPropertyOf</text>\n</g>\n<!-- 17&#45;&gt;17 -->\n<g id=\"edge89\" class=\"edge\">\n<title>17&#45;&gt;17</title>\n<path fill=\"none\" stroke=\"black\" d=\"M1607.42,-484.1C1621.37,-484.43 1632.85,-481.07 1632.85,-474 1632.85,-468.76 1626.52,-465.55 1617.56,-464.38\"/>\n<polygon fill=\"black\" stroke=\"black\" points=\"1617.58,-460.88 1607.42,-463.9 1617.24,-467.87 1617.58,-460.88\"/>\n<text text-anchor=\"middle\" x=\"1687.85\" y=\"-470.3\" font-family=\"Times New Roman,serif\" font-size=\"14.00\">rdfs:subPropertyOf</text>\n</g>\n<!-- 17&#45;&gt;18 -->\n<g id=\"edge77\" class=\"edge\">\n<title>17&#45;&gt;18</title>\n<path fill=\"none\" stroke=\"black\" d=\"M1599.51,-460.38C1611.03,-454.59 1623.87,-447 1634,-438 1670.69,-405.39 1655.76,-373 1698,-348 1866.28,-248.4 1946.4,-348.63 2135,-297 2173,-286.6 2177.89,-271 2216,-261 2297.62,-239.59 2321.47,-254.92 2405,-243 2443.75,-237.47 2539.91,-219.01 2578,-210 2582.75,-208.88 2587.7,-207.62 2592.61,-206.31\"/>\n<polygon fill=\"black\" stroke=\"black\" points=\"2593.88,-209.6 2602.6,-203.59 2592.03,-202.84 2593.88,-209.6\"/>\n<text text-anchor=\"middle\" x=\"1795\" y=\"-318.8\" font-family=\"Times New Roman,serif\" font-size=\"14.00\">rdfs:range</text>\n</g>\n<!-- 17&#45;&gt;21 -->\n<g id=\"edge66\" class=\"edge\">\n<title>17&#45;&gt;21</title>\n<path fill=\"none\" stroke=\"black\" d=\"M1609.51,-465.11C1629.31,-459.78 1652.86,-451.24 1671,-438 1687.16,-426.21 1683.27,-415.53 1698,-402 1704.12,-396.38 1711.25,-391.14 1718.34,-386.52\"/>\n<polygon fill=\"black\" stroke=\"black\" points=\"1720.57,-389.25 1727.22,-381 1716.88,-383.31 1720.57,-389.25\"/>\n<text text-anchor=\"middle\" x=\"1731.5\" y=\"-416.3\" font-family=\"Times New Roman,serif\" font-size=\"14.00\">rdfs:domain</text>\n</g>\n<!-- 18&#45;&gt;1 -->\n<g id=\"edge23\" class=\"edge\">\n<title>18&#45;&gt;1</title>\n<path fill=\"none\" stroke=\"black\" d=\"M2602.64,-180.24C2594.59,-178 2586.03,-175.78 2578,-174 2446.89,-144.99 2290.34,-123.08 2209.43,-112.68\"/>\n<polygon fill=\"black\" stroke=\"black\" points=\"2209.83,-109.21 2199.47,-111.41 2208.95,-116.15 2209.83,-109.21\"/>\n<text text-anchor=\"middle\" x=\"2508\" y=\"-144.8\" font-family=\"Times New Roman,serif\" font-size=\"14.00\">rdf:type</text>\n</g>\n<!-- 18&#45;&gt;3 -->\n<g id=\"edge15\" class=\"edge\">\n<title>18&#45;&gt;3</title>\n<path fill=\"none\" stroke=\"black\" d=\"M2631.94,-173.84C2620.25,-143.6 2591.46,-81.42 2544,-54 2512.39,-35.74 2286.63,-25.42 2168.96,-21.23\"/>\n<polygon fill=\"black\" stroke=\"black\" points=\"2169.07,-17.73 2158.95,-20.88 2168.82,-24.73 2169.07,-17.73\"/>\n<text text-anchor=\"middle\" x=\"2629\" y=\"-101.3\" font-family=\"Times New Roman,serif\" font-size=\"14.00\">rdf:type</text>\n</g>\n<!-- 18&#45;&gt;3 -->\n<g id=\"edge47\" class=\"edge\">\n<title>18&#45;&gt;3</title>\n<path fill=\"none\" stroke=\"black\" d=\"M2647.49,-174.27C2658.56,-152.27 2673.19,-113.35 2655,-87 2631.51,-52.97 2608.37,-62.96 2568,-54 2494.03,-37.58 2281.07,-26.6 2168.96,-21.78\"/>\n<polygon fill=\"black\" stroke=\"black\" points=\"2168.9,-18.28 2158.76,-21.35 2168.6,-25.27 2168.9,-18.28\"/>\n<text text-anchor=\"middle\" x=\"2709\" y=\"-101.3\" font-family=\"Times New Roman,serif\" font-size=\"14.00\">rdfs:subClassOf</text>\n</g>\n<!-- 18&#45;&gt;18 -->\n<g id=\"edge31\" class=\"edge\">\n<title>18&#45;&gt;18</title>\n<path fill=\"none\" stroke=\"black\" d=\"M2679.64,-199.86C2692.27,-199.67 2702.15,-197.04 2702.15,-192 2702.15,-188.45 2697.27,-186.1 2689.98,-184.95\"/>\n<polygon fill=\"black\" stroke=\"black\" points=\"2689.89,-181.44 2679.64,-184.14 2689.34,-188.41 2689.89,-181.44\"/>\n<text text-anchor=\"middle\" x=\"2748.15\" y=\"-188.3\" font-family=\"Times New Roman,serif\" font-size=\"14.00\">rdfs:subClassOf</text>\n</g>\n<!-- 19 -->\n<g id=\"node20\" class=\"node\">\n<title>19</title>\n<ellipse fill=\"none\" stroke=\"black\" cx=\"106\" cy=\"-279\" rx=\"44.39\" ry=\"18\"/>\n<text text-anchor=\"middle\" x=\"106\" y=\"-275.3\" font-family=\"Times New Roman,serif\" font-size=\"14.00\">rdfs:label</text>\n</g>\n<!-- 19&#45;&gt;2 -->\n<g id=\"edge8\" class=\"edge\">\n<title>19&#45;&gt;2</title>\n<path fill=\"none\" stroke=\"black\" d=\"M147.28,-272.45C224.86,-262.2 397.75,-240.24 544,-228 693.47,-215.49 731.56,-222.86 881,-210 908.38,-207.64 938.61,-204.18 964.19,-200.99\"/>\n<polygon fill=\"black\" stroke=\"black\" points=\"964.63,-204.46 974.12,-199.74 963.76,-197.52 964.63,-204.46\"/>\n<text text-anchor=\"middle\" x=\"566\" y=\"-231.8\" font-family=\"Times New Roman,serif\" font-size=\"14.00\">rdf:type</text>\n</g>\n<!-- 19&#45;&gt;3 -->\n<g id=\"edge58\" class=\"edge\">\n<title>19&#45;&gt;3</title>\n<path fill=\"none\" stroke=\"black\" d=\"M133.03,-264.45C200.72,-230.92 383.54,-142.7 543,-87 596.84,-68.19 610.55,-62.09 667,-54 933.45,-15.83 1773.6,-17.2 2025.75,-18.52\"/>\n<polygon fill=\"black\" stroke=\"black\" points=\"2025.88,-22.02 2035.9,-18.58 2025.92,-15.02 2025.88,-22.02\"/>\n<text text-anchor=\"middle\" x=\"424\" y=\"-144.8\" font-family=\"Times New Roman,serif\" font-size=\"14.00\">rdf:type</text>\n</g>\n<!-- 19&#45;&gt;19 -->\n<g id=\"edge98\" class=\"edge\">\n<title>19&#45;&gt;19</title>\n<path fill=\"none\" stroke=\"black\" d=\"M145.78,-286.87C158.31,-286.75 168.2,-284.13 168.2,-279 168.2,-275.4 163.31,-273.03 156.05,-271.9\"/>\n<polygon fill=\"black\" stroke=\"black\" points=\"156.01,-268.39 145.78,-271.13 155.49,-275.37 156.01,-268.39\"/>\n<text text-anchor=\"middle\" x=\"223.2\" y=\"-275.3\" font-family=\"Times New Roman,serif\" font-size=\"14.00\">rdfs:subPropertyOf</text>\n</g>\n<!-- 20&#45;&gt;1 -->\n<g id=\"edge28\" class=\"edge\">\n<title>20&#45;&gt;1</title>\n<path fill=\"none\" stroke=\"black\" d=\"M2577.89,-361.67C2524.74,-357.04 2440.34,-347.2 2414,-330 2404.32,-323.68 2361.61,-253.6 2357,-243 2338.39,-200.2 2365.74,-173.25 2332,-141 2314.9,-124.65 2256.34,-115.41 2211.21,-110.58\"/>\n<polygon fill=\"black\" stroke=\"black\" points=\"2211.53,-107.09 2201.22,-109.56 2210.82,-114.06 2211.53,-107.09\"/>\n<text text-anchor=\"middle\" x=\"2379\" y=\"-231.8\" font-family=\"Times New Roman,serif\" font-size=\"14.00\">rdf:type</text>\n</g>\n<!-- 20&#45;&gt;3 -->\n<g id=\"edge75\" class=\"edge\">\n<title>20&#45;&gt;3</title>\n<path fill=\"none\" stroke=\"black\" d=\"M2620.4,-347.97C2619.64,-337.9 2620.08,-325.16 2625,-315 2630.36,-303.94 2640.86,-308.17 2646,-297 2652.69,-282.46 2654.54,-274.53 2646,-261 2617.88,-216.45 2573.89,-249.47 2539,-210 2517.59,-185.78 2533.94,-167.89 2516,-141 2483.31,-91.99 2469.96,-77.63 2416,-54 2373.13,-35.22 2248.87,-26 2168.97,-21.89\"/>\n<polygon fill=\"black\" stroke=\"black\" points=\"2169.14,-18.39 2158.98,-21.39 2168.79,-25.38 2169.14,-18.39\"/>\n<text text-anchor=\"middle\" x=\"2561\" y=\"-188.3\" font-family=\"Times New Roman,serif\" font-size=\"14.00\">rdf:type</text>\n</g>\n<!-- 20&#45;&gt;3 -->\n<g id=\"edge105\" class=\"edge\">\n<title>20&#45;&gt;3</title>\n<path fill=\"none\" stroke=\"black\" d=\"M2614.19,-348.11C2601.71,-325.58 2576.9,-285.67 2546,-261 2501.99,-225.86 2468.83,-250.79 2430,-210 2389.65,-167.61 2425.77,-126.94 2383,-87 2351.66,-57.74 2238.02,-37.53 2164.05,-27.14\"/>\n<polygon fill=\"black\" stroke=\"black\" points=\"2164.28,-23.64 2153.89,-25.74 2163.32,-30.57 2164.28,-23.64\"/>\n<text text-anchor=\"middle\" x=\"2476\" y=\"-188.3\" font-family=\"Times New Roman,serif\" font-size=\"14.00\">rdfs:subClassOf</text>\n</g>\n<!-- 20&#45;&gt;13 -->\n<g id=\"edge20\" class=\"edge\">\n<title>20&#45;&gt;13</title>\n<path fill=\"none\" stroke=\"black\" d=\"M2660.05,-355.15C2685.43,-348.31 2719.83,-338.87 2750,-330 2771.44,-323.7 2776.2,-319.94 2798,-315 2860.15,-300.93 2932.55,-291.38 2982.26,-285.86\"/>\n<polygon fill=\"black\" stroke=\"black\" points=\"2982.94,-289.31 2992.5,-284.74 2982.18,-282.35 2982.94,-289.31\"/>\n<text text-anchor=\"middle\" x=\"2844\" y=\"-318.8\" font-family=\"Times New Roman,serif\" font-size=\"14.00\">rdfs:subClassOf</text>\n</g>\n<!-- 20&#45;&gt;18 -->\n<g id=\"edge92\" class=\"edge\">\n<title>20&#45;&gt;18</title>\n<path fill=\"none\" stroke=\"black\" d=\"M2624.37,-347.84C2626.05,-337.21 2629.77,-323.93 2638,-315 2652.88,-298.86 2671.62,-315.13 2684,-297 2701.35,-271.58 2680.52,-238.57 2661.57,-216.62\"/>\n<polygon fill=\"black\" stroke=\"black\" points=\"2664.05,-214.15 2654.75,-209.08 2658.86,-218.84 2664.05,-214.15\"/>\n<text text-anchor=\"middle\" x=\"2736\" y=\"-275.3\" font-family=\"Times New Roman,serif\" font-size=\"14.00\">rdfs:subClassOf</text>\n</g>\n<!-- 20&#45;&gt;20 -->\n<g id=\"edge9\" class=\"edge\">\n<title>20&#45;&gt;20</title>\n<path fill=\"none\" stroke=\"black\" d=\"M2664.64,-373.86C2677.27,-373.67 2687.15,-371.04 2687.15,-366 2687.15,-362.45 2682.27,-360.1 2674.98,-358.95\"/>\n<polygon fill=\"black\" stroke=\"black\" points=\"2674.89,-355.44 2664.64,-358.14 2674.34,-362.41 2674.89,-355.44\"/>\n<text text-anchor=\"middle\" x=\"2733.15\" y=\"-362.3\" font-family=\"Times New Roman,serif\" font-size=\"14.00\">rdfs:subClassOf</text>\n</g>\n<!-- 21&#45;&gt;1 -->\n<g id=\"edge26\" class=\"edge\">\n<title>21&#45;&gt;1</title>\n<path fill=\"none\" stroke=\"black\" d=\"M1798.81,-360.63C1886.57,-351.48 2077.57,-328.52 2135,-297 2181.05,-271.73 2195.92,-258.94 2215,-210 2220.81,-195.09 2220.66,-188.97 2215,-174 2208.36,-156.44 2194.89,-140.48 2182.39,-128.45\"/>\n<polygon fill=\"black\" stroke=\"black\" points=\"2184.53,-125.67 2174.8,-121.48 2179.8,-130.82 2184.53,-125.67\"/>\n<text text-anchor=\"middle\" x=\"2229\" y=\"-231.8\" font-family=\"Times New Roman,serif\" font-size=\"14.00\">rdf:type</text>\n</g>\n<!-- 21&#45;&gt;3 -->\n<g id=\"edge55\" class=\"edge\">\n<title>21&#45;&gt;3</title>\n<path fill=\"none\" stroke=\"black\" d=\"M1753.19,-347.99C1751.74,-321.96 1748.06,-270.76 1740,-228 1738.46,-219.84 1736.12,-218.23 1735,-210 1730.86,-179.61 1722.87,-169.17 1735,-141 1757.26,-89.31 1776.16,-78.12 1827,-54 1861.45,-37.66 1959.49,-28.04 2027.67,-23.14\"/>\n<polygon fill=\"black\" stroke=\"black\" points=\"2028.19,-26.62 2037.93,-22.43 2027.71,-19.63 2028.19,-26.62\"/>\n<text text-anchor=\"middle\" x=\"1781\" y=\"-188.3\" font-family=\"Times New Roman,serif\" font-size=\"14.00\">rdfs:subClassOf</text>\n</g>\n<!-- 21&#45;&gt;3 -->\n<g id=\"edge73\" class=\"edge\">\n<title>21&#45;&gt;3</title>\n<path fill=\"none\" stroke=\"black\" d=\"M1745.84,-348.25C1735.05,-326.9 1714.72,-289.39 1692,-261 1684.73,-251.92 1677.6,-253.69 1673,-243 1643.18,-173.68 1685.39,-139.08 1740,-87 1760.35,-67.59 1767.41,-63.16 1794,-54 1870.25,-27.75 1962.96,-20.32 2025.8,-18.63\"/>\n<polygon fill=\"black\" stroke=\"black\" points=\"2026.1,-22.12 2036.01,-18.39 2025.94,-15.12 2026.1,-22.12\"/>\n<text text-anchor=\"middle\" x=\"1690\" y=\"-188.3\" font-family=\"Times New Roman,serif\" font-size=\"14.00\">rdf:type</text>\n</g>\n<!-- 21&#45;&gt;13 -->\n<g id=\"edge85\" class=\"edge\">\n<title>21&#45;&gt;13</title>\n<path fill=\"none\" stroke=\"black\" d=\"M1800.57,-364.03C1920.7,-361.27 2250.87,-352.13 2525,-330 2582.53,-325.36 2596.59,-320.93 2654,-315 2769.82,-303.04 2905.33,-291.34 2981.67,-284.96\"/>\n<polygon fill=\"black\" stroke=\"black\" points=\"2982.37,-288.41 2992.04,-284.09 2981.79,-281.44 2982.37,-288.41\"/>\n<text text-anchor=\"middle\" x=\"2700\" y=\"-318.8\" font-family=\"Times New Roman,serif\" font-size=\"14.00\">rdfs:subClassOf</text>\n</g>\n<!-- 21&#45;&gt;18 -->\n<g id=\"edge37\" class=\"edge\">\n<title>21&#45;&gt;18</title>\n<path fill=\"none\" stroke=\"black\" d=\"M1800.8,-365.43C1904.76,-365.18 2161.88,-357.87 2366,-297 2404.92,-285.39 2412.22,-275.91 2450,-261 2499.2,-241.58 2556.44,-221.19 2594.71,-207.86\"/>\n<polygon fill=\"black\" stroke=\"black\" points=\"2596.2,-211.05 2604.5,-204.46 2593.91,-204.43 2596.2,-211.05\"/>\n<text text-anchor=\"middle\" x=\"2496\" y=\"-275.3\" font-family=\"Times New Roman,serif\" font-size=\"14.00\">rdfs:subClassOf</text>\n</g>\n<!-- 21&#45;&gt;21 -->\n<g id=\"edge30\" class=\"edge\">\n<title>21&#45;&gt;21</title>\n<path fill=\"none\" stroke=\"black\" d=\"M1796.38,-373.86C1808.99,-373.62 1818.8,-371 1818.8,-366 1818.8,-362.48 1813.95,-360.14 1806.68,-358.98\"/>\n<polygon fill=\"black\" stroke=\"black\" points=\"1806.63,-355.47 1796.38,-358.14 1806.06,-362.44 1806.63,-355.47\"/>\n<text text-anchor=\"middle\" x=\"1864.8\" y=\"-362.3\" font-family=\"Times New Roman,serif\" font-size=\"14.00\">rdfs:subClassOf</text>\n</g>\n<!-- 22 -->\n<g id=\"node23\" class=\"node\">\n<title>22</title>\n<ellipse fill=\"none\" stroke=\"black\" cx=\"3372\" cy=\"-366\" rx=\"42.49\" ry=\"18\"/>\n<text text-anchor=\"middle\" x=\"3372\" y=\"-362.3\" font-family=\"Times New Roman,serif\" font-size=\"14.00\">ex:Feline</text>\n</g>\n<!-- 22&#45;&gt;1 -->\n<g id=\"edge56\" class=\"edge\">\n<title>22&#45;&gt;1</title>\n<path fill=\"none\" stroke=\"black\" d=\"M3380.81,-348.06C3391.19,-325.47 3404.57,-285.5 3384,-261 3331.35,-198.31 2738.41,-149.64 2657,-141 2496.02,-123.91 2305.06,-113.22 2211.88,-108.62\"/>\n<polygon fill=\"black\" stroke=\"black\" points=\"2211.97,-105.12 2201.81,-108.13 2211.63,-112.12 2211.97,-105.12\"/>\n<text text-anchor=\"middle\" x=\"3375\" y=\"-231.8\" font-family=\"Times New Roman,serif\" font-size=\"14.00\">rdf:type</text>\n</g>\n<!-- 22&#45;&gt;3 -->\n<g id=\"edge88\" class=\"edge\">\n<title>22&#45;&gt;3</title>\n<path fill=\"none\" stroke=\"black\" d=\"M3409.7,-357.48C3424.91,-352.4 3440.97,-343.95 3450,-330 3499.15,-254.08 3448.19,-100.64 3387,-54 3338.41,-16.96 2435.11,-17.64 2170.35,-18.64\"/>\n<polygon fill=\"black\" stroke=\"black\" points=\"2170.07,-15.15 2160.08,-18.69 2170.1,-22.15 2170.07,-15.15\"/>\n<text text-anchor=\"middle\" x=\"3512\" y=\"-188.3\" font-family=\"Times New Roman,serif\" font-size=\"14.00\">rdfs:subClassOf</text>\n</g>\n<!-- 22&#45;&gt;3 -->\n<g id=\"edge101\" class=\"edge\">\n<title>22&#45;&gt;3</title>\n<path fill=\"none\" stroke=\"black\" d=\"M3390.52,-349.71C3395.92,-344.13 3401.14,-337.37 3404,-330 3420.41,-287.72 3422.94,-267.69 3401,-228 3334.97,-108.57 3279.05,-92.1 3148,-54 3054.85,-26.92 2391.35,-20.68 2169.81,-19.34\"/>\n<polygon fill=\"black\" stroke=\"black\" points=\"2169.62,-15.84 2159.6,-19.28 2169.58,-22.84 2169.62,-15.84\"/>\n<text text-anchor=\"middle\" x=\"3412\" y=\"-188.3\" font-family=\"Times New Roman,serif\" font-size=\"14.00\">rdf:type</text>\n</g>\n<!-- 22&#45;&gt;13 -->\n<g id=\"edge3\" class=\"edge\">\n<title>22&#45;&gt;13</title>\n<path fill=\"none\" stroke=\"black\" d=\"M3339.52,-354.3C3318.54,-347.38 3290.65,-338.18 3266,-330 3245.99,-323.36 3241.39,-320.37 3221,-315 3180.45,-304.32 3133.95,-295.33 3098.51,-289.13\"/>\n<polygon fill=\"black\" stroke=\"black\" points=\"3098.81,-285.63 3088.36,-287.38 3097.62,-292.53 3098.81,-285.63\"/>\n<text text-anchor=\"middle\" x=\"3312\" y=\"-318.8\" font-family=\"Times New Roman,serif\" font-size=\"14.00\">rdfs:subClassOf</text>\n</g>\n<!-- 22&#45;&gt;18 -->\n<g id=\"edge69\" class=\"edge\">\n<title>22&#45;&gt;18</title>\n<path fill=\"none\" stroke=\"black\" d=\"M3371.33,-347.56C3370,-336.81 3366.57,-323.51 3358,-315 3336.43,-293.57 3319.17,-310.64 3292,-297 3268.8,-285.36 3269.66,-271.69 3246,-261 3067.39,-180.34 3003.29,-226.49 2808,-210 2769.16,-206.72 2725.4,-202.33 2692.01,-198.83\"/>\n<polygon fill=\"black\" stroke=\"black\" points=\"2692.31,-195.34 2681.99,-197.78 2691.57,-202.3 2692.31,-195.34\"/>\n<text text-anchor=\"middle\" x=\"3338\" y=\"-275.3\" font-family=\"Times New Roman,serif\" font-size=\"14.00\">rdfs:subClassOf</text>\n</g>\n<!-- 22&#45;&gt;22 -->\n<g id=\"edge24\" class=\"edge\">\n<title>22&#45;&gt;22</title>\n<path fill=\"none\" stroke=\"black\" d=\"M3410.24,-373.87C3422.52,-373.79 3432.25,-371.17 3432.25,-366 3432.25,-362.37 3427.44,-359.99 3420.31,-358.87\"/>\n<polygon fill=\"black\" stroke=\"black\" points=\"3420.47,-355.37 3410.24,-358.13 3419.96,-362.35 3420.47,-355.37\"/>\n<text text-anchor=\"middle\" x=\"3478.25\" y=\"-362.3\" font-family=\"Times New Roman,serif\" font-size=\"14.00\">rdfs:subClassOf</text>\n</g>\n</g>\n</svg>\n",
      "text/plain": [
       "<graphviz.graphs.Digraph at 0x2605ce088e0>"
      ]
     },
     "metadata": {},
     "output_type": "display_data"
    }
   ],
   "source": [
    "# This cell will compute the closure of the rdfs-entailment of your graph and draw it.\n",
    "%rdf graph entail-rdfs -l pets\n",
    "%rdf graph draw -l pets"
   ]
  },
  {
   "cell_type": "code",
   "execution_count": 111,
   "metadata": {
    "deletable": false,
    "editable": false,
    "nbgrader": {
     "cell_type": "code",
     "checksum": "a94b904955eb7de9a24d261b00e27ef8",
     "grade": true,
     "grade_id": "cell-545a303d2dc929f7",
     "locked": true,
     "points": 1,
     "schema_version": 3,
     "solution": false,
     "task": false
    }
   },
   "outputs": [
    {
     "name": "stdout",
     "output_type": "stream",
     "text": [
      "Graphman: Graph labelled 'pets' has been entailed using the RDFS regime.\n"
     ]
    }
   ],
   "source": [
    "# This test will check whether the entailment closure of your graph contains\n",
    "# all necessary class and property definitions. [1 point]\n",
    "%rdf graph entail-rdfs -l pets\n",
    "store = %rdf -r\n",
    "graph = store['rdfgraphs']['pets']\n",
    "\n",
    "contain_check(graph, get_uri(ex, \"Animal\"), RDF.type, RDFS.Class)\n",
    "contain_check(graph, get_uri(ex, \"Mammal\"), RDF.type, RDFS.Class)\n",
    "contain_check(graph, get_uri(ex, \"hasPet\"), RDF.type, RDF.Property)"
   ]
  },
  {
   "cell_type": "code",
   "execution_count": 112,
   "metadata": {
    "deletable": false,
    "editable": false,
    "nbgrader": {
     "cell_type": "code",
     "checksum": "869f7d9355cc428b6881c2b032364b6c",
     "grade": true,
     "grade_id": "cell-870e8045b6da1343",
     "locked": true,
     "points": 1,
     "schema_version": 3,
     "solution": false,
     "task": false
    }
   },
   "outputs": [
    {
     "name": "stdout",
     "output_type": "stream",
     "text": [
      "Graphman: Graph labelled 'pets' has been entailed using the RDFS regime.\n"
     ]
    }
   ],
   "source": [
    "# This test will check whether the entailment closure of your graph contains\n",
    "# all necessary subclass and subproperty definitions. [1 point]\n",
    "%rdf graph entail-rdfs -l pets\n",
    "store = %rdf -r\n",
    "graph = store['rdfgraphs']['pets']\n",
    "\n",
    "contain_check(graph, get_uri(ex, \"Mammal\"), RDFS.subClassOf, get_uri(ex, \"Animal\"))\n",
    "contain_check(graph, get_uri(ex, \"Human\"), RDFS.subClassOf, get_uri(ex, \"Animal\"))"
   ]
  },
  {
   "cell_type": "code",
   "execution_count": 113,
   "metadata": {
    "deletable": false,
    "editable": false,
    "nbgrader": {
     "cell_type": "code",
     "checksum": "f178619f8c8eb742c6f3ded04b251edd",
     "grade": true,
     "grade_id": "cell-bb9fd35fae47263f",
     "locked": true,
     "points": 1,
     "schema_version": 3,
     "solution": false,
     "task": false
    }
   },
   "outputs": [
    {
     "name": "stdout",
     "output_type": "stream",
     "text": [
      "Graphman: Graph labelled 'pets' has been entailed using the RDFS regime.\n"
     ]
    }
   ],
   "source": [
    "# This test will check whether the entailment closure of your graph contains\n",
    "# all necessary range and domain definitions. [1 point]\n",
    "%rdf graph entail-rdfs -l pets\n",
    "store = %rdf -r\n",
    "graph = store['rdfgraphs']['pets']\n",
    "\n",
    "contain_check(graph, get_uri(ex, \"hasPet\"), RDFS.domain, get_uri(ex, \"Human\"))"
   ]
  },
  {
   "cell_type": "code",
   "execution_count": 114,
   "metadata": {
    "deletable": false,
    "editable": false,
    "nbgrader": {
     "cell_type": "code",
     "checksum": "6d8bad43c1f28c95b6f387a0aa5666bb",
     "grade": true,
     "grade_id": "cell-98cbe50027bad490",
     "locked": true,
     "points": 1,
     "schema_version": 3,
     "solution": false,
     "task": false
    }
   },
   "outputs": [
    {
     "name": "stdout",
     "output_type": "stream",
     "text": [
      "Graphman: Graph labelled 'pets' has been entailed using the RDFS regime.\n"
     ]
    }
   ],
   "source": [
    "# This test will check whether the entailment closure of your graph contains\n",
    "# all specified facts. [1 point]\n",
    "%rdf graph entail-rdfs -l pets\n",
    "store = %rdf -r\n",
    "graph = store['rdfgraphs']['pets']\n",
    "\n",
    "contain_check(graph, get_uri(ex, \"Spike\"), RDF.type, get_uri(ex, \"Dog\"))\n",
    "contain_check(graph, get_uri(ex, \"Spike\"), RDFS.comment, Literal(\"A gray bulldog. He likes to chase cats.\"))\n",
    "contain_check(graph, get_uri(ex, \"Max\"), RDF.type, get_uri(ex, \"Human\"))\n",
    "contain_check(graph, get_uri(ex, \"Max\"), RDFS.label, Literal(\"Max\"))\n",
    "contain_check(graph, get_uri(ex, \"Max\"), get_uri(ex, \"hasDog\"), get_uri(ex, \"Spike\"))"
   ]
  },
  {
   "cell_type": "markdown",
   "metadata": {
    "deletable": false,
    "editable": false,
    "nbgrader": {
     "cell_type": "markdown",
     "checksum": "f042cdc8a3a53b883d268f41030e49e6",
     "grade": false,
     "grade_id": "cell-0bfc8cc310a8f149",
     "locked": true,
     "schema_version": 3,
     "solution": false,
     "task": false
    }
   },
   "source": [
    "#### 2b) Library [4 points]\n",
    "\n",
    "Model the following information using the RDFS vocabulary: All books and movies are mediums. The creator of a medium is a person and only mediums have a creator. Only books have an author and the author of a book is also the creator. Only mediums have titles and a publish date.\n",
    "\n",
    "Also add that Douglas Adams is the author of a book with the title \"The Hitchhiker's Guide to the Galaxy\" and published \"1979-10-12\".\n",
    "\n",
    "Use the following URIs:  \n",
    "Medium: **http://example.org/#Medium**  \n",
    "Books: **http://example.org/#Book**  \n",
    "Movies: **http://example.org/#Movie**  \n",
    "Persons: **http://example.org/#Person**  \n",
    "creator: **http://example.org/#createdBy**  \n",
    "author: **http://example.org/#authoredBy**  \n",
    "title: **http://example.org/#title**  \n",
    "publish date: **http://example.org/#published**  \n",
    "Douglas Adams: **http://example.org/#DouglasAdams**  \n",
    "The Hitchhiker's Guide to the Galaxy: **http://example.org/#HitchhikersGuide**\n",
    "\n",
    "You may use all terms from the RDFS vocabulary. Omit datatypes of literals."
   ]
  },
  {
   "cell_type": "code",
   "execution_count": 115,
   "metadata": {
    "deletable": false,
    "nbgrader": {
     "cell_type": "code",
     "checksum": "d3a6176b68fed76a0b00e7ef281ecb7a",
     "grade": false,
     "grade_id": "cell-f3aaa3f152446c75",
     "locked": false,
     "schema_version": 3,
     "solution": true,
     "task": false
    }
   },
   "outputs": [
    {
     "data": {
      "image/svg+xml": "<?xml version=\"1.0\" encoding=\"UTF-8\" standalone=\"no\"?>\n<!DOCTYPE svg PUBLIC \"-//W3C//DTD SVG 1.1//EN\"\n \"http://www.w3.org/Graphics/SVG/1.1/DTD/svg11.dtd\">\n<!-- Generated by graphviz version 5.0.1 (20220820.1526)\n -->\n<!-- Pages: 1 -->\n<svg width=\"1899pt\" height=\"392pt\"\n viewBox=\"0.00 0.00 1899.19 392.00\" xmlns=\"http://www.w3.org/2000/svg\" xmlns:xlink=\"http://www.w3.org/1999/xlink\">\n<g id=\"graph0\" class=\"graph\" transform=\"scale(1 1) rotate(0) translate(4 388)\">\n<polygon fill=\"white\" stroke=\"none\" points=\"-4,4 -4,-388 1895.19,-388 1895.19,4 -4,4\"/>\n<!-- 0 -->\n<g id=\"node1\" class=\"node\">\n<title>0</title>\n<ellipse fill=\"none\" stroke=\"black\" cx=\"347\" cy=\"-366\" rx=\"83.69\" ry=\"18\"/>\n<text text-anchor=\"middle\" x=\"347\" y=\"-362.3\" font-family=\"Times New Roman,serif\" font-size=\"14.00\">ex:HitchhikersGuide</text>\n</g>\n<!-- 2 -->\n<g id=\"node3\" class=\"node\">\n<title>2</title>\n<polygon fill=\"none\" stroke=\"black\" points=\"236,-297 0,-297 0,-261 236,-261 236,-297\"/>\n<text text-anchor=\"middle\" x=\"118\" y=\"-275.3\" font-family=\"Times New Roman,serif\" font-size=\"14.00\">&quot;The Hitchhiker&#39;s Guide to the Galaxy&quot;</text>\n</g>\n<!-- 0&#45;&gt;2 -->\n<g id=\"edge17\" class=\"edge\">\n<title>0&#45;&gt;2</title>\n<path fill=\"none\" stroke=\"black\" d=\"M306.85,-350.1C269.92,-336.39 214.8,-315.93 173.63,-300.65\"/>\n<polygon fill=\"black\" stroke=\"black\" points=\"174.61,-297.28 164.02,-297.08 172.18,-303.84 174.61,-297.28\"/>\n<text text-anchor=\"middle\" x=\"273\" y=\"-318.8\" font-family=\"Times New Roman,serif\" font-size=\"14.00\">rdfs:label</text>\n</g>\n<!-- 13 -->\n<g id=\"node14\" class=\"node\">\n<title>13</title>\n<polygon fill=\"none\" stroke=\"black\" points=\"346,-297 254,-297 254,-261 346,-261 346,-297\"/>\n<text text-anchor=\"middle\" x=\"300\" y=\"-275.3\" font-family=\"Times New Roman,serif\" font-size=\"14.00\">&quot;1979&#45;10&#45;12&quot;</text>\n</g>\n<!-- 0&#45;&gt;13 -->\n<g id=\"edge4\" class=\"edge\">\n<title>0&#45;&gt;13</title>\n<path fill=\"none\" stroke=\"black\" d=\"M335.92,-348.11C332.32,-342.43 328.38,-336.01 325,-330 320.78,-322.51 316.49,-314.21 312.68,-306.57\"/>\n<polygon fill=\"black\" stroke=\"black\" points=\"315.7,-304.78 308.15,-297.34 309.42,-307.86 315.7,-304.78\"/>\n<text text-anchor=\"middle\" x=\"360\" y=\"-318.8\" font-family=\"Times New Roman,serif\" font-size=\"14.00\">ex:published</text>\n</g>\n<!-- 15 -->\n<g id=\"node16\" class=\"node\">\n<title>15</title>\n<ellipse fill=\"none\" stroke=\"black\" cx=\"441\" cy=\"-279\" rx=\"76.89\" ry=\"18\"/>\n<text text-anchor=\"middle\" x=\"441\" y=\"-275.3\" font-family=\"Times New Roman,serif\" font-size=\"14.00\">ex:DouglasAdams</text>\n</g>\n<!-- 0&#45;&gt;15 -->\n<g id=\"edge15\" class=\"edge\">\n<title>0&#45;&gt;15</title>\n<path fill=\"none\" stroke=\"black\" d=\"M371.65,-348.45C379.37,-342.89 387.77,-336.45 395,-330 403.67,-322.26 412.48,-313.08 420.04,-304.7\"/>\n<polygon fill=\"black\" stroke=\"black\" points=\"422.85,-306.8 426.85,-296.99 417.61,-302.17 422.85,-306.8\"/>\n<text text-anchor=\"middle\" x=\"450.5\" y=\"-318.8\" font-family=\"Times New Roman,serif\" font-size=\"14.00\">ex:authoredBy</text>\n</g>\n<!-- 16 -->\n<g id=\"node17\" class=\"node\">\n<title>16</title>\n<ellipse fill=\"none\" stroke=\"black\" cx=\"763\" cy=\"-192\" rx=\"40.89\" ry=\"18\"/>\n<text text-anchor=\"middle\" x=\"763\" y=\"-188.3\" font-family=\"Times New Roman,serif\" font-size=\"14.00\">ex:Book</text>\n</g>\n<!-- 0&#45;&gt;16 -->\n<g id=\"edge11\" class=\"edge\">\n<title>0&#45;&gt;16</title>\n<path fill=\"none\" stroke=\"black\" d=\"M429.46,-362.6C489.14,-356.93 568.7,-340.83 624,-297 651.11,-275.52 633.74,-250.51 660,-228 660,-228 693.29,-216.69 722.02,-206.92\"/>\n<polygon fill=\"black\" stroke=\"black\" points=\"723.19,-210.22 731.54,-203.69 720.94,-203.59 723.19,-210.22\"/>\n<text text-anchor=\"middle\" x=\"664\" y=\"-275.3\" font-family=\"Times New Roman,serif\" font-size=\"14.00\">rdf:type</text>\n</g>\n<!-- 1 -->\n<g id=\"node2\" class=\"node\">\n<title>1</title>\n<ellipse fill=\"none\" stroke=\"black\" cx=\"546\" cy=\"-192\" rx=\"46.29\" ry=\"18\"/>\n<text text-anchor=\"middle\" x=\"546\" y=\"-188.3\" font-family=\"Times New Roman,serif\" font-size=\"14.00\">ex:Person</text>\n</g>\n<!-- 7 -->\n<g id=\"node8\" class=\"node\">\n<title>7</title>\n<ellipse fill=\"none\" stroke=\"black\" cx=\"1538\" cy=\"-18\" rx=\"47.39\" ry=\"18\"/>\n<text text-anchor=\"middle\" x=\"1538\" y=\"-14.3\" font-family=\"Times New Roman,serif\" font-size=\"14.00\">rdfs:Class</text>\n</g>\n<!-- 1&#45;&gt;7 -->\n<g id=\"edge3\" class=\"edge\">\n<title>1&#45;&gt;7</title>\n<path fill=\"none\" stroke=\"black\" d=\"M558.46,-174.45C576.9,-151.17 613.75,-109.15 655,-87 713.23,-55.73 734.51,-62.93 800,-54 1051.56,-19.68 1355.3,-17.51 1480.15,-18.29\"/>\n<polygon fill=\"black\" stroke=\"black\" points=\"1480.22,-21.79 1490.25,-18.36 1480.27,-14.79 1480.22,-21.79\"/>\n<text text-anchor=\"middle\" x=\"677\" y=\"-101.3\" font-family=\"Times New Roman,serif\" font-size=\"14.00\">rdf:type</text>\n</g>\n<!-- 3 -->\n<g id=\"node4\" class=\"node\">\n<title>3</title>\n<ellipse fill=\"none\" stroke=\"black\" cx=\"1380\" cy=\"-105\" rx=\"50.09\" ry=\"18\"/>\n<text text-anchor=\"middle\" x=\"1380\" y=\"-101.3\" font-family=\"Times New Roman,serif\" font-size=\"14.00\">rdfs:Literal</text>\n</g>\n<!-- 4 -->\n<g id=\"node5\" class=\"node\">\n<title>4</title>\n<ellipse fill=\"none\" stroke=\"black\" cx=\"657\" cy=\"-192\" rx=\"46.59\" ry=\"18\"/>\n<text text-anchor=\"middle\" x=\"657\" y=\"-188.3\" font-family=\"Times New Roman,serif\" font-size=\"14.00\">rdfs:range</text>\n</g>\n<!-- 4&#45;&gt;7 -->\n<g id=\"edge7\" class=\"edge\">\n<title>4&#45;&gt;7</title>\n<path fill=\"none\" stroke=\"black\" d=\"M665.83,-173.89C671.46,-163.78 679.32,-151.05 688,-141 712.33,-112.84 718.59,-103.39 752,-87 880.3,-24.07 1321.67,-18.55 1480.49,-18.66\"/>\n<polygon fill=\"black\" stroke=\"black\" points=\"1480.53,-22.16 1490.53,-18.68 1480.54,-15.16 1480.53,-22.16\"/>\n<text text-anchor=\"middle\" x=\"780\" y=\"-101.3\" font-family=\"Times New Roman,serif\" font-size=\"14.00\">rdfs:range</text>\n</g>\n<!-- 8 -->\n<g id=\"node9\" class=\"node\">\n<title>8</title>\n<ellipse fill=\"none\" stroke=\"black\" cx=\"966\" cy=\"-105\" rx=\"55.49\" ry=\"18\"/>\n<text text-anchor=\"middle\" x=\"966\" y=\"-101.3\" font-family=\"Times New Roman,serif\" font-size=\"14.00\">rdf:Property</text>\n</g>\n<!-- 4&#45;&gt;8 -->\n<g id=\"edge24\" class=\"edge\">\n<title>4&#45;&gt;8</title>\n<path fill=\"none\" stroke=\"black\" d=\"M671.33,-174.72C682.35,-163.32 698.6,-148.79 716,-141 732.86,-133.45 835.94,-120.66 904.37,-112.81\"/>\n<polygon fill=\"black\" stroke=\"black\" points=\"905.08,-116.26 914.62,-111.64 904.28,-109.3 905.08,-116.26\"/>\n<text text-anchor=\"middle\" x=\"749.5\" y=\"-144.8\" font-family=\"Times New Roman,serif\" font-size=\"14.00\">rdfs:domain</text>\n</g>\n<!-- 5 -->\n<g id=\"node6\" class=\"node\">\n<title>5</title>\n<ellipse fill=\"none\" stroke=\"black\" cx=\"771\" cy=\"-366\" rx=\"57.69\" ry=\"18\"/>\n<text text-anchor=\"middle\" x=\"771\" y=\"-362.3\" font-family=\"Times New Roman,serif\" font-size=\"14.00\">ex:createdBy</text>\n</g>\n<!-- 5&#45;&gt;1 -->\n<g id=\"edge2\" class=\"edge\">\n<title>5&#45;&gt;1</title>\n<path fill=\"none\" stroke=\"black\" d=\"M714.68,-361.84C668.07,-356.05 603.9,-340.14 568,-297 550.17,-275.57 545.72,-243.21 545.07,-220.29\"/>\n<polygon fill=\"black\" stroke=\"black\" points=\"548.57,-220.17 545.01,-210.19 541.57,-220.21 548.57,-220.17\"/>\n<text text-anchor=\"middle\" x=\"596\" y=\"-275.3\" font-family=\"Times New Roman,serif\" font-size=\"14.00\">rdfs:range</text>\n</g>\n<!-- 6 -->\n<g id=\"node7\" class=\"node\">\n<title>6</title>\n<ellipse fill=\"none\" stroke=\"black\" cx=\"771\" cy=\"-279\" rx=\"63.09\" ry=\"18\"/>\n<text text-anchor=\"middle\" x=\"771\" y=\"-275.3\" font-family=\"Times New Roman,serif\" font-size=\"14.00\">ex:authoredBy</text>\n</g>\n<!-- 5&#45;&gt;6 -->\n<g id=\"edge9\" class=\"edge\">\n<title>5&#45;&gt;6</title>\n<path fill=\"none\" stroke=\"black\" d=\"M771,-347.8C771,-336.16 771,-320.55 771,-307.24\"/>\n<polygon fill=\"black\" stroke=\"black\" points=\"774.5,-307.18 771,-297.18 767.5,-307.18 774.5,-307.18\"/>\n<text text-anchor=\"middle\" x=\"826\" y=\"-318.8\" font-family=\"Times New Roman,serif\" font-size=\"14.00\">rdfs:subPropertyOf</text>\n</g>\n<!-- 5&#45;&gt;8 -->\n<g id=\"edge6\" class=\"edge\">\n<title>5&#45;&gt;8</title>\n<path fill=\"none\" stroke=\"black\" d=\"M825.79,-359.96C846.29,-355.27 867.98,-346.46 882,-330 911.72,-295.12 882.14,-271.34 897,-228 909.25,-192.28 932,-155.04 948.02,-131.24\"/>\n<polygon fill=\"black\" stroke=\"black\" points=\"951.03,-133.04 953.8,-122.81 945.26,-129.09 951.03,-133.04\"/>\n<text text-anchor=\"middle\" x=\"919\" y=\"-231.8\" font-family=\"Times New Roman,serif\" font-size=\"14.00\">rdf:type</text>\n</g>\n<!-- 18 -->\n<g id=\"node19\" class=\"node\">\n<title>18</title>\n<ellipse fill=\"none\" stroke=\"black\" cx=\"1187\" cy=\"-105\" rx=\"50.89\" ry=\"18\"/>\n<text text-anchor=\"middle\" x=\"1187\" y=\"-101.3\" font-family=\"Times New Roman,serif\" font-size=\"14.00\">ex:Medium</text>\n</g>\n<!-- 5&#45;&gt;18 -->\n<g id=\"edge32\" class=\"edge\">\n<title>5&#45;&gt;18</title>\n<path fill=\"none\" stroke=\"black\" d=\"M826.36,-360.5C851.2,-356.02 879.46,-347.22 900,-330 932.76,-302.54 924.41,-282.4 941,-243 959.77,-198.41 941.7,-171.81 979,-141 990.52,-131.48 1071.88,-119.88 1129.36,-112.71\"/>\n<polygon fill=\"black\" stroke=\"black\" points=\"1129.94,-116.17 1139.43,-111.47 1129.08,-109.22 1129.94,-116.17\"/>\n<text text-anchor=\"middle\" x=\"979.5\" y=\"-231.8\" font-family=\"Times New Roman,serif\" font-size=\"14.00\">rdfs:domain</text>\n</g>\n<!-- 6&#45;&gt;1 -->\n<g id=\"edge22\" class=\"edge\">\n<title>6&#45;&gt;1</title>\n<path fill=\"none\" stroke=\"black\" d=\"M734.6,-264.25C694.33,-249.04 629.57,-224.57 587.4,-208.64\"/>\n<polygon fill=\"black\" stroke=\"black\" points=\"588.57,-205.34 577.98,-205.08 586.09,-211.89 588.57,-205.34\"/>\n<text text-anchor=\"middle\" x=\"699\" y=\"-231.8\" font-family=\"Times New Roman,serif\" font-size=\"14.00\">rdfs:range</text>\n</g>\n<!-- 6&#45;&gt;5 -->\n<g id=\"edge14\" class=\"edge\">\n<title>6&#45;&gt;5</title>\n<path fill=\"none\" stroke=\"black\" d=\"M724.96,-291.37C695.24,-299.18 661.32,-309.15 657,-315 639.76,-338.33 671.95,-350.94 706.47,-357.66\"/>\n<polygon fill=\"black\" stroke=\"black\" points=\"706.26,-361.18 716.71,-359.48 707.48,-354.29 706.26,-361.18\"/>\n<text text-anchor=\"middle\" x=\"712\" y=\"-318.8\" font-family=\"Times New Roman,serif\" font-size=\"14.00\">rdfs:subPropertyOf</text>\n</g>\n<!-- 6&#45;&gt;8 -->\n<g id=\"edge25\" class=\"edge\">\n<title>6&#45;&gt;8</title>\n<path fill=\"none\" stroke=\"black\" d=\"M805.07,-263.66C813.39,-258.44 821.26,-251.63 826,-243 836.95,-223.05 802.87,-158.84 817,-141 828.05,-127.06 868.31,-118.12 904.2,-112.77\"/>\n<polygon fill=\"black\" stroke=\"black\" points=\"904.76,-116.23 914.17,-111.36 903.78,-109.3 904.76,-116.23\"/>\n<text text-anchor=\"middle\" x=\"846\" y=\"-188.3\" font-family=\"Times New Roman,serif\" font-size=\"14.00\">rdf:type</text>\n</g>\n<!-- 6&#45;&gt;16 -->\n<g id=\"edge31\" class=\"edge\">\n<title>6&#45;&gt;16</title>\n<path fill=\"none\" stroke=\"black\" d=\"M763.86,-260.85C761.87,-255.26 759.99,-248.96 759,-243 757.77,-235.64 757.82,-227.61 758.41,-220.18\"/>\n<polygon fill=\"black\" stroke=\"black\" points=\"761.9,-220.55 759.56,-210.21 754.94,-219.75 761.9,-220.55\"/>\n<text text-anchor=\"middle\" x=\"792.5\" y=\"-231.8\" font-family=\"Times New Roman,serif\" font-size=\"14.00\">rdfs:domain</text>\n</g>\n<!-- 9 -->\n<g id=\"node10\" class=\"node\">\n<title>9</title>\n<ellipse fill=\"none\" stroke=\"black\" cx=\"1821\" cy=\"-105\" rx=\"70.39\" ry=\"18\"/>\n<text text-anchor=\"middle\" x=\"1821\" y=\"-101.3\" font-family=\"Times New Roman,serif\" font-size=\"14.00\">rdfs:subClassOf</text>\n</g>\n<!-- 9&#45;&gt;7 -->\n<g id=\"edge13\" class=\"edge\">\n<title>9&#45;&gt;7</title>\n<path fill=\"none\" stroke=\"black\" d=\"M1785.85,-89.23C1771.06,-83 1753.69,-75.67 1738,-69 1722.43,-62.38 1719.13,-59.11 1703,-54 1666.35,-42.38 1623.89,-33.48 1591.23,-27.55\"/>\n<polygon fill=\"black\" stroke=\"black\" points=\"1591.44,-24.04 1580.98,-25.74 1590.22,-30.93 1591.44,-24.04\"/>\n<text text-anchor=\"middle\" x=\"1766\" y=\"-57.8\" font-family=\"Times New Roman,serif\" font-size=\"14.00\">rdfs:range</text>\n</g>\n<!-- 9&#45;&gt;7 -->\n<g id=\"edge30\" class=\"edge\">\n<title>9&#45;&gt;7</title>\n<path fill=\"none\" stroke=\"black\" d=\"M1816.21,-86.86C1812.16,-75.68 1805.19,-61.75 1794,-54 1762.76,-32.36 1660.73,-24.03 1595.3,-20.88\"/>\n<polygon fill=\"black\" stroke=\"black\" points=\"1595.28,-17.37 1585.13,-20.41 1594.96,-24.37 1595.28,-17.37\"/>\n<text text-anchor=\"middle\" x=\"1840.5\" y=\"-57.8\" font-family=\"Times New Roman,serif\" font-size=\"14.00\">rdfs:domain</text>\n</g>\n<!-- 10 -->\n<g id=\"node11\" class=\"node\">\n<title>10</title>\n<ellipse fill=\"none\" stroke=\"black\" cx=\"1388\" cy=\"-192\" rx=\"33.6\" ry=\"18\"/>\n<text text-anchor=\"middle\" x=\"1388\" y=\"-188.3\" font-family=\"Times New Roman,serif\" font-size=\"14.00\">ex:title</text>\n</g>\n<!-- 10&#45;&gt;3 -->\n<g id=\"edge10\" class=\"edge\">\n<title>10&#45;&gt;3</title>\n<path fill=\"none\" stroke=\"black\" d=\"M1418.72,-184.42C1434.1,-181.18 1453.01,-177.27 1470,-174 1492.39,-169.69 1556.36,-173.48 1571,-156 1575.28,-150.89 1575.27,-146.12 1571,-141 1554.44,-121.13 1489.12,-112.51 1439.44,-108.79\"/>\n<polygon fill=\"black\" stroke=\"black\" points=\"1439.64,-105.29 1429.42,-108.08 1439.15,-112.27 1439.64,-105.29\"/>\n<text text-anchor=\"middle\" x=\"1602\" y=\"-144.8\" font-family=\"Times New Roman,serif\" font-size=\"14.00\">rdfs:range</text>\n</g>\n<!-- 10&#45;&gt;8 -->\n<g id=\"edge5\" class=\"edge\">\n<title>10&#45;&gt;8</title>\n<path fill=\"none\" stroke=\"black\" d=\"M1354.81,-188.58C1285.75,-183.32 1128.74,-170.19 1077,-156 1069.53,-153.95 1034.2,-137.85 1005.38,-124.46\"/>\n<polygon fill=\"black\" stroke=\"black\" points=\"1006.83,-121.28 996.29,-120.23 1003.88,-127.62 1006.83,-121.28\"/>\n<text text-anchor=\"middle\" x=\"1099\" y=\"-144.8\" font-family=\"Times New Roman,serif\" font-size=\"14.00\">rdf:type</text>\n</g>\n<!-- 10&#45;&gt;18 -->\n<g id=\"edge28\" class=\"edge\">\n<title>10&#45;&gt;18</title>\n<path fill=\"none\" stroke=\"black\" d=\"M1384.67,-173.65C1381.65,-162.66 1376.07,-149.06 1366,-141 1347.67,-126.33 1290.51,-116.92 1245.67,-111.59\"/>\n<polygon fill=\"black\" stroke=\"black\" points=\"1246.06,-108.11 1235.72,-110.45 1245.26,-115.06 1246.06,-108.11\"/>\n<text text-anchor=\"middle\" x=\"1410.5\" y=\"-144.8\" font-family=\"Times New Roman,serif\" font-size=\"14.00\">rdfs:domain</text>\n</g>\n<!-- 11 -->\n<g id=\"node12\" class=\"node\">\n<title>11</title>\n<ellipse fill=\"none\" stroke=\"black\" cx=\"1533\" cy=\"-192\" rx=\"53.89\" ry=\"18\"/>\n<text text-anchor=\"middle\" x=\"1533\" y=\"-188.3\" font-family=\"Times New Roman,serif\" font-size=\"14.00\">rdfs:domain</text>\n</g>\n<!-- 11&#45;&gt;7 -->\n<g id=\"edge26\" class=\"edge\">\n<title>11&#45;&gt;7</title>\n<path fill=\"none\" stroke=\"black\" d=\"M1583.85,-185.74C1602.77,-181.03 1622.43,-172.25 1634,-156 1637.87,-150.57 1636.92,-146.99 1634,-141 1628.31,-129.33 1619.94,-132.41 1611,-123 1588.01,-98.78 1566.68,-66.84 1553.09,-44.78\"/>\n<polygon fill=\"black\" stroke=\"black\" points=\"1555.94,-42.72 1547.76,-35.98 1549.95,-46.35 1555.94,-42.72\"/>\n<text text-anchor=\"middle\" x=\"1639\" y=\"-101.3\" font-family=\"Times New Roman,serif\" font-size=\"14.00\">rdfs:range</text>\n</g>\n<!-- 11&#45;&gt;8 -->\n<g id=\"edge20\" class=\"edge\">\n<title>11&#45;&gt;8</title>\n<path fill=\"none\" stroke=\"black\" d=\"M1486.34,-182.88C1468.98,-179.96 1449.11,-176.71 1431,-174 1370.7,-164.99 1351.16,-179.74 1295,-156 1285.09,-151.81 1285.95,-145.09 1276,-141 1270.31,-138.66 1116.45,-122 1027.68,-112.53\"/>\n<polygon fill=\"black\" stroke=\"black\" points=\"1028.03,-109.05 1017.72,-111.47 1027.29,-116.01 1028.03,-109.05\"/>\n<text text-anchor=\"middle\" x=\"1328.5\" y=\"-144.8\" font-family=\"Times New Roman,serif\" font-size=\"14.00\">rdfs:domain</text>\n</g>\n<!-- 12 -->\n<g id=\"node13\" class=\"node\">\n<title>12</title>\n<ellipse fill=\"none\" stroke=\"black\" cx=\"1669\" cy=\"-192\" rx=\"44.39\" ry=\"18\"/>\n<text text-anchor=\"middle\" x=\"1669\" y=\"-188.3\" font-family=\"Times New Roman,serif\" font-size=\"14.00\">ex:Movie</text>\n</g>\n<!-- 12&#45;&gt;7 -->\n<g id=\"edge19\" class=\"edge\">\n<title>12&#45;&gt;7</title>\n<path fill=\"none\" stroke=\"black\" d=\"M1673.59,-174.06C1678.49,-152.18 1683.49,-113.75 1667,-87 1649.47,-58.57 1615.74,-41.38 1587.17,-31.4\"/>\n<polygon fill=\"black\" stroke=\"black\" points=\"1587.91,-27.96 1577.31,-28.16 1585.72,-34.61 1587.91,-27.96\"/>\n<text text-anchor=\"middle\" x=\"1699\" y=\"-101.3\" font-family=\"Times New Roman,serif\" font-size=\"14.00\">rdf:type</text>\n</g>\n<!-- 12&#45;&gt;18 -->\n<g id=\"edge12\" class=\"edge\">\n<title>12&#45;&gt;18</title>\n<path fill=\"none\" stroke=\"black\" d=\"M1632.36,-181.85C1620.77,-179.13 1607.89,-176.26 1596,-174 1542.59,-163.83 1526.48,-173.48 1475,-156 1462,-151.59 1461.03,-145.32 1448,-141 1443.18,-139.4 1319.37,-123.17 1244.03,-113.38\"/>\n<polygon fill=\"black\" stroke=\"black\" points=\"1244.11,-109.86 1233.74,-112.04 1243.21,-116.8 1244.11,-109.86\"/>\n<text text-anchor=\"middle\" x=\"1521\" y=\"-144.8\" font-family=\"Times New Roman,serif\" font-size=\"14.00\">rdfs:subClassOf</text>\n</g>\n<!-- 14 -->\n<g id=\"node15\" class=\"node\">\n<title>14</title>\n<polygon fill=\"none\" stroke=\"black\" points=\"479,-210 361,-210 361,-174 479,-174 479,-210\"/>\n<text text-anchor=\"middle\" x=\"420\" y=\"-188.3\" font-family=\"Times New Roman,serif\" font-size=\"14.00\">&quot;Douglas Adams&quot;</text>\n</g>\n<!-- 15&#45;&gt;1 -->\n<g id=\"edge16\" class=\"edge\">\n<title>15&#45;&gt;1</title>\n<path fill=\"none\" stroke=\"black\" d=\"M458.33,-261.2C468.92,-251.2 482.9,-238.47 496,-228 501.92,-223.27 508.43,-218.45 514.74,-213.96\"/>\n<polygon fill=\"black\" stroke=\"black\" points=\"516.96,-216.68 523.16,-208.09 512.95,-210.95 516.96,-216.68\"/>\n<text text-anchor=\"middle\" x=\"518\" y=\"-231.8\" font-family=\"Times New Roman,serif\" font-size=\"14.00\">rdf:type</text>\n</g>\n<!-- 15&#45;&gt;14 -->\n<g id=\"edge1\" class=\"edge\">\n<title>15&#45;&gt;14</title>\n<path fill=\"none\" stroke=\"black\" d=\"M429,-260.95C425.78,-255.47 422.71,-249.21 421,-243 419.02,-235.83 418.25,-227.87 418.11,-220.44\"/>\n<polygon fill=\"black\" stroke=\"black\" points=\"421.61,-220.48 418.26,-210.43 414.61,-220.37 421.61,-220.48\"/>\n<text text-anchor=\"middle\" x=\"447\" y=\"-231.8\" font-family=\"Times New Roman,serif\" font-size=\"14.00\">rdfs:label</text>\n</g>\n<!-- 16&#45;&gt;7 -->\n<g id=\"edge23\" class=\"edge\">\n<title>16&#45;&gt;7</title>\n<path fill=\"none\" stroke=\"black\" d=\"M772.74,-174.16C787.67,-150.14 818.66,-106.74 858,-87 966.49,-32.55 1336.02,-21.7 1479.95,-19.54\"/>\n<polygon fill=\"black\" stroke=\"black\" points=\"1480.37,-23.03 1490.32,-19.39 1480.28,-16.03 1480.37,-23.03\"/>\n<text text-anchor=\"middle\" x=\"880\" y=\"-101.3\" font-family=\"Times New Roman,serif\" font-size=\"14.00\">rdf:type</text>\n</g>\n<!-- 16&#45;&gt;18 -->\n<g id=\"edge18\" class=\"edge\">\n<title>16&#45;&gt;18</title>\n<path fill=\"none\" stroke=\"black\" d=\"M784.11,-176.54C802.3,-164.86 829.72,-149.08 856,-141 930.32,-118.16 952.69,-131.18 1030,-123 1062.8,-119.53 1099.45,-115.56 1129.08,-112.34\"/>\n<polygon fill=\"black\" stroke=\"black\" points=\"1129.69,-115.79 1139.25,-111.23 1128.93,-108.83 1129.69,-115.79\"/>\n<text text-anchor=\"middle\" x=\"902\" y=\"-144.8\" font-family=\"Times New Roman,serif\" font-size=\"14.00\">rdfs:subClassOf</text>\n</g>\n<!-- 17 -->\n<g id=\"node18\" class=\"node\">\n<title>17</title>\n<ellipse fill=\"none\" stroke=\"black\" cx=\"1129\" cy=\"-192\" rx=\"55.79\" ry=\"18\"/>\n<text text-anchor=\"middle\" x=\"1129\" y=\"-188.3\" font-family=\"Times New Roman,serif\" font-size=\"14.00\">ex:published</text>\n</g>\n<!-- 17&#45;&gt;3 -->\n<g id=\"edge8\" class=\"edge\">\n<title>17&#45;&gt;3</title>\n<path fill=\"none\" stroke=\"black\" d=\"M1158.47,-176.66C1170.56,-170.56 1184.6,-163.21 1197,-156 1207.55,-149.87 1208.74,-145.71 1220,-141 1252.75,-127.28 1291.63,-118.62 1322.85,-113.34\"/>\n<polygon fill=\"black\" stroke=\"black\" points=\"1323.82,-116.73 1333.13,-111.68 1322.7,-109.82 1323.82,-116.73\"/>\n<text text-anchor=\"middle\" x=\"1248\" y=\"-144.8\" font-family=\"Times New Roman,serif\" font-size=\"14.00\">rdfs:range</text>\n</g>\n<!-- 17&#45;&gt;8 -->\n<g id=\"edge29\" class=\"edge\">\n<title>17&#45;&gt;8</title>\n<path fill=\"none\" stroke=\"black\" d=\"M1075.68,-186.42C1049.57,-181.96 1018.92,-173.2 996,-156 987.91,-149.93 981.57,-140.99 976.84,-132.34\"/>\n<polygon fill=\"black\" stroke=\"black\" points=\"979.9,-130.63 972.34,-123.21 973.63,-133.73 979.9,-130.63\"/>\n<text text-anchor=\"middle\" x=\"1018\" y=\"-144.8\" font-family=\"Times New Roman,serif\" font-size=\"14.00\">rdf:type</text>\n</g>\n<!-- 17&#45;&gt;18 -->\n<g id=\"edge27\" class=\"edge\">\n<title>17&#45;&gt;18</title>\n<path fill=\"none\" stroke=\"black\" d=\"M1125.41,-173.7C1124.22,-163.54 1124.39,-150.79 1130,-141 1133.77,-134.42 1139.32,-128.92 1145.51,-124.37\"/>\n<polygon fill=\"black\" stroke=\"black\" points=\"1147.72,-127.12 1154.23,-118.76 1143.93,-121.23 1147.72,-127.12\"/>\n<text text-anchor=\"middle\" x=\"1163.5\" y=\"-144.8\" font-family=\"Times New Roman,serif\" font-size=\"14.00\">rdfs:domain</text>\n</g>\n<!-- 18&#45;&gt;7 -->\n<g id=\"edge21\" class=\"edge\">\n<title>18&#45;&gt;7</title>\n<path fill=\"none\" stroke=\"black\" d=\"M1227.61,-94.17C1292.54,-78.44 1419.5,-47.7 1489.24,-30.81\"/>\n<polygon fill=\"black\" stroke=\"black\" points=\"1490.2,-34.18 1499.1,-28.42 1488.55,-27.37 1490.2,-34.18\"/>\n<text text-anchor=\"middle\" x=\"1405\" y=\"-57.8\" font-family=\"Times New Roman,serif\" font-size=\"14.00\">rdf:type</text>\n</g>\n</g>\n</svg>\n",
      "text/plain": [
       "<graphviz.graphs.Digraph at 0x2605ce08760>"
      ]
     },
     "metadata": {},
     "output_type": "display_data"
    }
   ],
   "source": [
    "%%rdf turtle -l library\n",
    "\n",
    "# These are just some axiomatic triples. Do not remove them.\n",
    "rdfs:subClassOf rdfs:domain rdfs:Class .\n",
    "rdfs:subClassOf rdfs:range rdfs:Class .\n",
    "rdfs:range rdfs:range rdfs:Class .\n",
    "rdfs:range rdfs:domain rdf:Property .\n",
    "rdfs:domain rdfs:range rdfs:Class .\n",
    "rdfs:domain rdfs:domain rdf:Property .\n",
    "\n",
    "# main class\n",
    "ex:Medium a rdfs:Class .\n",
    "ex:Book a rdfs:Class .\n",
    "ex:Movie a rdfs:Class .\n",
    "ex:Person a rdfs:Class .\n",
    "\n",
    "# sub class\n",
    "ex:Book rdfs:subClassOf ex:Medium .\n",
    "ex:Movie rdfs:subClassOf ex:Medium .\n",
    "\n",
    "# properties\n",
    "ex:createdBy a rdf:Property .\n",
    "ex:authoredBy a rdf:Property .\n",
    "ex:title a rdf:Property .\n",
    "ex:published a rdf:Property .\n",
    "\n",
    "# sub properties\n",
    "ex:createdBy rdfs:subPropertyOf ex:authoredBy .\n",
    "ex:authoredBy rdfs:subPropertyOf ex:createdBy .\n",
    "\n",
    "# domain and range\n",
    "ex:createdBy rdfs:domain ex:Medium .\n",
    "ex:createdBy rdfs:range ex:Person .\n",
    "ex:authoredBy rdfs:domain ex:Book .\n",
    "ex:authoredBy rdfs:range ex:Person .\n",
    "ex:title rdfs:domain ex:Medium .\n",
    "ex:title rdfs:range rdfs:Literal .\n",
    "ex:published rdfs:domain ex:Medium .\n",
    "ex:published rdfs:range rdfs:Literal .\n",
    "\n",
    "# individuals\n",
    "ex:DouglasAdams a ex:Person ;\n",
    "    rdfs:label \"Douglas Adams\" .\n",
    "\n",
    "ex:HitchhikersGuide a ex:Book ;\n",
    "    rdfs:label \"The Hitchhiker's Guide to the Galaxy\" ;\n",
    "    ex:authoredBy ex:DouglasAdams ;\n",
    "    ex:published \"1979-10-12\" ."
   ]
  },
  {
   "cell_type": "code",
   "execution_count": 116,
   "metadata": {
    "deletable": false,
    "editable": false,
    "nbgrader": {
     "cell_type": "code",
     "checksum": "2d1bb46414ec72a592ec4ec1e31e1eeb",
     "grade": false,
     "grade_id": "cell-1bf611f650e94a71",
     "locked": true,
     "schema_version": 3,
     "solution": false,
     "task": false
    }
   },
   "outputs": [
    {
     "name": "stdout",
     "output_type": "stream",
     "text": [
      "Graphman: Graph labelled 'library' has been entailed using the RDFS regime.\n"
     ]
    },
    {
     "data": {
      "image/svg+xml": "<?xml version=\"1.0\" encoding=\"UTF-8\" standalone=\"no\"?>\n<!DOCTYPE svg PUBLIC \"-//W3C//DTD SVG 1.1//EN\"\n \"http://www.w3.org/Graphics/SVG/1.1/DTD/svg11.dtd\">\n<!-- Generated by graphviz version 5.0.1 (20220820.1526)\n -->\n<!-- Pages: 1 -->\n<svg width=\"3471pt\" height=\"500pt\"\n viewBox=\"0.00 0.00 3470.99 500.00\" xmlns=\"http://www.w3.org/2000/svg\" xmlns:xlink=\"http://www.w3.org/1999/xlink\">\n<g id=\"graph0\" class=\"graph\" transform=\"scale(1 1) rotate(0) translate(4 496)\">\n<polygon fill=\"white\" stroke=\"none\" points=\"-4,4 -4,-496 3466.99,-496 3466.99,4 -4,4\"/>\n<!-- 0 -->\n<g id=\"node1\" class=\"node\">\n<title>0</title>\n<ellipse fill=\"none\" stroke=\"black\" cx=\"2470.8\" cy=\"-387\" rx=\"83.69\" ry=\"18\"/>\n<text text-anchor=\"middle\" x=\"2470.8\" y=\"-383.3\" font-family=\"Times New Roman,serif\" font-size=\"14.00\">ex:HitchhikersGuide</text>\n</g>\n<!-- 2 -->\n<g id=\"node3\" class=\"node\">\n<title>2</title>\n<polygon fill=\"none\" stroke=\"black\" points=\"2970.8,-264 2734.8,-264 2734.8,-228 2970.8,-228 2970.8,-264\"/>\n<text text-anchor=\"middle\" x=\"2852.8\" y=\"-242.3\" font-family=\"Times New Roman,serif\" font-size=\"14.00\">&quot;The Hitchhiker&#39;s Guide to the Galaxy&quot;</text>\n</g>\n<!-- 0&#45;&gt;2 -->\n<g id=\"edge66\" class=\"edge\">\n<title>0&#45;&gt;2</title>\n<path fill=\"none\" stroke=\"black\" d=\"M2550.64,-381.26C2645.74,-373.94 2796.81,-356.49 2836.8,-318 2848.37,-306.86 2852.39,-289.27 2853.51,-274.39\"/>\n<polygon fill=\"black\" stroke=\"black\" points=\"2857.02,-274.28 2853.88,-264.16 2850.02,-274.03 2857.02,-274.28\"/>\n<text text-anchor=\"middle\" x=\"2828.8\" y=\"-339.8\" font-family=\"Times New Roman,serif\" font-size=\"14.00\">rdfs:label</text>\n</g>\n<!-- 9 -->\n<g id=\"node10\" class=\"node\">\n<title>9</title>\n<ellipse fill=\"none\" stroke=\"black\" cx=\"1855.8\" cy=\"-105\" rx=\"61.99\" ry=\"18\"/>\n<text text-anchor=\"middle\" x=\"1855.8\" y=\"-101.3\" font-family=\"Times New Roman,serif\" font-size=\"14.00\">rdfs:Resource</text>\n</g>\n<!-- 0&#45;&gt;9 -->\n<g id=\"edge28\" class=\"edge\">\n<title>0&#45;&gt;9</title>\n<path fill=\"none\" stroke=\"black\" d=\"M2553.76,-383.93C2650.82,-380.56 2805.1,-372.01 2858.8,-351 2927.92,-323.95 3004.31,-294.73 2971.8,-228 2940.69,-164.17 2906.55,-158.75 2837.8,-141 2750.6,-118.48 2139.09,-109.3 1927.58,-106.77\"/>\n<polygon fill=\"black\" stroke=\"black\" points=\"1927.55,-103.27 1917.51,-106.65 1927.47,-110.27 1927.55,-103.27\"/>\n<text text-anchor=\"middle\" x=\"3001.8\" y=\"-242.3\" font-family=\"Times New Roman,serif\" font-size=\"14.00\">rdf:type</text>\n</g>\n<!-- 16 -->\n<g id=\"node17\" class=\"node\">\n<title>16</title>\n<polygon fill=\"none\" stroke=\"black\" points=\"2111.8,-318 2019.8,-318 2019.8,-282 2111.8,-282 2111.8,-318\"/>\n<text text-anchor=\"middle\" x=\"2065.8\" y=\"-296.3\" font-family=\"Times New Roman,serif\" font-size=\"14.00\">&quot;1979&#45;10&#45;12&quot;</text>\n</g>\n<!-- 0&#45;&gt;16 -->\n<g id=\"edge50\" class=\"edge\">\n<title>0&#45;&gt;16</title>\n<path fill=\"none\" stroke=\"black\" d=\"M2387.03,-385.57C2294.31,-383.79 2151.73,-376.75 2104.8,-351 2094.7,-345.46 2086.35,-336.1 2079.99,-326.97\"/>\n<polygon fill=\"black\" stroke=\"black\" points=\"2082.86,-324.96 2074.53,-318.42 2076.96,-328.73 2082.86,-324.96\"/>\n<text text-anchor=\"middle\" x=\"2139.8\" y=\"-339.8\" font-family=\"Times New Roman,serif\" font-size=\"14.00\">ex:published</text>\n</g>\n<!-- 18 -->\n<g id=\"node19\" class=\"node\">\n<title>18</title>\n<ellipse fill=\"none\" stroke=\"black\" cx=\"2206.8\" cy=\"-300\" rx=\"76.89\" ry=\"18\"/>\n<text text-anchor=\"middle\" x=\"2206.8\" y=\"-296.3\" font-family=\"Times New Roman,serif\" font-size=\"14.00\">ex:DouglasAdams</text>\n</g>\n<!-- 0&#45;&gt;18 -->\n<g id=\"edge18\" class=\"edge\">\n<title>0&#45;&gt;18</title>\n<path fill=\"none\" stroke=\"black\" d=\"M2390.61,-381.67C2309.93,-376.48 2195.52,-366.48 2181.8,-351 2175.33,-343.7 2177.79,-334.43 2183.17,-325.85\"/>\n<polygon fill=\"black\" stroke=\"black\" points=\"2186.14,-327.73 2189.3,-317.61 2180.52,-323.55 2186.14,-327.73\"/>\n<text text-anchor=\"middle\" x=\"2222.3\" y=\"-339.8\" font-family=\"Times New Roman,serif\" font-size=\"14.00\">ex:authoredBy</text>\n</g>\n<!-- 0&#45;&gt;18 -->\n<g id=\"edge80\" class=\"edge\">\n<title>0&#45;&gt;18</title>\n<path fill=\"none\" stroke=\"black\" d=\"M2422.09,-372.32C2405.61,-366.78 2387.44,-359.63 2371.8,-351 2362.38,-345.8 2362.48,-340.7 2352.8,-336 2338.62,-329.12 2305.26,-320.93 2274.01,-314.2\"/>\n<polygon fill=\"black\" stroke=\"black\" points=\"2274.47,-310.72 2263.96,-312.08 2273.02,-317.57 2274.47,-310.72\"/>\n<text text-anchor=\"middle\" x=\"2408.3\" y=\"-339.8\" font-family=\"Times New Roman,serif\" font-size=\"14.00\">ex:createdBy</text>\n</g>\n<!-- 19 -->\n<g id=\"node20\" class=\"node\">\n<title>19</title>\n<ellipse fill=\"none\" stroke=\"black\" cx=\"2342.8\" cy=\"-300\" rx=\"40.89\" ry=\"18\"/>\n<text text-anchor=\"middle\" x=\"2342.8\" y=\"-296.3\" font-family=\"Times New Roman,serif\" font-size=\"14.00\">ex:Book</text>\n</g>\n<!-- 0&#45;&gt;19 -->\n<g id=\"edge58\" class=\"edge\">\n<title>0&#45;&gt;19</title>\n<path fill=\"none\" stroke=\"black\" d=\"M2466.98,-368.58C2463.79,-357.85 2458.2,-344.55 2448.8,-336 2432.97,-321.62 2411.09,-313.13 2391.32,-308.13\"/>\n<polygon fill=\"black\" stroke=\"black\" points=\"2392.04,-304.71 2381.51,-305.88 2390.48,-311.53 2392.04,-304.71\"/>\n<text text-anchor=\"middle\" x=\"2481.8\" y=\"-339.8\" font-family=\"Times New Roman,serif\" font-size=\"14.00\">rdf:type</text>\n</g>\n<!-- 21 -->\n<g id=\"node22\" class=\"node\">\n<title>21</title>\n<ellipse fill=\"none\" stroke=\"black\" cx=\"2472.8\" cy=\"-192\" rx=\"50.89\" ry=\"18\"/>\n<text text-anchor=\"middle\" x=\"2472.8\" y=\"-188.3\" font-family=\"Times New Roman,serif\" font-size=\"14.00\">ex:Medium</text>\n</g>\n<!-- 0&#45;&gt;21 -->\n<g id=\"edge41\" class=\"edge\">\n<title>0&#45;&gt;21</title>\n<path fill=\"none\" stroke=\"black\" d=\"M2493.29,-369.61C2498.96,-364.32 2504.39,-358 2507.8,-351 2524.77,-316.08 2514.02,-302.79 2515.8,-264 2516.53,-248.02 2522.67,-242.45 2515.8,-228 2513.42,-223 2509.94,-218.48 2505.98,-214.48\"/>\n<polygon fill=\"black\" stroke=\"black\" points=\"2508.26,-211.83 2498.45,-207.84 2503.63,-217.08 2508.26,-211.83\"/>\n<text text-anchor=\"middle\" x=\"2539.8\" y=\"-296.3\" font-family=\"Times New Roman,serif\" font-size=\"14.00\">rdf:type</text>\n</g>\n<!-- 1 -->\n<g id=\"node2\" class=\"node\">\n<title>1</title>\n<ellipse fill=\"none\" stroke=\"black\" cx=\"1317.8\" cy=\"-192\" rx=\"46.29\" ry=\"18\"/>\n<text text-anchor=\"middle\" x=\"1317.8\" y=\"-188.3\" font-family=\"Times New Roman,serif\" font-size=\"14.00\">ex:Person</text>\n</g>\n<!-- 1&#45;&gt;1 -->\n<g id=\"edge34\" class=\"edge\">\n<title>1&#45;&gt;1</title>\n<path fill=\"none\" stroke=\"black\" d=\"M1359.44,-199.86C1372.07,-199.67 1381.94,-197.04 1381.94,-192 1381.94,-188.45 1377.06,-186.1 1369.77,-184.95\"/>\n<polygon fill=\"black\" stroke=\"black\" points=\"1369.69,-181.44 1359.44,-184.14 1369.13,-188.41 1369.69,-181.44\"/>\n<text text-anchor=\"middle\" x=\"1427.94\" y=\"-188.3\" font-family=\"Times New Roman,serif\" font-size=\"14.00\">rdfs:subClassOf</text>\n</g>\n<!-- 7 -->\n<g id=\"node8\" class=\"node\">\n<title>7</title>\n<ellipse fill=\"none\" stroke=\"black\" cx=\"1855.8\" cy=\"-18\" rx=\"47.39\" ry=\"18\"/>\n<text text-anchor=\"middle\" x=\"1855.8\" y=\"-14.3\" font-family=\"Times New Roman,serif\" font-size=\"14.00\">rdfs:Class</text>\n</g>\n<!-- 1&#45;&gt;7 -->\n<g id=\"edge4\" class=\"edge\">\n<title>1&#45;&gt;7</title>\n<path fill=\"none\" stroke=\"black\" d=\"M1281.9,-180.66C1271.33,-178.02 1259.67,-175.51 1248.8,-174 1219.45,-169.93 736.39,-177.3 715.8,-156 711.16,-151.21 711.34,-145.96 715.8,-141 788.93,-59.62 1577.47,-28.03 1798.5,-20.74\"/>\n<polygon fill=\"black\" stroke=\"black\" points=\"1798.71,-24.24 1808.59,-20.41 1798.48,-17.24 1798.71,-24.24\"/>\n<text text-anchor=\"middle\" x=\"916.8\" y=\"-101.3\" font-family=\"Times New Roman,serif\" font-size=\"14.00\">rdf:type</text>\n</g>\n<!-- 1&#45;&gt;9 -->\n<g id=\"edge27\" class=\"edge\">\n<title>1&#45;&gt;9</title>\n<path fill=\"none\" stroke=\"black\" d=\"M1315.93,-173.56C1315.81,-162.53 1317.78,-148.92 1326.8,-141 1342.26,-127.42 1676.28,-124.59 1696.8,-123 1727.36,-120.62 1761.15,-117.13 1789.68,-113.93\"/>\n<polygon fill=\"black\" stroke=\"black\" points=\"1790.4,-117.38 1799.94,-112.77 1789.61,-110.42 1790.4,-117.38\"/>\n<text text-anchor=\"middle\" x=\"1372.8\" y=\"-144.8\" font-family=\"Times New Roman,serif\" font-size=\"14.00\">rdfs:subClassOf</text>\n</g>\n<!-- 1&#45;&gt;9 -->\n<g id=\"edge37\" class=\"edge\">\n<title>1&#45;&gt;9</title>\n<path fill=\"none\" stroke=\"black\" d=\"M1353.56,-180.6C1373.21,-174.39 1397.78,-165.82 1418.8,-156 1430.54,-150.52 1431.44,-144.9 1443.8,-141 1497.55,-124.04 1640.65,-128 1696.8,-123 1727.21,-120.29 1760.84,-116.77 1789.31,-113.64\"/>\n<polygon fill=\"black\" stroke=\"black\" points=\"1790,-117.09 1799.55,-112.51 1789.23,-110.13 1790,-117.09\"/>\n<text text-anchor=\"middle\" x=\"1465.8\" y=\"-144.8\" font-family=\"Times New Roman,serif\" font-size=\"14.00\">rdf:type</text>\n</g>\n<!-- 2&#45;&gt;9 -->\n<g id=\"edge69\" class=\"edge\">\n<title>2&#45;&gt;9</title>\n<path fill=\"none\" stroke=\"black\" d=\"M2854.32,-227.76C2854.91,-212.81 2853.97,-190.96 2845.8,-174 2836.65,-155.03 2831.16,-149.27 2811.8,-141 2731.39,-106.67 2136.45,-105.14 1927.83,-105.67\"/>\n<polygon fill=\"black\" stroke=\"black\" points=\"1927.59,-102.17 1917.6,-105.7 1927.61,-109.17 1927.59,-102.17\"/>\n<text text-anchor=\"middle\" x=\"2876.8\" y=\"-188.3\" font-family=\"Times New Roman,serif\" font-size=\"14.00\">rdf:type</text>\n</g>\n<!-- 3 -->\n<g id=\"node4\" class=\"node\">\n<title>3</title>\n<ellipse fill=\"none\" stroke=\"black\" cx=\"1659.8\" cy=\"-192\" rx=\"50.09\" ry=\"18\"/>\n<text text-anchor=\"middle\" x=\"1659.8\" y=\"-188.3\" font-family=\"Times New Roman,serif\" font-size=\"14.00\">rdfs:Literal</text>\n</g>\n<!-- 3&#45;&gt;3 -->\n<g id=\"edge77\" class=\"edge\">\n<title>3&#45;&gt;3</title>\n<path fill=\"none\" stroke=\"black\" d=\"M1704.95,-199.84C1717.87,-199.54 1727.84,-196.92 1727.84,-192 1727.84,-188.46 1722.69,-186.12 1715,-184.96\"/>\n<polygon fill=\"black\" stroke=\"black\" points=\"1715.2,-181.47 1704.95,-184.16 1714.63,-188.45 1715.2,-181.47\"/>\n<text text-anchor=\"middle\" x=\"1773.84\" y=\"-188.3\" font-family=\"Times New Roman,serif\" font-size=\"14.00\">rdfs:subClassOf</text>\n</g>\n<!-- 3&#45;&gt;7 -->\n<g id=\"edge35\" class=\"edge\">\n<title>3&#45;&gt;7</title>\n<path fill=\"none\" stroke=\"black\" d=\"M1659.59,-173.55C1660.1,-163.57 1661.85,-151.07 1666.8,-141 1690.62,-92.48 1706.02,-82.75 1751.8,-54 1768.27,-43.66 1788.14,-35.99 1806.08,-30.52\"/>\n<polygon fill=\"black\" stroke=\"black\" points=\"1807.19,-33.85 1815.82,-27.71 1805.24,-27.12 1807.19,-33.85\"/>\n<text text-anchor=\"middle\" x=\"1725.8\" y=\"-101.3\" font-family=\"Times New Roman,serif\" font-size=\"14.00\">rdf:type</text>\n</g>\n<!-- 3&#45;&gt;9 -->\n<g id=\"edge57\" class=\"edge\">\n<title>3&#45;&gt;9</title>\n<path fill=\"none\" stroke=\"black\" d=\"M1663.5,-173.66C1666.75,-162.67 1672.61,-149.07 1682.8,-141 1699.17,-128.04 1747.12,-118.96 1788.4,-113.3\"/>\n<polygon fill=\"black\" stroke=\"black\" points=\"1789,-116.75 1798.46,-111.97 1788.09,-109.81 1789,-116.75\"/>\n<text text-anchor=\"middle\" x=\"1728.8\" y=\"-144.8\" font-family=\"Times New Roman,serif\" font-size=\"14.00\">rdfs:subClassOf</text>\n</g>\n<!-- 3&#45;&gt;9 -->\n<g id=\"edge71\" class=\"edge\">\n<title>3&#45;&gt;9</title>\n<path fill=\"none\" stroke=\"black\" d=\"M1700.75,-181.55C1723.18,-175.64 1751.16,-167.03 1774.8,-156 1785.85,-150.84 1787.46,-147.49 1797.8,-141 1805.24,-136.33 1813.29,-131.4 1820.94,-126.76\"/>\n<polygon fill=\"black\" stroke=\"black\" points=\"1822.93,-129.65 1829.69,-121.49 1819.32,-123.65 1822.93,-129.65\"/>\n<text text-anchor=\"middle\" x=\"1819.8\" y=\"-144.8\" font-family=\"Times New Roman,serif\" font-size=\"14.00\">rdf:type</text>\n</g>\n<!-- 4 -->\n<g id=\"node5\" class=\"node\">\n<title>4</title>\n<ellipse fill=\"none\" stroke=\"black\" cx=\"46.8\" cy=\"-300\" rx=\"46.59\" ry=\"18\"/>\n<text text-anchor=\"middle\" x=\"46.8\" y=\"-296.3\" font-family=\"Times New Roman,serif\" font-size=\"14.00\">rdfs:range</text>\n</g>\n<!-- 4&#45;&gt;4 -->\n<g id=\"edge26\" class=\"edge\">\n<title>4&#45;&gt;4</title>\n<path fill=\"none\" stroke=\"black\" d=\"M89.17,-307.86C101.78,-307.62 111.59,-305 111.59,-300 111.59,-296.48 106.74,-294.14 99.48,-292.98\"/>\n<polygon fill=\"black\" stroke=\"black\" points=\"99.42,-289.47 89.17,-292.14 98.86,-296.44 99.42,-289.47\"/>\n<text text-anchor=\"middle\" x=\"166.59\" y=\"-296.3\" font-family=\"Times New Roman,serif\" font-size=\"14.00\">rdfs:subPropertyOf</text>\n</g>\n<!-- 4&#45;&gt;7 -->\n<g id=\"edge11\" class=\"edge\">\n<title>4&#45;&gt;7</title>\n<path fill=\"none\" stroke=\"black\" d=\"M52.44,-281.95C58.2,-266.51 68.35,-243.81 82.8,-228 165.99,-136.96 204.11,-123.9 321.8,-87 446.42,-47.93 483.52,-63.18 613.8,-54 1069.5,-21.89 1621.22,-18.95 1798.22,-18.9\"/>\n<polygon fill=\"black\" stroke=\"black\" points=\"1798.35,-22.4 1808.35,-18.9 1798.35,-15.4 1798.35,-22.4\"/>\n<text text-anchor=\"middle\" x=\"209.8\" y=\"-144.8\" font-family=\"Times New Roman,serif\" font-size=\"14.00\">rdfs:range</text>\n</g>\n<!-- 8 -->\n<g id=\"node9\" class=\"node\">\n<title>8</title>\n<ellipse fill=\"none\" stroke=\"black\" cx=\"655.8\" cy=\"-192\" rx=\"55.49\" ry=\"18\"/>\n<text text-anchor=\"middle\" x=\"655.8\" y=\"-188.3\" font-family=\"Times New Roman,serif\" font-size=\"14.00\">rdf:Property</text>\n</g>\n<!-- 4&#45;&gt;8 -->\n<g id=\"edge13\" class=\"edge\">\n<title>4&#45;&gt;8</title>\n<path fill=\"none\" stroke=\"black\" d=\"M79.83,-287.01C98.13,-280.33 121.26,-271.8 141.8,-264 182.84,-248.41 191.02,-237.92 233.8,-228 250.94,-224.02 478.62,-206.41 592.23,-197.79\"/>\n<polygon fill=\"black\" stroke=\"black\" points=\"592.82,-201.25 602.53,-197.01 592.29,-194.27 592.82,-201.25\"/>\n<text text-anchor=\"middle\" x=\"255.8\" y=\"-242.3\" font-family=\"Times New Roman,serif\" font-size=\"14.00\">rdf:type</text>\n</g>\n<!-- 4&#45;&gt;8 -->\n<g id=\"edge33\" class=\"edge\">\n<title>4&#45;&gt;8</title>\n<path fill=\"none\" stroke=\"black\" d=\"M93.96,-299.07C142.14,-297.52 218.12,-290.51 277.8,-264 300.89,-253.74 298.48,-237.72 321.8,-228 346.12,-217.86 502.65,-204.59 592.54,-197.66\"/>\n<polygon fill=\"black\" stroke=\"black\" points=\"592.92,-201.14 602.62,-196.89 592.38,-194.16 592.92,-201.14\"/>\n<text text-anchor=\"middle\" x=\"355.3\" y=\"-242.3\" font-family=\"Times New Roman,serif\" font-size=\"14.00\">rdfs:domain</text>\n</g>\n<!-- 4&#45;&gt;9 -->\n<g id=\"edge49\" class=\"edge\">\n<title>4&#45;&gt;9</title>\n<path fill=\"none\" stroke=\"black\" d=\"M63.58,-282.99C81.54,-266.75 111.54,-242.05 141.8,-228 238.21,-183.23 270.71,-195.59 374.8,-174 454.43,-157.48 473.85,-148.97 554.8,-141 819.54,-114.92 1486.81,-146.52 1751.8,-123 1766.09,-121.73 1781.4,-119.64 1795.74,-117.36\"/>\n<polygon fill=\"black\" stroke=\"black\" points=\"1796.7,-120.75 1805.99,-115.67 1795.56,-113.84 1796.7,-120.75\"/>\n<text text-anchor=\"middle\" x=\"396.8\" y=\"-188.3\" font-family=\"Times New Roman,serif\" font-size=\"14.00\">rdf:type</text>\n</g>\n<!-- 5 -->\n<g id=\"node6\" class=\"node\">\n<title>5</title>\n<ellipse fill=\"none\" stroke=\"black\" cx=\"1469.8\" cy=\"-474\" rx=\"57.69\" ry=\"18\"/>\n<text text-anchor=\"middle\" x=\"1469.8\" y=\"-470.3\" font-family=\"Times New Roman,serif\" font-size=\"14.00\">ex:createdBy</text>\n</g>\n<!-- 5&#45;&gt;1 -->\n<g id=\"edge48\" class=\"edge\">\n<title>5&#45;&gt;1</title>\n<path fill=\"none\" stroke=\"black\" d=\"M1429.45,-460.92C1417.95,-455.62 1406.48,-448.21 1398.8,-438 1356.44,-381.72 1395.44,-347.99 1370.8,-282 1362.17,-258.9 1347.58,-235.02 1335.89,-217.81\"/>\n<polygon fill=\"black\" stroke=\"black\" points=\"1338.67,-215.68 1330.09,-209.47 1332.92,-219.68 1338.67,-215.68\"/>\n<text text-anchor=\"middle\" x=\"1407.8\" y=\"-339.8\" font-family=\"Times New Roman,serif\" font-size=\"14.00\">rdfs:range</text>\n</g>\n<!-- 5&#45;&gt;5 -->\n<g id=\"edge38\" class=\"edge\">\n<title>5&#45;&gt;5</title>\n<path fill=\"none\" stroke=\"black\" d=\"M1522.26,-481.78C1535.61,-481.27 1545.64,-478.68 1545.64,-474 1545.64,-470.6 1540.35,-468.3 1532.33,-467.11\"/>\n<polygon fill=\"black\" stroke=\"black\" points=\"1532.53,-463.61 1522.26,-466.22 1531.91,-470.58 1532.53,-463.61\"/>\n<text text-anchor=\"middle\" x=\"1600.64\" y=\"-470.3\" font-family=\"Times New Roman,serif\" font-size=\"14.00\">rdfs:subPropertyOf</text>\n</g>\n<!-- 6 -->\n<g id=\"node7\" class=\"node\">\n<title>6</title>\n<ellipse fill=\"none\" stroke=\"black\" cx=\"1477.8\" cy=\"-387\" rx=\"63.09\" ry=\"18\"/>\n<text text-anchor=\"middle\" x=\"1477.8\" y=\"-383.3\" font-family=\"Times New Roman,serif\" font-size=\"14.00\">ex:authoredBy</text>\n</g>\n<!-- 5&#45;&gt;6 -->\n<g id=\"edge55\" class=\"edge\">\n<title>5&#45;&gt;6</title>\n<path fill=\"none\" stroke=\"black\" d=\"M1431.77,-460.37C1412.38,-451.7 1394.78,-438.9 1404.8,-423 1409.53,-415.48 1416.38,-409.53 1424.02,-404.85\"/>\n<polygon fill=\"black\" stroke=\"black\" points=\"1426.09,-407.71 1433.26,-399.91 1422.79,-401.54 1426.09,-407.71\"/>\n<text text-anchor=\"middle\" x=\"1459.8\" y=\"-426.8\" font-family=\"Times New Roman,serif\" font-size=\"14.00\">rdfs:subPropertyOf</text>\n</g>\n<!-- 5&#45;&gt;8 -->\n<g id=\"edge9\" class=\"edge\">\n<title>5&#45;&gt;8</title>\n<path fill=\"none\" stroke=\"black\" d=\"M1411.96,-472.54C1227.82,-469.73 660.7,-450.31 548.8,-318 538.46,-305.78 544.89,-297.52 548.8,-282 555.44,-255.58 557.86,-246.57 577.8,-228 586.2,-220.18 596.64,-213.88 607.13,-208.91\"/>\n<polygon fill=\"black\" stroke=\"black\" points=\"608.56,-212.11 616.3,-204.88 605.74,-205.7 608.56,-212.11\"/>\n<text text-anchor=\"middle\" x=\"607.8\" y=\"-339.8\" font-family=\"Times New Roman,serif\" font-size=\"14.00\">rdf:type</text>\n</g>\n<!-- 5&#45;&gt;9 -->\n<g id=\"edge47\" class=\"edge\">\n<title>5&#45;&gt;9</title>\n<path fill=\"none\" stroke=\"black\" d=\"M1527.86,-472.8C1749.36,-471.6 2540.91,-463.25 2784.8,-405 2906.24,-375.99 2977.79,-378.41 3027.8,-264 3062.05,-185.63 2963.44,-158.87 2879.8,-141 2787.54,-121.29 2145.05,-110.21 1927.57,-106.99\"/>\n<polygon fill=\"black\" stroke=\"black\" points=\"1927.59,-103.49 1917.54,-106.85 1927.48,-110.49 1927.59,-103.49\"/>\n<text text-anchor=\"middle\" x=\"3040.8\" y=\"-296.3\" font-family=\"Times New Roman,serif\" font-size=\"14.00\">rdf:type</text>\n</g>\n<!-- 5&#45;&gt;21 -->\n<g id=\"edge44\" class=\"edge\">\n<title>5&#45;&gt;21</title>\n<path fill=\"none\" stroke=\"black\" d=\"M1527.51,-472.62C1779.21,-470.35 2772.24,-454.84 2858.8,-351 2863.06,-345.88 2863.33,-340.89 2858.8,-336 2822.73,-297.11 2668.94,-340.27 2620.8,-318 2569.74,-294.38 2576.13,-262.63 2531.8,-228 2524.7,-222.46 2516.66,-217.14 2508.84,-212.39\"/>\n<polygon fill=\"black\" stroke=\"black\" points=\"2510.57,-209.35 2500.17,-207.3 2507.02,-215.38 2510.57,-209.35\"/>\n<text text-anchor=\"middle\" x=\"2896.3\" y=\"-339.8\" font-family=\"Times New Roman,serif\" font-size=\"14.00\">rdfs:domain</text>\n</g>\n<!-- 6&#45;&gt;1 -->\n<g id=\"edge31\" class=\"edge\">\n<title>6&#45;&gt;1</title>\n<path fill=\"none\" stroke=\"black\" d=\"M1470.67,-368.99C1454.35,-330.36 1414.86,-238.51 1403.8,-228 1393.26,-218 1379.49,-210.7 1366.06,-205.44\"/>\n<polygon fill=\"black\" stroke=\"black\" points=\"1366.98,-202.05 1356.39,-201.96 1364.62,-208.64 1366.98,-202.05\"/>\n<text text-anchor=\"middle\" x=\"1476.8\" y=\"-296.3\" font-family=\"Times New Roman,serif\" font-size=\"14.00\">rdfs:range</text>\n</g>\n<!-- 6&#45;&gt;5 -->\n<g id=\"edge62\" class=\"edge\">\n<title>6&#45;&gt;5</title>\n<path fill=\"none\" stroke=\"black\" d=\"M1501.1,-403.91C1511.76,-413.28 1520.82,-425.68 1514.8,-438 1512.35,-443 1508.81,-447.49 1504.77,-451.46\"/>\n<polygon fill=\"black\" stroke=\"black\" points=\"1502.41,-448.87 1497.08,-458.03 1506.96,-454.19 1502.41,-448.87\"/>\n<text text-anchor=\"middle\" x=\"1571.8\" y=\"-426.8\" font-family=\"Times New Roman,serif\" font-size=\"14.00\">rdfs:subPropertyOf</text>\n</g>\n<!-- 6&#45;&gt;6 -->\n<g id=\"edge78\" class=\"edge\">\n<title>6&#45;&gt;6</title>\n<path fill=\"none\" stroke=\"black\" d=\"M1534.97,-394.74C1548.68,-394.13 1558.84,-391.55 1558.84,-387 1558.84,-383.66 1553.36,-381.38 1545.02,-380.16\"/>\n<polygon fill=\"black\" stroke=\"black\" points=\"1545.25,-376.67 1534.97,-379.26 1544.62,-383.64 1545.25,-376.67\"/>\n<text text-anchor=\"middle\" x=\"1613.84\" y=\"-383.3\" font-family=\"Times New Roman,serif\" font-size=\"14.00\">rdfs:subPropertyOf</text>\n</g>\n<!-- 6&#45;&gt;8 -->\n<g id=\"edge82\" class=\"edge\">\n<title>6&#45;&gt;8</title>\n<path fill=\"none\" stroke=\"black\" d=\"M1458.28,-369.78C1442.71,-357.93 1419.78,-342.79 1396.8,-336 1352.14,-322.81 591.37,-351.28 558.8,-318 547.6,-306.57 552.36,-296.65 558.8,-282 562.58,-273.38 601.66,-239 629.05,-215.58\"/>\n<polygon fill=\"black\" stroke=\"black\" points=\"631.43,-218.15 636.77,-209 626.89,-212.82 631.43,-218.15\"/>\n<text text-anchor=\"middle\" x=\"580.8\" y=\"-296.3\" font-family=\"Times New Roman,serif\" font-size=\"14.00\">rdf:type</text>\n</g>\n<!-- 6&#45;&gt;9 -->\n<g id=\"edge79\" class=\"edge\">\n<title>6&#45;&gt;9</title>\n<path fill=\"none\" stroke=\"black\" d=\"M1486.25,-369.11C1492.63,-355.61 1501.07,-336.03 1505.8,-318 1516,-279.02 1504.07,-266.23 1516.8,-228 1531.25,-184.6 1532.12,-163.76 1571.8,-141 1606.67,-121 1711.94,-128.25 1751.8,-123 1765.59,-121.18 1780.36,-118.95 1794.32,-116.7\"/>\n<polygon fill=\"black\" stroke=\"black\" points=\"1795.01,-120.13 1804.31,-115.07 1793.88,-113.23 1795.01,-120.13\"/>\n<text text-anchor=\"middle\" x=\"1538.8\" y=\"-242.3\" font-family=\"Times New Roman,serif\" font-size=\"14.00\">rdf:type</text>\n</g>\n<!-- 6&#45;&gt;19 -->\n<g id=\"edge93\" class=\"edge\">\n<title>6&#45;&gt;19</title>\n<path fill=\"none\" stroke=\"black\" d=\"M1540.7,-385.41C1715.05,-383.46 2196,-375.87 2262.8,-351 2272.88,-347.25 2272.88,-342.03 2281.8,-336 2290.37,-330.2 2299.95,-324.41 2308.93,-319.25\"/>\n<polygon fill=\"black\" stroke=\"black\" points=\"2310.67,-322.29 2317.66,-314.33 2307.23,-316.19 2310.67,-322.29\"/>\n<text text-anchor=\"middle\" x=\"2315.3\" y=\"-339.8\" font-family=\"Times New Roman,serif\" font-size=\"14.00\">rdfs:domain</text>\n</g>\n<!-- 7&#45;&gt;7 -->\n<g id=\"edge7\" class=\"edge\">\n<title>7&#45;&gt;7</title>\n<path fill=\"none\" stroke=\"black\" d=\"M1902.27,-21.86C1913.19,-21.54 1921.24,-20.26 1921.24,-18 1921.24,-16.52 1917.77,-15.46 1912.3,-14.81\"/>\n<polygon fill=\"black\" stroke=\"black\" points=\"1912.48,-11.32 1902.27,-14.14 1912.01,-18.3 1912.48,-11.32\"/>\n<text text-anchor=\"middle\" x=\"1967.24\" y=\"-14.3\" font-family=\"Times New Roman,serif\" font-size=\"14.00\">rdfs:subClassOf</text>\n</g>\n<!-- 7&#45;&gt;7 -->\n<g id=\"edge29\" class=\"edge\">\n<title>7&#45;&gt;7</title>\n<path fill=\"none\" stroke=\"black\" d=\"M1900.24,-24.5C1948.08,-27.61 2013.24,-25.44 2013.24,-18 2013.24,-11.06 1956.69,-8.71 1910.27,-10.94\"/>\n<polygon fill=\"black\" stroke=\"black\" points=\"1910.03,-7.44 1900.24,-11.5 1910.42,-14.43 1910.03,-7.44\"/>\n<text text-anchor=\"middle\" x=\"2035.24\" y=\"-14.3\" font-family=\"Times New Roman,serif\" font-size=\"14.00\">rdf:type</text>\n</g>\n<!-- 7&#45;&gt;9 -->\n<g id=\"edge63\" class=\"edge\">\n<title>7&#45;&gt;9</title>\n<path fill=\"none\" stroke=\"black\" d=\"M1882.01,-33.08C1895.39,-42.29 1907.57,-55.15 1900.8,-69 1898.46,-73.77 1895.13,-78.07 1891.33,-81.9\"/>\n<polygon fill=\"black\" stroke=\"black\" points=\"1888.8,-79.47 1883.56,-88.67 1893.39,-84.74 1888.8,-79.47\"/>\n<text text-anchor=\"middle\" x=\"1924.8\" y=\"-57.8\" font-family=\"Times New Roman,serif\" font-size=\"14.00\">rdf:type</text>\n</g>\n<!-- 7&#45;&gt;9 -->\n<g id=\"edge91\" class=\"edge\">\n<title>7&#45;&gt;9</title>\n<path fill=\"none\" stroke=\"black\" d=\"M1810.65,-24.07C1791.7,-28.68 1771.39,-37.43 1759.8,-54 1746.65,-72.79 1767.84,-85.02 1793.63,-92.69\"/>\n<polygon fill=\"black\" stroke=\"black\" points=\"1792.71,-96.06 1803.28,-95.31 1794.55,-89.31 1792.71,-96.06\"/>\n<text text-anchor=\"middle\" x=\"1805.8\" y=\"-57.8\" font-family=\"Times New Roman,serif\" font-size=\"14.00\">rdfs:subClassOf</text>\n</g>\n<!-- 8&#45;&gt;7 -->\n<g id=\"edge64\" class=\"edge\">\n<title>8&#45;&gt;7</title>\n<path fill=\"none\" stroke=\"black\" d=\"M657.38,-173.69C660.56,-149.91 670.01,-107.72 697.8,-87 786.49,-20.86 1576.27,-18.16 1798.08,-18.73\"/>\n<polygon fill=\"black\" stroke=\"black\" points=\"1798.2,-22.23 1808.21,-18.75 1798.22,-15.23 1798.2,-22.23\"/>\n<text text-anchor=\"middle\" x=\"719.8\" y=\"-101.3\" font-family=\"Times New Roman,serif\" font-size=\"14.00\">rdf:type</text>\n</g>\n<!-- 8&#45;&gt;8 -->\n<g id=\"edge90\" class=\"edge\">\n<title>8&#45;&gt;8</title>\n<path fill=\"none\" stroke=\"black\" d=\"M705.78,-199.81C719.02,-199.36 729.04,-196.76 729.04,-192 729.04,-188.54 723.75,-186.22 715.78,-185.04\"/>\n<polygon fill=\"black\" stroke=\"black\" points=\"716.04,-181.55 705.78,-184.19 715.45,-188.53 716.04,-181.55\"/>\n<text text-anchor=\"middle\" x=\"775.04\" y=\"-188.3\" font-family=\"Times New Roman,serif\" font-size=\"14.00\">rdfs:subClassOf</text>\n</g>\n<!-- 8&#45;&gt;9 -->\n<g id=\"edge6\" class=\"edge\">\n<title>8&#45;&gt;9</title>\n<path fill=\"none\" stroke=\"black\" d=\"M680.15,-175.72C700.75,-163.72 731.52,-147.91 760.8,-141 862.03,-117.1 1592.98,-129.54 1696.8,-123 1727.52,-121.07 1761.46,-117.62 1790.06,-114.33\"/>\n<polygon fill=\"black\" stroke=\"black\" points=\"1790.81,-117.77 1800.34,-113.13 1790,-110.81 1790.81,-117.77\"/>\n<text text-anchor=\"middle\" x=\"782.8\" y=\"-144.8\" font-family=\"Times New Roman,serif\" font-size=\"14.00\">rdf:type</text>\n</g>\n<!-- 8&#45;&gt;9 -->\n<g id=\"edge84\" class=\"edge\">\n<title>8&#45;&gt;9</title>\n<path fill=\"none\" stroke=\"black\" d=\"M699.46,-180.8C753.11,-168.78 847.07,-149.39 928.8,-141 1268.44,-106.14 1356.09,-145.17 1696.8,-123 1727.51,-121 1761.45,-117.54 1790.06,-114.27\"/>\n<polygon fill=\"black\" stroke=\"black\" points=\"1790.81,-117.7 1800.34,-113.07 1790,-110.75 1790.81,-117.7\"/>\n<text text-anchor=\"middle\" x=\"974.8\" y=\"-144.8\" font-family=\"Times New Roman,serif\" font-size=\"14.00\">rdfs:subClassOf</text>\n</g>\n<!-- 9&#45;&gt;7 -->\n<g id=\"edge53\" class=\"edge\">\n<title>9&#45;&gt;7</title>\n<path fill=\"none\" stroke=\"black\" d=\"M1855.8,-86.8C1855.8,-75.16 1855.8,-59.55 1855.8,-46.24\"/>\n<polygon fill=\"black\" stroke=\"black\" points=\"1859.3,-46.18 1855.8,-36.18 1852.3,-46.18 1859.3,-46.18\"/>\n<text text-anchor=\"middle\" x=\"1877.8\" y=\"-57.8\" font-family=\"Times New Roman,serif\" font-size=\"14.00\">rdf:type</text>\n</g>\n<!-- 9&#45;&gt;9 -->\n<g id=\"edge42\" class=\"edge\">\n<title>9&#45;&gt;9</title>\n<path fill=\"none\" stroke=\"black\" d=\"M1916.3,-108.74C1927.59,-108.28 1935.54,-107.03 1935.54,-105 1935.54,-103.67 1932.12,-102.67 1926.57,-102.02\"/>\n<polygon fill=\"black\" stroke=\"black\" points=\"1926.53,-98.5 1916.3,-101.26 1926.02,-105.49 1926.53,-98.5\"/>\n<text text-anchor=\"middle\" x=\"1957.54\" y=\"-101.3\" font-family=\"Times New Roman,serif\" font-size=\"14.00\">rdf:type</text>\n</g>\n<!-- 9&#45;&gt;9 -->\n<g id=\"edge74\" class=\"edge\">\n<title>9&#45;&gt;9</title>\n<path fill=\"none\" stroke=\"black\" d=\"M1912.19,-112.51C1945.9,-113.88 1979.54,-111.38 1979.54,-105 1979.54,-99.27 1952.39,-96.67 1922.43,-97.19\"/>\n<polygon fill=\"black\" stroke=\"black\" points=\"1922.09,-93.7 1912.19,-97.49 1922.29,-100.7 1922.09,-93.7\"/>\n<text text-anchor=\"middle\" x=\"2025.54\" y=\"-101.3\" font-family=\"Times New Roman,serif\" font-size=\"14.00\">rdfs:subClassOf</text>\n</g>\n<!-- 10 -->\n<g id=\"node11\" class=\"node\">\n<title>10</title>\n<ellipse fill=\"none\" stroke=\"black\" cx=\"3264.8\" cy=\"-300\" rx=\"70.39\" ry=\"18\"/>\n<text text-anchor=\"middle\" x=\"3264.8\" y=\"-296.3\" font-family=\"Times New Roman,serif\" font-size=\"14.00\">rdfs:subClassOf</text>\n</g>\n<!-- 10&#45;&gt;7 -->\n<g id=\"edge17\" class=\"edge\">\n<title>10&#45;&gt;7</title>\n<path fill=\"none\" stroke=\"black\" d=\"M3273.97,-281.96C3286.04,-257.06 3303.84,-209.82 3286.8,-174 3248.91,-94.37 3213.01,-80.13 3128.8,-54 3012.08,-17.78 2147.39,-18.02 1913.81,-18.75\"/>\n<polygon fill=\"black\" stroke=\"black\" points=\"1913.48,-15.26 1903.49,-18.79 1913.5,-22.26 1913.48,-15.26\"/>\n<text text-anchor=\"middle\" x=\"3305.8\" y=\"-144.8\" font-family=\"Times New Roman,serif\" font-size=\"14.00\">rdfs:range</text>\n</g>\n<!-- 10&#45;&gt;7 -->\n<g id=\"edge43\" class=\"edge\">\n<title>10&#45;&gt;7</title>\n<path fill=\"none\" stroke=\"black\" d=\"M3285.51,-282.76C3291.42,-277.31 3297.42,-270.86 3301.8,-264 3332.41,-215.97 3365.61,-190.71 3337.8,-141 3295.96,-66.24 3249.75,-71.06 3165.8,-54 3042.22,-28.88 2150.17,-21.02 1913.38,-19.36\"/>\n<polygon fill=\"black\" stroke=\"black\" points=\"1913.28,-15.86 1903.25,-19.29 1913.23,-22.86 1913.28,-15.86\"/>\n<text text-anchor=\"middle\" x=\"3378.3\" y=\"-144.8\" font-family=\"Times New Roman,serif\" font-size=\"14.00\">rdfs:domain</text>\n</g>\n<!-- 10&#45;&gt;8 -->\n<g id=\"edge20\" class=\"edge\">\n<title>10&#45;&gt;8</title>\n<path fill=\"none\" stroke=\"black\" d=\"M3225.7,-284.99C3171.89,-265.99 3077.6,-233.73 3041.8,-228 2930.48,-210.2 1125.48,-213.18 1012.8,-210 910.23,-207.1 791.2,-200.86 719.78,-196.79\"/>\n<polygon fill=\"black\" stroke=\"black\" points=\"719.78,-193.29 709.6,-196.21 719.38,-200.28 719.78,-193.29\"/>\n<text text-anchor=\"middle\" x=\"3182.8\" y=\"-242.3\" font-family=\"Times New Roman,serif\" font-size=\"14.00\">rdf:type</text>\n</g>\n<!-- 10&#45;&gt;9 -->\n<g id=\"edge59\" class=\"edge\">\n<title>10&#45;&gt;9</title>\n<path fill=\"none\" stroke=\"black\" d=\"M3260.54,-281.75C3250.7,-242.6 3226.38,-149.71 3214.8,-141 3188.89,-121.51 2205.65,-109.69 1928.08,-106.73\"/>\n<polygon fill=\"black\" stroke=\"black\" points=\"1927.77,-103.23 1917.73,-106.62 1927.69,-110.23 1927.77,-103.23\"/>\n<text text-anchor=\"middle\" x=\"3263.8\" y=\"-188.3\" font-family=\"Times New Roman,serif\" font-size=\"14.00\">rdf:type</text>\n</g>\n<!-- 10&#45;&gt;10 -->\n<g id=\"edge16\" class=\"edge\">\n<title>10&#45;&gt;10</title>\n<path fill=\"none\" stroke=\"black\" d=\"M3328.61,-307.66C3342.72,-306.94 3352.99,-304.39 3352.99,-300 3352.99,-296.74 3347.33,-294.5 3338.65,-293.26\"/>\n<polygon fill=\"black\" stroke=\"black\" points=\"3338.89,-289.77 3328.61,-292.34 3338.25,-296.74 3338.89,-289.77\"/>\n<text text-anchor=\"middle\" x=\"3407.99\" y=\"-296.3\" font-family=\"Times New Roman,serif\" font-size=\"14.00\">rdfs:subPropertyOf</text>\n</g>\n<!-- 11 -->\n<g id=\"node12\" class=\"node\">\n<title>11</title>\n<ellipse fill=\"none\" stroke=\"black\" cx=\"293.8\" cy=\"-300\" rx=\"53.89\" ry=\"18\"/>\n<text text-anchor=\"middle\" x=\"293.8\" y=\"-296.3\" font-family=\"Times New Roman,serif\" font-size=\"14.00\">rdfs:domain</text>\n</g>\n<!-- 11&#45;&gt;7 -->\n<g id=\"edge83\" class=\"edge\">\n<title>11&#45;&gt;7</title>\n<path fill=\"none\" stroke=\"black\" d=\"M249.28,-289.67C235.56,-284.48 221.93,-276.43 213.8,-264 205.04,-250.61 204.41,-240.96 213.8,-228 358.91,-27.5 499.06,-97 742.8,-54 948.54,-17.71 1600.21,-17.75 1798.19,-18.64\"/>\n<polygon fill=\"black\" stroke=\"black\" points=\"1798.36,-22.14 1808.38,-18.69 1798.4,-15.14 1798.36,-22.14\"/>\n<text text-anchor=\"middle\" x=\"322.8\" y=\"-144.8\" font-family=\"Times New Roman,serif\" font-size=\"14.00\">rdfs:range</text>\n</g>\n<!-- 11&#45;&gt;8 -->\n<g id=\"edge46\" class=\"edge\">\n<title>11&#45;&gt;8</title>\n<path fill=\"none\" stroke=\"black\" d=\"M345.16,-294.12C393.21,-288.73 460.79,-278.82 482.8,-264 498.54,-253.39 490.3,-238.97 505.8,-228 530.58,-210.46 562.9,-201.6 591.18,-197.16\"/>\n<polygon fill=\"black\" stroke=\"black\" points=\"591.98,-200.58 601.39,-195.72 591,-193.65 591.98,-200.58\"/>\n<text text-anchor=\"middle\" x=\"527.8\" y=\"-242.3\" font-family=\"Times New Roman,serif\" font-size=\"14.00\">rdf:type</text>\n</g>\n<!-- 11&#45;&gt;8 -->\n<g id=\"edge70\" class=\"edge\">\n<title>11&#45;&gt;8</title>\n<path fill=\"none\" stroke=\"black\" d=\"M339.61,-290.41C357.76,-285.19 377.83,-276.93 392.8,-264 406.49,-252.17 397.01,-238.42 411.8,-228 439.88,-208.21 528.72,-199.48 591.05,-195.72\"/>\n<polygon fill=\"black\" stroke=\"black\" points=\"591.42,-199.2 601.2,-195.13 591.02,-192.21 591.42,-199.2\"/>\n<text text-anchor=\"middle\" x=\"445.3\" y=\"-242.3\" font-family=\"Times New Roman,serif\" font-size=\"14.00\">rdfs:domain</text>\n</g>\n<!-- 11&#45;&gt;9 -->\n<g id=\"edge88\" class=\"edge\">\n<title>11&#45;&gt;9</title>\n<path fill=\"none\" stroke=\"black\" d=\"M329.26,-286.25C342.17,-280.61 356.37,-273.16 367.8,-264 383.61,-251.32 379.36,-239.87 395.8,-228 515.27,-141.7 569.23,-156.54 715.8,-141 1173.74,-92.43 1293.13,-164.25 1751.8,-123 1766.09,-121.71 1781.39,-119.62 1795.74,-117.33\"/>\n<polygon fill=\"black\" stroke=\"black\" points=\"1796.7,-120.72 1805.99,-115.64 1795.56,-113.82 1796.7,-120.72\"/>\n<text text-anchor=\"middle\" x=\"512.8\" y=\"-188.3\" font-family=\"Times New Roman,serif\" font-size=\"14.00\">rdf:type</text>\n</g>\n<!-- 11&#45;&gt;11 -->\n<g id=\"edge76\" class=\"edge\">\n<title>11&#45;&gt;11</title>\n<path fill=\"none\" stroke=\"black\" d=\"M342.55,-307.82C355.72,-307.4 365.74,-304.8 365.74,-300 365.74,-296.55 360.57,-294.23 352.76,-293.05\"/>\n<polygon fill=\"black\" stroke=\"black\" points=\"352.81,-289.54 342.55,-292.18 352.22,-296.52 352.81,-289.54\"/>\n<text text-anchor=\"middle\" x=\"420.74\" y=\"-296.3\" font-family=\"Times New Roman,serif\" font-size=\"14.00\">rdfs:subPropertyOf</text>\n</g>\n<!-- 12 -->\n<g id=\"node13\" class=\"node\">\n<title>12</title>\n<ellipse fill=\"none\" stroke=\"black\" cx=\"1839.8\" cy=\"-300\" rx=\"33.6\" ry=\"18\"/>\n<text text-anchor=\"middle\" x=\"1839.8\" y=\"-296.3\" font-family=\"Times New Roman,serif\" font-size=\"14.00\">ex:title</text>\n</g>\n<!-- 12&#45;&gt;3 -->\n<g id=\"edge56\" class=\"edge\">\n<title>12&#45;&gt;3</title>\n<path fill=\"none\" stroke=\"black\" d=\"M1814.15,-287.94C1808.5,-285.76 1802.5,-283.65 1796.8,-282 1755.09,-269.97 1736.22,-289.09 1700.8,-264 1692.56,-258.17 1680.88,-237.03 1672.09,-219.32\"/>\n<polygon fill=\"black\" stroke=\"black\" points=\"1675.06,-217.42 1667.54,-209.95 1668.76,-220.48 1675.06,-217.42\"/>\n<text text-anchor=\"middle\" x=\"1728.8\" y=\"-242.3\" font-family=\"Times New Roman,serif\" font-size=\"14.00\">rdfs:range</text>\n</g>\n<!-- 12&#45;&gt;8 -->\n<g id=\"edge8\" class=\"edge\">\n<title>12&#45;&gt;8</title>\n<path fill=\"none\" stroke=\"black\" d=\"M1814.77,-287.49C1808.98,-285.29 1802.76,-283.27 1796.8,-282 1706.3,-262.72 1473.1,-270.51 1380.8,-264 1134.46,-246.62 842.12,-214.45 717.27,-200.16\"/>\n<polygon fill=\"black\" stroke=\"black\" points=\"717.47,-196.66 707.14,-199 716.67,-203.61 717.47,-196.66\"/>\n<text text-anchor=\"middle\" x=\"1402.8\" y=\"-242.3\" font-family=\"Times New Roman,serif\" font-size=\"14.00\">rdf:type</text>\n</g>\n<!-- 12&#45;&gt;9 -->\n<g id=\"edge3\" class=\"edge\">\n<title>12&#45;&gt;9</title>\n<path fill=\"none\" stroke=\"black\" d=\"M1841.22,-281.87C1844,-248.32 1850.18,-173.71 1853.53,-133.29\"/>\n<polygon fill=\"black\" stroke=\"black\" points=\"1857.04,-133.34 1854.38,-123.09 1850.06,-132.77 1857.04,-133.34\"/>\n<text text-anchor=\"middle\" x=\"1872.8\" y=\"-188.3\" font-family=\"Times New Roman,serif\" font-size=\"14.00\">rdf:type</text>\n</g>\n<!-- 12&#45;&gt;12 -->\n<g id=\"edge81\" class=\"edge\">\n<title>12&#45;&gt;12</title>\n<path fill=\"none\" stroke=\"black\" d=\"M1870.38,-307.85C1881.99,-308.15 1891.59,-305.54 1891.59,-300 1891.59,-296.19 1887.05,-293.77 1880.44,-292.72\"/>\n<polygon fill=\"black\" stroke=\"black\" points=\"1880.56,-289.22 1870.38,-292.15 1880.17,-296.21 1880.56,-289.22\"/>\n<text text-anchor=\"middle\" x=\"1946.59\" y=\"-296.3\" font-family=\"Times New Roman,serif\" font-size=\"14.00\">rdfs:subPropertyOf</text>\n</g>\n<!-- 12&#45;&gt;21 -->\n<g id=\"edge39\" class=\"edge\">\n<title>12&#45;&gt;21</title>\n<path fill=\"none\" stroke=\"black\" d=\"M1872.54,-295.36C1906.94,-291.63 1962.62,-285.84 2010.8,-282 2044.08,-279.35 2282.73,-282.09 2310.8,-264 2326,-254.2 2315.46,-239.03 2329.8,-228 2357.99,-206.3 2373.25,-218.5 2407.8,-210 2412.83,-208.76 2418.08,-207.44 2423.32,-206.1\"/>\n<polygon fill=\"black\" stroke=\"black\" points=\"2424.5,-209.41 2433.31,-203.52 2422.76,-202.63 2424.5,-209.41\"/>\n<text text-anchor=\"middle\" x=\"2363.3\" y=\"-242.3\" font-family=\"Times New Roman,serif\" font-size=\"14.00\">rdfs:domain</text>\n</g>\n<!-- 13 -->\n<g id=\"node14\" class=\"node\">\n<title>13</title>\n<ellipse fill=\"none\" stroke=\"black\" cx=\"2673.8\" cy=\"-300\" rx=\"44.39\" ry=\"18\"/>\n<text text-anchor=\"middle\" x=\"2673.8\" y=\"-296.3\" font-family=\"Times New Roman,serif\" font-size=\"14.00\">ex:Movie</text>\n</g>\n<!-- 13&#45;&gt;7 -->\n<g id=\"edge24\" class=\"edge\">\n<title>13&#45;&gt;7</title>\n<path fill=\"none\" stroke=\"black\" d=\"M2717.7,-297.33C2832.51,-292.74 3133.85,-279.31 3148.8,-264 3203.79,-207.67 3197.39,-153.85 3155.8,-87 3138.26,-58.82 3121.01,-61.99 3088.8,-54 2974.16,-25.58 2141.45,-20.15 1913.4,-19.19\"/>\n<polygon fill=\"black\" stroke=\"black\" points=\"1913.33,-15.69 1903.32,-19.15 1913.31,-22.69 1913.33,-15.69\"/>\n<text text-anchor=\"middle\" x=\"3208.8\" y=\"-144.8\" font-family=\"Times New Roman,serif\" font-size=\"14.00\">rdf:type</text>\n</g>\n<!-- 13&#45;&gt;9 -->\n<g id=\"edge40\" class=\"edge\">\n<title>13&#45;&gt;9</title>\n<path fill=\"none\" stroke=\"black\" d=\"M2679.21,-281.96C2682.99,-267.33 2686.44,-245.83 2680.8,-228 2671.94,-200.02 2667.01,-190.58 2642.8,-174 2592.54,-139.59 2570.03,-150 2509.8,-141 2300.27,-109.69 2049.3,-105.42 1928.21,-105.41\"/>\n<polygon fill=\"black\" stroke=\"black\" points=\"1927.95,-101.91 1917.96,-105.42 1927.96,-108.91 1927.95,-101.91\"/>\n<text text-anchor=\"middle\" x=\"2720.8\" y=\"-188.3\" font-family=\"Times New Roman,serif\" font-size=\"14.00\">rdfs:subClassOf</text>\n</g>\n<!-- 13&#45;&gt;9 -->\n<g id=\"edge54\" class=\"edge\">\n<title>13&#45;&gt;9</title>\n<path fill=\"none\" stroke=\"black\" d=\"M2684.8,-282.34C2695.76,-266.73 2713.79,-243.55 2733.8,-228 2748.23,-216.77 2761.1,-225.5 2770.8,-210 2779.28,-196.44 2781.13,-186.22 2770.8,-174 2716.74,-110.08 2134.56,-105.28 1927.98,-105.61\"/>\n<polygon fill=\"black\" stroke=\"black\" points=\"1927.84,-102.11 1917.85,-105.63 1927.85,-109.11 1927.84,-102.11\"/>\n<text text-anchor=\"middle\" x=\"2800.8\" y=\"-188.3\" font-family=\"Times New Roman,serif\" font-size=\"14.00\">rdf:type</text>\n</g>\n<!-- 13&#45;&gt;13 -->\n<g id=\"edge32\" class=\"edge\">\n<title>13&#45;&gt;13</title>\n<path fill=\"none\" stroke=\"black\" d=\"M2713.58,-307.87C2726.11,-307.75 2735.99,-305.13 2735.99,-300 2735.99,-296.4 2731.1,-294.03 2723.85,-292.9\"/>\n<polygon fill=\"black\" stroke=\"black\" points=\"2723.81,-289.39 2713.58,-292.13 2723.29,-296.37 2723.81,-289.39\"/>\n<text text-anchor=\"middle\" x=\"2781.99\" y=\"-296.3\" font-family=\"Times New Roman,serif\" font-size=\"14.00\">rdfs:subClassOf</text>\n</g>\n<!-- 13&#45;&gt;21 -->\n<g id=\"edge60\" class=\"edge\">\n<title>13&#45;&gt;21</title>\n<path fill=\"none\" stroke=\"black\" d=\"M2637.66,-289.56C2621.46,-284.03 2602.87,-275.77 2588.8,-264 2574.23,-251.82 2580.55,-239.96 2565.8,-228 2553.82,-218.29 2538.87,-211.1 2524.48,-205.84\"/>\n<polygon fill=\"black\" stroke=\"black\" points=\"2525.25,-202.41 2514.65,-202.51 2523,-209.04 2525.25,-202.41\"/>\n<text text-anchor=\"middle\" x=\"2634.8\" y=\"-242.3\" font-family=\"Times New Roman,serif\" font-size=\"14.00\">rdfs:subClassOf</text>\n</g>\n<!-- 14 -->\n<g id=\"node15\" class=\"node\">\n<title>14</title>\n<ellipse fill=\"none\" stroke=\"black\" cx=\"884.8\" cy=\"-300\" rx=\"38.99\" ry=\"18\"/>\n<text text-anchor=\"middle\" x=\"884.8\" y=\"-296.3\" font-family=\"Times New Roman,serif\" font-size=\"14.00\">rdf:type</text>\n</g>\n<!-- 14&#45;&gt;8 -->\n<g id=\"edge45\" class=\"edge\">\n<title>14&#45;&gt;8</title>\n<path fill=\"none\" stroke=\"black\" d=\"M855.51,-288.08C849.37,-285.94 842.9,-283.81 836.8,-282 803.93,-272.26 793.2,-277.75 761.8,-264 746.21,-257.17 711.16,-232.97 685.61,-214.7\"/>\n<polygon fill=\"black\" stroke=\"black\" points=\"687.52,-211.76 677.36,-208.77 683.43,-217.45 687.52,-211.76\"/>\n<text text-anchor=\"middle\" x=\"783.8\" y=\"-242.3\" font-family=\"Times New Roman,serif\" font-size=\"14.00\">rdf:type</text>\n</g>\n<!-- 14&#45;&gt;9 -->\n<g id=\"edge89\" class=\"edge\">\n<title>14&#45;&gt;9</title>\n<path fill=\"none\" stroke=\"black\" d=\"M923.34,-296.85C957.96,-293.55 1009.29,-285.19 1048.8,-264 1099.2,-236.96 1091.84,-203.59 1140.8,-174 1181.57,-149.35 1195.87,-149.25 1242.8,-141 1465.74,-101.78 1526.53,-145.3 1751.8,-123 1765.93,-121.6 1781.06,-119.49 1795.28,-117.22\"/>\n<polygon fill=\"black\" stroke=\"black\" points=\"1796.15,-120.62 1805.45,-115.55 1795.01,-113.72 1796.15,-120.62\"/>\n<text text-anchor=\"middle\" x=\"1162.8\" y=\"-188.3\" font-family=\"Times New Roman,serif\" font-size=\"14.00\">rdf:type</text>\n</g>\n<!-- 14&#45;&gt;14 -->\n<g id=\"edge25\" class=\"edge\">\n<title>14&#45;&gt;14</title>\n<path fill=\"none\" stroke=\"black\" d=\"M920.14,-307.87C932.14,-307.92 941.79,-305.29 941.79,-300 941.79,-296.36 937.23,-293.99 930.48,-292.87\"/>\n<polygon fill=\"black\" stroke=\"black\" points=\"930.36,-289.35 920.14,-292.13 929.86,-296.33 930.36,-289.35\"/>\n<text text-anchor=\"middle\" x=\"996.79\" y=\"-296.3\" font-family=\"Times New Roman,serif\" font-size=\"14.00\">rdfs:subPropertyOf</text>\n</g>\n<!-- 15 -->\n<g id=\"node16\" class=\"node\">\n<title>15</title>\n<ellipse fill=\"none\" stroke=\"black\" cx=\"1151.8\" cy=\"-300\" rx=\"81.79\" ry=\"18\"/>\n<text text-anchor=\"middle\" x=\"1151.8\" y=\"-296.3\" font-family=\"Times New Roman,serif\" font-size=\"14.00\">rdfs:subPropertyOf</text>\n</g>\n<!-- 15&#45;&gt;8 -->\n<g id=\"edge23\" class=\"edge\">\n<title>15&#45;&gt;8</title>\n<path fill=\"none\" stroke=\"black\" d=\"M1093.69,-287.2C1082.79,-285.26 1071.47,-283.42 1060.8,-282 1010.63,-275.34 878.34,-288.01 833.8,-264 815.95,-254.38 822.87,-238.93 805.8,-228 780.12,-211.56 747.57,-202.82 719.35,-198.19\"/>\n<polygon fill=\"black\" stroke=\"black\" points=\"719.59,-194.68 709.18,-196.66 718.54,-201.6 719.59,-194.68\"/>\n<text text-anchor=\"middle\" x=\"855.8\" y=\"-242.3\" font-family=\"Times New Roman,serif\" font-size=\"14.00\">rdf:type</text>\n</g>\n<!-- 15&#45;&gt;9 -->\n<g id=\"edge61\" class=\"edge\">\n<title>15&#45;&gt;9</title>\n<path fill=\"none\" stroke=\"black\" d=\"M1156.53,-281.87C1164.77,-255.09 1184.29,-203.36 1218.8,-174 1253.16,-144.76 1270.46,-149.35 1314.8,-141 1505.83,-105.03 1558.41,-142.72 1751.8,-123 1765.93,-121.56 1781.06,-119.43 1795.28,-117.16\"/>\n<polygon fill=\"black\" stroke=\"black\" points=\"1796.14,-120.56 1805.44,-115.49 1795.01,-113.66 1796.14,-120.56\"/>\n<text text-anchor=\"middle\" x=\"1240.8\" y=\"-188.3\" font-family=\"Times New Roman,serif\" font-size=\"14.00\">rdf:type</text>\n</g>\n<!-- 15&#45;&gt;15 -->\n<g id=\"edge72\" class=\"edge\">\n<title>15&#45;&gt;15</title>\n<path fill=\"none\" stroke=\"black\" d=\"M1226.29,-307.55C1241.12,-306.7 1251.69,-304.18 1251.69,-300 1251.69,-296.86 1245.74,-294.66 1236.51,-293.4\"/>\n<polygon fill=\"black\" stroke=\"black\" points=\"1236.57,-289.89 1226.29,-292.45 1235.92,-296.86 1236.57,-289.89\"/>\n<text text-anchor=\"middle\" x=\"1306.69\" y=\"-296.3\" font-family=\"Times New Roman,serif\" font-size=\"14.00\">rdfs:subPropertyOf</text>\n</g>\n<!-- 16&#45;&gt;3 -->\n<g id=\"edge10\" class=\"edge\">\n<title>16&#45;&gt;3</title>\n<path fill=\"none\" stroke=\"black\" d=\"M2019.73,-284.16C2016.72,-283.37 2013.72,-282.65 2010.8,-282 1952.55,-269.15 1935.95,-277.29 1877.8,-264 1844.46,-256.38 1757.68,-227.01 1704.21,-208.52\"/>\n<polygon fill=\"black\" stroke=\"black\" points=\"1705.23,-205.16 1694.63,-205.2 1702.93,-211.78 1705.23,-205.16\"/>\n<text text-anchor=\"middle\" x=\"1899.8\" y=\"-242.3\" font-family=\"Times New Roman,serif\" font-size=\"14.00\">rdf:type</text>\n</g>\n<!-- 16&#45;&gt;9 -->\n<g id=\"edge30\" class=\"edge\">\n<title>16&#45;&gt;9</title>\n<path fill=\"none\" stroke=\"black\" d=\"M2030.06,-281.94C2020.51,-276.73 2010.45,-270.61 2001.8,-264 1949.76,-224.25 1900.52,-164.83 1874.65,-131.34\"/>\n<polygon fill=\"black\" stroke=\"black\" points=\"1877.14,-128.83 1868.29,-123.01 1871.58,-133.08 1877.14,-128.83\"/>\n<text text-anchor=\"middle\" x=\"1963.8\" y=\"-188.3\" font-family=\"Times New Roman,serif\" font-size=\"14.00\">rdf:type</text>\n</g>\n<!-- 17 -->\n<g id=\"node18\" class=\"node\">\n<title>17</title>\n<polygon fill=\"none\" stroke=\"black\" points=\"2195.8,-210 2077.8,-210 2077.8,-174 2195.8,-174 2195.8,-210\"/>\n<text text-anchor=\"middle\" x=\"2136.8\" y=\"-188.3\" font-family=\"Times New Roman,serif\" font-size=\"14.00\">&quot;Douglas Adams&quot;</text>\n</g>\n<!-- 17&#45;&gt;9 -->\n<g id=\"edge14\" class=\"edge\">\n<title>17&#45;&gt;9</title>\n<path fill=\"none\" stroke=\"black\" d=\"M2105.3,-173.85C2084.41,-163.08 2056.09,-149.65 2029.8,-141 1994.38,-129.35 1953.58,-120.89 1920.39,-115.22\"/>\n<polygon fill=\"black\" stroke=\"black\" points=\"1920.79,-111.73 1910.35,-113.54 1919.64,-118.64 1920.79,-111.73\"/>\n<text text-anchor=\"middle\" x=\"2088.8\" y=\"-144.8\" font-family=\"Times New Roman,serif\" font-size=\"14.00\">rdf:type</text>\n</g>\n<!-- 18&#45;&gt;1 -->\n<g id=\"edge19\" class=\"edge\">\n<title>18&#45;&gt;1</title>\n<path fill=\"none\" stroke=\"black\" d=\"M2153.34,-286.99C2142.61,-284.99 2131.38,-283.18 2120.8,-282 2083.84,-277.88 1484.16,-282.3 1451.8,-264 1435.27,-254.66 1443.87,-239.55 1428.8,-228 1411.85,-215.02 1389.99,-206.79 1370.15,-201.6\"/>\n<polygon fill=\"black\" stroke=\"black\" points=\"1370.84,-198.17 1360.3,-199.22 1369.2,-204.97 1370.84,-198.17\"/>\n<text text-anchor=\"middle\" x=\"1473.8\" y=\"-242.3\" font-family=\"Times New Roman,serif\" font-size=\"14.00\">rdf:type</text>\n</g>\n<!-- 18&#45;&gt;9 -->\n<g id=\"edge51\" class=\"edge\">\n<title>18&#45;&gt;9</title>\n<path fill=\"none\" stroke=\"black\" d=\"M2162.01,-285.14C2145.29,-279.37 2126.35,-272.12 2109.8,-264 2069.61,-244.29 2059.52,-238.24 2024.8,-210 2007.48,-195.92 2007.77,-187.23 1989.8,-174 1961.98,-153.53 1927.1,-136.04 1899.9,-123.93\"/>\n<polygon fill=\"black\" stroke=\"black\" points=\"1901.18,-120.67 1890.62,-119.88 1898.38,-127.09 1901.18,-120.67\"/>\n<text text-anchor=\"middle\" x=\"2046.8\" y=\"-188.3\" font-family=\"Times New Roman,serif\" font-size=\"14.00\">rdf:type</text>\n</g>\n<!-- 18&#45;&gt;17 -->\n<g id=\"edge1\" class=\"edge\">\n<title>18&#45;&gt;17</title>\n<path fill=\"none\" stroke=\"black\" d=\"M2150.13,-287.74C2137.83,-282.57 2126.27,-275.02 2118.8,-264 2109.86,-250.83 2113.96,-233.58 2120.49,-219.37\"/>\n<polygon fill=\"black\" stroke=\"black\" points=\"2123.79,-220.61 2125.26,-210.11 2117.57,-217.4 2123.79,-220.61\"/>\n<text text-anchor=\"middle\" x=\"2144.8\" y=\"-242.3\" font-family=\"Times New Roman,serif\" font-size=\"14.00\">rdfs:label</text>\n</g>\n<!-- 19&#45;&gt;7 -->\n<g id=\"edge75\" class=\"edge\">\n<title>19&#45;&gt;7</title>\n<path fill=\"none\" stroke=\"black\" d=\"M2381.89,-294.3C2416.31,-290.35 2467.8,-284.9 2512.8,-282 2547.07,-279.79 3106.86,-288.64 3130.8,-264 3141.94,-252.52 3137.46,-242.54 3130.8,-228 3106.11,-174.14 3084.2,-164.47 3029.8,-141 2824.99,-52.64 2119.52,-26.34 1913.01,-20.44\"/>\n<polygon fill=\"black\" stroke=\"black\" points=\"1913.08,-16.94 1902.99,-20.16 1912.88,-23.94 1913.08,-16.94\"/>\n<text text-anchor=\"middle\" x=\"3084.8\" y=\"-144.8\" font-family=\"Times New Roman,serif\" font-size=\"14.00\">rdf:type</text>\n</g>\n<!-- 19&#45;&gt;9 -->\n<g id=\"edge5\" class=\"edge\">\n<title>19&#45;&gt;9</title>\n<path fill=\"none\" stroke=\"black\" d=\"M2311.97,-288.13C2305.65,-286.01 2299.03,-283.87 2292.8,-282 2262.44,-272.89 2243.17,-289.08 2223.8,-264 2214.01,-251.34 2214.37,-240.93 2223.8,-228 2239.2,-206.87 2264.4,-231.13 2279.8,-210 2299.93,-182.37 2276.87,-155.25 2245.8,-141 2190.89,-115.82 2024.28,-108.73 1927.5,-106.75\"/>\n<polygon fill=\"black\" stroke=\"black\" points=\"1927.57,-103.25 1917.5,-106.56 1927.43,-110.25 1927.57,-103.25\"/>\n<text text-anchor=\"middle\" x=\"2333.8\" y=\"-188.3\" font-family=\"Times New Roman,serif\" font-size=\"14.00\">rdfs:subClassOf</text>\n</g>\n<!-- 19&#45;&gt;9 -->\n<g id=\"edge21\" class=\"edge\">\n<title>19&#45;&gt;9</title>\n<path fill=\"none\" stroke=\"black\" d=\"M2312.02,-287.96C2305.7,-285.86 2299.06,-283.76 2292.8,-282 2257.72,-272.12 2236.8,-291.42 2212.8,-264 2186.34,-233.78 2229.23,-205.87 2204.8,-174 2178.88,-140.19 2156.15,-151.25 2114.8,-141 2051.52,-125.32 1977.69,-116.22 1925.08,-111.25\"/>\n<polygon fill=\"black\" stroke=\"black\" points=\"1925.13,-107.74 1914.85,-110.31 1924.49,-114.71 1925.13,-107.74\"/>\n<text text-anchor=\"middle\" x=\"2234.8\" y=\"-188.3\" font-family=\"Times New Roman,serif\" font-size=\"14.00\">rdf:type</text>\n</g>\n<!-- 19&#45;&gt;19 -->\n<g id=\"edge36\" class=\"edge\">\n<title>19&#45;&gt;19</title>\n<path fill=\"none\" stroke=\"black\" d=\"M2379.64,-307.88C2391.92,-307.88 2401.74,-305.25 2401.74,-300 2401.74,-296.31 2396.89,-293.91 2389.73,-292.82\"/>\n<polygon fill=\"black\" stroke=\"black\" points=\"2389.85,-289.32 2379.64,-292.12 2389.37,-296.3 2389.85,-289.32\"/>\n<text text-anchor=\"middle\" x=\"2447.74\" y=\"-296.3\" font-family=\"Times New Roman,serif\" font-size=\"14.00\">rdfs:subClassOf</text>\n</g>\n<!-- 19&#45;&gt;21 -->\n<g id=\"edge68\" class=\"edge\">\n<title>19&#45;&gt;21</title>\n<path fill=\"none\" stroke=\"black\" d=\"M2369.42,-286.32C2379.96,-280.48 2391.7,-272.87 2400.8,-264 2414.39,-250.75 2410.72,-241.77 2423.8,-228 2428.58,-222.96 2434.19,-218.17 2439.87,-213.85\"/>\n<polygon fill=\"black\" stroke=\"black\" points=\"2442.09,-216.57 2448.15,-207.88 2438,-210.89 2442.09,-216.57\"/>\n<text text-anchor=\"middle\" x=\"2469.8\" y=\"-242.3\" font-family=\"Times New Roman,serif\" font-size=\"14.00\">rdfs:subClassOf</text>\n</g>\n<!-- 20 -->\n<g id=\"node21\" class=\"node\">\n<title>20</title>\n<ellipse fill=\"none\" stroke=\"black\" cx=\"1603.8\" cy=\"-300\" rx=\"55.79\" ry=\"18\"/>\n<text text-anchor=\"middle\" x=\"1603.8\" y=\"-296.3\" font-family=\"Times New Roman,serif\" font-size=\"14.00\">ex:published</text>\n</g>\n<!-- 20&#45;&gt;3 -->\n<g id=\"edge12\" class=\"edge\">\n<title>20&#45;&gt;3</title>\n<path fill=\"none\" stroke=\"black\" d=\"M1604.68,-281.84C1606.13,-266.73 1609.91,-244.61 1619.8,-228 1622.5,-223.46 1625.99,-219.2 1629.79,-215.32\"/>\n<polygon fill=\"black\" stroke=\"black\" points=\"1632.37,-217.71 1637.34,-208.35 1627.62,-212.56 1632.37,-217.71\"/>\n<text text-anchor=\"middle\" x=\"1647.8\" y=\"-242.3\" font-family=\"Times New Roman,serif\" font-size=\"14.00\">rdfs:range</text>\n</g>\n<!-- 20&#45;&gt;8 -->\n<g id=\"edge92\" class=\"edge\">\n<title>20&#45;&gt;8</title>\n<path fill=\"none\" stroke=\"black\" d=\"M1556.64,-290.26C1537.79,-287.11 1515.83,-283.88 1495.8,-282 1430.61,-275.9 965.42,-293.16 906.8,-264 888.4,-254.85 895.58,-238.29 877.8,-228 851.49,-212.78 774.97,-203.12 719.11,-197.89\"/>\n<polygon fill=\"black\" stroke=\"black\" points=\"719.21,-194.39 708.93,-196.97 718.58,-201.36 719.21,-194.39\"/>\n<text text-anchor=\"middle\" x=\"928.8\" y=\"-242.3\" font-family=\"Times New Roman,serif\" font-size=\"14.00\">rdf:type</text>\n</g>\n<!-- 20&#45;&gt;9 -->\n<g id=\"edge87\" class=\"edge\">\n<title>20&#45;&gt;9</title>\n<path fill=\"none\" stroke=\"black\" d=\"M1593.54,-282C1580.85,-260.57 1560.45,-224.76 1556.8,-210 1552.95,-194.47 1547.24,-186.84 1556.8,-174 1587.26,-133.05 1617.18,-153 1666.8,-141 1708.3,-130.96 1755.54,-122.21 1792.41,-115.97\"/>\n<polygon fill=\"black\" stroke=\"black\" points=\"1793.23,-119.38 1802.52,-114.28 1792.08,-112.48 1793.23,-119.38\"/>\n<text text-anchor=\"middle\" x=\"1578.8\" y=\"-188.3\" font-family=\"Times New Roman,serif\" font-size=\"14.00\">rdf:type</text>\n</g>\n<!-- 20&#45;&gt;20 -->\n<g id=\"edge67\" class=\"edge\">\n<title>20&#45;&gt;20</title>\n<path fill=\"none\" stroke=\"black\" d=\"M1654.22,-307.81C1667.58,-307.36 1677.69,-304.76 1677.69,-300 1677.69,-296.54 1672.35,-294.22 1664.31,-293.04\"/>\n<polygon fill=\"black\" stroke=\"black\" points=\"1664.48,-289.55 1654.22,-292.19 1663.89,-296.52 1664.48,-289.55\"/>\n<text text-anchor=\"middle\" x=\"1732.69\" y=\"-296.3\" font-family=\"Times New Roman,serif\" font-size=\"14.00\">rdfs:subPropertyOf</text>\n</g>\n<!-- 20&#45;&gt;21 -->\n<g id=\"edge85\" class=\"edge\">\n<title>20&#45;&gt;21</title>\n<path fill=\"none\" stroke=\"black\" d=\"M1656.59,-293.77C1695.35,-290.07 1749.31,-285.22 1796.8,-282 1880.7,-276.31 2093.9,-286.97 2174.8,-264 2206.56,-254.98 2208.31,-237.96 2239.8,-228 2311.4,-205.36 2333.93,-223.54 2407.8,-210 2413.25,-209 2418.91,-207.79 2424.52,-206.47\"/>\n<polygon fill=\"black\" stroke=\"black\" points=\"2425.63,-209.81 2434.51,-204.02 2423.97,-203.01 2425.63,-209.81\"/>\n<text text-anchor=\"middle\" x=\"2273.3\" y=\"-242.3\" font-family=\"Times New Roman,serif\" font-size=\"14.00\">rdfs:domain</text>\n</g>\n<!-- 21&#45;&gt;7 -->\n<g id=\"edge73\" class=\"edge\">\n<title>21&#45;&gt;7</title>\n<path fill=\"none\" stroke=\"black\" d=\"M2520.27,-185.65C2555.44,-181.87 2604.55,-176.96 2647.8,-174 2672.7,-172.29 3079.5,-174 3096.8,-156 3109.9,-142.36 3124.69,-96.82 3065.8,-54 3018.74,-19.79 2147.6,-18.58 1913.37,-18.87\"/>\n<polygon fill=\"black\" stroke=\"black\" points=\"1913.35,-15.37 1903.35,-18.89 1913.36,-22.37 1913.35,-15.37\"/>\n<text text-anchor=\"middle\" x=\"3130.8\" y=\"-101.3\" font-family=\"Times New Roman,serif\" font-size=\"14.00\">rdf:type</text>\n</g>\n<!-- 21&#45;&gt;9 -->\n<g id=\"edge2\" class=\"edge\">\n<title>21&#45;&gt;9</title>\n<path fill=\"none\" stroke=\"black\" d=\"M2432.68,-180.85C2409.82,-174.61 2380.83,-165.92 2355.8,-156 2341.94,-150.51 2340.17,-144.96 2325.8,-141 2252.84,-120.89 2039.93,-111.57 1927.41,-107.94\"/>\n<polygon fill=\"black\" stroke=\"black\" points=\"1927.27,-104.44 1917.17,-107.62 1927.05,-111.43 1927.27,-104.44\"/>\n<text text-anchor=\"middle\" x=\"2401.8\" y=\"-144.8\" font-family=\"Times New Roman,serif\" font-size=\"14.00\">rdfs:subClassOf</text>\n</g>\n<!-- 21&#45;&gt;9 -->\n<g id=\"edge65\" class=\"edge\">\n<title>21&#45;&gt;9</title>\n<path fill=\"none\" stroke=\"black\" d=\"M2468.88,-173.62C2465.37,-162.33 2458.98,-148.37 2447.8,-141 2405.38,-113.03 2076.42,-107.38 1928.01,-106.26\"/>\n<polygon fill=\"black\" stroke=\"black\" points=\"1927.67,-102.76 1917.65,-106.19 1927.62,-109.76 1927.67,-102.76\"/>\n<text text-anchor=\"middle\" x=\"2483.8\" y=\"-144.8\" font-family=\"Times New Roman,serif\" font-size=\"14.00\">rdf:type</text>\n</g>\n<!-- 21&#45;&gt;21 -->\n<g id=\"edge22\" class=\"edge\">\n<title>21&#45;&gt;21</title>\n<path fill=\"none\" stroke=\"black\" d=\"M2518.7,-199.84C2531.6,-199.49 2541.49,-196.88 2541.49,-192 2541.49,-188.49 2536.38,-186.16 2528.72,-184.99\"/>\n<polygon fill=\"black\" stroke=\"black\" points=\"2528.96,-181.5 2518.7,-184.16 2528.38,-188.48 2528.96,-181.5\"/>\n<text text-anchor=\"middle\" x=\"2587.49\" y=\"-188.3\" font-family=\"Times New Roman,serif\" font-size=\"14.00\">rdfs:subClassOf</text>\n</g>\n<!-- 22 -->\n<g id=\"node23\" class=\"node\">\n<title>22</title>\n<ellipse fill=\"none\" stroke=\"black\" cx=\"655.8\" cy=\"-300\" rx=\"44.39\" ry=\"18\"/>\n<text text-anchor=\"middle\" x=\"655.8\" y=\"-296.3\" font-family=\"Times New Roman,serif\" font-size=\"14.00\">rdfs:label</text>\n</g>\n<!-- 22&#45;&gt;8 -->\n<g id=\"edge15\" class=\"edge\">\n<title>22&#45;&gt;8</title>\n<path fill=\"none\" stroke=\"black\" d=\"M655.8,-281.97C655.8,-265.38 655.8,-239.88 655.8,-220.43\"/>\n<polygon fill=\"black\" stroke=\"black\" points=\"659.3,-220.34 655.8,-210.34 652.3,-220.34 659.3,-220.34\"/>\n<text text-anchor=\"middle\" x=\"677.8\" y=\"-242.3\" font-family=\"Times New Roman,serif\" font-size=\"14.00\">rdf:type</text>\n</g>\n<!-- 22&#45;&gt;9 -->\n<g id=\"edge52\" class=\"edge\">\n<title>22&#45;&gt;9</title>\n<path fill=\"none\" stroke=\"black\" d=\"M698.27,-295C794.32,-285.94 1020,-264.61 1020.8,-264 1054.77,-238.03 1023.25,-202.87 1054.8,-174 1094.97,-137.23 1118.97,-149.24 1172.8,-141 1427.29,-102.05 1495.54,-147.82 1751.8,-123 1766.01,-121.62 1781.22,-119.51 1795.51,-117.23\"/>\n<polygon fill=\"black\" stroke=\"black\" points=\"1796.42,-120.62 1805.72,-115.55 1795.28,-113.72 1796.42,-120.62\"/>\n<text text-anchor=\"middle\" x=\"1076.8\" y=\"-188.3\" font-family=\"Times New Roman,serif\" font-size=\"14.00\">rdf:type</text>\n</g>\n<!-- 22&#45;&gt;22 -->\n<g id=\"edge86\" class=\"edge\">\n<title>22&#45;&gt;22</title>\n<path fill=\"none\" stroke=\"black\" d=\"M695.58,-307.87C708.11,-307.75 717.99,-305.13 717.99,-300 717.99,-296.4 713.1,-294.03 705.85,-292.9\"/>\n<polygon fill=\"black\" stroke=\"black\" points=\"705.81,-289.39 695.58,-292.13 705.29,-296.37 705.81,-289.39\"/>\n<text text-anchor=\"middle\" x=\"772.99\" y=\"-296.3\" font-family=\"Times New Roman,serif\" font-size=\"14.00\">rdfs:subPropertyOf</text>\n</g>\n</g>\n</svg>\n",
      "text/plain": [
       "<graphviz.graphs.Digraph at 0x2605ce0bb50>"
      ]
     },
     "metadata": {},
     "output_type": "display_data"
    }
   ],
   "source": [
    "# This cell will compute the closure of the rdfs-entailment of your graph and draw it.\n",
    "%rdf graph entail-rdfs -l library\n",
    "%rdf graph draw -l library"
   ]
  },
  {
   "cell_type": "code",
   "execution_count": 117,
   "metadata": {
    "deletable": false,
    "editable": false,
    "nbgrader": {
     "cell_type": "code",
     "checksum": "5ed490f52a613fecc4af92d779e2ec6a",
     "grade": true,
     "grade_id": "cell-37dd9e59365f85a7",
     "locked": true,
     "points": 1,
     "schema_version": 3,
     "solution": false,
     "task": false
    }
   },
   "outputs": [
    {
     "name": "stdout",
     "output_type": "stream",
     "text": [
      "Graphman: Graph labelled 'library' has been entailed using the RDFS regime.\n"
     ]
    }
   ],
   "source": [
    "# This test will check whether the entailment closure of your graph contains\n",
    "# all necessary class and property definitions. [1 point]\n",
    "%rdf graph entail-rdfs -l library\n",
    "store = %rdf -r\n",
    "graph = store['rdfgraphs']['library']\n",
    "\n",
    "contain_check(graph, get_uri(ex, \"Medium\"), RDF.type, RDFS.Class)\n",
    "contain_check(graph, get_uri(ex, \"Book\"), RDF.type, RDFS.Class)\n",
    "contain_check(graph, get_uri(ex, \"Movie\"), RDF.type, RDFS.Class)\n",
    "contain_check(graph, get_uri(ex, \"Person\"), RDF.type, RDFS.Class)\n",
    "contain_check(graph, get_uri(ex, \"createdBy\"), RDF.type, RDF.Property)\n",
    "contain_check(graph, get_uri(ex, \"authoredBy\"), RDF.type, RDF.Property)\n",
    "contain_check(graph, get_uri(ex, \"title\"), RDF.type, RDF.Property)\n",
    "contain_check(graph, get_uri(ex, \"published\"), RDF.type, RDF.Property)"
   ]
  },
  {
   "cell_type": "code",
   "execution_count": 118,
   "metadata": {
    "deletable": false,
    "editable": false,
    "nbgrader": {
     "cell_type": "code",
     "checksum": "9d6945a330859f0fcdd7a5f35e785d17",
     "grade": true,
     "grade_id": "cell-324f82b1b688bdd8",
     "locked": true,
     "points": 1,
     "schema_version": 3,
     "solution": false,
     "task": false
    }
   },
   "outputs": [
    {
     "name": "stdout",
     "output_type": "stream",
     "text": [
      "Graphman: Graph labelled 'library' has been entailed using the RDFS regime.\n"
     ]
    }
   ],
   "source": [
    "# This test will check whether the entailment closure of your graph contains\n",
    "# all necessary subclass and subproperty definitions. [1 point]\n",
    "%rdf graph entail-rdfs -l library\n",
    "store = %rdf -r\n",
    "graph = store['rdfgraphs']['library']\n",
    "\n",
    "contain_check(graph, get_uri(ex, \"Book\"), RDFS.subClassOf, get_uri(ex, \"Medium\"))\n",
    "contain_check(graph, get_uri(ex, \"Movie\"), RDFS.subClassOf, get_uri(ex, \"Medium\"))\n",
    "contain_check(graph, get_uri(ex, \"createdBy\"), RDFS.subPropertyOf, get_uri(ex, \"authoredBy\"))\n",
    "contain_check(graph, get_uri(ex, \"authoredBy\"), RDFS.subPropertyOf, get_uri(ex, \"createdBy\"))"
   ]
  },
  {
   "cell_type": "code",
   "execution_count": 119,
   "metadata": {
    "deletable": false,
    "editable": false,
    "nbgrader": {
     "cell_type": "code",
     "checksum": "da72dc2a4daaa4f27f6d061981c09796",
     "grade": true,
     "grade_id": "cell-3a66804cfcbe5d62",
     "locked": true,
     "points": 1,
     "schema_version": 3,
     "solution": false,
     "task": false
    }
   },
   "outputs": [
    {
     "name": "stdout",
     "output_type": "stream",
     "text": [
      "Graphman: Graph labelled 'library' has been entailed using the RDFS regime.\n"
     ]
    }
   ],
   "source": [
    "# This test will check whether the entailment closure of your graph contains\n",
    "# all necessary range and domain definitions. [1 point]\n",
    "%rdf graph entail-rdfs -l library\n",
    "store = %rdf -r\n",
    "\n",
    "graph = store['rdfgraphs']['library']\n",
    "\n",
    "contain_check(graph, get_uri(ex, \"createdBy\"), RDFS.domain, get_uri(ex, \"Medium\"))\n",
    "contain_check(graph, get_uri(ex, \"createdBy\"), RDFS.range, get_uri(ex, \"Person\"))\n",
    "contain_check(graph, get_uri(ex, \"authoredBy\"), RDFS.domain, get_uri(ex, \"Book\"))\n",
    "contain_check(graph, get_uri(ex, \"authoredBy\"), RDFS.range, get_uri(ex, \"Person\"))\n",
    "contain_check(graph, get_uri(ex, \"title\"), RDFS.domain, get_uri(ex, \"Medium\"))\n",
    "contain_check(graph, get_uri(ex, \"title\"), RDFS.range, RDFS.Literal)\n",
    "contain_check(graph, get_uri(ex, \"published\"), RDFS.domain, get_uri(ex, \"Medium\"))\n",
    "contain_check(graph, get_uri(ex, \"published\"), RDFS.range, RDFS.Literal)"
   ]
  },
  {
   "cell_type": "code",
   "execution_count": 120,
   "metadata": {
    "deletable": false,
    "editable": false,
    "nbgrader": {
     "cell_type": "code",
     "checksum": "dba4e3c7dc8db02e4e86ae50d2fc66c3",
     "grade": true,
     "grade_id": "cell-1deb9b6a3345d701",
     "locked": true,
     "points": 1,
     "schema_version": 3,
     "solution": false,
     "task": false
    }
   },
   "outputs": [
    {
     "name": "stdout",
     "output_type": "stream",
     "text": [
      "Graphman: Graph labelled 'library' has been entailed using the RDFS regime.\n"
     ]
    }
   ],
   "source": [
    "# This test will check whether the entailment closure of your graph contains\n",
    "# all specified facts. [1 point]\n",
    "%rdf graph entail-rdfs -l library\n",
    "store = %rdf -r\n",
    "graph = store['rdfgraphs']['library']\n",
    "\n",
    "contain_check(graph, get_uri(ex, \"DouglasAdams\"), RDF.type, get_uri(ex, \"Person\"))\n",
    "contain_check(graph, get_uri(ex, \"DouglasAdams\"), RDFS.label, Literal(\"Douglas Adams\"))\n",
    "contain_check(graph, get_uri(ex, \"HitchhikersGuide\"), RDF.type, get_uri(ex, \"Book\"))\n",
    "contain_check(graph, get_uri(ex, \"HitchhikersGuide\"), RDFS.label, Literal(\"The Hitchhiker's Guide to the Galaxy\"))\n",
    "contain_check(graph, get_uri(ex, \"HitchhikersGuide\"), get_uri(ex, \"authoredBy\"), get_uri(ex, \"DouglasAdams\"))\n",
    "contain_check(graph, get_uri(ex, \"HitchhikersGuide\"), get_uri(ex, \"published\"), Literal(\"1979-10-12\"))"
   ]
  },
  {
   "cell_type": "markdown",
   "metadata": {
    "deletable": false,
    "editable": false,
    "nbgrader": {
     "cell_type": "markdown",
     "checksum": "3e97ad7a0d07adae2cd320a3dc8bc1bc",
     "grade": false,
     "grade_id": "cell-a5cd7e400e7f49d8",
     "locked": true,
     "schema_version": 3,
     "solution": false,
     "task": false
    }
   },
   "source": [
    "## Other Vocabularies/Ontologies\n",
    "\n",
    "We looked at the RDF and RDFS vocabularies which are both very basic, domain-independent vocabularies. There are countless more domain specific vocabularies which provide classes, properties or even individuals with agreed upon meaning. We can use these vocabularies to make our graphs easier to interpret by humans and machines. For example, above we defined the properties creator and publish date. These properties are very general and thus often used. If everyone defined their own properties, we would have many properties with the same meaning. Instead if everyone agreed to use a specific URI for specifying e.g. the creator of a resource, it would be a lot easier to work on multiple graphs with different origin. An example for such a vocabulary is the well known Dublin Core(TM) vocabulary. This vocabulary defines 15 core properties to describe resources like creator, date, title, description, format and similar. "
   ]
  }
 ],
 "metadata": {
  "kernelspec": {
   "display_name": "Python 3.10.3 ('venv': venv)",
   "language": "python",
   "name": "python3"
  },
  "language_info": {
   "codemirror_mode": {
    "name": "ipython",
    "version": 3
   },
   "file_extension": ".py",
   "mimetype": "text/x-python",
   "name": "python",
   "nbconvert_exporter": "python",
   "pygments_lexer": "ipython3",
   "version": "3.10.3"
  },
  "vscode": {
   "interpreter": {
    "hash": "236d1e2f9dc49a72c901b5b1642c7cbd857213a1eb29334698947e241dc8edf0"
   }
  }
 },
 "nbformat": 4,
 "nbformat_minor": 4
}
