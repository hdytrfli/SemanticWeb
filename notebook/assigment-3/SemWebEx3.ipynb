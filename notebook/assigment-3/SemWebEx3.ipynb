{
 "cells": [
  {
   "cell_type": "code",
   "execution_count": null,
   "metadata": {
    "deletable": false,
    "editable": false,
    "nbgrader": {
     "cell_type": "code",
     "checksum": "30d8b0b6ba0ed36eb04b765832aa0801",
     "grade": false,
     "grade_id": "cell-62337619e946bfb7",
     "locked": true,
     "schema_version": 3,
     "solution": false,
     "task": false
    }
   },
   "outputs": [],
   "source": [
    "%reload_ext jupyter-rdfify"
   ]
  },
  {
   "cell_type": "code",
   "execution_count": null,
   "metadata": {
    "deletable": false,
    "editable": false,
    "nbgrader": {
     "cell_type": "code",
     "checksum": "6ef4f0a70d6213658c24f43d86e545ed",
     "grade": false,
     "grade_id": "cell-243b7ced18a1336a",
     "locked": true,
     "schema_version": 3,
     "solution": false,
     "task": false
    }
   },
   "outputs": [],
   "source": [
    "# This cell defines some helpers, imports and strings for tests. Run it!\n",
    "from rdflib import URIRef, BNode, Literal, XSD, RDF, RDFS\n",
    "ex = \"http://example.org/#\"\n",
    "triple = \"({}, {}, {})\"\n",
    "eNotContain = \"Your graph does not contain the triple:\\n{}.\"\n",
    "eBNode = \"The subject of the triple {} should be a blank node but it is {}\"\n",
    "eMultiple = \"Your graph contains multiple triples of the form {}.\"\n",
    "def uri(prefix, name):\n",
    "    return URIRef(ex+name)\n",
    "def st(node):\n",
    "    if isinstance(node, BNode):\n",
    "        return \"blank node\"\n",
    "    else:\n",
    "        return node.n3()\n",
    "def containCheck(g, s, p, o):\n",
    "    assert (s,p,o) in g, eNotContain.format(triple.format(st(s), st(p), st(o)))"
   ]
  },
  {
   "cell_type": "markdown",
   "metadata": {
    "deletable": false,
    "editable": false,
    "nbgrader": {
     "cell_type": "markdown",
     "checksum": "2a277a8140b4b03b21dc1f6a6f0c4caf",
     "grade": false,
     "grade_id": "cell-0fd22e5d0af2bcd4",
     "locked": true,
     "schema_version": 3,
     "solution": false,
     "task": false
    }
   },
   "source": [
    "The cell below defines some prefixes which you can and should use throughout the entire notebook. Run it!"
   ]
  },
  {
   "cell_type": "code",
   "execution_count": null,
   "metadata": {
    "deletable": false,
    "editable": false,
    "nbgrader": {
     "cell_type": "code",
     "checksum": "40db6048f17868c11eeef1a2753ac5c9",
     "grade": false,
     "grade_id": "cell-fb66abf182bcbaa9",
     "locked": true,
     "schema_version": 3,
     "solution": false,
     "task": false
    }
   },
   "outputs": [],
   "source": [
    "%%rdf turtle -p\n",
    "PREFIX rdf: <http://www.w3.org/1999/02/22-rdf-syntax-ns#>\n",
    "PREFIX rdfs: <http://www.w3.org/2000/01/rdf-schema#>\n",
    "PREFIX xsd: <http://www.w3.org/2001/XMLSchema#>"
   ]
  },
  {
   "cell_type": "markdown",
   "metadata": {
    "deletable": false,
    "editable": false,
    "nbgrader": {
     "cell_type": "markdown",
     "checksum": "50125331d40fa1986f2818b87017da1a",
     "grade": false,
     "grade_id": "cell-1dc846c20b17545c",
     "locked": true,
     "schema_version": 3,
     "solution": false,
     "task": false
    }
   },
   "source": [
    "# Vocabularies/Ontologies and Data Modelling\n",
    "\n",
    "Up to now, all our graphs had very little meaning and could only be understood by humans. This is because we introduced new URIs for concepts and relationships (e.g. ex:capital or ex:Germany) but didn't formally describe them. This makes inferencing and finding similar or associated information difficult. To formally conceptualize our information, we need specialized vocabularies. These vocabularies called ontologies, provide terms with an agreed upon meaning together with rules and restrictions. Except some meta-ontologies, most ontologies model a specific topic and should only be used in that domain.  \n",
    "Some problems that can be solved using such vocabularies are for example different URIs describing the same resource or a property implying another property.\n",
    "\n",
    "In this exercise we will take a look at some core ontologies and learn to write our own ontologies.\n",
    "\n",
    "## Task 1: RDF Vocabulary [4 points]\n",
    "\n",
    "RDF is not only a data model but it also defines some URIs for basic data modelling. We already learned of **rdf:type**, which is a very important property expressing the membership of an object to a specified class. But it also introduces some other properties and classes important for data modelling.\n",
    "\n",
    "### Reification\n",
    "\n",
    "Adding facts to a graph is very simple but what if we want to add a statement which may not be true? For this we need to treat a triple as an object itself. For example if the butler accuses the gardener of being the murderer, we can't just add the fact:\n",
    "\n",
    "**ex:Gardener a ex:Murderer .**\n",
    "\n",
    "as we do not know if the butler tells the truth. But we can reify this triple to make it a statement said by the butler using the properties **rdf:subject, rdf:predicate, rdf:object** and the class **rdf:Statement** which are all terms defined by RDF:\n",
    "\n",
    "**ex:Butler ex:said \\[  \n",
    "&nbsp;&nbsp;&nbsp;&nbsp;rdf:subject ex:Gardener ;  \n",
    "&nbsp;&nbsp;&nbsp;&nbsp;rdf:predicate rdf:type ;  \n",
    "&nbsp;&nbsp;&nbsp;&nbsp;rdf:object ex:Murderer ;  \n",
    "&nbsp;&nbsp;&nbsp;&nbsp;a rdf:Statement ;  \n",
    "] .**\n",
    "\n",
    "**Note: The rdf:type abbreviation \"a\" can only be used at predicate position. At other positions use rdf:type.**\n",
    "\n",
    "### 1a) Gossip [2 points]\n",
    "\n",
    "A group of friends gossiped. Bob said something interesting: He said that Eve heard that Mallory cheated on Oscar.\n",
    "\n",
    "Use nested reification to create a graph of Bob's statement.\n",
    "\n",
    "Use the following URIs:  \n",
    "Bob: **http://example.org/#Bob**  \n",
    "Eve: **http://example.org/#Eve**  \n",
    "Mallory: **http://example.org/#Mallory**  \n",
    "Oscar: **http://example.org/#Oscar**  \n",
    "said: **http://example.org/#said**  \n",
    "heard: **http://example.org/#heard**  \n",
    "cheated on: **http://example.org/#cheatedOn**  \n",
    "\n",
    "You may also use all terms from the RDF vocabulary."
   ]
  },
  {
   "cell_type": "code",
   "execution_count": null,
   "metadata": {
    "deletable": false,
    "nbgrader": {
     "cell_type": "code",
     "checksum": "65ceb7f2827385c5ab1c896d3275d025",
     "grade": false,
     "grade_id": "cell-242a1b3bec7afe75",
     "locked": false,
     "schema_version": 3,
     "solution": true,
     "task": false
    }
   },
   "outputs": [],
   "source": [
    "%%rdf turtle -l gossip\n",
    "### YOUR SOLUTION HERE"
   ]
  },
  {
   "cell_type": "code",
   "execution_count": null,
   "metadata": {
    "deletable": false,
    "editable": false,
    "nbgrader": {
     "cell_type": "code",
     "checksum": "de87358429fc1563391a37a122e039ab",
     "grade": true,
     "grade_id": "cell-c5d0a196cb766a04",
     "locked": true,
     "points": 0.5,
     "schema_version": 3,
     "solution": false,
     "task": false
    }
   },
   "outputs": [],
   "source": [
    "# This test will check whether your graph contains a statement by Bob. [0.5 points]\n",
    "store = %rdf -r\n",
    "g = store['rdfgraphs']['gossip']\n",
    "res = None\n",
    "res = list(g.objects(subject=uri(ex, \"Bob\"), predicate=uri(ex, \"said\")))\n",
    "x = triple.format(ex+\"Bob\", ex+\"said\", \"Blank node\")\n",
    "assert len(res) > 0, notContain.format(x)\n",
    "assert len(res) <= 1, eMultiple.format(x)\n",
    "assert isinstance(res[0], BNode), eBNode.format(x,res[0].n3())"
   ]
  },
  {
   "cell_type": "code",
   "execution_count": null,
   "metadata": {
    "deletable": false,
    "editable": false,
    "nbgrader": {
     "cell_type": "code",
     "checksum": "3c9fb2cbf9cd35f1bf3349ab28c2f86c",
     "grade": true,
     "grade_id": "cell-73c5f331e3d920dc",
     "locked": true,
     "points": 0.5,
     "schema_version": 3,
     "solution": false,
     "task": false
    }
   },
   "outputs": [],
   "source": [
    "# This test will check whether a statement in your graph is about what Eve heard. [0.5 points]\n",
    "store = %rdf -r\n",
    "g = store['rdfgraphs']['gossip']\n",
    "(res,res2) = (None, None)\n",
    "res = list(g.subjects(object=uri(ex, \"Eve\"), predicate=RDF.subject))\n",
    "x = triple.format(\"Blank node\", RDF.subject, ex+\"Eve\")\n",
    "assert len(res) > 0, notContain.format(x)\n",
    "assert len(res) <= 1, eMultiple.format(x)\n",
    "assert isinstance(res[0], BNode), eBNode.format(x,res[0].n3())"
   ]
  },
  {
   "cell_type": "code",
   "execution_count": null,
   "metadata": {
    "deletable": false,
    "editable": false,
    "nbgrader": {
     "cell_type": "code",
     "checksum": "28c72e800624f06681356ac12569df53",
     "grade": true,
     "grade_id": "cell-dae42e7390f903cf",
     "locked": true,
     "points": 1,
     "schema_version": 3,
     "solution": false,
     "task": false
    }
   },
   "outputs": [],
   "source": [
    "# This test will check whether the statement of what Eve heard is correct. [1 point]"
   ]
  },
  {
   "cell_type": "markdown",
   "metadata": {
    "deletable": false,
    "editable": false,
    "nbgrader": {
     "cell_type": "markdown",
     "checksum": "835fd5d9c54b1b3e2e7e498dd2164e09",
     "grade": false,
     "grade_id": "cell-9ebba7ead61e0295",
     "locked": true,
     "schema_version": 3,
     "solution": false,
     "task": false
    }
   },
   "source": [
    "### Primary values\n",
    "\n",
    "When using n-ary relations, it sometimes makes sense to have a **primary value**. The address example from the second exercise sheet was an n-ary relation but none of its values (street, house number, zip code, city) could be considered primary. But when talking about the price of somethinge in a specific currency, the price could be considered primary while the currency is a complementing value. To declare a primary value in an n-ary relation, one uses the **rdf:value** property defined in the RDF vocabulary. For example if a cheeseburger costs 1 Euro, you would write:\n",
    "\n",
    "**ex:Cheeseburger ex:price \\[  \n",
    "&nbsp;&nbsp;&nbsp;&nbsp;rdf:value \"1\" ;  \n",
    "&nbsp;&nbsp;&nbsp;&nbsp;ex:currency ex:Euro ;  \n",
    "\\] .**\n",
    "\n",
    "### 1b) Experiment [2 points]\n",
    "\n",
    "Some physicists conduct an experiment to determine the gravitational acceleration.  The result of the experiment is **9.81 m/s^2** with an **uncertainty of 0.02**. Because the gravitational acceleration varies based on location, we also need to know the location which is **latitude 50.78167189752423** and **longitude 6.049597427163315**. Use an n-ary relation with primary value to model this information.\n",
    "\n",
    "Use the following URIs:  \n",
    "Experiment: **http://example.org/#Experiment**  \n",
    "result: **http://example.org/#result**  \n",
    "unit: **http://example.org/#unit**  \n",
    "uncertainty: **http://example.org/#uncertainty**  \n",
    "latitude: **http://example.org/#latitude**  \n",
    "longitude: **http://example.org/#longitude**  \n",
    "\n",
    "Use xsd:decimal as datatype for decimal values and omit the datatype for string values. You may also use all terms from the RDF vocabulary."
   ]
  },
  {
   "cell_type": "code",
   "execution_count": null,
   "metadata": {
    "deletable": false,
    "nbgrader": {
     "cell_type": "code",
     "checksum": "824238b79ebd6a5286f126634db06111",
     "grade": false,
     "grade_id": "cell-e8ac7b236e8be8ce",
     "locked": false,
     "schema_version": 3,
     "solution": true,
     "task": false
    }
   },
   "outputs": [],
   "source": [
    "%%rdf turtle -l experiment\n",
    "### YOUR SOLUTION HERE"
   ]
  },
  {
   "cell_type": "code",
   "execution_count": null,
   "metadata": {
    "deletable": false,
    "editable": false,
    "nbgrader": {
     "cell_type": "code",
     "checksum": "02cc241ff9727eb088be2db6763d5a1f",
     "grade": true,
     "grade_id": "cell-f98d7467ba33b658",
     "locked": true,
     "points": 1,
     "schema_version": 3,
     "solution": false,
     "task": false
    }
   },
   "outputs": [],
   "source": [
    "# This test will check whether your graph contains the result of the experiment\n",
    "# and whether the primary value was chosen correctly. [1 point]\n",
    "store = %rdf -r\n",
    "g = store['rdfgraphs']['experiment']\n",
    "res = None\n",
    "res = list(g.objects(subject=uri(ex, \"Experiment\"), predicate=uri(ex, \"result\")))\n",
    "x = triple.format(ex+\"Experiment\", ex+\"result\", \"Blank node\")\n",
    "assert len(res) > 0, notContain.format(x)\n",
    "assert len(res) <= 1, eMultiple.format(x)\n",
    "assert isinstance(res[0], BNode), eBNode.format(x,res[0].n3())"
   ]
  },
  {
   "cell_type": "code",
   "execution_count": null,
   "metadata": {
    "deletable": false,
    "editable": false,
    "nbgrader": {
     "cell_type": "code",
     "checksum": "a461a3b71837ef6062524629800a9da0",
     "grade": true,
     "grade_id": "cell-d67b6ec756729f53",
     "locked": true,
     "points": 1,
     "schema_version": 3,
     "solution": false,
     "task": false
    }
   },
   "outputs": [],
   "source": [
    "# This test will check whether your graph contains all complementing values. [1 point]\n",
    "# Only gives points if the last test does not fail."
   ]
  },
  {
   "cell_type": "markdown",
   "metadata": {
    "deletable": false,
    "editable": false,
    "nbgrader": {
     "cell_type": "markdown",
     "checksum": "6cbde5bcc22a063f85a36a2230fc610f",
     "grade": false,
     "grade_id": "cell-62b9e77782c2aaa9",
     "locked": true,
     "schema_version": 3,
     "solution": false,
     "task": false
    }
   },
   "source": [
    "## Task 2: RDF Schema [8 points]\n",
    "\n",
    "RDF Schema (RDFS) is another [W3C recommended](https://www.w3.org/TR/rdf-schema/) vocabulary. RDFS provides means to specify characteristics of classes and properties independent of their domain. It can be seen as a weak ontology language for defining vocabularies. RDFS splits resources into three types: individuals, classes and properties. Individuals are instances of things, like a specific person or object. Classes are sets of individuals with similar properties like all persons or all cars. Properties describe individuals.\n",
    "\n",
    "### Classes\n",
    "\n",
    "Classes are sets of individuals with similar properties. To define our own class, we just have to declare the type of the class resource as **rdfs:Class**:\n",
    "\n",
    "**ex:Car a rdfs:Class .**\n",
    "\n",
    "To declare that an individual is part of a class, we also use rdf:type:\n",
    "\n",
    "**ex:BMW a ex:Car .**\n",
    "\n",
    "So rdfs:Class is the class containing all classes.\n",
    "\n",
    "### Properties\n",
    "\n",
    "As with classes, we can define our own properties to describe resources. For this, we use the class rdf:Property (Note that it is **rdf:Property** NOT rdfs:Property as it is defined in the RDF vocabulary). To define our own property, we just have to declare the type of the resource as **rdf:Property**:\n",
    "\n",
    "**ex:drives a rdf:Property .**\n",
    "\n",
    "Then we can use the property:\n",
    "\n",
    "**ex:Max ex:drives ex:BMW .**\n",
    "\n",
    "As rdf:Property is the class of all properties, it is also an rdfs:Class.\n",
    "\n",
    "### Subclasses and Subproperties\n",
    "\n",
    "While classes and properties are a nice way to organize resources, by themselves they do not provide means of infering new information. For this RDFS defines the two properties **rdfs:subClassOf** and **rdfs:subPropertyOf**. Any individual of a subclass also belongs to the superclass and any triple with the subproperty also holds for the superproperty. For example from the following graph:\n",
    "\n",
    "**\\# Defining classes and properties  \n",
    "ex:Car a rdfs:Class .  \n",
    "ex:Vehicle a rdfs:Class .  \n",
    "ex:drives a rdf:Property .  \n",
    "ex:operates a rdf:Property .  \n",
    "\\# Defining subclass- and subproperty-relations  \n",
    "ex:Car rdfs:subClassOf ex:Vehicle .  \n",
    "ex:drives rdfs:subPropertyOf ex:operates .  \n",
    "\\# Facts  \n",
    "ex:BMW a ex:Car .  \n",
    "ex:Max ex:drives ex:BMW .**\n",
    "\n",
    "these triples can be inferred:\n",
    "\n",
    "**ex:BMW a ex:Vehicle .  \n",
    "ex:Max ex:operates ex:BMW .**\n",
    "\n",
    "Both rdfs:subClassOf and rdfs:subPropertyOf are reflexive and transitive. So all \\[classes/properties\\] are \\[subclasses/subproperties\\] of themselves and when x is a \\[subclass/subproperty\\] of y and y is a \\[subclass/subproperty\\] of z then x is also a \\[subclass/subproperty\\] of z.\n",
    "\n",
    "To define that two classes or properties are equal, you just add a subclass/subproperty relation in both directions:\n",
    "\n",
    "**ex:Car rdfs:subClassOf ex:Automobile .  \n",
    "ex:Automobile rdfs:subClassOf ex:Car .  \n",
    "ex:drives rdfs:subPropertyOf ex:Steers .  \n",
    "ex:Steers rdfs:subPropertyOf ex:drives .**\n",
    "\n",
    "RDFS defines a class rdfs:Resource, which is the superclass of all classes.\n",
    "\n",
    "### Domains and Ranges\n",
    "\n",
    "Another way to infer new information is by using property domains and ranges. The domain of a property defines the class of the subject in a triple and the range the class of the object. For this we use the properties **rdfs:domain** and **rdfs:range**. For example, given the graph:\n",
    "\n",
    "**ex:Car a rdfs:Class .  \n",
    "ex:Person a rdfs:Class .  \n",
    "ex:drives a rdf:Property .  \n",
    "ex:drives rdfs:domain ex:Person .  \n",
    "ex:drives rdfs:range ex:Car .  \n",
    "ex:Max ex:drives ex:BMW .**\n",
    "\n",
    "we can infer the triples:\n",
    "\n",
    "**ex:Max a ex:Person .  \n",
    "ex:BMW a ex:Car .**\n",
    "\n",
    "Because ex:drives has the domain ex:Person and range ex:Car, ex:Max, who appears as subject of ex:drives, has to be a ex:Person, and ex:BMW, which appears as object of ex:drives, has to be a ex:Car.\n",
    "\n",
    "Many RDFS properties have predefined domains and ranges. For example rdfs:domain and rdfs:range themselves have rdf:Property as a domain and rdfs:Class as range. This means that we can omit the first three triples in the example above as they can be inferred by the fourth and fifth triple.\n",
    "\n",
    "Be careful when using multiple domains and ranges as they apply conjunctively and not disjunctively. For example:\n",
    "\n",
    "**ex:drives rdfs:range ex:Car .  \n",
    "ex:drives rdfs:range ex:Ship .**\n",
    "\n",
    "One would think that this means that the object of ex:drives is either a car or a ship but it means that its object is a car and a ship at the same time which is probably unintended. A better way to model this would be the following:\n",
    "\n",
    "**ex:Car rdfs:subClassOf ex:Vehicle .  \n",
    "ex:Ship rdfs:subClassOf ex:Vehicle .  \n",
    "ex:drives rdfs:range ex:Vehicle .**\n",
    "\n",
    "### Comparison to Object-Oriented Programming\n",
    "\n",
    "One may compare the class and property system of RDFS to object-oriented programming but this can be misleading. In oop, one defines classes in terms of what properties they have, while in RDFS one defines properties in terms of which classes of instances they apply to. So instead of saying: \"x belongs to class y so it has to have property z\", we say \"Property z is used with x, so x has to belong to class y\".\n",
    "\n",
    "\n",
    "### Other Useful Properties\n",
    "\n",
    "RDFS also defines the following useful properties:\n",
    "\n",
    "**rdfs:label**: Specifies a human-readable label for a resource. We already used this in prior exercises to give resources literal names.\n",
    "\n",
    "**rdfs:comment**: Specifies a human-readable description for a resource.\n",
    "\n",
    "**rdfs:seeAlso**: Specifies a generic link. Useful for linking resources to similar resources or resources that provide additional information.\n",
    "\n",
    "**rdfs:isDefinedBy**: Relate a resource to its definition. Can be used to indicate a vocabulary in which the resource is defined.\n",
    "\n",
    "### Entailment\n",
    "\n",
    "Using the RDFS vocabulary and its rules, we can now rdfs-entail a graph. If a graph A rdfs-entails a graph B, every rdfs-interpretation which satisfies graph A also satisfies graph B. With this we can implicitly deduct semantics for our graphs instead of explicitly specifying the meaning of information. For example, we can describe 'what a car is' without using attributes describing it. We implicitly specify it by stating that a car is a vehicle and that vehicles can be driven. Using this, we can give a machine interpretable meaning to resources and provide a more general description. RDFS-Entailment is only one of many possible entailment regimes. For more information on RDFS-Entailment, other entailment regimes and rdf semantics in general please consult this [W3C recommendation](https://www.w3.org/TR/rdf11-mt/).\n",
    "\n",
    "### 2a) Pets [4 points]\n",
    "\n",
    "Model the following information using the RDFS vocabulary:  \n",
    "All mammals are animals. All Humans, Canines and Felines are mammals. All dogs and foxes are Canines. Only humans have pets (http://example.org/#hasPet). Having a dog (http://example.org/#hasDog) means having a pet which is a dog.\n",
    "\n",
    "Also add that Max has a Dog with the name (rdfs:label) \"Spike\" and the description (rdfs:comment) \"A gray bulldog. He likes to chase cats.\".\n",
    "\n",
    "Use the following URIs:  \n",
    "Animals: **http://example.org/#Animal**  \n",
    "Mammals: **http://example.org/#Mammal**  \n",
    "Humans: **http://example.org/#Human**  \n",
    "Canines: **http://example.org/#Canine**  \n",
    "Felines: **http://example.org/#Feline**  \n",
    "Dogs: **http://example.org/#Dog**  \n",
    "Foxes: **http://example.org/#Fox**  \n",
    "Has a pet: **http://example.org/#hasPet**  \n",
    "Has a dog: **http://example.org/#hasDog**  \n",
    "Max: **http://example.org/#Max**  \n",
    "Spike: **http://example.org/#Spike**\n",
    "\n",
    "You may also use all terms from the RDF and RDFS vocabularies. You may omit or keep as many triples as long as the rdfs-entailment closure stays the same."
   ]
  },
  {
   "cell_type": "code",
   "execution_count": null,
   "metadata": {
    "deletable": false,
    "nbgrader": {
     "cell_type": "code",
     "checksum": "fd562bb87d0358fc138c113e18ad0c5b",
     "grade": false,
     "grade_id": "cell-29a88032a0541ea5",
     "locked": false,
     "schema_version": 3,
     "solution": true,
     "task": false
    }
   },
   "outputs": [],
   "source": [
    "%%rdf turtle -l pets\n",
    "# These are just some axiomatic triples. Do not remove them.\n",
    "rdfs:subClassOf rdfs:domain rdfs:Class .\n",
    "rdfs:subClassOf rdfs:range rdfs:Class .\n",
    "rdfs:range rdfs:range rdfs:Class .\n",
    "rdfs:range rdfs:domain rdf:Property .\n",
    "rdfs:domain rdfs:range rdfs:Class .\n",
    "rdfs:domain rdfs:domain rdf:Property .\n",
    "\n",
    "### YOUR SOLUTION HERE"
   ]
  },
  {
   "cell_type": "markdown",
   "metadata": {
    "deletable": false,
    "editable": false,
    "nbgrader": {
     "cell_type": "markdown",
     "checksum": "6e2624d1f00a5fae8cf82f825ee61616",
     "grade": false,
     "grade_id": "cell-5aed95188f6f9a1d",
     "locked": true,
     "schema_version": 3,
     "solution": false,
     "task": false
    }
   },
   "source": [
    "The cell below will automatically compute the closure of the rdfs-entailment for your graph. The extension uses a brute-force approach and only a finite set of axiomatic triples. It also omits most axiomatic triples to make the graph less cluttered so the closure will not be complete but best-effort. Note that this graph grows quite quickly."
   ]
  },
  {
   "cell_type": "code",
   "execution_count": null,
   "metadata": {
    "deletable": false,
    "editable": false,
    "nbgrader": {
     "cell_type": "code",
     "checksum": "4cab0e2209ac2db99010c9005ed4e53b",
     "grade": false,
     "grade_id": "cell-172648f531b503d8",
     "locked": true,
     "schema_version": 3,
     "solution": false,
     "task": false
    }
   },
   "outputs": [],
   "source": [
    "# This cell will compute the closure of the rdfs-entailment of your graph and draw it.\n",
    "%rdf graph entail-rdfs -l pets\n",
    "%rdf graph draw -l pets"
   ]
  },
  {
   "cell_type": "code",
   "execution_count": null,
   "metadata": {
    "deletable": false,
    "editable": false,
    "nbgrader": {
     "cell_type": "code",
     "checksum": "a94b904955eb7de9a24d261b00e27ef8",
     "grade": true,
     "grade_id": "cell-545a303d2dc929f7",
     "locked": true,
     "points": 1,
     "schema_version": 3,
     "solution": false,
     "task": false
    }
   },
   "outputs": [],
   "source": [
    "# This test will check whether the entailment closure of your graph contains\n",
    "# all necessary class and property definitions. [1 point]\n",
    "%rdf graph entail-rdfs -l pets\n",
    "store = %rdf -r\n",
    "g = store['rdfgraphs']['pets']\n",
    "containCheck(g, uri(ex, \"Animal\"), RDF.type, RDFS.Class)\n",
    "containCheck(g, uri(ex, \"Mammal\"), RDF.type, RDFS.Class)\n",
    "containCheck(g, uri(ex, \"hasPet\"), RDF.type, RDF.Property)"
   ]
  },
  {
   "cell_type": "code",
   "execution_count": null,
   "metadata": {
    "deletable": false,
    "editable": false,
    "nbgrader": {
     "cell_type": "code",
     "checksum": "869f7d9355cc428b6881c2b032364b6c",
     "grade": true,
     "grade_id": "cell-870e8045b6da1343",
     "locked": true,
     "points": 1,
     "schema_version": 3,
     "solution": false,
     "task": false
    }
   },
   "outputs": [],
   "source": [
    "# This test will check whether the entailment closure of your graph contains\n",
    "# all necessary subclass and subproperty definitions. [1 point]\n",
    "%rdf graph entail-rdfs -l pets\n",
    "store = %rdf -r\n",
    "g = store['rdfgraphs']['pets']\n",
    "containCheck(g, uri(ex, \"Mammal\"), RDFS.subClassOf, uri(ex, \"Animal\"))\n",
    "containCheck(g, uri(ex, \"Human\"), RDFS.subClassOf, uri(ex, \"Animal\"))"
   ]
  },
  {
   "cell_type": "code",
   "execution_count": null,
   "metadata": {
    "deletable": false,
    "editable": false,
    "nbgrader": {
     "cell_type": "code",
     "checksum": "f178619f8c8eb742c6f3ded04b251edd",
     "grade": true,
     "grade_id": "cell-bb9fd35fae47263f",
     "locked": true,
     "points": 1,
     "schema_version": 3,
     "solution": false,
     "task": false
    }
   },
   "outputs": [],
   "source": [
    "# This test will check whether the entailment closure of your graph contains\n",
    "# all necessary range and domain definitions. [1 point]\n",
    "%rdf graph entail-rdfs -l pets\n",
    "store = %rdf -r\n",
    "g = store['rdfgraphs']['pets']\n",
    "containCheck(g, uri(ex, \"hasPet\"), RDFS.domain, uri(ex, \"Human\"))"
   ]
  },
  {
   "cell_type": "code",
   "execution_count": null,
   "metadata": {
    "deletable": false,
    "editable": false,
    "nbgrader": {
     "cell_type": "code",
     "checksum": "6d8bad43c1f28c95b6f387a0aa5666bb",
     "grade": true,
     "grade_id": "cell-98cbe50027bad490",
     "locked": true,
     "points": 1,
     "schema_version": 3,
     "solution": false,
     "task": false
    }
   },
   "outputs": [],
   "source": [
    "# This test will check whether the entailment closure of your graph contains\n",
    "# all specified facts. [1 point]"
   ]
  },
  {
   "cell_type": "markdown",
   "metadata": {
    "deletable": false,
    "editable": false,
    "nbgrader": {
     "cell_type": "markdown",
     "checksum": "f042cdc8a3a53b883d268f41030e49e6",
     "grade": false,
     "grade_id": "cell-0bfc8cc310a8f149",
     "locked": true,
     "schema_version": 3,
     "solution": false,
     "task": false
    }
   },
   "source": [
    "#### 2b) Library [4 points]\n",
    "\n",
    "Model the following information using the RDFS vocabulary: All books and movies are mediums. The creator of a medium is a person and only mediums have a creator. Only books have an author and the author of a book is also the creator. Only mediums have titles and a publish date.\n",
    "\n",
    "Also add that Douglas Adams is the author of a book with the title \"The Hitchhiker's Guide to the Galaxy\" and published \"1979-10-12\".\n",
    "\n",
    "Use the following URIs:  \n",
    "Medium: **http://example.org/#Medium**  \n",
    "Books: **http://example.org/#Book**  \n",
    "Movies: **http://example.org/#Movie**  \n",
    "Persons: **http://example.org/#Person**  \n",
    "creator: **http://example.org/#createdBy**  \n",
    "author: **http://example.org/#authoredBy**  \n",
    "title: **http://example.org/#title**  \n",
    "publish date: **http://example.org/#published**  \n",
    "Douglas Adams: **http://example.org/#DouglasAdams**  \n",
    "The Hitchhiker's Guide to the Galaxy: **http://example.org/#HitchhikersGuide**\n",
    "\n",
    "You may use all terms from the RDFS vocabulary. Omit datatypes of literals."
   ]
  },
  {
   "cell_type": "code",
   "execution_count": null,
   "metadata": {
    "deletable": false,
    "nbgrader": {
     "cell_type": "code",
     "checksum": "d3a6176b68fed76a0b00e7ef281ecb7a",
     "grade": false,
     "grade_id": "cell-f3aaa3f152446c75",
     "locked": false,
     "schema_version": 3,
     "solution": true,
     "task": false
    }
   },
   "outputs": [],
   "source": [
    "%%rdf turtle -l library\n",
    "# These are just some axiomatic triples. Do not remove them.\n",
    "rdfs:subClassOf rdfs:domain rdfs:Class .\n",
    "rdfs:subClassOf rdfs:range rdfs:Class .\n",
    "rdfs:range rdfs:range rdfs:Class .\n",
    "rdfs:range rdfs:domain rdf:Property .\n",
    "rdfs:domain rdfs:range rdfs:Class .\n",
    "rdfs:domain rdfs:domain rdf:Property .\n",
    "\n",
    "### YOUR SOLUTION HERE"
   ]
  },
  {
   "cell_type": "code",
   "execution_count": null,
   "metadata": {
    "deletable": false,
    "editable": false,
    "nbgrader": {
     "cell_type": "code",
     "checksum": "2d1bb46414ec72a592ec4ec1e31e1eeb",
     "grade": false,
     "grade_id": "cell-1bf611f650e94a71",
     "locked": true,
     "schema_version": 3,
     "solution": false,
     "task": false
    }
   },
   "outputs": [],
   "source": [
    "# This cell will compute the closure of the rdfs-entailment of your graph and draw it.\n",
    "%rdf graph entail-rdfs -l library\n",
    "%rdf graph draw -l library"
   ]
  },
  {
   "cell_type": "code",
   "execution_count": null,
   "metadata": {
    "deletable": false,
    "editable": false,
    "nbgrader": {
     "cell_type": "code",
     "checksum": "5ed490f52a613fecc4af92d779e2ec6a",
     "grade": true,
     "grade_id": "cell-37dd9e59365f85a7",
     "locked": true,
     "points": 1,
     "schema_version": 3,
     "solution": false,
     "task": false
    }
   },
   "outputs": [],
   "source": [
    "# This test will check whether the entailment closure of your graph contains\n",
    "# all necessary class and property definitions. [1 point]"
   ]
  },
  {
   "cell_type": "code",
   "execution_count": null,
   "metadata": {
    "deletable": false,
    "editable": false,
    "nbgrader": {
     "cell_type": "code",
     "checksum": "9d6945a330859f0fcdd7a5f35e785d17",
     "grade": true,
     "grade_id": "cell-324f82b1b688bdd8",
     "locked": true,
     "points": 1,
     "schema_version": 3,
     "solution": false,
     "task": false
    }
   },
   "outputs": [],
   "source": [
    "# This test will check whether the entailment closure of your graph contains\n",
    "# all necessary subclass and subproperty definitions. [1 point]"
   ]
  },
  {
   "cell_type": "code",
   "execution_count": null,
   "metadata": {
    "deletable": false,
    "editable": false,
    "nbgrader": {
     "cell_type": "code",
     "checksum": "da72dc2a4daaa4f27f6d061981c09796",
     "grade": true,
     "grade_id": "cell-3a66804cfcbe5d62",
     "locked": true,
     "points": 1,
     "schema_version": 3,
     "solution": false,
     "task": false
    }
   },
   "outputs": [],
   "source": [
    "# This test will check whether the entailment closure of your graph contains\n",
    "# all necessary range and domain definitions. [1 point]"
   ]
  },
  {
   "cell_type": "code",
   "execution_count": null,
   "metadata": {
    "deletable": false,
    "editable": false,
    "nbgrader": {
     "cell_type": "code",
     "checksum": "dba4e3c7dc8db02e4e86ae50d2fc66c3",
     "grade": true,
     "grade_id": "cell-1deb9b6a3345d701",
     "locked": true,
     "points": 1,
     "schema_version": 3,
     "solution": false,
     "task": false
    }
   },
   "outputs": [],
   "source": [
    "# This test will check whether the entailment closure of your graph contains\n",
    "# all specified facts. [1 point]"
   ]
  },
  {
   "cell_type": "markdown",
   "metadata": {
    "deletable": false,
    "editable": false,
    "nbgrader": {
     "cell_type": "markdown",
     "checksum": "3e97ad7a0d07adae2cd320a3dc8bc1bc",
     "grade": false,
     "grade_id": "cell-a5cd7e400e7f49d8",
     "locked": true,
     "schema_version": 3,
     "solution": false,
     "task": false
    }
   },
   "source": [
    "## Other Vocabularies/Ontologies\n",
    "\n",
    "We looked at the RDF and RDFS vocabularies which are both very basic, domain-independent vocabularies. There are countless more domain specific vocabularies which provide classes, properties or even individuals with agreed upon meaning. We can use these vocabularies to make our graphs easier to interpret by humans and machines. For example, above we defined the properties creator and publish date. These properties are very general and thus often used. If everyone defined their own properties, we would have many properties with the same meaning. Instead if everyone agreed to use a specific URI for specifying e.g. the creator of a resource, it would be a lot easier to work on multiple graphs with different origin. An example for such a vocabulary is the well known Dublin Core(TM) vocabulary. This vocabulary defines 15 core properties to describe resources like creator, date, title, description, format and similar. "
   ]
  }
 ],
 "metadata": {
  "kernelspec": {
   "display_name": "Python 3",
   "language": "python",
   "name": "python3"
  },
  "language_info": {
   "codemirror_mode": {
    "name": "ipython",
    "version": 3
   },
   "file_extension": ".py",
   "mimetype": "text/x-python",
   "name": "python",
   "nbconvert_exporter": "python",
   "pygments_lexer": "ipython3",
   "version": "3.8.5"
  }
 },
 "nbformat": 4,
 "nbformat_minor": 4
}
